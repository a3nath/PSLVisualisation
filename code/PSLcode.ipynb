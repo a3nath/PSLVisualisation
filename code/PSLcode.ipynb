{
  "metadata": {
    "language_info": {
      "codemirror_mode": {
        "name": "python",
        "version": 3
      },
      "file_extension": ".py",
      "mimetype": "text/x-python",
      "name": "python",
      "nbconvert_exporter": "python",
      "pygments_lexer": "ipython3",
      "version": "3.10.0-final"
    },
    "kernelspec": {
      "name": "python3",
      "display_name": "Python 3.10.0 64-bit",
      "metadata": {
        "interpreter": {
          "hash": "aee8b7b246df8f9039afb4144a1f6fd8d2ca17a180786b69acc140d282b71a49"
        }
      }
    }
  },
  "nbformat_minor": 4,
  "nbformat": 4,
  "cells": [
    {
      "cell_type": "code",
      "source": [],
      "metadata": {},
      "execution_count": null,
      "outputs": []
    },
    {
      "cell_type": "code",
      "execution_count": 6,
      "metadata": {},
      "outputs": [
        {
          "output_type": "stream",
          "name": "stdout",
          "text": [
            "      Match_id  Innings  Over  Ball       Batting_team      Bowling_team  \\\n0            1        1     0     1     Peshawar Zalmi  Islamabad United   \n1            1        1     0     2     Peshawar Zalmi  Islamabad United   \n2            1        1     0     3     Peshawar Zalmi  Islamabad United   \n3            1        1     0     4     Peshawar Zalmi  Islamabad United   \n4            1        1     0     5     Peshawar Zalmi  Islamabad United   \n...        ...      ...   ...   ...                ...               ...   \n5409        24        2    15     6  Quetta Gladiators    Peshawar Zalmi   \n5410        24        2    15     7  Quetta Gladiators    Peshawar Zalmi   \n5411        24        2    16     1  Quetta Gladiators    Peshawar Zalmi   \n5412        24        2    16     2  Quetta Gladiators    Peshawar Zalmi   \n5413        24        2    16     3  Quetta Gladiators    Peshawar Zalmi   \n\n       Batsman_strike     Non_striker          Bowler  Batsman_runs  \\\n0     Mohammad Hafeez        DJ Malan  Mohammad Irfan             0   \n1        Kamran Akmal        DJ Malan  Mohammad Irfan             1   \n2            DJ Malan    Kamran Akmal  Mohammad Irfan             0   \n3            DJ Malan    Kamran Akmal  Mohammad Irfan             0   \n4            DJ Malan    Kamran Akmal  Mohammad Irfan             0   \n...               ...             ...             ...           ...   \n5409       Hasan Khan        RR Emrit      Wahab Riaz             0   \n5410       Hasan Khan        RR Emrit      Wahab Riaz             0   \n5411   Zulfiqar Babar        RR Emrit       Hasan Ali             1   \n5412         RR Emrit  Zulfiqar Babar       Hasan Ali             1   \n5413   Zulfiqar Babar        RR Emrit       Hasan Ali             0   \n\n      Extra_runs Dismisal_kind Player_dismissed  \n0              0        caught  Mohammad Hafeez  \n1              0   No dismisal      No dismisal  \n2              0   No dismisal      No dismisal  \n3              0   No dismisal      No dismisal  \n4              0   No dismisal      No dismisal  \n...          ...           ...              ...  \n5409           1   No dismisal      No dismisal  \n5410           0        caught       Hasan Khan  \n5411           0   No dismisal      No dismisal  \n5412           0   No dismisal      No dismisal  \n5413           0        bowled   Zulfiqar Babar  \n\n[5414 rows x 13 columns]\n"
          ]
        }
      ],
      "source": [
        "import os\n",
        "import numpy as np\n",
        "import pandas as pd\n",
        "import plotly\n",
        "import chart_studio.plotly as py\n",
        "import plotly.graph_objs as go\n",
        "import ipywidgets as wg\n",
        "from scipy import stats\n",
        "from IPython.display import display\n",
        "from urllib.request import urlopen\n",
        "from plotly.subplots import make_subplots\n",
        "\n",
        "psldata = pd.ExcelFile(r'/Users/Amar/Documents/WD/projects/PSLVisualisation/data/All deliveries.xlsx')\n",
        "df = pd.read_excel(psldata)\n",
        "\n",
        "df.iloc[:,-2:] = df.iloc[:,-2:].fillna('No dismisal')\n",
        "\n",
        "print(df)\n",
        "\n"
      ]
    },
    {
      "cell_type": "code",
      "source": [
        "\n",
        "##importing libraries\n",
        "\n",
        "import os\n",
        "import numpy as np\n",
        "import pandas as pd\n",
        "import plotly\n",
        "import chart_studio.plotly as py\n",
        "import plotly.graph_objs as go\n",
        "import ipywidgets as wg\n",
        "from scipy import stats\n",
        "from IPython.display import display\n",
        "from urllib.request import urlopen\n",
        "from plotly.subplots import make_subplots\n",
        "\n",
        "\n",
        "#importing data file\n",
        "psldata = pd.ExcelFile(r'/Users/Amar/Documents/WD/projects/PSLVisualisation/data/All deliveries.xlsx')\n",
        "df = pd.read_excel(psldata)\n",
        "\n",
        "\n",
        "##cleaning data\n",
        "#Replaced Nas\n",
        "df.iloc[:,-2:] = df.iloc[:,-2:].fillna('No dismisal')\n",
        "\n",
        "\n",
        "# In[324]:\n",
        "\n",
        "\n",
        "def wick(x):\n",
        "    if x != \"No dismisal\":\n",
        "        return 1\n",
        "    else:\n",
        "        return 0\n",
        "df['wicket'] = df['Dismisal_kind'].apply(lambda x: wick(x))\n",
        "\n",
        "\n",
        "\n",
        "\n",
        "def isSix(x):\n",
        "    if x == 6:\n",
        "        return 1\n",
        "    else:\n",
        "        return 0\n",
        "    \n",
        "def isFour(x):\n",
        "    if x == 4:\n",
        "        return 1\n",
        "    else:\n",
        "        return 0\n",
        "df['Six'] = df['Batsman_runs'].map(lambda x: isSix(x))\n",
        "df['Four'] = df['Batsman_runs'].map(lambda x: isFour(x))\n",
        "\n",
        "\n",
        "\n",
        "#Ball-by-ball detail for each batsman\n",
        "\n",
        "df_bat = pd.merge(df.groupby(['Batsman_strike','Match_id']).sum().reset_index()[['Batsman_strike','Match_id','Batsman_runs']], df.groupby(['Batsman_strike', 'Match_id']).count().reset_index()[['Batsman_strike','Match_id', 'Ball']].rename(columns = {'Ball': 'Balls_played'}), on = ['Batsman_strike', 'Match_id'])\n",
        "\n",
        "\n",
        "\n",
        "##Batting datafrane\n",
        "df_batAvg = pd.merge(pd.merge(df_bat.groupby('Batsman_strike').mean().reset_index()[['Batsman_strike','Batsman_runs', 'Balls_played']].rename(columns = {'Batsman_runs' : 'AvgRuns_match' , 'Balls_played': 'AvgBalls_match'}), df[['Batsman_strike', 'Batting_team']].drop_duplicates(keep = 'first'), on = 'Batsman_strike') , pd.merge(df.groupby(['Batsman_strike']).sum().reset_index()[['Batsman_strike', 'Batsman_runs', 'Six', 'Four']].rename(columns = {'Batsman_runs': 'TotalRuns', 'Six':'TotalSixes', 'Four':'TotalFours'}), df.groupby(['Batsman_strike']).count().reset_index()[['Batsman_strike' , 'Ball']].rename(columns = {'Ball': 'Balls_played'}), on ='Batsman_strike'), on = 'Batsman_strike')\n",
        "                                                                                                                                     \n",
        "                                                                                                                                     \n",
        "\n",
        "df_batAvg['Runs_sq'] = 0\n",
        "df_batAvg['Matches_played'] = 0\n",
        "\n",
        "\n",
        "#To calculate variance\n",
        "for i in range(len(df_batAvg)):\n",
        "    for j in range(len(df_bat)):\n",
        "        if df_batAvg.iloc[i]['Batsman_strike'] == df_bat.iloc[j]['Batsman_strike']:\n",
        "            df_batAvg['Runs_sq'].iloc[i] += df_bat.iloc[j]['Batsman_runs'] **2\n",
        "            df_batAvg['Matches_played'].iloc[i] += 1\n",
        "\n",
        "\n",
        "#Strke rate, % boundary and Variance\n",
        "df_batAvg['Strike_rate'] = df_batAvg['TotalRuns'] * 100 /df_batAvg['Balls_played']\n",
        "df_batAvg['PercentageRuns_boundary'] = (df_batAvg['TotalSixes']* 6 + df_batAvg['TotalFours'] * 4) * 100/df_batAvg['TotalRuns']\n",
        "df_batAvg[\"Var\"] = \n",
        "(df_batAvg['Runs_sq'] - df_batAvg['Matches_played']*(df_batAvg['AvgRuns_match']**2))/(df_batAvg['Matches_played'] - 1)\n",
        "df_batAvg = df_batAvg.sort_values(by = 'TotalRuns', ascending = False)\n",
        "\n",
        "\n",
        "##Batsman Scatter\n",
        "\n",
        "z = df_batAvg['Batsman_strike']\n",
        "trace = go.Scatter(y = df_batAvg['Strike_rate'], x= df_batAvg['AvgRuns_match'], mode = 'markers', showlegend = False , text = df_batAvg['Batsman_strike'] + \"  \" + df_batAvg['Batting_team'], hoverinfo =  \"text\", marker = dict(size = 20, symbol = 'circle' , cmin = 0, autocolorscale = True, reversescale = True, colorbar = {'title' : {'text': 'Score variance'}}, color = df_batAvg['Var']))\n",
        "data = [trace]\n",
        "\n",
        "layout = go.Layout(paper_bgcolor = 'white',plot_bgcolor = 'white' , yaxis = dict(title = dict(text = \"Strike rate\" , font = dict(color ='black')) ,showgrid = True, zeroline = False, color = 'black'), xaxis = dict( title= dict( text = 'Average runs'), showgrid = False, zeroline= False), title = dict(text = \"All batsman's performance - Average runs, Strike rate, Score variance\"))\n",
        "fig = go.Figure(data = data, layout = layout)\n",
        "plotly.offline.init_notebook_mode(connected=True)\n",
        "plotly.offline.plot(fig, include_plotlyjs = False, output_type = 'div')\n",
        "\n",
        "plotly.plot(fig)\n",
        "\n",
        "\n",
        "#Batsman Histogram\n",
        "\n",
        "\n",
        "# team_list = list(df_batAvg['Batting_team'].unique())\n",
        "\n",
        "# trace0 = go.Histogram(x= df_batAvg.loc[df_batAvg['Batting_team'] == team_list[0], 'AvgRuns_match'], opacity = 0.75, name = team_list[0])\n",
        "# trace1 = go.Histogram(x= df_batAvg.loc[df_batAvg['Batting_team'] == team_list[1], 'AvgRuns_match'], opacity = 0.75, name = team_list[1])\n",
        "# trace2 = go.Histogram(x= df_batAvg.loc[df_batAvg['Batting_team'] == team_list[2], 'AvgRuns_match'], opacity = 0.75, name = team_list[2])\n",
        "# trace3 = go.Histogram(x= df_batAvg.loc[df_batAvg['Batting_team'] == team_list[3], 'AvgRuns_match'], opacity = 0.75, name = team_list[3])\n",
        "# trace4 = go.Histogram(x= df_batAvg.loc[df_batAvg['Batting_team'] == team_list[4], 'AvgRuns_match'], opacity = 0.75, name = team_list[4])\n",
        "\n",
        "# fig4 = make_subplots(rows =3, cols = 2)\n",
        "# fig4.append_trace(trace0,1,1)\n",
        "# fig4.append_trace(trace1,2,1)\n",
        "# fig4.append_trace(trace2,2,2)\n",
        "# fig4.append_trace(trace3,3,1)\n",
        "# fig4.append_trace(trace4,3,2)\n",
        "\n",
        "# fig4.layout.title = dict(text = 'Distribution of average batsman scores')\n",
        "# fig4.layout.xaxis = dict(tickmode = 'linear', dtick = 10)\n",
        "\n",
        "\n",
        "# plotly.offline.plot(fig4, include_plotlyjs = False, output_type = 'div')\n",
        "\n",
        "\n",
        "\n",
        "def runlevel(x):\n",
        "    if x >= 1.25*df_batAvg['AvgRuns_match'].mean():\n",
        "        return 'High'\n",
        "    elif x <= 0.75 * df_batAvg['AvgRuns_match'].mean():\n",
        "        return 'Low'\n",
        "    else:\n",
        "        return 'Average'\n",
        "    \n",
        "def strikelevel(x):\n",
        "    if x >= 1.25*df_batAvg['Strike_rate'].mean():\n",
        "        return 'High'\n",
        "    elif x <= 0.75 * df_batAvg['Strike_rate'].mean():\n",
        "        return 'Low'\n",
        "    else:\n",
        "        return 'Average'\n",
        "    \n",
        "def varlevel(x):\n",
        "    if x <= 0.75*df_batAvg['Var'].mean():\n",
        "        return 'High Consistency'\n",
        "    elif x >= 1.25 * df_batAvg['Var'].mean():\n",
        "        return 'Inconsistent'\n",
        "    else:\n",
        "        return 'Average'\n",
        "    \n",
        "\n",
        "df_batAvg['Runs_level'] = df_batAvg['AvgRuns_match'].map(lambda x: runlevel(x))\n",
        "df_batAvg['Strike_level'] = df_batAvg['Strike_rate'].map(lambda x: strikelevel(x))\n",
        "df_batAvg['Var_level'] = df_batAvg['Var'].map(lambda x: varlevel(x))\n",
        "\n",
        "\n",
        "dfteam = df.groupby(['Batting_team','Bowling_team', 'Match_id', 'Innings', 'Over']).sum().reset_index()\n",
        "over = 0\n",
        "total = 0\n",
        "Total_runs = []\n",
        "\n",
        "for i in range(len(dfteam)):\n",
        "    if dfteam.iloc[i]['Over'] >= over:\n",
        "        total =+ total + dfteam.iloc[i]['Batsman_runs'] + dfteam.iloc[i]['Extra_runs']\n",
        "        over =+ 1\n",
        "        Total_runs.append(total)\n",
        "    else:\n",
        "        total = dfteam.iloc[i]['Batsman_runs'] + dfteam.iloc[i]['Extra_runs']\n",
        "        Total_runs.append(total)\n",
        "        over = 1\n",
        "\n",
        "\n",
        "dfteam['Total_runs'] = pd.Series(Total_runs)\n",
        "\n",
        "\n",
        "\n",
        "# ## Defining bowler metrics\n",
        "# def caught(x):\n",
        "#     if x == 'caught':\n",
        "#         return 1\n",
        "#     else:\n",
        "#         return 0\n",
        "# def bowled(x):\n",
        "#     if x == bowled:\n",
        "#         return 1\n",
        "#     else:\n",
        "#         return 0\n",
        "# def runout(x):\n",
        "#     if x == 'runout':\n",
        "#         return 1\n",
        "#     else:\n",
        "#         return 0\n",
        "# def lbw(x):\n",
        "#     if x == 'lbw':\n",
        "#         return 1\n",
        "#     else:\n",
        "#         return 0\n",
        "# def stump(x):\n",
        "#     if x == 'stump':\n",
        "#         return 1\n",
        "#     else:\n",
        "#         return 0\n",
        "# def candb(x):\n",
        "#     if x == 'caught and bowled':\n",
        "#         return 1\n",
        "#     else:\n",
        "#         return 0\n",
        "\n",
        "\n",
        "# df['Caught'] = df['Dismisal_kind'].apply(lambda x: caught(x))\n",
        "# df['Bowled'] = df['Dismisal_kind'].apply(lambda x: bowled(x))\n",
        "# df['Lbw'] = df['Dismisal_kind'].apply(lambda x: lbw(x))\n",
        "# df['Runout'] = df['Dismisal_kind'].apply(lambda x: runout(x))\n",
        "# df['Stump'] = df['Dismisal_kind'].apply(lambda x: stump(x))\n",
        "# df['Caught_bowled'] = df['Dismisal_kind'].apply(lambda x: candb(x))\n",
        "\n",
        "\n",
        "# ## Creating a bowler dataframe\n",
        "# df_bowl = pd.merge(df.groupby(['Bowler', 'Match_id']).sum().reset_index().filter(regex = \"[Innings,Over,Ball]\"), df.groupby(['Bowler', 'Match_id']).count().reset_index()[['Bowler','Match_id', 'Ball']].rename(columns = {'Ball': 'TotalDeliveries'}), on = ['Bowler', 'Match_id'])\n",
        "\n",
        "# df_bowlAvg = pd.merge(df.groupby(['Bowler', 'Match_id']).sum().reset_index().filter(regex = \"[^Match_id,Innings,Over,Ball]\") ,  df.groupby(['Bowler', 'Match_id']).count().reset_index()[['Bowler', 'Ball']].rename(columns = {'Ball': 'Delieveries_bowled'}), on = 'Bowler').groupby('Bowler').mean().reset_index()\n",
        "\n",
        "\n",
        "# df_bowl_Avg_merge = pd.merge(df_bowl.groupby('Bowler').sum().reset_index().filter(regex = '[^Match_id,Innings,Over,Ball]'), df_bowlAvg.filter(regex = \"[^Caught,Bowled,Stump,Caught_bowled, Lbw, Runout]\").rename(columns = {'Delieveries_bowled':'AvgDeliveries_bowled','Batsman_runs': 'AvgBatsman_runs', 'Extra_runs': 'AvgExtra_runs' , 'Six': 'AvgSix', 'Four': 'AvgFour', 'wicket' : 'AvgWicket'}),\n",
        "#  on = 'Bowler')\n",
        "\n",
        "# dfecon = df.groupby(['Bowler','Match_id', 'Over']).sum().reset_index().groupby('Bowler').mean().reset_index()[['Bowler','Batsman_runs', 'Extra_runs']]\n",
        "# dfecon['Economy'] = dfecon['Batsman_runs'] + dfecon['Extra_runs']\n",
        "\n",
        "\n",
        "\n",
        "# df_bowler = pd.merge(df_bowl_Avg_merge, dfecon[['Bowler','Economy']], on = 'Bowler')\n",
        "\n",
        "\n",
        "# ## Bowler variance\n",
        "# df_bowler['Runs_sq'] = 0\n",
        "# df_bowler['Matches_played'] = 0\n",
        "# for i in range(len(df_bowler)):\n",
        "#     for j in range(len(df_bowl)):\n",
        "#         if df_bowler.iloc[i]['Bowler'] == df_bowl.iloc[j]['Bowler']:\n",
        "#             df_bowler['Runs_sq'].iloc[i] += (df_bowl.iloc[j]['Batsman_runs'] +  df_bowl.iloc[j]['Extra_runs'])**2\n",
        "#             df_bowler['Matches_played'].iloc[i] += 1\n",
        "\n",
        "\n",
        "# df_bowler['Var'] = (df_bowler['Runs_sq'] - (df_bowler['Matches_played']*((df_bowler['AvgBatsman_runs']+df_bowler['AvgExtra_runs'])**2)))/(df_bowler['Matches_played'] -1)\n",
        "\n",
        " \n",
        "\n",
        "# df_bowler = pd.merge(df_bowler, df[['Bowler', 'Bowling_team']].drop_duplicates(keep = 'first'), on = 'Bowler')\n",
        "# df_bowler.dropna(inplace = True)\n",
        "\n",
        "\n",
        "# ##Bowler Scatter chart\n",
        "\n",
        "# trace1 = go.Scatter(x = df_bowler['wicket'], y = df_bowler['Economy'], mode = 'markers', hoverinfo = 'text' , text = df_bowler['Bowler'] + \"   \" + df_bowler['Bowling_team'] , marker = dict(size = 25, symbol = 'circle' , cmin = 0, autocolorscale = True, reversescale = True, colorbar = {'title' : {'text': 'Bowler Variance'}}, color = df_bowler['Var']))\n",
        "\n",
        "# layout = go.Layout(paper_bgcolor = 'white',plot_bgcolor = 'white' , hovermode = 'closest',  yaxis = dict(title = dict(text = \"Economy\" , font = dict(color ='black')) ,showgrid = True, zeroline = False, color = 'black'), xaxis = dict(title = dict( text = 'Total wickets'), showgrid = False, zeroline = False), title = dict(text = \"All Bowler's Performance - Economy, Total Wickets, Variance\"))\n",
        "\n",
        "\n",
        "# data = [trace1]\n",
        "\n",
        "# fig22 = go.Figure(data = data, layout = layout)\n",
        "\n",
        "# plotly.offline.init_notebook_mode(connected=True)\n",
        "# plotly.offline.plot(fig22, include_plotlyjs = False, output_type = 'div')\n",
        "\n",
        "\n",
        "# ##Bowler histogram\n",
        "\n",
        "\n",
        "# team_list = ['Peshawar Zalmi', 'Karachi Kings', 'Islamabad United', 'Quetta Gladiators', 'Lahore Qalandars']\n",
        "\n",
        "# trace0 = go.Histogram(x= df_bowler.loc[df_bowler['Bowling_team'] == team_list[0], 'Economy'], opacity = 0.75, name = team_list[0])\n",
        "# trace1 = go.Histogram(x= df_bowler.loc[df_bowler['Bowling_team'] == team_list[1], 'Economy'], opacity = 0.75, name = team_list[1])\n",
        "# trace2 = go.Histogram(x= df_bowler.loc[df_bowler['Bowling_team'] == team_list[2], 'Economy'], opacity = 0.75, name = team_list[2])\n",
        "# trace3 = go.Histogram(x= df_bowler.loc[df_bowler['Bowling_team'] == team_list[3], 'Economy'], opacity = 0.75, name = team_list[3])\n",
        "# trace4 = go.Histogram(x= df_bowler.loc[df_bowler['Bowling_team'] == team_list[4], 'Economy'], opacity = 0.75, name = team_list[4])\n",
        "\n",
        "# fig4 = plotly.tools.make_subplots(rows = 3, cols = 2)\n",
        "# fig4.append_trace(trace0,1,1)\n",
        "# fig4.append_trace(trace1,1,2)\n",
        "# fig4.append_trace(trace2,2,1)\n",
        "# fig4.append_trace(trace3,2,2)\n",
        "# fig4.append_trace(trace4,3,1)\n",
        "\n",
        "# fig4.layout.title = dict(text = \"Distribution of average bowler economy for each team\")\n",
        "\n",
        "# plotly.offline.plot(fig4, include_plotlyjs = False, output_type = 'div')\n",
        "\n",
        "\n",
        "# ##Setting up a ranking datafrane\n",
        "\n",
        "# dfscore = df_batAvg[['Batsman_strike', 'Batting_team','AvgRuns_match', 'Strike_rate', 'Var']].rename(columns = {'Batsman_strike': 'Player', 'Batting_team':'Team','Var': 'Bat_var'}).merge(df_bowler[['Bowler', 'Economy', 'AvgWicket','AvgDeliveries_bowled', 'Var', 'Bowling_team']].rename(columns = {'Bowler':'Player','Var':'Bowl_var','Bowling_team':'Team'}), on = ['Player','Team'], how = 'outer').fillna(value = 0)                                                                                                          \n",
        "\n",
        "\n",
        "# ##Player Ranking Metrics\n",
        "\n",
        "# f = 'Strike_rate'\n",
        "# g = 'AvgRuns_match'\n",
        "# h = 'AvgWicket'\n",
        "\n",
        "\n",
        "# Batsman = np.quantile(dfscore['AvgRuns_match'], 0.5)\n",
        "# Batvarmean = dfscore.loc[dfscore['AvgRuns_match'] >= Batsman, \"Bat_var\"].mean()\n",
        "\n",
        "\n",
        "# Bowlvarmean = dfscore.loc[dfscore['AvgDeliveries_bowled'] >= 0, \"Bowl_var\"].mean()\n",
        "\n",
        "# dfscore['BatVarRank'] = np.zeros(len(dfscore))\n",
        "\n",
        "# dfscore['BowlVarRank'] = np.zeros(len(dfscore))\n",
        "\n",
        "\n",
        "# def greaterf(x):\n",
        "#         if x == 0:\n",
        "#             return 0\n",
        "#         if x >= 1.25 * dfscore[f].mean():\n",
        "#             return 3\n",
        "#         if x<= 0.75 *dfscore[f].mean():\n",
        "#             return  1\n",
        "#         else:\n",
        "#             return 2\n",
        "\n",
        "# def greaterg(x):\n",
        "#         if x == 0:\n",
        "#             return 0\n",
        "#         if x >= 1.25 * dfscore[g].mean():\n",
        "#             return 3\n",
        "#         if x<= 0.75 *dfscore[g].mean():\n",
        "#             return  1\n",
        "#         else:\n",
        "#             return 2\n",
        "\n",
        "# def greaterh(x):\n",
        "#         if x == 0:\n",
        "#             return 0\n",
        "#         if x >= 1.25 * dfscore[h].mean():\n",
        "#             return 3\n",
        "#         if x<= 0.75 *dfscore[h].mean():\n",
        "#             return  1\n",
        "#         else:\n",
        "#             return 2\n",
        "\n",
        "\n",
        "# dfscore[f + str('Rank')] = dfscore[f].map(lambda x: greaterf(x))    \n",
        "# dfscore[g + str('Rank')] = dfscore[g].map(lambda x: greaterg(x))\n",
        "# dfscore[h + str('Rank')] = dfscore[h].map(lambda x: greaterh(x))\n",
        "\n",
        "# def ecorank(x):\n",
        "#     if x == 0:\n",
        "#         return 0\n",
        "#     elif x >= 1.25 * dfscore.loc[dfscore['AvgDeliveries_bowled'] >= 0, \"Economy\"].mean():\n",
        "#         return 1\n",
        "#     elif x <= 0.75 * dfscore.loc[dfscore['AvgDeliveries_bowled'] >= 0, \"Economy\"].mean():\n",
        "#         return 3\n",
        "#     else:\n",
        "#         return 2\n",
        "    \n",
        "# dfscore['EconomyRank'] = dfscore['Economy'].map(lambda x: ecorank(x))\n",
        "\n",
        "\n",
        "# for i in range(len(dfscore)):\n",
        "#     if dfscore.iloc[i]['AvgRuns_match'] <= Batsman:\n",
        "#         dfscore['BatVarRank'].iloc[i] = 0\n",
        "#     elif dfscore['Bat_var'].iloc[i] >= (1.25 * Batvarmean):  \n",
        "#         dfscore['BatVarRank'].iloc[i] = 1\n",
        "#     elif dfscore.iloc[i]['Bat_var'] <= 0.75 * Bowlvarmean:\n",
        "#         dfscore['BatVarRank'].iloc[i] = 3\n",
        "#     else:\n",
        "#         dfscore['BatVarRank'].iloc[i] = 2\n",
        "        \n",
        "        \n",
        "        \n",
        "# for i in range(len(dfscore)):\n",
        "#     if dfscore.iloc[i]['AvgDeliveries_bowled'] == 0:\n",
        "#         dfscore['BowlVarRank'].iloc[i] = 0\n",
        "#     elif dfscore['Bowl_var'].iloc[i] >= (1.25 * Bowlvarmean):  \n",
        "#         dfscore['BowlVarRank'].iloc[i] = 1\n",
        "#     elif dfscore.iloc[i]['Bowl_var'] <= 0.75 * Bowlvarmean:\n",
        "#         dfscore['BowlVarRank'].iloc[i] = 3\n",
        "#     else:\n",
        "#         dfscore['BowlVarRank'].iloc[i] = 2\n",
        "\n",
        "\n",
        "\n",
        "# ##Creating PlayerScore column as the sum of all metrics\n",
        "\n",
        "# dfscore['PlayerScore'] = dfscore['AvgRuns_matchRank'] + dfscore['Strike_rateRank'] + dfscore['AvgWicketRank'] + dfscore['BatVarRank'] + dfscore['BowlVarRank'] + dfscore['EconomyRank']\n",
        "\n",
        "\n",
        "# ##Ranking levels\n",
        "\n",
        "# def mvprank(x):\n",
        "#     if x >= np.quantile(dfscore['PlayerScore'], 0.90):\n",
        "#         return 4\n",
        "#     elif x >= np.quantile(dfscore['PlayerScore'], 0.75):\n",
        "#             return 3\n",
        "#     elif x <= np.quantile(dfscore['PlayerScore'], 0.50):\n",
        "#             return 1\n",
        "#     else:\n",
        "#         return 2\n",
        "    \n",
        "# dfscore['PlayerRank'] = dfscore['PlayerScore'].map(lambda x: mvprank(x))\n",
        "# dfscore['MVP'] = np.zeros(len(dfscore))\n",
        "# dfscore.loc[dfscore['PlayerRank']==4,'MVP'] = 'MVP'\n",
        "# dfscore.loc[dfscore['PlayerRank']==3, 'MVP'] = 'VP'\n",
        "# dfscore.loc[dfscore['PlayerRank'] <3, 'MVP'] = 'Below Average'\n",
        "\n",
        "\n",
        "# ## Top 10 Players\n",
        "# dfscore.sort_values(by = 'PlayerScore', ascending = False).head(10)\n",
        "\n",
        "\n",
        "# #Boxplot\n",
        "\n",
        "# trace0 = go.Box(y = dfscore.loc[dfscore['Team'] == 'Peshawar Zalmi', 'PlayerScore'], name = 'Peshawar Zalmi', boxmean = 'sd', boxpoints = 'all')\n",
        "# trace1 = go.Box(y = dfscore.loc[dfscore['Team'] == 'Islamabad United', 'PlayerScore'], name = 'Islamabad United', boxmean = 'sd', boxpoints = 'all')\n",
        "# trace2 = go.Box(y = dfscore.loc[dfscore['Team'] == 'Quetta Gladiators', 'PlayerScore'], name = 'Quetta Gladiators', boxmean = 'sd', boxpoints = 'all')\n",
        "# trace3 = go.Box(y = dfscore.loc[dfscore['Team'] == 'Karachi Kings', 'PlayerScore'], name = 'Karachi Kings' , boxmean = 'sd', boxpoints = 'all')\n",
        "# trace4 = go.Box(y = dfscore.loc[dfscore['Team'] == 'Lahore Qalandars', 'PlayerScore'], name = 'Lahore Qalandars' , boxmean = 'sd', boxpoints = 'all')\n",
        "\n",
        "# data = [trace0, trace1, trace2, trace3, trace4]\n",
        "\n",
        "# fig111 = go.Figure(data = data)\n",
        "# fig111.layout.title = dict(text = \"Player Score distribution for each team\" )\n",
        "\n",
        "# import bs4\n",
        "# from bs4 import BeautifulSoup\n",
        "\n",
        "# plotly.offline.plot(fig111, include_plotlyjs = False, output_type = 'div')\n"
      ],
      "metadata": {
        "trusted": true
      },
      "execution_count": 11,
      "outputs": [
        {
          "output_type": "display_data",
          "data": {
            "text/html": "        <script type=\"text/javascript\">\n        window.PlotlyConfig = {MathJaxConfig: 'local'};\n        if (window.MathJax && window.MathJax.Hub && window.MathJax.Hub.Config) {window.MathJax.Hub.Config({SVG: {font: \"STIX-Web\"}});}\n        if (typeof require !== 'undefined') {\n        require.undef(\"plotly\");\n        requirejs.config({\n            paths: {\n                'plotly': ['https://cdn.plot.ly/plotly-2.12.1.min']\n            }\n        });\n        require(['plotly'], function(Plotly) {\n            window._Plotly = Plotly;\n        });\n        }\n        </script>\n        "
          },
          "metadata": {}
        },
        {
          "output_type": "error",
          "ename": "TypeError",
          "evalue": "plot() missing 1 required positional argument: 'kind'",
          "traceback": [
            "\u001b[0;31m---------------------------------------------------------------------------\u001b[0m",
            "\u001b[0;31mTypeError\u001b[0m                                 Traceback (most recent call last)",
            "Input \u001b[0;32mIn [11]\u001b[0m, in \u001b[0;36m<cell line: 97>\u001b[0;34m()\u001b[0m\n\u001b[1;32m     94\u001b[0m plotly\u001b[38;5;241m.\u001b[39moffline\u001b[38;5;241m.\u001b[39minit_notebook_mode(connected\u001b[38;5;241m=\u001b[39m\u001b[38;5;28;01mTrue\u001b[39;00m)\n\u001b[1;32m     95\u001b[0m plotly\u001b[38;5;241m.\u001b[39moffline\u001b[38;5;241m.\u001b[39mplot(fig, include_plotlyjs \u001b[38;5;241m=\u001b[39m \u001b[38;5;28;01mFalse\u001b[39;00m, output_type \u001b[38;5;241m=\u001b[39m \u001b[38;5;124m'\u001b[39m\u001b[38;5;124mdiv\u001b[39m\u001b[38;5;124m'\u001b[39m)\n\u001b[0;32m---> 97\u001b[0m \u001b[43mplotly\u001b[49m\u001b[38;5;241;43m.\u001b[39;49m\u001b[43mplot\u001b[49m\u001b[43m(\u001b[49m\u001b[43mfig\u001b[49m\u001b[43m)\u001b[49m\n\u001b[1;32m    100\u001b[0m \u001b[38;5;66;03m#Batsman Histogram\u001b[39;00m\n\u001b[1;32m    101\u001b[0m \n\u001b[1;32m    102\u001b[0m \n\u001b[0;32m   (...)\u001b[0m\n\u001b[1;32m    121\u001b[0m \n\u001b[1;32m    122\u001b[0m \u001b[38;5;66;03m# plotly.offline.plot(fig4, include_plotlyjs = False, output_type = 'div')\u001b[39;00m\n\u001b[1;32m    126\u001b[0m \u001b[38;5;28;01mdef\u001b[39;00m \u001b[38;5;21mrunlevel\u001b[39m(x):\n",
            "\u001b[0;31mTypeError\u001b[0m: plot() missing 1 required positional argument: 'kind'"
          ]
        }
      ]
    },
    {
      "cell_type": "code",
      "execution_count": 283,
      "metadata": {},
      "outputs": [
        {
          "output_type": "execute_result",
          "data": {
            "text/plain": [
              "    Batsman_strike  AvgRuns_match  AvgBalls_match       Batting_team  \\\n",
              "35    Kamran Akmal      32.090909       24.909091     Peshawar Zalmi   \n",
              "10      Babar Azam      29.100000       26.500000      Karachi Kings   \n",
              "18        DR Smith      30.444444       27.444444   Islamabad United   \n",
              "52      RR Rossouw      31.875000       26.250000  Quetta Gladiators   \n",
              "34    KP Pietersen      34.428571       23.142857  Quetta Gladiators   \n",
              "..             ...            ...             ...                ...   \n",
              "39      MN van Wyk       1.000000        7.000000  Quetta Gladiators   \n",
              "79  Zulfiqar Babar       0.500000        1.500000  Quetta Gladiators   \n",
              "76      Usman Khan       0.000000        2.000000      Karachi Kings   \n",
              "55    Rumman Raees       0.000000        4.000000   Islamabad United   \n",
              "44  Mohammad Irfan       0.000000        2.000000   Islamabad United   \n",
              "\n",
              "    TotalRuns  TotalSixes  TotalFours  Balls_played  Runs_sq  Matches_played  \\\n",
              "35        353          16          32           274    24767              11   \n",
              "10        291           4          36           265    11959              10   \n",
              "18        274          10          29           247    12976               9   \n",
              "52        255           9          18           210    12553               8   \n",
              "34        241          14          15           162    15795               7   \n",
              "..        ...         ...         ...           ...      ...             ...   \n",
              "39          1           0           0             7        1               1   \n",
              "79          1           0           0             3        1               2   \n",
              "76          0           0           0             2        0               1   \n",
              "55          0           0           0             4        0               1   \n",
              "44          0           0           0             2        0               1   \n",
              "\n",
              "    Strike_rate  PercentageRuns_boundary          Var  \n",
              "35   128.832117                63.456091  1343.890909  \n",
              "10   109.811321                57.731959   387.877778  \n",
              "18   110.931174                64.233577   579.277778  \n",
              "52   121.428571                49.411765   632.125000  \n",
              "34   148.765432                59.751037  1249.619048  \n",
              "..          ...                      ...          ...  \n",
              "39    14.285714                 0.000000          NaN  \n",
              "79    33.333333                 0.000000     0.500000  \n",
              "76     0.000000                      NaN          NaN  \n",
              "55     0.000000                      NaN          NaN  \n",
              "44     0.000000                      NaN          NaN  \n",
              "\n",
              "[80 rows x 13 columns]"
            ],
            "text/html": "<div>\n<style scoped>\n    .dataframe tbody tr th:only-of-type {\n        vertical-align: middle;\n    }\n\n    .dataframe tbody tr th {\n        vertical-align: top;\n    }\n\n    .dataframe thead th {\n        text-align: right;\n    }\n</style>\n<table border=\"1\" class=\"dataframe\">\n  <thead>\n    <tr style=\"text-align: right;\">\n      <th></th>\n      <th>Batsman_strike</th>\n      <th>AvgRuns_match</th>\n      <th>AvgBalls_match</th>\n      <th>Batting_team</th>\n      <th>TotalRuns</th>\n      <th>TotalSixes</th>\n      <th>TotalFours</th>\n      <th>Balls_played</th>\n      <th>Runs_sq</th>\n      <th>Matches_played</th>\n      <th>Strike_rate</th>\n      <th>PercentageRuns_boundary</th>\n      <th>Var</th>\n    </tr>\n  </thead>\n  <tbody>\n    <tr>\n      <th>35</th>\n      <td>Kamran Akmal</td>\n      <td>32.090909</td>\n      <td>24.909091</td>\n      <td>Peshawar Zalmi</td>\n      <td>353</td>\n      <td>16</td>\n      <td>32</td>\n      <td>274</td>\n      <td>24767</td>\n      <td>11</td>\n      <td>128.832117</td>\n      <td>63.456091</td>\n      <td>1343.890909</td>\n    </tr>\n    <tr>\n      <th>10</th>\n      <td>Babar Azam</td>\n      <td>29.100000</td>\n      <td>26.500000</td>\n      <td>Karachi Kings</td>\n      <td>291</td>\n      <td>4</td>\n      <td>36</td>\n      <td>265</td>\n      <td>11959</td>\n      <td>10</td>\n      <td>109.811321</td>\n      <td>57.731959</td>\n      <td>387.877778</td>\n    </tr>\n    <tr>\n      <th>18</th>\n      <td>DR Smith</td>\n      <td>30.444444</td>\n      <td>27.444444</td>\n      <td>Islamabad United</td>\n      <td>274</td>\n      <td>10</td>\n      <td>29</td>\n      <td>247</td>\n      <td>12976</td>\n      <td>9</td>\n      <td>110.931174</td>\n      <td>64.233577</td>\n      <td>579.277778</td>\n    </tr>\n    <tr>\n      <th>52</th>\n      <td>RR Rossouw</td>\n      <td>31.875000</td>\n      <td>26.250000</td>\n      <td>Quetta Gladiators</td>\n      <td>255</td>\n      <td>9</td>\n      <td>18</td>\n      <td>210</td>\n      <td>12553</td>\n      <td>8</td>\n      <td>121.428571</td>\n      <td>49.411765</td>\n      <td>632.125000</td>\n    </tr>\n    <tr>\n      <th>34</th>\n      <td>KP Pietersen</td>\n      <td>34.428571</td>\n      <td>23.142857</td>\n      <td>Quetta Gladiators</td>\n      <td>241</td>\n      <td>14</td>\n      <td>15</td>\n      <td>162</td>\n      <td>15795</td>\n      <td>7</td>\n      <td>148.765432</td>\n      <td>59.751037</td>\n      <td>1249.619048</td>\n    </tr>\n    <tr>\n      <th>...</th>\n      <td>...</td>\n      <td>...</td>\n      <td>...</td>\n      <td>...</td>\n      <td>...</td>\n      <td>...</td>\n      <td>...</td>\n      <td>...</td>\n      <td>...</td>\n      <td>...</td>\n      <td>...</td>\n      <td>...</td>\n      <td>...</td>\n    </tr>\n    <tr>\n      <th>39</th>\n      <td>MN van Wyk</td>\n      <td>1.000000</td>\n      <td>7.000000</td>\n      <td>Quetta Gladiators</td>\n      <td>1</td>\n      <td>0</td>\n      <td>0</td>\n      <td>7</td>\n      <td>1</td>\n      <td>1</td>\n      <td>14.285714</td>\n      <td>0.000000</td>\n      <td>NaN</td>\n    </tr>\n    <tr>\n      <th>79</th>\n      <td>Zulfiqar Babar</td>\n      <td>0.500000</td>\n      <td>1.500000</td>\n      <td>Quetta Gladiators</td>\n      <td>1</td>\n      <td>0</td>\n      <td>0</td>\n      <td>3</td>\n      <td>1</td>\n      <td>2</td>\n      <td>33.333333</td>\n      <td>0.000000</td>\n      <td>0.500000</td>\n    </tr>\n    <tr>\n      <th>76</th>\n      <td>Usman Khan</td>\n      <td>0.000000</td>\n      <td>2.000000</td>\n      <td>Karachi Kings</td>\n      <td>0</td>\n      <td>0</td>\n      <td>0</td>\n      <td>2</td>\n      <td>0</td>\n      <td>1</td>\n      <td>0.000000</td>\n      <td>NaN</td>\n      <td>NaN</td>\n    </tr>\n    <tr>\n      <th>55</th>\n      <td>Rumman Raees</td>\n      <td>0.000000</td>\n      <td>4.000000</td>\n      <td>Islamabad United</td>\n      <td>0</td>\n      <td>0</td>\n      <td>0</td>\n      <td>4</td>\n      <td>0</td>\n      <td>1</td>\n      <td>0.000000</td>\n      <td>NaN</td>\n      <td>NaN</td>\n    </tr>\n    <tr>\n      <th>44</th>\n      <td>Mohammad Irfan</td>\n      <td>0.000000</td>\n      <td>2.000000</td>\n      <td>Islamabad United</td>\n      <td>0</td>\n      <td>0</td>\n      <td>0</td>\n      <td>2</td>\n      <td>0</td>\n      <td>1</td>\n      <td>0.000000</td>\n      <td>NaN</td>\n      <td>NaN</td>\n    </tr>\n  </tbody>\n</table>\n<p>80 rows × 13 columns</p>\n</div>"
          },
          "metadata": {},
          "execution_count": 283
        }
      ],
      "source": [
        "df_batAvg"
      ]
    },
    {
      "cell_type": "code",
      "execution_count": 373,
      "metadata": {},
      "outputs": [
        {
          "output_type": "display_data",
          "data": {
            "text/html": "        <script type=\"text/javascript\">\n        window.PlotlyConfig = {MathJaxConfig: 'local'};\n        if (window.MathJax && window.MathJax.Hub && window.MathJax.Hub.Config) {window.MathJax.Hub.Config({SVG: {font: \"STIX-Web\"}});}\n        if (typeof require !== 'undefined') {\n        require.undef(\"plotly\");\n        requirejs.config({\n            paths: {\n                'plotly': ['https://cdn.plot.ly/plotly-2.12.1.min']\n            }\n        });\n        require(['plotly'], function(Plotly) {\n            window._Plotly = Plotly;\n        });\n        }\n        </script>\n        "
          },
          "metadata": {}
        },
        {
          "output_type": "display_data",
          "data": {
            "application/vnd.plotly.v1+json": {
              "data": [
                {
                  "hoverinfo": "text",
                  "marker": {
                    "autocolorscale": true,
                    "cmin": 0,
                    "color": [
                      1343.890909090909,
                      387.87777777777774,
                      579.2777777777778,
                      632.125,
                      1249.6190476190475,
                      705.0277777777778,
                      315.3888888888889,
                      336.62222222222226,
                      267.0000000000001,
                      349.00000000000006,
                      437.26785714285717,
                      393.55357142857144,
                      390.16666666666663,
                      425.29999999999995,
                      163.25,
                      504.85714285714283,
                      259.4444444444444,
                      310.7857142857143,
                      561.25,
                      411.9,
                      528.0277777777778,
                      928.2666666666667,
                      1021.3,
                      289.61904761904754,
                      150.99999999999997,
                      134.76666666666665,
                      73.95238095238092,
                      605.6999999999999,
                      151.2380952380952,
                      63.410714285714285,
                      240.33333333333334,
                      189.2,
                      145.2857142857143,
                      209.06666666666666,
                      1012.5,
                      243.6,
                      76.79999999999998,
                      173.66666666666666,
                      339.6666666666667,
                      14.333333333333258,
                      170.33333333333331,
                      224.33333333333331,
                      170,
                      14.333333333333314,
                      91.69999999999999,
                      2,
                      43,
                      48.333333333333336,
                      312.5,
                      65.33333333333331,
                      null,
                      18,
                      18.800000000000004,
                      220.5,
                      75.33333333333333,
                      180.5,
                      7,
                      18.666666666666668,
                      61,
                      null,
                      null,
                      null,
                      4.5,
                      2,
                      null,
                      null,
                      0,
                      0.3333333333333333,
                      0.5,
                      null,
                      null,
                      null,
                      null,
                      null,
                      null,
                      null,
                      0.5,
                      null,
                      null,
                      null
                    ],
                    "colorbar": {
                      "title": {
                        "text": "Score variance"
                      }
                    },
                    "reversescale": true,
                    "size": 20,
                    "symbol": "circle"
                  },
                  "mode": "markers",
                  "showlegend": false,
                  "text": [
                    "Kamran Akmal  Peshawar Zalmi",
                    "Babar Azam  Karachi Kings",
                    "DR Smith  Islamabad United",
                    "RR Rossouw  Quetta Gladiators",
                    "KP Pietersen  Quetta Gladiators",
                    "Ahmed Shehzad  Quetta Gladiators",
                    "KC Sangakkara  Karachi Kings",
                    "Shoaib Malik  Karachi Kings",
                    "KA Pollard  Karachi Kings",
                    "Sarfraz Ahmed  Quetta Gladiators",
                    "Fakhar Zaman  Lahore Qalandars",
                    "Shahid Afridi  Peshawar Zalmi",
                    "DJ Malan  Peshawar Zalmi",
                    "JJ Roy  Lahore Qalandars",
                    "SR Watson  Islamabad United",
                    "Umar Akmal  Lahore Qalandars",
                    "CH Gayle  Karachi Kings",
                    "Misbah-ul-Haq  Islamabad United",
                    "Mohammad Hafeez  Peshawar Zalmi",
                    "Asad Shafiq  Quetta Gladiators",
                    "BJ Haddin  Islamabad United",
                    "EJG Morgan  Peshawar Zalmi",
                    "SW Billings  Islamabad United",
                    "Mohammad Rizwan  Lahore Qalandars",
                    "DJG Sammy  Peshawar Zalmi",
                    "RS Bopara  Karachi Kings",
                    "SP Narine  Lahore Qalandars",
                    "Tamim Iqbal  Peshawar Zalmi",
                    "BB McCullum  Lahore Qalandars",
                    "Imad Wasim  Karachi Kings",
                    "CS Delport  Lahore Qalandars",
                    "MN Samuels  Peshawar Zalmi",
                    "GD Elliott  Lahore Qalandars",
                    "Sohail Tanvir  Lahore Qalandars",
                    "Hussain Talat  Islamabad United",
                    "Shadab Khan  Islamabad United",
                    "Anwar Ali  Quetta Gladiators",
                    "Shakib Al Hasan  Peshawar Zalmi",
                    "Asif Ali  Islamabad United",
                    "Rafatullah Mohmand  Islamabad United",
                    "NLTC Perera  Quetta Gladiators",
                    "Mahmudullah  Quetta Gladiators",
                    "Sohaib Maqsood  Peshawar Zalmi",
                    "Haris Sohail  Peshawar Zalmi",
                    "Wahab Riaz  Peshawar Zalmi",
                    "BM Duckett  Islamabad United",
                    "Hasan Khan  Quetta Gladiators",
                    "CJ Jordan  Peshawar Zalmi",
                    "Aamer Yamin  Lahore Qalandars",
                    "Amad Butt  Islamabad United",
                    "SM Ervine  Quetta Gladiators",
                    "Mohammad Amir  Karachi Kings",
                    "Hasan Ali  Peshawar Zalmi",
                    "Yasir Shah  Lahore Qalandars",
                    "Mohammad Nawaz (3)  Quetta Gladiators",
                    "Shahzaib Hasan  Karachi Kings",
                    "Saad Nasim  Quetta Gladiators",
                    "Sohail Khan  Karachi Kings",
                    "Iftikhar Ahmed  Peshawar Zalmi",
                    "LJ Wright  Quetta Gladiators",
                    "DPMD Jayawardene  Karachi Kings",
                    "RR Emrit  Quetta Gladiators",
                    "Usama Mir  Karachi Kings",
                    "Mohammad Irfan (4)  Lahore Qalandars",
                    "Anamul Haque  Quetta Gladiators",
                    "Umar Gul  Quetta Gladiators",
                    "Bilawal Bhatti  Lahore Qalandars",
                    "Mohammad Sami  Islamabad United",
                    "TS Mills  Quetta Gladiators",
                    "N Pooran  Islamabad United",
                    "Ghulam Mudassar  Lahore Qalandars",
                    "Sharjeel Khan  Islamabad United",
                    "Imran Khalid  Islamabad United",
                    "Junaid Khan  Peshawar Zalmi",
                    "Khushdil Shah  Peshawar Zalmi",
                    "MN van Wyk  Quetta Gladiators",
                    "Zulfiqar Babar  Quetta Gladiators",
                    "Usman Khan  Karachi Kings",
                    "Rumman Raees  Islamabad United",
                    "Mohammad Irfan  Islamabad United"
                  ],
                  "x": [
                    32.09090909090909,
                    29.1,
                    30.444444444444443,
                    31.875,
                    34.42857142857143,
                    26.444444444444443,
                    21.5,
                    20.2,
                    22.333333333333332,
                    20.333333333333332,
                    22.125,
                    22.125,
                    29.166666666666668,
                    34.6,
                    19,
                    20.5,
                    17.77777777777778,
                    19.75,
                    17,
                    24.5,
                    15.444444444444445,
                    22.666666666666668,
                    26.6,
                    18.571428571428573,
                    13.333333333333334,
                    11.9,
                    16.571428571428573,
                    18.8,
                    13.285714285714286,
                    10.375,
                    20.5,
                    16.2,
                    10.571428571428571,
                    11.333333333333334,
                    33.5,
                    11,
                    11.4,
                    13.5,
                    11.5,
                    15.333333333333334,
                    13.333333333333334,
                    12.333333333333334,
                    7,
                    10.333333333333334,
                    6.2,
                    15,
                    6.5,
                    6.5,
                    12.5,
                    8.333333333333334,
                    24,
                    6,
                    4.6,
                    11.5,
                    5,
                    9.5,
                    6,
                    4,
                    5,
                    12,
                    10,
                    6,
                    2.5,
                    1,
                    3,
                    2,
                    1,
                    0.5,
                    0.5,
                    1,
                    1,
                    1,
                    1,
                    1,
                    1,
                    1,
                    0.5,
                    0,
                    0,
                    0
                  ],
                  "y": [
                    128.83211678832117,
                    109.81132075471699,
                    110.93117408906883,
                    121.42857142857143,
                    148.76543209876544,
                    127.95698924731182,
                    114.36170212765957,
                    120.23809523809524,
                    162.09677419354838,
                    128.8732394366197,
                    136.15384615384616,
                    163.88888888888889,
                    129.62962962962962,
                    149.13793103448276,
                    132.5581395348837,
                    124.24242424242425,
                    108.84353741496598,
                    108.21917808219177,
                    96.83544303797468,
                    106.52173913043478,
                    118.80341880341881,
                    101.49253731343283,
                    134.34343434343435,
                    120.37037037037037,
                    127.65957446808511,
                    94.44444444444444,
                    170.58823529411765,
                    106.81818181818181,
                    116.25,
                    129.6875,
                    146.42857142857142,
                    120.8955223880597,
                    92.5,
                    103.03030303030303,
                    131.37254901960785,
                    157.14285714285714,
                    129.54545454545453,
                    110.20408163265306,
                    102.22222222222223,
                    124.32432432432432,
                    111.11111111111111,
                    137.03703703703704,
                    92.10526315789474,
                    67.3913043478261,
                    79.48717948717949,
                    88.23529411764706,
                    96.29629629629629,
                    86.66666666666667,
                    96.15384615384616,
                    96.15384615384616,
                    126.3157894736842,
                    114.28571428571429,
                    153.33333333333334,
                    100,
                    105.26315789473684,
                    111.76470588235294,
                    105.88235294117646,
                    114.28571428571429,
                    57.69230769230769,
                    171.42857142857142,
                    125,
                    66.66666666666667,
                    125,
                    66.66666666666667,
                    33.333333333333336,
                    66.66666666666667,
                    28.571428571428573,
                    50,
                    50,
                    33.333333333333336,
                    100,
                    25,
                    100,
                    50,
                    16.666666666666668,
                    14.285714285714286,
                    33.333333333333336,
                    0,
                    0,
                    0
                  ],
                  "type": "scatter"
                }
              ],
              "layout": {
                "paper_bgcolor": "white",
                "plot_bgcolor": "white",
                "title": {
                  "text": "All batsman's performance - Average runs, Strike rate, Score variance"
                },
                "xaxis": {
                  "showgrid": false,
                  "title": {
                    "text": "Average runs"
                  },
                  "zeroline": false
                },
                "yaxis": {
                  "color": "black",
                  "showgrid": true,
                  "title": {
                    "font": {
                      "color": "black"
                    },
                    "text": "Strike rate"
                  },
                  "zeroline": false
                },
                "template": {
                  "data": {
                    "histogram2dcontour": [
                      {
                        "type": "histogram2dcontour",
                        "colorbar": {
                          "outlinewidth": 0,
                          "ticks": ""
                        },
                        "colorscale": [
                          [
                            0,
                            "#0d0887"
                          ],
                          [
                            0.1111111111111111,
                            "#46039f"
                          ],
                          [
                            0.2222222222222222,
                            "#7201a8"
                          ],
                          [
                            0.3333333333333333,
                            "#9c179e"
                          ],
                          [
                            0.4444444444444444,
                            "#bd3786"
                          ],
                          [
                            0.5555555555555556,
                            "#d8576b"
                          ],
                          [
                            0.6666666666666666,
                            "#ed7953"
                          ],
                          [
                            0.7777777777777778,
                            "#fb9f3a"
                          ],
                          [
                            0.8888888888888888,
                            "#fdca26"
                          ],
                          [
                            1,
                            "#f0f921"
                          ]
                        ]
                      }
                    ],
                    "choropleth": [
                      {
                        "type": "choropleth",
                        "colorbar": {
                          "outlinewidth": 0,
                          "ticks": ""
                        }
                      }
                    ],
                    "histogram2d": [
                      {
                        "type": "histogram2d",
                        "colorbar": {
                          "outlinewidth": 0,
                          "ticks": ""
                        },
                        "colorscale": [
                          [
                            0,
                            "#0d0887"
                          ],
                          [
                            0.1111111111111111,
                            "#46039f"
                          ],
                          [
                            0.2222222222222222,
                            "#7201a8"
                          ],
                          [
                            0.3333333333333333,
                            "#9c179e"
                          ],
                          [
                            0.4444444444444444,
                            "#bd3786"
                          ],
                          [
                            0.5555555555555556,
                            "#d8576b"
                          ],
                          [
                            0.6666666666666666,
                            "#ed7953"
                          ],
                          [
                            0.7777777777777778,
                            "#fb9f3a"
                          ],
                          [
                            0.8888888888888888,
                            "#fdca26"
                          ],
                          [
                            1,
                            "#f0f921"
                          ]
                        ]
                      }
                    ],
                    "heatmap": [
                      {
                        "type": "heatmap",
                        "colorbar": {
                          "outlinewidth": 0,
                          "ticks": ""
                        },
                        "colorscale": [
                          [
                            0,
                            "#0d0887"
                          ],
                          [
                            0.1111111111111111,
                            "#46039f"
                          ],
                          [
                            0.2222222222222222,
                            "#7201a8"
                          ],
                          [
                            0.3333333333333333,
                            "#9c179e"
                          ],
                          [
                            0.4444444444444444,
                            "#bd3786"
                          ],
                          [
                            0.5555555555555556,
                            "#d8576b"
                          ],
                          [
                            0.6666666666666666,
                            "#ed7953"
                          ],
                          [
                            0.7777777777777778,
                            "#fb9f3a"
                          ],
                          [
                            0.8888888888888888,
                            "#fdca26"
                          ],
                          [
                            1,
                            "#f0f921"
                          ]
                        ]
                      }
                    ],
                    "heatmapgl": [
                      {
                        "type": "heatmapgl",
                        "colorbar": {
                          "outlinewidth": 0,
                          "ticks": ""
                        },
                        "colorscale": [
                          [
                            0,
                            "#0d0887"
                          ],
                          [
                            0.1111111111111111,
                            "#46039f"
                          ],
                          [
                            0.2222222222222222,
                            "#7201a8"
                          ],
                          [
                            0.3333333333333333,
                            "#9c179e"
                          ],
                          [
                            0.4444444444444444,
                            "#bd3786"
                          ],
                          [
                            0.5555555555555556,
                            "#d8576b"
                          ],
                          [
                            0.6666666666666666,
                            "#ed7953"
                          ],
                          [
                            0.7777777777777778,
                            "#fb9f3a"
                          ],
                          [
                            0.8888888888888888,
                            "#fdca26"
                          ],
                          [
                            1,
                            "#f0f921"
                          ]
                        ]
                      }
                    ],
                    "contourcarpet": [
                      {
                        "type": "contourcarpet",
                        "colorbar": {
                          "outlinewidth": 0,
                          "ticks": ""
                        }
                      }
                    ],
                    "contour": [
                      {
                        "type": "contour",
                        "colorbar": {
                          "outlinewidth": 0,
                          "ticks": ""
                        },
                        "colorscale": [
                          [
                            0,
                            "#0d0887"
                          ],
                          [
                            0.1111111111111111,
                            "#46039f"
                          ],
                          [
                            0.2222222222222222,
                            "#7201a8"
                          ],
                          [
                            0.3333333333333333,
                            "#9c179e"
                          ],
                          [
                            0.4444444444444444,
                            "#bd3786"
                          ],
                          [
                            0.5555555555555556,
                            "#d8576b"
                          ],
                          [
                            0.6666666666666666,
                            "#ed7953"
                          ],
                          [
                            0.7777777777777778,
                            "#fb9f3a"
                          ],
                          [
                            0.8888888888888888,
                            "#fdca26"
                          ],
                          [
                            1,
                            "#f0f921"
                          ]
                        ]
                      }
                    ],
                    "surface": [
                      {
                        "type": "surface",
                        "colorbar": {
                          "outlinewidth": 0,
                          "ticks": ""
                        },
                        "colorscale": [
                          [
                            0,
                            "#0d0887"
                          ],
                          [
                            0.1111111111111111,
                            "#46039f"
                          ],
                          [
                            0.2222222222222222,
                            "#7201a8"
                          ],
                          [
                            0.3333333333333333,
                            "#9c179e"
                          ],
                          [
                            0.4444444444444444,
                            "#bd3786"
                          ],
                          [
                            0.5555555555555556,
                            "#d8576b"
                          ],
                          [
                            0.6666666666666666,
                            "#ed7953"
                          ],
                          [
                            0.7777777777777778,
                            "#fb9f3a"
                          ],
                          [
                            0.8888888888888888,
                            "#fdca26"
                          ],
                          [
                            1,
                            "#f0f921"
                          ]
                        ]
                      }
                    ],
                    "mesh3d": [
                      {
                        "type": "mesh3d",
                        "colorbar": {
                          "outlinewidth": 0,
                          "ticks": ""
                        }
                      }
                    ],
                    "scatter": [
                      {
                        "fillpattern": {
                          "fillmode": "overlay",
                          "size": 10,
                          "solidity": 0.2
                        },
                        "type": "scatter"
                      }
                    ],
                    "parcoords": [
                      {
                        "type": "parcoords",
                        "line": {
                          "colorbar": {
                            "outlinewidth": 0,
                            "ticks": ""
                          }
                        }
                      }
                    ],
                    "scatterpolargl": [
                      {
                        "type": "scatterpolargl",
                        "marker": {
                          "colorbar": {
                            "outlinewidth": 0,
                            "ticks": ""
                          }
                        }
                      }
                    ],
                    "bar": [
                      {
                        "error_x": {
                          "color": "#2a3f5f"
                        },
                        "error_y": {
                          "color": "#2a3f5f"
                        },
                        "marker": {
                          "line": {
                            "color": "#E5ECF6",
                            "width": 0.5
                          },
                          "pattern": {
                            "fillmode": "overlay",
                            "size": 10,
                            "solidity": 0.2
                          }
                        },
                        "type": "bar"
                      }
                    ],
                    "scattergeo": [
                      {
                        "type": "scattergeo",
                        "marker": {
                          "colorbar": {
                            "outlinewidth": 0,
                            "ticks": ""
                          }
                        }
                      }
                    ],
                    "scatterpolar": [
                      {
                        "type": "scatterpolar",
                        "marker": {
                          "colorbar": {
                            "outlinewidth": 0,
                            "ticks": ""
                          }
                        }
                      }
                    ],
                    "histogram": [
                      {
                        "marker": {
                          "pattern": {
                            "fillmode": "overlay",
                            "size": 10,
                            "solidity": 0.2
                          }
                        },
                        "type": "histogram"
                      }
                    ],
                    "scattergl": [
                      {
                        "type": "scattergl",
                        "marker": {
                          "colorbar": {
                            "outlinewidth": 0,
                            "ticks": ""
                          }
                        }
                      }
                    ],
                    "scatter3d": [
                      {
                        "type": "scatter3d",
                        "line": {
                          "colorbar": {
                            "outlinewidth": 0,
                            "ticks": ""
                          }
                        },
                        "marker": {
                          "colorbar": {
                            "outlinewidth": 0,
                            "ticks": ""
                          }
                        }
                      }
                    ],
                    "scattermapbox": [
                      {
                        "type": "scattermapbox",
                        "marker": {
                          "colorbar": {
                            "outlinewidth": 0,
                            "ticks": ""
                          }
                        }
                      }
                    ],
                    "scatterternary": [
                      {
                        "type": "scatterternary",
                        "marker": {
                          "colorbar": {
                            "outlinewidth": 0,
                            "ticks": ""
                          }
                        }
                      }
                    ],
                    "scattercarpet": [
                      {
                        "type": "scattercarpet",
                        "marker": {
                          "colorbar": {
                            "outlinewidth": 0,
                            "ticks": ""
                          }
                        }
                      }
                    ],
                    "carpet": [
                      {
                        "aaxis": {
                          "endlinecolor": "#2a3f5f",
                          "gridcolor": "white",
                          "linecolor": "white",
                          "minorgridcolor": "white",
                          "startlinecolor": "#2a3f5f"
                        },
                        "baxis": {
                          "endlinecolor": "#2a3f5f",
                          "gridcolor": "white",
                          "linecolor": "white",
                          "minorgridcolor": "white",
                          "startlinecolor": "#2a3f5f"
                        },
                        "type": "carpet"
                      }
                    ],
                    "table": [
                      {
                        "cells": {
                          "fill": {
                            "color": "#EBF0F8"
                          },
                          "line": {
                            "color": "white"
                          }
                        },
                        "header": {
                          "fill": {
                            "color": "#C8D4E3"
                          },
                          "line": {
                            "color": "white"
                          }
                        },
                        "type": "table"
                      }
                    ],
                    "barpolar": [
                      {
                        "marker": {
                          "line": {
                            "color": "#E5ECF6",
                            "width": 0.5
                          },
                          "pattern": {
                            "fillmode": "overlay",
                            "size": 10,
                            "solidity": 0.2
                          }
                        },
                        "type": "barpolar"
                      }
                    ],
                    "pie": [
                      {
                        "automargin": true,
                        "type": "pie"
                      }
                    ]
                  },
                  "layout": {
                    "autotypenumbers": "strict",
                    "colorway": [
                      "#636efa",
                      "#EF553B",
                      "#00cc96",
                      "#ab63fa",
                      "#FFA15A",
                      "#19d3f3",
                      "#FF6692",
                      "#B6E880",
                      "#FF97FF",
                      "#FECB52"
                    ],
                    "font": {
                      "color": "#2a3f5f"
                    },
                    "hovermode": "closest",
                    "hoverlabel": {
                      "align": "left"
                    },
                    "paper_bgcolor": "white",
                    "plot_bgcolor": "#E5ECF6",
                    "polar": {
                      "bgcolor": "#E5ECF6",
                      "angularaxis": {
                        "gridcolor": "white",
                        "linecolor": "white",
                        "ticks": ""
                      },
                      "radialaxis": {
                        "gridcolor": "white",
                        "linecolor": "white",
                        "ticks": ""
                      }
                    },
                    "ternary": {
                      "bgcolor": "#E5ECF6",
                      "aaxis": {
                        "gridcolor": "white",
                        "linecolor": "white",
                        "ticks": ""
                      },
                      "baxis": {
                        "gridcolor": "white",
                        "linecolor": "white",
                        "ticks": ""
                      },
                      "caxis": {
                        "gridcolor": "white",
                        "linecolor": "white",
                        "ticks": ""
                      }
                    },
                    "coloraxis": {
                      "colorbar": {
                        "outlinewidth": 0,
                        "ticks": ""
                      }
                    },
                    "colorscale": {
                      "sequential": [
                        [
                          0,
                          "#0d0887"
                        ],
                        [
                          0.1111111111111111,
                          "#46039f"
                        ],
                        [
                          0.2222222222222222,
                          "#7201a8"
                        ],
                        [
                          0.3333333333333333,
                          "#9c179e"
                        ],
                        [
                          0.4444444444444444,
                          "#bd3786"
                        ],
                        [
                          0.5555555555555556,
                          "#d8576b"
                        ],
                        [
                          0.6666666666666666,
                          "#ed7953"
                        ],
                        [
                          0.7777777777777778,
                          "#fb9f3a"
                        ],
                        [
                          0.8888888888888888,
                          "#fdca26"
                        ],
                        [
                          1,
                          "#f0f921"
                        ]
                      ],
                      "sequentialminus": [
                        [
                          0,
                          "#0d0887"
                        ],
                        [
                          0.1111111111111111,
                          "#46039f"
                        ],
                        [
                          0.2222222222222222,
                          "#7201a8"
                        ],
                        [
                          0.3333333333333333,
                          "#9c179e"
                        ],
                        [
                          0.4444444444444444,
                          "#bd3786"
                        ],
                        [
                          0.5555555555555556,
                          "#d8576b"
                        ],
                        [
                          0.6666666666666666,
                          "#ed7953"
                        ],
                        [
                          0.7777777777777778,
                          "#fb9f3a"
                        ],
                        [
                          0.8888888888888888,
                          "#fdca26"
                        ],
                        [
                          1,
                          "#f0f921"
                        ]
                      ],
                      "diverging": [
                        [
                          0,
                          "#8e0152"
                        ],
                        [
                          0.1,
                          "#c51b7d"
                        ],
                        [
                          0.2,
                          "#de77ae"
                        ],
                        [
                          0.3,
                          "#f1b6da"
                        ],
                        [
                          0.4,
                          "#fde0ef"
                        ],
                        [
                          0.5,
                          "#f7f7f7"
                        ],
                        [
                          0.6,
                          "#e6f5d0"
                        ],
                        [
                          0.7,
                          "#b8e186"
                        ],
                        [
                          0.8,
                          "#7fbc41"
                        ],
                        [
                          0.9,
                          "#4d9221"
                        ],
                        [
                          1,
                          "#276419"
                        ]
                      ]
                    },
                    "xaxis": {
                      "gridcolor": "white",
                      "linecolor": "white",
                      "ticks": "",
                      "title": {
                        "standoff": 15
                      },
                      "zerolinecolor": "white",
                      "automargin": true,
                      "zerolinewidth": 2
                    },
                    "yaxis": {
                      "gridcolor": "white",
                      "linecolor": "white",
                      "ticks": "",
                      "title": {
                        "standoff": 15
                      },
                      "zerolinecolor": "white",
                      "automargin": true,
                      "zerolinewidth": 2
                    },
                    "scene": {
                      "xaxis": {
                        "backgroundcolor": "#E5ECF6",
                        "gridcolor": "white",
                        "linecolor": "white",
                        "showbackground": true,
                        "ticks": "",
                        "zerolinecolor": "white",
                        "gridwidth": 2
                      },
                      "yaxis": {
                        "backgroundcolor": "#E5ECF6",
                        "gridcolor": "white",
                        "linecolor": "white",
                        "showbackground": true,
                        "ticks": "",
                        "zerolinecolor": "white",
                        "gridwidth": 2
                      },
                      "zaxis": {
                        "backgroundcolor": "#E5ECF6",
                        "gridcolor": "white",
                        "linecolor": "white",
                        "showbackground": true,
                        "ticks": "",
                        "zerolinecolor": "white",
                        "gridwidth": 2
                      }
                    },
                    "shapedefaults": {
                      "line": {
                        "color": "#2a3f5f"
                      }
                    },
                    "annotationdefaults": {
                      "arrowcolor": "#2a3f5f",
                      "arrowhead": 0,
                      "arrowwidth": 1
                    },
                    "geo": {
                      "bgcolor": "white",
                      "landcolor": "#E5ECF6",
                      "subunitcolor": "white",
                      "showland": true,
                      "showlakes": true,
                      "lakecolor": "white"
                    },
                    "title": {
                      "x": 0.05
                    },
                    "mapbox": {
                      "style": "light"
                    }
                  }
                }
              },
              "config": {
                "plotlyServerURL": "https://plot.ly"
              }
            },
            "text/html": "<div>                            <div id=\"dfd54b04-3aa5-4c36-a32e-d11e8304dfad\" class=\"plotly-graph-div\" style=\"height:525px; width:100%;\"></div>            <script type=\"text/javascript\">                require([\"plotly\"], function(Plotly) {                    window.PLOTLYENV=window.PLOTLYENV || {};                                    if (document.getElementById(\"dfd54b04-3aa5-4c36-a32e-d11e8304dfad\")) {                    Plotly.newPlot(                        \"dfd54b04-3aa5-4c36-a32e-d11e8304dfad\",                        [{\"hoverinfo\":\"text\",\"marker\":{\"autocolorscale\":true,\"cmin\":0,\"color\":[1343.890909090909,387.87777777777774,579.2777777777778,632.125,1249.6190476190475,705.0277777777778,315.3888888888889,336.62222222222226,267.0000000000001,349.00000000000006,437.26785714285717,393.55357142857144,390.16666666666663,425.29999999999995,163.25,504.85714285714283,259.4444444444444,310.7857142857143,561.25,411.9,528.0277777777778,928.2666666666667,1021.3,289.61904761904754,150.99999999999997,134.76666666666665,73.95238095238092,605.6999999999999,151.2380952380952,63.410714285714285,240.33333333333334,189.2,145.2857142857143,209.06666666666666,1012.5,243.6,76.79999999999998,173.66666666666666,339.6666666666667,14.333333333333258,170.33333333333331,224.33333333333331,170.0,14.333333333333314,91.69999999999999,2.0,43.0,48.333333333333336,312.5,65.33333333333331,null,18.0,18.800000000000004,220.5,75.33333333333333,180.5,7.0,18.666666666666668,61.0,null,null,null,4.5,2.0,null,null,0.0,0.3333333333333333,0.5,null,null,null,null,null,null,null,0.5,null,null,null],\"colorbar\":{\"title\":{\"text\":\"Score variance\"}},\"reversescale\":true,\"size\":20,\"symbol\":\"circle\"},\"mode\":\"markers\",\"showlegend\":false,\"text\":[\"Kamran Akmal  Peshawar Zalmi\",\"Babar Azam  Karachi Kings\",\"DR Smith  Islamabad United\",\"RR Rossouw  Quetta Gladiators\",\"KP Pietersen  Quetta Gladiators\",\"Ahmed Shehzad  Quetta Gladiators\",\"KC Sangakkara  Karachi Kings\",\"Shoaib Malik  Karachi Kings\",\"KA Pollard  Karachi Kings\",\"Sarfraz Ahmed  Quetta Gladiators\",\"Fakhar Zaman  Lahore Qalandars\",\"Shahid Afridi  Peshawar Zalmi\",\"DJ Malan  Peshawar Zalmi\",\"JJ Roy  Lahore Qalandars\",\"SR Watson  Islamabad United\",\"Umar Akmal  Lahore Qalandars\",\"CH Gayle  Karachi Kings\",\"Misbah-ul-Haq  Islamabad United\",\"Mohammad Hafeez  Peshawar Zalmi\",\"Asad Shafiq  Quetta Gladiators\",\"BJ Haddin  Islamabad United\",\"EJG Morgan  Peshawar Zalmi\",\"SW Billings  Islamabad United\",\"Mohammad Rizwan  Lahore Qalandars\",\"DJG Sammy  Peshawar Zalmi\",\"RS Bopara  Karachi Kings\",\"SP Narine  Lahore Qalandars\",\"Tamim Iqbal  Peshawar Zalmi\",\"BB McCullum  Lahore Qalandars\",\"Imad Wasim  Karachi Kings\",\"CS Delport  Lahore Qalandars\",\"MN Samuels  Peshawar Zalmi\",\"GD Elliott  Lahore Qalandars\",\"Sohail Tanvir  Lahore Qalandars\",\"Hussain Talat  Islamabad United\",\"Shadab Khan  Islamabad United\",\"Anwar Ali  Quetta Gladiators\",\"Shakib Al Hasan  Peshawar Zalmi\",\"Asif Ali  Islamabad United\",\"Rafatullah Mohmand  Islamabad United\",\"NLTC Perera  Quetta Gladiators\",\"Mahmudullah  Quetta Gladiators\",\"Sohaib Maqsood  Peshawar Zalmi\",\"Haris Sohail  Peshawar Zalmi\",\"Wahab Riaz  Peshawar Zalmi\",\"BM Duckett  Islamabad United\",\"Hasan Khan  Quetta Gladiators\",\"CJ Jordan  Peshawar Zalmi\",\"Aamer Yamin  Lahore Qalandars\",\"Amad Butt  Islamabad United\",\"SM Ervine  Quetta Gladiators\",\"Mohammad Amir  Karachi Kings\",\"Hasan Ali  Peshawar Zalmi\",\"Yasir Shah  Lahore Qalandars\",\"Mohammad Nawaz (3)  Quetta Gladiators\",\"Shahzaib Hasan  Karachi Kings\",\"Saad Nasim  Quetta Gladiators\",\"Sohail Khan  Karachi Kings\",\"Iftikhar Ahmed  Peshawar Zalmi\",\"LJ Wright  Quetta Gladiators\",\"DPMD Jayawardene  Karachi Kings\",\"RR Emrit  Quetta Gladiators\",\"Usama Mir  Karachi Kings\",\"Mohammad Irfan (4)  Lahore Qalandars\",\"Anamul Haque  Quetta Gladiators\",\"Umar Gul  Quetta Gladiators\",\"Bilawal Bhatti  Lahore Qalandars\",\"Mohammad Sami  Islamabad United\",\"TS Mills  Quetta Gladiators\",\"N Pooran  Islamabad United\",\"Ghulam Mudassar  Lahore Qalandars\",\"Sharjeel Khan  Islamabad United\",\"Imran Khalid  Islamabad United\",\"Junaid Khan  Peshawar Zalmi\",\"Khushdil Shah  Peshawar Zalmi\",\"MN van Wyk  Quetta Gladiators\",\"Zulfiqar Babar  Quetta Gladiators\",\"Usman Khan  Karachi Kings\",\"Rumman Raees  Islamabad United\",\"Mohammad Irfan  Islamabad United\"],\"x\":[32.09090909090909,29.1,30.444444444444443,31.875,34.42857142857143,26.444444444444443,21.5,20.2,22.333333333333332,20.333333333333332,22.125,22.125,29.166666666666668,34.6,19.0,20.5,17.77777777777778,19.75,17.0,24.5,15.444444444444445,22.666666666666668,26.6,18.571428571428573,13.333333333333334,11.9,16.571428571428573,18.8,13.285714285714286,10.375,20.5,16.2,10.571428571428571,11.333333333333334,33.5,11.0,11.4,13.5,11.5,15.333333333333334,13.333333333333334,12.333333333333334,7.0,10.333333333333334,6.2,15.0,6.5,6.5,12.5,8.333333333333334,24.0,6.0,4.6,11.5,5.0,9.5,6.0,4.0,5.0,12.0,10.0,6.0,2.5,1.0,3.0,2.0,1.0,0.5,0.5,1.0,1.0,1.0,1.0,1.0,1.0,1.0,0.5,0.0,0.0,0.0],\"y\":[128.83211678832117,109.81132075471699,110.93117408906883,121.42857142857143,148.76543209876544,127.95698924731182,114.36170212765957,120.23809523809524,162.09677419354838,128.8732394366197,136.15384615384616,163.88888888888889,129.62962962962962,149.13793103448276,132.5581395348837,124.24242424242425,108.84353741496598,108.21917808219177,96.83544303797468,106.52173913043478,118.80341880341881,101.49253731343283,134.34343434343435,120.37037037037037,127.65957446808511,94.44444444444444,170.58823529411765,106.81818181818181,116.25,129.6875,146.42857142857142,120.8955223880597,92.5,103.03030303030303,131.37254901960785,157.14285714285714,129.54545454545453,110.20408163265306,102.22222222222223,124.32432432432432,111.11111111111111,137.03703703703704,92.10526315789474,67.3913043478261,79.48717948717949,88.23529411764706,96.29629629629629,86.66666666666667,96.15384615384616,96.15384615384616,126.3157894736842,114.28571428571429,153.33333333333334,100.0,105.26315789473684,111.76470588235294,105.88235294117646,114.28571428571429,57.69230769230769,171.42857142857142,125.0,66.66666666666667,125.0,66.66666666666667,33.333333333333336,66.66666666666667,28.571428571428573,50.0,50.0,33.333333333333336,100.0,25.0,100.0,50.0,16.666666666666668,14.285714285714286,33.333333333333336,0.0,0.0,0.0],\"type\":\"scatter\"}],                        {\"paper_bgcolor\":\"white\",\"plot_bgcolor\":\"white\",\"title\":{\"text\":\"All batsman's performance - Average runs, Strike rate, Score variance\"},\"xaxis\":{\"showgrid\":false,\"title\":{\"text\":\"Average runs\"},\"zeroline\":false},\"yaxis\":{\"color\":\"black\",\"showgrid\":true,\"title\":{\"font\":{\"color\":\"black\"},\"text\":\"Strike rate\"},\"zeroline\":false},\"template\":{\"data\":{\"histogram2dcontour\":[{\"type\":\"histogram2dcontour\",\"colorbar\":{\"outlinewidth\":0,\"ticks\":\"\"},\"colorscale\":[[0.0,\"#0d0887\"],[0.1111111111111111,\"#46039f\"],[0.2222222222222222,\"#7201a8\"],[0.3333333333333333,\"#9c179e\"],[0.4444444444444444,\"#bd3786\"],[0.5555555555555556,\"#d8576b\"],[0.6666666666666666,\"#ed7953\"],[0.7777777777777778,\"#fb9f3a\"],[0.8888888888888888,\"#fdca26\"],[1.0,\"#f0f921\"]]}],\"choropleth\":[{\"type\":\"choropleth\",\"colorbar\":{\"outlinewidth\":0,\"ticks\":\"\"}}],\"histogram2d\":[{\"type\":\"histogram2d\",\"colorbar\":{\"outlinewidth\":0,\"ticks\":\"\"},\"colorscale\":[[0.0,\"#0d0887\"],[0.1111111111111111,\"#46039f\"],[0.2222222222222222,\"#7201a8\"],[0.3333333333333333,\"#9c179e\"],[0.4444444444444444,\"#bd3786\"],[0.5555555555555556,\"#d8576b\"],[0.6666666666666666,\"#ed7953\"],[0.7777777777777778,\"#fb9f3a\"],[0.8888888888888888,\"#fdca26\"],[1.0,\"#f0f921\"]]}],\"heatmap\":[{\"type\":\"heatmap\",\"colorbar\":{\"outlinewidth\":0,\"ticks\":\"\"},\"colorscale\":[[0.0,\"#0d0887\"],[0.1111111111111111,\"#46039f\"],[0.2222222222222222,\"#7201a8\"],[0.3333333333333333,\"#9c179e\"],[0.4444444444444444,\"#bd3786\"],[0.5555555555555556,\"#d8576b\"],[0.6666666666666666,\"#ed7953\"],[0.7777777777777778,\"#fb9f3a\"],[0.8888888888888888,\"#fdca26\"],[1.0,\"#f0f921\"]]}],\"heatmapgl\":[{\"type\":\"heatmapgl\",\"colorbar\":{\"outlinewidth\":0,\"ticks\":\"\"},\"colorscale\":[[0.0,\"#0d0887\"],[0.1111111111111111,\"#46039f\"],[0.2222222222222222,\"#7201a8\"],[0.3333333333333333,\"#9c179e\"],[0.4444444444444444,\"#bd3786\"],[0.5555555555555556,\"#d8576b\"],[0.6666666666666666,\"#ed7953\"],[0.7777777777777778,\"#fb9f3a\"],[0.8888888888888888,\"#fdca26\"],[1.0,\"#f0f921\"]]}],\"contourcarpet\":[{\"type\":\"contourcarpet\",\"colorbar\":{\"outlinewidth\":0,\"ticks\":\"\"}}],\"contour\":[{\"type\":\"contour\",\"colorbar\":{\"outlinewidth\":0,\"ticks\":\"\"},\"colorscale\":[[0.0,\"#0d0887\"],[0.1111111111111111,\"#46039f\"],[0.2222222222222222,\"#7201a8\"],[0.3333333333333333,\"#9c179e\"],[0.4444444444444444,\"#bd3786\"],[0.5555555555555556,\"#d8576b\"],[0.6666666666666666,\"#ed7953\"],[0.7777777777777778,\"#fb9f3a\"],[0.8888888888888888,\"#fdca26\"],[1.0,\"#f0f921\"]]}],\"surface\":[{\"type\":\"surface\",\"colorbar\":{\"outlinewidth\":0,\"ticks\":\"\"},\"colorscale\":[[0.0,\"#0d0887\"],[0.1111111111111111,\"#46039f\"],[0.2222222222222222,\"#7201a8\"],[0.3333333333333333,\"#9c179e\"],[0.4444444444444444,\"#bd3786\"],[0.5555555555555556,\"#d8576b\"],[0.6666666666666666,\"#ed7953\"],[0.7777777777777778,\"#fb9f3a\"],[0.8888888888888888,\"#fdca26\"],[1.0,\"#f0f921\"]]}],\"mesh3d\":[{\"type\":\"mesh3d\",\"colorbar\":{\"outlinewidth\":0,\"ticks\":\"\"}}],\"scatter\":[{\"fillpattern\":{\"fillmode\":\"overlay\",\"size\":10,\"solidity\":0.2},\"type\":\"scatter\"}],\"parcoords\":[{\"type\":\"parcoords\",\"line\":{\"colorbar\":{\"outlinewidth\":0,\"ticks\":\"\"}}}],\"scatterpolargl\":[{\"type\":\"scatterpolargl\",\"marker\":{\"colorbar\":{\"outlinewidth\":0,\"ticks\":\"\"}}}],\"bar\":[{\"error_x\":{\"color\":\"#2a3f5f\"},\"error_y\":{\"color\":\"#2a3f5f\"},\"marker\":{\"line\":{\"color\":\"#E5ECF6\",\"width\":0.5},\"pattern\":{\"fillmode\":\"overlay\",\"size\":10,\"solidity\":0.2}},\"type\":\"bar\"}],\"scattergeo\":[{\"type\":\"scattergeo\",\"marker\":{\"colorbar\":{\"outlinewidth\":0,\"ticks\":\"\"}}}],\"scatterpolar\":[{\"type\":\"scatterpolar\",\"marker\":{\"colorbar\":{\"outlinewidth\":0,\"ticks\":\"\"}}}],\"histogram\":[{\"marker\":{\"pattern\":{\"fillmode\":\"overlay\",\"size\":10,\"solidity\":0.2}},\"type\":\"histogram\"}],\"scattergl\":[{\"type\":\"scattergl\",\"marker\":{\"colorbar\":{\"outlinewidth\":0,\"ticks\":\"\"}}}],\"scatter3d\":[{\"type\":\"scatter3d\",\"line\":{\"colorbar\":{\"outlinewidth\":0,\"ticks\":\"\"}},\"marker\":{\"colorbar\":{\"outlinewidth\":0,\"ticks\":\"\"}}}],\"scattermapbox\":[{\"type\":\"scattermapbox\",\"marker\":{\"colorbar\":{\"outlinewidth\":0,\"ticks\":\"\"}}}],\"scatterternary\":[{\"type\":\"scatterternary\",\"marker\":{\"colorbar\":{\"outlinewidth\":0,\"ticks\":\"\"}}}],\"scattercarpet\":[{\"type\":\"scattercarpet\",\"marker\":{\"colorbar\":{\"outlinewidth\":0,\"ticks\":\"\"}}}],\"carpet\":[{\"aaxis\":{\"endlinecolor\":\"#2a3f5f\",\"gridcolor\":\"white\",\"linecolor\":\"white\",\"minorgridcolor\":\"white\",\"startlinecolor\":\"#2a3f5f\"},\"baxis\":{\"endlinecolor\":\"#2a3f5f\",\"gridcolor\":\"white\",\"linecolor\":\"white\",\"minorgridcolor\":\"white\",\"startlinecolor\":\"#2a3f5f\"},\"type\":\"carpet\"}],\"table\":[{\"cells\":{\"fill\":{\"color\":\"#EBF0F8\"},\"line\":{\"color\":\"white\"}},\"header\":{\"fill\":{\"color\":\"#C8D4E3\"},\"line\":{\"color\":\"white\"}},\"type\":\"table\"}],\"barpolar\":[{\"marker\":{\"line\":{\"color\":\"#E5ECF6\",\"width\":0.5},\"pattern\":{\"fillmode\":\"overlay\",\"size\":10,\"solidity\":0.2}},\"type\":\"barpolar\"}],\"pie\":[{\"automargin\":true,\"type\":\"pie\"}]},\"layout\":{\"autotypenumbers\":\"strict\",\"colorway\":[\"#636efa\",\"#EF553B\",\"#00cc96\",\"#ab63fa\",\"#FFA15A\",\"#19d3f3\",\"#FF6692\",\"#B6E880\",\"#FF97FF\",\"#FECB52\"],\"font\":{\"color\":\"#2a3f5f\"},\"hovermode\":\"closest\",\"hoverlabel\":{\"align\":\"left\"},\"paper_bgcolor\":\"white\",\"plot_bgcolor\":\"#E5ECF6\",\"polar\":{\"bgcolor\":\"#E5ECF6\",\"angularaxis\":{\"gridcolor\":\"white\",\"linecolor\":\"white\",\"ticks\":\"\"},\"radialaxis\":{\"gridcolor\":\"white\",\"linecolor\":\"white\",\"ticks\":\"\"}},\"ternary\":{\"bgcolor\":\"#E5ECF6\",\"aaxis\":{\"gridcolor\":\"white\",\"linecolor\":\"white\",\"ticks\":\"\"},\"baxis\":{\"gridcolor\":\"white\",\"linecolor\":\"white\",\"ticks\":\"\"},\"caxis\":{\"gridcolor\":\"white\",\"linecolor\":\"white\",\"ticks\":\"\"}},\"coloraxis\":{\"colorbar\":{\"outlinewidth\":0,\"ticks\":\"\"}},\"colorscale\":{\"sequential\":[[0.0,\"#0d0887\"],[0.1111111111111111,\"#46039f\"],[0.2222222222222222,\"#7201a8\"],[0.3333333333333333,\"#9c179e\"],[0.4444444444444444,\"#bd3786\"],[0.5555555555555556,\"#d8576b\"],[0.6666666666666666,\"#ed7953\"],[0.7777777777777778,\"#fb9f3a\"],[0.8888888888888888,\"#fdca26\"],[1.0,\"#f0f921\"]],\"sequentialminus\":[[0.0,\"#0d0887\"],[0.1111111111111111,\"#46039f\"],[0.2222222222222222,\"#7201a8\"],[0.3333333333333333,\"#9c179e\"],[0.4444444444444444,\"#bd3786\"],[0.5555555555555556,\"#d8576b\"],[0.6666666666666666,\"#ed7953\"],[0.7777777777777778,\"#fb9f3a\"],[0.8888888888888888,\"#fdca26\"],[1.0,\"#f0f921\"]],\"diverging\":[[0,\"#8e0152\"],[0.1,\"#c51b7d\"],[0.2,\"#de77ae\"],[0.3,\"#f1b6da\"],[0.4,\"#fde0ef\"],[0.5,\"#f7f7f7\"],[0.6,\"#e6f5d0\"],[0.7,\"#b8e186\"],[0.8,\"#7fbc41\"],[0.9,\"#4d9221\"],[1,\"#276419\"]]},\"xaxis\":{\"gridcolor\":\"white\",\"linecolor\":\"white\",\"ticks\":\"\",\"title\":{\"standoff\":15},\"zerolinecolor\":\"white\",\"automargin\":true,\"zerolinewidth\":2},\"yaxis\":{\"gridcolor\":\"white\",\"linecolor\":\"white\",\"ticks\":\"\",\"title\":{\"standoff\":15},\"zerolinecolor\":\"white\",\"automargin\":true,\"zerolinewidth\":2},\"scene\":{\"xaxis\":{\"backgroundcolor\":\"#E5ECF6\",\"gridcolor\":\"white\",\"linecolor\":\"white\",\"showbackground\":true,\"ticks\":\"\",\"zerolinecolor\":\"white\",\"gridwidth\":2},\"yaxis\":{\"backgroundcolor\":\"#E5ECF6\",\"gridcolor\":\"white\",\"linecolor\":\"white\",\"showbackground\":true,\"ticks\":\"\",\"zerolinecolor\":\"white\",\"gridwidth\":2},\"zaxis\":{\"backgroundcolor\":\"#E5ECF6\",\"gridcolor\":\"white\",\"linecolor\":\"white\",\"showbackground\":true,\"ticks\":\"\",\"zerolinecolor\":\"white\",\"gridwidth\":2}},\"shapedefaults\":{\"line\":{\"color\":\"#2a3f5f\"}},\"annotationdefaults\":{\"arrowcolor\":\"#2a3f5f\",\"arrowhead\":0,\"arrowwidth\":1},\"geo\":{\"bgcolor\":\"white\",\"landcolor\":\"#E5ECF6\",\"subunitcolor\":\"white\",\"showland\":true,\"showlakes\":true,\"lakecolor\":\"white\"},\"title\":{\"x\":0.05},\"mapbox\":{\"style\":\"light\"}}}},                        {\"responsive\": true}                    ).then(function(){\n                            \nvar gd = document.getElementById('dfd54b04-3aa5-4c36-a32e-d11e8304dfad');\nvar x = new MutationObserver(function (mutations, observer) {{\n        var display = window.getComputedStyle(gd).display;\n        if (!display || display === 'none') {{\n            console.log([gd, 'removed!']);\n            Plotly.purge(gd);\n            observer.disconnect();\n        }}\n}});\n\n// Listen for the removal of the full notebook cells\nvar notebookContainer = gd.closest('#notebook-container');\nif (notebookContainer) {{\n    x.observe(notebookContainer, {childList: true});\n}}\n\n// Listen for the clearing of the current output cell\nvar outputEl = gd.closest('.output');\nif (outputEl) {{\n    x.observe(outputEl, {childList: true});\n}}\n\n                        })                };                });            </script>        </div>"
          },
          "metadata": {}
        }
      ],
      "source": [
        "import plotly.express as px\n",
        "\n",
        "def wick(x):\n",
        "    if x != \"No dismisal\":\n",
        "        return 1\n",
        "    else:\n",
        "        return 0\n",
        "df['wicket'] = df['Dismisal_kind'].apply(lambda x: wick(x))\n",
        "\n",
        "\n",
        "def isSix(x):\n",
        "    if x == 6:\n",
        "        return 1\n",
        "    else:\n",
        "        return 0\n",
        "    \n",
        "def isFour(x):\n",
        "    if x == 4:\n",
        "        return 1\n",
        "    else:\n",
        "        return 0\n",
        "df['Six'] = df['Batsman_runs'].map(lambda x: isSix(x))\n",
        "df['Four'] = df['Batsman_runs'].map(lambda x: isFour(x))\n",
        "\n",
        "\n",
        "\n",
        "#Ball-by-ball detail for each batsman\n",
        "\n",
        "df_bat = pd.merge(df.groupby(['Batsman_strike','Match_id']).sum().reset_index()[['Batsman_strike','Match_id','Batsman_runs']], df.groupby(['Batsman_strike', 'Match_id']).count().reset_index()[['Batsman_strike','Match_id', 'Ball']].rename(columns = {'Ball': 'Balls_played'}), on = ['Batsman_strike', 'Match_id'])\n",
        "\n",
        "\n",
        "\n",
        "##Batting datafrane\n",
        "df_batAvg = pd.merge(pd.merge(df_bat.groupby('Batsman_strike').mean().reset_index()[['Batsman_strike','Batsman_runs', 'Balls_played']].rename(columns = {'Batsman_runs' : 'AvgRuns_match' , 'Balls_played': 'AvgBalls_match'}), df[['Batsman_strike', 'Batting_team']].drop_duplicates(keep = 'first'), on = 'Batsman_strike') , pd.merge(df.groupby(['Batsman_strike']).sum().reset_index()[['Batsman_strike', 'Batsman_runs', 'Six', 'Four']].rename(columns = {'Batsman_runs': 'TotalRuns', 'Six':'TotalSixes', 'Four':'TotalFours'}), df.groupby(['Batsman_strike']).count().reset_index()[['Batsman_strike' , 'Ball']].rename(columns = {'Ball': 'Balls_played'}), on ='Batsman_strike'), on = 'Batsman_strike')\n",
        "                                                                                                                                     \n",
        "                                                                                                                                     \n",
        "\n",
        "df_batAvg['Runs_sq'] = 0\n",
        "df_batAvg['Matches_played'] = 0\n",
        "\n",
        "\n",
        "#To calculate variance\n",
        "for i in range(len(df_batAvg)):\n",
        "    for j in range(len(df_bat)):\n",
        "        if df_batAvg.iloc[i]['Batsman_strike'] == df_bat.iloc[j]['Batsman_strike']:\n",
        "            df_batAvg['Runs_sq'].iloc[i] += df_bat.iloc[j]['Batsman_runs'] **2\n",
        "            df_batAvg['Matches_played'].iloc[i] += 1\n",
        "\n",
        "\n",
        "#Strke rate, % boundary and Variance\n",
        "df_batAvg['Strike_rate'] = df_batAvg['TotalRuns'] * 100 /df_batAvg['Balls_played']\n",
        "df_batAvg['PercentageRuns_boundary'] = (df_batAvg['TotalSixes']* 6 + df_batAvg['TotalFours'] * 4) * 100/df_batAvg['TotalRuns']\n",
        "\n",
        "NumberMatches = df_batAvg['Matches_played']\n",
        "AvgRuns = df_batAvg['AvgRuns_match']\n",
        "df_batAvg[\"Var\"] = 0\n",
        "\n",
        "for i in range(len(df_batAvg)):\n",
        "    if NumberMatches.loc[i] > 0:\n",
        "        df_batAvg[\"Var\"].loc[i] = (df_batAvg['Runs_sq'].loc[i] - NumberMatches.loc[i]*(AvgRuns.loc[i]**2))/(NumberMatches.loc[i] - 1)\n",
        "\n",
        "df_batAvg = df_batAvg.sort_values(by = 'TotalRuns', ascending = False)\n",
        "\n",
        "\n",
        "##Batsman Scatter\n",
        "\n",
        "z = df_batAvg['Batsman_strike']\n",
        "trace = go.Scatter(y = df_batAvg['Strike_rate'], x= df_batAvg['AvgRuns_match'], mode = 'markers', showlegend = False , text = df_batAvg['Batsman_strike'] + \"  \" + df_batAvg['Batting_team'], hoverinfo =  \"text\", marker = dict(size = 20, symbol = 'circle' , cmin = 0, autocolorscale = True, reversescale = True, colorbar = {'title' : {'text': 'Score variance'}}, color = df_batAvg['Var']))\n",
        "data = [trace]\n",
        "\n",
        "layout = go.Layout(\n",
        "    paper_bgcolor = 'white',plot_bgcolor = 'white' , yaxis = \n",
        "    dict(title = dict(text = \"Strike rate\" , font = dict(color ='black')) ,showgrid = True, zeroline = False, color = 'black'), \n",
        "    xaxis = dict( title= dict( text = 'Average runs'), showgrid = False, zeroline= False), title = dict(text = \"All batsman's performance - Average runs, Strike rate, Score variance\")\n",
        "    )\n",
        "fig = go.Figure(data = data, layout = layout)\n",
        "plotly.offline.init_notebook_mode(connected=True)\n",
        "plotly.offline.plot(fig, include_plotlyjs = False, output_type = 'div')\n",
        "\n",
        "# px.scatter(y = df_batAvg['Strike_rate'], x= df_batAvg['AvgRuns_match'], color=df_batAvg[\"Var\"])\n",
        "fig.show()\n",
        "\n",
        "##\n",
        "##Queetta has 6, pesh, lahore has 4, khi, Isl has 3 in top quadrant\n",
        "##prints\n"
      ]
    },
    {
      "cell_type": "code",
      "execution_count": 258,
      "metadata": {},
      "outputs": [],
      "source": [
        "def quadrant_chart(x, y, team,var=None, xtick_labels=None, ytick_labels=None, highlight_quadrants=None):\n",
        "    \"\"\"\n",
        "    Create the classic four-quadrant chart.\n",
        "    Args:\n",
        "        x -- array-like, the x-coordinates to plot\n",
        "        y -- array-like, the y-coordinates to plot\n",
        "        xtick_labels -- list, default: None, a two-value list xtick labels\n",
        "        ytick_labels -- list, default: None, a two-value list of ytick labels\n",
        "        data_labels -- array-like, default: None, data point annotations\n",
        "        highlight_quadrants -- list, default: None, list of quadrants to\n",
        "            emphasize (quadrants are numbered 1-4)\n",
        "        ax -- matplotlib.axes object, default: None, the user can pass their own\n",
        "            axes object if desired\n",
        "    \"\"\"\n",
        "    # allow user to specify their own axes\n",
        "    # ax = ax if ax else plt.axes()\n",
        "\n",
        "    data = pd.DataFrame({'x': x, 'y': y, 'team':team, 'var':var})\n",
        "\n",
        "    # calculate averages up front to avoid repeated calculations\n",
        "    y_avg = data['y'].mean()\n",
        "    x_avg = data['x'].mean()\n",
        "\n",
        "    # determine which points to highlight\n",
        "    # if highlight_quadrants:\n",
        "    #     quadrants = []\n",
        "    #     for x_val, y_val in zip(x, y):\n",
        "    #         q = []\n",
        "    #         if (x_val >= x_avg) and (y_val >= y_avg):\n",
        "    #             q.append(1)\n",
        "    #         if (x_val <= x_avg) and (y_val >= y_avg):\n",
        "    #             q.append(2)\n",
        "    #         if (x_val <= x_avg) and (y_val <= y_avg):\n",
        "    #             q.append(3)\n",
        "    #         if (x_val >= x_avg) and (y_val <= y_avg):\n",
        "    #             q.append(4)\n",
        "    #         quadrants.append(q)\n",
        "    #     data['quadrant'] = quadrants\n",
        "\n",
        "    #     # boolean mask - True = highlight, False = don't highlight\n",
        "    #     highlight = data['quadrant'].apply(lambda q: len(set(\n",
        "    #     highlight_quadrants) & set(q)) > 0)\n",
        "\n",
        "    #     # plot the non-highlighted points within the conditional block\n",
        "    #     fig= px.scatter(data['x'][~highlight], data['y'][~highlight], color=data['bat_team'][~highlight])\n",
        "    #     data = data[highlight]\n",
        "\n",
        "    # plot remaining points and quadrant lines\n",
        "    # fig = px.scatter(x=data['x'], y=data['y'], color= data['var'])\n",
        "    # fig.add_hline(y= y_avg, line_color='red', line_width=1)\n",
        "    # fig.add_vline(x = x_avg, line_color='green', line_width=1)\n",
        "    \n",
        "    fig1= px.scatter(x=data['x'], y=data['y'], color= data['team'])\n",
        "    fig1.add_hline(y= y_avg, line_color='red', line_width=1)\n",
        "    fig1.add_vline(x = x_avg, line_color='green', line_width=1)\n",
        "    fig.show()\n",
        "    fig1.show()\n",
        "\n",
        "    # # add data labels\n",
        "    # for ix, row in data.iterrows():\n",
        "    #     px.annotate(row['data_labels'], (row['x'], row['y']), xytext=(2, 5),\n",
        "    #     textcoords='offset pixels')"
      ]
    },
    {
      "cell_type": "code",
      "execution_count": 259,
      "metadata": {},
      "outputs": [
        {
          "output_type": "display_data",
          "data": {
            "application/vnd.plotly.v1+json": {
              "data": [
                {
                  "hoverinfo": "text",
                  "marker": {
                    "autocolorscale": true,
                    "cmin": 0,
                    "color": [
                      1343.890909090909,
                      387.87777777777774,
                      579.2777777777778,
                      632.125,
                      1249.6190476190475,
                      705.0277777777778,
                      315.3888888888889,
                      336.62222222222226,
                      267.0000000000001,
                      349.00000000000006,
                      437.26785714285717,
                      393.55357142857144,
                      390.16666666666663,
                      425.29999999999995,
                      163.25,
                      504.85714285714283,
                      259.4444444444444,
                      310.7857142857143,
                      561.25,
                      411.9,
                      528.0277777777778,
                      928.2666666666667,
                      1021.3,
                      289.61904761904754,
                      150.99999999999997,
                      134.76666666666665,
                      73.95238095238092,
                      605.6999999999999,
                      151.2380952380952,
                      63.410714285714285,
                      240.33333333333334,
                      189.2,
                      145.2857142857143,
                      209.06666666666666,
                      1012.5,
                      243.6,
                      76.79999999999998,
                      173.66666666666666,
                      339.6666666666667,
                      14.333333333333258,
                      170.33333333333331,
                      224.33333333333331,
                      170,
                      14.333333333333314,
                      91.69999999999999,
                      2,
                      43,
                      48.333333333333336,
                      312.5,
                      65.33333333333331,
                      null,
                      18,
                      18.800000000000004,
                      220.5,
                      75.33333333333333,
                      180.5,
                      7,
                      18.666666666666668,
                      61,
                      null,
                      null,
                      null,
                      4.5,
                      2,
                      null,
                      null,
                      0,
                      0.3333333333333333,
                      0.5,
                      null,
                      null,
                      null,
                      null,
                      null,
                      null,
                      null,
                      0.5,
                      null,
                      null,
                      null
                    ],
                    "colorbar": {
                      "title": {
                        "text": "Score variance"
                      }
                    },
                    "reversescale": true,
                    "size": 20,
                    "symbol": "circle"
                  },
                  "mode": "markers",
                  "showlegend": false,
                  "text": [
                    "Kamran Akmal  Peshawar Zalmi",
                    "Babar Azam  Karachi Kings",
                    "DR Smith  Islamabad United",
                    "RR Rossouw  Quetta Gladiators",
                    "KP Pietersen  Quetta Gladiators",
                    "Ahmed Shehzad  Quetta Gladiators",
                    "KC Sangakkara  Karachi Kings",
                    "Shoaib Malik  Karachi Kings",
                    "KA Pollard  Karachi Kings",
                    "Sarfraz Ahmed  Quetta Gladiators",
                    "Fakhar Zaman  Lahore Qalandars",
                    "Shahid Afridi  Peshawar Zalmi",
                    "DJ Malan  Peshawar Zalmi",
                    "JJ Roy  Lahore Qalandars",
                    "SR Watson  Islamabad United",
                    "Umar Akmal  Lahore Qalandars",
                    "CH Gayle  Karachi Kings",
                    "Misbah-ul-Haq  Islamabad United",
                    "Mohammad Hafeez  Peshawar Zalmi",
                    "Asad Shafiq  Quetta Gladiators",
                    "BJ Haddin  Islamabad United",
                    "EJG Morgan  Peshawar Zalmi",
                    "SW Billings  Islamabad United",
                    "Mohammad Rizwan  Lahore Qalandars",
                    "DJG Sammy  Peshawar Zalmi",
                    "RS Bopara  Karachi Kings",
                    "SP Narine  Lahore Qalandars",
                    "Tamim Iqbal  Peshawar Zalmi",
                    "BB McCullum  Lahore Qalandars",
                    "Imad Wasim  Karachi Kings",
                    "CS Delport  Lahore Qalandars",
                    "MN Samuels  Peshawar Zalmi",
                    "GD Elliott  Lahore Qalandars",
                    "Sohail Tanvir  Lahore Qalandars",
                    "Hussain Talat  Islamabad United",
                    "Shadab Khan  Islamabad United",
                    "Anwar Ali  Quetta Gladiators",
                    "Shakib Al Hasan  Peshawar Zalmi",
                    "Asif Ali  Islamabad United",
                    "Rafatullah Mohmand  Islamabad United",
                    "NLTC Perera  Quetta Gladiators",
                    "Mahmudullah  Quetta Gladiators",
                    "Sohaib Maqsood  Peshawar Zalmi",
                    "Haris Sohail  Peshawar Zalmi",
                    "Wahab Riaz  Peshawar Zalmi",
                    "BM Duckett  Islamabad United",
                    "Hasan Khan  Quetta Gladiators",
                    "CJ Jordan  Peshawar Zalmi",
                    "Aamer Yamin  Lahore Qalandars",
                    "Amad Butt  Islamabad United",
                    "SM Ervine  Quetta Gladiators",
                    "Mohammad Amir  Karachi Kings",
                    "Hasan Ali  Peshawar Zalmi",
                    "Yasir Shah  Lahore Qalandars",
                    "Mohammad Nawaz (3)  Quetta Gladiators",
                    "Shahzaib Hasan  Karachi Kings",
                    "Saad Nasim  Quetta Gladiators",
                    "Sohail Khan  Karachi Kings",
                    "Iftikhar Ahmed  Peshawar Zalmi",
                    "LJ Wright  Quetta Gladiators",
                    "DPMD Jayawardene  Karachi Kings",
                    "RR Emrit  Quetta Gladiators",
                    "Usama Mir  Karachi Kings",
                    "Mohammad Irfan (4)  Lahore Qalandars",
                    "Anamul Haque  Quetta Gladiators",
                    "Umar Gul  Quetta Gladiators",
                    "Bilawal Bhatti  Lahore Qalandars",
                    "Mohammad Sami  Islamabad United",
                    "TS Mills  Quetta Gladiators",
                    "N Pooran  Islamabad United",
                    "Ghulam Mudassar  Lahore Qalandars",
                    "Sharjeel Khan  Islamabad United",
                    "Imran Khalid  Islamabad United",
                    "Junaid Khan  Peshawar Zalmi",
                    "Khushdil Shah  Peshawar Zalmi",
                    "MN van Wyk  Quetta Gladiators",
                    "Zulfiqar Babar  Quetta Gladiators",
                    "Usman Khan  Karachi Kings",
                    "Rumman Raees  Islamabad United",
                    "Mohammad Irfan  Islamabad United"
                  ],
                  "x": [
                    32.09090909090909,
                    29.1,
                    30.444444444444443,
                    31.875,
                    34.42857142857143,
                    26.444444444444443,
                    21.5,
                    20.2,
                    22.333333333333332,
                    20.333333333333332,
                    22.125,
                    22.125,
                    29.166666666666668,
                    34.6,
                    19,
                    20.5,
                    17.77777777777778,
                    19.75,
                    17,
                    24.5,
                    15.444444444444445,
                    22.666666666666668,
                    26.6,
                    18.571428571428573,
                    13.333333333333334,
                    11.9,
                    16.571428571428573,
                    18.8,
                    13.285714285714286,
                    10.375,
                    20.5,
                    16.2,
                    10.571428571428571,
                    11.333333333333334,
                    33.5,
                    11,
                    11.4,
                    13.5,
                    11.5,
                    15.333333333333334,
                    13.333333333333334,
                    12.333333333333334,
                    7,
                    10.333333333333334,
                    6.2,
                    15,
                    6.5,
                    6.5,
                    12.5,
                    8.333333333333334,
                    24,
                    6,
                    4.6,
                    11.5,
                    5,
                    9.5,
                    6,
                    4,
                    5,
                    12,
                    10,
                    6,
                    2.5,
                    1,
                    3,
                    2,
                    1,
                    0.5,
                    0.5,
                    1,
                    1,
                    1,
                    1,
                    1,
                    1,
                    1,
                    0.5,
                    0,
                    0,
                    0
                  ],
                  "y": [
                    128.83211678832117,
                    109.81132075471699,
                    110.93117408906883,
                    121.42857142857143,
                    148.76543209876544,
                    127.95698924731182,
                    114.36170212765957,
                    120.23809523809524,
                    162.09677419354838,
                    128.8732394366197,
                    136.15384615384616,
                    163.88888888888889,
                    129.62962962962962,
                    149.13793103448276,
                    132.5581395348837,
                    124.24242424242425,
                    108.84353741496598,
                    108.21917808219177,
                    96.83544303797468,
                    106.52173913043478,
                    118.80341880341881,
                    101.49253731343283,
                    134.34343434343435,
                    120.37037037037037,
                    127.65957446808511,
                    94.44444444444444,
                    170.58823529411765,
                    106.81818181818181,
                    116.25,
                    129.6875,
                    146.42857142857142,
                    120.8955223880597,
                    92.5,
                    103.03030303030303,
                    131.37254901960785,
                    157.14285714285714,
                    129.54545454545453,
                    110.20408163265306,
                    102.22222222222223,
                    124.32432432432432,
                    111.11111111111111,
                    137.03703703703704,
                    92.10526315789474,
                    67.3913043478261,
                    79.48717948717949,
                    88.23529411764706,
                    96.29629629629629,
                    86.66666666666667,
                    96.15384615384616,
                    96.15384615384616,
                    126.3157894736842,
                    114.28571428571429,
                    153.33333333333334,
                    100,
                    105.26315789473684,
                    111.76470588235294,
                    105.88235294117646,
                    114.28571428571429,
                    57.69230769230769,
                    171.42857142857142,
                    125,
                    66.66666666666667,
                    125,
                    66.66666666666667,
                    33.333333333333336,
                    66.66666666666667,
                    28.571428571428573,
                    50,
                    50,
                    33.333333333333336,
                    100,
                    25,
                    100,
                    50,
                    16.666666666666668,
                    14.285714285714286,
                    33.333333333333336,
                    0,
                    0,
                    0
                  ],
                  "type": "scatter"
                }
              ],
              "layout": {
                "paper_bgcolor": "white",
                "plot_bgcolor": "white",
                "title": {
                  "text": "All batsman's performance - Average runs, Strike rate, Score variance"
                },
                "xaxis": {
                  "showgrid": false,
                  "title": {
                    "text": "Average runs"
                  },
                  "zeroline": false
                },
                "yaxis": {
                  "color": "black",
                  "showgrid": true,
                  "title": {
                    "font": {
                      "color": "black"
                    },
                    "text": "Strike rate"
                  },
                  "zeroline": false
                },
                "template": {
                  "data": {
                    "histogram2dcontour": [
                      {
                        "type": "histogram2dcontour",
                        "colorbar": {
                          "outlinewidth": 0,
                          "ticks": ""
                        },
                        "colorscale": [
                          [
                            0,
                            "#0d0887"
                          ],
                          [
                            0.1111111111111111,
                            "#46039f"
                          ],
                          [
                            0.2222222222222222,
                            "#7201a8"
                          ],
                          [
                            0.3333333333333333,
                            "#9c179e"
                          ],
                          [
                            0.4444444444444444,
                            "#bd3786"
                          ],
                          [
                            0.5555555555555556,
                            "#d8576b"
                          ],
                          [
                            0.6666666666666666,
                            "#ed7953"
                          ],
                          [
                            0.7777777777777778,
                            "#fb9f3a"
                          ],
                          [
                            0.8888888888888888,
                            "#fdca26"
                          ],
                          [
                            1,
                            "#f0f921"
                          ]
                        ]
                      }
                    ],
                    "choropleth": [
                      {
                        "type": "choropleth",
                        "colorbar": {
                          "outlinewidth": 0,
                          "ticks": ""
                        }
                      }
                    ],
                    "histogram2d": [
                      {
                        "type": "histogram2d",
                        "colorbar": {
                          "outlinewidth": 0,
                          "ticks": ""
                        },
                        "colorscale": [
                          [
                            0,
                            "#0d0887"
                          ],
                          [
                            0.1111111111111111,
                            "#46039f"
                          ],
                          [
                            0.2222222222222222,
                            "#7201a8"
                          ],
                          [
                            0.3333333333333333,
                            "#9c179e"
                          ],
                          [
                            0.4444444444444444,
                            "#bd3786"
                          ],
                          [
                            0.5555555555555556,
                            "#d8576b"
                          ],
                          [
                            0.6666666666666666,
                            "#ed7953"
                          ],
                          [
                            0.7777777777777778,
                            "#fb9f3a"
                          ],
                          [
                            0.8888888888888888,
                            "#fdca26"
                          ],
                          [
                            1,
                            "#f0f921"
                          ]
                        ]
                      }
                    ],
                    "heatmap": [
                      {
                        "type": "heatmap",
                        "colorbar": {
                          "outlinewidth": 0,
                          "ticks": ""
                        },
                        "colorscale": [
                          [
                            0,
                            "#0d0887"
                          ],
                          [
                            0.1111111111111111,
                            "#46039f"
                          ],
                          [
                            0.2222222222222222,
                            "#7201a8"
                          ],
                          [
                            0.3333333333333333,
                            "#9c179e"
                          ],
                          [
                            0.4444444444444444,
                            "#bd3786"
                          ],
                          [
                            0.5555555555555556,
                            "#d8576b"
                          ],
                          [
                            0.6666666666666666,
                            "#ed7953"
                          ],
                          [
                            0.7777777777777778,
                            "#fb9f3a"
                          ],
                          [
                            0.8888888888888888,
                            "#fdca26"
                          ],
                          [
                            1,
                            "#f0f921"
                          ]
                        ]
                      }
                    ],
                    "heatmapgl": [
                      {
                        "type": "heatmapgl",
                        "colorbar": {
                          "outlinewidth": 0,
                          "ticks": ""
                        },
                        "colorscale": [
                          [
                            0,
                            "#0d0887"
                          ],
                          [
                            0.1111111111111111,
                            "#46039f"
                          ],
                          [
                            0.2222222222222222,
                            "#7201a8"
                          ],
                          [
                            0.3333333333333333,
                            "#9c179e"
                          ],
                          [
                            0.4444444444444444,
                            "#bd3786"
                          ],
                          [
                            0.5555555555555556,
                            "#d8576b"
                          ],
                          [
                            0.6666666666666666,
                            "#ed7953"
                          ],
                          [
                            0.7777777777777778,
                            "#fb9f3a"
                          ],
                          [
                            0.8888888888888888,
                            "#fdca26"
                          ],
                          [
                            1,
                            "#f0f921"
                          ]
                        ]
                      }
                    ],
                    "contourcarpet": [
                      {
                        "type": "contourcarpet",
                        "colorbar": {
                          "outlinewidth": 0,
                          "ticks": ""
                        }
                      }
                    ],
                    "contour": [
                      {
                        "type": "contour",
                        "colorbar": {
                          "outlinewidth": 0,
                          "ticks": ""
                        },
                        "colorscale": [
                          [
                            0,
                            "#0d0887"
                          ],
                          [
                            0.1111111111111111,
                            "#46039f"
                          ],
                          [
                            0.2222222222222222,
                            "#7201a8"
                          ],
                          [
                            0.3333333333333333,
                            "#9c179e"
                          ],
                          [
                            0.4444444444444444,
                            "#bd3786"
                          ],
                          [
                            0.5555555555555556,
                            "#d8576b"
                          ],
                          [
                            0.6666666666666666,
                            "#ed7953"
                          ],
                          [
                            0.7777777777777778,
                            "#fb9f3a"
                          ],
                          [
                            0.8888888888888888,
                            "#fdca26"
                          ],
                          [
                            1,
                            "#f0f921"
                          ]
                        ]
                      }
                    ],
                    "surface": [
                      {
                        "type": "surface",
                        "colorbar": {
                          "outlinewidth": 0,
                          "ticks": ""
                        },
                        "colorscale": [
                          [
                            0,
                            "#0d0887"
                          ],
                          [
                            0.1111111111111111,
                            "#46039f"
                          ],
                          [
                            0.2222222222222222,
                            "#7201a8"
                          ],
                          [
                            0.3333333333333333,
                            "#9c179e"
                          ],
                          [
                            0.4444444444444444,
                            "#bd3786"
                          ],
                          [
                            0.5555555555555556,
                            "#d8576b"
                          ],
                          [
                            0.6666666666666666,
                            "#ed7953"
                          ],
                          [
                            0.7777777777777778,
                            "#fb9f3a"
                          ],
                          [
                            0.8888888888888888,
                            "#fdca26"
                          ],
                          [
                            1,
                            "#f0f921"
                          ]
                        ]
                      }
                    ],
                    "mesh3d": [
                      {
                        "type": "mesh3d",
                        "colorbar": {
                          "outlinewidth": 0,
                          "ticks": ""
                        }
                      }
                    ],
                    "scatter": [
                      {
                        "fillpattern": {
                          "fillmode": "overlay",
                          "size": 10,
                          "solidity": 0.2
                        },
                        "type": "scatter"
                      }
                    ],
                    "parcoords": [
                      {
                        "type": "parcoords",
                        "line": {
                          "colorbar": {
                            "outlinewidth": 0,
                            "ticks": ""
                          }
                        }
                      }
                    ],
                    "scatterpolargl": [
                      {
                        "type": "scatterpolargl",
                        "marker": {
                          "colorbar": {
                            "outlinewidth": 0,
                            "ticks": ""
                          }
                        }
                      }
                    ],
                    "bar": [
                      {
                        "error_x": {
                          "color": "#2a3f5f"
                        },
                        "error_y": {
                          "color": "#2a3f5f"
                        },
                        "marker": {
                          "line": {
                            "color": "#E5ECF6",
                            "width": 0.5
                          },
                          "pattern": {
                            "fillmode": "overlay",
                            "size": 10,
                            "solidity": 0.2
                          }
                        },
                        "type": "bar"
                      }
                    ],
                    "scattergeo": [
                      {
                        "type": "scattergeo",
                        "marker": {
                          "colorbar": {
                            "outlinewidth": 0,
                            "ticks": ""
                          }
                        }
                      }
                    ],
                    "scatterpolar": [
                      {
                        "type": "scatterpolar",
                        "marker": {
                          "colorbar": {
                            "outlinewidth": 0,
                            "ticks": ""
                          }
                        }
                      }
                    ],
                    "histogram": [
                      {
                        "marker": {
                          "pattern": {
                            "fillmode": "overlay",
                            "size": 10,
                            "solidity": 0.2
                          }
                        },
                        "type": "histogram"
                      }
                    ],
                    "scattergl": [
                      {
                        "type": "scattergl",
                        "marker": {
                          "colorbar": {
                            "outlinewidth": 0,
                            "ticks": ""
                          }
                        }
                      }
                    ],
                    "scatter3d": [
                      {
                        "type": "scatter3d",
                        "line": {
                          "colorbar": {
                            "outlinewidth": 0,
                            "ticks": ""
                          }
                        },
                        "marker": {
                          "colorbar": {
                            "outlinewidth": 0,
                            "ticks": ""
                          }
                        }
                      }
                    ],
                    "scattermapbox": [
                      {
                        "type": "scattermapbox",
                        "marker": {
                          "colorbar": {
                            "outlinewidth": 0,
                            "ticks": ""
                          }
                        }
                      }
                    ],
                    "scatterternary": [
                      {
                        "type": "scatterternary",
                        "marker": {
                          "colorbar": {
                            "outlinewidth": 0,
                            "ticks": ""
                          }
                        }
                      }
                    ],
                    "scattercarpet": [
                      {
                        "type": "scattercarpet",
                        "marker": {
                          "colorbar": {
                            "outlinewidth": 0,
                            "ticks": ""
                          }
                        }
                      }
                    ],
                    "carpet": [
                      {
                        "aaxis": {
                          "endlinecolor": "#2a3f5f",
                          "gridcolor": "white",
                          "linecolor": "white",
                          "minorgridcolor": "white",
                          "startlinecolor": "#2a3f5f"
                        },
                        "baxis": {
                          "endlinecolor": "#2a3f5f",
                          "gridcolor": "white",
                          "linecolor": "white",
                          "minorgridcolor": "white",
                          "startlinecolor": "#2a3f5f"
                        },
                        "type": "carpet"
                      }
                    ],
                    "table": [
                      {
                        "cells": {
                          "fill": {
                            "color": "#EBF0F8"
                          },
                          "line": {
                            "color": "white"
                          }
                        },
                        "header": {
                          "fill": {
                            "color": "#C8D4E3"
                          },
                          "line": {
                            "color": "white"
                          }
                        },
                        "type": "table"
                      }
                    ],
                    "barpolar": [
                      {
                        "marker": {
                          "line": {
                            "color": "#E5ECF6",
                            "width": 0.5
                          },
                          "pattern": {
                            "fillmode": "overlay",
                            "size": 10,
                            "solidity": 0.2
                          }
                        },
                        "type": "barpolar"
                      }
                    ],
                    "pie": [
                      {
                        "automargin": true,
                        "type": "pie"
                      }
                    ]
                  },
                  "layout": {
                    "autotypenumbers": "strict",
                    "colorway": [
                      "#636efa",
                      "#EF553B",
                      "#00cc96",
                      "#ab63fa",
                      "#FFA15A",
                      "#19d3f3",
                      "#FF6692",
                      "#B6E880",
                      "#FF97FF",
                      "#FECB52"
                    ],
                    "font": {
                      "color": "#2a3f5f"
                    },
                    "hovermode": "closest",
                    "hoverlabel": {
                      "align": "left"
                    },
                    "paper_bgcolor": "white",
                    "plot_bgcolor": "#E5ECF6",
                    "polar": {
                      "bgcolor": "#E5ECF6",
                      "angularaxis": {
                        "gridcolor": "white",
                        "linecolor": "white",
                        "ticks": ""
                      },
                      "radialaxis": {
                        "gridcolor": "white",
                        "linecolor": "white",
                        "ticks": ""
                      }
                    },
                    "ternary": {
                      "bgcolor": "#E5ECF6",
                      "aaxis": {
                        "gridcolor": "white",
                        "linecolor": "white",
                        "ticks": ""
                      },
                      "baxis": {
                        "gridcolor": "white",
                        "linecolor": "white",
                        "ticks": ""
                      },
                      "caxis": {
                        "gridcolor": "white",
                        "linecolor": "white",
                        "ticks": ""
                      }
                    },
                    "coloraxis": {
                      "colorbar": {
                        "outlinewidth": 0,
                        "ticks": ""
                      }
                    },
                    "colorscale": {
                      "sequential": [
                        [
                          0,
                          "#0d0887"
                        ],
                        [
                          0.1111111111111111,
                          "#46039f"
                        ],
                        [
                          0.2222222222222222,
                          "#7201a8"
                        ],
                        [
                          0.3333333333333333,
                          "#9c179e"
                        ],
                        [
                          0.4444444444444444,
                          "#bd3786"
                        ],
                        [
                          0.5555555555555556,
                          "#d8576b"
                        ],
                        [
                          0.6666666666666666,
                          "#ed7953"
                        ],
                        [
                          0.7777777777777778,
                          "#fb9f3a"
                        ],
                        [
                          0.8888888888888888,
                          "#fdca26"
                        ],
                        [
                          1,
                          "#f0f921"
                        ]
                      ],
                      "sequentialminus": [
                        [
                          0,
                          "#0d0887"
                        ],
                        [
                          0.1111111111111111,
                          "#46039f"
                        ],
                        [
                          0.2222222222222222,
                          "#7201a8"
                        ],
                        [
                          0.3333333333333333,
                          "#9c179e"
                        ],
                        [
                          0.4444444444444444,
                          "#bd3786"
                        ],
                        [
                          0.5555555555555556,
                          "#d8576b"
                        ],
                        [
                          0.6666666666666666,
                          "#ed7953"
                        ],
                        [
                          0.7777777777777778,
                          "#fb9f3a"
                        ],
                        [
                          0.8888888888888888,
                          "#fdca26"
                        ],
                        [
                          1,
                          "#f0f921"
                        ]
                      ],
                      "diverging": [
                        [
                          0,
                          "#8e0152"
                        ],
                        [
                          0.1,
                          "#c51b7d"
                        ],
                        [
                          0.2,
                          "#de77ae"
                        ],
                        [
                          0.3,
                          "#f1b6da"
                        ],
                        [
                          0.4,
                          "#fde0ef"
                        ],
                        [
                          0.5,
                          "#f7f7f7"
                        ],
                        [
                          0.6,
                          "#e6f5d0"
                        ],
                        [
                          0.7,
                          "#b8e186"
                        ],
                        [
                          0.8,
                          "#7fbc41"
                        ],
                        [
                          0.9,
                          "#4d9221"
                        ],
                        [
                          1,
                          "#276419"
                        ]
                      ]
                    },
                    "xaxis": {
                      "gridcolor": "white",
                      "linecolor": "white",
                      "ticks": "",
                      "title": {
                        "standoff": 15
                      },
                      "zerolinecolor": "white",
                      "automargin": true,
                      "zerolinewidth": 2
                    },
                    "yaxis": {
                      "gridcolor": "white",
                      "linecolor": "white",
                      "ticks": "",
                      "title": {
                        "standoff": 15
                      },
                      "zerolinecolor": "white",
                      "automargin": true,
                      "zerolinewidth": 2
                    },
                    "scene": {
                      "xaxis": {
                        "backgroundcolor": "#E5ECF6",
                        "gridcolor": "white",
                        "linecolor": "white",
                        "showbackground": true,
                        "ticks": "",
                        "zerolinecolor": "white",
                        "gridwidth": 2
                      },
                      "yaxis": {
                        "backgroundcolor": "#E5ECF6",
                        "gridcolor": "white",
                        "linecolor": "white",
                        "showbackground": true,
                        "ticks": "",
                        "zerolinecolor": "white",
                        "gridwidth": 2
                      },
                      "zaxis": {
                        "backgroundcolor": "#E5ECF6",
                        "gridcolor": "white",
                        "linecolor": "white",
                        "showbackground": true,
                        "ticks": "",
                        "zerolinecolor": "white",
                        "gridwidth": 2
                      }
                    },
                    "shapedefaults": {
                      "line": {
                        "color": "#2a3f5f"
                      }
                    },
                    "annotationdefaults": {
                      "arrowcolor": "#2a3f5f",
                      "arrowhead": 0,
                      "arrowwidth": 1
                    },
                    "geo": {
                      "bgcolor": "white",
                      "landcolor": "#E5ECF6",
                      "subunitcolor": "white",
                      "showland": true,
                      "showlakes": true,
                      "lakecolor": "white"
                    },
                    "title": {
                      "x": 0.05
                    },
                    "mapbox": {
                      "style": "light"
                    }
                  }
                },
                "shapes": [
                  {
                    "line": {
                      "color": "red",
                      "width": 1
                    },
                    "type": "line",
                    "x0": 0,
                    "x1": 1,
                    "xref": "x domain",
                    "y0": 100.78578820515864,
                    "y1": 100.78578820515864,
                    "yref": "y"
                  },
                  {
                    "line": {
                      "color": "green",
                      "width": 1
                    },
                    "type": "line",
                    "x0": 12.966424062049061,
                    "x1": 12.966424062049061,
                    "xref": "x",
                    "y0": 0,
                    "y1": 1,
                    "yref": "y domain"
                  },
                  {
                    "line": {
                      "color": "red",
                      "width": 1
                    },
                    "type": "line",
                    "x0": 0,
                    "x1": 1,
                    "xref": "x domain",
                    "y0": 8.055555555555555,
                    "y1": 8.055555555555555,
                    "yref": "y"
                  },
                  {
                    "line": {
                      "color": "green",
                      "width": 1
                    },
                    "type": "line",
                    "x0": 7.843971911231067,
                    "x1": 7.843971911231067,
                    "xref": "x",
                    "y0": 0,
                    "y1": 1,
                    "yref": "y domain"
                  },
                  {
                    "line": {
                      "color": "red",
                      "width": 1
                    },
                    "type": "line",
                    "x0": 0,
                    "x1": 1,
                    "xref": "x domain",
                    "y0": 100.78578820515864,
                    "y1": 100.78578820515864,
                    "yref": "y"
                  },
                  {
                    "line": {
                      "color": "green",
                      "width": 1
                    },
                    "type": "line",
                    "x0": 12.966424062049061,
                    "x1": 12.966424062049061,
                    "xref": "x",
                    "y0": 0,
                    "y1": 1,
                    "yref": "y domain"
                  }
                ]
              },
              "config": {
                "plotlyServerURL": "https://plot.ly"
              }
            },
            "text/html": "<div>                            <div id=\"10740450-af04-4fea-8591-35573b37099a\" class=\"plotly-graph-div\" style=\"height:525px; width:100%;\"></div>            <script type=\"text/javascript\">                require([\"plotly\"], function(Plotly) {                    window.PLOTLYENV=window.PLOTLYENV || {};                                    if (document.getElementById(\"10740450-af04-4fea-8591-35573b37099a\")) {                    Plotly.newPlot(                        \"10740450-af04-4fea-8591-35573b37099a\",                        [{\"hoverinfo\":\"text\",\"marker\":{\"autocolorscale\":true,\"cmin\":0,\"color\":[1343.890909090909,387.87777777777774,579.2777777777778,632.125,1249.6190476190475,705.0277777777778,315.3888888888889,336.62222222222226,267.0000000000001,349.00000000000006,437.26785714285717,393.55357142857144,390.16666666666663,425.29999999999995,163.25,504.85714285714283,259.4444444444444,310.7857142857143,561.25,411.9,528.0277777777778,928.2666666666667,1021.3,289.61904761904754,150.99999999999997,134.76666666666665,73.95238095238092,605.6999999999999,151.2380952380952,63.410714285714285,240.33333333333334,189.2,145.2857142857143,209.06666666666666,1012.5,243.6,76.79999999999998,173.66666666666666,339.6666666666667,14.333333333333258,170.33333333333331,224.33333333333331,170.0,14.333333333333314,91.69999999999999,2.0,43.0,48.333333333333336,312.5,65.33333333333331,null,18.0,18.800000000000004,220.5,75.33333333333333,180.5,7.0,18.666666666666668,61.0,null,null,null,4.5,2.0,null,null,0.0,0.3333333333333333,0.5,null,null,null,null,null,null,null,0.5,null,null,null],\"colorbar\":{\"title\":{\"text\":\"Score variance\"}},\"reversescale\":true,\"size\":20,\"symbol\":\"circle\"},\"mode\":\"markers\",\"showlegend\":false,\"text\":[\"Kamran Akmal  Peshawar Zalmi\",\"Babar Azam  Karachi Kings\",\"DR Smith  Islamabad United\",\"RR Rossouw  Quetta Gladiators\",\"KP Pietersen  Quetta Gladiators\",\"Ahmed Shehzad  Quetta Gladiators\",\"KC Sangakkara  Karachi Kings\",\"Shoaib Malik  Karachi Kings\",\"KA Pollard  Karachi Kings\",\"Sarfraz Ahmed  Quetta Gladiators\",\"Fakhar Zaman  Lahore Qalandars\",\"Shahid Afridi  Peshawar Zalmi\",\"DJ Malan  Peshawar Zalmi\",\"JJ Roy  Lahore Qalandars\",\"SR Watson  Islamabad United\",\"Umar Akmal  Lahore Qalandars\",\"CH Gayle  Karachi Kings\",\"Misbah-ul-Haq  Islamabad United\",\"Mohammad Hafeez  Peshawar Zalmi\",\"Asad Shafiq  Quetta Gladiators\",\"BJ Haddin  Islamabad United\",\"EJG Morgan  Peshawar Zalmi\",\"SW Billings  Islamabad United\",\"Mohammad Rizwan  Lahore Qalandars\",\"DJG Sammy  Peshawar Zalmi\",\"RS Bopara  Karachi Kings\",\"SP Narine  Lahore Qalandars\",\"Tamim Iqbal  Peshawar Zalmi\",\"BB McCullum  Lahore Qalandars\",\"Imad Wasim  Karachi Kings\",\"CS Delport  Lahore Qalandars\",\"MN Samuels  Peshawar Zalmi\",\"GD Elliott  Lahore Qalandars\",\"Sohail Tanvir  Lahore Qalandars\",\"Hussain Talat  Islamabad United\",\"Shadab Khan  Islamabad United\",\"Anwar Ali  Quetta Gladiators\",\"Shakib Al Hasan  Peshawar Zalmi\",\"Asif Ali  Islamabad United\",\"Rafatullah Mohmand  Islamabad United\",\"NLTC Perera  Quetta Gladiators\",\"Mahmudullah  Quetta Gladiators\",\"Sohaib Maqsood  Peshawar Zalmi\",\"Haris Sohail  Peshawar Zalmi\",\"Wahab Riaz  Peshawar Zalmi\",\"BM Duckett  Islamabad United\",\"Hasan Khan  Quetta Gladiators\",\"CJ Jordan  Peshawar Zalmi\",\"Aamer Yamin  Lahore Qalandars\",\"Amad Butt  Islamabad United\",\"SM Ervine  Quetta Gladiators\",\"Mohammad Amir  Karachi Kings\",\"Hasan Ali  Peshawar Zalmi\",\"Yasir Shah  Lahore Qalandars\",\"Mohammad Nawaz (3)  Quetta Gladiators\",\"Shahzaib Hasan  Karachi Kings\",\"Saad Nasim  Quetta Gladiators\",\"Sohail Khan  Karachi Kings\",\"Iftikhar Ahmed  Peshawar Zalmi\",\"LJ Wright  Quetta Gladiators\",\"DPMD Jayawardene  Karachi Kings\",\"RR Emrit  Quetta Gladiators\",\"Usama Mir  Karachi Kings\",\"Mohammad Irfan (4)  Lahore Qalandars\",\"Anamul Haque  Quetta Gladiators\",\"Umar Gul  Quetta Gladiators\",\"Bilawal Bhatti  Lahore Qalandars\",\"Mohammad Sami  Islamabad United\",\"TS Mills  Quetta Gladiators\",\"N Pooran  Islamabad United\",\"Ghulam Mudassar  Lahore Qalandars\",\"Sharjeel Khan  Islamabad United\",\"Imran Khalid  Islamabad United\",\"Junaid Khan  Peshawar Zalmi\",\"Khushdil Shah  Peshawar Zalmi\",\"MN van Wyk  Quetta Gladiators\",\"Zulfiqar Babar  Quetta Gladiators\",\"Usman Khan  Karachi Kings\",\"Rumman Raees  Islamabad United\",\"Mohammad Irfan  Islamabad United\"],\"x\":[32.09090909090909,29.1,30.444444444444443,31.875,34.42857142857143,26.444444444444443,21.5,20.2,22.333333333333332,20.333333333333332,22.125,22.125,29.166666666666668,34.6,19.0,20.5,17.77777777777778,19.75,17.0,24.5,15.444444444444445,22.666666666666668,26.6,18.571428571428573,13.333333333333334,11.9,16.571428571428573,18.8,13.285714285714286,10.375,20.5,16.2,10.571428571428571,11.333333333333334,33.5,11.0,11.4,13.5,11.5,15.333333333333334,13.333333333333334,12.333333333333334,7.0,10.333333333333334,6.2,15.0,6.5,6.5,12.5,8.333333333333334,24.0,6.0,4.6,11.5,5.0,9.5,6.0,4.0,5.0,12.0,10.0,6.0,2.5,1.0,3.0,2.0,1.0,0.5,0.5,1.0,1.0,1.0,1.0,1.0,1.0,1.0,0.5,0.0,0.0,0.0],\"y\":[128.83211678832117,109.81132075471699,110.93117408906883,121.42857142857143,148.76543209876544,127.95698924731182,114.36170212765957,120.23809523809524,162.09677419354838,128.8732394366197,136.15384615384616,163.88888888888889,129.62962962962962,149.13793103448276,132.5581395348837,124.24242424242425,108.84353741496598,108.21917808219177,96.83544303797468,106.52173913043478,118.80341880341881,101.49253731343283,134.34343434343435,120.37037037037037,127.65957446808511,94.44444444444444,170.58823529411765,106.81818181818181,116.25,129.6875,146.42857142857142,120.8955223880597,92.5,103.03030303030303,131.37254901960785,157.14285714285714,129.54545454545453,110.20408163265306,102.22222222222223,124.32432432432432,111.11111111111111,137.03703703703704,92.10526315789474,67.3913043478261,79.48717948717949,88.23529411764706,96.29629629629629,86.66666666666667,96.15384615384616,96.15384615384616,126.3157894736842,114.28571428571429,153.33333333333334,100.0,105.26315789473684,111.76470588235294,105.88235294117646,114.28571428571429,57.69230769230769,171.42857142857142,125.0,66.66666666666667,125.0,66.66666666666667,33.333333333333336,66.66666666666667,28.571428571428573,50.0,50.0,33.333333333333336,100.0,25.0,100.0,50.0,16.666666666666668,14.285714285714286,33.333333333333336,0.0,0.0,0.0],\"type\":\"scatter\"}],                        {\"paper_bgcolor\":\"white\",\"plot_bgcolor\":\"white\",\"title\":{\"text\":\"All batsman's performance - Average runs, Strike rate, Score variance\"},\"xaxis\":{\"showgrid\":false,\"title\":{\"text\":\"Average runs\"},\"zeroline\":false},\"yaxis\":{\"color\":\"black\",\"showgrid\":true,\"title\":{\"font\":{\"color\":\"black\"},\"text\":\"Strike rate\"},\"zeroline\":false},\"template\":{\"data\":{\"histogram2dcontour\":[{\"type\":\"histogram2dcontour\",\"colorbar\":{\"outlinewidth\":0,\"ticks\":\"\"},\"colorscale\":[[0.0,\"#0d0887\"],[0.1111111111111111,\"#46039f\"],[0.2222222222222222,\"#7201a8\"],[0.3333333333333333,\"#9c179e\"],[0.4444444444444444,\"#bd3786\"],[0.5555555555555556,\"#d8576b\"],[0.6666666666666666,\"#ed7953\"],[0.7777777777777778,\"#fb9f3a\"],[0.8888888888888888,\"#fdca26\"],[1.0,\"#f0f921\"]]}],\"choropleth\":[{\"type\":\"choropleth\",\"colorbar\":{\"outlinewidth\":0,\"ticks\":\"\"}}],\"histogram2d\":[{\"type\":\"histogram2d\",\"colorbar\":{\"outlinewidth\":0,\"ticks\":\"\"},\"colorscale\":[[0.0,\"#0d0887\"],[0.1111111111111111,\"#46039f\"],[0.2222222222222222,\"#7201a8\"],[0.3333333333333333,\"#9c179e\"],[0.4444444444444444,\"#bd3786\"],[0.5555555555555556,\"#d8576b\"],[0.6666666666666666,\"#ed7953\"],[0.7777777777777778,\"#fb9f3a\"],[0.8888888888888888,\"#fdca26\"],[1.0,\"#f0f921\"]]}],\"heatmap\":[{\"type\":\"heatmap\",\"colorbar\":{\"outlinewidth\":0,\"ticks\":\"\"},\"colorscale\":[[0.0,\"#0d0887\"],[0.1111111111111111,\"#46039f\"],[0.2222222222222222,\"#7201a8\"],[0.3333333333333333,\"#9c179e\"],[0.4444444444444444,\"#bd3786\"],[0.5555555555555556,\"#d8576b\"],[0.6666666666666666,\"#ed7953\"],[0.7777777777777778,\"#fb9f3a\"],[0.8888888888888888,\"#fdca26\"],[1.0,\"#f0f921\"]]}],\"heatmapgl\":[{\"type\":\"heatmapgl\",\"colorbar\":{\"outlinewidth\":0,\"ticks\":\"\"},\"colorscale\":[[0.0,\"#0d0887\"],[0.1111111111111111,\"#46039f\"],[0.2222222222222222,\"#7201a8\"],[0.3333333333333333,\"#9c179e\"],[0.4444444444444444,\"#bd3786\"],[0.5555555555555556,\"#d8576b\"],[0.6666666666666666,\"#ed7953\"],[0.7777777777777778,\"#fb9f3a\"],[0.8888888888888888,\"#fdca26\"],[1.0,\"#f0f921\"]]}],\"contourcarpet\":[{\"type\":\"contourcarpet\",\"colorbar\":{\"outlinewidth\":0,\"ticks\":\"\"}}],\"contour\":[{\"type\":\"contour\",\"colorbar\":{\"outlinewidth\":0,\"ticks\":\"\"},\"colorscale\":[[0.0,\"#0d0887\"],[0.1111111111111111,\"#46039f\"],[0.2222222222222222,\"#7201a8\"],[0.3333333333333333,\"#9c179e\"],[0.4444444444444444,\"#bd3786\"],[0.5555555555555556,\"#d8576b\"],[0.6666666666666666,\"#ed7953\"],[0.7777777777777778,\"#fb9f3a\"],[0.8888888888888888,\"#fdca26\"],[1.0,\"#f0f921\"]]}],\"surface\":[{\"type\":\"surface\",\"colorbar\":{\"outlinewidth\":0,\"ticks\":\"\"},\"colorscale\":[[0.0,\"#0d0887\"],[0.1111111111111111,\"#46039f\"],[0.2222222222222222,\"#7201a8\"],[0.3333333333333333,\"#9c179e\"],[0.4444444444444444,\"#bd3786\"],[0.5555555555555556,\"#d8576b\"],[0.6666666666666666,\"#ed7953\"],[0.7777777777777778,\"#fb9f3a\"],[0.8888888888888888,\"#fdca26\"],[1.0,\"#f0f921\"]]}],\"mesh3d\":[{\"type\":\"mesh3d\",\"colorbar\":{\"outlinewidth\":0,\"ticks\":\"\"}}],\"scatter\":[{\"fillpattern\":{\"fillmode\":\"overlay\",\"size\":10,\"solidity\":0.2},\"type\":\"scatter\"}],\"parcoords\":[{\"type\":\"parcoords\",\"line\":{\"colorbar\":{\"outlinewidth\":0,\"ticks\":\"\"}}}],\"scatterpolargl\":[{\"type\":\"scatterpolargl\",\"marker\":{\"colorbar\":{\"outlinewidth\":0,\"ticks\":\"\"}}}],\"bar\":[{\"error_x\":{\"color\":\"#2a3f5f\"},\"error_y\":{\"color\":\"#2a3f5f\"},\"marker\":{\"line\":{\"color\":\"#E5ECF6\",\"width\":0.5},\"pattern\":{\"fillmode\":\"overlay\",\"size\":10,\"solidity\":0.2}},\"type\":\"bar\"}],\"scattergeo\":[{\"type\":\"scattergeo\",\"marker\":{\"colorbar\":{\"outlinewidth\":0,\"ticks\":\"\"}}}],\"scatterpolar\":[{\"type\":\"scatterpolar\",\"marker\":{\"colorbar\":{\"outlinewidth\":0,\"ticks\":\"\"}}}],\"histogram\":[{\"marker\":{\"pattern\":{\"fillmode\":\"overlay\",\"size\":10,\"solidity\":0.2}},\"type\":\"histogram\"}],\"scattergl\":[{\"type\":\"scattergl\",\"marker\":{\"colorbar\":{\"outlinewidth\":0,\"ticks\":\"\"}}}],\"scatter3d\":[{\"type\":\"scatter3d\",\"line\":{\"colorbar\":{\"outlinewidth\":0,\"ticks\":\"\"}},\"marker\":{\"colorbar\":{\"outlinewidth\":0,\"ticks\":\"\"}}}],\"scattermapbox\":[{\"type\":\"scattermapbox\",\"marker\":{\"colorbar\":{\"outlinewidth\":0,\"ticks\":\"\"}}}],\"scatterternary\":[{\"type\":\"scatterternary\",\"marker\":{\"colorbar\":{\"outlinewidth\":0,\"ticks\":\"\"}}}],\"scattercarpet\":[{\"type\":\"scattercarpet\",\"marker\":{\"colorbar\":{\"outlinewidth\":0,\"ticks\":\"\"}}}],\"carpet\":[{\"aaxis\":{\"endlinecolor\":\"#2a3f5f\",\"gridcolor\":\"white\",\"linecolor\":\"white\",\"minorgridcolor\":\"white\",\"startlinecolor\":\"#2a3f5f\"},\"baxis\":{\"endlinecolor\":\"#2a3f5f\",\"gridcolor\":\"white\",\"linecolor\":\"white\",\"minorgridcolor\":\"white\",\"startlinecolor\":\"#2a3f5f\"},\"type\":\"carpet\"}],\"table\":[{\"cells\":{\"fill\":{\"color\":\"#EBF0F8\"},\"line\":{\"color\":\"white\"}},\"header\":{\"fill\":{\"color\":\"#C8D4E3\"},\"line\":{\"color\":\"white\"}},\"type\":\"table\"}],\"barpolar\":[{\"marker\":{\"line\":{\"color\":\"#E5ECF6\",\"width\":0.5},\"pattern\":{\"fillmode\":\"overlay\",\"size\":10,\"solidity\":0.2}},\"type\":\"barpolar\"}],\"pie\":[{\"automargin\":true,\"type\":\"pie\"}]},\"layout\":{\"autotypenumbers\":\"strict\",\"colorway\":[\"#636efa\",\"#EF553B\",\"#00cc96\",\"#ab63fa\",\"#FFA15A\",\"#19d3f3\",\"#FF6692\",\"#B6E880\",\"#FF97FF\",\"#FECB52\"],\"font\":{\"color\":\"#2a3f5f\"},\"hovermode\":\"closest\",\"hoverlabel\":{\"align\":\"left\"},\"paper_bgcolor\":\"white\",\"plot_bgcolor\":\"#E5ECF6\",\"polar\":{\"bgcolor\":\"#E5ECF6\",\"angularaxis\":{\"gridcolor\":\"white\",\"linecolor\":\"white\",\"ticks\":\"\"},\"radialaxis\":{\"gridcolor\":\"white\",\"linecolor\":\"white\",\"ticks\":\"\"}},\"ternary\":{\"bgcolor\":\"#E5ECF6\",\"aaxis\":{\"gridcolor\":\"white\",\"linecolor\":\"white\",\"ticks\":\"\"},\"baxis\":{\"gridcolor\":\"white\",\"linecolor\":\"white\",\"ticks\":\"\"},\"caxis\":{\"gridcolor\":\"white\",\"linecolor\":\"white\",\"ticks\":\"\"}},\"coloraxis\":{\"colorbar\":{\"outlinewidth\":0,\"ticks\":\"\"}},\"colorscale\":{\"sequential\":[[0.0,\"#0d0887\"],[0.1111111111111111,\"#46039f\"],[0.2222222222222222,\"#7201a8\"],[0.3333333333333333,\"#9c179e\"],[0.4444444444444444,\"#bd3786\"],[0.5555555555555556,\"#d8576b\"],[0.6666666666666666,\"#ed7953\"],[0.7777777777777778,\"#fb9f3a\"],[0.8888888888888888,\"#fdca26\"],[1.0,\"#f0f921\"]],\"sequentialminus\":[[0.0,\"#0d0887\"],[0.1111111111111111,\"#46039f\"],[0.2222222222222222,\"#7201a8\"],[0.3333333333333333,\"#9c179e\"],[0.4444444444444444,\"#bd3786\"],[0.5555555555555556,\"#d8576b\"],[0.6666666666666666,\"#ed7953\"],[0.7777777777777778,\"#fb9f3a\"],[0.8888888888888888,\"#fdca26\"],[1.0,\"#f0f921\"]],\"diverging\":[[0,\"#8e0152\"],[0.1,\"#c51b7d\"],[0.2,\"#de77ae\"],[0.3,\"#f1b6da\"],[0.4,\"#fde0ef\"],[0.5,\"#f7f7f7\"],[0.6,\"#e6f5d0\"],[0.7,\"#b8e186\"],[0.8,\"#7fbc41\"],[0.9,\"#4d9221\"],[1,\"#276419\"]]},\"xaxis\":{\"gridcolor\":\"white\",\"linecolor\":\"white\",\"ticks\":\"\",\"title\":{\"standoff\":15},\"zerolinecolor\":\"white\",\"automargin\":true,\"zerolinewidth\":2},\"yaxis\":{\"gridcolor\":\"white\",\"linecolor\":\"white\",\"ticks\":\"\",\"title\":{\"standoff\":15},\"zerolinecolor\":\"white\",\"automargin\":true,\"zerolinewidth\":2},\"scene\":{\"xaxis\":{\"backgroundcolor\":\"#E5ECF6\",\"gridcolor\":\"white\",\"linecolor\":\"white\",\"showbackground\":true,\"ticks\":\"\",\"zerolinecolor\":\"white\",\"gridwidth\":2},\"yaxis\":{\"backgroundcolor\":\"#E5ECF6\",\"gridcolor\":\"white\",\"linecolor\":\"white\",\"showbackground\":true,\"ticks\":\"\",\"zerolinecolor\":\"white\",\"gridwidth\":2},\"zaxis\":{\"backgroundcolor\":\"#E5ECF6\",\"gridcolor\":\"white\",\"linecolor\":\"white\",\"showbackground\":true,\"ticks\":\"\",\"zerolinecolor\":\"white\",\"gridwidth\":2}},\"shapedefaults\":{\"line\":{\"color\":\"#2a3f5f\"}},\"annotationdefaults\":{\"arrowcolor\":\"#2a3f5f\",\"arrowhead\":0,\"arrowwidth\":1},\"geo\":{\"bgcolor\":\"white\",\"landcolor\":\"#E5ECF6\",\"subunitcolor\":\"white\",\"showland\":true,\"showlakes\":true,\"lakecolor\":\"white\"},\"title\":{\"x\":0.05},\"mapbox\":{\"style\":\"light\"}}},\"shapes\":[{\"line\":{\"color\":\"red\",\"width\":1},\"type\":\"line\",\"x0\":0,\"x1\":1,\"xref\":\"x domain\",\"y0\":100.78578820515864,\"y1\":100.78578820515864,\"yref\":\"y\"},{\"line\":{\"color\":\"green\",\"width\":1},\"type\":\"line\",\"x0\":12.966424062049061,\"x1\":12.966424062049061,\"xref\":\"x\",\"y0\":0,\"y1\":1,\"yref\":\"y domain\"},{\"line\":{\"color\":\"red\",\"width\":1},\"type\":\"line\",\"x0\":0,\"x1\":1,\"xref\":\"x domain\",\"y0\":8.055555555555555,\"y1\":8.055555555555555,\"yref\":\"y\"},{\"line\":{\"color\":\"green\",\"width\":1},\"type\":\"line\",\"x0\":7.843971911231067,\"x1\":7.843971911231067,\"xref\":\"x\",\"y0\":0,\"y1\":1,\"yref\":\"y domain\"},{\"line\":{\"color\":\"red\",\"width\":1},\"type\":\"line\",\"x0\":0,\"x1\":1,\"xref\":\"x domain\",\"y0\":100.78578820515864,\"y1\":100.78578820515864,\"yref\":\"y\"},{\"line\":{\"color\":\"green\",\"width\":1},\"type\":\"line\",\"x0\":12.966424062049061,\"x1\":12.966424062049061,\"xref\":\"x\",\"y0\":0,\"y1\":1,\"yref\":\"y domain\"}]},                        {\"responsive\": true}                    ).then(function(){\n                            \nvar gd = document.getElementById('10740450-af04-4fea-8591-35573b37099a');\nvar x = new MutationObserver(function (mutations, observer) {{\n        var display = window.getComputedStyle(gd).display;\n        if (!display || display === 'none') {{\n            console.log([gd, 'removed!']);\n            Plotly.purge(gd);\n            observer.disconnect();\n        }}\n}});\n\n// Listen for the removal of the full notebook cells\nvar notebookContainer = gd.closest('#notebook-container');\nif (notebookContainer) {{\n    x.observe(notebookContainer, {childList: true});\n}}\n\n// Listen for the clearing of the current output cell\nvar outputEl = gd.closest('.output');\nif (outputEl) {{\n    x.observe(outputEl, {childList: true});\n}}\n\n                        })                };                });            </script>        </div>"
          },
          "metadata": {}
        },
        {
          "output_type": "display_data",
          "data": {
            "application/vnd.plotly.v1+json": {
              "data": [
                {
                  "hovertemplate": "color=Peshawar Zalmi<br>x=%{x}<br>y=%{y}<extra></extra>",
                  "legendgroup": "Peshawar Zalmi",
                  "marker": {
                    "color": "#636efa",
                    "symbol": "circle"
                  },
                  "mode": "markers",
                  "name": "Peshawar Zalmi",
                  "orientation": "v",
                  "showlegend": true,
                  "x": [
                    32.09090909090909,
                    22.125,
                    29.166666666666668,
                    17,
                    22.666666666666668,
                    13.333333333333334,
                    18.8,
                    16.2,
                    13.5,
                    7,
                    10.333333333333334,
                    6.2,
                    6.5,
                    4.6,
                    5,
                    1,
                    1
                  ],
                  "xaxis": "x",
                  "y": [
                    128.83211678832117,
                    163.88888888888889,
                    129.62962962962962,
                    96.83544303797468,
                    101.49253731343283,
                    127.65957446808511,
                    106.81818181818181,
                    120.8955223880597,
                    110.20408163265306,
                    92.10526315789474,
                    67.3913043478261,
                    79.48717948717949,
                    86.66666666666667,
                    153.33333333333334,
                    57.69230769230769,
                    50,
                    16.666666666666668
                  ],
                  "yaxis": "y",
                  "type": "scatter"
                },
                {
                  "hovertemplate": "color=Karachi Kings<br>x=%{x}<br>y=%{y}<extra></extra>",
                  "legendgroup": "Karachi Kings",
                  "marker": {
                    "color": "#EF553B",
                    "symbol": "circle"
                  },
                  "mode": "markers",
                  "name": "Karachi Kings",
                  "orientation": "v",
                  "showlegend": true,
                  "x": [
                    29.1,
                    21.5,
                    20.2,
                    22.333333333333332,
                    17.77777777777778,
                    11.9,
                    10.375,
                    6,
                    9.5,
                    4,
                    10,
                    2.5,
                    0
                  ],
                  "xaxis": "x",
                  "y": [
                    109.81132075471699,
                    114.36170212765957,
                    120.23809523809524,
                    162.09677419354838,
                    108.84353741496598,
                    94.44444444444444,
                    129.6875,
                    114.28571428571429,
                    111.76470588235294,
                    114.28571428571429,
                    125,
                    125,
                    0
                  ],
                  "yaxis": "y",
                  "type": "scatter"
                },
                {
                  "hovertemplate": "color=Islamabad United<br>x=%{x}<br>y=%{y}<extra></extra>",
                  "legendgroup": "Islamabad United",
                  "marker": {
                    "color": "#00cc96",
                    "symbol": "circle"
                  },
                  "mode": "markers",
                  "name": "Islamabad United",
                  "orientation": "v",
                  "showlegend": true,
                  "x": [
                    30.444444444444443,
                    19,
                    19.75,
                    15.444444444444445,
                    26.6,
                    33.5,
                    11,
                    11.5,
                    15.333333333333334,
                    15,
                    8.333333333333334,
                    0.5,
                    1,
                    1,
                    1,
                    0,
                    0
                  ],
                  "xaxis": "x",
                  "y": [
                    110.93117408906883,
                    132.5581395348837,
                    108.21917808219177,
                    118.80341880341881,
                    134.34343434343435,
                    131.37254901960785,
                    157.14285714285714,
                    102.22222222222223,
                    124.32432432432432,
                    88.23529411764706,
                    96.15384615384616,
                    50,
                    33.333333333333336,
                    25,
                    100,
                    0,
                    0
                  ],
                  "yaxis": "y",
                  "type": "scatter"
                },
                {
                  "hovertemplate": "color=Quetta Gladiators<br>x=%{x}<br>y=%{y}<extra></extra>",
                  "legendgroup": "Quetta Gladiators",
                  "marker": {
                    "color": "#ab63fa",
                    "symbol": "circle"
                  },
                  "mode": "markers",
                  "name": "Quetta Gladiators",
                  "orientation": "v",
                  "showlegend": true,
                  "x": [
                    31.875,
                    34.42857142857143,
                    26.444444444444443,
                    20.333333333333332,
                    24.5,
                    11.4,
                    13.333333333333334,
                    12.333333333333334,
                    6.5,
                    24,
                    5,
                    6,
                    12,
                    6,
                    3,
                    2,
                    0.5,
                    1,
                    0.5
                  ],
                  "xaxis": "x",
                  "y": [
                    121.42857142857143,
                    148.76543209876544,
                    127.95698924731182,
                    128.8732394366197,
                    106.52173913043478,
                    129.54545454545453,
                    111.11111111111111,
                    137.03703703703704,
                    96.29629629629629,
                    126.3157894736842,
                    105.26315789473684,
                    105.88235294117646,
                    171.42857142857142,
                    66.66666666666667,
                    33.333333333333336,
                    66.66666666666667,
                    50,
                    14.285714285714286,
                    33.333333333333336
                  ],
                  "yaxis": "y",
                  "type": "scatter"
                },
                {
                  "hovertemplate": "color=Lahore Qalandars<br>x=%{x}<br>y=%{y}<extra></extra>",
                  "legendgroup": "Lahore Qalandars",
                  "marker": {
                    "color": "#FFA15A",
                    "symbol": "circle"
                  },
                  "mode": "markers",
                  "name": "Lahore Qalandars",
                  "orientation": "v",
                  "showlegend": true,
                  "x": [
                    22.125,
                    34.6,
                    20.5,
                    18.571428571428573,
                    16.571428571428573,
                    13.285714285714286,
                    20.5,
                    10.571428571428571,
                    11.333333333333334,
                    12.5,
                    11.5,
                    1,
                    1,
                    1
                  ],
                  "xaxis": "x",
                  "y": [
                    136.15384615384616,
                    149.13793103448276,
                    124.24242424242425,
                    120.37037037037037,
                    170.58823529411765,
                    116.25,
                    146.42857142857142,
                    92.5,
                    103.03030303030303,
                    96.15384615384616,
                    100,
                    66.66666666666667,
                    28.571428571428573,
                    100
                  ],
                  "yaxis": "y",
                  "type": "scatter"
                }
              ],
              "layout": {
                "template": {
                  "data": {
                    "histogram2dcontour": [
                      {
                        "type": "histogram2dcontour",
                        "colorbar": {
                          "outlinewidth": 0,
                          "ticks": ""
                        },
                        "colorscale": [
                          [
                            0,
                            "#0d0887"
                          ],
                          [
                            0.1111111111111111,
                            "#46039f"
                          ],
                          [
                            0.2222222222222222,
                            "#7201a8"
                          ],
                          [
                            0.3333333333333333,
                            "#9c179e"
                          ],
                          [
                            0.4444444444444444,
                            "#bd3786"
                          ],
                          [
                            0.5555555555555556,
                            "#d8576b"
                          ],
                          [
                            0.6666666666666666,
                            "#ed7953"
                          ],
                          [
                            0.7777777777777778,
                            "#fb9f3a"
                          ],
                          [
                            0.8888888888888888,
                            "#fdca26"
                          ],
                          [
                            1,
                            "#f0f921"
                          ]
                        ]
                      }
                    ],
                    "choropleth": [
                      {
                        "type": "choropleth",
                        "colorbar": {
                          "outlinewidth": 0,
                          "ticks": ""
                        }
                      }
                    ],
                    "histogram2d": [
                      {
                        "type": "histogram2d",
                        "colorbar": {
                          "outlinewidth": 0,
                          "ticks": ""
                        },
                        "colorscale": [
                          [
                            0,
                            "#0d0887"
                          ],
                          [
                            0.1111111111111111,
                            "#46039f"
                          ],
                          [
                            0.2222222222222222,
                            "#7201a8"
                          ],
                          [
                            0.3333333333333333,
                            "#9c179e"
                          ],
                          [
                            0.4444444444444444,
                            "#bd3786"
                          ],
                          [
                            0.5555555555555556,
                            "#d8576b"
                          ],
                          [
                            0.6666666666666666,
                            "#ed7953"
                          ],
                          [
                            0.7777777777777778,
                            "#fb9f3a"
                          ],
                          [
                            0.8888888888888888,
                            "#fdca26"
                          ],
                          [
                            1,
                            "#f0f921"
                          ]
                        ]
                      }
                    ],
                    "heatmap": [
                      {
                        "type": "heatmap",
                        "colorbar": {
                          "outlinewidth": 0,
                          "ticks": ""
                        },
                        "colorscale": [
                          [
                            0,
                            "#0d0887"
                          ],
                          [
                            0.1111111111111111,
                            "#46039f"
                          ],
                          [
                            0.2222222222222222,
                            "#7201a8"
                          ],
                          [
                            0.3333333333333333,
                            "#9c179e"
                          ],
                          [
                            0.4444444444444444,
                            "#bd3786"
                          ],
                          [
                            0.5555555555555556,
                            "#d8576b"
                          ],
                          [
                            0.6666666666666666,
                            "#ed7953"
                          ],
                          [
                            0.7777777777777778,
                            "#fb9f3a"
                          ],
                          [
                            0.8888888888888888,
                            "#fdca26"
                          ],
                          [
                            1,
                            "#f0f921"
                          ]
                        ]
                      }
                    ],
                    "heatmapgl": [
                      {
                        "type": "heatmapgl",
                        "colorbar": {
                          "outlinewidth": 0,
                          "ticks": ""
                        },
                        "colorscale": [
                          [
                            0,
                            "#0d0887"
                          ],
                          [
                            0.1111111111111111,
                            "#46039f"
                          ],
                          [
                            0.2222222222222222,
                            "#7201a8"
                          ],
                          [
                            0.3333333333333333,
                            "#9c179e"
                          ],
                          [
                            0.4444444444444444,
                            "#bd3786"
                          ],
                          [
                            0.5555555555555556,
                            "#d8576b"
                          ],
                          [
                            0.6666666666666666,
                            "#ed7953"
                          ],
                          [
                            0.7777777777777778,
                            "#fb9f3a"
                          ],
                          [
                            0.8888888888888888,
                            "#fdca26"
                          ],
                          [
                            1,
                            "#f0f921"
                          ]
                        ]
                      }
                    ],
                    "contourcarpet": [
                      {
                        "type": "contourcarpet",
                        "colorbar": {
                          "outlinewidth": 0,
                          "ticks": ""
                        }
                      }
                    ],
                    "contour": [
                      {
                        "type": "contour",
                        "colorbar": {
                          "outlinewidth": 0,
                          "ticks": ""
                        },
                        "colorscale": [
                          [
                            0,
                            "#0d0887"
                          ],
                          [
                            0.1111111111111111,
                            "#46039f"
                          ],
                          [
                            0.2222222222222222,
                            "#7201a8"
                          ],
                          [
                            0.3333333333333333,
                            "#9c179e"
                          ],
                          [
                            0.4444444444444444,
                            "#bd3786"
                          ],
                          [
                            0.5555555555555556,
                            "#d8576b"
                          ],
                          [
                            0.6666666666666666,
                            "#ed7953"
                          ],
                          [
                            0.7777777777777778,
                            "#fb9f3a"
                          ],
                          [
                            0.8888888888888888,
                            "#fdca26"
                          ],
                          [
                            1,
                            "#f0f921"
                          ]
                        ]
                      }
                    ],
                    "surface": [
                      {
                        "type": "surface",
                        "colorbar": {
                          "outlinewidth": 0,
                          "ticks": ""
                        },
                        "colorscale": [
                          [
                            0,
                            "#0d0887"
                          ],
                          [
                            0.1111111111111111,
                            "#46039f"
                          ],
                          [
                            0.2222222222222222,
                            "#7201a8"
                          ],
                          [
                            0.3333333333333333,
                            "#9c179e"
                          ],
                          [
                            0.4444444444444444,
                            "#bd3786"
                          ],
                          [
                            0.5555555555555556,
                            "#d8576b"
                          ],
                          [
                            0.6666666666666666,
                            "#ed7953"
                          ],
                          [
                            0.7777777777777778,
                            "#fb9f3a"
                          ],
                          [
                            0.8888888888888888,
                            "#fdca26"
                          ],
                          [
                            1,
                            "#f0f921"
                          ]
                        ]
                      }
                    ],
                    "mesh3d": [
                      {
                        "type": "mesh3d",
                        "colorbar": {
                          "outlinewidth": 0,
                          "ticks": ""
                        }
                      }
                    ],
                    "scatter": [
                      {
                        "fillpattern": {
                          "fillmode": "overlay",
                          "size": 10,
                          "solidity": 0.2
                        },
                        "type": "scatter"
                      }
                    ],
                    "parcoords": [
                      {
                        "type": "parcoords",
                        "line": {
                          "colorbar": {
                            "outlinewidth": 0,
                            "ticks": ""
                          }
                        }
                      }
                    ],
                    "scatterpolargl": [
                      {
                        "type": "scatterpolargl",
                        "marker": {
                          "colorbar": {
                            "outlinewidth": 0,
                            "ticks": ""
                          }
                        }
                      }
                    ],
                    "bar": [
                      {
                        "error_x": {
                          "color": "#2a3f5f"
                        },
                        "error_y": {
                          "color": "#2a3f5f"
                        },
                        "marker": {
                          "line": {
                            "color": "#E5ECF6",
                            "width": 0.5
                          },
                          "pattern": {
                            "fillmode": "overlay",
                            "size": 10,
                            "solidity": 0.2
                          }
                        },
                        "type": "bar"
                      }
                    ],
                    "scattergeo": [
                      {
                        "type": "scattergeo",
                        "marker": {
                          "colorbar": {
                            "outlinewidth": 0,
                            "ticks": ""
                          }
                        }
                      }
                    ],
                    "scatterpolar": [
                      {
                        "type": "scatterpolar",
                        "marker": {
                          "colorbar": {
                            "outlinewidth": 0,
                            "ticks": ""
                          }
                        }
                      }
                    ],
                    "histogram": [
                      {
                        "marker": {
                          "pattern": {
                            "fillmode": "overlay",
                            "size": 10,
                            "solidity": 0.2
                          }
                        },
                        "type": "histogram"
                      }
                    ],
                    "scattergl": [
                      {
                        "type": "scattergl",
                        "marker": {
                          "colorbar": {
                            "outlinewidth": 0,
                            "ticks": ""
                          }
                        }
                      }
                    ],
                    "scatter3d": [
                      {
                        "type": "scatter3d",
                        "line": {
                          "colorbar": {
                            "outlinewidth": 0,
                            "ticks": ""
                          }
                        },
                        "marker": {
                          "colorbar": {
                            "outlinewidth": 0,
                            "ticks": ""
                          }
                        }
                      }
                    ],
                    "scattermapbox": [
                      {
                        "type": "scattermapbox",
                        "marker": {
                          "colorbar": {
                            "outlinewidth": 0,
                            "ticks": ""
                          }
                        }
                      }
                    ],
                    "scatterternary": [
                      {
                        "type": "scatterternary",
                        "marker": {
                          "colorbar": {
                            "outlinewidth": 0,
                            "ticks": ""
                          }
                        }
                      }
                    ],
                    "scattercarpet": [
                      {
                        "type": "scattercarpet",
                        "marker": {
                          "colorbar": {
                            "outlinewidth": 0,
                            "ticks": ""
                          }
                        }
                      }
                    ],
                    "carpet": [
                      {
                        "aaxis": {
                          "endlinecolor": "#2a3f5f",
                          "gridcolor": "white",
                          "linecolor": "white",
                          "minorgridcolor": "white",
                          "startlinecolor": "#2a3f5f"
                        },
                        "baxis": {
                          "endlinecolor": "#2a3f5f",
                          "gridcolor": "white",
                          "linecolor": "white",
                          "minorgridcolor": "white",
                          "startlinecolor": "#2a3f5f"
                        },
                        "type": "carpet"
                      }
                    ],
                    "table": [
                      {
                        "cells": {
                          "fill": {
                            "color": "#EBF0F8"
                          },
                          "line": {
                            "color": "white"
                          }
                        },
                        "header": {
                          "fill": {
                            "color": "#C8D4E3"
                          },
                          "line": {
                            "color": "white"
                          }
                        },
                        "type": "table"
                      }
                    ],
                    "barpolar": [
                      {
                        "marker": {
                          "line": {
                            "color": "#E5ECF6",
                            "width": 0.5
                          },
                          "pattern": {
                            "fillmode": "overlay",
                            "size": 10,
                            "solidity": 0.2
                          }
                        },
                        "type": "barpolar"
                      }
                    ],
                    "pie": [
                      {
                        "automargin": true,
                        "type": "pie"
                      }
                    ]
                  },
                  "layout": {
                    "autotypenumbers": "strict",
                    "colorway": [
                      "#636efa",
                      "#EF553B",
                      "#00cc96",
                      "#ab63fa",
                      "#FFA15A",
                      "#19d3f3",
                      "#FF6692",
                      "#B6E880",
                      "#FF97FF",
                      "#FECB52"
                    ],
                    "font": {
                      "color": "#2a3f5f"
                    },
                    "hovermode": "closest",
                    "hoverlabel": {
                      "align": "left"
                    },
                    "paper_bgcolor": "white",
                    "plot_bgcolor": "#E5ECF6",
                    "polar": {
                      "bgcolor": "#E5ECF6",
                      "angularaxis": {
                        "gridcolor": "white",
                        "linecolor": "white",
                        "ticks": ""
                      },
                      "radialaxis": {
                        "gridcolor": "white",
                        "linecolor": "white",
                        "ticks": ""
                      }
                    },
                    "ternary": {
                      "bgcolor": "#E5ECF6",
                      "aaxis": {
                        "gridcolor": "white",
                        "linecolor": "white",
                        "ticks": ""
                      },
                      "baxis": {
                        "gridcolor": "white",
                        "linecolor": "white",
                        "ticks": ""
                      },
                      "caxis": {
                        "gridcolor": "white",
                        "linecolor": "white",
                        "ticks": ""
                      }
                    },
                    "coloraxis": {
                      "colorbar": {
                        "outlinewidth": 0,
                        "ticks": ""
                      }
                    },
                    "colorscale": {
                      "sequential": [
                        [
                          0,
                          "#0d0887"
                        ],
                        [
                          0.1111111111111111,
                          "#46039f"
                        ],
                        [
                          0.2222222222222222,
                          "#7201a8"
                        ],
                        [
                          0.3333333333333333,
                          "#9c179e"
                        ],
                        [
                          0.4444444444444444,
                          "#bd3786"
                        ],
                        [
                          0.5555555555555556,
                          "#d8576b"
                        ],
                        [
                          0.6666666666666666,
                          "#ed7953"
                        ],
                        [
                          0.7777777777777778,
                          "#fb9f3a"
                        ],
                        [
                          0.8888888888888888,
                          "#fdca26"
                        ],
                        [
                          1,
                          "#f0f921"
                        ]
                      ],
                      "sequentialminus": [
                        [
                          0,
                          "#0d0887"
                        ],
                        [
                          0.1111111111111111,
                          "#46039f"
                        ],
                        [
                          0.2222222222222222,
                          "#7201a8"
                        ],
                        [
                          0.3333333333333333,
                          "#9c179e"
                        ],
                        [
                          0.4444444444444444,
                          "#bd3786"
                        ],
                        [
                          0.5555555555555556,
                          "#d8576b"
                        ],
                        [
                          0.6666666666666666,
                          "#ed7953"
                        ],
                        [
                          0.7777777777777778,
                          "#fb9f3a"
                        ],
                        [
                          0.8888888888888888,
                          "#fdca26"
                        ],
                        [
                          1,
                          "#f0f921"
                        ]
                      ],
                      "diverging": [
                        [
                          0,
                          "#8e0152"
                        ],
                        [
                          0.1,
                          "#c51b7d"
                        ],
                        [
                          0.2,
                          "#de77ae"
                        ],
                        [
                          0.3,
                          "#f1b6da"
                        ],
                        [
                          0.4,
                          "#fde0ef"
                        ],
                        [
                          0.5,
                          "#f7f7f7"
                        ],
                        [
                          0.6,
                          "#e6f5d0"
                        ],
                        [
                          0.7,
                          "#b8e186"
                        ],
                        [
                          0.8,
                          "#7fbc41"
                        ],
                        [
                          0.9,
                          "#4d9221"
                        ],
                        [
                          1,
                          "#276419"
                        ]
                      ]
                    },
                    "xaxis": {
                      "gridcolor": "white",
                      "linecolor": "white",
                      "ticks": "",
                      "title": {
                        "standoff": 15
                      },
                      "zerolinecolor": "white",
                      "automargin": true,
                      "zerolinewidth": 2
                    },
                    "yaxis": {
                      "gridcolor": "white",
                      "linecolor": "white",
                      "ticks": "",
                      "title": {
                        "standoff": 15
                      },
                      "zerolinecolor": "white",
                      "automargin": true,
                      "zerolinewidth": 2
                    },
                    "scene": {
                      "xaxis": {
                        "backgroundcolor": "#E5ECF6",
                        "gridcolor": "white",
                        "linecolor": "white",
                        "showbackground": true,
                        "ticks": "",
                        "zerolinecolor": "white",
                        "gridwidth": 2
                      },
                      "yaxis": {
                        "backgroundcolor": "#E5ECF6",
                        "gridcolor": "white",
                        "linecolor": "white",
                        "showbackground": true,
                        "ticks": "",
                        "zerolinecolor": "white",
                        "gridwidth": 2
                      },
                      "zaxis": {
                        "backgroundcolor": "#E5ECF6",
                        "gridcolor": "white",
                        "linecolor": "white",
                        "showbackground": true,
                        "ticks": "",
                        "zerolinecolor": "white",
                        "gridwidth": 2
                      }
                    },
                    "shapedefaults": {
                      "line": {
                        "color": "#2a3f5f"
                      }
                    },
                    "annotationdefaults": {
                      "arrowcolor": "#2a3f5f",
                      "arrowhead": 0,
                      "arrowwidth": 1
                    },
                    "geo": {
                      "bgcolor": "white",
                      "landcolor": "#E5ECF6",
                      "subunitcolor": "white",
                      "showland": true,
                      "showlakes": true,
                      "lakecolor": "white"
                    },
                    "title": {
                      "x": 0.05
                    },
                    "mapbox": {
                      "style": "light"
                    }
                  }
                },
                "xaxis": {
                  "anchor": "y",
                  "domain": [
                    0,
                    1
                  ],
                  "title": {
                    "text": "x"
                  }
                },
                "yaxis": {
                  "anchor": "x",
                  "domain": [
                    0,
                    1
                  ],
                  "title": {
                    "text": "y"
                  }
                },
                "legend": {
                  "title": {
                    "text": "color"
                  },
                  "tracegroupgap": 0
                },
                "margin": {
                  "t": 60
                },
                "shapes": [
                  {
                    "line": {
                      "color": "red",
                      "width": 1
                    },
                    "type": "line",
                    "x0": 0,
                    "x1": 1,
                    "xref": "x domain",
                    "y0": 100.78578820515864,
                    "y1": 100.78578820515864,
                    "yref": "y"
                  },
                  {
                    "line": {
                      "color": "green",
                      "width": 1
                    },
                    "type": "line",
                    "x0": 12.966424062049061,
                    "x1": 12.966424062049061,
                    "xref": "x",
                    "y0": 0,
                    "y1": 1,
                    "yref": "y domain"
                  }
                ]
              },
              "config": {
                "plotlyServerURL": "https://plot.ly"
              }
            },
            "text/html": "<div>                            <div id=\"725bc4da-9913-47db-9692-2c5f12ca566e\" class=\"plotly-graph-div\" style=\"height:525px; width:100%;\"></div>            <script type=\"text/javascript\">                require([\"plotly\"], function(Plotly) {                    window.PLOTLYENV=window.PLOTLYENV || {};                                    if (document.getElementById(\"725bc4da-9913-47db-9692-2c5f12ca566e\")) {                    Plotly.newPlot(                        \"725bc4da-9913-47db-9692-2c5f12ca566e\",                        [{\"hovertemplate\":\"color=Peshawar Zalmi<br>x=%{x}<br>y=%{y}<extra></extra>\",\"legendgroup\":\"Peshawar Zalmi\",\"marker\":{\"color\":\"#636efa\",\"symbol\":\"circle\"},\"mode\":\"markers\",\"name\":\"Peshawar Zalmi\",\"orientation\":\"v\",\"showlegend\":true,\"x\":[32.09090909090909,22.125,29.166666666666668,17.0,22.666666666666668,13.333333333333334,18.8,16.2,13.5,7.0,10.333333333333334,6.2,6.5,4.6,5.0,1.0,1.0],\"xaxis\":\"x\",\"y\":[128.83211678832117,163.88888888888889,129.62962962962962,96.83544303797468,101.49253731343283,127.65957446808511,106.81818181818181,120.8955223880597,110.20408163265306,92.10526315789474,67.3913043478261,79.48717948717949,86.66666666666667,153.33333333333334,57.69230769230769,50.0,16.666666666666668],\"yaxis\":\"y\",\"type\":\"scatter\"},{\"hovertemplate\":\"color=Karachi Kings<br>x=%{x}<br>y=%{y}<extra></extra>\",\"legendgroup\":\"Karachi Kings\",\"marker\":{\"color\":\"#EF553B\",\"symbol\":\"circle\"},\"mode\":\"markers\",\"name\":\"Karachi Kings\",\"orientation\":\"v\",\"showlegend\":true,\"x\":[29.1,21.5,20.2,22.333333333333332,17.77777777777778,11.9,10.375,6.0,9.5,4.0,10.0,2.5,0.0],\"xaxis\":\"x\",\"y\":[109.81132075471699,114.36170212765957,120.23809523809524,162.09677419354838,108.84353741496598,94.44444444444444,129.6875,114.28571428571429,111.76470588235294,114.28571428571429,125.0,125.0,0.0],\"yaxis\":\"y\",\"type\":\"scatter\"},{\"hovertemplate\":\"color=Islamabad United<br>x=%{x}<br>y=%{y}<extra></extra>\",\"legendgroup\":\"Islamabad United\",\"marker\":{\"color\":\"#00cc96\",\"symbol\":\"circle\"},\"mode\":\"markers\",\"name\":\"Islamabad United\",\"orientation\":\"v\",\"showlegend\":true,\"x\":[30.444444444444443,19.0,19.75,15.444444444444445,26.6,33.5,11.0,11.5,15.333333333333334,15.0,8.333333333333334,0.5,1.0,1.0,1.0,0.0,0.0],\"xaxis\":\"x\",\"y\":[110.93117408906883,132.5581395348837,108.21917808219177,118.80341880341881,134.34343434343435,131.37254901960785,157.14285714285714,102.22222222222223,124.32432432432432,88.23529411764706,96.15384615384616,50.0,33.333333333333336,25.0,100.0,0.0,0.0],\"yaxis\":\"y\",\"type\":\"scatter\"},{\"hovertemplate\":\"color=Quetta Gladiators<br>x=%{x}<br>y=%{y}<extra></extra>\",\"legendgroup\":\"Quetta Gladiators\",\"marker\":{\"color\":\"#ab63fa\",\"symbol\":\"circle\"},\"mode\":\"markers\",\"name\":\"Quetta Gladiators\",\"orientation\":\"v\",\"showlegend\":true,\"x\":[31.875,34.42857142857143,26.444444444444443,20.333333333333332,24.5,11.4,13.333333333333334,12.333333333333334,6.5,24.0,5.0,6.0,12.0,6.0,3.0,2.0,0.5,1.0,0.5],\"xaxis\":\"x\",\"y\":[121.42857142857143,148.76543209876544,127.95698924731182,128.8732394366197,106.52173913043478,129.54545454545453,111.11111111111111,137.03703703703704,96.29629629629629,126.3157894736842,105.26315789473684,105.88235294117646,171.42857142857142,66.66666666666667,33.333333333333336,66.66666666666667,50.0,14.285714285714286,33.333333333333336],\"yaxis\":\"y\",\"type\":\"scatter\"},{\"hovertemplate\":\"color=Lahore Qalandars<br>x=%{x}<br>y=%{y}<extra></extra>\",\"legendgroup\":\"Lahore Qalandars\",\"marker\":{\"color\":\"#FFA15A\",\"symbol\":\"circle\"},\"mode\":\"markers\",\"name\":\"Lahore Qalandars\",\"orientation\":\"v\",\"showlegend\":true,\"x\":[22.125,34.6,20.5,18.571428571428573,16.571428571428573,13.285714285714286,20.5,10.571428571428571,11.333333333333334,12.5,11.5,1.0,1.0,1.0],\"xaxis\":\"x\",\"y\":[136.15384615384616,149.13793103448276,124.24242424242425,120.37037037037037,170.58823529411765,116.25,146.42857142857142,92.5,103.03030303030303,96.15384615384616,100.0,66.66666666666667,28.571428571428573,100.0],\"yaxis\":\"y\",\"type\":\"scatter\"}],                        {\"template\":{\"data\":{\"histogram2dcontour\":[{\"type\":\"histogram2dcontour\",\"colorbar\":{\"outlinewidth\":0,\"ticks\":\"\"},\"colorscale\":[[0.0,\"#0d0887\"],[0.1111111111111111,\"#46039f\"],[0.2222222222222222,\"#7201a8\"],[0.3333333333333333,\"#9c179e\"],[0.4444444444444444,\"#bd3786\"],[0.5555555555555556,\"#d8576b\"],[0.6666666666666666,\"#ed7953\"],[0.7777777777777778,\"#fb9f3a\"],[0.8888888888888888,\"#fdca26\"],[1.0,\"#f0f921\"]]}],\"choropleth\":[{\"type\":\"choropleth\",\"colorbar\":{\"outlinewidth\":0,\"ticks\":\"\"}}],\"histogram2d\":[{\"type\":\"histogram2d\",\"colorbar\":{\"outlinewidth\":0,\"ticks\":\"\"},\"colorscale\":[[0.0,\"#0d0887\"],[0.1111111111111111,\"#46039f\"],[0.2222222222222222,\"#7201a8\"],[0.3333333333333333,\"#9c179e\"],[0.4444444444444444,\"#bd3786\"],[0.5555555555555556,\"#d8576b\"],[0.6666666666666666,\"#ed7953\"],[0.7777777777777778,\"#fb9f3a\"],[0.8888888888888888,\"#fdca26\"],[1.0,\"#f0f921\"]]}],\"heatmap\":[{\"type\":\"heatmap\",\"colorbar\":{\"outlinewidth\":0,\"ticks\":\"\"},\"colorscale\":[[0.0,\"#0d0887\"],[0.1111111111111111,\"#46039f\"],[0.2222222222222222,\"#7201a8\"],[0.3333333333333333,\"#9c179e\"],[0.4444444444444444,\"#bd3786\"],[0.5555555555555556,\"#d8576b\"],[0.6666666666666666,\"#ed7953\"],[0.7777777777777778,\"#fb9f3a\"],[0.8888888888888888,\"#fdca26\"],[1.0,\"#f0f921\"]]}],\"heatmapgl\":[{\"type\":\"heatmapgl\",\"colorbar\":{\"outlinewidth\":0,\"ticks\":\"\"},\"colorscale\":[[0.0,\"#0d0887\"],[0.1111111111111111,\"#46039f\"],[0.2222222222222222,\"#7201a8\"],[0.3333333333333333,\"#9c179e\"],[0.4444444444444444,\"#bd3786\"],[0.5555555555555556,\"#d8576b\"],[0.6666666666666666,\"#ed7953\"],[0.7777777777777778,\"#fb9f3a\"],[0.8888888888888888,\"#fdca26\"],[1.0,\"#f0f921\"]]}],\"contourcarpet\":[{\"type\":\"contourcarpet\",\"colorbar\":{\"outlinewidth\":0,\"ticks\":\"\"}}],\"contour\":[{\"type\":\"contour\",\"colorbar\":{\"outlinewidth\":0,\"ticks\":\"\"},\"colorscale\":[[0.0,\"#0d0887\"],[0.1111111111111111,\"#46039f\"],[0.2222222222222222,\"#7201a8\"],[0.3333333333333333,\"#9c179e\"],[0.4444444444444444,\"#bd3786\"],[0.5555555555555556,\"#d8576b\"],[0.6666666666666666,\"#ed7953\"],[0.7777777777777778,\"#fb9f3a\"],[0.8888888888888888,\"#fdca26\"],[1.0,\"#f0f921\"]]}],\"surface\":[{\"type\":\"surface\",\"colorbar\":{\"outlinewidth\":0,\"ticks\":\"\"},\"colorscale\":[[0.0,\"#0d0887\"],[0.1111111111111111,\"#46039f\"],[0.2222222222222222,\"#7201a8\"],[0.3333333333333333,\"#9c179e\"],[0.4444444444444444,\"#bd3786\"],[0.5555555555555556,\"#d8576b\"],[0.6666666666666666,\"#ed7953\"],[0.7777777777777778,\"#fb9f3a\"],[0.8888888888888888,\"#fdca26\"],[1.0,\"#f0f921\"]]}],\"mesh3d\":[{\"type\":\"mesh3d\",\"colorbar\":{\"outlinewidth\":0,\"ticks\":\"\"}}],\"scatter\":[{\"fillpattern\":{\"fillmode\":\"overlay\",\"size\":10,\"solidity\":0.2},\"type\":\"scatter\"}],\"parcoords\":[{\"type\":\"parcoords\",\"line\":{\"colorbar\":{\"outlinewidth\":0,\"ticks\":\"\"}}}],\"scatterpolargl\":[{\"type\":\"scatterpolargl\",\"marker\":{\"colorbar\":{\"outlinewidth\":0,\"ticks\":\"\"}}}],\"bar\":[{\"error_x\":{\"color\":\"#2a3f5f\"},\"error_y\":{\"color\":\"#2a3f5f\"},\"marker\":{\"line\":{\"color\":\"#E5ECF6\",\"width\":0.5},\"pattern\":{\"fillmode\":\"overlay\",\"size\":10,\"solidity\":0.2}},\"type\":\"bar\"}],\"scattergeo\":[{\"type\":\"scattergeo\",\"marker\":{\"colorbar\":{\"outlinewidth\":0,\"ticks\":\"\"}}}],\"scatterpolar\":[{\"type\":\"scatterpolar\",\"marker\":{\"colorbar\":{\"outlinewidth\":0,\"ticks\":\"\"}}}],\"histogram\":[{\"marker\":{\"pattern\":{\"fillmode\":\"overlay\",\"size\":10,\"solidity\":0.2}},\"type\":\"histogram\"}],\"scattergl\":[{\"type\":\"scattergl\",\"marker\":{\"colorbar\":{\"outlinewidth\":0,\"ticks\":\"\"}}}],\"scatter3d\":[{\"type\":\"scatter3d\",\"line\":{\"colorbar\":{\"outlinewidth\":0,\"ticks\":\"\"}},\"marker\":{\"colorbar\":{\"outlinewidth\":0,\"ticks\":\"\"}}}],\"scattermapbox\":[{\"type\":\"scattermapbox\",\"marker\":{\"colorbar\":{\"outlinewidth\":0,\"ticks\":\"\"}}}],\"scatterternary\":[{\"type\":\"scatterternary\",\"marker\":{\"colorbar\":{\"outlinewidth\":0,\"ticks\":\"\"}}}],\"scattercarpet\":[{\"type\":\"scattercarpet\",\"marker\":{\"colorbar\":{\"outlinewidth\":0,\"ticks\":\"\"}}}],\"carpet\":[{\"aaxis\":{\"endlinecolor\":\"#2a3f5f\",\"gridcolor\":\"white\",\"linecolor\":\"white\",\"minorgridcolor\":\"white\",\"startlinecolor\":\"#2a3f5f\"},\"baxis\":{\"endlinecolor\":\"#2a3f5f\",\"gridcolor\":\"white\",\"linecolor\":\"white\",\"minorgridcolor\":\"white\",\"startlinecolor\":\"#2a3f5f\"},\"type\":\"carpet\"}],\"table\":[{\"cells\":{\"fill\":{\"color\":\"#EBF0F8\"},\"line\":{\"color\":\"white\"}},\"header\":{\"fill\":{\"color\":\"#C8D4E3\"},\"line\":{\"color\":\"white\"}},\"type\":\"table\"}],\"barpolar\":[{\"marker\":{\"line\":{\"color\":\"#E5ECF6\",\"width\":0.5},\"pattern\":{\"fillmode\":\"overlay\",\"size\":10,\"solidity\":0.2}},\"type\":\"barpolar\"}],\"pie\":[{\"automargin\":true,\"type\":\"pie\"}]},\"layout\":{\"autotypenumbers\":\"strict\",\"colorway\":[\"#636efa\",\"#EF553B\",\"#00cc96\",\"#ab63fa\",\"#FFA15A\",\"#19d3f3\",\"#FF6692\",\"#B6E880\",\"#FF97FF\",\"#FECB52\"],\"font\":{\"color\":\"#2a3f5f\"},\"hovermode\":\"closest\",\"hoverlabel\":{\"align\":\"left\"},\"paper_bgcolor\":\"white\",\"plot_bgcolor\":\"#E5ECF6\",\"polar\":{\"bgcolor\":\"#E5ECF6\",\"angularaxis\":{\"gridcolor\":\"white\",\"linecolor\":\"white\",\"ticks\":\"\"},\"radialaxis\":{\"gridcolor\":\"white\",\"linecolor\":\"white\",\"ticks\":\"\"}},\"ternary\":{\"bgcolor\":\"#E5ECF6\",\"aaxis\":{\"gridcolor\":\"white\",\"linecolor\":\"white\",\"ticks\":\"\"},\"baxis\":{\"gridcolor\":\"white\",\"linecolor\":\"white\",\"ticks\":\"\"},\"caxis\":{\"gridcolor\":\"white\",\"linecolor\":\"white\",\"ticks\":\"\"}},\"coloraxis\":{\"colorbar\":{\"outlinewidth\":0,\"ticks\":\"\"}},\"colorscale\":{\"sequential\":[[0.0,\"#0d0887\"],[0.1111111111111111,\"#46039f\"],[0.2222222222222222,\"#7201a8\"],[0.3333333333333333,\"#9c179e\"],[0.4444444444444444,\"#bd3786\"],[0.5555555555555556,\"#d8576b\"],[0.6666666666666666,\"#ed7953\"],[0.7777777777777778,\"#fb9f3a\"],[0.8888888888888888,\"#fdca26\"],[1.0,\"#f0f921\"]],\"sequentialminus\":[[0.0,\"#0d0887\"],[0.1111111111111111,\"#46039f\"],[0.2222222222222222,\"#7201a8\"],[0.3333333333333333,\"#9c179e\"],[0.4444444444444444,\"#bd3786\"],[0.5555555555555556,\"#d8576b\"],[0.6666666666666666,\"#ed7953\"],[0.7777777777777778,\"#fb9f3a\"],[0.8888888888888888,\"#fdca26\"],[1.0,\"#f0f921\"]],\"diverging\":[[0,\"#8e0152\"],[0.1,\"#c51b7d\"],[0.2,\"#de77ae\"],[0.3,\"#f1b6da\"],[0.4,\"#fde0ef\"],[0.5,\"#f7f7f7\"],[0.6,\"#e6f5d0\"],[0.7,\"#b8e186\"],[0.8,\"#7fbc41\"],[0.9,\"#4d9221\"],[1,\"#276419\"]]},\"xaxis\":{\"gridcolor\":\"white\",\"linecolor\":\"white\",\"ticks\":\"\",\"title\":{\"standoff\":15},\"zerolinecolor\":\"white\",\"automargin\":true,\"zerolinewidth\":2},\"yaxis\":{\"gridcolor\":\"white\",\"linecolor\":\"white\",\"ticks\":\"\",\"title\":{\"standoff\":15},\"zerolinecolor\":\"white\",\"automargin\":true,\"zerolinewidth\":2},\"scene\":{\"xaxis\":{\"backgroundcolor\":\"#E5ECF6\",\"gridcolor\":\"white\",\"linecolor\":\"white\",\"showbackground\":true,\"ticks\":\"\",\"zerolinecolor\":\"white\",\"gridwidth\":2},\"yaxis\":{\"backgroundcolor\":\"#E5ECF6\",\"gridcolor\":\"white\",\"linecolor\":\"white\",\"showbackground\":true,\"ticks\":\"\",\"zerolinecolor\":\"white\",\"gridwidth\":2},\"zaxis\":{\"backgroundcolor\":\"#E5ECF6\",\"gridcolor\":\"white\",\"linecolor\":\"white\",\"showbackground\":true,\"ticks\":\"\",\"zerolinecolor\":\"white\",\"gridwidth\":2}},\"shapedefaults\":{\"line\":{\"color\":\"#2a3f5f\"}},\"annotationdefaults\":{\"arrowcolor\":\"#2a3f5f\",\"arrowhead\":0,\"arrowwidth\":1},\"geo\":{\"bgcolor\":\"white\",\"landcolor\":\"#E5ECF6\",\"subunitcolor\":\"white\",\"showland\":true,\"showlakes\":true,\"lakecolor\":\"white\"},\"title\":{\"x\":0.05},\"mapbox\":{\"style\":\"light\"}}},\"xaxis\":{\"anchor\":\"y\",\"domain\":[0.0,1.0],\"title\":{\"text\":\"x\"}},\"yaxis\":{\"anchor\":\"x\",\"domain\":[0.0,1.0],\"title\":{\"text\":\"y\"}},\"legend\":{\"title\":{\"text\":\"color\"},\"tracegroupgap\":0},\"margin\":{\"t\":60},\"shapes\":[{\"line\":{\"color\":\"red\",\"width\":1},\"type\":\"line\",\"x0\":0,\"x1\":1,\"xref\":\"x domain\",\"y0\":100.78578820515864,\"y1\":100.78578820515864,\"yref\":\"y\"},{\"line\":{\"color\":\"green\",\"width\":1},\"type\":\"line\",\"x0\":12.966424062049061,\"x1\":12.966424062049061,\"xref\":\"x\",\"y0\":0,\"y1\":1,\"yref\":\"y domain\"}]},                        {\"responsive\": true}                    ).then(function(){\n                            \nvar gd = document.getElementById('725bc4da-9913-47db-9692-2c5f12ca566e');\nvar x = new MutationObserver(function (mutations, observer) {{\n        var display = window.getComputedStyle(gd).display;\n        if (!display || display === 'none') {{\n            console.log([gd, 'removed!']);\n            Plotly.purge(gd);\n            observer.disconnect();\n        }}\n}});\n\n// Listen for the removal of the full notebook cells\nvar notebookContainer = gd.closest('#notebook-container');\nif (notebookContainer) {{\n    x.observe(notebookContainer, {childList: true});\n}}\n\n// Listen for the clearing of the current output cell\nvar outputEl = gd.closest('.output');\nif (outputEl) {{\n    x.observe(outputEl, {childList: true});\n}}\n\n                        })                };                });            </script>        </div>"
          },
          "metadata": {}
        }
      ],
      "source": [
        "\n",
        "quadrant_chart(\n",
        "    x=df_batAvg['AvgRuns_match'],\n",
        "    y=df_batAvg['Strike_rate'],\n",
        "    team=df_batAvg['Batting_team'],\n",
        "    var=df_batAvg[\"Var\"],\n",
        "    xtick_labels=['Low', 'High'],\n",
        "    ytick_labels=['Low', 'High'],\n",
        "    highlight_quadrants=[1]\n",
        ")\n",
        "# plt.title('Strike vs Runs', fontsize=16)\n",
        "# plt.ylabel('Strike', fontsize=14)\n",
        "# plt.xlabel('Avg Runs', fontsize=14)"
      ]
    },
    {
      "cell_type": "code",
      "execution_count": 242,
      "metadata": {},
      "outputs": [
        {
          "output_type": "display_data",
          "data": {
            "application/vnd.plotly.v1+json": {
              "data": [
                {
                  "boxmean": "sd",
                  "boxpoints": "all",
                  "name": "Peshawar Zalmi",
                  "y": [
                    32.09090909090909,
                    22.125,
                    29.166666666666668,
                    17,
                    22.666666666666668,
                    13.333333333333334,
                    18.8,
                    16.2,
                    13.5,
                    7,
                    10.333333333333334,
                    6.2,
                    6.5,
                    4.6,
                    5,
                    1,
                    1
                  ],
                  "type": "box"
                },
                {
                  "boxmean": "sd",
                  "boxpoints": "all",
                  "name": "Islamabad United",
                  "y": [
                    30.444444444444443,
                    19,
                    19.75,
                    15.444444444444445,
                    26.6,
                    33.5,
                    11,
                    11.5,
                    15.333333333333334,
                    15,
                    8.333333333333334,
                    0.5,
                    1,
                    1,
                    1,
                    0,
                    0
                  ],
                  "type": "box"
                },
                {
                  "boxmean": "sd",
                  "boxpoints": "all",
                  "name": "Quetta Gladiators",
                  "y": [
                    31.875,
                    34.42857142857143,
                    26.444444444444443,
                    20.333333333333332,
                    24.5,
                    11.4,
                    13.333333333333334,
                    12.333333333333334,
                    6.5,
                    24,
                    5,
                    6,
                    12,
                    6,
                    3,
                    2,
                    0.5,
                    1,
                    0.5
                  ],
                  "type": "box"
                },
                {
                  "boxmean": "sd",
                  "boxpoints": "all",
                  "name": "Karachi Kings",
                  "y": [
                    29.1,
                    21.5,
                    20.2,
                    22.333333333333332,
                    17.77777777777778,
                    11.9,
                    10.375,
                    6,
                    9.5,
                    4,
                    10,
                    2.5,
                    0
                  ],
                  "type": "box"
                },
                {
                  "boxmean": "sd",
                  "boxpoints": "all",
                  "name": "Lahore Qalandars",
                  "y": [
                    22.125,
                    34.6,
                    20.5,
                    18.571428571428573,
                    16.571428571428573,
                    13.285714285714286,
                    20.5,
                    10.571428571428571,
                    11.333333333333334,
                    12.5,
                    11.5,
                    1,
                    1,
                    1
                  ],
                  "type": "box"
                }
              ],
              "layout": {
                "template": {
                  "data": {
                    "histogram2dcontour": [
                      {
                        "type": "histogram2dcontour",
                        "colorbar": {
                          "outlinewidth": 0,
                          "ticks": ""
                        },
                        "colorscale": [
                          [
                            0,
                            "#0d0887"
                          ],
                          [
                            0.1111111111111111,
                            "#46039f"
                          ],
                          [
                            0.2222222222222222,
                            "#7201a8"
                          ],
                          [
                            0.3333333333333333,
                            "#9c179e"
                          ],
                          [
                            0.4444444444444444,
                            "#bd3786"
                          ],
                          [
                            0.5555555555555556,
                            "#d8576b"
                          ],
                          [
                            0.6666666666666666,
                            "#ed7953"
                          ],
                          [
                            0.7777777777777778,
                            "#fb9f3a"
                          ],
                          [
                            0.8888888888888888,
                            "#fdca26"
                          ],
                          [
                            1,
                            "#f0f921"
                          ]
                        ]
                      }
                    ],
                    "choropleth": [
                      {
                        "type": "choropleth",
                        "colorbar": {
                          "outlinewidth": 0,
                          "ticks": ""
                        }
                      }
                    ],
                    "histogram2d": [
                      {
                        "type": "histogram2d",
                        "colorbar": {
                          "outlinewidth": 0,
                          "ticks": ""
                        },
                        "colorscale": [
                          [
                            0,
                            "#0d0887"
                          ],
                          [
                            0.1111111111111111,
                            "#46039f"
                          ],
                          [
                            0.2222222222222222,
                            "#7201a8"
                          ],
                          [
                            0.3333333333333333,
                            "#9c179e"
                          ],
                          [
                            0.4444444444444444,
                            "#bd3786"
                          ],
                          [
                            0.5555555555555556,
                            "#d8576b"
                          ],
                          [
                            0.6666666666666666,
                            "#ed7953"
                          ],
                          [
                            0.7777777777777778,
                            "#fb9f3a"
                          ],
                          [
                            0.8888888888888888,
                            "#fdca26"
                          ],
                          [
                            1,
                            "#f0f921"
                          ]
                        ]
                      }
                    ],
                    "heatmap": [
                      {
                        "type": "heatmap",
                        "colorbar": {
                          "outlinewidth": 0,
                          "ticks": ""
                        },
                        "colorscale": [
                          [
                            0,
                            "#0d0887"
                          ],
                          [
                            0.1111111111111111,
                            "#46039f"
                          ],
                          [
                            0.2222222222222222,
                            "#7201a8"
                          ],
                          [
                            0.3333333333333333,
                            "#9c179e"
                          ],
                          [
                            0.4444444444444444,
                            "#bd3786"
                          ],
                          [
                            0.5555555555555556,
                            "#d8576b"
                          ],
                          [
                            0.6666666666666666,
                            "#ed7953"
                          ],
                          [
                            0.7777777777777778,
                            "#fb9f3a"
                          ],
                          [
                            0.8888888888888888,
                            "#fdca26"
                          ],
                          [
                            1,
                            "#f0f921"
                          ]
                        ]
                      }
                    ],
                    "heatmapgl": [
                      {
                        "type": "heatmapgl",
                        "colorbar": {
                          "outlinewidth": 0,
                          "ticks": ""
                        },
                        "colorscale": [
                          [
                            0,
                            "#0d0887"
                          ],
                          [
                            0.1111111111111111,
                            "#46039f"
                          ],
                          [
                            0.2222222222222222,
                            "#7201a8"
                          ],
                          [
                            0.3333333333333333,
                            "#9c179e"
                          ],
                          [
                            0.4444444444444444,
                            "#bd3786"
                          ],
                          [
                            0.5555555555555556,
                            "#d8576b"
                          ],
                          [
                            0.6666666666666666,
                            "#ed7953"
                          ],
                          [
                            0.7777777777777778,
                            "#fb9f3a"
                          ],
                          [
                            0.8888888888888888,
                            "#fdca26"
                          ],
                          [
                            1,
                            "#f0f921"
                          ]
                        ]
                      }
                    ],
                    "contourcarpet": [
                      {
                        "type": "contourcarpet",
                        "colorbar": {
                          "outlinewidth": 0,
                          "ticks": ""
                        }
                      }
                    ],
                    "contour": [
                      {
                        "type": "contour",
                        "colorbar": {
                          "outlinewidth": 0,
                          "ticks": ""
                        },
                        "colorscale": [
                          [
                            0,
                            "#0d0887"
                          ],
                          [
                            0.1111111111111111,
                            "#46039f"
                          ],
                          [
                            0.2222222222222222,
                            "#7201a8"
                          ],
                          [
                            0.3333333333333333,
                            "#9c179e"
                          ],
                          [
                            0.4444444444444444,
                            "#bd3786"
                          ],
                          [
                            0.5555555555555556,
                            "#d8576b"
                          ],
                          [
                            0.6666666666666666,
                            "#ed7953"
                          ],
                          [
                            0.7777777777777778,
                            "#fb9f3a"
                          ],
                          [
                            0.8888888888888888,
                            "#fdca26"
                          ],
                          [
                            1,
                            "#f0f921"
                          ]
                        ]
                      }
                    ],
                    "surface": [
                      {
                        "type": "surface",
                        "colorbar": {
                          "outlinewidth": 0,
                          "ticks": ""
                        },
                        "colorscale": [
                          [
                            0,
                            "#0d0887"
                          ],
                          [
                            0.1111111111111111,
                            "#46039f"
                          ],
                          [
                            0.2222222222222222,
                            "#7201a8"
                          ],
                          [
                            0.3333333333333333,
                            "#9c179e"
                          ],
                          [
                            0.4444444444444444,
                            "#bd3786"
                          ],
                          [
                            0.5555555555555556,
                            "#d8576b"
                          ],
                          [
                            0.6666666666666666,
                            "#ed7953"
                          ],
                          [
                            0.7777777777777778,
                            "#fb9f3a"
                          ],
                          [
                            0.8888888888888888,
                            "#fdca26"
                          ],
                          [
                            1,
                            "#f0f921"
                          ]
                        ]
                      }
                    ],
                    "mesh3d": [
                      {
                        "type": "mesh3d",
                        "colorbar": {
                          "outlinewidth": 0,
                          "ticks": ""
                        }
                      }
                    ],
                    "scatter": [
                      {
                        "fillpattern": {
                          "fillmode": "overlay",
                          "size": 10,
                          "solidity": 0.2
                        },
                        "type": "scatter"
                      }
                    ],
                    "parcoords": [
                      {
                        "type": "parcoords",
                        "line": {
                          "colorbar": {
                            "outlinewidth": 0,
                            "ticks": ""
                          }
                        }
                      }
                    ],
                    "scatterpolargl": [
                      {
                        "type": "scatterpolargl",
                        "marker": {
                          "colorbar": {
                            "outlinewidth": 0,
                            "ticks": ""
                          }
                        }
                      }
                    ],
                    "bar": [
                      {
                        "error_x": {
                          "color": "#2a3f5f"
                        },
                        "error_y": {
                          "color": "#2a3f5f"
                        },
                        "marker": {
                          "line": {
                            "color": "#E5ECF6",
                            "width": 0.5
                          },
                          "pattern": {
                            "fillmode": "overlay",
                            "size": 10,
                            "solidity": 0.2
                          }
                        },
                        "type": "bar"
                      }
                    ],
                    "scattergeo": [
                      {
                        "type": "scattergeo",
                        "marker": {
                          "colorbar": {
                            "outlinewidth": 0,
                            "ticks": ""
                          }
                        }
                      }
                    ],
                    "scatterpolar": [
                      {
                        "type": "scatterpolar",
                        "marker": {
                          "colorbar": {
                            "outlinewidth": 0,
                            "ticks": ""
                          }
                        }
                      }
                    ],
                    "histogram": [
                      {
                        "marker": {
                          "pattern": {
                            "fillmode": "overlay",
                            "size": 10,
                            "solidity": 0.2
                          }
                        },
                        "type": "histogram"
                      }
                    ],
                    "scattergl": [
                      {
                        "type": "scattergl",
                        "marker": {
                          "colorbar": {
                            "outlinewidth": 0,
                            "ticks": ""
                          }
                        }
                      }
                    ],
                    "scatter3d": [
                      {
                        "type": "scatter3d",
                        "line": {
                          "colorbar": {
                            "outlinewidth": 0,
                            "ticks": ""
                          }
                        },
                        "marker": {
                          "colorbar": {
                            "outlinewidth": 0,
                            "ticks": ""
                          }
                        }
                      }
                    ],
                    "scattermapbox": [
                      {
                        "type": "scattermapbox",
                        "marker": {
                          "colorbar": {
                            "outlinewidth": 0,
                            "ticks": ""
                          }
                        }
                      }
                    ],
                    "scatterternary": [
                      {
                        "type": "scatterternary",
                        "marker": {
                          "colorbar": {
                            "outlinewidth": 0,
                            "ticks": ""
                          }
                        }
                      }
                    ],
                    "scattercarpet": [
                      {
                        "type": "scattercarpet",
                        "marker": {
                          "colorbar": {
                            "outlinewidth": 0,
                            "ticks": ""
                          }
                        }
                      }
                    ],
                    "carpet": [
                      {
                        "aaxis": {
                          "endlinecolor": "#2a3f5f",
                          "gridcolor": "white",
                          "linecolor": "white",
                          "minorgridcolor": "white",
                          "startlinecolor": "#2a3f5f"
                        },
                        "baxis": {
                          "endlinecolor": "#2a3f5f",
                          "gridcolor": "white",
                          "linecolor": "white",
                          "minorgridcolor": "white",
                          "startlinecolor": "#2a3f5f"
                        },
                        "type": "carpet"
                      }
                    ],
                    "table": [
                      {
                        "cells": {
                          "fill": {
                            "color": "#EBF0F8"
                          },
                          "line": {
                            "color": "white"
                          }
                        },
                        "header": {
                          "fill": {
                            "color": "#C8D4E3"
                          },
                          "line": {
                            "color": "white"
                          }
                        },
                        "type": "table"
                      }
                    ],
                    "barpolar": [
                      {
                        "marker": {
                          "line": {
                            "color": "#E5ECF6",
                            "width": 0.5
                          },
                          "pattern": {
                            "fillmode": "overlay",
                            "size": 10,
                            "solidity": 0.2
                          }
                        },
                        "type": "barpolar"
                      }
                    ],
                    "pie": [
                      {
                        "automargin": true,
                        "type": "pie"
                      }
                    ]
                  },
                  "layout": {
                    "autotypenumbers": "strict",
                    "colorway": [
                      "#636efa",
                      "#EF553B",
                      "#00cc96",
                      "#ab63fa",
                      "#FFA15A",
                      "#19d3f3",
                      "#FF6692",
                      "#B6E880",
                      "#FF97FF",
                      "#FECB52"
                    ],
                    "font": {
                      "color": "#2a3f5f"
                    },
                    "hovermode": "closest",
                    "hoverlabel": {
                      "align": "left"
                    },
                    "paper_bgcolor": "white",
                    "plot_bgcolor": "#E5ECF6",
                    "polar": {
                      "bgcolor": "#E5ECF6",
                      "angularaxis": {
                        "gridcolor": "white",
                        "linecolor": "white",
                        "ticks": ""
                      },
                      "radialaxis": {
                        "gridcolor": "white",
                        "linecolor": "white",
                        "ticks": ""
                      }
                    },
                    "ternary": {
                      "bgcolor": "#E5ECF6",
                      "aaxis": {
                        "gridcolor": "white",
                        "linecolor": "white",
                        "ticks": ""
                      },
                      "baxis": {
                        "gridcolor": "white",
                        "linecolor": "white",
                        "ticks": ""
                      },
                      "caxis": {
                        "gridcolor": "white",
                        "linecolor": "white",
                        "ticks": ""
                      }
                    },
                    "coloraxis": {
                      "colorbar": {
                        "outlinewidth": 0,
                        "ticks": ""
                      }
                    },
                    "colorscale": {
                      "sequential": [
                        [
                          0,
                          "#0d0887"
                        ],
                        [
                          0.1111111111111111,
                          "#46039f"
                        ],
                        [
                          0.2222222222222222,
                          "#7201a8"
                        ],
                        [
                          0.3333333333333333,
                          "#9c179e"
                        ],
                        [
                          0.4444444444444444,
                          "#bd3786"
                        ],
                        [
                          0.5555555555555556,
                          "#d8576b"
                        ],
                        [
                          0.6666666666666666,
                          "#ed7953"
                        ],
                        [
                          0.7777777777777778,
                          "#fb9f3a"
                        ],
                        [
                          0.8888888888888888,
                          "#fdca26"
                        ],
                        [
                          1,
                          "#f0f921"
                        ]
                      ],
                      "sequentialminus": [
                        [
                          0,
                          "#0d0887"
                        ],
                        [
                          0.1111111111111111,
                          "#46039f"
                        ],
                        [
                          0.2222222222222222,
                          "#7201a8"
                        ],
                        [
                          0.3333333333333333,
                          "#9c179e"
                        ],
                        [
                          0.4444444444444444,
                          "#bd3786"
                        ],
                        [
                          0.5555555555555556,
                          "#d8576b"
                        ],
                        [
                          0.6666666666666666,
                          "#ed7953"
                        ],
                        [
                          0.7777777777777778,
                          "#fb9f3a"
                        ],
                        [
                          0.8888888888888888,
                          "#fdca26"
                        ],
                        [
                          1,
                          "#f0f921"
                        ]
                      ],
                      "diverging": [
                        [
                          0,
                          "#8e0152"
                        ],
                        [
                          0.1,
                          "#c51b7d"
                        ],
                        [
                          0.2,
                          "#de77ae"
                        ],
                        [
                          0.3,
                          "#f1b6da"
                        ],
                        [
                          0.4,
                          "#fde0ef"
                        ],
                        [
                          0.5,
                          "#f7f7f7"
                        ],
                        [
                          0.6,
                          "#e6f5d0"
                        ],
                        [
                          0.7,
                          "#b8e186"
                        ],
                        [
                          0.8,
                          "#7fbc41"
                        ],
                        [
                          0.9,
                          "#4d9221"
                        ],
                        [
                          1,
                          "#276419"
                        ]
                      ]
                    },
                    "xaxis": {
                      "gridcolor": "white",
                      "linecolor": "white",
                      "ticks": "",
                      "title": {
                        "standoff": 15
                      },
                      "zerolinecolor": "white",
                      "automargin": true,
                      "zerolinewidth": 2
                    },
                    "yaxis": {
                      "gridcolor": "white",
                      "linecolor": "white",
                      "ticks": "",
                      "title": {
                        "standoff": 15
                      },
                      "zerolinecolor": "white",
                      "automargin": true,
                      "zerolinewidth": 2
                    },
                    "scene": {
                      "xaxis": {
                        "backgroundcolor": "#E5ECF6",
                        "gridcolor": "white",
                        "linecolor": "white",
                        "showbackground": true,
                        "ticks": "",
                        "zerolinecolor": "white",
                        "gridwidth": 2
                      },
                      "yaxis": {
                        "backgroundcolor": "#E5ECF6",
                        "gridcolor": "white",
                        "linecolor": "white",
                        "showbackground": true,
                        "ticks": "",
                        "zerolinecolor": "white",
                        "gridwidth": 2
                      },
                      "zaxis": {
                        "backgroundcolor": "#E5ECF6",
                        "gridcolor": "white",
                        "linecolor": "white",
                        "showbackground": true,
                        "ticks": "",
                        "zerolinecolor": "white",
                        "gridwidth": 2
                      }
                    },
                    "shapedefaults": {
                      "line": {
                        "color": "#2a3f5f"
                      }
                    },
                    "annotationdefaults": {
                      "arrowcolor": "#2a3f5f",
                      "arrowhead": 0,
                      "arrowwidth": 1
                    },
                    "geo": {
                      "bgcolor": "white",
                      "landcolor": "#E5ECF6",
                      "subunitcolor": "white",
                      "showland": true,
                      "showlakes": true,
                      "lakecolor": "white"
                    },
                    "title": {
                      "x": 0.05
                    },
                    "mapbox": {
                      "style": "light"
                    }
                  }
                },
                "title": {
                  "text": "Batting Avg distribution for each team"
                }
              },
              "config": {
                "plotlyServerURL": "https://plot.ly"
              }
            },
            "text/html": "<div>                            <div id=\"261ab165-93c4-476c-9dea-8775a9b71de3\" class=\"plotly-graph-div\" style=\"height:525px; width:100%;\"></div>            <script type=\"text/javascript\">                require([\"plotly\"], function(Plotly) {                    window.PLOTLYENV=window.PLOTLYENV || {};                                    if (document.getElementById(\"261ab165-93c4-476c-9dea-8775a9b71de3\")) {                    Plotly.newPlot(                        \"261ab165-93c4-476c-9dea-8775a9b71de3\",                        [{\"boxmean\":\"sd\",\"boxpoints\":\"all\",\"name\":\"Peshawar Zalmi\",\"y\":[32.09090909090909,22.125,29.166666666666668,17.0,22.666666666666668,13.333333333333334,18.8,16.2,13.5,7.0,10.333333333333334,6.2,6.5,4.6,5.0,1.0,1.0],\"type\":\"box\"},{\"boxmean\":\"sd\",\"boxpoints\":\"all\",\"name\":\"Islamabad United\",\"y\":[30.444444444444443,19.0,19.75,15.444444444444445,26.6,33.5,11.0,11.5,15.333333333333334,15.0,8.333333333333334,0.5,1.0,1.0,1.0,0.0,0.0],\"type\":\"box\"},{\"boxmean\":\"sd\",\"boxpoints\":\"all\",\"name\":\"Quetta Gladiators\",\"y\":[31.875,34.42857142857143,26.444444444444443,20.333333333333332,24.5,11.4,13.333333333333334,12.333333333333334,6.5,24.0,5.0,6.0,12.0,6.0,3.0,2.0,0.5,1.0,0.5],\"type\":\"box\"},{\"boxmean\":\"sd\",\"boxpoints\":\"all\",\"name\":\"Karachi Kings\",\"y\":[29.1,21.5,20.2,22.333333333333332,17.77777777777778,11.9,10.375,6.0,9.5,4.0,10.0,2.5,0.0],\"type\":\"box\"},{\"boxmean\":\"sd\",\"boxpoints\":\"all\",\"name\":\"Lahore Qalandars\",\"y\":[22.125,34.6,20.5,18.571428571428573,16.571428571428573,13.285714285714286,20.5,10.571428571428571,11.333333333333334,12.5,11.5,1.0,1.0,1.0],\"type\":\"box\"}],                        {\"template\":{\"data\":{\"histogram2dcontour\":[{\"type\":\"histogram2dcontour\",\"colorbar\":{\"outlinewidth\":0,\"ticks\":\"\"},\"colorscale\":[[0.0,\"#0d0887\"],[0.1111111111111111,\"#46039f\"],[0.2222222222222222,\"#7201a8\"],[0.3333333333333333,\"#9c179e\"],[0.4444444444444444,\"#bd3786\"],[0.5555555555555556,\"#d8576b\"],[0.6666666666666666,\"#ed7953\"],[0.7777777777777778,\"#fb9f3a\"],[0.8888888888888888,\"#fdca26\"],[1.0,\"#f0f921\"]]}],\"choropleth\":[{\"type\":\"choropleth\",\"colorbar\":{\"outlinewidth\":0,\"ticks\":\"\"}}],\"histogram2d\":[{\"type\":\"histogram2d\",\"colorbar\":{\"outlinewidth\":0,\"ticks\":\"\"},\"colorscale\":[[0.0,\"#0d0887\"],[0.1111111111111111,\"#46039f\"],[0.2222222222222222,\"#7201a8\"],[0.3333333333333333,\"#9c179e\"],[0.4444444444444444,\"#bd3786\"],[0.5555555555555556,\"#d8576b\"],[0.6666666666666666,\"#ed7953\"],[0.7777777777777778,\"#fb9f3a\"],[0.8888888888888888,\"#fdca26\"],[1.0,\"#f0f921\"]]}],\"heatmap\":[{\"type\":\"heatmap\",\"colorbar\":{\"outlinewidth\":0,\"ticks\":\"\"},\"colorscale\":[[0.0,\"#0d0887\"],[0.1111111111111111,\"#46039f\"],[0.2222222222222222,\"#7201a8\"],[0.3333333333333333,\"#9c179e\"],[0.4444444444444444,\"#bd3786\"],[0.5555555555555556,\"#d8576b\"],[0.6666666666666666,\"#ed7953\"],[0.7777777777777778,\"#fb9f3a\"],[0.8888888888888888,\"#fdca26\"],[1.0,\"#f0f921\"]]}],\"heatmapgl\":[{\"type\":\"heatmapgl\",\"colorbar\":{\"outlinewidth\":0,\"ticks\":\"\"},\"colorscale\":[[0.0,\"#0d0887\"],[0.1111111111111111,\"#46039f\"],[0.2222222222222222,\"#7201a8\"],[0.3333333333333333,\"#9c179e\"],[0.4444444444444444,\"#bd3786\"],[0.5555555555555556,\"#d8576b\"],[0.6666666666666666,\"#ed7953\"],[0.7777777777777778,\"#fb9f3a\"],[0.8888888888888888,\"#fdca26\"],[1.0,\"#f0f921\"]]}],\"contourcarpet\":[{\"type\":\"contourcarpet\",\"colorbar\":{\"outlinewidth\":0,\"ticks\":\"\"}}],\"contour\":[{\"type\":\"contour\",\"colorbar\":{\"outlinewidth\":0,\"ticks\":\"\"},\"colorscale\":[[0.0,\"#0d0887\"],[0.1111111111111111,\"#46039f\"],[0.2222222222222222,\"#7201a8\"],[0.3333333333333333,\"#9c179e\"],[0.4444444444444444,\"#bd3786\"],[0.5555555555555556,\"#d8576b\"],[0.6666666666666666,\"#ed7953\"],[0.7777777777777778,\"#fb9f3a\"],[0.8888888888888888,\"#fdca26\"],[1.0,\"#f0f921\"]]}],\"surface\":[{\"type\":\"surface\",\"colorbar\":{\"outlinewidth\":0,\"ticks\":\"\"},\"colorscale\":[[0.0,\"#0d0887\"],[0.1111111111111111,\"#46039f\"],[0.2222222222222222,\"#7201a8\"],[0.3333333333333333,\"#9c179e\"],[0.4444444444444444,\"#bd3786\"],[0.5555555555555556,\"#d8576b\"],[0.6666666666666666,\"#ed7953\"],[0.7777777777777778,\"#fb9f3a\"],[0.8888888888888888,\"#fdca26\"],[1.0,\"#f0f921\"]]}],\"mesh3d\":[{\"type\":\"mesh3d\",\"colorbar\":{\"outlinewidth\":0,\"ticks\":\"\"}}],\"scatter\":[{\"fillpattern\":{\"fillmode\":\"overlay\",\"size\":10,\"solidity\":0.2},\"type\":\"scatter\"}],\"parcoords\":[{\"type\":\"parcoords\",\"line\":{\"colorbar\":{\"outlinewidth\":0,\"ticks\":\"\"}}}],\"scatterpolargl\":[{\"type\":\"scatterpolargl\",\"marker\":{\"colorbar\":{\"outlinewidth\":0,\"ticks\":\"\"}}}],\"bar\":[{\"error_x\":{\"color\":\"#2a3f5f\"},\"error_y\":{\"color\":\"#2a3f5f\"},\"marker\":{\"line\":{\"color\":\"#E5ECF6\",\"width\":0.5},\"pattern\":{\"fillmode\":\"overlay\",\"size\":10,\"solidity\":0.2}},\"type\":\"bar\"}],\"scattergeo\":[{\"type\":\"scattergeo\",\"marker\":{\"colorbar\":{\"outlinewidth\":0,\"ticks\":\"\"}}}],\"scatterpolar\":[{\"type\":\"scatterpolar\",\"marker\":{\"colorbar\":{\"outlinewidth\":0,\"ticks\":\"\"}}}],\"histogram\":[{\"marker\":{\"pattern\":{\"fillmode\":\"overlay\",\"size\":10,\"solidity\":0.2}},\"type\":\"histogram\"}],\"scattergl\":[{\"type\":\"scattergl\",\"marker\":{\"colorbar\":{\"outlinewidth\":0,\"ticks\":\"\"}}}],\"scatter3d\":[{\"type\":\"scatter3d\",\"line\":{\"colorbar\":{\"outlinewidth\":0,\"ticks\":\"\"}},\"marker\":{\"colorbar\":{\"outlinewidth\":0,\"ticks\":\"\"}}}],\"scattermapbox\":[{\"type\":\"scattermapbox\",\"marker\":{\"colorbar\":{\"outlinewidth\":0,\"ticks\":\"\"}}}],\"scatterternary\":[{\"type\":\"scatterternary\",\"marker\":{\"colorbar\":{\"outlinewidth\":0,\"ticks\":\"\"}}}],\"scattercarpet\":[{\"type\":\"scattercarpet\",\"marker\":{\"colorbar\":{\"outlinewidth\":0,\"ticks\":\"\"}}}],\"carpet\":[{\"aaxis\":{\"endlinecolor\":\"#2a3f5f\",\"gridcolor\":\"white\",\"linecolor\":\"white\",\"minorgridcolor\":\"white\",\"startlinecolor\":\"#2a3f5f\"},\"baxis\":{\"endlinecolor\":\"#2a3f5f\",\"gridcolor\":\"white\",\"linecolor\":\"white\",\"minorgridcolor\":\"white\",\"startlinecolor\":\"#2a3f5f\"},\"type\":\"carpet\"}],\"table\":[{\"cells\":{\"fill\":{\"color\":\"#EBF0F8\"},\"line\":{\"color\":\"white\"}},\"header\":{\"fill\":{\"color\":\"#C8D4E3\"},\"line\":{\"color\":\"white\"}},\"type\":\"table\"}],\"barpolar\":[{\"marker\":{\"line\":{\"color\":\"#E5ECF6\",\"width\":0.5},\"pattern\":{\"fillmode\":\"overlay\",\"size\":10,\"solidity\":0.2}},\"type\":\"barpolar\"}],\"pie\":[{\"automargin\":true,\"type\":\"pie\"}]},\"layout\":{\"autotypenumbers\":\"strict\",\"colorway\":[\"#636efa\",\"#EF553B\",\"#00cc96\",\"#ab63fa\",\"#FFA15A\",\"#19d3f3\",\"#FF6692\",\"#B6E880\",\"#FF97FF\",\"#FECB52\"],\"font\":{\"color\":\"#2a3f5f\"},\"hovermode\":\"closest\",\"hoverlabel\":{\"align\":\"left\"},\"paper_bgcolor\":\"white\",\"plot_bgcolor\":\"#E5ECF6\",\"polar\":{\"bgcolor\":\"#E5ECF6\",\"angularaxis\":{\"gridcolor\":\"white\",\"linecolor\":\"white\",\"ticks\":\"\"},\"radialaxis\":{\"gridcolor\":\"white\",\"linecolor\":\"white\",\"ticks\":\"\"}},\"ternary\":{\"bgcolor\":\"#E5ECF6\",\"aaxis\":{\"gridcolor\":\"white\",\"linecolor\":\"white\",\"ticks\":\"\"},\"baxis\":{\"gridcolor\":\"white\",\"linecolor\":\"white\",\"ticks\":\"\"},\"caxis\":{\"gridcolor\":\"white\",\"linecolor\":\"white\",\"ticks\":\"\"}},\"coloraxis\":{\"colorbar\":{\"outlinewidth\":0,\"ticks\":\"\"}},\"colorscale\":{\"sequential\":[[0.0,\"#0d0887\"],[0.1111111111111111,\"#46039f\"],[0.2222222222222222,\"#7201a8\"],[0.3333333333333333,\"#9c179e\"],[0.4444444444444444,\"#bd3786\"],[0.5555555555555556,\"#d8576b\"],[0.6666666666666666,\"#ed7953\"],[0.7777777777777778,\"#fb9f3a\"],[0.8888888888888888,\"#fdca26\"],[1.0,\"#f0f921\"]],\"sequentialminus\":[[0.0,\"#0d0887\"],[0.1111111111111111,\"#46039f\"],[0.2222222222222222,\"#7201a8\"],[0.3333333333333333,\"#9c179e\"],[0.4444444444444444,\"#bd3786\"],[0.5555555555555556,\"#d8576b\"],[0.6666666666666666,\"#ed7953\"],[0.7777777777777778,\"#fb9f3a\"],[0.8888888888888888,\"#fdca26\"],[1.0,\"#f0f921\"]],\"diverging\":[[0,\"#8e0152\"],[0.1,\"#c51b7d\"],[0.2,\"#de77ae\"],[0.3,\"#f1b6da\"],[0.4,\"#fde0ef\"],[0.5,\"#f7f7f7\"],[0.6,\"#e6f5d0\"],[0.7,\"#b8e186\"],[0.8,\"#7fbc41\"],[0.9,\"#4d9221\"],[1,\"#276419\"]]},\"xaxis\":{\"gridcolor\":\"white\",\"linecolor\":\"white\",\"ticks\":\"\",\"title\":{\"standoff\":15},\"zerolinecolor\":\"white\",\"automargin\":true,\"zerolinewidth\":2},\"yaxis\":{\"gridcolor\":\"white\",\"linecolor\":\"white\",\"ticks\":\"\",\"title\":{\"standoff\":15},\"zerolinecolor\":\"white\",\"automargin\":true,\"zerolinewidth\":2},\"scene\":{\"xaxis\":{\"backgroundcolor\":\"#E5ECF6\",\"gridcolor\":\"white\",\"linecolor\":\"white\",\"showbackground\":true,\"ticks\":\"\",\"zerolinecolor\":\"white\",\"gridwidth\":2},\"yaxis\":{\"backgroundcolor\":\"#E5ECF6\",\"gridcolor\":\"white\",\"linecolor\":\"white\",\"showbackground\":true,\"ticks\":\"\",\"zerolinecolor\":\"white\",\"gridwidth\":2},\"zaxis\":{\"backgroundcolor\":\"#E5ECF6\",\"gridcolor\":\"white\",\"linecolor\":\"white\",\"showbackground\":true,\"ticks\":\"\",\"zerolinecolor\":\"white\",\"gridwidth\":2}},\"shapedefaults\":{\"line\":{\"color\":\"#2a3f5f\"}},\"annotationdefaults\":{\"arrowcolor\":\"#2a3f5f\",\"arrowhead\":0,\"arrowwidth\":1},\"geo\":{\"bgcolor\":\"white\",\"landcolor\":\"#E5ECF6\",\"subunitcolor\":\"white\",\"showland\":true,\"showlakes\":true,\"lakecolor\":\"white\"},\"title\":{\"x\":0.05},\"mapbox\":{\"style\":\"light\"}}},\"title\":{\"text\":\"Batting Avg distribution for each team\"}},                        {\"responsive\": true}                    ).then(function(){\n                            \nvar gd = document.getElementById('261ab165-93c4-476c-9dea-8775a9b71de3');\nvar x = new MutationObserver(function (mutations, observer) {{\n        var display = window.getComputedStyle(gd).display;\n        if (!display || display === 'none') {{\n            console.log([gd, 'removed!']);\n            Plotly.purge(gd);\n            observer.disconnect();\n        }}\n}});\n\n// Listen for the removal of the full notebook cells\nvar notebookContainer = gd.closest('#notebook-container');\nif (notebookContainer) {{\n    x.observe(notebookContainer, {childList: true});\n}}\n\n// Listen for the clearing of the current output cell\nvar outputEl = gd.closest('.output');\nif (outputEl) {{\n    x.observe(outputEl, {childList: true});\n}}\n\n                        })                };                });            </script>        </div>"
          },
          "metadata": {}
        }
      ],
      "source": [
        "trace0 = go.Box(y = df_batAvg.loc[df_batAvg['Batting_team'] == 'Peshawar Zalmi', 'AvgRuns_match'], name = 'Peshawar Zalmi', boxmean = 'sd', boxpoints = 'all')\n",
        "trace1 = go.Box(y = df_batAvg.loc[df_batAvg['Batting_team'] == 'Islamabad United', 'AvgRuns_match'], name = 'Islamabad United', boxmean = 'sd', boxpoints = 'all')\n",
        "trace2 = go.Box(y = df_batAvg.loc[df_batAvg['Batting_team'] == 'Quetta Gladiators', 'AvgRuns_match'], name = 'Quetta Gladiators', boxmean = 'sd', boxpoints = 'all')\n",
        "trace3 = go.Box(y = df_batAvg.loc[df_batAvg['Batting_team'] == 'Karachi Kings', 'AvgRuns_match'], name = 'Karachi Kings' , boxmean = 'sd', boxpoints = 'all')\n",
        "trace4 = go.Box(y = df_batAvg.loc[df_batAvg['Batting_team'] == 'Lahore Qalandars', 'AvgRuns_match'], name = 'Lahore Qalandars' , boxmean = 'sd', boxpoints = 'all')\n",
        "\n",
        "data = [trace0, trace1, trace2, trace3, trace4]\n",
        "\n",
        "fig111 = go.Figure(data = data)\n",
        "fig111.layout.title = dict(text = \"Batting Avg distribution for each team\" )\n",
        "fig111.show()\n",
        "\n",
        "##Quetta, Lahore, Pesh similar\n",
        "##Comparable mean, median"
      ]
    },
    {
      "cell_type": "code",
      "execution_count": 262,
      "metadata": {},
      "outputs": [],
      "source": [
        "# import plotly.graph_objects as go\n",
        "# from plotly.subplots import make_subplots\n",
        "\n",
        "# ##Batsman Histogram\n",
        "\n",
        "\n",
        "# team_list = list(df_batAvg['Batting_team'].unique())\n",
        "\n",
        "# trace0 = go.Histogram(x= df_batAvg.loc[df_batAvg['Batting_team'] == team_list[0], 'AvgRuns_match'], opacity = 0.75, name = team_list[0])\n",
        "# trace1 = go.Histogram(x= df_batAvg.loc[df_batAvg['Batting_team'] == team_list[1], 'AvgRuns_match'], opacity = 0.75, name = team_list[1])\n",
        "# trace2 = go.Histogram(x= df_batAvg.loc[df_batAvg['Batting_team'] == team_list[2], 'AvgRuns_match'], opacity = 0.75, name = team_list[2])\n",
        "# trace3 = go.Histogram(x= df_batAvg.loc[df_batAvg['Batting_team'] == team_list[3], 'AvgRuns_match'], opacity = 0.75, name = team_list[3])\n",
        "# trace4 = go.Histogram(x= df_batAvg.loc[df_batAvg['Batting_team'] == team_list[4], 'AvgRuns_match'], opacity = 0.75, name = team_list[4])\n",
        "\n",
        "# fig4 = make_subplots(rows =3, cols = 2)\n",
        "# fig4.append_trace(trace0,1,1)\n",
        "# fig4.append_trace(trace1,2,1)\n",
        "# fig4.append_trace(trace2,2,2)\n",
        "# fig4.append_trace(trace3,3,1)\n",
        "# fig4.append_trace(trace4,3,2)\n",
        "\n",
        "# fig4.layout.title = dict(text = 'Distribution of average batsman scores')\n",
        "# fig4.layout.xaxis = dict(tickmode = 'linear', dtick = 10)\n",
        "\n",
        "# fig4.show()\n",
        "# plotly.offline.plot(fig4, include_plotlyjs = False, output_type = 'div')"
      ]
    },
    {
      "cell_type": "code",
      "execution_count": 386,
      "metadata": {},
      "outputs": [],
      "source": [
        "#Bowling\n",
        "## Defining bowler metrics\n",
        "def caught(x):\n",
        "    if x == 'caught':\n",
        "        return 1\n",
        "    else:\n",
        "        return 0\n",
        "def bowled(x):\n",
        "    if x == bowled:\n",
        "        return 1\n",
        "    else:\n",
        "        return 0\n",
        "def runout(x):\n",
        "    if x == 'runout':\n",
        "        return 1\n",
        "    else:\n",
        "        return 0\n",
        "def lbw(x):\n",
        "    if x == 'lbw':\n",
        "        return 1\n",
        "    else:\n",
        "        return 0\n",
        "def stump(x):\n",
        "    if x == 'stump':\n",
        "        return 1\n",
        "    else:\n",
        "        return 0\n",
        "def candb(x):\n",
        "    if x == 'caught and bowled':\n",
        "        return 1\n",
        "    else:\n",
        "        return 0\n",
        "\n",
        "\n",
        "df['Caught'] = df['Dismisal_kind'].apply(lambda x: caught(x))\n",
        "df['Bowled'] = df['Dismisal_kind'].apply(lambda x: bowled(x))\n",
        "df['Lbw'] = df['Dismisal_kind'].apply(lambda x: lbw(x))\n",
        "df['Runout'] = df['Dismisal_kind'].apply(lambda x: runout(x))\n",
        "df['Stump'] = df['Dismisal_kind'].apply(lambda x: stump(x))\n",
        "df['Caught_bowled'] = df['Dismisal_kind'].apply(lambda x: candb(x))\n",
        "\n",
        "\n",
        "## Creating a bowler dataframe\n",
        "#By each match\n",
        "df_bowl_match = pd.merge(\n",
        "    df.groupby(['Bowler', 'Match_id']).sum().reset_index().filter(regex = \"[Innings,Over,Ball]\"), \n",
        "    df.groupby(['Bowler', 'Match_id']).count().reset_index()[['Bowler','Match_id', 'Ball']].rename(columns =        {'Ball': 'TotalDeliveries'}\n",
        "    ), on = ['Bowler', 'Match_id'])\n",
        "\n",
        "#Avg deliveries bye ach match\n",
        "df_bowl_matchAvg = pd.merge(\n",
        "    df.groupby(['Bowler', 'Match_id']).sum().reset_index().filter(regex = \"[^Match_id,Innings,Over,Ball]\") ,       df.groupby(['Bowler', 'Match_id']).count().reset_index()[['Bowler', 'Ball']].rename(columns = {'Ball': 'Delieveries_bowled'}), on = 'Bowler').groupby('Bowler').mean().reset_index()\n",
        "\n",
        "#Avg tot runs by each match\n",
        "df_bowl_Avg_Tot = pd.merge(\n",
        "    df_bowl_match.groupby('Bowler').sum().reset_index().filter(regex = '[^Match_id,Innings,Over,Ball]'),           df_bowlAvg.filter(regex = \"[^Caught,Bowled,Stump,Caught_bowled, Lbw, Runout]\").rename(columns =      {'Delieveries_bowled':'AvgDeliveries_bowled','Batsman_runs': 'AvgBatsman_runs', 'Extra_runs': 'AvgExtra_runs' , 'Six': 'AvgSix', 'Four': 'AvgFour', 'wicket' : 'AvgWicket'}),\n",
        " on = 'Bowler')\n",
        "\n",
        "#Bowler Economy\n",
        "dfecon = df.groupby(['Bowler','Match_id', 'Over']).sum().reset_index().groupby('Bowler').mean().reset_index()[['Bowler','Batsman_runs', 'Extra_runs']]\n",
        "dfecon['Economy'] = dfecon['Batsman_runs'] + dfecon['Extra_runs']\n",
        "\n",
        "#Bowler final dataframe\n",
        "df_bowler_summ = pd.merge(df_bowl_Avg_Tot.loc[df_bowl_Avg_Tot['TotalDeliveries'] > 50], dfecon[['Bowler','Economy']], on = 'Bowler')\n",
        "\n",
        "\n",
        "## Bowler variance\n",
        "df_bowler_summ['Runs_sq'] = 0\n",
        "df_bowler_summ['Matches_played'] = 0\n",
        "for i in range(len(df_bowler_summ)):\n",
        "    for j in range(len(df_bowl_match)):\n",
        "        if df_bowler_summ.iloc[i]['Bowler'] == df_bowl_match.iloc[j]['Bowler']:\n",
        "            df_bowler_summ['Runs_sq'].iloc[i] += (df_bowl_match.iloc[j]['Batsman_runs'] +  df_bowl_match.iloc[j]['Extra_runs'])**2\n",
        "            df_bowler_summ['Matches_played'].iloc[i] += 1\n",
        "\n",
        "AvgRuns = df_bowler_summ['AvgBatsman_runs']+df_bowler_summ['AvgExtra_runs']\n",
        "NumberMatches = df_bowler_summ['Matches_played']\n",
        "\n",
        "df_bowler_summ['Var'] = 0\n",
        "\n",
        "for i in range(len(df_bowler_summ)):\n",
        "    if NumberMatches.loc[i] > 0:\n",
        "        df_bowler_summ[\"Var\"].loc[i] = (df_bowler_summ['Runs_sq'].loc[i] - NumberMatches.loc[i]*(AvgRuns.loc[i]**2))/(NumberMatches.loc[i] - 1)\n",
        "\n",
        " \n",
        "\n",
        "df_bowler = pd.merge(df_bowler_summ, df[['Bowler', 'Bowling_team']].drop_duplicates(keep = 'first'), on = 'Bowler')\n",
        "df_bowler.dropna(inplace=True)\n"
      ]
    },
    {
      "cell_type": "code",
      "execution_count": 387,
      "metadata": {},
      "outputs": [
        {
          "output_type": "execute_result",
          "data": {
            "text/plain": [
              "                Bowler  Batsman_runs  Extra_runs  wicket  Six  Four  Caught  \\\n",
              "0          Aamer Yamin            82           4       5    3     6       2   \n",
              "1            Anwar Ali           272          10       6   15    21       5   \n",
              "2       Bilawal Bhatti            93          13       1    2     9       1   \n",
              "3            CJ Jordan           124          12       7    2    11       7   \n",
              "4            DJG Sammy            96           9       2    4    10       2   \n",
              "5           GD Elliott           112           3       5    5     9       2   \n",
              "6            Hasan Ali           253           5      13    6    26       5   \n",
              "7           Hasan Khan           213          19       9    9    14       3   \n",
              "8           Imad Wasim           189           5       8    9    13       1   \n",
              "9          Junaid Khan            96           5       3    7     9       2   \n",
              "10         Mahmudullah           111           1       7    4    11       5   \n",
              "11       Mohammad Amir           261          22      11    6    28       8   \n",
              "12     Mohammad Asghar           144           5       8    7    13       4   \n",
              "13     Mohammad Hafeez            97           2       6    4     8       3   \n",
              "14      Mohammad Irfan           206          20       8    4    25       5   \n",
              "15  Mohammad Irfan (4)           180           8       7    8    17       3   \n",
              "16  Mohammad Nawaz (3)           261           6      13   17    18       4   \n",
              "17       Mohammad Sami           204          19      13    5    24       7   \n",
              "18         NLTC Perera           155           2       6    8    10       4   \n",
              "19           RS Bopara            89           2       0    3     7       0   \n",
              "20        Rumman Raees           158           6      13    6    11       9   \n",
              "21           SP Narine           197          11      11    6    14       4   \n",
              "22           SR Watson           201           9      12    8    17       8   \n",
              "23         Saeed Ajmal           115           1       3    9     6       2   \n",
              "24         Shadab Khan           164          16       9    5    12       3   \n",
              "25       Shahid Afridi           187           9       2   10    10       0   \n",
              "26     Shakib Al Hasan            75           4       5    3     5       3   \n",
              "27        Shoaib Malik            74           8       3    1     7       3   \n",
              "28         Sohail Khan           233          12      16   10    24      12   \n",
              "29       Sohail Tanvir           244          16      14   11    18       8   \n",
              "30            TS Mills           130          17       9    2    17       4   \n",
              "31           Usama Mir           225           5      12   14    13      11   \n",
              "32          Usman Khan           188          11       9    4    16       5   \n",
              "33          Wahab Riaz           193          17      16    4    22       7   \n",
              "34          Yasir Shah           166           9      10    5     9       4   \n",
              "35      Zulfiqar Babar           198          14       8    6    17       5   \n",
              "\n",
              "    Bowled  Runout  Caught_bowled  ...  AvgBatsman_runs  AvgExtra_runs  \\\n",
              "0        0       0              1  ...        27.333333       1.333333   \n",
              "1        0       0              0  ...        30.222222       1.111111   \n",
              "2        0       0              0  ...        18.600000       2.600000   \n",
              "3        0       0              0  ...        20.666667       2.000000   \n",
              "4        0       0              0  ...        16.000000       1.500000   \n",
              "5        0       0              0  ...        16.000000       0.428571   \n",
              "6        0       0              2  ...        25.300000       0.500000   \n",
              "7        0       0              1  ...        21.300000       1.900000   \n",
              "8        0       0              1  ...        18.900000       0.500000   \n",
              "9        0       0              0  ...        48.000000       2.500000   \n",
              "10       0       0              0  ...        22.200000       0.200000   \n",
              "11       0       0              0  ...        26.100000       2.200000   \n",
              "12       0       0              0  ...        20.571429       0.714286   \n",
              "13       0       0              0  ...        16.166667       0.333333   \n",
              "14       0       0              0  ...        25.750000       2.500000   \n",
              "15       0       0              0  ...        25.714286       1.142857   \n",
              "16       0       0              0  ...        26.100000       0.600000   \n",
              "17       0       0              2  ...        22.666667       2.111111   \n",
              "18       0       0              1  ...        25.833333       0.333333   \n",
              "19       0       0              0  ...        29.666667       0.666667   \n",
              "20       0       0              0  ...        22.571429       0.857143   \n",
              "21       0       0              0  ...        24.625000       1.375000   \n",
              "22       0       0              0  ...        22.333333       1.000000   \n",
              "23       0       0              0  ...        28.750000       0.250000   \n",
              "24       0       0              0  ...        20.500000       2.000000   \n",
              "25       0       0              0  ...        20.777778       1.000000   \n",
              "26       0       0              0  ...        18.750000       1.000000   \n",
              "27       0       0              0  ...        14.800000       1.600000   \n",
              "28       0       0              0  ...        25.888889       1.333333   \n",
              "29       0       0              0  ...        30.500000       2.000000   \n",
              "30       0       0              2  ...        26.000000       3.400000   \n",
              "31       0       0              0  ...        28.125000       0.625000   \n",
              "32       0       0              0  ...        23.500000       1.375000   \n",
              "33       0       0              1  ...        21.444444       1.888889   \n",
              "34       0       0              0  ...        20.750000       1.125000   \n",
              "35       0       0              0  ...        24.750000       1.750000   \n",
              "\n",
              "    AvgWicket    AvgSix   AvgFour  AvgDeliveries_bowled    Economy  Runs_sq  \\\n",
              "0    1.666667  1.000000  2.000000             24.666667   7.166667     2666   \n",
              "1    0.666667  1.666667  2.333333             20.888889   9.400000    10144   \n",
              "2    0.200000  0.400000  1.800000             19.600000   6.625000     2500   \n",
              "3    1.166667  0.333333  1.833333             20.000000   6.800000     3462   \n",
              "4    0.333333  0.666667  1.666667             10.500000  10.500000     2167   \n",
              "5    0.714286  0.714286  1.285714             10.571429   9.583333     2139   \n",
              "6    1.300000  0.600000  2.600000             22.100000   6.972973     7212   \n",
              "7    0.900000  0.900000  1.400000             20.300000   7.030303     6486   \n",
              "8    0.800000  0.900000  1.300000             17.600000   6.689655     3990   \n",
              "9    1.500000  3.500000  4.500000             26.500000  12.625000     5105   \n",
              "10   1.400000  0.800000  2.200000             17.200000   7.466667     2616   \n",
              "11   1.100000  0.600000  2.800000             22.500000   7.648649     8855   \n",
              "12   1.142857  1.000000  1.857143             14.714286   8.764706     3707   \n",
              "13   1.000000  0.666667  1.333333             15.000000   6.600000     1837   \n",
              "14   1.000000  0.500000  3.125000             22.875000   7.533333     6896   \n",
              "15   1.000000  1.142857  2.428571             17.857143   9.400000     6188   \n",
              "16   1.300000  1.700000  1.800000             20.100000   8.090909     8599   \n",
              "17   1.444444  0.555556  2.666667             21.555556   6.757576     5759   \n",
              "18   1.000000  1.333333  1.666667             17.166667   8.722222     5169   \n",
              "19   0.000000  1.000000  2.333333             18.333333  10.111111     3025   \n",
              "20   1.857143  0.857143  1.571429             23.000000   5.857143     3940   \n",
              "21   1.375000  0.750000  1.750000             24.750000   6.500000     6024   \n",
              "22   1.333333  0.888889  1.888889             16.222222   9.130435     6376   \n",
              "23   0.750000  2.250000  1.500000             17.750000   9.666667     3966   \n",
              "24   1.125000  0.625000  1.500000             19.875000   6.923077     4452   \n",
              "25   0.222222  1.111111  1.111111             18.888889   7.000000     4848   \n",
              "26   1.250000  0.750000  1.250000             18.500000   6.583333     1697   \n",
              "27   0.600000  0.200000  1.400000             13.800000   7.454545     2264   \n",
              "28   1.777778  1.111111  2.666667             21.777778   7.656250     6911   \n",
              "29   1.750000  1.375000  2.250000             23.250000   8.666667     9768   \n",
              "30   1.800000  0.400000  3.400000             27.000000   7.350000     4695   \n",
              "31   1.500000  1.750000  1.625000             21.250000   8.214286     7210   \n",
              "32   1.125000  0.500000  2.000000             20.250000   7.653846     5531   \n",
              "33   1.777778  0.444444  2.444444             23.111111   6.363636     5734   \n",
              "34   1.250000  0.625000  1.125000             21.375000   6.250000     4325   \n",
              "35   1.000000  0.750000  2.125000             24.500000   6.625000     5802   \n",
              "\n",
              "    Matches_played         Var  \n",
              "0                3  100.333333  \n",
              "1                9  163.500000  \n",
              "2                5   63.200000  \n",
              "3                6   75.866667  \n",
              "4                6   65.900000  \n",
              "5                7   41.619048  \n",
              "6               10   61.733333  \n",
              "7               10  122.622222  \n",
              "8               10   25.155556  \n",
              "9                2    4.500000  \n",
              "10               5   26.800000  \n",
              "11              10   94.011111  \n",
              "12               7   89.238095  \n",
              "13               6   40.700000  \n",
              "14               8   73.071429  \n",
              "15               7  189.809524  \n",
              "16              10  163.344444  \n",
              "17               9   29.194444  \n",
              "18               6  212.166667  \n",
              "19               3  132.333333  \n",
              "20               7   16.285714  \n",
              "21               8   88.000000  \n",
              "22               9  184.500000  \n",
              "23               4  200.666667  \n",
              "24               8   57.428571  \n",
              "25               9   72.444444  \n",
              "26               4   45.583333  \n",
              "27               5  229.800000  \n",
              "28               9   30.194444  \n",
              "29               8  188.285714  \n",
              "30               5   93.300000  \n",
              "31               8   85.357143  \n",
              "32               8   82.982143  \n",
              "33               9  104.250000  \n",
              "34               8   70.982143  \n",
              "35               8   26.285714  \n",
              "\n",
              "[36 rows x 21 columns]"
            ],
            "text/html": "<div>\n<style scoped>\n    .dataframe tbody tr th:only-of-type {\n        vertical-align: middle;\n    }\n\n    .dataframe tbody tr th {\n        vertical-align: top;\n    }\n\n    .dataframe thead th {\n        text-align: right;\n    }\n</style>\n<table border=\"1\" class=\"dataframe\">\n  <thead>\n    <tr style=\"text-align: right;\">\n      <th></th>\n      <th>Bowler</th>\n      <th>Batsman_runs</th>\n      <th>Extra_runs</th>\n      <th>wicket</th>\n      <th>Six</th>\n      <th>Four</th>\n      <th>Caught</th>\n      <th>Bowled</th>\n      <th>Runout</th>\n      <th>Caught_bowled</th>\n      <th>...</th>\n      <th>AvgBatsman_runs</th>\n      <th>AvgExtra_runs</th>\n      <th>AvgWicket</th>\n      <th>AvgSix</th>\n      <th>AvgFour</th>\n      <th>AvgDeliveries_bowled</th>\n      <th>Economy</th>\n      <th>Runs_sq</th>\n      <th>Matches_played</th>\n      <th>Var</th>\n    </tr>\n  </thead>\n  <tbody>\n    <tr>\n      <th>0</th>\n      <td>Aamer Yamin</td>\n      <td>82</td>\n      <td>4</td>\n      <td>5</td>\n      <td>3</td>\n      <td>6</td>\n      <td>2</td>\n      <td>0</td>\n      <td>0</td>\n      <td>1</td>\n      <td>...</td>\n      <td>27.333333</td>\n      <td>1.333333</td>\n      <td>1.666667</td>\n      <td>1.000000</td>\n      <td>2.000000</td>\n      <td>24.666667</td>\n      <td>7.166667</td>\n      <td>2666</td>\n      <td>3</td>\n      <td>100.333333</td>\n    </tr>\n    <tr>\n      <th>1</th>\n      <td>Anwar Ali</td>\n      <td>272</td>\n      <td>10</td>\n      <td>6</td>\n      <td>15</td>\n      <td>21</td>\n      <td>5</td>\n      <td>0</td>\n      <td>0</td>\n      <td>0</td>\n      <td>...</td>\n      <td>30.222222</td>\n      <td>1.111111</td>\n      <td>0.666667</td>\n      <td>1.666667</td>\n      <td>2.333333</td>\n      <td>20.888889</td>\n      <td>9.400000</td>\n      <td>10144</td>\n      <td>9</td>\n      <td>163.500000</td>\n    </tr>\n    <tr>\n      <th>2</th>\n      <td>Bilawal Bhatti</td>\n      <td>93</td>\n      <td>13</td>\n      <td>1</td>\n      <td>2</td>\n      <td>9</td>\n      <td>1</td>\n      <td>0</td>\n      <td>0</td>\n      <td>0</td>\n      <td>...</td>\n      <td>18.600000</td>\n      <td>2.600000</td>\n      <td>0.200000</td>\n      <td>0.400000</td>\n      <td>1.800000</td>\n      <td>19.600000</td>\n      <td>6.625000</td>\n      <td>2500</td>\n      <td>5</td>\n      <td>63.200000</td>\n    </tr>\n    <tr>\n      <th>3</th>\n      <td>CJ Jordan</td>\n      <td>124</td>\n      <td>12</td>\n      <td>7</td>\n      <td>2</td>\n      <td>11</td>\n      <td>7</td>\n      <td>0</td>\n      <td>0</td>\n      <td>0</td>\n      <td>...</td>\n      <td>20.666667</td>\n      <td>2.000000</td>\n      <td>1.166667</td>\n      <td>0.333333</td>\n      <td>1.833333</td>\n      <td>20.000000</td>\n      <td>6.800000</td>\n      <td>3462</td>\n      <td>6</td>\n      <td>75.866667</td>\n    </tr>\n    <tr>\n      <th>4</th>\n      <td>DJG Sammy</td>\n      <td>96</td>\n      <td>9</td>\n      <td>2</td>\n      <td>4</td>\n      <td>10</td>\n      <td>2</td>\n      <td>0</td>\n      <td>0</td>\n      <td>0</td>\n      <td>...</td>\n      <td>16.000000</td>\n      <td>1.500000</td>\n      <td>0.333333</td>\n      <td>0.666667</td>\n      <td>1.666667</td>\n      <td>10.500000</td>\n      <td>10.500000</td>\n      <td>2167</td>\n      <td>6</td>\n      <td>65.900000</td>\n    </tr>\n    <tr>\n      <th>5</th>\n      <td>GD Elliott</td>\n      <td>112</td>\n      <td>3</td>\n      <td>5</td>\n      <td>5</td>\n      <td>9</td>\n      <td>2</td>\n      <td>0</td>\n      <td>0</td>\n      <td>0</td>\n      <td>...</td>\n      <td>16.000000</td>\n      <td>0.428571</td>\n      <td>0.714286</td>\n      <td>0.714286</td>\n      <td>1.285714</td>\n      <td>10.571429</td>\n      <td>9.583333</td>\n      <td>2139</td>\n      <td>7</td>\n      <td>41.619048</td>\n    </tr>\n    <tr>\n      <th>6</th>\n      <td>Hasan Ali</td>\n      <td>253</td>\n      <td>5</td>\n      <td>13</td>\n      <td>6</td>\n      <td>26</td>\n      <td>5</td>\n      <td>0</td>\n      <td>0</td>\n      <td>2</td>\n      <td>...</td>\n      <td>25.300000</td>\n      <td>0.500000</td>\n      <td>1.300000</td>\n      <td>0.600000</td>\n      <td>2.600000</td>\n      <td>22.100000</td>\n      <td>6.972973</td>\n      <td>7212</td>\n      <td>10</td>\n      <td>61.733333</td>\n    </tr>\n    <tr>\n      <th>7</th>\n      <td>Hasan Khan</td>\n      <td>213</td>\n      <td>19</td>\n      <td>9</td>\n      <td>9</td>\n      <td>14</td>\n      <td>3</td>\n      <td>0</td>\n      <td>0</td>\n      <td>1</td>\n      <td>...</td>\n      <td>21.300000</td>\n      <td>1.900000</td>\n      <td>0.900000</td>\n      <td>0.900000</td>\n      <td>1.400000</td>\n      <td>20.300000</td>\n      <td>7.030303</td>\n      <td>6486</td>\n      <td>10</td>\n      <td>122.622222</td>\n    </tr>\n    <tr>\n      <th>8</th>\n      <td>Imad Wasim</td>\n      <td>189</td>\n      <td>5</td>\n      <td>8</td>\n      <td>9</td>\n      <td>13</td>\n      <td>1</td>\n      <td>0</td>\n      <td>0</td>\n      <td>1</td>\n      <td>...</td>\n      <td>18.900000</td>\n      <td>0.500000</td>\n      <td>0.800000</td>\n      <td>0.900000</td>\n      <td>1.300000</td>\n      <td>17.600000</td>\n      <td>6.689655</td>\n      <td>3990</td>\n      <td>10</td>\n      <td>25.155556</td>\n    </tr>\n    <tr>\n      <th>9</th>\n      <td>Junaid Khan</td>\n      <td>96</td>\n      <td>5</td>\n      <td>3</td>\n      <td>7</td>\n      <td>9</td>\n      <td>2</td>\n      <td>0</td>\n      <td>0</td>\n      <td>0</td>\n      <td>...</td>\n      <td>48.000000</td>\n      <td>2.500000</td>\n      <td>1.500000</td>\n      <td>3.500000</td>\n      <td>4.500000</td>\n      <td>26.500000</td>\n      <td>12.625000</td>\n      <td>5105</td>\n      <td>2</td>\n      <td>4.500000</td>\n    </tr>\n    <tr>\n      <th>10</th>\n      <td>Mahmudullah</td>\n      <td>111</td>\n      <td>1</td>\n      <td>7</td>\n      <td>4</td>\n      <td>11</td>\n      <td>5</td>\n      <td>0</td>\n      <td>0</td>\n      <td>0</td>\n      <td>...</td>\n      <td>22.200000</td>\n      <td>0.200000</td>\n      <td>1.400000</td>\n      <td>0.800000</td>\n      <td>2.200000</td>\n      <td>17.200000</td>\n      <td>7.466667</td>\n      <td>2616</td>\n      <td>5</td>\n      <td>26.800000</td>\n    </tr>\n    <tr>\n      <th>11</th>\n      <td>Mohammad Amir</td>\n      <td>261</td>\n      <td>22</td>\n      <td>11</td>\n      <td>6</td>\n      <td>28</td>\n      <td>8</td>\n      <td>0</td>\n      <td>0</td>\n      <td>0</td>\n      <td>...</td>\n      <td>26.100000</td>\n      <td>2.200000</td>\n      <td>1.100000</td>\n      <td>0.600000</td>\n      <td>2.800000</td>\n      <td>22.500000</td>\n      <td>7.648649</td>\n      <td>8855</td>\n      <td>10</td>\n      <td>94.011111</td>\n    </tr>\n    <tr>\n      <th>12</th>\n      <td>Mohammad Asghar</td>\n      <td>144</td>\n      <td>5</td>\n      <td>8</td>\n      <td>7</td>\n      <td>13</td>\n      <td>4</td>\n      <td>0</td>\n      <td>0</td>\n      <td>0</td>\n      <td>...</td>\n      <td>20.571429</td>\n      <td>0.714286</td>\n      <td>1.142857</td>\n      <td>1.000000</td>\n      <td>1.857143</td>\n      <td>14.714286</td>\n      <td>8.764706</td>\n      <td>3707</td>\n      <td>7</td>\n      <td>89.238095</td>\n    </tr>\n    <tr>\n      <th>13</th>\n      <td>Mohammad Hafeez</td>\n      <td>97</td>\n      <td>2</td>\n      <td>6</td>\n      <td>4</td>\n      <td>8</td>\n      <td>3</td>\n      <td>0</td>\n      <td>0</td>\n      <td>0</td>\n      <td>...</td>\n      <td>16.166667</td>\n      <td>0.333333</td>\n      <td>1.000000</td>\n      <td>0.666667</td>\n      <td>1.333333</td>\n      <td>15.000000</td>\n      <td>6.600000</td>\n      <td>1837</td>\n      <td>6</td>\n      <td>40.700000</td>\n    </tr>\n    <tr>\n      <th>14</th>\n      <td>Mohammad Irfan</td>\n      <td>206</td>\n      <td>20</td>\n      <td>8</td>\n      <td>4</td>\n      <td>25</td>\n      <td>5</td>\n      <td>0</td>\n      <td>0</td>\n      <td>0</td>\n      <td>...</td>\n      <td>25.750000</td>\n      <td>2.500000</td>\n      <td>1.000000</td>\n      <td>0.500000</td>\n      <td>3.125000</td>\n      <td>22.875000</td>\n      <td>7.533333</td>\n      <td>6896</td>\n      <td>8</td>\n      <td>73.071429</td>\n    </tr>\n    <tr>\n      <th>15</th>\n      <td>Mohammad Irfan (4)</td>\n      <td>180</td>\n      <td>8</td>\n      <td>7</td>\n      <td>8</td>\n      <td>17</td>\n      <td>3</td>\n      <td>0</td>\n      <td>0</td>\n      <td>0</td>\n      <td>...</td>\n      <td>25.714286</td>\n      <td>1.142857</td>\n      <td>1.000000</td>\n      <td>1.142857</td>\n      <td>2.428571</td>\n      <td>17.857143</td>\n      <td>9.400000</td>\n      <td>6188</td>\n      <td>7</td>\n      <td>189.809524</td>\n    </tr>\n    <tr>\n      <th>16</th>\n      <td>Mohammad Nawaz (3)</td>\n      <td>261</td>\n      <td>6</td>\n      <td>13</td>\n      <td>17</td>\n      <td>18</td>\n      <td>4</td>\n      <td>0</td>\n      <td>0</td>\n      <td>0</td>\n      <td>...</td>\n      <td>26.100000</td>\n      <td>0.600000</td>\n      <td>1.300000</td>\n      <td>1.700000</td>\n      <td>1.800000</td>\n      <td>20.100000</td>\n      <td>8.090909</td>\n      <td>8599</td>\n      <td>10</td>\n      <td>163.344444</td>\n    </tr>\n    <tr>\n      <th>17</th>\n      <td>Mohammad Sami</td>\n      <td>204</td>\n      <td>19</td>\n      <td>13</td>\n      <td>5</td>\n      <td>24</td>\n      <td>7</td>\n      <td>0</td>\n      <td>0</td>\n      <td>2</td>\n      <td>...</td>\n      <td>22.666667</td>\n      <td>2.111111</td>\n      <td>1.444444</td>\n      <td>0.555556</td>\n      <td>2.666667</td>\n      <td>21.555556</td>\n      <td>6.757576</td>\n      <td>5759</td>\n      <td>9</td>\n      <td>29.194444</td>\n    </tr>\n    <tr>\n      <th>18</th>\n      <td>NLTC Perera</td>\n      <td>155</td>\n      <td>2</td>\n      <td>6</td>\n      <td>8</td>\n      <td>10</td>\n      <td>4</td>\n      <td>0</td>\n      <td>0</td>\n      <td>1</td>\n      <td>...</td>\n      <td>25.833333</td>\n      <td>0.333333</td>\n      <td>1.000000</td>\n      <td>1.333333</td>\n      <td>1.666667</td>\n      <td>17.166667</td>\n      <td>8.722222</td>\n      <td>5169</td>\n      <td>6</td>\n      <td>212.166667</td>\n    </tr>\n    <tr>\n      <th>19</th>\n      <td>RS Bopara</td>\n      <td>89</td>\n      <td>2</td>\n      <td>0</td>\n      <td>3</td>\n      <td>7</td>\n      <td>0</td>\n      <td>0</td>\n      <td>0</td>\n      <td>0</td>\n      <td>...</td>\n      <td>29.666667</td>\n      <td>0.666667</td>\n      <td>0.000000</td>\n      <td>1.000000</td>\n      <td>2.333333</td>\n      <td>18.333333</td>\n      <td>10.111111</td>\n      <td>3025</td>\n      <td>3</td>\n      <td>132.333333</td>\n    </tr>\n    <tr>\n      <th>20</th>\n      <td>Rumman Raees</td>\n      <td>158</td>\n      <td>6</td>\n      <td>13</td>\n      <td>6</td>\n      <td>11</td>\n      <td>9</td>\n      <td>0</td>\n      <td>0</td>\n      <td>0</td>\n      <td>...</td>\n      <td>22.571429</td>\n      <td>0.857143</td>\n      <td>1.857143</td>\n      <td>0.857143</td>\n      <td>1.571429</td>\n      <td>23.000000</td>\n      <td>5.857143</td>\n      <td>3940</td>\n      <td>7</td>\n      <td>16.285714</td>\n    </tr>\n    <tr>\n      <th>21</th>\n      <td>SP Narine</td>\n      <td>197</td>\n      <td>11</td>\n      <td>11</td>\n      <td>6</td>\n      <td>14</td>\n      <td>4</td>\n      <td>0</td>\n      <td>0</td>\n      <td>0</td>\n      <td>...</td>\n      <td>24.625000</td>\n      <td>1.375000</td>\n      <td>1.375000</td>\n      <td>0.750000</td>\n      <td>1.750000</td>\n      <td>24.750000</td>\n      <td>6.500000</td>\n      <td>6024</td>\n      <td>8</td>\n      <td>88.000000</td>\n    </tr>\n    <tr>\n      <th>22</th>\n      <td>SR Watson</td>\n      <td>201</td>\n      <td>9</td>\n      <td>12</td>\n      <td>8</td>\n      <td>17</td>\n      <td>8</td>\n      <td>0</td>\n      <td>0</td>\n      <td>0</td>\n      <td>...</td>\n      <td>22.333333</td>\n      <td>1.000000</td>\n      <td>1.333333</td>\n      <td>0.888889</td>\n      <td>1.888889</td>\n      <td>16.222222</td>\n      <td>9.130435</td>\n      <td>6376</td>\n      <td>9</td>\n      <td>184.500000</td>\n    </tr>\n    <tr>\n      <th>23</th>\n      <td>Saeed Ajmal</td>\n      <td>115</td>\n      <td>1</td>\n      <td>3</td>\n      <td>9</td>\n      <td>6</td>\n      <td>2</td>\n      <td>0</td>\n      <td>0</td>\n      <td>0</td>\n      <td>...</td>\n      <td>28.750000</td>\n      <td>0.250000</td>\n      <td>0.750000</td>\n      <td>2.250000</td>\n      <td>1.500000</td>\n      <td>17.750000</td>\n      <td>9.666667</td>\n      <td>3966</td>\n      <td>4</td>\n      <td>200.666667</td>\n    </tr>\n    <tr>\n      <th>24</th>\n      <td>Shadab Khan</td>\n      <td>164</td>\n      <td>16</td>\n      <td>9</td>\n      <td>5</td>\n      <td>12</td>\n      <td>3</td>\n      <td>0</td>\n      <td>0</td>\n      <td>0</td>\n      <td>...</td>\n      <td>20.500000</td>\n      <td>2.000000</td>\n      <td>1.125000</td>\n      <td>0.625000</td>\n      <td>1.500000</td>\n      <td>19.875000</td>\n      <td>6.923077</td>\n      <td>4452</td>\n      <td>8</td>\n      <td>57.428571</td>\n    </tr>\n    <tr>\n      <th>25</th>\n      <td>Shahid Afridi</td>\n      <td>187</td>\n      <td>9</td>\n      <td>2</td>\n      <td>10</td>\n      <td>10</td>\n      <td>0</td>\n      <td>0</td>\n      <td>0</td>\n      <td>0</td>\n      <td>...</td>\n      <td>20.777778</td>\n      <td>1.000000</td>\n      <td>0.222222</td>\n      <td>1.111111</td>\n      <td>1.111111</td>\n      <td>18.888889</td>\n      <td>7.000000</td>\n      <td>4848</td>\n      <td>9</td>\n      <td>72.444444</td>\n    </tr>\n    <tr>\n      <th>26</th>\n      <td>Shakib Al Hasan</td>\n      <td>75</td>\n      <td>4</td>\n      <td>5</td>\n      <td>3</td>\n      <td>5</td>\n      <td>3</td>\n      <td>0</td>\n      <td>0</td>\n      <td>0</td>\n      <td>...</td>\n      <td>18.750000</td>\n      <td>1.000000</td>\n      <td>1.250000</td>\n      <td>0.750000</td>\n      <td>1.250000</td>\n      <td>18.500000</td>\n      <td>6.583333</td>\n      <td>1697</td>\n      <td>4</td>\n      <td>45.583333</td>\n    </tr>\n    <tr>\n      <th>27</th>\n      <td>Shoaib Malik</td>\n      <td>74</td>\n      <td>8</td>\n      <td>3</td>\n      <td>1</td>\n      <td>7</td>\n      <td>3</td>\n      <td>0</td>\n      <td>0</td>\n      <td>0</td>\n      <td>...</td>\n      <td>14.800000</td>\n      <td>1.600000</td>\n      <td>0.600000</td>\n      <td>0.200000</td>\n      <td>1.400000</td>\n      <td>13.800000</td>\n      <td>7.454545</td>\n      <td>2264</td>\n      <td>5</td>\n      <td>229.800000</td>\n    </tr>\n    <tr>\n      <th>28</th>\n      <td>Sohail Khan</td>\n      <td>233</td>\n      <td>12</td>\n      <td>16</td>\n      <td>10</td>\n      <td>24</td>\n      <td>12</td>\n      <td>0</td>\n      <td>0</td>\n      <td>0</td>\n      <td>...</td>\n      <td>25.888889</td>\n      <td>1.333333</td>\n      <td>1.777778</td>\n      <td>1.111111</td>\n      <td>2.666667</td>\n      <td>21.777778</td>\n      <td>7.656250</td>\n      <td>6911</td>\n      <td>9</td>\n      <td>30.194444</td>\n    </tr>\n    <tr>\n      <th>29</th>\n      <td>Sohail Tanvir</td>\n      <td>244</td>\n      <td>16</td>\n      <td>14</td>\n      <td>11</td>\n      <td>18</td>\n      <td>8</td>\n      <td>0</td>\n      <td>0</td>\n      <td>0</td>\n      <td>...</td>\n      <td>30.500000</td>\n      <td>2.000000</td>\n      <td>1.750000</td>\n      <td>1.375000</td>\n      <td>2.250000</td>\n      <td>23.250000</td>\n      <td>8.666667</td>\n      <td>9768</td>\n      <td>8</td>\n      <td>188.285714</td>\n    </tr>\n    <tr>\n      <th>30</th>\n      <td>TS Mills</td>\n      <td>130</td>\n      <td>17</td>\n      <td>9</td>\n      <td>2</td>\n      <td>17</td>\n      <td>4</td>\n      <td>0</td>\n      <td>0</td>\n      <td>2</td>\n      <td>...</td>\n      <td>26.000000</td>\n      <td>3.400000</td>\n      <td>1.800000</td>\n      <td>0.400000</td>\n      <td>3.400000</td>\n      <td>27.000000</td>\n      <td>7.350000</td>\n      <td>4695</td>\n      <td>5</td>\n      <td>93.300000</td>\n    </tr>\n    <tr>\n      <th>31</th>\n      <td>Usama Mir</td>\n      <td>225</td>\n      <td>5</td>\n      <td>12</td>\n      <td>14</td>\n      <td>13</td>\n      <td>11</td>\n      <td>0</td>\n      <td>0</td>\n      <td>0</td>\n      <td>...</td>\n      <td>28.125000</td>\n      <td>0.625000</td>\n      <td>1.500000</td>\n      <td>1.750000</td>\n      <td>1.625000</td>\n      <td>21.250000</td>\n      <td>8.214286</td>\n      <td>7210</td>\n      <td>8</td>\n      <td>85.357143</td>\n    </tr>\n    <tr>\n      <th>32</th>\n      <td>Usman Khan</td>\n      <td>188</td>\n      <td>11</td>\n      <td>9</td>\n      <td>4</td>\n      <td>16</td>\n      <td>5</td>\n      <td>0</td>\n      <td>0</td>\n      <td>0</td>\n      <td>...</td>\n      <td>23.500000</td>\n      <td>1.375000</td>\n      <td>1.125000</td>\n      <td>0.500000</td>\n      <td>2.000000</td>\n      <td>20.250000</td>\n      <td>7.653846</td>\n      <td>5531</td>\n      <td>8</td>\n      <td>82.982143</td>\n    </tr>\n    <tr>\n      <th>33</th>\n      <td>Wahab Riaz</td>\n      <td>193</td>\n      <td>17</td>\n      <td>16</td>\n      <td>4</td>\n      <td>22</td>\n      <td>7</td>\n      <td>0</td>\n      <td>0</td>\n      <td>1</td>\n      <td>...</td>\n      <td>21.444444</td>\n      <td>1.888889</td>\n      <td>1.777778</td>\n      <td>0.444444</td>\n      <td>2.444444</td>\n      <td>23.111111</td>\n      <td>6.363636</td>\n      <td>5734</td>\n      <td>9</td>\n      <td>104.250000</td>\n    </tr>\n    <tr>\n      <th>34</th>\n      <td>Yasir Shah</td>\n      <td>166</td>\n      <td>9</td>\n      <td>10</td>\n      <td>5</td>\n      <td>9</td>\n      <td>4</td>\n      <td>0</td>\n      <td>0</td>\n      <td>0</td>\n      <td>...</td>\n      <td>20.750000</td>\n      <td>1.125000</td>\n      <td>1.250000</td>\n      <td>0.625000</td>\n      <td>1.125000</td>\n      <td>21.375000</td>\n      <td>6.250000</td>\n      <td>4325</td>\n      <td>8</td>\n      <td>70.982143</td>\n    </tr>\n    <tr>\n      <th>35</th>\n      <td>Zulfiqar Babar</td>\n      <td>198</td>\n      <td>14</td>\n      <td>8</td>\n      <td>6</td>\n      <td>17</td>\n      <td>5</td>\n      <td>0</td>\n      <td>0</td>\n      <td>0</td>\n      <td>...</td>\n      <td>24.750000</td>\n      <td>1.750000</td>\n      <td>1.000000</td>\n      <td>0.750000</td>\n      <td>2.125000</td>\n      <td>24.500000</td>\n      <td>6.625000</td>\n      <td>5802</td>\n      <td>8</td>\n      <td>26.285714</td>\n    </tr>\n  </tbody>\n</table>\n<p>36 rows × 21 columns</p>\n</div>"
          },
          "metadata": {},
          "execution_count": 387
        }
      ],
      "source": [
        "df_bowler_summ"
      ]
    },
    {
      "cell_type": "code",
      "execution_count": 253,
      "metadata": {},
      "outputs": [
        {
          "output_type": "display_data",
          "data": {
            "application/vnd.plotly.v1+json": {
              "data": [
                {
                  "hoverinfo": "text",
                  "marker": {
                    "autocolorscale": true,
                    "cmin": 0,
                    "color": [
                      1343.890909090909,
                      387.87777777777774,
                      579.2777777777778,
                      632.125,
                      1249.6190476190475,
                      705.0277777777778,
                      315.3888888888889,
                      336.62222222222226,
                      267.0000000000001,
                      349.00000000000006,
                      437.26785714285717,
                      393.55357142857144,
                      390.16666666666663,
                      425.29999999999995,
                      163.25,
                      504.85714285714283,
                      259.4444444444444,
                      310.7857142857143,
                      561.25,
                      411.9,
                      528.0277777777778,
                      928.2666666666667,
                      1021.3,
                      289.61904761904754,
                      150.99999999999997,
                      134.76666666666665,
                      73.95238095238092,
                      605.6999999999999,
                      151.2380952380952,
                      63.410714285714285,
                      240.33333333333334,
                      189.2,
                      145.2857142857143,
                      209.06666666666666,
                      1012.5,
                      243.6,
                      76.79999999999998,
                      173.66666666666666,
                      339.6666666666667,
                      14.333333333333258,
                      170.33333333333331,
                      224.33333333333331,
                      170,
                      14.333333333333314,
                      91.69999999999999,
                      2,
                      43,
                      48.333333333333336,
                      312.5,
                      65.33333333333331,
                      null,
                      18,
                      18.800000000000004,
                      220.5,
                      75.33333333333333,
                      180.5,
                      7,
                      18.666666666666668,
                      61,
                      null,
                      null,
                      null,
                      4.5,
                      2,
                      null,
                      null,
                      0,
                      0.3333333333333333,
                      0.5,
                      null,
                      null,
                      null,
                      null,
                      null,
                      null,
                      null,
                      0.5,
                      null,
                      null,
                      null
                    ],
                    "colorbar": {
                      "title": {
                        "text": "Score variance"
                      }
                    },
                    "reversescale": true,
                    "size": 20,
                    "symbol": "circle"
                  },
                  "mode": "markers",
                  "showlegend": false,
                  "text": [
                    "Kamran Akmal  Peshawar Zalmi",
                    "Babar Azam  Karachi Kings",
                    "DR Smith  Islamabad United",
                    "RR Rossouw  Quetta Gladiators",
                    "KP Pietersen  Quetta Gladiators",
                    "Ahmed Shehzad  Quetta Gladiators",
                    "KC Sangakkara  Karachi Kings",
                    "Shoaib Malik  Karachi Kings",
                    "KA Pollard  Karachi Kings",
                    "Sarfraz Ahmed  Quetta Gladiators",
                    "Fakhar Zaman  Lahore Qalandars",
                    "Shahid Afridi  Peshawar Zalmi",
                    "DJ Malan  Peshawar Zalmi",
                    "JJ Roy  Lahore Qalandars",
                    "SR Watson  Islamabad United",
                    "Umar Akmal  Lahore Qalandars",
                    "CH Gayle  Karachi Kings",
                    "Misbah-ul-Haq  Islamabad United",
                    "Mohammad Hafeez  Peshawar Zalmi",
                    "Asad Shafiq  Quetta Gladiators",
                    "BJ Haddin  Islamabad United",
                    "EJG Morgan  Peshawar Zalmi",
                    "SW Billings  Islamabad United",
                    "Mohammad Rizwan  Lahore Qalandars",
                    "DJG Sammy  Peshawar Zalmi",
                    "RS Bopara  Karachi Kings",
                    "SP Narine  Lahore Qalandars",
                    "Tamim Iqbal  Peshawar Zalmi",
                    "BB McCullum  Lahore Qalandars",
                    "Imad Wasim  Karachi Kings",
                    "CS Delport  Lahore Qalandars",
                    "MN Samuels  Peshawar Zalmi",
                    "GD Elliott  Lahore Qalandars",
                    "Sohail Tanvir  Lahore Qalandars",
                    "Hussain Talat  Islamabad United",
                    "Shadab Khan  Islamabad United",
                    "Anwar Ali  Quetta Gladiators",
                    "Shakib Al Hasan  Peshawar Zalmi",
                    "Asif Ali  Islamabad United",
                    "Rafatullah Mohmand  Islamabad United",
                    "NLTC Perera  Quetta Gladiators",
                    "Mahmudullah  Quetta Gladiators",
                    "Sohaib Maqsood  Peshawar Zalmi",
                    "Haris Sohail  Peshawar Zalmi",
                    "Wahab Riaz  Peshawar Zalmi",
                    "BM Duckett  Islamabad United",
                    "Hasan Khan  Quetta Gladiators",
                    "CJ Jordan  Peshawar Zalmi",
                    "Aamer Yamin  Lahore Qalandars",
                    "Amad Butt  Islamabad United",
                    "SM Ervine  Quetta Gladiators",
                    "Mohammad Amir  Karachi Kings",
                    "Hasan Ali  Peshawar Zalmi",
                    "Yasir Shah  Lahore Qalandars",
                    "Mohammad Nawaz (3)  Quetta Gladiators",
                    "Shahzaib Hasan  Karachi Kings",
                    "Saad Nasim  Quetta Gladiators",
                    "Sohail Khan  Karachi Kings",
                    "Iftikhar Ahmed  Peshawar Zalmi",
                    "LJ Wright  Quetta Gladiators",
                    "DPMD Jayawardene  Karachi Kings",
                    "RR Emrit  Quetta Gladiators",
                    "Usama Mir  Karachi Kings",
                    "Mohammad Irfan (4)  Lahore Qalandars",
                    "Anamul Haque  Quetta Gladiators",
                    "Umar Gul  Quetta Gladiators",
                    "Bilawal Bhatti  Lahore Qalandars",
                    "Mohammad Sami  Islamabad United",
                    "TS Mills  Quetta Gladiators",
                    "N Pooran  Islamabad United",
                    "Ghulam Mudassar  Lahore Qalandars",
                    "Sharjeel Khan  Islamabad United",
                    "Imran Khalid  Islamabad United",
                    "Junaid Khan  Peshawar Zalmi",
                    "Khushdil Shah  Peshawar Zalmi",
                    "MN van Wyk  Quetta Gladiators",
                    "Zulfiqar Babar  Quetta Gladiators",
                    "Usman Khan  Karachi Kings",
                    "Rumman Raees  Islamabad United",
                    "Mohammad Irfan  Islamabad United"
                  ],
                  "x": [
                    32.09090909090909,
                    29.1,
                    30.444444444444443,
                    31.875,
                    34.42857142857143,
                    26.444444444444443,
                    21.5,
                    20.2,
                    22.333333333333332,
                    20.333333333333332,
                    22.125,
                    22.125,
                    29.166666666666668,
                    34.6,
                    19,
                    20.5,
                    17.77777777777778,
                    19.75,
                    17,
                    24.5,
                    15.444444444444445,
                    22.666666666666668,
                    26.6,
                    18.571428571428573,
                    13.333333333333334,
                    11.9,
                    16.571428571428573,
                    18.8,
                    13.285714285714286,
                    10.375,
                    20.5,
                    16.2,
                    10.571428571428571,
                    11.333333333333334,
                    33.5,
                    11,
                    11.4,
                    13.5,
                    11.5,
                    15.333333333333334,
                    13.333333333333334,
                    12.333333333333334,
                    7,
                    10.333333333333334,
                    6.2,
                    15,
                    6.5,
                    6.5,
                    12.5,
                    8.333333333333334,
                    24,
                    6,
                    4.6,
                    11.5,
                    5,
                    9.5,
                    6,
                    4,
                    5,
                    12,
                    10,
                    6,
                    2.5,
                    1,
                    3,
                    2,
                    1,
                    0.5,
                    0.5,
                    1,
                    1,
                    1,
                    1,
                    1,
                    1,
                    1,
                    0.5,
                    0,
                    0,
                    0
                  ],
                  "y": [
                    128.83211678832117,
                    109.81132075471699,
                    110.93117408906883,
                    121.42857142857143,
                    148.76543209876544,
                    127.95698924731182,
                    114.36170212765957,
                    120.23809523809524,
                    162.09677419354838,
                    128.8732394366197,
                    136.15384615384616,
                    163.88888888888889,
                    129.62962962962962,
                    149.13793103448276,
                    132.5581395348837,
                    124.24242424242425,
                    108.84353741496598,
                    108.21917808219177,
                    96.83544303797468,
                    106.52173913043478,
                    118.80341880341881,
                    101.49253731343283,
                    134.34343434343435,
                    120.37037037037037,
                    127.65957446808511,
                    94.44444444444444,
                    170.58823529411765,
                    106.81818181818181,
                    116.25,
                    129.6875,
                    146.42857142857142,
                    120.8955223880597,
                    92.5,
                    103.03030303030303,
                    131.37254901960785,
                    157.14285714285714,
                    129.54545454545453,
                    110.20408163265306,
                    102.22222222222223,
                    124.32432432432432,
                    111.11111111111111,
                    137.03703703703704,
                    92.10526315789474,
                    67.3913043478261,
                    79.48717948717949,
                    88.23529411764706,
                    96.29629629629629,
                    86.66666666666667,
                    96.15384615384616,
                    96.15384615384616,
                    126.3157894736842,
                    114.28571428571429,
                    153.33333333333334,
                    100,
                    105.26315789473684,
                    111.76470588235294,
                    105.88235294117646,
                    114.28571428571429,
                    57.69230769230769,
                    171.42857142857142,
                    125,
                    66.66666666666667,
                    125,
                    66.66666666666667,
                    33.333333333333336,
                    66.66666666666667,
                    28.571428571428573,
                    50,
                    50,
                    33.333333333333336,
                    100,
                    25,
                    100,
                    50,
                    16.666666666666668,
                    14.285714285714286,
                    33.333333333333336,
                    0,
                    0,
                    0
                  ],
                  "type": "scatter"
                }
              ],
              "layout": {
                "paper_bgcolor": "white",
                "plot_bgcolor": "white",
                "title": {
                  "text": "All batsman's performance - Average runs, Strike rate, Score variance"
                },
                "xaxis": {
                  "showgrid": false,
                  "title": {
                    "text": "Average runs"
                  },
                  "zeroline": false
                },
                "yaxis": {
                  "color": "black",
                  "showgrid": true,
                  "title": {
                    "font": {
                      "color": "black"
                    },
                    "text": "Strike rate"
                  },
                  "zeroline": false
                },
                "template": {
                  "data": {
                    "histogram2dcontour": [
                      {
                        "type": "histogram2dcontour",
                        "colorbar": {
                          "outlinewidth": 0,
                          "ticks": ""
                        },
                        "colorscale": [
                          [
                            0,
                            "#0d0887"
                          ],
                          [
                            0.1111111111111111,
                            "#46039f"
                          ],
                          [
                            0.2222222222222222,
                            "#7201a8"
                          ],
                          [
                            0.3333333333333333,
                            "#9c179e"
                          ],
                          [
                            0.4444444444444444,
                            "#bd3786"
                          ],
                          [
                            0.5555555555555556,
                            "#d8576b"
                          ],
                          [
                            0.6666666666666666,
                            "#ed7953"
                          ],
                          [
                            0.7777777777777778,
                            "#fb9f3a"
                          ],
                          [
                            0.8888888888888888,
                            "#fdca26"
                          ],
                          [
                            1,
                            "#f0f921"
                          ]
                        ]
                      }
                    ],
                    "choropleth": [
                      {
                        "type": "choropleth",
                        "colorbar": {
                          "outlinewidth": 0,
                          "ticks": ""
                        }
                      }
                    ],
                    "histogram2d": [
                      {
                        "type": "histogram2d",
                        "colorbar": {
                          "outlinewidth": 0,
                          "ticks": ""
                        },
                        "colorscale": [
                          [
                            0,
                            "#0d0887"
                          ],
                          [
                            0.1111111111111111,
                            "#46039f"
                          ],
                          [
                            0.2222222222222222,
                            "#7201a8"
                          ],
                          [
                            0.3333333333333333,
                            "#9c179e"
                          ],
                          [
                            0.4444444444444444,
                            "#bd3786"
                          ],
                          [
                            0.5555555555555556,
                            "#d8576b"
                          ],
                          [
                            0.6666666666666666,
                            "#ed7953"
                          ],
                          [
                            0.7777777777777778,
                            "#fb9f3a"
                          ],
                          [
                            0.8888888888888888,
                            "#fdca26"
                          ],
                          [
                            1,
                            "#f0f921"
                          ]
                        ]
                      }
                    ],
                    "heatmap": [
                      {
                        "type": "heatmap",
                        "colorbar": {
                          "outlinewidth": 0,
                          "ticks": ""
                        },
                        "colorscale": [
                          [
                            0,
                            "#0d0887"
                          ],
                          [
                            0.1111111111111111,
                            "#46039f"
                          ],
                          [
                            0.2222222222222222,
                            "#7201a8"
                          ],
                          [
                            0.3333333333333333,
                            "#9c179e"
                          ],
                          [
                            0.4444444444444444,
                            "#bd3786"
                          ],
                          [
                            0.5555555555555556,
                            "#d8576b"
                          ],
                          [
                            0.6666666666666666,
                            "#ed7953"
                          ],
                          [
                            0.7777777777777778,
                            "#fb9f3a"
                          ],
                          [
                            0.8888888888888888,
                            "#fdca26"
                          ],
                          [
                            1,
                            "#f0f921"
                          ]
                        ]
                      }
                    ],
                    "heatmapgl": [
                      {
                        "type": "heatmapgl",
                        "colorbar": {
                          "outlinewidth": 0,
                          "ticks": ""
                        },
                        "colorscale": [
                          [
                            0,
                            "#0d0887"
                          ],
                          [
                            0.1111111111111111,
                            "#46039f"
                          ],
                          [
                            0.2222222222222222,
                            "#7201a8"
                          ],
                          [
                            0.3333333333333333,
                            "#9c179e"
                          ],
                          [
                            0.4444444444444444,
                            "#bd3786"
                          ],
                          [
                            0.5555555555555556,
                            "#d8576b"
                          ],
                          [
                            0.6666666666666666,
                            "#ed7953"
                          ],
                          [
                            0.7777777777777778,
                            "#fb9f3a"
                          ],
                          [
                            0.8888888888888888,
                            "#fdca26"
                          ],
                          [
                            1,
                            "#f0f921"
                          ]
                        ]
                      }
                    ],
                    "contourcarpet": [
                      {
                        "type": "contourcarpet",
                        "colorbar": {
                          "outlinewidth": 0,
                          "ticks": ""
                        }
                      }
                    ],
                    "contour": [
                      {
                        "type": "contour",
                        "colorbar": {
                          "outlinewidth": 0,
                          "ticks": ""
                        },
                        "colorscale": [
                          [
                            0,
                            "#0d0887"
                          ],
                          [
                            0.1111111111111111,
                            "#46039f"
                          ],
                          [
                            0.2222222222222222,
                            "#7201a8"
                          ],
                          [
                            0.3333333333333333,
                            "#9c179e"
                          ],
                          [
                            0.4444444444444444,
                            "#bd3786"
                          ],
                          [
                            0.5555555555555556,
                            "#d8576b"
                          ],
                          [
                            0.6666666666666666,
                            "#ed7953"
                          ],
                          [
                            0.7777777777777778,
                            "#fb9f3a"
                          ],
                          [
                            0.8888888888888888,
                            "#fdca26"
                          ],
                          [
                            1,
                            "#f0f921"
                          ]
                        ]
                      }
                    ],
                    "surface": [
                      {
                        "type": "surface",
                        "colorbar": {
                          "outlinewidth": 0,
                          "ticks": ""
                        },
                        "colorscale": [
                          [
                            0,
                            "#0d0887"
                          ],
                          [
                            0.1111111111111111,
                            "#46039f"
                          ],
                          [
                            0.2222222222222222,
                            "#7201a8"
                          ],
                          [
                            0.3333333333333333,
                            "#9c179e"
                          ],
                          [
                            0.4444444444444444,
                            "#bd3786"
                          ],
                          [
                            0.5555555555555556,
                            "#d8576b"
                          ],
                          [
                            0.6666666666666666,
                            "#ed7953"
                          ],
                          [
                            0.7777777777777778,
                            "#fb9f3a"
                          ],
                          [
                            0.8888888888888888,
                            "#fdca26"
                          ],
                          [
                            1,
                            "#f0f921"
                          ]
                        ]
                      }
                    ],
                    "mesh3d": [
                      {
                        "type": "mesh3d",
                        "colorbar": {
                          "outlinewidth": 0,
                          "ticks": ""
                        }
                      }
                    ],
                    "scatter": [
                      {
                        "fillpattern": {
                          "fillmode": "overlay",
                          "size": 10,
                          "solidity": 0.2
                        },
                        "type": "scatter"
                      }
                    ],
                    "parcoords": [
                      {
                        "type": "parcoords",
                        "line": {
                          "colorbar": {
                            "outlinewidth": 0,
                            "ticks": ""
                          }
                        }
                      }
                    ],
                    "scatterpolargl": [
                      {
                        "type": "scatterpolargl",
                        "marker": {
                          "colorbar": {
                            "outlinewidth": 0,
                            "ticks": ""
                          }
                        }
                      }
                    ],
                    "bar": [
                      {
                        "error_x": {
                          "color": "#2a3f5f"
                        },
                        "error_y": {
                          "color": "#2a3f5f"
                        },
                        "marker": {
                          "line": {
                            "color": "#E5ECF6",
                            "width": 0.5
                          },
                          "pattern": {
                            "fillmode": "overlay",
                            "size": 10,
                            "solidity": 0.2
                          }
                        },
                        "type": "bar"
                      }
                    ],
                    "scattergeo": [
                      {
                        "type": "scattergeo",
                        "marker": {
                          "colorbar": {
                            "outlinewidth": 0,
                            "ticks": ""
                          }
                        }
                      }
                    ],
                    "scatterpolar": [
                      {
                        "type": "scatterpolar",
                        "marker": {
                          "colorbar": {
                            "outlinewidth": 0,
                            "ticks": ""
                          }
                        }
                      }
                    ],
                    "histogram": [
                      {
                        "marker": {
                          "pattern": {
                            "fillmode": "overlay",
                            "size": 10,
                            "solidity": 0.2
                          }
                        },
                        "type": "histogram"
                      }
                    ],
                    "scattergl": [
                      {
                        "type": "scattergl",
                        "marker": {
                          "colorbar": {
                            "outlinewidth": 0,
                            "ticks": ""
                          }
                        }
                      }
                    ],
                    "scatter3d": [
                      {
                        "type": "scatter3d",
                        "line": {
                          "colorbar": {
                            "outlinewidth": 0,
                            "ticks": ""
                          }
                        },
                        "marker": {
                          "colorbar": {
                            "outlinewidth": 0,
                            "ticks": ""
                          }
                        }
                      }
                    ],
                    "scattermapbox": [
                      {
                        "type": "scattermapbox",
                        "marker": {
                          "colorbar": {
                            "outlinewidth": 0,
                            "ticks": ""
                          }
                        }
                      }
                    ],
                    "scatterternary": [
                      {
                        "type": "scatterternary",
                        "marker": {
                          "colorbar": {
                            "outlinewidth": 0,
                            "ticks": ""
                          }
                        }
                      }
                    ],
                    "scattercarpet": [
                      {
                        "type": "scattercarpet",
                        "marker": {
                          "colorbar": {
                            "outlinewidth": 0,
                            "ticks": ""
                          }
                        }
                      }
                    ],
                    "carpet": [
                      {
                        "aaxis": {
                          "endlinecolor": "#2a3f5f",
                          "gridcolor": "white",
                          "linecolor": "white",
                          "minorgridcolor": "white",
                          "startlinecolor": "#2a3f5f"
                        },
                        "baxis": {
                          "endlinecolor": "#2a3f5f",
                          "gridcolor": "white",
                          "linecolor": "white",
                          "minorgridcolor": "white",
                          "startlinecolor": "#2a3f5f"
                        },
                        "type": "carpet"
                      }
                    ],
                    "table": [
                      {
                        "cells": {
                          "fill": {
                            "color": "#EBF0F8"
                          },
                          "line": {
                            "color": "white"
                          }
                        },
                        "header": {
                          "fill": {
                            "color": "#C8D4E3"
                          },
                          "line": {
                            "color": "white"
                          }
                        },
                        "type": "table"
                      }
                    ],
                    "barpolar": [
                      {
                        "marker": {
                          "line": {
                            "color": "#E5ECF6",
                            "width": 0.5
                          },
                          "pattern": {
                            "fillmode": "overlay",
                            "size": 10,
                            "solidity": 0.2
                          }
                        },
                        "type": "barpolar"
                      }
                    ],
                    "pie": [
                      {
                        "automargin": true,
                        "type": "pie"
                      }
                    ]
                  },
                  "layout": {
                    "autotypenumbers": "strict",
                    "colorway": [
                      "#636efa",
                      "#EF553B",
                      "#00cc96",
                      "#ab63fa",
                      "#FFA15A",
                      "#19d3f3",
                      "#FF6692",
                      "#B6E880",
                      "#FF97FF",
                      "#FECB52"
                    ],
                    "font": {
                      "color": "#2a3f5f"
                    },
                    "hovermode": "closest",
                    "hoverlabel": {
                      "align": "left"
                    },
                    "paper_bgcolor": "white",
                    "plot_bgcolor": "#E5ECF6",
                    "polar": {
                      "bgcolor": "#E5ECF6",
                      "angularaxis": {
                        "gridcolor": "white",
                        "linecolor": "white",
                        "ticks": ""
                      },
                      "radialaxis": {
                        "gridcolor": "white",
                        "linecolor": "white",
                        "ticks": ""
                      }
                    },
                    "ternary": {
                      "bgcolor": "#E5ECF6",
                      "aaxis": {
                        "gridcolor": "white",
                        "linecolor": "white",
                        "ticks": ""
                      },
                      "baxis": {
                        "gridcolor": "white",
                        "linecolor": "white",
                        "ticks": ""
                      },
                      "caxis": {
                        "gridcolor": "white",
                        "linecolor": "white",
                        "ticks": ""
                      }
                    },
                    "coloraxis": {
                      "colorbar": {
                        "outlinewidth": 0,
                        "ticks": ""
                      }
                    },
                    "colorscale": {
                      "sequential": [
                        [
                          0,
                          "#0d0887"
                        ],
                        [
                          0.1111111111111111,
                          "#46039f"
                        ],
                        [
                          0.2222222222222222,
                          "#7201a8"
                        ],
                        [
                          0.3333333333333333,
                          "#9c179e"
                        ],
                        [
                          0.4444444444444444,
                          "#bd3786"
                        ],
                        [
                          0.5555555555555556,
                          "#d8576b"
                        ],
                        [
                          0.6666666666666666,
                          "#ed7953"
                        ],
                        [
                          0.7777777777777778,
                          "#fb9f3a"
                        ],
                        [
                          0.8888888888888888,
                          "#fdca26"
                        ],
                        [
                          1,
                          "#f0f921"
                        ]
                      ],
                      "sequentialminus": [
                        [
                          0,
                          "#0d0887"
                        ],
                        [
                          0.1111111111111111,
                          "#46039f"
                        ],
                        [
                          0.2222222222222222,
                          "#7201a8"
                        ],
                        [
                          0.3333333333333333,
                          "#9c179e"
                        ],
                        [
                          0.4444444444444444,
                          "#bd3786"
                        ],
                        [
                          0.5555555555555556,
                          "#d8576b"
                        ],
                        [
                          0.6666666666666666,
                          "#ed7953"
                        ],
                        [
                          0.7777777777777778,
                          "#fb9f3a"
                        ],
                        [
                          0.8888888888888888,
                          "#fdca26"
                        ],
                        [
                          1,
                          "#f0f921"
                        ]
                      ],
                      "diverging": [
                        [
                          0,
                          "#8e0152"
                        ],
                        [
                          0.1,
                          "#c51b7d"
                        ],
                        [
                          0.2,
                          "#de77ae"
                        ],
                        [
                          0.3,
                          "#f1b6da"
                        ],
                        [
                          0.4,
                          "#fde0ef"
                        ],
                        [
                          0.5,
                          "#f7f7f7"
                        ],
                        [
                          0.6,
                          "#e6f5d0"
                        ],
                        [
                          0.7,
                          "#b8e186"
                        ],
                        [
                          0.8,
                          "#7fbc41"
                        ],
                        [
                          0.9,
                          "#4d9221"
                        ],
                        [
                          1,
                          "#276419"
                        ]
                      ]
                    },
                    "xaxis": {
                      "gridcolor": "white",
                      "linecolor": "white",
                      "ticks": "",
                      "title": {
                        "standoff": 15
                      },
                      "zerolinecolor": "white",
                      "automargin": true,
                      "zerolinewidth": 2
                    },
                    "yaxis": {
                      "gridcolor": "white",
                      "linecolor": "white",
                      "ticks": "",
                      "title": {
                        "standoff": 15
                      },
                      "zerolinecolor": "white",
                      "automargin": true,
                      "zerolinewidth": 2
                    },
                    "scene": {
                      "xaxis": {
                        "backgroundcolor": "#E5ECF6",
                        "gridcolor": "white",
                        "linecolor": "white",
                        "showbackground": true,
                        "ticks": "",
                        "zerolinecolor": "white",
                        "gridwidth": 2
                      },
                      "yaxis": {
                        "backgroundcolor": "#E5ECF6",
                        "gridcolor": "white",
                        "linecolor": "white",
                        "showbackground": true,
                        "ticks": "",
                        "zerolinecolor": "white",
                        "gridwidth": 2
                      },
                      "zaxis": {
                        "backgroundcolor": "#E5ECF6",
                        "gridcolor": "white",
                        "linecolor": "white",
                        "showbackground": true,
                        "ticks": "",
                        "zerolinecolor": "white",
                        "gridwidth": 2
                      }
                    },
                    "shapedefaults": {
                      "line": {
                        "color": "#2a3f5f"
                      }
                    },
                    "annotationdefaults": {
                      "arrowcolor": "#2a3f5f",
                      "arrowhead": 0,
                      "arrowwidth": 1
                    },
                    "geo": {
                      "bgcolor": "white",
                      "landcolor": "#E5ECF6",
                      "subunitcolor": "white",
                      "showland": true,
                      "showlakes": true,
                      "lakecolor": "white"
                    },
                    "title": {
                      "x": 0.05
                    },
                    "mapbox": {
                      "style": "light"
                    }
                  }
                },
                "shapes": [
                  {
                    "line": {
                      "color": "red",
                      "width": 1
                    },
                    "type": "line",
                    "x0": 0,
                    "x1": 1,
                    "xref": "x domain",
                    "y0": 100.78578820515864,
                    "y1": 100.78578820515864,
                    "yref": "y"
                  },
                  {
                    "line": {
                      "color": "green",
                      "width": 1
                    },
                    "type": "line",
                    "x0": 12.966424062049061,
                    "x1": 12.966424062049061,
                    "xref": "x",
                    "y0": 0,
                    "y1": 1,
                    "yref": "y domain"
                  },
                  {
                    "line": {
                      "color": "red",
                      "width": 1
                    },
                    "type": "line",
                    "x0": 0,
                    "x1": 1,
                    "xref": "x domain",
                    "y0": 8.055555555555555,
                    "y1": 8.055555555555555,
                    "yref": "y"
                  },
                  {
                    "line": {
                      "color": "green",
                      "width": 1
                    },
                    "type": "line",
                    "x0": 7.843971911231067,
                    "x1": 7.843971911231067,
                    "xref": "x",
                    "y0": 0,
                    "y1": 1,
                    "yref": "y domain"
                  }
                ]
              },
              "config": {
                "plotlyServerURL": "https://plot.ly"
              }
            },
            "text/html": "<div>                            <div id=\"d95c7d82-be63-48e3-88cd-e7e795ee4d35\" class=\"plotly-graph-div\" style=\"height:525px; width:100%;\"></div>            <script type=\"text/javascript\">                require([\"plotly\"], function(Plotly) {                    window.PLOTLYENV=window.PLOTLYENV || {};                                    if (document.getElementById(\"d95c7d82-be63-48e3-88cd-e7e795ee4d35\")) {                    Plotly.newPlot(                        \"d95c7d82-be63-48e3-88cd-e7e795ee4d35\",                        [{\"hoverinfo\":\"text\",\"marker\":{\"autocolorscale\":true,\"cmin\":0,\"color\":[1343.890909090909,387.87777777777774,579.2777777777778,632.125,1249.6190476190475,705.0277777777778,315.3888888888889,336.62222222222226,267.0000000000001,349.00000000000006,437.26785714285717,393.55357142857144,390.16666666666663,425.29999999999995,163.25,504.85714285714283,259.4444444444444,310.7857142857143,561.25,411.9,528.0277777777778,928.2666666666667,1021.3,289.61904761904754,150.99999999999997,134.76666666666665,73.95238095238092,605.6999999999999,151.2380952380952,63.410714285714285,240.33333333333334,189.2,145.2857142857143,209.06666666666666,1012.5,243.6,76.79999999999998,173.66666666666666,339.6666666666667,14.333333333333258,170.33333333333331,224.33333333333331,170.0,14.333333333333314,91.69999999999999,2.0,43.0,48.333333333333336,312.5,65.33333333333331,null,18.0,18.800000000000004,220.5,75.33333333333333,180.5,7.0,18.666666666666668,61.0,null,null,null,4.5,2.0,null,null,0.0,0.3333333333333333,0.5,null,null,null,null,null,null,null,0.5,null,null,null],\"colorbar\":{\"title\":{\"text\":\"Score variance\"}},\"reversescale\":true,\"size\":20,\"symbol\":\"circle\"},\"mode\":\"markers\",\"showlegend\":false,\"text\":[\"Kamran Akmal  Peshawar Zalmi\",\"Babar Azam  Karachi Kings\",\"DR Smith  Islamabad United\",\"RR Rossouw  Quetta Gladiators\",\"KP Pietersen  Quetta Gladiators\",\"Ahmed Shehzad  Quetta Gladiators\",\"KC Sangakkara  Karachi Kings\",\"Shoaib Malik  Karachi Kings\",\"KA Pollard  Karachi Kings\",\"Sarfraz Ahmed  Quetta Gladiators\",\"Fakhar Zaman  Lahore Qalandars\",\"Shahid Afridi  Peshawar Zalmi\",\"DJ Malan  Peshawar Zalmi\",\"JJ Roy  Lahore Qalandars\",\"SR Watson  Islamabad United\",\"Umar Akmal  Lahore Qalandars\",\"CH Gayle  Karachi Kings\",\"Misbah-ul-Haq  Islamabad United\",\"Mohammad Hafeez  Peshawar Zalmi\",\"Asad Shafiq  Quetta Gladiators\",\"BJ Haddin  Islamabad United\",\"EJG Morgan  Peshawar Zalmi\",\"SW Billings  Islamabad United\",\"Mohammad Rizwan  Lahore Qalandars\",\"DJG Sammy  Peshawar Zalmi\",\"RS Bopara  Karachi Kings\",\"SP Narine  Lahore Qalandars\",\"Tamim Iqbal  Peshawar Zalmi\",\"BB McCullum  Lahore Qalandars\",\"Imad Wasim  Karachi Kings\",\"CS Delport  Lahore Qalandars\",\"MN Samuels  Peshawar Zalmi\",\"GD Elliott  Lahore Qalandars\",\"Sohail Tanvir  Lahore Qalandars\",\"Hussain Talat  Islamabad United\",\"Shadab Khan  Islamabad United\",\"Anwar Ali  Quetta Gladiators\",\"Shakib Al Hasan  Peshawar Zalmi\",\"Asif Ali  Islamabad United\",\"Rafatullah Mohmand  Islamabad United\",\"NLTC Perera  Quetta Gladiators\",\"Mahmudullah  Quetta Gladiators\",\"Sohaib Maqsood  Peshawar Zalmi\",\"Haris Sohail  Peshawar Zalmi\",\"Wahab Riaz  Peshawar Zalmi\",\"BM Duckett  Islamabad United\",\"Hasan Khan  Quetta Gladiators\",\"CJ Jordan  Peshawar Zalmi\",\"Aamer Yamin  Lahore Qalandars\",\"Amad Butt  Islamabad United\",\"SM Ervine  Quetta Gladiators\",\"Mohammad Amir  Karachi Kings\",\"Hasan Ali  Peshawar Zalmi\",\"Yasir Shah  Lahore Qalandars\",\"Mohammad Nawaz (3)  Quetta Gladiators\",\"Shahzaib Hasan  Karachi Kings\",\"Saad Nasim  Quetta Gladiators\",\"Sohail Khan  Karachi Kings\",\"Iftikhar Ahmed  Peshawar Zalmi\",\"LJ Wright  Quetta Gladiators\",\"DPMD Jayawardene  Karachi Kings\",\"RR Emrit  Quetta Gladiators\",\"Usama Mir  Karachi Kings\",\"Mohammad Irfan (4)  Lahore Qalandars\",\"Anamul Haque  Quetta Gladiators\",\"Umar Gul  Quetta Gladiators\",\"Bilawal Bhatti  Lahore Qalandars\",\"Mohammad Sami  Islamabad United\",\"TS Mills  Quetta Gladiators\",\"N Pooran  Islamabad United\",\"Ghulam Mudassar  Lahore Qalandars\",\"Sharjeel Khan  Islamabad United\",\"Imran Khalid  Islamabad United\",\"Junaid Khan  Peshawar Zalmi\",\"Khushdil Shah  Peshawar Zalmi\",\"MN van Wyk  Quetta Gladiators\",\"Zulfiqar Babar  Quetta Gladiators\",\"Usman Khan  Karachi Kings\",\"Rumman Raees  Islamabad United\",\"Mohammad Irfan  Islamabad United\"],\"x\":[32.09090909090909,29.1,30.444444444444443,31.875,34.42857142857143,26.444444444444443,21.5,20.2,22.333333333333332,20.333333333333332,22.125,22.125,29.166666666666668,34.6,19.0,20.5,17.77777777777778,19.75,17.0,24.5,15.444444444444445,22.666666666666668,26.6,18.571428571428573,13.333333333333334,11.9,16.571428571428573,18.8,13.285714285714286,10.375,20.5,16.2,10.571428571428571,11.333333333333334,33.5,11.0,11.4,13.5,11.5,15.333333333333334,13.333333333333334,12.333333333333334,7.0,10.333333333333334,6.2,15.0,6.5,6.5,12.5,8.333333333333334,24.0,6.0,4.6,11.5,5.0,9.5,6.0,4.0,5.0,12.0,10.0,6.0,2.5,1.0,3.0,2.0,1.0,0.5,0.5,1.0,1.0,1.0,1.0,1.0,1.0,1.0,0.5,0.0,0.0,0.0],\"y\":[128.83211678832117,109.81132075471699,110.93117408906883,121.42857142857143,148.76543209876544,127.95698924731182,114.36170212765957,120.23809523809524,162.09677419354838,128.8732394366197,136.15384615384616,163.88888888888889,129.62962962962962,149.13793103448276,132.5581395348837,124.24242424242425,108.84353741496598,108.21917808219177,96.83544303797468,106.52173913043478,118.80341880341881,101.49253731343283,134.34343434343435,120.37037037037037,127.65957446808511,94.44444444444444,170.58823529411765,106.81818181818181,116.25,129.6875,146.42857142857142,120.8955223880597,92.5,103.03030303030303,131.37254901960785,157.14285714285714,129.54545454545453,110.20408163265306,102.22222222222223,124.32432432432432,111.11111111111111,137.03703703703704,92.10526315789474,67.3913043478261,79.48717948717949,88.23529411764706,96.29629629629629,86.66666666666667,96.15384615384616,96.15384615384616,126.3157894736842,114.28571428571429,153.33333333333334,100.0,105.26315789473684,111.76470588235294,105.88235294117646,114.28571428571429,57.69230769230769,171.42857142857142,125.0,66.66666666666667,125.0,66.66666666666667,33.333333333333336,66.66666666666667,28.571428571428573,50.0,50.0,33.333333333333336,100.0,25.0,100.0,50.0,16.666666666666668,14.285714285714286,33.333333333333336,0.0,0.0,0.0],\"type\":\"scatter\"}],                        {\"paper_bgcolor\":\"white\",\"plot_bgcolor\":\"white\",\"title\":{\"text\":\"All batsman's performance - Average runs, Strike rate, Score variance\"},\"xaxis\":{\"showgrid\":false,\"title\":{\"text\":\"Average runs\"},\"zeroline\":false},\"yaxis\":{\"color\":\"black\",\"showgrid\":true,\"title\":{\"font\":{\"color\":\"black\"},\"text\":\"Strike rate\"},\"zeroline\":false},\"template\":{\"data\":{\"histogram2dcontour\":[{\"type\":\"histogram2dcontour\",\"colorbar\":{\"outlinewidth\":0,\"ticks\":\"\"},\"colorscale\":[[0.0,\"#0d0887\"],[0.1111111111111111,\"#46039f\"],[0.2222222222222222,\"#7201a8\"],[0.3333333333333333,\"#9c179e\"],[0.4444444444444444,\"#bd3786\"],[0.5555555555555556,\"#d8576b\"],[0.6666666666666666,\"#ed7953\"],[0.7777777777777778,\"#fb9f3a\"],[0.8888888888888888,\"#fdca26\"],[1.0,\"#f0f921\"]]}],\"choropleth\":[{\"type\":\"choropleth\",\"colorbar\":{\"outlinewidth\":0,\"ticks\":\"\"}}],\"histogram2d\":[{\"type\":\"histogram2d\",\"colorbar\":{\"outlinewidth\":0,\"ticks\":\"\"},\"colorscale\":[[0.0,\"#0d0887\"],[0.1111111111111111,\"#46039f\"],[0.2222222222222222,\"#7201a8\"],[0.3333333333333333,\"#9c179e\"],[0.4444444444444444,\"#bd3786\"],[0.5555555555555556,\"#d8576b\"],[0.6666666666666666,\"#ed7953\"],[0.7777777777777778,\"#fb9f3a\"],[0.8888888888888888,\"#fdca26\"],[1.0,\"#f0f921\"]]}],\"heatmap\":[{\"type\":\"heatmap\",\"colorbar\":{\"outlinewidth\":0,\"ticks\":\"\"},\"colorscale\":[[0.0,\"#0d0887\"],[0.1111111111111111,\"#46039f\"],[0.2222222222222222,\"#7201a8\"],[0.3333333333333333,\"#9c179e\"],[0.4444444444444444,\"#bd3786\"],[0.5555555555555556,\"#d8576b\"],[0.6666666666666666,\"#ed7953\"],[0.7777777777777778,\"#fb9f3a\"],[0.8888888888888888,\"#fdca26\"],[1.0,\"#f0f921\"]]}],\"heatmapgl\":[{\"type\":\"heatmapgl\",\"colorbar\":{\"outlinewidth\":0,\"ticks\":\"\"},\"colorscale\":[[0.0,\"#0d0887\"],[0.1111111111111111,\"#46039f\"],[0.2222222222222222,\"#7201a8\"],[0.3333333333333333,\"#9c179e\"],[0.4444444444444444,\"#bd3786\"],[0.5555555555555556,\"#d8576b\"],[0.6666666666666666,\"#ed7953\"],[0.7777777777777778,\"#fb9f3a\"],[0.8888888888888888,\"#fdca26\"],[1.0,\"#f0f921\"]]}],\"contourcarpet\":[{\"type\":\"contourcarpet\",\"colorbar\":{\"outlinewidth\":0,\"ticks\":\"\"}}],\"contour\":[{\"type\":\"contour\",\"colorbar\":{\"outlinewidth\":0,\"ticks\":\"\"},\"colorscale\":[[0.0,\"#0d0887\"],[0.1111111111111111,\"#46039f\"],[0.2222222222222222,\"#7201a8\"],[0.3333333333333333,\"#9c179e\"],[0.4444444444444444,\"#bd3786\"],[0.5555555555555556,\"#d8576b\"],[0.6666666666666666,\"#ed7953\"],[0.7777777777777778,\"#fb9f3a\"],[0.8888888888888888,\"#fdca26\"],[1.0,\"#f0f921\"]]}],\"surface\":[{\"type\":\"surface\",\"colorbar\":{\"outlinewidth\":0,\"ticks\":\"\"},\"colorscale\":[[0.0,\"#0d0887\"],[0.1111111111111111,\"#46039f\"],[0.2222222222222222,\"#7201a8\"],[0.3333333333333333,\"#9c179e\"],[0.4444444444444444,\"#bd3786\"],[0.5555555555555556,\"#d8576b\"],[0.6666666666666666,\"#ed7953\"],[0.7777777777777778,\"#fb9f3a\"],[0.8888888888888888,\"#fdca26\"],[1.0,\"#f0f921\"]]}],\"mesh3d\":[{\"type\":\"mesh3d\",\"colorbar\":{\"outlinewidth\":0,\"ticks\":\"\"}}],\"scatter\":[{\"fillpattern\":{\"fillmode\":\"overlay\",\"size\":10,\"solidity\":0.2},\"type\":\"scatter\"}],\"parcoords\":[{\"type\":\"parcoords\",\"line\":{\"colorbar\":{\"outlinewidth\":0,\"ticks\":\"\"}}}],\"scatterpolargl\":[{\"type\":\"scatterpolargl\",\"marker\":{\"colorbar\":{\"outlinewidth\":0,\"ticks\":\"\"}}}],\"bar\":[{\"error_x\":{\"color\":\"#2a3f5f\"},\"error_y\":{\"color\":\"#2a3f5f\"},\"marker\":{\"line\":{\"color\":\"#E5ECF6\",\"width\":0.5},\"pattern\":{\"fillmode\":\"overlay\",\"size\":10,\"solidity\":0.2}},\"type\":\"bar\"}],\"scattergeo\":[{\"type\":\"scattergeo\",\"marker\":{\"colorbar\":{\"outlinewidth\":0,\"ticks\":\"\"}}}],\"scatterpolar\":[{\"type\":\"scatterpolar\",\"marker\":{\"colorbar\":{\"outlinewidth\":0,\"ticks\":\"\"}}}],\"histogram\":[{\"marker\":{\"pattern\":{\"fillmode\":\"overlay\",\"size\":10,\"solidity\":0.2}},\"type\":\"histogram\"}],\"scattergl\":[{\"type\":\"scattergl\",\"marker\":{\"colorbar\":{\"outlinewidth\":0,\"ticks\":\"\"}}}],\"scatter3d\":[{\"type\":\"scatter3d\",\"line\":{\"colorbar\":{\"outlinewidth\":0,\"ticks\":\"\"}},\"marker\":{\"colorbar\":{\"outlinewidth\":0,\"ticks\":\"\"}}}],\"scattermapbox\":[{\"type\":\"scattermapbox\",\"marker\":{\"colorbar\":{\"outlinewidth\":0,\"ticks\":\"\"}}}],\"scatterternary\":[{\"type\":\"scatterternary\",\"marker\":{\"colorbar\":{\"outlinewidth\":0,\"ticks\":\"\"}}}],\"scattercarpet\":[{\"type\":\"scattercarpet\",\"marker\":{\"colorbar\":{\"outlinewidth\":0,\"ticks\":\"\"}}}],\"carpet\":[{\"aaxis\":{\"endlinecolor\":\"#2a3f5f\",\"gridcolor\":\"white\",\"linecolor\":\"white\",\"minorgridcolor\":\"white\",\"startlinecolor\":\"#2a3f5f\"},\"baxis\":{\"endlinecolor\":\"#2a3f5f\",\"gridcolor\":\"white\",\"linecolor\":\"white\",\"minorgridcolor\":\"white\",\"startlinecolor\":\"#2a3f5f\"},\"type\":\"carpet\"}],\"table\":[{\"cells\":{\"fill\":{\"color\":\"#EBF0F8\"},\"line\":{\"color\":\"white\"}},\"header\":{\"fill\":{\"color\":\"#C8D4E3\"},\"line\":{\"color\":\"white\"}},\"type\":\"table\"}],\"barpolar\":[{\"marker\":{\"line\":{\"color\":\"#E5ECF6\",\"width\":0.5},\"pattern\":{\"fillmode\":\"overlay\",\"size\":10,\"solidity\":0.2}},\"type\":\"barpolar\"}],\"pie\":[{\"automargin\":true,\"type\":\"pie\"}]},\"layout\":{\"autotypenumbers\":\"strict\",\"colorway\":[\"#636efa\",\"#EF553B\",\"#00cc96\",\"#ab63fa\",\"#FFA15A\",\"#19d3f3\",\"#FF6692\",\"#B6E880\",\"#FF97FF\",\"#FECB52\"],\"font\":{\"color\":\"#2a3f5f\"},\"hovermode\":\"closest\",\"hoverlabel\":{\"align\":\"left\"},\"paper_bgcolor\":\"white\",\"plot_bgcolor\":\"#E5ECF6\",\"polar\":{\"bgcolor\":\"#E5ECF6\",\"angularaxis\":{\"gridcolor\":\"white\",\"linecolor\":\"white\",\"ticks\":\"\"},\"radialaxis\":{\"gridcolor\":\"white\",\"linecolor\":\"white\",\"ticks\":\"\"}},\"ternary\":{\"bgcolor\":\"#E5ECF6\",\"aaxis\":{\"gridcolor\":\"white\",\"linecolor\":\"white\",\"ticks\":\"\"},\"baxis\":{\"gridcolor\":\"white\",\"linecolor\":\"white\",\"ticks\":\"\"},\"caxis\":{\"gridcolor\":\"white\",\"linecolor\":\"white\",\"ticks\":\"\"}},\"coloraxis\":{\"colorbar\":{\"outlinewidth\":0,\"ticks\":\"\"}},\"colorscale\":{\"sequential\":[[0.0,\"#0d0887\"],[0.1111111111111111,\"#46039f\"],[0.2222222222222222,\"#7201a8\"],[0.3333333333333333,\"#9c179e\"],[0.4444444444444444,\"#bd3786\"],[0.5555555555555556,\"#d8576b\"],[0.6666666666666666,\"#ed7953\"],[0.7777777777777778,\"#fb9f3a\"],[0.8888888888888888,\"#fdca26\"],[1.0,\"#f0f921\"]],\"sequentialminus\":[[0.0,\"#0d0887\"],[0.1111111111111111,\"#46039f\"],[0.2222222222222222,\"#7201a8\"],[0.3333333333333333,\"#9c179e\"],[0.4444444444444444,\"#bd3786\"],[0.5555555555555556,\"#d8576b\"],[0.6666666666666666,\"#ed7953\"],[0.7777777777777778,\"#fb9f3a\"],[0.8888888888888888,\"#fdca26\"],[1.0,\"#f0f921\"]],\"diverging\":[[0,\"#8e0152\"],[0.1,\"#c51b7d\"],[0.2,\"#de77ae\"],[0.3,\"#f1b6da\"],[0.4,\"#fde0ef\"],[0.5,\"#f7f7f7\"],[0.6,\"#e6f5d0\"],[0.7,\"#b8e186\"],[0.8,\"#7fbc41\"],[0.9,\"#4d9221\"],[1,\"#276419\"]]},\"xaxis\":{\"gridcolor\":\"white\",\"linecolor\":\"white\",\"ticks\":\"\",\"title\":{\"standoff\":15},\"zerolinecolor\":\"white\",\"automargin\":true,\"zerolinewidth\":2},\"yaxis\":{\"gridcolor\":\"white\",\"linecolor\":\"white\",\"ticks\":\"\",\"title\":{\"standoff\":15},\"zerolinecolor\":\"white\",\"automargin\":true,\"zerolinewidth\":2},\"scene\":{\"xaxis\":{\"backgroundcolor\":\"#E5ECF6\",\"gridcolor\":\"white\",\"linecolor\":\"white\",\"showbackground\":true,\"ticks\":\"\",\"zerolinecolor\":\"white\",\"gridwidth\":2},\"yaxis\":{\"backgroundcolor\":\"#E5ECF6\",\"gridcolor\":\"white\",\"linecolor\":\"white\",\"showbackground\":true,\"ticks\":\"\",\"zerolinecolor\":\"white\",\"gridwidth\":2},\"zaxis\":{\"backgroundcolor\":\"#E5ECF6\",\"gridcolor\":\"white\",\"linecolor\":\"white\",\"showbackground\":true,\"ticks\":\"\",\"zerolinecolor\":\"white\",\"gridwidth\":2}},\"shapedefaults\":{\"line\":{\"color\":\"#2a3f5f\"}},\"annotationdefaults\":{\"arrowcolor\":\"#2a3f5f\",\"arrowhead\":0,\"arrowwidth\":1},\"geo\":{\"bgcolor\":\"white\",\"landcolor\":\"#E5ECF6\",\"subunitcolor\":\"white\",\"showland\":true,\"showlakes\":true,\"lakecolor\":\"white\"},\"title\":{\"x\":0.05},\"mapbox\":{\"style\":\"light\"}}},\"shapes\":[{\"line\":{\"color\":\"red\",\"width\":1},\"type\":\"line\",\"x0\":0,\"x1\":1,\"xref\":\"x domain\",\"y0\":100.78578820515864,\"y1\":100.78578820515864,\"yref\":\"y\"},{\"line\":{\"color\":\"green\",\"width\":1},\"type\":\"line\",\"x0\":12.966424062049061,\"x1\":12.966424062049061,\"xref\":\"x\",\"y0\":0,\"y1\":1,\"yref\":\"y domain\"},{\"line\":{\"color\":\"red\",\"width\":1},\"type\":\"line\",\"x0\":0,\"x1\":1,\"xref\":\"x domain\",\"y0\":8.055555555555555,\"y1\":8.055555555555555,\"yref\":\"y\"},{\"line\":{\"color\":\"green\",\"width\":1},\"type\":\"line\",\"x0\":7.843971911231067,\"x1\":7.843971911231067,\"xref\":\"x\",\"y0\":0,\"y1\":1,\"yref\":\"y domain\"}]},                        {\"responsive\": true}                    ).then(function(){\n                            \nvar gd = document.getElementById('d95c7d82-be63-48e3-88cd-e7e795ee4d35');\nvar x = new MutationObserver(function (mutations, observer) {{\n        var display = window.getComputedStyle(gd).display;\n        if (!display || display === 'none') {{\n            console.log([gd, 'removed!']);\n            Plotly.purge(gd);\n            observer.disconnect();\n        }}\n}});\n\n// Listen for the removal of the full notebook cells\nvar notebookContainer = gd.closest('#notebook-container');\nif (notebookContainer) {{\n    x.observe(notebookContainer, {childList: true});\n}}\n\n// Listen for the clearing of the current output cell\nvar outputEl = gd.closest('.output');\nif (outputEl) {{\n    x.observe(outputEl, {childList: true});\n}}\n\n                        })                };                });            </script>        </div>"
          },
          "metadata": {}
        },
        {
          "output_type": "display_data",
          "data": {
            "application/vnd.plotly.v1+json": {
              "data": [
                {
                  "hovertemplate": "color=Lahore Qalandars<br>x=%{x}<br>y=%{y}<extra></extra>",
                  "legendgroup": "Lahore Qalandars",
                  "marker": {
                    "color": "#636efa",
                    "symbol": "circle"
                  },
                  "mode": "markers",
                  "name": "Lahore Qalandars",
                  "orientation": "v",
                  "showlegend": true,
                  "x": [
                    7.166666666666666,
                    6.625,
                    9.583333333333334,
                    9.4,
                    6.5,
                    8.666666666666666,
                    6.25
                  ],
                  "xaxis": "x",
                  "y": [
                    5,
                    1,
                    5,
                    7,
                    11,
                    14,
                    10
                  ],
                  "yaxis": "y",
                  "type": "scatter"
                },
                {
                  "hovertemplate": "color=Quetta Gladiators<br>x=%{x}<br>y=%{y}<extra></extra>",
                  "legendgroup": "Quetta Gladiators",
                  "marker": {
                    "color": "#EF553B",
                    "symbol": "circle"
                  },
                  "mode": "markers",
                  "name": "Quetta Gladiators",
                  "orientation": "v",
                  "showlegend": true,
                  "x": [
                    9.4,
                    7.03030303030303,
                    7.466666666666667,
                    8.090909090909092,
                    8.722222222222221,
                    7.35,
                    6.625
                  ],
                  "xaxis": "x",
                  "y": [
                    6,
                    9,
                    7,
                    13,
                    6,
                    9,
                    8
                  ],
                  "yaxis": "y",
                  "type": "scatter"
                },
                {
                  "hovertemplate": "color=Peshawar Zalmi<br>x=%{x}<br>y=%{y}<extra></extra>",
                  "legendgroup": "Peshawar Zalmi",
                  "marker": {
                    "color": "#00cc96",
                    "symbol": "circle"
                  },
                  "mode": "markers",
                  "name": "Peshawar Zalmi",
                  "orientation": "v",
                  "showlegend": true,
                  "x": [
                    6.8,
                    10.5,
                    6.972972972972973,
                    12.625,
                    8.764705882352942,
                    6.6000000000000005,
                    7,
                    6.583333333333333,
                    6.363636363636363
                  ],
                  "xaxis": "x",
                  "y": [
                    7,
                    2,
                    13,
                    3,
                    8,
                    6,
                    2,
                    5,
                    16
                  ],
                  "yaxis": "y",
                  "type": "scatter"
                },
                {
                  "hovertemplate": "color=Karachi Kings<br>x=%{x}<br>y=%{y}<extra></extra>",
                  "legendgroup": "Karachi Kings",
                  "marker": {
                    "color": "#ab63fa",
                    "symbol": "circle"
                  },
                  "mode": "markers",
                  "name": "Karachi Kings",
                  "orientation": "v",
                  "showlegend": true,
                  "x": [
                    6.689655172413794,
                    7.648648648648649,
                    10.11111111111111,
                    7.454545454545455,
                    7.65625,
                    8.214285714285715,
                    7.653846153846154
                  ],
                  "xaxis": "x",
                  "y": [
                    8,
                    11,
                    0,
                    3,
                    16,
                    12,
                    9
                  ],
                  "yaxis": "y",
                  "type": "scatter"
                },
                {
                  "hovertemplate": "color=Islamabad United<br>x=%{x}<br>y=%{y}<extra></extra>",
                  "legendgroup": "Islamabad United",
                  "marker": {
                    "color": "#FFA15A",
                    "symbol": "circle"
                  },
                  "mode": "markers",
                  "name": "Islamabad United",
                  "orientation": "v",
                  "showlegend": true,
                  "x": [
                    7.533333333333333,
                    6.757575757575758,
                    5.857142857142858,
                    9.130434782608697,
                    9.666666666666668,
                    6.923076923076923
                  ],
                  "xaxis": "x",
                  "y": [
                    8,
                    13,
                    13,
                    12,
                    3,
                    9
                  ],
                  "yaxis": "y",
                  "type": "scatter"
                }
              ],
              "layout": {
                "template": {
                  "data": {
                    "histogram2dcontour": [
                      {
                        "type": "histogram2dcontour",
                        "colorbar": {
                          "outlinewidth": 0,
                          "ticks": ""
                        },
                        "colorscale": [
                          [
                            0,
                            "#0d0887"
                          ],
                          [
                            0.1111111111111111,
                            "#46039f"
                          ],
                          [
                            0.2222222222222222,
                            "#7201a8"
                          ],
                          [
                            0.3333333333333333,
                            "#9c179e"
                          ],
                          [
                            0.4444444444444444,
                            "#bd3786"
                          ],
                          [
                            0.5555555555555556,
                            "#d8576b"
                          ],
                          [
                            0.6666666666666666,
                            "#ed7953"
                          ],
                          [
                            0.7777777777777778,
                            "#fb9f3a"
                          ],
                          [
                            0.8888888888888888,
                            "#fdca26"
                          ],
                          [
                            1,
                            "#f0f921"
                          ]
                        ]
                      }
                    ],
                    "choropleth": [
                      {
                        "type": "choropleth",
                        "colorbar": {
                          "outlinewidth": 0,
                          "ticks": ""
                        }
                      }
                    ],
                    "histogram2d": [
                      {
                        "type": "histogram2d",
                        "colorbar": {
                          "outlinewidth": 0,
                          "ticks": ""
                        },
                        "colorscale": [
                          [
                            0,
                            "#0d0887"
                          ],
                          [
                            0.1111111111111111,
                            "#46039f"
                          ],
                          [
                            0.2222222222222222,
                            "#7201a8"
                          ],
                          [
                            0.3333333333333333,
                            "#9c179e"
                          ],
                          [
                            0.4444444444444444,
                            "#bd3786"
                          ],
                          [
                            0.5555555555555556,
                            "#d8576b"
                          ],
                          [
                            0.6666666666666666,
                            "#ed7953"
                          ],
                          [
                            0.7777777777777778,
                            "#fb9f3a"
                          ],
                          [
                            0.8888888888888888,
                            "#fdca26"
                          ],
                          [
                            1,
                            "#f0f921"
                          ]
                        ]
                      }
                    ],
                    "heatmap": [
                      {
                        "type": "heatmap",
                        "colorbar": {
                          "outlinewidth": 0,
                          "ticks": ""
                        },
                        "colorscale": [
                          [
                            0,
                            "#0d0887"
                          ],
                          [
                            0.1111111111111111,
                            "#46039f"
                          ],
                          [
                            0.2222222222222222,
                            "#7201a8"
                          ],
                          [
                            0.3333333333333333,
                            "#9c179e"
                          ],
                          [
                            0.4444444444444444,
                            "#bd3786"
                          ],
                          [
                            0.5555555555555556,
                            "#d8576b"
                          ],
                          [
                            0.6666666666666666,
                            "#ed7953"
                          ],
                          [
                            0.7777777777777778,
                            "#fb9f3a"
                          ],
                          [
                            0.8888888888888888,
                            "#fdca26"
                          ],
                          [
                            1,
                            "#f0f921"
                          ]
                        ]
                      }
                    ],
                    "heatmapgl": [
                      {
                        "type": "heatmapgl",
                        "colorbar": {
                          "outlinewidth": 0,
                          "ticks": ""
                        },
                        "colorscale": [
                          [
                            0,
                            "#0d0887"
                          ],
                          [
                            0.1111111111111111,
                            "#46039f"
                          ],
                          [
                            0.2222222222222222,
                            "#7201a8"
                          ],
                          [
                            0.3333333333333333,
                            "#9c179e"
                          ],
                          [
                            0.4444444444444444,
                            "#bd3786"
                          ],
                          [
                            0.5555555555555556,
                            "#d8576b"
                          ],
                          [
                            0.6666666666666666,
                            "#ed7953"
                          ],
                          [
                            0.7777777777777778,
                            "#fb9f3a"
                          ],
                          [
                            0.8888888888888888,
                            "#fdca26"
                          ],
                          [
                            1,
                            "#f0f921"
                          ]
                        ]
                      }
                    ],
                    "contourcarpet": [
                      {
                        "type": "contourcarpet",
                        "colorbar": {
                          "outlinewidth": 0,
                          "ticks": ""
                        }
                      }
                    ],
                    "contour": [
                      {
                        "type": "contour",
                        "colorbar": {
                          "outlinewidth": 0,
                          "ticks": ""
                        },
                        "colorscale": [
                          [
                            0,
                            "#0d0887"
                          ],
                          [
                            0.1111111111111111,
                            "#46039f"
                          ],
                          [
                            0.2222222222222222,
                            "#7201a8"
                          ],
                          [
                            0.3333333333333333,
                            "#9c179e"
                          ],
                          [
                            0.4444444444444444,
                            "#bd3786"
                          ],
                          [
                            0.5555555555555556,
                            "#d8576b"
                          ],
                          [
                            0.6666666666666666,
                            "#ed7953"
                          ],
                          [
                            0.7777777777777778,
                            "#fb9f3a"
                          ],
                          [
                            0.8888888888888888,
                            "#fdca26"
                          ],
                          [
                            1,
                            "#f0f921"
                          ]
                        ]
                      }
                    ],
                    "surface": [
                      {
                        "type": "surface",
                        "colorbar": {
                          "outlinewidth": 0,
                          "ticks": ""
                        },
                        "colorscale": [
                          [
                            0,
                            "#0d0887"
                          ],
                          [
                            0.1111111111111111,
                            "#46039f"
                          ],
                          [
                            0.2222222222222222,
                            "#7201a8"
                          ],
                          [
                            0.3333333333333333,
                            "#9c179e"
                          ],
                          [
                            0.4444444444444444,
                            "#bd3786"
                          ],
                          [
                            0.5555555555555556,
                            "#d8576b"
                          ],
                          [
                            0.6666666666666666,
                            "#ed7953"
                          ],
                          [
                            0.7777777777777778,
                            "#fb9f3a"
                          ],
                          [
                            0.8888888888888888,
                            "#fdca26"
                          ],
                          [
                            1,
                            "#f0f921"
                          ]
                        ]
                      }
                    ],
                    "mesh3d": [
                      {
                        "type": "mesh3d",
                        "colorbar": {
                          "outlinewidth": 0,
                          "ticks": ""
                        }
                      }
                    ],
                    "scatter": [
                      {
                        "fillpattern": {
                          "fillmode": "overlay",
                          "size": 10,
                          "solidity": 0.2
                        },
                        "type": "scatter"
                      }
                    ],
                    "parcoords": [
                      {
                        "type": "parcoords",
                        "line": {
                          "colorbar": {
                            "outlinewidth": 0,
                            "ticks": ""
                          }
                        }
                      }
                    ],
                    "scatterpolargl": [
                      {
                        "type": "scatterpolargl",
                        "marker": {
                          "colorbar": {
                            "outlinewidth": 0,
                            "ticks": ""
                          }
                        }
                      }
                    ],
                    "bar": [
                      {
                        "error_x": {
                          "color": "#2a3f5f"
                        },
                        "error_y": {
                          "color": "#2a3f5f"
                        },
                        "marker": {
                          "line": {
                            "color": "#E5ECF6",
                            "width": 0.5
                          },
                          "pattern": {
                            "fillmode": "overlay",
                            "size": 10,
                            "solidity": 0.2
                          }
                        },
                        "type": "bar"
                      }
                    ],
                    "scattergeo": [
                      {
                        "type": "scattergeo",
                        "marker": {
                          "colorbar": {
                            "outlinewidth": 0,
                            "ticks": ""
                          }
                        }
                      }
                    ],
                    "scatterpolar": [
                      {
                        "type": "scatterpolar",
                        "marker": {
                          "colorbar": {
                            "outlinewidth": 0,
                            "ticks": ""
                          }
                        }
                      }
                    ],
                    "histogram": [
                      {
                        "marker": {
                          "pattern": {
                            "fillmode": "overlay",
                            "size": 10,
                            "solidity": 0.2
                          }
                        },
                        "type": "histogram"
                      }
                    ],
                    "scattergl": [
                      {
                        "type": "scattergl",
                        "marker": {
                          "colorbar": {
                            "outlinewidth": 0,
                            "ticks": ""
                          }
                        }
                      }
                    ],
                    "scatter3d": [
                      {
                        "type": "scatter3d",
                        "line": {
                          "colorbar": {
                            "outlinewidth": 0,
                            "ticks": ""
                          }
                        },
                        "marker": {
                          "colorbar": {
                            "outlinewidth": 0,
                            "ticks": ""
                          }
                        }
                      }
                    ],
                    "scattermapbox": [
                      {
                        "type": "scattermapbox",
                        "marker": {
                          "colorbar": {
                            "outlinewidth": 0,
                            "ticks": ""
                          }
                        }
                      }
                    ],
                    "scatterternary": [
                      {
                        "type": "scatterternary",
                        "marker": {
                          "colorbar": {
                            "outlinewidth": 0,
                            "ticks": ""
                          }
                        }
                      }
                    ],
                    "scattercarpet": [
                      {
                        "type": "scattercarpet",
                        "marker": {
                          "colorbar": {
                            "outlinewidth": 0,
                            "ticks": ""
                          }
                        }
                      }
                    ],
                    "carpet": [
                      {
                        "aaxis": {
                          "endlinecolor": "#2a3f5f",
                          "gridcolor": "white",
                          "linecolor": "white",
                          "minorgridcolor": "white",
                          "startlinecolor": "#2a3f5f"
                        },
                        "baxis": {
                          "endlinecolor": "#2a3f5f",
                          "gridcolor": "white",
                          "linecolor": "white",
                          "minorgridcolor": "white",
                          "startlinecolor": "#2a3f5f"
                        },
                        "type": "carpet"
                      }
                    ],
                    "table": [
                      {
                        "cells": {
                          "fill": {
                            "color": "#EBF0F8"
                          },
                          "line": {
                            "color": "white"
                          }
                        },
                        "header": {
                          "fill": {
                            "color": "#C8D4E3"
                          },
                          "line": {
                            "color": "white"
                          }
                        },
                        "type": "table"
                      }
                    ],
                    "barpolar": [
                      {
                        "marker": {
                          "line": {
                            "color": "#E5ECF6",
                            "width": 0.5
                          },
                          "pattern": {
                            "fillmode": "overlay",
                            "size": 10,
                            "solidity": 0.2
                          }
                        },
                        "type": "barpolar"
                      }
                    ],
                    "pie": [
                      {
                        "automargin": true,
                        "type": "pie"
                      }
                    ]
                  },
                  "layout": {
                    "autotypenumbers": "strict",
                    "colorway": [
                      "#636efa",
                      "#EF553B",
                      "#00cc96",
                      "#ab63fa",
                      "#FFA15A",
                      "#19d3f3",
                      "#FF6692",
                      "#B6E880",
                      "#FF97FF",
                      "#FECB52"
                    ],
                    "font": {
                      "color": "#2a3f5f"
                    },
                    "hovermode": "closest",
                    "hoverlabel": {
                      "align": "left"
                    },
                    "paper_bgcolor": "white",
                    "plot_bgcolor": "#E5ECF6",
                    "polar": {
                      "bgcolor": "#E5ECF6",
                      "angularaxis": {
                        "gridcolor": "white",
                        "linecolor": "white",
                        "ticks": ""
                      },
                      "radialaxis": {
                        "gridcolor": "white",
                        "linecolor": "white",
                        "ticks": ""
                      }
                    },
                    "ternary": {
                      "bgcolor": "#E5ECF6",
                      "aaxis": {
                        "gridcolor": "white",
                        "linecolor": "white",
                        "ticks": ""
                      },
                      "baxis": {
                        "gridcolor": "white",
                        "linecolor": "white",
                        "ticks": ""
                      },
                      "caxis": {
                        "gridcolor": "white",
                        "linecolor": "white",
                        "ticks": ""
                      }
                    },
                    "coloraxis": {
                      "colorbar": {
                        "outlinewidth": 0,
                        "ticks": ""
                      }
                    },
                    "colorscale": {
                      "sequential": [
                        [
                          0,
                          "#0d0887"
                        ],
                        [
                          0.1111111111111111,
                          "#46039f"
                        ],
                        [
                          0.2222222222222222,
                          "#7201a8"
                        ],
                        [
                          0.3333333333333333,
                          "#9c179e"
                        ],
                        [
                          0.4444444444444444,
                          "#bd3786"
                        ],
                        [
                          0.5555555555555556,
                          "#d8576b"
                        ],
                        [
                          0.6666666666666666,
                          "#ed7953"
                        ],
                        [
                          0.7777777777777778,
                          "#fb9f3a"
                        ],
                        [
                          0.8888888888888888,
                          "#fdca26"
                        ],
                        [
                          1,
                          "#f0f921"
                        ]
                      ],
                      "sequentialminus": [
                        [
                          0,
                          "#0d0887"
                        ],
                        [
                          0.1111111111111111,
                          "#46039f"
                        ],
                        [
                          0.2222222222222222,
                          "#7201a8"
                        ],
                        [
                          0.3333333333333333,
                          "#9c179e"
                        ],
                        [
                          0.4444444444444444,
                          "#bd3786"
                        ],
                        [
                          0.5555555555555556,
                          "#d8576b"
                        ],
                        [
                          0.6666666666666666,
                          "#ed7953"
                        ],
                        [
                          0.7777777777777778,
                          "#fb9f3a"
                        ],
                        [
                          0.8888888888888888,
                          "#fdca26"
                        ],
                        [
                          1,
                          "#f0f921"
                        ]
                      ],
                      "diverging": [
                        [
                          0,
                          "#8e0152"
                        ],
                        [
                          0.1,
                          "#c51b7d"
                        ],
                        [
                          0.2,
                          "#de77ae"
                        ],
                        [
                          0.3,
                          "#f1b6da"
                        ],
                        [
                          0.4,
                          "#fde0ef"
                        ],
                        [
                          0.5,
                          "#f7f7f7"
                        ],
                        [
                          0.6,
                          "#e6f5d0"
                        ],
                        [
                          0.7,
                          "#b8e186"
                        ],
                        [
                          0.8,
                          "#7fbc41"
                        ],
                        [
                          0.9,
                          "#4d9221"
                        ],
                        [
                          1,
                          "#276419"
                        ]
                      ]
                    },
                    "xaxis": {
                      "gridcolor": "white",
                      "linecolor": "white",
                      "ticks": "",
                      "title": {
                        "standoff": 15
                      },
                      "zerolinecolor": "white",
                      "automargin": true,
                      "zerolinewidth": 2
                    },
                    "yaxis": {
                      "gridcolor": "white",
                      "linecolor": "white",
                      "ticks": "",
                      "title": {
                        "standoff": 15
                      },
                      "zerolinecolor": "white",
                      "automargin": true,
                      "zerolinewidth": 2
                    },
                    "scene": {
                      "xaxis": {
                        "backgroundcolor": "#E5ECF6",
                        "gridcolor": "white",
                        "linecolor": "white",
                        "showbackground": true,
                        "ticks": "",
                        "zerolinecolor": "white",
                        "gridwidth": 2
                      },
                      "yaxis": {
                        "backgroundcolor": "#E5ECF6",
                        "gridcolor": "white",
                        "linecolor": "white",
                        "showbackground": true,
                        "ticks": "",
                        "zerolinecolor": "white",
                        "gridwidth": 2
                      },
                      "zaxis": {
                        "backgroundcolor": "#E5ECF6",
                        "gridcolor": "white",
                        "linecolor": "white",
                        "showbackground": true,
                        "ticks": "",
                        "zerolinecolor": "white",
                        "gridwidth": 2
                      }
                    },
                    "shapedefaults": {
                      "line": {
                        "color": "#2a3f5f"
                      }
                    },
                    "annotationdefaults": {
                      "arrowcolor": "#2a3f5f",
                      "arrowhead": 0,
                      "arrowwidth": 1
                    },
                    "geo": {
                      "bgcolor": "white",
                      "landcolor": "#E5ECF6",
                      "subunitcolor": "white",
                      "showland": true,
                      "showlakes": true,
                      "lakecolor": "white"
                    },
                    "title": {
                      "x": 0.05
                    },
                    "mapbox": {
                      "style": "light"
                    }
                  }
                },
                "xaxis": {
                  "anchor": "y",
                  "domain": [
                    0,
                    1
                  ],
                  "title": {
                    "text": "x"
                  }
                },
                "yaxis": {
                  "anchor": "x",
                  "domain": [
                    0,
                    1
                  ],
                  "title": {
                    "text": "y"
                  }
                },
                "legend": {
                  "title": {
                    "text": "color"
                  },
                  "tracegroupgap": 0
                },
                "margin": {
                  "t": 60
                },
                "shapes": [
                  {
                    "line": {
                      "color": "red",
                      "width": 1
                    },
                    "type": "line",
                    "x0": 0,
                    "x1": 1,
                    "xref": "x domain",
                    "y0": 8.055555555555555,
                    "y1": 8.055555555555555,
                    "yref": "y"
                  },
                  {
                    "line": {
                      "color": "green",
                      "width": 1
                    },
                    "type": "line",
                    "x0": 7.843971911231067,
                    "x1": 7.843971911231067,
                    "xref": "x",
                    "y0": 0,
                    "y1": 1,
                    "yref": "y domain"
                  }
                ]
              },
              "config": {
                "plotlyServerURL": "https://plot.ly"
              }
            },
            "text/html": "<div>                            <div id=\"ec1099e5-297f-4a3d-b6a5-eadb7bbd4181\" class=\"plotly-graph-div\" style=\"height:525px; width:100%;\"></div>            <script type=\"text/javascript\">                require([\"plotly\"], function(Plotly) {                    window.PLOTLYENV=window.PLOTLYENV || {};                                    if (document.getElementById(\"ec1099e5-297f-4a3d-b6a5-eadb7bbd4181\")) {                    Plotly.newPlot(                        \"ec1099e5-297f-4a3d-b6a5-eadb7bbd4181\",                        [{\"hovertemplate\":\"color=Lahore Qalandars<br>x=%{x}<br>y=%{y}<extra></extra>\",\"legendgroup\":\"Lahore Qalandars\",\"marker\":{\"color\":\"#636efa\",\"symbol\":\"circle\"},\"mode\":\"markers\",\"name\":\"Lahore Qalandars\",\"orientation\":\"v\",\"showlegend\":true,\"x\":[7.166666666666666,6.625,9.583333333333334,9.4,6.5,8.666666666666666,6.25],\"xaxis\":\"x\",\"y\":[5,1,5,7,11,14,10],\"yaxis\":\"y\",\"type\":\"scatter\"},{\"hovertemplate\":\"color=Quetta Gladiators<br>x=%{x}<br>y=%{y}<extra></extra>\",\"legendgroup\":\"Quetta Gladiators\",\"marker\":{\"color\":\"#EF553B\",\"symbol\":\"circle\"},\"mode\":\"markers\",\"name\":\"Quetta Gladiators\",\"orientation\":\"v\",\"showlegend\":true,\"x\":[9.4,7.03030303030303,7.466666666666667,8.090909090909092,8.722222222222221,7.35,6.625],\"xaxis\":\"x\",\"y\":[6,9,7,13,6,9,8],\"yaxis\":\"y\",\"type\":\"scatter\"},{\"hovertemplate\":\"color=Peshawar Zalmi<br>x=%{x}<br>y=%{y}<extra></extra>\",\"legendgroup\":\"Peshawar Zalmi\",\"marker\":{\"color\":\"#00cc96\",\"symbol\":\"circle\"},\"mode\":\"markers\",\"name\":\"Peshawar Zalmi\",\"orientation\":\"v\",\"showlegend\":true,\"x\":[6.8,10.5,6.972972972972973,12.625,8.764705882352942,6.6000000000000005,7.0,6.583333333333333,6.363636363636363],\"xaxis\":\"x\",\"y\":[7,2,13,3,8,6,2,5,16],\"yaxis\":\"y\",\"type\":\"scatter\"},{\"hovertemplate\":\"color=Karachi Kings<br>x=%{x}<br>y=%{y}<extra></extra>\",\"legendgroup\":\"Karachi Kings\",\"marker\":{\"color\":\"#ab63fa\",\"symbol\":\"circle\"},\"mode\":\"markers\",\"name\":\"Karachi Kings\",\"orientation\":\"v\",\"showlegend\":true,\"x\":[6.689655172413794,7.648648648648649,10.11111111111111,7.454545454545455,7.65625,8.214285714285715,7.653846153846154],\"xaxis\":\"x\",\"y\":[8,11,0,3,16,12,9],\"yaxis\":\"y\",\"type\":\"scatter\"},{\"hovertemplate\":\"color=Islamabad United<br>x=%{x}<br>y=%{y}<extra></extra>\",\"legendgroup\":\"Islamabad United\",\"marker\":{\"color\":\"#FFA15A\",\"symbol\":\"circle\"},\"mode\":\"markers\",\"name\":\"Islamabad United\",\"orientation\":\"v\",\"showlegend\":true,\"x\":[7.533333333333333,6.757575757575758,5.857142857142858,9.130434782608697,9.666666666666668,6.923076923076923],\"xaxis\":\"x\",\"y\":[8,13,13,12,3,9],\"yaxis\":\"y\",\"type\":\"scatter\"}],                        {\"template\":{\"data\":{\"histogram2dcontour\":[{\"type\":\"histogram2dcontour\",\"colorbar\":{\"outlinewidth\":0,\"ticks\":\"\"},\"colorscale\":[[0.0,\"#0d0887\"],[0.1111111111111111,\"#46039f\"],[0.2222222222222222,\"#7201a8\"],[0.3333333333333333,\"#9c179e\"],[0.4444444444444444,\"#bd3786\"],[0.5555555555555556,\"#d8576b\"],[0.6666666666666666,\"#ed7953\"],[0.7777777777777778,\"#fb9f3a\"],[0.8888888888888888,\"#fdca26\"],[1.0,\"#f0f921\"]]}],\"choropleth\":[{\"type\":\"choropleth\",\"colorbar\":{\"outlinewidth\":0,\"ticks\":\"\"}}],\"histogram2d\":[{\"type\":\"histogram2d\",\"colorbar\":{\"outlinewidth\":0,\"ticks\":\"\"},\"colorscale\":[[0.0,\"#0d0887\"],[0.1111111111111111,\"#46039f\"],[0.2222222222222222,\"#7201a8\"],[0.3333333333333333,\"#9c179e\"],[0.4444444444444444,\"#bd3786\"],[0.5555555555555556,\"#d8576b\"],[0.6666666666666666,\"#ed7953\"],[0.7777777777777778,\"#fb9f3a\"],[0.8888888888888888,\"#fdca26\"],[1.0,\"#f0f921\"]]}],\"heatmap\":[{\"type\":\"heatmap\",\"colorbar\":{\"outlinewidth\":0,\"ticks\":\"\"},\"colorscale\":[[0.0,\"#0d0887\"],[0.1111111111111111,\"#46039f\"],[0.2222222222222222,\"#7201a8\"],[0.3333333333333333,\"#9c179e\"],[0.4444444444444444,\"#bd3786\"],[0.5555555555555556,\"#d8576b\"],[0.6666666666666666,\"#ed7953\"],[0.7777777777777778,\"#fb9f3a\"],[0.8888888888888888,\"#fdca26\"],[1.0,\"#f0f921\"]]}],\"heatmapgl\":[{\"type\":\"heatmapgl\",\"colorbar\":{\"outlinewidth\":0,\"ticks\":\"\"},\"colorscale\":[[0.0,\"#0d0887\"],[0.1111111111111111,\"#46039f\"],[0.2222222222222222,\"#7201a8\"],[0.3333333333333333,\"#9c179e\"],[0.4444444444444444,\"#bd3786\"],[0.5555555555555556,\"#d8576b\"],[0.6666666666666666,\"#ed7953\"],[0.7777777777777778,\"#fb9f3a\"],[0.8888888888888888,\"#fdca26\"],[1.0,\"#f0f921\"]]}],\"contourcarpet\":[{\"type\":\"contourcarpet\",\"colorbar\":{\"outlinewidth\":0,\"ticks\":\"\"}}],\"contour\":[{\"type\":\"contour\",\"colorbar\":{\"outlinewidth\":0,\"ticks\":\"\"},\"colorscale\":[[0.0,\"#0d0887\"],[0.1111111111111111,\"#46039f\"],[0.2222222222222222,\"#7201a8\"],[0.3333333333333333,\"#9c179e\"],[0.4444444444444444,\"#bd3786\"],[0.5555555555555556,\"#d8576b\"],[0.6666666666666666,\"#ed7953\"],[0.7777777777777778,\"#fb9f3a\"],[0.8888888888888888,\"#fdca26\"],[1.0,\"#f0f921\"]]}],\"surface\":[{\"type\":\"surface\",\"colorbar\":{\"outlinewidth\":0,\"ticks\":\"\"},\"colorscale\":[[0.0,\"#0d0887\"],[0.1111111111111111,\"#46039f\"],[0.2222222222222222,\"#7201a8\"],[0.3333333333333333,\"#9c179e\"],[0.4444444444444444,\"#bd3786\"],[0.5555555555555556,\"#d8576b\"],[0.6666666666666666,\"#ed7953\"],[0.7777777777777778,\"#fb9f3a\"],[0.8888888888888888,\"#fdca26\"],[1.0,\"#f0f921\"]]}],\"mesh3d\":[{\"type\":\"mesh3d\",\"colorbar\":{\"outlinewidth\":0,\"ticks\":\"\"}}],\"scatter\":[{\"fillpattern\":{\"fillmode\":\"overlay\",\"size\":10,\"solidity\":0.2},\"type\":\"scatter\"}],\"parcoords\":[{\"type\":\"parcoords\",\"line\":{\"colorbar\":{\"outlinewidth\":0,\"ticks\":\"\"}}}],\"scatterpolargl\":[{\"type\":\"scatterpolargl\",\"marker\":{\"colorbar\":{\"outlinewidth\":0,\"ticks\":\"\"}}}],\"bar\":[{\"error_x\":{\"color\":\"#2a3f5f\"},\"error_y\":{\"color\":\"#2a3f5f\"},\"marker\":{\"line\":{\"color\":\"#E5ECF6\",\"width\":0.5},\"pattern\":{\"fillmode\":\"overlay\",\"size\":10,\"solidity\":0.2}},\"type\":\"bar\"}],\"scattergeo\":[{\"type\":\"scattergeo\",\"marker\":{\"colorbar\":{\"outlinewidth\":0,\"ticks\":\"\"}}}],\"scatterpolar\":[{\"type\":\"scatterpolar\",\"marker\":{\"colorbar\":{\"outlinewidth\":0,\"ticks\":\"\"}}}],\"histogram\":[{\"marker\":{\"pattern\":{\"fillmode\":\"overlay\",\"size\":10,\"solidity\":0.2}},\"type\":\"histogram\"}],\"scattergl\":[{\"type\":\"scattergl\",\"marker\":{\"colorbar\":{\"outlinewidth\":0,\"ticks\":\"\"}}}],\"scatter3d\":[{\"type\":\"scatter3d\",\"line\":{\"colorbar\":{\"outlinewidth\":0,\"ticks\":\"\"}},\"marker\":{\"colorbar\":{\"outlinewidth\":0,\"ticks\":\"\"}}}],\"scattermapbox\":[{\"type\":\"scattermapbox\",\"marker\":{\"colorbar\":{\"outlinewidth\":0,\"ticks\":\"\"}}}],\"scatterternary\":[{\"type\":\"scatterternary\",\"marker\":{\"colorbar\":{\"outlinewidth\":0,\"ticks\":\"\"}}}],\"scattercarpet\":[{\"type\":\"scattercarpet\",\"marker\":{\"colorbar\":{\"outlinewidth\":0,\"ticks\":\"\"}}}],\"carpet\":[{\"aaxis\":{\"endlinecolor\":\"#2a3f5f\",\"gridcolor\":\"white\",\"linecolor\":\"white\",\"minorgridcolor\":\"white\",\"startlinecolor\":\"#2a3f5f\"},\"baxis\":{\"endlinecolor\":\"#2a3f5f\",\"gridcolor\":\"white\",\"linecolor\":\"white\",\"minorgridcolor\":\"white\",\"startlinecolor\":\"#2a3f5f\"},\"type\":\"carpet\"}],\"table\":[{\"cells\":{\"fill\":{\"color\":\"#EBF0F8\"},\"line\":{\"color\":\"white\"}},\"header\":{\"fill\":{\"color\":\"#C8D4E3\"},\"line\":{\"color\":\"white\"}},\"type\":\"table\"}],\"barpolar\":[{\"marker\":{\"line\":{\"color\":\"#E5ECF6\",\"width\":0.5},\"pattern\":{\"fillmode\":\"overlay\",\"size\":10,\"solidity\":0.2}},\"type\":\"barpolar\"}],\"pie\":[{\"automargin\":true,\"type\":\"pie\"}]},\"layout\":{\"autotypenumbers\":\"strict\",\"colorway\":[\"#636efa\",\"#EF553B\",\"#00cc96\",\"#ab63fa\",\"#FFA15A\",\"#19d3f3\",\"#FF6692\",\"#B6E880\",\"#FF97FF\",\"#FECB52\"],\"font\":{\"color\":\"#2a3f5f\"},\"hovermode\":\"closest\",\"hoverlabel\":{\"align\":\"left\"},\"paper_bgcolor\":\"white\",\"plot_bgcolor\":\"#E5ECF6\",\"polar\":{\"bgcolor\":\"#E5ECF6\",\"angularaxis\":{\"gridcolor\":\"white\",\"linecolor\":\"white\",\"ticks\":\"\"},\"radialaxis\":{\"gridcolor\":\"white\",\"linecolor\":\"white\",\"ticks\":\"\"}},\"ternary\":{\"bgcolor\":\"#E5ECF6\",\"aaxis\":{\"gridcolor\":\"white\",\"linecolor\":\"white\",\"ticks\":\"\"},\"baxis\":{\"gridcolor\":\"white\",\"linecolor\":\"white\",\"ticks\":\"\"},\"caxis\":{\"gridcolor\":\"white\",\"linecolor\":\"white\",\"ticks\":\"\"}},\"coloraxis\":{\"colorbar\":{\"outlinewidth\":0,\"ticks\":\"\"}},\"colorscale\":{\"sequential\":[[0.0,\"#0d0887\"],[0.1111111111111111,\"#46039f\"],[0.2222222222222222,\"#7201a8\"],[0.3333333333333333,\"#9c179e\"],[0.4444444444444444,\"#bd3786\"],[0.5555555555555556,\"#d8576b\"],[0.6666666666666666,\"#ed7953\"],[0.7777777777777778,\"#fb9f3a\"],[0.8888888888888888,\"#fdca26\"],[1.0,\"#f0f921\"]],\"sequentialminus\":[[0.0,\"#0d0887\"],[0.1111111111111111,\"#46039f\"],[0.2222222222222222,\"#7201a8\"],[0.3333333333333333,\"#9c179e\"],[0.4444444444444444,\"#bd3786\"],[0.5555555555555556,\"#d8576b\"],[0.6666666666666666,\"#ed7953\"],[0.7777777777777778,\"#fb9f3a\"],[0.8888888888888888,\"#fdca26\"],[1.0,\"#f0f921\"]],\"diverging\":[[0,\"#8e0152\"],[0.1,\"#c51b7d\"],[0.2,\"#de77ae\"],[0.3,\"#f1b6da\"],[0.4,\"#fde0ef\"],[0.5,\"#f7f7f7\"],[0.6,\"#e6f5d0\"],[0.7,\"#b8e186\"],[0.8,\"#7fbc41\"],[0.9,\"#4d9221\"],[1,\"#276419\"]]},\"xaxis\":{\"gridcolor\":\"white\",\"linecolor\":\"white\",\"ticks\":\"\",\"title\":{\"standoff\":15},\"zerolinecolor\":\"white\",\"automargin\":true,\"zerolinewidth\":2},\"yaxis\":{\"gridcolor\":\"white\",\"linecolor\":\"white\",\"ticks\":\"\",\"title\":{\"standoff\":15},\"zerolinecolor\":\"white\",\"automargin\":true,\"zerolinewidth\":2},\"scene\":{\"xaxis\":{\"backgroundcolor\":\"#E5ECF6\",\"gridcolor\":\"white\",\"linecolor\":\"white\",\"showbackground\":true,\"ticks\":\"\",\"zerolinecolor\":\"white\",\"gridwidth\":2},\"yaxis\":{\"backgroundcolor\":\"#E5ECF6\",\"gridcolor\":\"white\",\"linecolor\":\"white\",\"showbackground\":true,\"ticks\":\"\",\"zerolinecolor\":\"white\",\"gridwidth\":2},\"zaxis\":{\"backgroundcolor\":\"#E5ECF6\",\"gridcolor\":\"white\",\"linecolor\":\"white\",\"showbackground\":true,\"ticks\":\"\",\"zerolinecolor\":\"white\",\"gridwidth\":2}},\"shapedefaults\":{\"line\":{\"color\":\"#2a3f5f\"}},\"annotationdefaults\":{\"arrowcolor\":\"#2a3f5f\",\"arrowhead\":0,\"arrowwidth\":1},\"geo\":{\"bgcolor\":\"white\",\"landcolor\":\"#E5ECF6\",\"subunitcolor\":\"white\",\"showland\":true,\"showlakes\":true,\"lakecolor\":\"white\"},\"title\":{\"x\":0.05},\"mapbox\":{\"style\":\"light\"}}},\"xaxis\":{\"anchor\":\"y\",\"domain\":[0.0,1.0],\"title\":{\"text\":\"x\"}},\"yaxis\":{\"anchor\":\"x\",\"domain\":[0.0,1.0],\"title\":{\"text\":\"y\"}},\"legend\":{\"title\":{\"text\":\"color\"},\"tracegroupgap\":0},\"margin\":{\"t\":60},\"shapes\":[{\"line\":{\"color\":\"red\",\"width\":1},\"type\":\"line\",\"x0\":0,\"x1\":1,\"xref\":\"x domain\",\"y0\":8.055555555555555,\"y1\":8.055555555555555,\"yref\":\"y\"},{\"line\":{\"color\":\"green\",\"width\":1},\"type\":\"line\",\"x0\":7.843971911231067,\"x1\":7.843971911231067,\"xref\":\"x\",\"y0\":0,\"y1\":1,\"yref\":\"y domain\"}]},                        {\"responsive\": true}                    ).then(function(){\n                            \nvar gd = document.getElementById('ec1099e5-297f-4a3d-b6a5-eadb7bbd4181');\nvar x = new MutationObserver(function (mutations, observer) {{\n        var display = window.getComputedStyle(gd).display;\n        if (!display || display === 'none') {{\n            console.log([gd, 'removed!']);\n            Plotly.purge(gd);\n            observer.disconnect();\n        }}\n}});\n\n// Listen for the removal of the full notebook cells\nvar notebookContainer = gd.closest('#notebook-container');\nif (notebookContainer) {{\n    x.observe(notebookContainer, {childList: true});\n}}\n\n// Listen for the clearing of the current output cell\nvar outputEl = gd.closest('.output');\nif (outputEl) {{\n    x.observe(outputEl, {childList: true});\n}}\n\n                        })                };                });            </script>        </div>"
          },
          "metadata": {}
        }
      ],
      "source": [
        "quadrant_chart(\n",
        "    x=df_bowler['Economy'],\n",
        "    y=df_bowler['wicket'],\n",
        "    team=df_bowler['Bowling_team'],\n",
        "    xtick_labels=['Low', 'High'],\n",
        "    ytick_labels=['Low', 'High'],\n",
        "    highlight_quadrants=[1]\n",
        ")"
      ]
    },
    {
      "cell_type": "code",
      "execution_count": 260,
      "metadata": {},
      "outputs": [
        {
          "output_type": "display_data",
          "data": {
            "application/vnd.plotly.v1+json": {
              "data": [
                {
                  "boxmean": "sd",
                  "boxpoints": "all",
                  "name": "Peshawar Zalmi",
                  "y": [
                    6.8,
                    10.5,
                    6.972972972972973,
                    12.625,
                    8.764705882352942,
                    6.6000000000000005,
                    7,
                    6.583333333333333,
                    6.363636363636363
                  ],
                  "type": "box"
                },
                {
                  "boxmean": "sd",
                  "boxpoints": "all",
                  "name": "Islamabad United",
                  "y": [
                    7.533333333333333,
                    6.757575757575758,
                    5.857142857142858,
                    9.130434782608697,
                    9.666666666666668,
                    6.923076923076923
                  ],
                  "type": "box"
                },
                {
                  "boxmean": "sd",
                  "boxpoints": "all",
                  "name": "Quetta Gladiators",
                  "y": [
                    9.4,
                    7.03030303030303,
                    7.466666666666667,
                    8.090909090909092,
                    8.722222222222221,
                    7.35,
                    6.625
                  ],
                  "type": "box"
                },
                {
                  "boxmean": "sd",
                  "boxpoints": "all",
                  "name": "Karachi Kings",
                  "y": [
                    6.689655172413794,
                    7.648648648648649,
                    10.11111111111111,
                    7.454545454545455,
                    7.65625,
                    8.214285714285715,
                    7.653846153846154
                  ],
                  "type": "box"
                },
                {
                  "boxmean": "sd",
                  "boxpoints": "all",
                  "name": "Lahore Qalandars",
                  "y": [
                    7.166666666666666,
                    6.625,
                    9.583333333333334,
                    9.4,
                    6.5,
                    8.666666666666666,
                    6.25
                  ],
                  "type": "box"
                }
              ],
              "layout": {
                "template": {
                  "data": {
                    "histogram2dcontour": [
                      {
                        "type": "histogram2dcontour",
                        "colorbar": {
                          "outlinewidth": 0,
                          "ticks": ""
                        },
                        "colorscale": [
                          [
                            0,
                            "#0d0887"
                          ],
                          [
                            0.1111111111111111,
                            "#46039f"
                          ],
                          [
                            0.2222222222222222,
                            "#7201a8"
                          ],
                          [
                            0.3333333333333333,
                            "#9c179e"
                          ],
                          [
                            0.4444444444444444,
                            "#bd3786"
                          ],
                          [
                            0.5555555555555556,
                            "#d8576b"
                          ],
                          [
                            0.6666666666666666,
                            "#ed7953"
                          ],
                          [
                            0.7777777777777778,
                            "#fb9f3a"
                          ],
                          [
                            0.8888888888888888,
                            "#fdca26"
                          ],
                          [
                            1,
                            "#f0f921"
                          ]
                        ]
                      }
                    ],
                    "choropleth": [
                      {
                        "type": "choropleth",
                        "colorbar": {
                          "outlinewidth": 0,
                          "ticks": ""
                        }
                      }
                    ],
                    "histogram2d": [
                      {
                        "type": "histogram2d",
                        "colorbar": {
                          "outlinewidth": 0,
                          "ticks": ""
                        },
                        "colorscale": [
                          [
                            0,
                            "#0d0887"
                          ],
                          [
                            0.1111111111111111,
                            "#46039f"
                          ],
                          [
                            0.2222222222222222,
                            "#7201a8"
                          ],
                          [
                            0.3333333333333333,
                            "#9c179e"
                          ],
                          [
                            0.4444444444444444,
                            "#bd3786"
                          ],
                          [
                            0.5555555555555556,
                            "#d8576b"
                          ],
                          [
                            0.6666666666666666,
                            "#ed7953"
                          ],
                          [
                            0.7777777777777778,
                            "#fb9f3a"
                          ],
                          [
                            0.8888888888888888,
                            "#fdca26"
                          ],
                          [
                            1,
                            "#f0f921"
                          ]
                        ]
                      }
                    ],
                    "heatmap": [
                      {
                        "type": "heatmap",
                        "colorbar": {
                          "outlinewidth": 0,
                          "ticks": ""
                        },
                        "colorscale": [
                          [
                            0,
                            "#0d0887"
                          ],
                          [
                            0.1111111111111111,
                            "#46039f"
                          ],
                          [
                            0.2222222222222222,
                            "#7201a8"
                          ],
                          [
                            0.3333333333333333,
                            "#9c179e"
                          ],
                          [
                            0.4444444444444444,
                            "#bd3786"
                          ],
                          [
                            0.5555555555555556,
                            "#d8576b"
                          ],
                          [
                            0.6666666666666666,
                            "#ed7953"
                          ],
                          [
                            0.7777777777777778,
                            "#fb9f3a"
                          ],
                          [
                            0.8888888888888888,
                            "#fdca26"
                          ],
                          [
                            1,
                            "#f0f921"
                          ]
                        ]
                      }
                    ],
                    "heatmapgl": [
                      {
                        "type": "heatmapgl",
                        "colorbar": {
                          "outlinewidth": 0,
                          "ticks": ""
                        },
                        "colorscale": [
                          [
                            0,
                            "#0d0887"
                          ],
                          [
                            0.1111111111111111,
                            "#46039f"
                          ],
                          [
                            0.2222222222222222,
                            "#7201a8"
                          ],
                          [
                            0.3333333333333333,
                            "#9c179e"
                          ],
                          [
                            0.4444444444444444,
                            "#bd3786"
                          ],
                          [
                            0.5555555555555556,
                            "#d8576b"
                          ],
                          [
                            0.6666666666666666,
                            "#ed7953"
                          ],
                          [
                            0.7777777777777778,
                            "#fb9f3a"
                          ],
                          [
                            0.8888888888888888,
                            "#fdca26"
                          ],
                          [
                            1,
                            "#f0f921"
                          ]
                        ]
                      }
                    ],
                    "contourcarpet": [
                      {
                        "type": "contourcarpet",
                        "colorbar": {
                          "outlinewidth": 0,
                          "ticks": ""
                        }
                      }
                    ],
                    "contour": [
                      {
                        "type": "contour",
                        "colorbar": {
                          "outlinewidth": 0,
                          "ticks": ""
                        },
                        "colorscale": [
                          [
                            0,
                            "#0d0887"
                          ],
                          [
                            0.1111111111111111,
                            "#46039f"
                          ],
                          [
                            0.2222222222222222,
                            "#7201a8"
                          ],
                          [
                            0.3333333333333333,
                            "#9c179e"
                          ],
                          [
                            0.4444444444444444,
                            "#bd3786"
                          ],
                          [
                            0.5555555555555556,
                            "#d8576b"
                          ],
                          [
                            0.6666666666666666,
                            "#ed7953"
                          ],
                          [
                            0.7777777777777778,
                            "#fb9f3a"
                          ],
                          [
                            0.8888888888888888,
                            "#fdca26"
                          ],
                          [
                            1,
                            "#f0f921"
                          ]
                        ]
                      }
                    ],
                    "surface": [
                      {
                        "type": "surface",
                        "colorbar": {
                          "outlinewidth": 0,
                          "ticks": ""
                        },
                        "colorscale": [
                          [
                            0,
                            "#0d0887"
                          ],
                          [
                            0.1111111111111111,
                            "#46039f"
                          ],
                          [
                            0.2222222222222222,
                            "#7201a8"
                          ],
                          [
                            0.3333333333333333,
                            "#9c179e"
                          ],
                          [
                            0.4444444444444444,
                            "#bd3786"
                          ],
                          [
                            0.5555555555555556,
                            "#d8576b"
                          ],
                          [
                            0.6666666666666666,
                            "#ed7953"
                          ],
                          [
                            0.7777777777777778,
                            "#fb9f3a"
                          ],
                          [
                            0.8888888888888888,
                            "#fdca26"
                          ],
                          [
                            1,
                            "#f0f921"
                          ]
                        ]
                      }
                    ],
                    "mesh3d": [
                      {
                        "type": "mesh3d",
                        "colorbar": {
                          "outlinewidth": 0,
                          "ticks": ""
                        }
                      }
                    ],
                    "scatter": [
                      {
                        "fillpattern": {
                          "fillmode": "overlay",
                          "size": 10,
                          "solidity": 0.2
                        },
                        "type": "scatter"
                      }
                    ],
                    "parcoords": [
                      {
                        "type": "parcoords",
                        "line": {
                          "colorbar": {
                            "outlinewidth": 0,
                            "ticks": ""
                          }
                        }
                      }
                    ],
                    "scatterpolargl": [
                      {
                        "type": "scatterpolargl",
                        "marker": {
                          "colorbar": {
                            "outlinewidth": 0,
                            "ticks": ""
                          }
                        }
                      }
                    ],
                    "bar": [
                      {
                        "error_x": {
                          "color": "#2a3f5f"
                        },
                        "error_y": {
                          "color": "#2a3f5f"
                        },
                        "marker": {
                          "line": {
                            "color": "#E5ECF6",
                            "width": 0.5
                          },
                          "pattern": {
                            "fillmode": "overlay",
                            "size": 10,
                            "solidity": 0.2
                          }
                        },
                        "type": "bar"
                      }
                    ],
                    "scattergeo": [
                      {
                        "type": "scattergeo",
                        "marker": {
                          "colorbar": {
                            "outlinewidth": 0,
                            "ticks": ""
                          }
                        }
                      }
                    ],
                    "scatterpolar": [
                      {
                        "type": "scatterpolar",
                        "marker": {
                          "colorbar": {
                            "outlinewidth": 0,
                            "ticks": ""
                          }
                        }
                      }
                    ],
                    "histogram": [
                      {
                        "marker": {
                          "pattern": {
                            "fillmode": "overlay",
                            "size": 10,
                            "solidity": 0.2
                          }
                        },
                        "type": "histogram"
                      }
                    ],
                    "scattergl": [
                      {
                        "type": "scattergl",
                        "marker": {
                          "colorbar": {
                            "outlinewidth": 0,
                            "ticks": ""
                          }
                        }
                      }
                    ],
                    "scatter3d": [
                      {
                        "type": "scatter3d",
                        "line": {
                          "colorbar": {
                            "outlinewidth": 0,
                            "ticks": ""
                          }
                        },
                        "marker": {
                          "colorbar": {
                            "outlinewidth": 0,
                            "ticks": ""
                          }
                        }
                      }
                    ],
                    "scattermapbox": [
                      {
                        "type": "scattermapbox",
                        "marker": {
                          "colorbar": {
                            "outlinewidth": 0,
                            "ticks": ""
                          }
                        }
                      }
                    ],
                    "scatterternary": [
                      {
                        "type": "scatterternary",
                        "marker": {
                          "colorbar": {
                            "outlinewidth": 0,
                            "ticks": ""
                          }
                        }
                      }
                    ],
                    "scattercarpet": [
                      {
                        "type": "scattercarpet",
                        "marker": {
                          "colorbar": {
                            "outlinewidth": 0,
                            "ticks": ""
                          }
                        }
                      }
                    ],
                    "carpet": [
                      {
                        "aaxis": {
                          "endlinecolor": "#2a3f5f",
                          "gridcolor": "white",
                          "linecolor": "white",
                          "minorgridcolor": "white",
                          "startlinecolor": "#2a3f5f"
                        },
                        "baxis": {
                          "endlinecolor": "#2a3f5f",
                          "gridcolor": "white",
                          "linecolor": "white",
                          "minorgridcolor": "white",
                          "startlinecolor": "#2a3f5f"
                        },
                        "type": "carpet"
                      }
                    ],
                    "table": [
                      {
                        "cells": {
                          "fill": {
                            "color": "#EBF0F8"
                          },
                          "line": {
                            "color": "white"
                          }
                        },
                        "header": {
                          "fill": {
                            "color": "#C8D4E3"
                          },
                          "line": {
                            "color": "white"
                          }
                        },
                        "type": "table"
                      }
                    ],
                    "barpolar": [
                      {
                        "marker": {
                          "line": {
                            "color": "#E5ECF6",
                            "width": 0.5
                          },
                          "pattern": {
                            "fillmode": "overlay",
                            "size": 10,
                            "solidity": 0.2
                          }
                        },
                        "type": "barpolar"
                      }
                    ],
                    "pie": [
                      {
                        "automargin": true,
                        "type": "pie"
                      }
                    ]
                  },
                  "layout": {
                    "autotypenumbers": "strict",
                    "colorway": [
                      "#636efa",
                      "#EF553B",
                      "#00cc96",
                      "#ab63fa",
                      "#FFA15A",
                      "#19d3f3",
                      "#FF6692",
                      "#B6E880",
                      "#FF97FF",
                      "#FECB52"
                    ],
                    "font": {
                      "color": "#2a3f5f"
                    },
                    "hovermode": "closest",
                    "hoverlabel": {
                      "align": "left"
                    },
                    "paper_bgcolor": "white",
                    "plot_bgcolor": "#E5ECF6",
                    "polar": {
                      "bgcolor": "#E5ECF6",
                      "angularaxis": {
                        "gridcolor": "white",
                        "linecolor": "white",
                        "ticks": ""
                      },
                      "radialaxis": {
                        "gridcolor": "white",
                        "linecolor": "white",
                        "ticks": ""
                      }
                    },
                    "ternary": {
                      "bgcolor": "#E5ECF6",
                      "aaxis": {
                        "gridcolor": "white",
                        "linecolor": "white",
                        "ticks": ""
                      },
                      "baxis": {
                        "gridcolor": "white",
                        "linecolor": "white",
                        "ticks": ""
                      },
                      "caxis": {
                        "gridcolor": "white",
                        "linecolor": "white",
                        "ticks": ""
                      }
                    },
                    "coloraxis": {
                      "colorbar": {
                        "outlinewidth": 0,
                        "ticks": ""
                      }
                    },
                    "colorscale": {
                      "sequential": [
                        [
                          0,
                          "#0d0887"
                        ],
                        [
                          0.1111111111111111,
                          "#46039f"
                        ],
                        [
                          0.2222222222222222,
                          "#7201a8"
                        ],
                        [
                          0.3333333333333333,
                          "#9c179e"
                        ],
                        [
                          0.4444444444444444,
                          "#bd3786"
                        ],
                        [
                          0.5555555555555556,
                          "#d8576b"
                        ],
                        [
                          0.6666666666666666,
                          "#ed7953"
                        ],
                        [
                          0.7777777777777778,
                          "#fb9f3a"
                        ],
                        [
                          0.8888888888888888,
                          "#fdca26"
                        ],
                        [
                          1,
                          "#f0f921"
                        ]
                      ],
                      "sequentialminus": [
                        [
                          0,
                          "#0d0887"
                        ],
                        [
                          0.1111111111111111,
                          "#46039f"
                        ],
                        [
                          0.2222222222222222,
                          "#7201a8"
                        ],
                        [
                          0.3333333333333333,
                          "#9c179e"
                        ],
                        [
                          0.4444444444444444,
                          "#bd3786"
                        ],
                        [
                          0.5555555555555556,
                          "#d8576b"
                        ],
                        [
                          0.6666666666666666,
                          "#ed7953"
                        ],
                        [
                          0.7777777777777778,
                          "#fb9f3a"
                        ],
                        [
                          0.8888888888888888,
                          "#fdca26"
                        ],
                        [
                          1,
                          "#f0f921"
                        ]
                      ],
                      "diverging": [
                        [
                          0,
                          "#8e0152"
                        ],
                        [
                          0.1,
                          "#c51b7d"
                        ],
                        [
                          0.2,
                          "#de77ae"
                        ],
                        [
                          0.3,
                          "#f1b6da"
                        ],
                        [
                          0.4,
                          "#fde0ef"
                        ],
                        [
                          0.5,
                          "#f7f7f7"
                        ],
                        [
                          0.6,
                          "#e6f5d0"
                        ],
                        [
                          0.7,
                          "#b8e186"
                        ],
                        [
                          0.8,
                          "#7fbc41"
                        ],
                        [
                          0.9,
                          "#4d9221"
                        ],
                        [
                          1,
                          "#276419"
                        ]
                      ]
                    },
                    "xaxis": {
                      "gridcolor": "white",
                      "linecolor": "white",
                      "ticks": "",
                      "title": {
                        "standoff": 15
                      },
                      "zerolinecolor": "white",
                      "automargin": true,
                      "zerolinewidth": 2
                    },
                    "yaxis": {
                      "gridcolor": "white",
                      "linecolor": "white",
                      "ticks": "",
                      "title": {
                        "standoff": 15
                      },
                      "zerolinecolor": "white",
                      "automargin": true,
                      "zerolinewidth": 2
                    },
                    "scene": {
                      "xaxis": {
                        "backgroundcolor": "#E5ECF6",
                        "gridcolor": "white",
                        "linecolor": "white",
                        "showbackground": true,
                        "ticks": "",
                        "zerolinecolor": "white",
                        "gridwidth": 2
                      },
                      "yaxis": {
                        "backgroundcolor": "#E5ECF6",
                        "gridcolor": "white",
                        "linecolor": "white",
                        "showbackground": true,
                        "ticks": "",
                        "zerolinecolor": "white",
                        "gridwidth": 2
                      },
                      "zaxis": {
                        "backgroundcolor": "#E5ECF6",
                        "gridcolor": "white",
                        "linecolor": "white",
                        "showbackground": true,
                        "ticks": "",
                        "zerolinecolor": "white",
                        "gridwidth": 2
                      }
                    },
                    "shapedefaults": {
                      "line": {
                        "color": "#2a3f5f"
                      }
                    },
                    "annotationdefaults": {
                      "arrowcolor": "#2a3f5f",
                      "arrowhead": 0,
                      "arrowwidth": 1
                    },
                    "geo": {
                      "bgcolor": "white",
                      "landcolor": "#E5ECF6",
                      "subunitcolor": "white",
                      "showland": true,
                      "showlakes": true,
                      "lakecolor": "white"
                    },
                    "title": {
                      "x": 0.05
                    },
                    "mapbox": {
                      "style": "light"
                    }
                  }
                },
                "title": {
                  "text": "Bowler Economy distribution for each team"
                }
              },
              "config": {
                "plotlyServerURL": "https://plot.ly"
              }
            },
            "text/html": "<div>                            <div id=\"a2ec08bf-e91b-4dfc-af30-fee4b40b0091\" class=\"plotly-graph-div\" style=\"height:525px; width:100%;\"></div>            <script type=\"text/javascript\">                require([\"plotly\"], function(Plotly) {                    window.PLOTLYENV=window.PLOTLYENV || {};                                    if (document.getElementById(\"a2ec08bf-e91b-4dfc-af30-fee4b40b0091\")) {                    Plotly.newPlot(                        \"a2ec08bf-e91b-4dfc-af30-fee4b40b0091\",                        [{\"boxmean\":\"sd\",\"boxpoints\":\"all\",\"name\":\"Peshawar Zalmi\",\"y\":[6.8,10.5,6.972972972972973,12.625,8.764705882352942,6.6000000000000005,7.0,6.583333333333333,6.363636363636363],\"type\":\"box\"},{\"boxmean\":\"sd\",\"boxpoints\":\"all\",\"name\":\"Islamabad United\",\"y\":[7.533333333333333,6.757575757575758,5.857142857142858,9.130434782608697,9.666666666666668,6.923076923076923],\"type\":\"box\"},{\"boxmean\":\"sd\",\"boxpoints\":\"all\",\"name\":\"Quetta Gladiators\",\"y\":[9.4,7.03030303030303,7.466666666666667,8.090909090909092,8.722222222222221,7.35,6.625],\"type\":\"box\"},{\"boxmean\":\"sd\",\"boxpoints\":\"all\",\"name\":\"Karachi Kings\",\"y\":[6.689655172413794,7.648648648648649,10.11111111111111,7.454545454545455,7.65625,8.214285714285715,7.653846153846154],\"type\":\"box\"},{\"boxmean\":\"sd\",\"boxpoints\":\"all\",\"name\":\"Lahore Qalandars\",\"y\":[7.166666666666666,6.625,9.583333333333334,9.4,6.5,8.666666666666666,6.25],\"type\":\"box\"}],                        {\"template\":{\"data\":{\"histogram2dcontour\":[{\"type\":\"histogram2dcontour\",\"colorbar\":{\"outlinewidth\":0,\"ticks\":\"\"},\"colorscale\":[[0.0,\"#0d0887\"],[0.1111111111111111,\"#46039f\"],[0.2222222222222222,\"#7201a8\"],[0.3333333333333333,\"#9c179e\"],[0.4444444444444444,\"#bd3786\"],[0.5555555555555556,\"#d8576b\"],[0.6666666666666666,\"#ed7953\"],[0.7777777777777778,\"#fb9f3a\"],[0.8888888888888888,\"#fdca26\"],[1.0,\"#f0f921\"]]}],\"choropleth\":[{\"type\":\"choropleth\",\"colorbar\":{\"outlinewidth\":0,\"ticks\":\"\"}}],\"histogram2d\":[{\"type\":\"histogram2d\",\"colorbar\":{\"outlinewidth\":0,\"ticks\":\"\"},\"colorscale\":[[0.0,\"#0d0887\"],[0.1111111111111111,\"#46039f\"],[0.2222222222222222,\"#7201a8\"],[0.3333333333333333,\"#9c179e\"],[0.4444444444444444,\"#bd3786\"],[0.5555555555555556,\"#d8576b\"],[0.6666666666666666,\"#ed7953\"],[0.7777777777777778,\"#fb9f3a\"],[0.8888888888888888,\"#fdca26\"],[1.0,\"#f0f921\"]]}],\"heatmap\":[{\"type\":\"heatmap\",\"colorbar\":{\"outlinewidth\":0,\"ticks\":\"\"},\"colorscale\":[[0.0,\"#0d0887\"],[0.1111111111111111,\"#46039f\"],[0.2222222222222222,\"#7201a8\"],[0.3333333333333333,\"#9c179e\"],[0.4444444444444444,\"#bd3786\"],[0.5555555555555556,\"#d8576b\"],[0.6666666666666666,\"#ed7953\"],[0.7777777777777778,\"#fb9f3a\"],[0.8888888888888888,\"#fdca26\"],[1.0,\"#f0f921\"]]}],\"heatmapgl\":[{\"type\":\"heatmapgl\",\"colorbar\":{\"outlinewidth\":0,\"ticks\":\"\"},\"colorscale\":[[0.0,\"#0d0887\"],[0.1111111111111111,\"#46039f\"],[0.2222222222222222,\"#7201a8\"],[0.3333333333333333,\"#9c179e\"],[0.4444444444444444,\"#bd3786\"],[0.5555555555555556,\"#d8576b\"],[0.6666666666666666,\"#ed7953\"],[0.7777777777777778,\"#fb9f3a\"],[0.8888888888888888,\"#fdca26\"],[1.0,\"#f0f921\"]]}],\"contourcarpet\":[{\"type\":\"contourcarpet\",\"colorbar\":{\"outlinewidth\":0,\"ticks\":\"\"}}],\"contour\":[{\"type\":\"contour\",\"colorbar\":{\"outlinewidth\":0,\"ticks\":\"\"},\"colorscale\":[[0.0,\"#0d0887\"],[0.1111111111111111,\"#46039f\"],[0.2222222222222222,\"#7201a8\"],[0.3333333333333333,\"#9c179e\"],[0.4444444444444444,\"#bd3786\"],[0.5555555555555556,\"#d8576b\"],[0.6666666666666666,\"#ed7953\"],[0.7777777777777778,\"#fb9f3a\"],[0.8888888888888888,\"#fdca26\"],[1.0,\"#f0f921\"]]}],\"surface\":[{\"type\":\"surface\",\"colorbar\":{\"outlinewidth\":0,\"ticks\":\"\"},\"colorscale\":[[0.0,\"#0d0887\"],[0.1111111111111111,\"#46039f\"],[0.2222222222222222,\"#7201a8\"],[0.3333333333333333,\"#9c179e\"],[0.4444444444444444,\"#bd3786\"],[0.5555555555555556,\"#d8576b\"],[0.6666666666666666,\"#ed7953\"],[0.7777777777777778,\"#fb9f3a\"],[0.8888888888888888,\"#fdca26\"],[1.0,\"#f0f921\"]]}],\"mesh3d\":[{\"type\":\"mesh3d\",\"colorbar\":{\"outlinewidth\":0,\"ticks\":\"\"}}],\"scatter\":[{\"fillpattern\":{\"fillmode\":\"overlay\",\"size\":10,\"solidity\":0.2},\"type\":\"scatter\"}],\"parcoords\":[{\"type\":\"parcoords\",\"line\":{\"colorbar\":{\"outlinewidth\":0,\"ticks\":\"\"}}}],\"scatterpolargl\":[{\"type\":\"scatterpolargl\",\"marker\":{\"colorbar\":{\"outlinewidth\":0,\"ticks\":\"\"}}}],\"bar\":[{\"error_x\":{\"color\":\"#2a3f5f\"},\"error_y\":{\"color\":\"#2a3f5f\"},\"marker\":{\"line\":{\"color\":\"#E5ECF6\",\"width\":0.5},\"pattern\":{\"fillmode\":\"overlay\",\"size\":10,\"solidity\":0.2}},\"type\":\"bar\"}],\"scattergeo\":[{\"type\":\"scattergeo\",\"marker\":{\"colorbar\":{\"outlinewidth\":0,\"ticks\":\"\"}}}],\"scatterpolar\":[{\"type\":\"scatterpolar\",\"marker\":{\"colorbar\":{\"outlinewidth\":0,\"ticks\":\"\"}}}],\"histogram\":[{\"marker\":{\"pattern\":{\"fillmode\":\"overlay\",\"size\":10,\"solidity\":0.2}},\"type\":\"histogram\"}],\"scattergl\":[{\"type\":\"scattergl\",\"marker\":{\"colorbar\":{\"outlinewidth\":0,\"ticks\":\"\"}}}],\"scatter3d\":[{\"type\":\"scatter3d\",\"line\":{\"colorbar\":{\"outlinewidth\":0,\"ticks\":\"\"}},\"marker\":{\"colorbar\":{\"outlinewidth\":0,\"ticks\":\"\"}}}],\"scattermapbox\":[{\"type\":\"scattermapbox\",\"marker\":{\"colorbar\":{\"outlinewidth\":0,\"ticks\":\"\"}}}],\"scatterternary\":[{\"type\":\"scatterternary\",\"marker\":{\"colorbar\":{\"outlinewidth\":0,\"ticks\":\"\"}}}],\"scattercarpet\":[{\"type\":\"scattercarpet\",\"marker\":{\"colorbar\":{\"outlinewidth\":0,\"ticks\":\"\"}}}],\"carpet\":[{\"aaxis\":{\"endlinecolor\":\"#2a3f5f\",\"gridcolor\":\"white\",\"linecolor\":\"white\",\"minorgridcolor\":\"white\",\"startlinecolor\":\"#2a3f5f\"},\"baxis\":{\"endlinecolor\":\"#2a3f5f\",\"gridcolor\":\"white\",\"linecolor\":\"white\",\"minorgridcolor\":\"white\",\"startlinecolor\":\"#2a3f5f\"},\"type\":\"carpet\"}],\"table\":[{\"cells\":{\"fill\":{\"color\":\"#EBF0F8\"},\"line\":{\"color\":\"white\"}},\"header\":{\"fill\":{\"color\":\"#C8D4E3\"},\"line\":{\"color\":\"white\"}},\"type\":\"table\"}],\"barpolar\":[{\"marker\":{\"line\":{\"color\":\"#E5ECF6\",\"width\":0.5},\"pattern\":{\"fillmode\":\"overlay\",\"size\":10,\"solidity\":0.2}},\"type\":\"barpolar\"}],\"pie\":[{\"automargin\":true,\"type\":\"pie\"}]},\"layout\":{\"autotypenumbers\":\"strict\",\"colorway\":[\"#636efa\",\"#EF553B\",\"#00cc96\",\"#ab63fa\",\"#FFA15A\",\"#19d3f3\",\"#FF6692\",\"#B6E880\",\"#FF97FF\",\"#FECB52\"],\"font\":{\"color\":\"#2a3f5f\"},\"hovermode\":\"closest\",\"hoverlabel\":{\"align\":\"left\"},\"paper_bgcolor\":\"white\",\"plot_bgcolor\":\"#E5ECF6\",\"polar\":{\"bgcolor\":\"#E5ECF6\",\"angularaxis\":{\"gridcolor\":\"white\",\"linecolor\":\"white\",\"ticks\":\"\"},\"radialaxis\":{\"gridcolor\":\"white\",\"linecolor\":\"white\",\"ticks\":\"\"}},\"ternary\":{\"bgcolor\":\"#E5ECF6\",\"aaxis\":{\"gridcolor\":\"white\",\"linecolor\":\"white\",\"ticks\":\"\"},\"baxis\":{\"gridcolor\":\"white\",\"linecolor\":\"white\",\"ticks\":\"\"},\"caxis\":{\"gridcolor\":\"white\",\"linecolor\":\"white\",\"ticks\":\"\"}},\"coloraxis\":{\"colorbar\":{\"outlinewidth\":0,\"ticks\":\"\"}},\"colorscale\":{\"sequential\":[[0.0,\"#0d0887\"],[0.1111111111111111,\"#46039f\"],[0.2222222222222222,\"#7201a8\"],[0.3333333333333333,\"#9c179e\"],[0.4444444444444444,\"#bd3786\"],[0.5555555555555556,\"#d8576b\"],[0.6666666666666666,\"#ed7953\"],[0.7777777777777778,\"#fb9f3a\"],[0.8888888888888888,\"#fdca26\"],[1.0,\"#f0f921\"]],\"sequentialminus\":[[0.0,\"#0d0887\"],[0.1111111111111111,\"#46039f\"],[0.2222222222222222,\"#7201a8\"],[0.3333333333333333,\"#9c179e\"],[0.4444444444444444,\"#bd3786\"],[0.5555555555555556,\"#d8576b\"],[0.6666666666666666,\"#ed7953\"],[0.7777777777777778,\"#fb9f3a\"],[0.8888888888888888,\"#fdca26\"],[1.0,\"#f0f921\"]],\"diverging\":[[0,\"#8e0152\"],[0.1,\"#c51b7d\"],[0.2,\"#de77ae\"],[0.3,\"#f1b6da\"],[0.4,\"#fde0ef\"],[0.5,\"#f7f7f7\"],[0.6,\"#e6f5d0\"],[0.7,\"#b8e186\"],[0.8,\"#7fbc41\"],[0.9,\"#4d9221\"],[1,\"#276419\"]]},\"xaxis\":{\"gridcolor\":\"white\",\"linecolor\":\"white\",\"ticks\":\"\",\"title\":{\"standoff\":15},\"zerolinecolor\":\"white\",\"automargin\":true,\"zerolinewidth\":2},\"yaxis\":{\"gridcolor\":\"white\",\"linecolor\":\"white\",\"ticks\":\"\",\"title\":{\"standoff\":15},\"zerolinecolor\":\"white\",\"automargin\":true,\"zerolinewidth\":2},\"scene\":{\"xaxis\":{\"backgroundcolor\":\"#E5ECF6\",\"gridcolor\":\"white\",\"linecolor\":\"white\",\"showbackground\":true,\"ticks\":\"\",\"zerolinecolor\":\"white\",\"gridwidth\":2},\"yaxis\":{\"backgroundcolor\":\"#E5ECF6\",\"gridcolor\":\"white\",\"linecolor\":\"white\",\"showbackground\":true,\"ticks\":\"\",\"zerolinecolor\":\"white\",\"gridwidth\":2},\"zaxis\":{\"backgroundcolor\":\"#E5ECF6\",\"gridcolor\":\"white\",\"linecolor\":\"white\",\"showbackground\":true,\"ticks\":\"\",\"zerolinecolor\":\"white\",\"gridwidth\":2}},\"shapedefaults\":{\"line\":{\"color\":\"#2a3f5f\"}},\"annotationdefaults\":{\"arrowcolor\":\"#2a3f5f\",\"arrowhead\":0,\"arrowwidth\":1},\"geo\":{\"bgcolor\":\"white\",\"landcolor\":\"#E5ECF6\",\"subunitcolor\":\"white\",\"showland\":true,\"showlakes\":true,\"lakecolor\":\"white\"},\"title\":{\"x\":0.05},\"mapbox\":{\"style\":\"light\"}}},\"title\":{\"text\":\"Bowler Economy distribution for each team\"}},                        {\"responsive\": true}                    ).then(function(){\n                            \nvar gd = document.getElementById('a2ec08bf-e91b-4dfc-af30-fee4b40b0091');\nvar x = new MutationObserver(function (mutations, observer) {{\n        var display = window.getComputedStyle(gd).display;\n        if (!display || display === 'none') {{\n            console.log([gd, 'removed!']);\n            Plotly.purge(gd);\n            observer.disconnect();\n        }}\n}});\n\n// Listen for the removal of the full notebook cells\nvar notebookContainer = gd.closest('#notebook-container');\nif (notebookContainer) {{\n    x.observe(notebookContainer, {childList: true});\n}}\n\n// Listen for the clearing of the current output cell\nvar outputEl = gd.closest('.output');\nif (outputEl) {{\n    x.observe(outputEl, {childList: true});\n}}\n\n                        })                };                });            </script>        </div>"
          },
          "metadata": {}
        }
      ],
      "source": [
        "#bowler box\n",
        "\n",
        "trace0 = go.Box(y = df_bowler.loc[df_bowler['Bowling_team'] == 'Peshawar Zalmi', 'Economy'], name = 'Peshawar Zalmi', boxmean = 'sd', boxpoints = 'all')\n",
        "trace1 = go.Box(y = df_bowler.loc[df_bowler['Bowling_team'] == 'Islamabad United', 'Economy'], name = 'Islamabad United', boxmean = 'sd', boxpoints = 'all')\n",
        "trace2 = go.Box(y = df_bowler.loc[df_bowler['Bowling_team'] == 'Quetta Gladiators', 'Economy'], name = 'Quetta Gladiators', boxmean = 'sd', boxpoints = 'all')\n",
        "trace3 = go.Box(y = df_bowler.loc[df_bowler['Bowling_team'] == 'Karachi Kings', 'Economy'], name = 'Karachi Kings' , boxmean = 'sd', boxpoints = 'all')\n",
        "trace4 = go.Box(y = df_bowler.loc[df_bowler['Bowling_team'] == 'Lahore Qalandars', 'Economy'], name = 'Lahore Qalandars' , boxmean = 'sd', boxpoints = 'all')\n",
        "\n",
        "data = [trace0, trace1, trace2, trace3, trace4]\n",
        "\n",
        "fig111 = go.Figure(data = data)\n",
        "fig111.layout.title = dict(text = \"Bowler Economy distribution for each team\" )\n",
        "fig111.show()\n",
        "\n",
        "##PESHAWAR ZALMI standout - 9 regular bowlwers, smallest median, 6 bowlers qith economy bteeer tahn 7\n",
        "##Lahore comes close with 3 bowlers alomst less than 7"
      ]
    },
    {
      "cell_type": "code",
      "execution_count": null,
      "metadata": {},
      "outputs": [],
      "source": [
        "# ##Setting up a ranking datafrane\n",
        "\n",
        "# dfscore = df_batAvg[['Batsman_strike', 'Batting_team','AvgRuns_match', 'Strike_rate', 'Var']].rename(columns = {'Batsman_strike': 'Player', 'Batting_team':'Team','Var': 'Bat_var'}).merge(df_bowler[['Bowler', 'Economy', 'AvgWicket','AvgDeliveries_bowled', 'Var', 'Bowling_team']].rename(columns = {'Bowler':'Player','Var':'Bowl_var','Bowling_team':'Team'}), on = ['Player','Team'], how = 'outer').fillna(value = 0)                                                                                                          \n",
        "\n",
        "\n",
        "##Player Ranking Metrics\n",
        "\n",
        "# f = 'Strike_rate'\n",
        "# g = 'AvgRuns_match'\n",
        "# h = 'AvgWicket'\n",
        "\n",
        "\n",
        "# Batsman = np.quantile(dfscore['AvgRuns_match'], 0.5)\n",
        "# Batvarmean = dfscore.loc[dfscore['AvgRuns_match'] >= Batsman, \"Bat_var\"].mean()\n",
        "\n",
        "\n",
        "# Bowlvarmean = dfscore.loc[dfscore['AvgDeliveries_bowled'] >= 0, \"Bowl_var\"].mean()\n",
        "\n",
        "# dfscore['BatVarRank'] = np.zeros(len(dfscore))\n",
        "\n",
        "# dfscore['BowlVarRank'] = np.zeros(len(dfscore))\n",
        "\n",
        "\n",
        "## foour quarters 0,1,2,3\n",
        "## should be based on np quartiles\n",
        "## lets make it if score is 0 then 0, less than 0.25:1 less than 0.5:2, 0.75:3 greater than 0.75:4\n",
        "\n",
        "##Awarding Average Runs\n",
        "# def greaterf(x):\n",
        "#         if x == 0:\n",
        "#             return 0\n",
        "#         if x >= 1.25 * dfscore[f].mean():\n",
        "#             return 3\n",
        "#         if x<= 0.75 *dfscore[f].mean():\n",
        "#             return  1\n",
        "#         else:\n",
        "#             return 2\n",
        "\n",
        "\n",
        "# def greaterg(x):\n",
        "#         if x == 0:\n",
        "#             return 0\n",
        "#         if x >= 1.25 * dfscore[g].mean():\n",
        "#             return 3\n",
        "#         if x<= 0.75 *dfscore[g].mean():\n",
        "#             return  1\n",
        "#         else:\n",
        "#             return 2\n",
        "\n",
        "# def greaterh(x):\n",
        "#         if x == 0:\n",
        "#             return 0\n",
        "#         if x >= 1.25 * dfscore[h].mean():\n",
        "#             return 3\n",
        "#         if x<= 0.75 *dfscore[h].mean():\n",
        "#             return  1\n",
        "#         else:\n",
        "#             return 2\n",
        "\n",
        "\n",
        "# dfscore[f + str('Rank')] = dfscore[f].map(lambda x: greaterf(x))    \n",
        "# dfscore[g + str('Rank')] = dfscore[g].map(lambda x: greaterg(x))\n",
        "# dfscore[h + str('Rank')] = dfscore[h].map(lambda x: greaterh(x))\n",
        "\n",
        "# def ecorank(x):\n",
        "#     if x == 0:\n",
        "#         return 0\n",
        "#     elif x >= 1.25 * dfscore.loc[dfscore['AvgDeliveries_bowled'] >= 0, \"Economy\"].mean():\n",
        "#         return 1\n",
        "#     elif x <= 0.75 * dfscore.loc[dfscore['AvgDeliveries_bowled'] >= 0, \"Economy\"].mean():\n",
        "#         return 3\n",
        "#     else:\n",
        "#         return 2\n",
        "    \n",
        "# dfscore['EconomyRank'] = dfscore['Economy'].map(lambda x: ecorank(x))\n",
        "\n",
        "\n",
        "# for i in range(len(dfscore)):\n",
        "#     if dfscore.iloc[i]['AvgRuns_match'] <= Batsman:\n",
        "#         dfscore['BatVarRank'].iloc[i] = 0\n",
        "#     elif dfscore['Bat_var'].iloc[i] >= (1.25 * Batvarmean):  \n",
        "#         dfscore['BatVarRank'].iloc[i] = 1\n",
        "#     elif dfscore.iloc[i]['Bat_var'] <= 0.75 * Bowlvarmean:\n",
        "#         dfscore['BatVarRank'].iloc[i] = 3\n",
        "#     else:\n",
        "#         dfscore['BatVarRank'].iloc[i] = 2\n",
        "        \n",
        "        \n",
        "        \n",
        "# for i in range(len(dfscore)):\n",
        "#     if dfscore.iloc[i]['AvgDeliveries_bowled'] == 0:\n",
        "#         dfscore['BowlVarRank'].iloc[i] = 0\n",
        "#     elif dfscore['Bowl_var'].iloc[i] >= (1.25 * Bowlvarmean):  \n",
        "#         dfscore['BowlVarRank'].iloc[i] = 1\n",
        "#     elif dfscore.iloc[i]['Bowl_var'] <= 0.75 * Bowlvarmean:\n",
        "#         dfscore['BowlVarRank'].iloc[i] = 3\n",
        "#     else:\n",
        "#         dfscore['BowlVarRank'].iloc[i] = 2\n",
        "\n",
        "\n",
        "\n",
        "# ##Creating PlayerScore column as the sum of all metrics\n",
        "\n",
        "# dfscore['PlayerScore'] = dfscore['AvgRuns_matchRank'] + dfscore['Strike_rateRank'] + dfscore['AvgWicketRank'] + dfscore['BatVarRank'] + dfscore['BowlVarRank'] + dfscore['EconomyRank']\n",
        "\n",
        "\n",
        "# ##Ranking levels\n",
        "\n",
        "# def mvprank(x):\n",
        "#     if x >= np.quantile(dfscore['PlayerScore'], 0.90):\n",
        "#         return 4\n",
        "#     elif x >= np.quantile(dfscore['PlayerScore'], 0.75):\n",
        "#             return 3\n",
        "#     elif x <= np.quantile(dfscore['PlayerScore'], 0.50):\n",
        "#             return 1\n",
        "#     else:\n",
        "#         return 2\n",
        "    \n",
        "# dfscore['PlayerRank'] = dfscore['PlayerScore'].map(lambda x: mvprank(x))\n",
        "# dfscore['MVP'] = np.zeros(len(dfscore))\n",
        "# dfscore.loc[dfscore['PlayerRank']==4,'MVP'] = 'MVP'\n",
        "# dfscore.loc[dfscore['PlayerRank']==3, 'MVP'] = 'VP'\n",
        "# dfscore.loc[dfscore['PlayerRank'] <3, 'MVP'] = 'Below Average'\n",
        "\n",
        "\n",
        "# ## Top 10 Players\n",
        "# dfscore.sort_values(by = 'PlayerScore', ascending = False).head(10)\n",
        "\n",
        "\n",
        "# #Boxplot\n",
        "\n",
        "\n",
        "# trace0 = go.Box(y = dfscore.loc[dfscore['Team'] == 'Peshawar Zalmi', 'PlayerScore'], name = 'Peshawar Zalmi', boxmean = 'sd', boxpoints = 'all')\n",
        "# trace1 = go.Box(y = dfscore.loc[dfscore['Team'] == 'Islamabad United', 'PlayerScore'], name = 'Islamabad United', boxmean = 'sd', boxpoints = 'all')\n",
        "# trace2 = go.Box(y = dfscore.loc[dfscore['Team'] == 'Quetta Gladiators', 'PlayerScore'], name = 'Quetta Gladiators', boxmean = 'sd', boxpoints = 'all')\n",
        "# trace3 = go.Box(y = dfscore.loc[dfscore['Team'] == 'Karachi Kings', 'PlayerScore'], name = 'Karachi Kings' , boxmean = 'sd', boxpoints = 'all')\n",
        "# trace4 = go.Box(y = dfscore.loc[dfscore['Team'] == 'Lahore Qalandars', 'PlayerScore'], name = 'Lahore Qalandars' , boxmean = 'sd', boxpoints = 'all')\n",
        "\n",
        "# data = [trace0, trace1, trace2, trace3, trace4]\n",
        "\n",
        "# fig111 = go.Figure(data = data)\n",
        "# fig111.layout.title = dict(text = \"Player Score distribution for each team\" )\n",
        "\n",
        "# plotly.offline.plot(fig111, include_plotlyjs = False, output_type = 'div')\n",
        "\n",
        "#histogram\n"
      ]
    },
    {
      "cell_type": "code",
      "execution_count": 405,
      "metadata": {},
      "outputs": [],
      "source": [
        "dfscore = df_batAvg[['Batsman_strike', 'Batting_team','TotalRuns','AvgRuns_match', 'Strike_rate', 'Var']].rename(columns = {'Batsman_strike': 'Player', 'Batting_team':'Team','Var': 'Bat_var'}).merge(df_bowler[['Bowler', 'Economy','wicket' ,'AvgWicket','AvgDeliveries_bowled', 'TotalDeliveries', 'Var', 'Bowling_team']].rename(columns = {'Bowler':'Player','Var':'Bowl_var','Bowling_team':'Team'}), on = ['Player','Team'], how = 'outer').fillna(value = 0)     \n",
        "\n",
        "# h = 'AvgWicket'\n",
        "metricsPostiveIncrement = ['Strike_rate', 'TotalRuns', 'wicket']\n",
        "metricsNegativeIncrement = ['Economy', 'Bat_var', 'Bowl_var']\n",
        "\n",
        "def awardingPositiveIncrement(i,x):\n",
        "        if x == 0:\n",
        "            return 0\n",
        "        if x <= np.quantile(dfscore[i],0.25):\n",
        "            return 1\n",
        "        if x<=  np.quantile(dfscore[i],0.5):\n",
        "            return  2\n",
        "        if x<=  np.quantile(dfscore[i],0.75):\n",
        "            return  3\n",
        "        else:\n",
        "            return 4\n",
        "\n",
        "def awardingNegativeIncrement(i,x):\n",
        "    if x == 0:\n",
        "        return 0\n",
        "    if x >=  1.5*dfscore[i].mean():\n",
        "        return 1\n",
        "    if ((x >=  dfscore[i].mean()) & (x < 1.5*dfscore[i].mean())):\n",
        "        return 2\n",
        "    if x <= 0.25*dfscore[i].mean():\n",
        "        return 4\n",
        "    else:\n",
        "        return  3\n",
        "\n",
        "def awardingMetric():\n",
        "    for i in metricsPostiveIncrement:\n",
        "            dfscore[i+'Rank'] = dfscore[i].map(lambda x: awardingPositiveIncrement(i, x)) \n",
        "    for i in metricsNegativeIncrement:\n",
        "            dfscore[i+'Rank'] = dfscore[i].map(lambda x: awardingNegativeIncrement(i , x)) \n",
        "    return dfscore \n",
        "\n",
        "\n",
        "\n",
        "##Awarding Average Runs\n",
        "# def greaterg(x):\n",
        "#         if x == 0:\n",
        "#             return 0\n",
        "#         if x =< 1.25 * dfscore[g].mean():\n",
        "#             return 3\n",
        "#         if x<= 0.75 *dfscore[g].mean():\n",
        "#             return  1\n",
        "#         else:\n",
        "#             return 2\n",
        "\n",
        "##Awarding Wickets\n",
        "# def greaterh(x):\n",
        "#       for i in Metric:\n",
        "#         if x == 0:\n",
        "#             return 0\n",
        "#         if x >= 1.25 * dfscore[h].mean():\n",
        "#             return 3\n",
        "#         if x<= 0.75 *dfscore[h].mean():\n",
        "#             return  1\n",
        "#         else:\n",
        "#             return 2\n",
        "\n",
        "\n",
        "#\n",
        "##awarding players\n",
        "# dfscore[Strike_rate + str('Rank')] = dfscore[Strike_rate].map(lambda x: awardingMetric(x))    \n",
        "# dfscore[TotalRuns + str('Rank')] = dfscore[TotalRuns].map(lambda x: awardingMetric(x))\n",
        "# dfscore[h + str('Rank')] = dfscore[h].map(lambda x: greaterh(x))\n",
        "\n",
        "\n"
      ]
    },
    {
      "cell_type": "code",
      "execution_count": 406,
      "metadata": {},
      "outputs": [
        {
          "output_type": "execute_result",
          "data": {
            "text/plain": [
              "             Player               Team  TotalRuns  AvgRuns_match  Strike_rate  \\\n",
              "0      Kamran Akmal     Peshawar Zalmi      353.0      32.090909   128.832117   \n",
              "1        Babar Azam      Karachi Kings      291.0      29.100000   109.811321   \n",
              "2          DR Smith   Islamabad United      274.0      30.444444   110.931174   \n",
              "3        RR Rossouw  Quetta Gladiators      255.0      31.875000   121.428571   \n",
              "4      KP Pietersen  Quetta Gladiators      241.0      34.428571   148.765432   \n",
              "..              ...                ...        ...            ...          ...   \n",
              "77       Usman Khan      Karachi Kings        0.0       0.000000     0.000000   \n",
              "78     Rumman Raees   Islamabad United        0.0       0.000000     0.000000   \n",
              "79   Mohammad Irfan   Islamabad United        0.0       0.000000     0.000000   \n",
              "80  Mohammad Asghar     Peshawar Zalmi        0.0       0.000000     0.000000   \n",
              "81      Saeed Ajmal   Islamabad United        0.0       0.000000     0.000000   \n",
              "\n",
              "        Bat_var   Economy  wicket  AvgWicket  AvgDeliveries_bowled  \\\n",
              "0   1343.890909  0.000000     0.0   0.000000              0.000000   \n",
              "1    387.877778  0.000000     0.0   0.000000              0.000000   \n",
              "2    579.277778  0.000000     0.0   0.000000              0.000000   \n",
              "3    632.125000  0.000000     0.0   0.000000              0.000000   \n",
              "4   1249.619048  0.000000     0.0   0.000000              0.000000   \n",
              "..          ...       ...     ...        ...                   ...   \n",
              "77     0.000000  7.653846     9.0   1.125000             20.250000   \n",
              "78     0.000000  5.857143    13.0   1.857143             23.000000   \n",
              "79     0.000000  7.533333     8.0   1.000000             22.875000   \n",
              "80     0.000000  8.764706     8.0   1.142857             14.714286   \n",
              "81     0.000000  9.666667     3.0   0.750000             17.750000   \n",
              "\n",
              "    TotalDeliveries    Bowl_var  Strike_rateRank  TotalRunsRank  wicketRank  \\\n",
              "0               0.0    0.000000                4              4           0   \n",
              "1               0.0    0.000000                3              4           0   \n",
              "2               0.0    0.000000                3              4           0   \n",
              "3               0.0    0.000000                3              4           0   \n",
              "4               0.0    0.000000                4              4           0   \n",
              "..              ...         ...              ...            ...         ...   \n",
              "77            162.0   82.982143                0              0           4   \n",
              "78            161.0   16.285714                0              0           4   \n",
              "79            183.0   73.071429                0              0           4   \n",
              "80            103.0   89.238095                0              0           4   \n",
              "81             71.0  200.666667                0              0           3   \n",
              "\n",
              "    EconomyRank  Bat_varRank  Bowl_varRank  \n",
              "0             0            1             0  \n",
              "1             0            1             0  \n",
              "2             0            1             0  \n",
              "3             0            1             0  \n",
              "4             0            1             0  \n",
              "..          ...          ...           ...  \n",
              "77            1            0             1  \n",
              "78            1            0             3  \n",
              "79            1            0             1  \n",
              "80            1            0             1  \n",
              "81            1            0             1  \n",
              "\n",
              "[82 rows x 18 columns]"
            ],
            "text/html": "<div>\n<style scoped>\n    .dataframe tbody tr th:only-of-type {\n        vertical-align: middle;\n    }\n\n    .dataframe tbody tr th {\n        vertical-align: top;\n    }\n\n    .dataframe thead th {\n        text-align: right;\n    }\n</style>\n<table border=\"1\" class=\"dataframe\">\n  <thead>\n    <tr style=\"text-align: right;\">\n      <th></th>\n      <th>Player</th>\n      <th>Team</th>\n      <th>TotalRuns</th>\n      <th>AvgRuns_match</th>\n      <th>Strike_rate</th>\n      <th>Bat_var</th>\n      <th>Economy</th>\n      <th>wicket</th>\n      <th>AvgWicket</th>\n      <th>AvgDeliveries_bowled</th>\n      <th>TotalDeliveries</th>\n      <th>Bowl_var</th>\n      <th>Strike_rateRank</th>\n      <th>TotalRunsRank</th>\n      <th>wicketRank</th>\n      <th>EconomyRank</th>\n      <th>Bat_varRank</th>\n      <th>Bowl_varRank</th>\n    </tr>\n  </thead>\n  <tbody>\n    <tr>\n      <th>0</th>\n      <td>Kamran Akmal</td>\n      <td>Peshawar Zalmi</td>\n      <td>353.0</td>\n      <td>32.090909</td>\n      <td>128.832117</td>\n      <td>1343.890909</td>\n      <td>0.000000</td>\n      <td>0.0</td>\n      <td>0.000000</td>\n      <td>0.000000</td>\n      <td>0.0</td>\n      <td>0.000000</td>\n      <td>4</td>\n      <td>4</td>\n      <td>0</td>\n      <td>0</td>\n      <td>1</td>\n      <td>0</td>\n    </tr>\n    <tr>\n      <th>1</th>\n      <td>Babar Azam</td>\n      <td>Karachi Kings</td>\n      <td>291.0</td>\n      <td>29.100000</td>\n      <td>109.811321</td>\n      <td>387.877778</td>\n      <td>0.000000</td>\n      <td>0.0</td>\n      <td>0.000000</td>\n      <td>0.000000</td>\n      <td>0.0</td>\n      <td>0.000000</td>\n      <td>3</td>\n      <td>4</td>\n      <td>0</td>\n      <td>0</td>\n      <td>1</td>\n      <td>0</td>\n    </tr>\n    <tr>\n      <th>2</th>\n      <td>DR Smith</td>\n      <td>Islamabad United</td>\n      <td>274.0</td>\n      <td>30.444444</td>\n      <td>110.931174</td>\n      <td>579.277778</td>\n      <td>0.000000</td>\n      <td>0.0</td>\n      <td>0.000000</td>\n      <td>0.000000</td>\n      <td>0.0</td>\n      <td>0.000000</td>\n      <td>3</td>\n      <td>4</td>\n      <td>0</td>\n      <td>0</td>\n      <td>1</td>\n      <td>0</td>\n    </tr>\n    <tr>\n      <th>3</th>\n      <td>RR Rossouw</td>\n      <td>Quetta Gladiators</td>\n      <td>255.0</td>\n      <td>31.875000</td>\n      <td>121.428571</td>\n      <td>632.125000</td>\n      <td>0.000000</td>\n      <td>0.0</td>\n      <td>0.000000</td>\n      <td>0.000000</td>\n      <td>0.0</td>\n      <td>0.000000</td>\n      <td>3</td>\n      <td>4</td>\n      <td>0</td>\n      <td>0</td>\n      <td>1</td>\n      <td>0</td>\n    </tr>\n    <tr>\n      <th>4</th>\n      <td>KP Pietersen</td>\n      <td>Quetta Gladiators</td>\n      <td>241.0</td>\n      <td>34.428571</td>\n      <td>148.765432</td>\n      <td>1249.619048</td>\n      <td>0.000000</td>\n      <td>0.0</td>\n      <td>0.000000</td>\n      <td>0.000000</td>\n      <td>0.0</td>\n      <td>0.000000</td>\n      <td>4</td>\n      <td>4</td>\n      <td>0</td>\n      <td>0</td>\n      <td>1</td>\n      <td>0</td>\n    </tr>\n    <tr>\n      <th>...</th>\n      <td>...</td>\n      <td>...</td>\n      <td>...</td>\n      <td>...</td>\n      <td>...</td>\n      <td>...</td>\n      <td>...</td>\n      <td>...</td>\n      <td>...</td>\n      <td>...</td>\n      <td>...</td>\n      <td>...</td>\n      <td>...</td>\n      <td>...</td>\n      <td>...</td>\n      <td>...</td>\n      <td>...</td>\n      <td>...</td>\n    </tr>\n    <tr>\n      <th>77</th>\n      <td>Usman Khan</td>\n      <td>Karachi Kings</td>\n      <td>0.0</td>\n      <td>0.000000</td>\n      <td>0.000000</td>\n      <td>0.000000</td>\n      <td>7.653846</td>\n      <td>9.0</td>\n      <td>1.125000</td>\n      <td>20.250000</td>\n      <td>162.0</td>\n      <td>82.982143</td>\n      <td>0</td>\n      <td>0</td>\n      <td>4</td>\n      <td>1</td>\n      <td>0</td>\n      <td>1</td>\n    </tr>\n    <tr>\n      <th>78</th>\n      <td>Rumman Raees</td>\n      <td>Islamabad United</td>\n      <td>0.0</td>\n      <td>0.000000</td>\n      <td>0.000000</td>\n      <td>0.000000</td>\n      <td>5.857143</td>\n      <td>13.0</td>\n      <td>1.857143</td>\n      <td>23.000000</td>\n      <td>161.0</td>\n      <td>16.285714</td>\n      <td>0</td>\n      <td>0</td>\n      <td>4</td>\n      <td>1</td>\n      <td>0</td>\n      <td>3</td>\n    </tr>\n    <tr>\n      <th>79</th>\n      <td>Mohammad Irfan</td>\n      <td>Islamabad United</td>\n      <td>0.0</td>\n      <td>0.000000</td>\n      <td>0.000000</td>\n      <td>0.000000</td>\n      <td>7.533333</td>\n      <td>8.0</td>\n      <td>1.000000</td>\n      <td>22.875000</td>\n      <td>183.0</td>\n      <td>73.071429</td>\n      <td>0</td>\n      <td>0</td>\n      <td>4</td>\n      <td>1</td>\n      <td>0</td>\n      <td>1</td>\n    </tr>\n    <tr>\n      <th>80</th>\n      <td>Mohammad Asghar</td>\n      <td>Peshawar Zalmi</td>\n      <td>0.0</td>\n      <td>0.000000</td>\n      <td>0.000000</td>\n      <td>0.000000</td>\n      <td>8.764706</td>\n      <td>8.0</td>\n      <td>1.142857</td>\n      <td>14.714286</td>\n      <td>103.0</td>\n      <td>89.238095</td>\n      <td>0</td>\n      <td>0</td>\n      <td>4</td>\n      <td>1</td>\n      <td>0</td>\n      <td>1</td>\n    </tr>\n    <tr>\n      <th>81</th>\n      <td>Saeed Ajmal</td>\n      <td>Islamabad United</td>\n      <td>0.0</td>\n      <td>0.000000</td>\n      <td>0.000000</td>\n      <td>0.000000</td>\n      <td>9.666667</td>\n      <td>3.0</td>\n      <td>0.750000</td>\n      <td>17.750000</td>\n      <td>71.0</td>\n      <td>200.666667</td>\n      <td>0</td>\n      <td>0</td>\n      <td>3</td>\n      <td>1</td>\n      <td>0</td>\n      <td>1</td>\n    </tr>\n  </tbody>\n</table>\n<p>82 rows × 18 columns</p>\n</div>"
          },
          "metadata": {},
          "execution_count": 406
        }
      ],
      "source": [
        "awardingMetric()"
      ]
    },
    {
      "cell_type": "code",
      "execution_count": 410,
      "metadata": {},
      "outputs": [
        {
          "output_type": "display_data",
          "data": {
            "application/vnd.plotly.v1+json": {
              "data": [
                {
                  "name": "Peshawar Zalmi",
                  "opacity": 0.75,
                  "x": [
                    9,
                    14,
                    9,
                    14,
                    6,
                    15,
                    6,
                    9,
                    15,
                    7,
                    7,
                    12,
                    13,
                    16,
                    6,
                    10,
                    2,
                    6
                  ],
                  "type": "histogram",
                  "xaxis": "x",
                  "yaxis": "y"
                },
                {
                  "name": "Karachi Kings",
                  "opacity": 0.75,
                  "x": [
                    8,
                    9,
                    13,
                    10,
                    9,
                    10,
                    18,
                    15,
                    8,
                    17,
                    5,
                    14,
                    6
                  ],
                  "type": "histogram",
                  "xaxis": "x3",
                  "yaxis": "y3"
                },
                {
                  "name": "Islamabad United",
                  "opacity": 0.75,
                  "x": [
                    8,
                    17,
                    8,
                    8,
                    8,
                    8,
                    16,
                    6,
                    10,
                    8,
                    7,
                    14,
                    2,
                    2,
                    3,
                    8,
                    6,
                    5
                  ],
                  "type": "histogram",
                  "xaxis": "x4",
                  "yaxis": "y4"
                },
                {
                  "name": "Quetta Gladiators",
                  "opacity": 0.75,
                  "x": [
                    8,
                    9,
                    9,
                    9,
                    7,
                    15,
                    14,
                    15,
                    14,
                    5,
                    13,
                    8,
                    6,
                    2,
                    2,
                    2,
                    12,
                    2,
                    14
                  ],
                  "type": "histogram",
                  "xaxis": "x5",
                  "yaxis": "y5"
                },
                {
                  "name": "Lahore Qalandars",
                  "opacity": 0.75,
                  "x": [
                    9,
                    9,
                    8,
                    8,
                    16,
                    9,
                    9,
                    14,
                    14,
                    11,
                    13,
                    11,
                    7,
                    3
                  ],
                  "type": "histogram",
                  "xaxis": "x6",
                  "yaxis": "y6"
                }
              ],
              "layout": {
                "template": {
                  "data": {
                    "histogram2dcontour": [
                      {
                        "type": "histogram2dcontour",
                        "colorbar": {
                          "outlinewidth": 0,
                          "ticks": ""
                        },
                        "colorscale": [
                          [
                            0,
                            "#0d0887"
                          ],
                          [
                            0.1111111111111111,
                            "#46039f"
                          ],
                          [
                            0.2222222222222222,
                            "#7201a8"
                          ],
                          [
                            0.3333333333333333,
                            "#9c179e"
                          ],
                          [
                            0.4444444444444444,
                            "#bd3786"
                          ],
                          [
                            0.5555555555555556,
                            "#d8576b"
                          ],
                          [
                            0.6666666666666666,
                            "#ed7953"
                          ],
                          [
                            0.7777777777777778,
                            "#fb9f3a"
                          ],
                          [
                            0.8888888888888888,
                            "#fdca26"
                          ],
                          [
                            1,
                            "#f0f921"
                          ]
                        ]
                      }
                    ],
                    "choropleth": [
                      {
                        "type": "choropleth",
                        "colorbar": {
                          "outlinewidth": 0,
                          "ticks": ""
                        }
                      }
                    ],
                    "histogram2d": [
                      {
                        "type": "histogram2d",
                        "colorbar": {
                          "outlinewidth": 0,
                          "ticks": ""
                        },
                        "colorscale": [
                          [
                            0,
                            "#0d0887"
                          ],
                          [
                            0.1111111111111111,
                            "#46039f"
                          ],
                          [
                            0.2222222222222222,
                            "#7201a8"
                          ],
                          [
                            0.3333333333333333,
                            "#9c179e"
                          ],
                          [
                            0.4444444444444444,
                            "#bd3786"
                          ],
                          [
                            0.5555555555555556,
                            "#d8576b"
                          ],
                          [
                            0.6666666666666666,
                            "#ed7953"
                          ],
                          [
                            0.7777777777777778,
                            "#fb9f3a"
                          ],
                          [
                            0.8888888888888888,
                            "#fdca26"
                          ],
                          [
                            1,
                            "#f0f921"
                          ]
                        ]
                      }
                    ],
                    "heatmap": [
                      {
                        "type": "heatmap",
                        "colorbar": {
                          "outlinewidth": 0,
                          "ticks": ""
                        },
                        "colorscale": [
                          [
                            0,
                            "#0d0887"
                          ],
                          [
                            0.1111111111111111,
                            "#46039f"
                          ],
                          [
                            0.2222222222222222,
                            "#7201a8"
                          ],
                          [
                            0.3333333333333333,
                            "#9c179e"
                          ],
                          [
                            0.4444444444444444,
                            "#bd3786"
                          ],
                          [
                            0.5555555555555556,
                            "#d8576b"
                          ],
                          [
                            0.6666666666666666,
                            "#ed7953"
                          ],
                          [
                            0.7777777777777778,
                            "#fb9f3a"
                          ],
                          [
                            0.8888888888888888,
                            "#fdca26"
                          ],
                          [
                            1,
                            "#f0f921"
                          ]
                        ]
                      }
                    ],
                    "heatmapgl": [
                      {
                        "type": "heatmapgl",
                        "colorbar": {
                          "outlinewidth": 0,
                          "ticks": ""
                        },
                        "colorscale": [
                          [
                            0,
                            "#0d0887"
                          ],
                          [
                            0.1111111111111111,
                            "#46039f"
                          ],
                          [
                            0.2222222222222222,
                            "#7201a8"
                          ],
                          [
                            0.3333333333333333,
                            "#9c179e"
                          ],
                          [
                            0.4444444444444444,
                            "#bd3786"
                          ],
                          [
                            0.5555555555555556,
                            "#d8576b"
                          ],
                          [
                            0.6666666666666666,
                            "#ed7953"
                          ],
                          [
                            0.7777777777777778,
                            "#fb9f3a"
                          ],
                          [
                            0.8888888888888888,
                            "#fdca26"
                          ],
                          [
                            1,
                            "#f0f921"
                          ]
                        ]
                      }
                    ],
                    "contourcarpet": [
                      {
                        "type": "contourcarpet",
                        "colorbar": {
                          "outlinewidth": 0,
                          "ticks": ""
                        }
                      }
                    ],
                    "contour": [
                      {
                        "type": "contour",
                        "colorbar": {
                          "outlinewidth": 0,
                          "ticks": ""
                        },
                        "colorscale": [
                          [
                            0,
                            "#0d0887"
                          ],
                          [
                            0.1111111111111111,
                            "#46039f"
                          ],
                          [
                            0.2222222222222222,
                            "#7201a8"
                          ],
                          [
                            0.3333333333333333,
                            "#9c179e"
                          ],
                          [
                            0.4444444444444444,
                            "#bd3786"
                          ],
                          [
                            0.5555555555555556,
                            "#d8576b"
                          ],
                          [
                            0.6666666666666666,
                            "#ed7953"
                          ],
                          [
                            0.7777777777777778,
                            "#fb9f3a"
                          ],
                          [
                            0.8888888888888888,
                            "#fdca26"
                          ],
                          [
                            1,
                            "#f0f921"
                          ]
                        ]
                      }
                    ],
                    "surface": [
                      {
                        "type": "surface",
                        "colorbar": {
                          "outlinewidth": 0,
                          "ticks": ""
                        },
                        "colorscale": [
                          [
                            0,
                            "#0d0887"
                          ],
                          [
                            0.1111111111111111,
                            "#46039f"
                          ],
                          [
                            0.2222222222222222,
                            "#7201a8"
                          ],
                          [
                            0.3333333333333333,
                            "#9c179e"
                          ],
                          [
                            0.4444444444444444,
                            "#bd3786"
                          ],
                          [
                            0.5555555555555556,
                            "#d8576b"
                          ],
                          [
                            0.6666666666666666,
                            "#ed7953"
                          ],
                          [
                            0.7777777777777778,
                            "#fb9f3a"
                          ],
                          [
                            0.8888888888888888,
                            "#fdca26"
                          ],
                          [
                            1,
                            "#f0f921"
                          ]
                        ]
                      }
                    ],
                    "mesh3d": [
                      {
                        "type": "mesh3d",
                        "colorbar": {
                          "outlinewidth": 0,
                          "ticks": ""
                        }
                      }
                    ],
                    "scatter": [
                      {
                        "fillpattern": {
                          "fillmode": "overlay",
                          "size": 10,
                          "solidity": 0.2
                        },
                        "type": "scatter"
                      }
                    ],
                    "parcoords": [
                      {
                        "type": "parcoords",
                        "line": {
                          "colorbar": {
                            "outlinewidth": 0,
                            "ticks": ""
                          }
                        }
                      }
                    ],
                    "scatterpolargl": [
                      {
                        "type": "scatterpolargl",
                        "marker": {
                          "colorbar": {
                            "outlinewidth": 0,
                            "ticks": ""
                          }
                        }
                      }
                    ],
                    "bar": [
                      {
                        "error_x": {
                          "color": "#2a3f5f"
                        },
                        "error_y": {
                          "color": "#2a3f5f"
                        },
                        "marker": {
                          "line": {
                            "color": "#E5ECF6",
                            "width": 0.5
                          },
                          "pattern": {
                            "fillmode": "overlay",
                            "size": 10,
                            "solidity": 0.2
                          }
                        },
                        "type": "bar"
                      }
                    ],
                    "scattergeo": [
                      {
                        "type": "scattergeo",
                        "marker": {
                          "colorbar": {
                            "outlinewidth": 0,
                            "ticks": ""
                          }
                        }
                      }
                    ],
                    "scatterpolar": [
                      {
                        "type": "scatterpolar",
                        "marker": {
                          "colorbar": {
                            "outlinewidth": 0,
                            "ticks": ""
                          }
                        }
                      }
                    ],
                    "histogram": [
                      {
                        "marker": {
                          "pattern": {
                            "fillmode": "overlay",
                            "size": 10,
                            "solidity": 0.2
                          }
                        },
                        "type": "histogram"
                      }
                    ],
                    "scattergl": [
                      {
                        "type": "scattergl",
                        "marker": {
                          "colorbar": {
                            "outlinewidth": 0,
                            "ticks": ""
                          }
                        }
                      }
                    ],
                    "scatter3d": [
                      {
                        "type": "scatter3d",
                        "line": {
                          "colorbar": {
                            "outlinewidth": 0,
                            "ticks": ""
                          }
                        },
                        "marker": {
                          "colorbar": {
                            "outlinewidth": 0,
                            "ticks": ""
                          }
                        }
                      }
                    ],
                    "scattermapbox": [
                      {
                        "type": "scattermapbox",
                        "marker": {
                          "colorbar": {
                            "outlinewidth": 0,
                            "ticks": ""
                          }
                        }
                      }
                    ],
                    "scatterternary": [
                      {
                        "type": "scatterternary",
                        "marker": {
                          "colorbar": {
                            "outlinewidth": 0,
                            "ticks": ""
                          }
                        }
                      }
                    ],
                    "scattercarpet": [
                      {
                        "type": "scattercarpet",
                        "marker": {
                          "colorbar": {
                            "outlinewidth": 0,
                            "ticks": ""
                          }
                        }
                      }
                    ],
                    "carpet": [
                      {
                        "aaxis": {
                          "endlinecolor": "#2a3f5f",
                          "gridcolor": "white",
                          "linecolor": "white",
                          "minorgridcolor": "white",
                          "startlinecolor": "#2a3f5f"
                        },
                        "baxis": {
                          "endlinecolor": "#2a3f5f",
                          "gridcolor": "white",
                          "linecolor": "white",
                          "minorgridcolor": "white",
                          "startlinecolor": "#2a3f5f"
                        },
                        "type": "carpet"
                      }
                    ],
                    "table": [
                      {
                        "cells": {
                          "fill": {
                            "color": "#EBF0F8"
                          },
                          "line": {
                            "color": "white"
                          }
                        },
                        "header": {
                          "fill": {
                            "color": "#C8D4E3"
                          },
                          "line": {
                            "color": "white"
                          }
                        },
                        "type": "table"
                      }
                    ],
                    "barpolar": [
                      {
                        "marker": {
                          "line": {
                            "color": "#E5ECF6",
                            "width": 0.5
                          },
                          "pattern": {
                            "fillmode": "overlay",
                            "size": 10,
                            "solidity": 0.2
                          }
                        },
                        "type": "barpolar"
                      }
                    ],
                    "pie": [
                      {
                        "automargin": true,
                        "type": "pie"
                      }
                    ]
                  },
                  "layout": {
                    "autotypenumbers": "strict",
                    "colorway": [
                      "#636efa",
                      "#EF553B",
                      "#00cc96",
                      "#ab63fa",
                      "#FFA15A",
                      "#19d3f3",
                      "#FF6692",
                      "#B6E880",
                      "#FF97FF",
                      "#FECB52"
                    ],
                    "font": {
                      "color": "#2a3f5f"
                    },
                    "hovermode": "closest",
                    "hoverlabel": {
                      "align": "left"
                    },
                    "paper_bgcolor": "white",
                    "plot_bgcolor": "#E5ECF6",
                    "polar": {
                      "bgcolor": "#E5ECF6",
                      "angularaxis": {
                        "gridcolor": "white",
                        "linecolor": "white",
                        "ticks": ""
                      },
                      "radialaxis": {
                        "gridcolor": "white",
                        "linecolor": "white",
                        "ticks": ""
                      }
                    },
                    "ternary": {
                      "bgcolor": "#E5ECF6",
                      "aaxis": {
                        "gridcolor": "white",
                        "linecolor": "white",
                        "ticks": ""
                      },
                      "baxis": {
                        "gridcolor": "white",
                        "linecolor": "white",
                        "ticks": ""
                      },
                      "caxis": {
                        "gridcolor": "white",
                        "linecolor": "white",
                        "ticks": ""
                      }
                    },
                    "coloraxis": {
                      "colorbar": {
                        "outlinewidth": 0,
                        "ticks": ""
                      }
                    },
                    "colorscale": {
                      "sequential": [
                        [
                          0,
                          "#0d0887"
                        ],
                        [
                          0.1111111111111111,
                          "#46039f"
                        ],
                        [
                          0.2222222222222222,
                          "#7201a8"
                        ],
                        [
                          0.3333333333333333,
                          "#9c179e"
                        ],
                        [
                          0.4444444444444444,
                          "#bd3786"
                        ],
                        [
                          0.5555555555555556,
                          "#d8576b"
                        ],
                        [
                          0.6666666666666666,
                          "#ed7953"
                        ],
                        [
                          0.7777777777777778,
                          "#fb9f3a"
                        ],
                        [
                          0.8888888888888888,
                          "#fdca26"
                        ],
                        [
                          1,
                          "#f0f921"
                        ]
                      ],
                      "sequentialminus": [
                        [
                          0,
                          "#0d0887"
                        ],
                        [
                          0.1111111111111111,
                          "#46039f"
                        ],
                        [
                          0.2222222222222222,
                          "#7201a8"
                        ],
                        [
                          0.3333333333333333,
                          "#9c179e"
                        ],
                        [
                          0.4444444444444444,
                          "#bd3786"
                        ],
                        [
                          0.5555555555555556,
                          "#d8576b"
                        ],
                        [
                          0.6666666666666666,
                          "#ed7953"
                        ],
                        [
                          0.7777777777777778,
                          "#fb9f3a"
                        ],
                        [
                          0.8888888888888888,
                          "#fdca26"
                        ],
                        [
                          1,
                          "#f0f921"
                        ]
                      ],
                      "diverging": [
                        [
                          0,
                          "#8e0152"
                        ],
                        [
                          0.1,
                          "#c51b7d"
                        ],
                        [
                          0.2,
                          "#de77ae"
                        ],
                        [
                          0.3,
                          "#f1b6da"
                        ],
                        [
                          0.4,
                          "#fde0ef"
                        ],
                        [
                          0.5,
                          "#f7f7f7"
                        ],
                        [
                          0.6,
                          "#e6f5d0"
                        ],
                        [
                          0.7,
                          "#b8e186"
                        ],
                        [
                          0.8,
                          "#7fbc41"
                        ],
                        [
                          0.9,
                          "#4d9221"
                        ],
                        [
                          1,
                          "#276419"
                        ]
                      ]
                    },
                    "xaxis": {
                      "gridcolor": "white",
                      "linecolor": "white",
                      "ticks": "",
                      "title": {
                        "standoff": 15
                      },
                      "zerolinecolor": "white",
                      "automargin": true,
                      "zerolinewidth": 2
                    },
                    "yaxis": {
                      "gridcolor": "white",
                      "linecolor": "white",
                      "ticks": "",
                      "title": {
                        "standoff": 15
                      },
                      "zerolinecolor": "white",
                      "automargin": true,
                      "zerolinewidth": 2
                    },
                    "scene": {
                      "xaxis": {
                        "backgroundcolor": "#E5ECF6",
                        "gridcolor": "white",
                        "linecolor": "white",
                        "showbackground": true,
                        "ticks": "",
                        "zerolinecolor": "white",
                        "gridwidth": 2
                      },
                      "yaxis": {
                        "backgroundcolor": "#E5ECF6",
                        "gridcolor": "white",
                        "linecolor": "white",
                        "showbackground": true,
                        "ticks": "",
                        "zerolinecolor": "white",
                        "gridwidth": 2
                      },
                      "zaxis": {
                        "backgroundcolor": "#E5ECF6",
                        "gridcolor": "white",
                        "linecolor": "white",
                        "showbackground": true,
                        "ticks": "",
                        "zerolinecolor": "white",
                        "gridwidth": 2
                      }
                    },
                    "shapedefaults": {
                      "line": {
                        "color": "#2a3f5f"
                      }
                    },
                    "annotationdefaults": {
                      "arrowcolor": "#2a3f5f",
                      "arrowhead": 0,
                      "arrowwidth": 1
                    },
                    "geo": {
                      "bgcolor": "white",
                      "landcolor": "#E5ECF6",
                      "subunitcolor": "white",
                      "showland": true,
                      "showlakes": true,
                      "lakecolor": "white"
                    },
                    "title": {
                      "x": 0.05
                    },
                    "mapbox": {
                      "style": "light"
                    }
                  }
                },
                "xaxis": {
                  "dtick": 10,
                  "tickmode": "linear"
                },
                "yaxis": {
                  "anchor": "x",
                  "domain": [
                    0.7333333333333333,
                    1
                  ]
                },
                "xaxis2": {
                  "anchor": "y2",
                  "domain": [
                    0.55,
                    1
                  ]
                },
                "yaxis2": {
                  "anchor": "x2",
                  "domain": [
                    0.7333333333333333,
                    1
                  ]
                },
                "xaxis3": {
                  "anchor": "y3",
                  "domain": [
                    0,
                    0.45
                  ]
                },
                "yaxis3": {
                  "anchor": "x3",
                  "domain": [
                    0.36666666666666664,
                    0.6333333333333333
                  ]
                },
                "xaxis4": {
                  "anchor": "y4",
                  "domain": [
                    0.55,
                    1
                  ]
                },
                "yaxis4": {
                  "anchor": "x4",
                  "domain": [
                    0.36666666666666664,
                    0.6333333333333333
                  ]
                },
                "xaxis5": {
                  "anchor": "y5",
                  "domain": [
                    0,
                    0.45
                  ]
                },
                "yaxis5": {
                  "anchor": "x5",
                  "domain": [
                    0,
                    0.26666666666666666
                  ]
                },
                "xaxis6": {
                  "anchor": "y6",
                  "domain": [
                    0.55,
                    1
                  ]
                },
                "yaxis6": {
                  "anchor": "x6",
                  "domain": [
                    0,
                    0.26666666666666666
                  ]
                },
                "title": {
                  "text": "Distribution of average batsman scores"
                }
              },
              "config": {
                "plotlyServerURL": "https://plot.ly"
              }
            },
            "text/html": "<div>                            <div id=\"f98bc0c2-acde-4056-a146-f5105d64259f\" class=\"plotly-graph-div\" style=\"height:525px; width:100%;\"></div>            <script type=\"text/javascript\">                require([\"plotly\"], function(Plotly) {                    window.PLOTLYENV=window.PLOTLYENV || {};                                    if (document.getElementById(\"f98bc0c2-acde-4056-a146-f5105d64259f\")) {                    Plotly.newPlot(                        \"f98bc0c2-acde-4056-a146-f5105d64259f\",                        [{\"name\":\"Peshawar Zalmi\",\"opacity\":0.75,\"x\":[9,14,9,14,6,15,6,9,15,7,7,12,13,16,6,10,2,6],\"type\":\"histogram\",\"xaxis\":\"x\",\"yaxis\":\"y\"},{\"name\":\"Karachi Kings\",\"opacity\":0.75,\"x\":[8,9,13,10,9,10,18,15,8,17,5,14,6],\"type\":\"histogram\",\"xaxis\":\"x3\",\"yaxis\":\"y3\"},{\"name\":\"Islamabad United\",\"opacity\":0.75,\"x\":[8,17,8,8,8,8,16,6,10,8,7,14,2,2,3,8,6,5],\"type\":\"histogram\",\"xaxis\":\"x4\",\"yaxis\":\"y4\"},{\"name\":\"Quetta Gladiators\",\"opacity\":0.75,\"x\":[8,9,9,9,7,15,14,15,14,5,13,8,6,2,2,2,12,2,14],\"type\":\"histogram\",\"xaxis\":\"x5\",\"yaxis\":\"y5\"},{\"name\":\"Lahore Qalandars\",\"opacity\":0.75,\"x\":[9,9,8,8,16,9,9,14,14,11,13,11,7,3],\"type\":\"histogram\",\"xaxis\":\"x6\",\"yaxis\":\"y6\"}],                        {\"template\":{\"data\":{\"histogram2dcontour\":[{\"type\":\"histogram2dcontour\",\"colorbar\":{\"outlinewidth\":0,\"ticks\":\"\"},\"colorscale\":[[0.0,\"#0d0887\"],[0.1111111111111111,\"#46039f\"],[0.2222222222222222,\"#7201a8\"],[0.3333333333333333,\"#9c179e\"],[0.4444444444444444,\"#bd3786\"],[0.5555555555555556,\"#d8576b\"],[0.6666666666666666,\"#ed7953\"],[0.7777777777777778,\"#fb9f3a\"],[0.8888888888888888,\"#fdca26\"],[1.0,\"#f0f921\"]]}],\"choropleth\":[{\"type\":\"choropleth\",\"colorbar\":{\"outlinewidth\":0,\"ticks\":\"\"}}],\"histogram2d\":[{\"type\":\"histogram2d\",\"colorbar\":{\"outlinewidth\":0,\"ticks\":\"\"},\"colorscale\":[[0.0,\"#0d0887\"],[0.1111111111111111,\"#46039f\"],[0.2222222222222222,\"#7201a8\"],[0.3333333333333333,\"#9c179e\"],[0.4444444444444444,\"#bd3786\"],[0.5555555555555556,\"#d8576b\"],[0.6666666666666666,\"#ed7953\"],[0.7777777777777778,\"#fb9f3a\"],[0.8888888888888888,\"#fdca26\"],[1.0,\"#f0f921\"]]}],\"heatmap\":[{\"type\":\"heatmap\",\"colorbar\":{\"outlinewidth\":0,\"ticks\":\"\"},\"colorscale\":[[0.0,\"#0d0887\"],[0.1111111111111111,\"#46039f\"],[0.2222222222222222,\"#7201a8\"],[0.3333333333333333,\"#9c179e\"],[0.4444444444444444,\"#bd3786\"],[0.5555555555555556,\"#d8576b\"],[0.6666666666666666,\"#ed7953\"],[0.7777777777777778,\"#fb9f3a\"],[0.8888888888888888,\"#fdca26\"],[1.0,\"#f0f921\"]]}],\"heatmapgl\":[{\"type\":\"heatmapgl\",\"colorbar\":{\"outlinewidth\":0,\"ticks\":\"\"},\"colorscale\":[[0.0,\"#0d0887\"],[0.1111111111111111,\"#46039f\"],[0.2222222222222222,\"#7201a8\"],[0.3333333333333333,\"#9c179e\"],[0.4444444444444444,\"#bd3786\"],[0.5555555555555556,\"#d8576b\"],[0.6666666666666666,\"#ed7953\"],[0.7777777777777778,\"#fb9f3a\"],[0.8888888888888888,\"#fdca26\"],[1.0,\"#f0f921\"]]}],\"contourcarpet\":[{\"type\":\"contourcarpet\",\"colorbar\":{\"outlinewidth\":0,\"ticks\":\"\"}}],\"contour\":[{\"type\":\"contour\",\"colorbar\":{\"outlinewidth\":0,\"ticks\":\"\"},\"colorscale\":[[0.0,\"#0d0887\"],[0.1111111111111111,\"#46039f\"],[0.2222222222222222,\"#7201a8\"],[0.3333333333333333,\"#9c179e\"],[0.4444444444444444,\"#bd3786\"],[0.5555555555555556,\"#d8576b\"],[0.6666666666666666,\"#ed7953\"],[0.7777777777777778,\"#fb9f3a\"],[0.8888888888888888,\"#fdca26\"],[1.0,\"#f0f921\"]]}],\"surface\":[{\"type\":\"surface\",\"colorbar\":{\"outlinewidth\":0,\"ticks\":\"\"},\"colorscale\":[[0.0,\"#0d0887\"],[0.1111111111111111,\"#46039f\"],[0.2222222222222222,\"#7201a8\"],[0.3333333333333333,\"#9c179e\"],[0.4444444444444444,\"#bd3786\"],[0.5555555555555556,\"#d8576b\"],[0.6666666666666666,\"#ed7953\"],[0.7777777777777778,\"#fb9f3a\"],[0.8888888888888888,\"#fdca26\"],[1.0,\"#f0f921\"]]}],\"mesh3d\":[{\"type\":\"mesh3d\",\"colorbar\":{\"outlinewidth\":0,\"ticks\":\"\"}}],\"scatter\":[{\"fillpattern\":{\"fillmode\":\"overlay\",\"size\":10,\"solidity\":0.2},\"type\":\"scatter\"}],\"parcoords\":[{\"type\":\"parcoords\",\"line\":{\"colorbar\":{\"outlinewidth\":0,\"ticks\":\"\"}}}],\"scatterpolargl\":[{\"type\":\"scatterpolargl\",\"marker\":{\"colorbar\":{\"outlinewidth\":0,\"ticks\":\"\"}}}],\"bar\":[{\"error_x\":{\"color\":\"#2a3f5f\"},\"error_y\":{\"color\":\"#2a3f5f\"},\"marker\":{\"line\":{\"color\":\"#E5ECF6\",\"width\":0.5},\"pattern\":{\"fillmode\":\"overlay\",\"size\":10,\"solidity\":0.2}},\"type\":\"bar\"}],\"scattergeo\":[{\"type\":\"scattergeo\",\"marker\":{\"colorbar\":{\"outlinewidth\":0,\"ticks\":\"\"}}}],\"scatterpolar\":[{\"type\":\"scatterpolar\",\"marker\":{\"colorbar\":{\"outlinewidth\":0,\"ticks\":\"\"}}}],\"histogram\":[{\"marker\":{\"pattern\":{\"fillmode\":\"overlay\",\"size\":10,\"solidity\":0.2}},\"type\":\"histogram\"}],\"scattergl\":[{\"type\":\"scattergl\",\"marker\":{\"colorbar\":{\"outlinewidth\":0,\"ticks\":\"\"}}}],\"scatter3d\":[{\"type\":\"scatter3d\",\"line\":{\"colorbar\":{\"outlinewidth\":0,\"ticks\":\"\"}},\"marker\":{\"colorbar\":{\"outlinewidth\":0,\"ticks\":\"\"}}}],\"scattermapbox\":[{\"type\":\"scattermapbox\",\"marker\":{\"colorbar\":{\"outlinewidth\":0,\"ticks\":\"\"}}}],\"scatterternary\":[{\"type\":\"scatterternary\",\"marker\":{\"colorbar\":{\"outlinewidth\":0,\"ticks\":\"\"}}}],\"scattercarpet\":[{\"type\":\"scattercarpet\",\"marker\":{\"colorbar\":{\"outlinewidth\":0,\"ticks\":\"\"}}}],\"carpet\":[{\"aaxis\":{\"endlinecolor\":\"#2a3f5f\",\"gridcolor\":\"white\",\"linecolor\":\"white\",\"minorgridcolor\":\"white\",\"startlinecolor\":\"#2a3f5f\"},\"baxis\":{\"endlinecolor\":\"#2a3f5f\",\"gridcolor\":\"white\",\"linecolor\":\"white\",\"minorgridcolor\":\"white\",\"startlinecolor\":\"#2a3f5f\"},\"type\":\"carpet\"}],\"table\":[{\"cells\":{\"fill\":{\"color\":\"#EBF0F8\"},\"line\":{\"color\":\"white\"}},\"header\":{\"fill\":{\"color\":\"#C8D4E3\"},\"line\":{\"color\":\"white\"}},\"type\":\"table\"}],\"barpolar\":[{\"marker\":{\"line\":{\"color\":\"#E5ECF6\",\"width\":0.5},\"pattern\":{\"fillmode\":\"overlay\",\"size\":10,\"solidity\":0.2}},\"type\":\"barpolar\"}],\"pie\":[{\"automargin\":true,\"type\":\"pie\"}]},\"layout\":{\"autotypenumbers\":\"strict\",\"colorway\":[\"#636efa\",\"#EF553B\",\"#00cc96\",\"#ab63fa\",\"#FFA15A\",\"#19d3f3\",\"#FF6692\",\"#B6E880\",\"#FF97FF\",\"#FECB52\"],\"font\":{\"color\":\"#2a3f5f\"},\"hovermode\":\"closest\",\"hoverlabel\":{\"align\":\"left\"},\"paper_bgcolor\":\"white\",\"plot_bgcolor\":\"#E5ECF6\",\"polar\":{\"bgcolor\":\"#E5ECF6\",\"angularaxis\":{\"gridcolor\":\"white\",\"linecolor\":\"white\",\"ticks\":\"\"},\"radialaxis\":{\"gridcolor\":\"white\",\"linecolor\":\"white\",\"ticks\":\"\"}},\"ternary\":{\"bgcolor\":\"#E5ECF6\",\"aaxis\":{\"gridcolor\":\"white\",\"linecolor\":\"white\",\"ticks\":\"\"},\"baxis\":{\"gridcolor\":\"white\",\"linecolor\":\"white\",\"ticks\":\"\"},\"caxis\":{\"gridcolor\":\"white\",\"linecolor\":\"white\",\"ticks\":\"\"}},\"coloraxis\":{\"colorbar\":{\"outlinewidth\":0,\"ticks\":\"\"}},\"colorscale\":{\"sequential\":[[0.0,\"#0d0887\"],[0.1111111111111111,\"#46039f\"],[0.2222222222222222,\"#7201a8\"],[0.3333333333333333,\"#9c179e\"],[0.4444444444444444,\"#bd3786\"],[0.5555555555555556,\"#d8576b\"],[0.6666666666666666,\"#ed7953\"],[0.7777777777777778,\"#fb9f3a\"],[0.8888888888888888,\"#fdca26\"],[1.0,\"#f0f921\"]],\"sequentialminus\":[[0.0,\"#0d0887\"],[0.1111111111111111,\"#46039f\"],[0.2222222222222222,\"#7201a8\"],[0.3333333333333333,\"#9c179e\"],[0.4444444444444444,\"#bd3786\"],[0.5555555555555556,\"#d8576b\"],[0.6666666666666666,\"#ed7953\"],[0.7777777777777778,\"#fb9f3a\"],[0.8888888888888888,\"#fdca26\"],[1.0,\"#f0f921\"]],\"diverging\":[[0,\"#8e0152\"],[0.1,\"#c51b7d\"],[0.2,\"#de77ae\"],[0.3,\"#f1b6da\"],[0.4,\"#fde0ef\"],[0.5,\"#f7f7f7\"],[0.6,\"#e6f5d0\"],[0.7,\"#b8e186\"],[0.8,\"#7fbc41\"],[0.9,\"#4d9221\"],[1,\"#276419\"]]},\"xaxis\":{\"gridcolor\":\"white\",\"linecolor\":\"white\",\"ticks\":\"\",\"title\":{\"standoff\":15},\"zerolinecolor\":\"white\",\"automargin\":true,\"zerolinewidth\":2},\"yaxis\":{\"gridcolor\":\"white\",\"linecolor\":\"white\",\"ticks\":\"\",\"title\":{\"standoff\":15},\"zerolinecolor\":\"white\",\"automargin\":true,\"zerolinewidth\":2},\"scene\":{\"xaxis\":{\"backgroundcolor\":\"#E5ECF6\",\"gridcolor\":\"white\",\"linecolor\":\"white\",\"showbackground\":true,\"ticks\":\"\",\"zerolinecolor\":\"white\",\"gridwidth\":2},\"yaxis\":{\"backgroundcolor\":\"#E5ECF6\",\"gridcolor\":\"white\",\"linecolor\":\"white\",\"showbackground\":true,\"ticks\":\"\",\"zerolinecolor\":\"white\",\"gridwidth\":2},\"zaxis\":{\"backgroundcolor\":\"#E5ECF6\",\"gridcolor\":\"white\",\"linecolor\":\"white\",\"showbackground\":true,\"ticks\":\"\",\"zerolinecolor\":\"white\",\"gridwidth\":2}},\"shapedefaults\":{\"line\":{\"color\":\"#2a3f5f\"}},\"annotationdefaults\":{\"arrowcolor\":\"#2a3f5f\",\"arrowhead\":0,\"arrowwidth\":1},\"geo\":{\"bgcolor\":\"white\",\"landcolor\":\"#E5ECF6\",\"subunitcolor\":\"white\",\"showland\":true,\"showlakes\":true,\"lakecolor\":\"white\"},\"title\":{\"x\":0.05},\"mapbox\":{\"style\":\"light\"}}},\"xaxis\":{\"dtick\":10,\"tickmode\":\"linear\"},\"yaxis\":{\"anchor\":\"x\",\"domain\":[0.7333333333333333,1.0]},\"xaxis2\":{\"anchor\":\"y2\",\"domain\":[0.55,1.0]},\"yaxis2\":{\"anchor\":\"x2\",\"domain\":[0.7333333333333333,1.0]},\"xaxis3\":{\"anchor\":\"y3\",\"domain\":[0.0,0.45]},\"yaxis3\":{\"anchor\":\"x3\",\"domain\":[0.36666666666666664,0.6333333333333333]},\"xaxis4\":{\"anchor\":\"y4\",\"domain\":[0.55,1.0]},\"yaxis4\":{\"anchor\":\"x4\",\"domain\":[0.36666666666666664,0.6333333333333333]},\"xaxis5\":{\"anchor\":\"y5\",\"domain\":[0.0,0.45]},\"yaxis5\":{\"anchor\":\"x5\",\"domain\":[0.0,0.26666666666666666]},\"xaxis6\":{\"anchor\":\"y6\",\"domain\":[0.55,1.0]},\"yaxis6\":{\"anchor\":\"x6\",\"domain\":[0.0,0.26666666666666666]},\"title\":{\"text\":\"Distribution of average batsman scores\"}},                        {\"responsive\": true}                    ).then(function(){\n                            \nvar gd = document.getElementById('f98bc0c2-acde-4056-a146-f5105d64259f');\nvar x = new MutationObserver(function (mutations, observer) {{\n        var display = window.getComputedStyle(gd).display;\n        if (!display || display === 'none') {{\n            console.log([gd, 'removed!']);\n            Plotly.purge(gd);\n            observer.disconnect();\n        }}\n}});\n\n// Listen for the removal of the full notebook cells\nvar notebookContainer = gd.closest('#notebook-container');\nif (notebookContainer) {{\n    x.observe(notebookContainer, {childList: true});\n}}\n\n// Listen for the clearing of the current output cell\nvar outputEl = gd.closest('.output');\nif (outputEl) {{\n    x.observe(outputEl, {childList: true});\n}}\n\n                        })                };                });            </script>        </div>"
          },
          "metadata": {}
        }
      ],
      "source": [
        "##Creating PlayerScore column as the sum of all metrics\n",
        "\n",
        "dfscore['PlayerScore'] = dfscore['TotalRunsRank'] + dfscore['Strike_rateRank'] + dfscore['wicketRank'] + dfscore['EconomyRank'] + dfscore['Bat_varRank'] + dfscore['Bowl_varRank']\n",
        "\n",
        "##Histogram with distribution\n",
        "\n",
        "team_list = list(dfscore['Team'].unique())\n",
        "\n",
        "trace0 = go.Histogram(x= dfscore.loc[dfscore['Team'] == team_list[0], 'PlayerScore'], opacity = 0.75, name = team_list[0])\n",
        "trace1 = go.Histogram(x= dfscore.loc[dfscore['Team'] == team_list[1], 'PlayerScore'], opacity = 0.75, name = team_list[1])\n",
        "trace2 = go.Histogram(x= dfscore.loc[dfscore['Team'] == team_list[2], 'PlayerScore'], opacity = 0.75, name = team_list[2])\n",
        "trace3 = go.Histogram(x= dfscore.loc[dfscore['Team'] == team_list[3], 'PlayerScore'], opacity = 0.75, name = team_list[3])\n",
        "trace4 = go.Histogram(x= dfscore.loc[dfscore['Team'] == team_list[4], 'PlayerScore'], opacity = 0.75, name = team_list[4])\n",
        "\n",
        "fig4 = make_subplots(rows =3, cols = 2)\n",
        "fig4.append_trace(trace0,1,1)\n",
        "fig4.append_trace(trace1,2,1)\n",
        "fig4.append_trace(trace2,2,2)\n",
        "fig4.append_trace(trace3,3,1)\n",
        "fig4.append_trace(trace4,3,2)\n",
        "\n",
        "fig4.layout.title = dict(text = 'Distribution of average batsman scores')\n",
        "fig4.layout.xaxis = dict(tickmode = 'linear', dtick = 10)\n",
        "\n",
        "fig4.show()\n",
        "\n",
        "##Peshawar and quetta have the clear standout players\n",
        "##Makes sensse as they both were the tournamnet finalist with Peshawar winning the final\n"
      ]
    },
    {
      "cell_type": "code",
      "execution_count": null,
      "metadata": {},
      "outputs": [],
      "source": []
    }
  ]
}