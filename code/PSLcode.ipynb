{
  "metadata": {
    "language_info": {
      "codemirror_mode": {
        "name": "python",
        "version": 3
      },
      "file_extension": ".py",
      "mimetype": "text/x-python",
      "name": "python",
      "nbconvert_exporter": "python",
      "pygments_lexer": "ipython3",
      "version": "3.10.0-final"
    },
    "kernelspec": {
      "name": "python3",
      "display_name": "Python 3.10.0 64-bit",
      "metadata": {
        "interpreter": {
          "hash": "aee8b7b246df8f9039afb4144a1f6fd8d2ca17a180786b69acc140d282b71a49"
        }
      }
    }
  },
  "nbformat_minor": 4,
  "nbformat": 4,
  "cells": [
    {
      "cell_type": "code",
      "execution_count": null,
      "metadata": {},
      "outputs": [],
      "source": [
        "import os\n",
        "import numpy as np\n",
        "import pandas as pd\n",
        "import plotly\n",
        "import chart_studio.plotly as py\n",
        "import plotly.graph_objs as go\n",
        "import ipywidgets as wg\n",
        "from scipy import stats\n",
        "from IPython.display import display\n",
        "from urllib.request import urlopen\n",
        "from plotly.subplots import make_subplots\n",
        "\n",
        "psldata = pd.ExcelFile(r'/Users/Amar/Documents/WD/projects/PSLVisualisation/data/All deliveries.xlsx')\n",
        "df = pd.read_excel(psldata)\n",
        "\n",
        "df.iloc[:,-2:] = df.iloc[:,-2:].fillna('No dismisal')\n",
        "\n",
        "print(df)\n",
        "\n"
      ]
    },
    {
      "cell_type": "code",
      "source": [
        "\n",
        "##importing libraries\n",
        "\n",
        "import os\n",
        "import numpy as np\n",
        "import pandas as pd\n",
        "import plotly\n",
        "import chart_studio.plotly as py\n",
        "import plotly.graph_objs as go\n",
        "import ipywidgets as wg\n",
        "from scipy import stats\n",
        "from IPython.display import display\n",
        "from urllib.request import urlopen\n",
        "from plotly.subplots import make_subplots\n",
        "\n",
        "\n",
        "#importing data file\n",
        "psldata = pd.ExcelFile(r'/Users/Amar/Documents/WD/projects/PSLVisualisation/data/All deliveries.xlsx')\n",
        "df = pd.read_excel(psldata)\n",
        "\n",
        "\n",
        "##cleaning data\n",
        "#Replaced Nas\n",
        "df.iloc[:,-2:] = df.iloc[:,-2:].fillna('No dismisal')\n",
        "\n",
        "\n",
        "# In[324]:\n",
        "\n",
        "\n",
        "def wick(x):\n",
        "    if x != \"No dismisal\":\n",
        "        return 1\n",
        "    else:\n",
        "        return 0\n",
        "df['wicket'] = df['Dismisal_kind'].apply(lambda x: wick(x))\n",
        "\n",
        "\n",
        "\n",
        "\n",
        "def isSix(x):\n",
        "    if x == 6:\n",
        "        return 1\n",
        "    else:\n",
        "        return 0\n",
        "    \n",
        "def isFour(x):\n",
        "    if x == 4:\n",
        "        return 1\n",
        "    else:\n",
        "        return 0\n",
        "df['Six'] = df['Batsman_runs'].map(lambda x: isSix(x))\n",
        "df['Four'] = df['Batsman_runs'].map(lambda x: isFour(x))\n",
        "\n",
        "\n",
        "\n",
        "#Ball-by-ball detail for each batsman\n",
        "\n",
        "df_bat = pd.merge(df.groupby(['Batsman_strike','Match_id']).sum().reset_index()[['Batsman_strike','Match_id','Batsman_runs']], df.groupby(['Batsman_strike', 'Match_id']).count().reset_index()[['Batsman_strike','Match_id', 'Ball']].rename(columns = {'Ball': 'Balls_played'}), on = ['Batsman_strike', 'Match_id'])\n",
        "\n",
        "\n",
        "\n",
        "##Batting datafrane\n",
        "df_batAvg = pd.merge(pd.merge(df_bat.groupby('Batsman_strike').mean().reset_index()[['Batsman_strike','Batsman_runs', 'Balls_played']].rename(columns = {'Batsman_runs' : 'AvgRuns_match' , 'Balls_played': 'AvgBalls_match'}), df[['Batsman_strike', 'Batting_team']].drop_duplicates(keep = 'first'), on = 'Batsman_strike') , pd.merge(df.groupby(['Batsman_strike']).sum().reset_index()[['Batsman_strike', 'Batsman_runs', 'Six', 'Four']].rename(columns = {'Batsman_runs': 'TotalRuns', 'Six':'TotalSixes', 'Four':'TotalFours'}), df.groupby(['Batsman_strike']).count().reset_index()[['Batsman_strike' , 'Ball']].rename(columns = {'Ball': 'Balls_played'}), on ='Batsman_strike'), on = 'Batsman_strike')\n",
        "                                                                                                                                     \n",
        "                                                                                                                                     \n",
        "\n",
        "df_batAvg['Runs_sq'] = 0\n",
        "df_batAvg['Matches_played'] = 0\n",
        "\n",
        "\n",
        "#To calculate variance\n",
        "for i in range(len(df_batAvg)):\n",
        "    for j in range(len(df_bat)):\n",
        "        if df_batAvg.iloc[i]['Batsman_strike'] == df_bat.iloc[j]['Batsman_strike']:\n",
        "            df_batAvg['Runs_sq'].iloc[i] += df_bat.iloc[j]['Batsman_runs'] **2\n",
        "            df_batAvg['Matches_played'].iloc[i] += 1\n",
        "\n",
        "\n",
        "#Strke rate, % boundary and Variance\n",
        "df_batAvg['Strike_rate'] = df_batAvg['TotalRuns'] * 100 /df_batAvg['Balls_played']\n",
        "df_batAvg['PercentageRuns_boundary'] = (df_batAvg['TotalSixes']* 6 + df_batAvg['TotalFours'] * 4) * 100/df_batAvg['TotalRuns']\n",
        "df_batAvg[\"Var\"] = \n",
        "(df_batAvg['Runs_sq'] - df_batAvg['Matches_played']*(df_batAvg['AvgRuns_match']**2))/(df_batAvg['Matches_played'] - 1)\n",
        "df_batAvg = df_batAvg.sort_values(by = 'TotalRuns', ascending = False)\n",
        "\n",
        "\n",
        "##Batsman Scatter\n",
        "\n",
        "z = df_batAvg['Batsman_strike']\n",
        "trace = go.Scatter(y = df_batAvg['Strike_rate'], x= df_batAvg['AvgRuns_match'], mode = 'markers', showlegend = False , text = df_batAvg['Batsman_strike'] + \"  \" + df_batAvg['Batting_team'], hoverinfo =  \"text\", marker = dict(size = 20, symbol = 'circle' , cmin = 0, autocolorscale = True, reversescale = True, colorbar = {'title' : {'text': 'Score variance'}}, color = df_batAvg['Var']))\n",
        "data = [trace]\n",
        "\n",
        "layout = go.Layout(paper_bgcolor = 'white',plot_bgcolor = 'white' , yaxis = dict(title = dict(text = \"Strike rate\" , font = dict(color ='black')) ,showgrid = True, zeroline = False, color = 'black'), xaxis = dict( title= dict( text = 'Average runs'), showgrid = False, zeroline= False), title = dict(text = \"All batsman's performance - Average runs, Strike rate, Score variance\"))\n",
        "fig = go.Figure(data = data, layout = layout)\n",
        "plotly.offline.init_notebook_mode(connected=True)\n",
        "plotly.offline.plot(fig, include_plotlyjs = False, output_type = 'div')\n",
        "\n",
        "plotly.plot(fig)\n",
        "\n",
        "\n",
        "#Batsman Histogram\n",
        "\n",
        "\n",
        "# team_list = list(df_batAvg['Batting_team'].unique())\n",
        "\n",
        "# trace0 = go.Histogram(x= df_batAvg.loc[df_batAvg['Batting_team'] == team_list[0], 'AvgRuns_match'], opacity = 0.75, name = team_list[0])\n",
        "# trace1 = go.Histogram(x= df_batAvg.loc[df_batAvg['Batting_team'] == team_list[1], 'AvgRuns_match'], opacity = 0.75, name = team_list[1])\n",
        "# trace2 = go.Histogram(x= df_batAvg.loc[df_batAvg['Batting_team'] == team_list[2], 'AvgRuns_match'], opacity = 0.75, name = team_list[2])\n",
        "# trace3 = go.Histogram(x= df_batAvg.loc[df_batAvg['Batting_team'] == team_list[3], 'AvgRuns_match'], opacity = 0.75, name = team_list[3])\n",
        "# trace4 = go.Histogram(x= df_batAvg.loc[df_batAvg['Batting_team'] == team_list[4], 'AvgRuns_match'], opacity = 0.75, name = team_list[4])\n",
        "\n",
        "# fig4 = make_subplots(rows =3, cols = 2)\n",
        "# fig4.append_trace(trace0,1,1)\n",
        "# fig4.append_trace(trace1,2,1)\n",
        "# fig4.append_trace(trace2,2,2)\n",
        "# fig4.append_trace(trace3,3,1)\n",
        "# fig4.append_trace(trace4,3,2)\n",
        "\n",
        "# fig4.layout.title = dict(text = 'Distribution of average batsman scores')\n",
        "# fig4.layout.xaxis = dict(tickmode = 'linear', dtick = 10)\n",
        "\n",
        "\n",
        "# plotly.offline.plot(fig4, include_plotlyjs = False, output_type = 'div')\n",
        "\n",
        "\n",
        "\n",
        "def runlevel(x):\n",
        "    if x >= 1.25*df_batAvg['AvgRuns_match'].mean():\n",
        "        return 'High'\n",
        "    elif x <= 0.75 * df_batAvg['AvgRuns_match'].mean():\n",
        "        return 'Low'\n",
        "    else:\n",
        "        return 'Average'\n",
        "    \n",
        "def strikelevel(x):\n",
        "    if x >= 1.25*df_batAvg['Strike_rate'].mean():\n",
        "        return 'High'\n",
        "    elif x <= 0.75 * df_batAvg['Strike_rate'].mean():\n",
        "        return 'Low'\n",
        "    else:\n",
        "        return 'Average'\n",
        "    \n",
        "def varlevel(x):\n",
        "    if x <= 0.75*df_batAvg['Var'].mean():\n",
        "        return 'High Consistency'\n",
        "    elif x >= 1.25 * df_batAvg['Var'].mean():\n",
        "        return 'Inconsistent'\n",
        "    else:\n",
        "        return 'Average'\n",
        "    \n",
        "\n",
        "df_batAvg['Runs_level'] = df_batAvg['AvgRuns_match'].map(lambda x: runlevel(x))\n",
        "df_batAvg['Strike_level'] = df_batAvg['Strike_rate'].map(lambda x: strikelevel(x))\n",
        "df_batAvg['Var_level'] = df_batAvg['Var'].map(lambda x: varlevel(x))\n",
        "\n",
        "\n",
        "dfteam = df.groupby(['Batting_team','Bowling_team', 'Match_id', 'Innings', 'Over']).sum().reset_index()\n",
        "over = 0\n",
        "total = 0\n",
        "Total_runs = []\n",
        "\n",
        "for i in range(len(dfteam)):\n",
        "    if dfteam.iloc[i]['Over'] >= over:\n",
        "        total =+ total + dfteam.iloc[i]['Batsman_runs'] + dfteam.iloc[i]['Extra_runs']\n",
        "        over =+ 1\n",
        "        Total_runs.append(total)\n",
        "    else:\n",
        "        total = dfteam.iloc[i]['Batsman_runs'] + dfteam.iloc[i]['Extra_runs']\n",
        "        Total_runs.append(total)\n",
        "        over = 1\n",
        "\n",
        "\n",
        "dfteam['Total_runs'] = pd.Series(Total_runs)\n",
        "\n",
        "\n",
        "\n",
        "# ## Defining bowler metrics\n",
        "# def caught(x):\n",
        "#     if x == 'caught':\n",
        "#         return 1\n",
        "#     else:\n",
        "#         return 0\n",
        "# def bowled(x):\n",
        "#     if x == bowled:\n",
        "#         return 1\n",
        "#     else:\n",
        "#         return 0\n",
        "# def runout(x):\n",
        "#     if x == 'runout':\n",
        "#         return 1\n",
        "#     else:\n",
        "#         return 0\n",
        "# def lbw(x):\n",
        "#     if x == 'lbw':\n",
        "#         return 1\n",
        "#     else:\n",
        "#         return 0\n",
        "# def stump(x):\n",
        "#     if x == 'stump':\n",
        "#         return 1\n",
        "#     else:\n",
        "#         return 0\n",
        "# def candb(x):\n",
        "#     if x == 'caught and bowled':\n",
        "#         return 1\n",
        "#     else:\n",
        "#         return 0\n",
        "\n",
        "\n",
        "# df['Caught'] = df['Dismisal_kind'].apply(lambda x: caught(x))\n",
        "# df['Bowled'] = df['Dismisal_kind'].apply(lambda x: bowled(x))\n",
        "# df['Lbw'] = df['Dismisal_kind'].apply(lambda x: lbw(x))\n",
        "# df['Runout'] = df['Dismisal_kind'].apply(lambda x: runout(x))\n",
        "# df['Stump'] = df['Dismisal_kind'].apply(lambda x: stump(x))\n",
        "# df['Caught_bowled'] = df['Dismisal_kind'].apply(lambda x: candb(x))\n",
        "\n",
        "\n",
        "# ## Creating a bowler dataframe\n",
        "# df_bowl = pd.merge(df.groupby(['Bowler', 'Match_id']).sum().reset_index().filter(regex = \"[Innings,Over,Ball]\"), df.groupby(['Bowler', 'Match_id']).count().reset_index()[['Bowler','Match_id', 'Ball']].rename(columns = {'Ball': 'TotalDeliveries'}), on = ['Bowler', 'Match_id'])\n",
        "\n",
        "# df_bowlAvg = pd.merge(df.groupby(['Bowler', 'Match_id']).sum().reset_index().filter(regex = \"[^Match_id,Innings,Over,Ball]\") ,  df.groupby(['Bowler', 'Match_id']).count().reset_index()[['Bowler', 'Ball']].rename(columns = {'Ball': 'Delieveries_bowled'}), on = 'Bowler').groupby('Bowler').mean().reset_index()\n",
        "\n",
        "\n",
        "# df_bowl_Avg_merge = pd.merge(df_bowl.groupby('Bowler').sum().reset_index().filter(regex = '[^Match_id,Innings,Over,Ball]'), df_bowlAvg.filter(regex = \"[^Caught,Bowled,Stump,Caught_bowled, Lbw, Runout]\").rename(columns = {'Delieveries_bowled':'AvgDeliveries_bowled','Batsman_runs': 'AvgBatsman_runs', 'Extra_runs': 'AvgExtra_runs' , 'Six': 'AvgSix', 'Four': 'AvgFour', 'wicket' : 'AvgWicket'}),\n",
        "#  on = 'Bowler')\n",
        "\n",
        "# dfecon = df.groupby(['Bowler','Match_id', 'Over']).sum().reset_index().groupby('Bowler').mean().reset_index()[['Bowler','Batsman_runs', 'Extra_runs']]\n",
        "# dfecon['Economy'] = dfecon['Batsman_runs'] + dfecon['Extra_runs']\n",
        "\n",
        "\n",
        "\n",
        "# df_bowler = pd.merge(df_bowl_Avg_merge, dfecon[['Bowler','Economy']], on = 'Bowler')\n",
        "\n",
        "\n",
        "# ## Bowler variance\n",
        "# df_bowler['Runs_sq'] = 0\n",
        "# df_bowler['Matches_played'] = 0\n",
        "# for i in range(len(df_bowler)):\n",
        "#     for j in range(len(df_bowl)):\n",
        "#         if df_bowler.iloc[i]['Bowler'] == df_bowl.iloc[j]['Bowler']:\n",
        "#             df_bowler['Runs_sq'].iloc[i] += (df_bowl.iloc[j]['Batsman_runs'] +  df_bowl.iloc[j]['Extra_runs'])**2\n",
        "#             df_bowler['Matches_played'].iloc[i] += 1\n",
        "\n",
        "\n",
        "# df_bowler['Var'] = (df_bowler['Runs_sq'] - (df_bowler['Matches_played']*((df_bowler['AvgBatsman_runs']+df_bowler['AvgExtra_runs'])**2)))/(df_bowler['Matches_played'] -1)\n",
        "\n",
        " \n",
        "\n",
        "# df_bowler = pd.merge(df_bowler, df[['Bowler', 'Bowling_team']].drop_duplicates(keep = 'first'), on = 'Bowler')\n",
        "# df_bowler.dropna(inplace = True)\n",
        "\n",
        "\n",
        "# ##Bowler Scatter chart\n",
        "\n",
        "# trace1 = go.Scatter(x = df_bowler['wicket'], y = df_bowler['Economy'], mode = 'markers', hoverinfo = 'text' , text = df_bowler['Bowler'] + \"   \" + df_bowler['Bowling_team'] , marker = dict(size = 25, symbol = 'circle' , cmin = 0, autocolorscale = True, reversescale = True, colorbar = {'title' : {'text': 'Bowler Variance'}}, color = df_bowler['Var']))\n",
        "\n",
        "# layout = go.Layout(paper_bgcolor = 'white',plot_bgcolor = 'white' , hovermode = 'closest',  yaxis = dict(title = dict(text = \"Economy\" , font = dict(color ='black')) ,showgrid = True, zeroline = False, color = 'black'), xaxis = dict(title = dict( text = 'Total wickets'), showgrid = False, zeroline = False), title = dict(text = \"All Bowler's Performance - Economy, Total Wickets, Variance\"))\n",
        "\n",
        "\n",
        "# data = [trace1]\n",
        "\n",
        "# fig22 = go.Figure(data = data, layout = layout)\n",
        "\n",
        "# plotly.offline.init_notebook_mode(connected=True)\n",
        "# plotly.offline.plot(fig22, include_plotlyjs = False, output_type = 'div')\n",
        "\n",
        "\n",
        "# ##Bowler histogram\n",
        "\n",
        "\n",
        "# team_list = ['Peshawar Zalmi', 'Karachi Kings', 'Islamabad United', 'Quetta Gladiators', 'Lahore Qalandars']\n",
        "\n",
        "# trace0 = go.Histogram(x= df_bowler.loc[df_bowler['Bowling_team'] == team_list[0], 'Economy'], opacity = 0.75, name = team_list[0])\n",
        "# trace1 = go.Histogram(x= df_bowler.loc[df_bowler['Bowling_team'] == team_list[1], 'Economy'], opacity = 0.75, name = team_list[1])\n",
        "# trace2 = go.Histogram(x= df_bowler.loc[df_bowler['Bowling_team'] == team_list[2], 'Economy'], opacity = 0.75, name = team_list[2])\n",
        "# trace3 = go.Histogram(x= df_bowler.loc[df_bowler['Bowling_team'] == team_list[3], 'Economy'], opacity = 0.75, name = team_list[3])\n",
        "# trace4 = go.Histogram(x= df_bowler.loc[df_bowler['Bowling_team'] == team_list[4], 'Economy'], opacity = 0.75, name = team_list[4])\n",
        "\n",
        "# fig4 = plotly.tools.make_subplots(rows = 3, cols = 2)\n",
        "# fig4.append_trace(trace0,1,1)\n",
        "# fig4.append_trace(trace1,1,2)\n",
        "# fig4.append_trace(trace2,2,1)\n",
        "# fig4.append_trace(trace3,2,2)\n",
        "# fig4.append_trace(trace4,3,1)\n",
        "\n",
        "# fig4.layout.title = dict(text = \"Distribution of average bowler economy for each team\")\n",
        "\n",
        "# plotly.offline.plot(fig4, include_plotlyjs = False, output_type = 'div')\n",
        "\n",
        "\n",
        "# ##Setting up a ranking datafrane\n",
        "\n",
        "# dfscore = df_batAvg[['Batsman_strike', 'Batting_team','AvgRuns_match', 'Strike_rate', 'Var']].rename(columns = {'Batsman_strike': 'Player', 'Batting_team':'Team','Var': 'Bat_var'}).merge(df_bowler[['Bowler', 'Economy', 'AvgWicket','AvgDeliveries_bowled', 'Var', 'Bowling_team']].rename(columns = {'Bowler':'Player','Var':'Bowl_var','Bowling_team':'Team'}), on = ['Player','Team'], how = 'outer').fillna(value = 0)                                                                                                          \n",
        "\n",
        "\n",
        "# ##Player Ranking Metrics\n",
        "\n",
        "# f = 'Strike_rate'\n",
        "# g = 'AvgRuns_match'\n",
        "# h = 'AvgWicket'\n",
        "\n",
        "\n",
        "# Batsman = np.quantile(dfscore['AvgRuns_match'], 0.5)\n",
        "# Batvarmean = dfscore.loc[dfscore['AvgRuns_match'] >= Batsman, \"Bat_var\"].mean()\n",
        "\n",
        "\n",
        "# Bowlvarmean = dfscore.loc[dfscore['AvgDeliveries_bowled'] >= 0, \"Bowl_var\"].mean()\n",
        "\n",
        "# dfscore['BatVarRank'] = np.zeros(len(dfscore))\n",
        "\n",
        "# dfscore['BowlVarRank'] = np.zeros(len(dfscore))\n",
        "\n",
        "\n",
        "# def greaterf(x):\n",
        "#         if x == 0:\n",
        "#             return 0\n",
        "#         if x >= 1.25 * dfscore[f].mean():\n",
        "#             return 3\n",
        "#         if x<= 0.75 *dfscore[f].mean():\n",
        "#             return  1\n",
        "#         else:\n",
        "#             return 2\n",
        "\n",
        "# def greaterg(x):\n",
        "#         if x == 0:\n",
        "#             return 0\n",
        "#         if x >= 1.25 * dfscore[g].mean():\n",
        "#             return 3\n",
        "#         if x<= 0.75 *dfscore[g].mean():\n",
        "#             return  1\n",
        "#         else:\n",
        "#             return 2\n",
        "\n",
        "# def greaterh(x):\n",
        "#         if x == 0:\n",
        "#             return 0\n",
        "#         if x >= 1.25 * dfscore[h].mean():\n",
        "#             return 3\n",
        "#         if x<= 0.75 *dfscore[h].mean():\n",
        "#             return  1\n",
        "#         else:\n",
        "#             return 2\n",
        "\n",
        "\n",
        "# dfscore[f + str('Rank')] = dfscore[f].map(lambda x: greaterf(x))    \n",
        "# dfscore[g + str('Rank')] = dfscore[g].map(lambda x: greaterg(x))\n",
        "# dfscore[h + str('Rank')] = dfscore[h].map(lambda x: greaterh(x))\n",
        "\n",
        "# def ecorank(x):\n",
        "#     if x == 0:\n",
        "#         return 0\n",
        "#     elif x >= 1.25 * dfscore.loc[dfscore['AvgDeliveries_bowled'] >= 0, \"Economy\"].mean():\n",
        "#         return 1\n",
        "#     elif x <= 0.75 * dfscore.loc[dfscore['AvgDeliveries_bowled'] >= 0, \"Economy\"].mean():\n",
        "#         return 3\n",
        "#     else:\n",
        "#         return 2\n",
        "    \n",
        "# dfscore['EconomyRank'] = dfscore['Economy'].map(lambda x: ecorank(x))\n",
        "\n",
        "\n",
        "# for i in range(len(dfscore)):\n",
        "#     if dfscore.iloc[i]['AvgRuns_match'] <= Batsman:\n",
        "#         dfscore['BatVarRank'].iloc[i] = 0\n",
        "#     elif dfscore['Bat_var'].iloc[i] >= (1.25 * Batvarmean):  \n",
        "#         dfscore['BatVarRank'].iloc[i] = 1\n",
        "#     elif dfscore.iloc[i]['Bat_var'] <= 0.75 * Bowlvarmean:\n",
        "#         dfscore['BatVarRank'].iloc[i] = 3\n",
        "#     else:\n",
        "#         dfscore['BatVarRank'].iloc[i] = 2\n",
        "        \n",
        "        \n",
        "        \n",
        "# for i in range(len(dfscore)):\n",
        "#     if dfscore.iloc[i]['AvgDeliveries_bowled'] == 0:\n",
        "#         dfscore['BowlVarRank'].iloc[i] = 0\n",
        "#     elif dfscore['Bowl_var'].iloc[i] >= (1.25 * Bowlvarmean):  \n",
        "#         dfscore['BowlVarRank'].iloc[i] = 1\n",
        "#     elif dfscore.iloc[i]['Bowl_var'] <= 0.75 * Bowlvarmean:\n",
        "#         dfscore['BowlVarRank'].iloc[i] = 3\n",
        "#     else:\n",
        "#         dfscore['BowlVarRank'].iloc[i] = 2\n",
        "\n",
        "\n",
        "\n",
        "# ##Creating PlayerScore column as the sum of all metrics\n",
        "\n",
        "# dfscore['PlayerScore'] = dfscore['AvgRuns_matchRank'] + dfscore['Strike_rateRank'] + dfscore['AvgWicketRank'] + dfscore['BatVarRank'] + dfscore['BowlVarRank'] + dfscore['EconomyRank']\n",
        "\n",
        "\n",
        "# ##Ranking levels\n",
        "\n",
        "# def mvprank(x):\n",
        "#     if x >= np.quantile(dfscore['PlayerScore'], 0.90):\n",
        "#         return 4\n",
        "#     elif x >= np.quantile(dfscore['PlayerScore'], 0.75):\n",
        "#             return 3\n",
        "#     elif x <= np.quantile(dfscore['PlayerScore'], 0.50):\n",
        "#             return 1\n",
        "#     else:\n",
        "#         return 2\n",
        "    \n",
        "# dfscore['PlayerRank'] = dfscore['PlayerScore'].map(lambda x: mvprank(x))\n",
        "# dfscore['MVP'] = np.zeros(len(dfscore))\n",
        "# dfscore.loc[dfscore['PlayerRank']==4,'MVP'] = 'MVP'\n",
        "# dfscore.loc[dfscore['PlayerRank']==3, 'MVP'] = 'VP'\n",
        "# dfscore.loc[dfscore['PlayerRank'] <3, 'MVP'] = 'Below Average'\n",
        "\n",
        "\n",
        "# ## Top 10 Players\n",
        "# dfscore.sort_values(by = 'PlayerScore', ascending = False).head(10)\n",
        "\n",
        "\n",
        "# #Boxplot\n",
        "\n",
        "# trace0 = go.Box(y = dfscore.loc[dfscore['Team'] == 'Peshawar Zalmi', 'PlayerScore'], name = 'Peshawar Zalmi', boxmean = 'sd', boxpoints = 'all')\n",
        "# trace1 = go.Box(y = dfscore.loc[dfscore['Team'] == 'Islamabad United', 'PlayerScore'], name = 'Islamabad United', boxmean = 'sd', boxpoints = 'all')\n",
        "# trace2 = go.Box(y = dfscore.loc[dfscore['Team'] == 'Quetta Gladiators', 'PlayerScore'], name = 'Quetta Gladiators', boxmean = 'sd', boxpoints = 'all')\n",
        "# trace3 = go.Box(y = dfscore.loc[dfscore['Team'] == 'Karachi Kings', 'PlayerScore'], name = 'Karachi Kings' , boxmean = 'sd', boxpoints = 'all')\n",
        "# trace4 = go.Box(y = dfscore.loc[dfscore['Team'] == 'Lahore Qalandars', 'PlayerScore'], name = 'Lahore Qalandars' , boxmean = 'sd', boxpoints = 'all')\n",
        "\n",
        "# data = [trace0, trace1, trace2, trace3, trace4]\n",
        "\n",
        "# fig111 = go.Figure(data = data)\n",
        "# fig111.layout.title = dict(text = \"Player Score distribution for each team\" )\n",
        "\n",
        "# import bs4\n",
        "# from bs4 import BeautifulSoup\n",
        "\n",
        "# plotly.offline.plot(fig111, include_plotlyjs = False, output_type = 'div')\n",
        "\n",
        "\n",
        "\n"
      ],
      "metadata": {
        "trusted": true
      },
      "execution_count": 525,
      "outputs": [
        {
          "output_type": "error",
          "ename": "SyntaxError",
          "evalue": "invalid syntax (664403232.py, line 81)",
          "traceback": [
            "\u001b[0;36m  Input \u001b[0;32mIn [525]\u001b[0;36m\u001b[0m\n\u001b[0;31m    df_batAvg[\"Var\"] =\u001b[0m\n\u001b[0m                       ^\u001b[0m\n\u001b[0;31mSyntaxError\u001b[0m\u001b[0;31m:\u001b[0m invalid syntax\n"
          ]
        }
      ]
    },
    {
      "cell_type": "code",
      "execution_count": 531,
      "metadata": {},
      "outputs": [
        {
          "output_type": "display_data",
          "data": {
            "text/html": "        <script type=\"text/javascript\">\n        window.PlotlyConfig = {MathJaxConfig: 'local'};\n        if (window.MathJax && window.MathJax.Hub && window.MathJax.Hub.Config) {window.MathJax.Hub.Config({SVG: {font: \"STIX-Web\"}});}\n        if (typeof require !== 'undefined') {\n        require.undef(\"plotly\");\n        requirejs.config({\n            paths: {\n                'plotly': ['https://cdn.plot.ly/plotly-2.12.1.min']\n            }\n        });\n        require(['plotly'], function(Plotly) {\n            window._Plotly = Plotly;\n        });\n        }\n        </script>\n        "
          },
          "metadata": {}
        },
        {
          "output_type": "display_data",
          "data": {
            "application/vnd.plotly.v1+json": {
              "data": [
                {
                  "hoverinfo": "text",
                  "marker": {
                    "autocolorscale": true,
                    "cmin": 0,
                    "color": [
                      0,
                      0,
                      0,
                      0,
                      0,
                      0,
                      0,
                      0,
                      0,
                      0,
                      0,
                      0,
                      0,
                      0,
                      0,
                      0,
                      0,
                      0,
                      0,
                      0,
                      0,
                      0,
                      0,
                      0,
                      0,
                      0,
                      0,
                      0,
                      0,
                      0,
                      0,
                      0,
                      0,
                      0,
                      0,
                      0,
                      0,
                      0,
                      0,
                      0,
                      0,
                      0,
                      0,
                      0,
                      0,
                      0,
                      0,
                      0,
                      0,
                      0,
                      0,
                      0,
                      0,
                      0,
                      0,
                      0,
                      0,
                      0,
                      0,
                      0,
                      0,
                      0,
                      0,
                      0,
                      0,
                      0,
                      0,
                      0,
                      0,
                      0,
                      0,
                      0,
                      0,
                      0,
                      0,
                      0,
                      0,
                      0,
                      0,
                      0
                    ],
                    "colorbar": {
                      "title": {
                        "text": "Score variance"
                      }
                    },
                    "reversescale": true,
                    "size": 20,
                    "symbol": "circle"
                  },
                  "mode": "markers",
                  "showlegend": false,
                  "text": [
                    "Kamran Akmal  Peshawar Zalmi",
                    "Babar Azam  Karachi Kings",
                    "DR Smith  Islamabad United",
                    "RR Rossouw  Quetta Gladiators",
                    "KP Pietersen  Quetta Gladiators",
                    "Ahmed Shehzad  Quetta Gladiators",
                    "KC Sangakkara  Karachi Kings",
                    "Shoaib Malik  Karachi Kings",
                    "KA Pollard  Karachi Kings",
                    "Sarfraz Ahmed  Quetta Gladiators",
                    "Fakhar Zaman  Lahore Qalandars",
                    "Shahid Afridi  Peshawar Zalmi",
                    "DJ Malan  Peshawar Zalmi",
                    "JJ Roy  Lahore Qalandars",
                    "SR Watson  Islamabad United",
                    "Umar Akmal  Lahore Qalandars",
                    "CH Gayle  Karachi Kings",
                    "Misbah-ul-Haq  Islamabad United",
                    "Mohammad Hafeez  Peshawar Zalmi",
                    "Asad Shafiq  Quetta Gladiators",
                    "BJ Haddin  Islamabad United",
                    "EJG Morgan  Peshawar Zalmi",
                    "SW Billings  Islamabad United",
                    "Mohammad Rizwan  Lahore Qalandars",
                    "DJG Sammy  Peshawar Zalmi",
                    "RS Bopara  Karachi Kings",
                    "SP Narine  Lahore Qalandars",
                    "Tamim Iqbal  Peshawar Zalmi",
                    "BB McCullum  Lahore Qalandars",
                    "Imad Wasim  Karachi Kings",
                    "CS Delport  Lahore Qalandars",
                    "MN Samuels  Peshawar Zalmi",
                    "GD Elliott  Lahore Qalandars",
                    "Sohail Tanvir  Lahore Qalandars",
                    "Hussain Talat  Islamabad United",
                    "Shadab Khan  Islamabad United",
                    "Anwar Ali  Quetta Gladiators",
                    "Shakib Al Hasan  Peshawar Zalmi",
                    "Asif Ali  Islamabad United",
                    "Rafatullah Mohmand  Islamabad United",
                    "NLTC Perera  Quetta Gladiators",
                    "Mahmudullah  Quetta Gladiators",
                    "Sohaib Maqsood  Peshawar Zalmi",
                    "Haris Sohail  Peshawar Zalmi",
                    "Wahab Riaz  Peshawar Zalmi",
                    "BM Duckett  Islamabad United",
                    "Hasan Khan  Quetta Gladiators",
                    "CJ Jordan  Peshawar Zalmi",
                    "Aamer Yamin  Lahore Qalandars",
                    "Amad Butt  Islamabad United",
                    "SM Ervine  Quetta Gladiators",
                    "Mohammad Amir  Karachi Kings",
                    "Hasan Ali  Peshawar Zalmi",
                    "Yasir Shah  Lahore Qalandars",
                    "Mohammad Nawaz (3)  Quetta Gladiators",
                    "Shahzaib Hasan  Karachi Kings",
                    "Saad Nasim  Quetta Gladiators",
                    "Sohail Khan  Karachi Kings",
                    "Iftikhar Ahmed  Peshawar Zalmi",
                    "LJ Wright  Quetta Gladiators",
                    "DPMD Jayawardene  Karachi Kings",
                    "RR Emrit  Quetta Gladiators",
                    "Usama Mir  Karachi Kings",
                    "Mohammad Irfan (4)  Lahore Qalandars",
                    "Anamul Haque  Quetta Gladiators",
                    "Umar Gul  Quetta Gladiators",
                    "Bilawal Bhatti  Lahore Qalandars",
                    "Mohammad Sami  Islamabad United",
                    "TS Mills  Quetta Gladiators",
                    "N Pooran  Islamabad United",
                    "Ghulam Mudassar  Lahore Qalandars",
                    "Sharjeel Khan  Islamabad United",
                    "Imran Khalid  Islamabad United",
                    "Junaid Khan  Peshawar Zalmi",
                    "Khushdil Shah  Peshawar Zalmi",
                    "MN van Wyk  Quetta Gladiators",
                    "Zulfiqar Babar  Quetta Gladiators",
                    "Usman Khan  Karachi Kings",
                    "Rumman Raees  Islamabad United",
                    "Mohammad Irfan  Islamabad United"
                  ],
                  "x": [
                    32.09090909090909,
                    29.1,
                    30.444444444444443,
                    31.875,
                    34.42857142857143,
                    26.444444444444443,
                    21.5,
                    20.2,
                    22.333333333333332,
                    20.333333333333332,
                    22.125,
                    22.125,
                    29.166666666666668,
                    34.6,
                    19,
                    20.5,
                    17.77777777777778,
                    19.75,
                    17,
                    24.5,
                    15.444444444444445,
                    22.666666666666668,
                    26.6,
                    18.571428571428573,
                    13.333333333333334,
                    11.9,
                    16.571428571428573,
                    18.8,
                    13.285714285714286,
                    10.375,
                    20.5,
                    16.2,
                    10.571428571428571,
                    11.333333333333334,
                    33.5,
                    11,
                    11.4,
                    13.5,
                    11.5,
                    15.333333333333334,
                    13.333333333333334,
                    12.333333333333334,
                    7,
                    10.333333333333334,
                    6.2,
                    15,
                    6.5,
                    6.5,
                    12.5,
                    8.333333333333334,
                    24,
                    6,
                    4.6,
                    11.5,
                    5,
                    9.5,
                    6,
                    4,
                    5,
                    12,
                    10,
                    6,
                    2.5,
                    1,
                    3,
                    2,
                    1,
                    0.5,
                    0.5,
                    1,
                    1,
                    1,
                    1,
                    1,
                    1,
                    1,
                    0.5,
                    0,
                    0,
                    0
                  ],
                  "y": [
                    128.83211678832117,
                    109.81132075471699,
                    110.93117408906883,
                    121.42857142857143,
                    148.76543209876544,
                    127.95698924731182,
                    114.36170212765957,
                    120.23809523809524,
                    162.09677419354838,
                    128.8732394366197,
                    136.15384615384616,
                    163.88888888888889,
                    129.62962962962962,
                    149.13793103448276,
                    132.5581395348837,
                    124.24242424242425,
                    108.84353741496598,
                    108.21917808219177,
                    96.83544303797468,
                    106.52173913043478,
                    118.80341880341881,
                    101.49253731343283,
                    134.34343434343435,
                    120.37037037037037,
                    127.65957446808511,
                    94.44444444444444,
                    170.58823529411765,
                    106.81818181818181,
                    116.25,
                    129.6875,
                    146.42857142857142,
                    120.8955223880597,
                    92.5,
                    103.03030303030303,
                    131.37254901960785,
                    157.14285714285714,
                    129.54545454545453,
                    110.20408163265306,
                    102.22222222222223,
                    124.32432432432432,
                    111.11111111111111,
                    137.03703703703704,
                    92.10526315789474,
                    67.3913043478261,
                    79.48717948717949,
                    88.23529411764706,
                    96.29629629629629,
                    86.66666666666667,
                    96.15384615384616,
                    96.15384615384616,
                    126.3157894736842,
                    114.28571428571429,
                    153.33333333333334,
                    100,
                    105.26315789473684,
                    111.76470588235294,
                    105.88235294117646,
                    114.28571428571429,
                    57.69230769230769,
                    171.42857142857142,
                    125,
                    66.66666666666667,
                    125,
                    66.66666666666667,
                    33.333333333333336,
                    66.66666666666667,
                    28.571428571428573,
                    50,
                    50,
                    33.333333333333336,
                    100,
                    25,
                    100,
                    50,
                    16.666666666666668,
                    14.285714285714286,
                    33.333333333333336,
                    0,
                    0,
                    0
                  ],
                  "type": "scatter"
                }
              ],
              "layout": {
                "paper_bgcolor": "white",
                "plot_bgcolor": "white",
                "title": {
                  "text": "All batsman's performance - Average runs, Strike rate, Score variance"
                },
                "xaxis": {
                  "showgrid": false,
                  "title": {
                    "text": "Average runs"
                  },
                  "zeroline": false
                },
                "yaxis": {
                  "color": "black",
                  "showgrid": true,
                  "title": {
                    "font": {
                      "color": "black"
                    },
                    "text": "Strike rate"
                  },
                  "zeroline": false
                },
                "template": {
                  "data": {
                    "histogram2dcontour": [
                      {
                        "type": "histogram2dcontour",
                        "colorbar": {
                          "outlinewidth": 0,
                          "ticks": ""
                        },
                        "colorscale": [
                          [
                            0,
                            "#0d0887"
                          ],
                          [
                            0.1111111111111111,
                            "#46039f"
                          ],
                          [
                            0.2222222222222222,
                            "#7201a8"
                          ],
                          [
                            0.3333333333333333,
                            "#9c179e"
                          ],
                          [
                            0.4444444444444444,
                            "#bd3786"
                          ],
                          [
                            0.5555555555555556,
                            "#d8576b"
                          ],
                          [
                            0.6666666666666666,
                            "#ed7953"
                          ],
                          [
                            0.7777777777777778,
                            "#fb9f3a"
                          ],
                          [
                            0.8888888888888888,
                            "#fdca26"
                          ],
                          [
                            1,
                            "#f0f921"
                          ]
                        ]
                      }
                    ],
                    "choropleth": [
                      {
                        "type": "choropleth",
                        "colorbar": {
                          "outlinewidth": 0,
                          "ticks": ""
                        }
                      }
                    ],
                    "histogram2d": [
                      {
                        "type": "histogram2d",
                        "colorbar": {
                          "outlinewidth": 0,
                          "ticks": ""
                        },
                        "colorscale": [
                          [
                            0,
                            "#0d0887"
                          ],
                          [
                            0.1111111111111111,
                            "#46039f"
                          ],
                          [
                            0.2222222222222222,
                            "#7201a8"
                          ],
                          [
                            0.3333333333333333,
                            "#9c179e"
                          ],
                          [
                            0.4444444444444444,
                            "#bd3786"
                          ],
                          [
                            0.5555555555555556,
                            "#d8576b"
                          ],
                          [
                            0.6666666666666666,
                            "#ed7953"
                          ],
                          [
                            0.7777777777777778,
                            "#fb9f3a"
                          ],
                          [
                            0.8888888888888888,
                            "#fdca26"
                          ],
                          [
                            1,
                            "#f0f921"
                          ]
                        ]
                      }
                    ],
                    "heatmap": [
                      {
                        "type": "heatmap",
                        "colorbar": {
                          "outlinewidth": 0,
                          "ticks": ""
                        },
                        "colorscale": [
                          [
                            0,
                            "#0d0887"
                          ],
                          [
                            0.1111111111111111,
                            "#46039f"
                          ],
                          [
                            0.2222222222222222,
                            "#7201a8"
                          ],
                          [
                            0.3333333333333333,
                            "#9c179e"
                          ],
                          [
                            0.4444444444444444,
                            "#bd3786"
                          ],
                          [
                            0.5555555555555556,
                            "#d8576b"
                          ],
                          [
                            0.6666666666666666,
                            "#ed7953"
                          ],
                          [
                            0.7777777777777778,
                            "#fb9f3a"
                          ],
                          [
                            0.8888888888888888,
                            "#fdca26"
                          ],
                          [
                            1,
                            "#f0f921"
                          ]
                        ]
                      }
                    ],
                    "heatmapgl": [
                      {
                        "type": "heatmapgl",
                        "colorbar": {
                          "outlinewidth": 0,
                          "ticks": ""
                        },
                        "colorscale": [
                          [
                            0,
                            "#0d0887"
                          ],
                          [
                            0.1111111111111111,
                            "#46039f"
                          ],
                          [
                            0.2222222222222222,
                            "#7201a8"
                          ],
                          [
                            0.3333333333333333,
                            "#9c179e"
                          ],
                          [
                            0.4444444444444444,
                            "#bd3786"
                          ],
                          [
                            0.5555555555555556,
                            "#d8576b"
                          ],
                          [
                            0.6666666666666666,
                            "#ed7953"
                          ],
                          [
                            0.7777777777777778,
                            "#fb9f3a"
                          ],
                          [
                            0.8888888888888888,
                            "#fdca26"
                          ],
                          [
                            1,
                            "#f0f921"
                          ]
                        ]
                      }
                    ],
                    "contourcarpet": [
                      {
                        "type": "contourcarpet",
                        "colorbar": {
                          "outlinewidth": 0,
                          "ticks": ""
                        }
                      }
                    ],
                    "contour": [
                      {
                        "type": "contour",
                        "colorbar": {
                          "outlinewidth": 0,
                          "ticks": ""
                        },
                        "colorscale": [
                          [
                            0,
                            "#0d0887"
                          ],
                          [
                            0.1111111111111111,
                            "#46039f"
                          ],
                          [
                            0.2222222222222222,
                            "#7201a8"
                          ],
                          [
                            0.3333333333333333,
                            "#9c179e"
                          ],
                          [
                            0.4444444444444444,
                            "#bd3786"
                          ],
                          [
                            0.5555555555555556,
                            "#d8576b"
                          ],
                          [
                            0.6666666666666666,
                            "#ed7953"
                          ],
                          [
                            0.7777777777777778,
                            "#fb9f3a"
                          ],
                          [
                            0.8888888888888888,
                            "#fdca26"
                          ],
                          [
                            1,
                            "#f0f921"
                          ]
                        ]
                      }
                    ],
                    "surface": [
                      {
                        "type": "surface",
                        "colorbar": {
                          "outlinewidth": 0,
                          "ticks": ""
                        },
                        "colorscale": [
                          [
                            0,
                            "#0d0887"
                          ],
                          [
                            0.1111111111111111,
                            "#46039f"
                          ],
                          [
                            0.2222222222222222,
                            "#7201a8"
                          ],
                          [
                            0.3333333333333333,
                            "#9c179e"
                          ],
                          [
                            0.4444444444444444,
                            "#bd3786"
                          ],
                          [
                            0.5555555555555556,
                            "#d8576b"
                          ],
                          [
                            0.6666666666666666,
                            "#ed7953"
                          ],
                          [
                            0.7777777777777778,
                            "#fb9f3a"
                          ],
                          [
                            0.8888888888888888,
                            "#fdca26"
                          ],
                          [
                            1,
                            "#f0f921"
                          ]
                        ]
                      }
                    ],
                    "mesh3d": [
                      {
                        "type": "mesh3d",
                        "colorbar": {
                          "outlinewidth": 0,
                          "ticks": ""
                        }
                      }
                    ],
                    "scatter": [
                      {
                        "fillpattern": {
                          "fillmode": "overlay",
                          "size": 10,
                          "solidity": 0.2
                        },
                        "type": "scatter"
                      }
                    ],
                    "parcoords": [
                      {
                        "type": "parcoords",
                        "line": {
                          "colorbar": {
                            "outlinewidth": 0,
                            "ticks": ""
                          }
                        }
                      }
                    ],
                    "scatterpolargl": [
                      {
                        "type": "scatterpolargl",
                        "marker": {
                          "colorbar": {
                            "outlinewidth": 0,
                            "ticks": ""
                          }
                        }
                      }
                    ],
                    "bar": [
                      {
                        "error_x": {
                          "color": "#2a3f5f"
                        },
                        "error_y": {
                          "color": "#2a3f5f"
                        },
                        "marker": {
                          "line": {
                            "color": "#E5ECF6",
                            "width": 0.5
                          },
                          "pattern": {
                            "fillmode": "overlay",
                            "size": 10,
                            "solidity": 0.2
                          }
                        },
                        "type": "bar"
                      }
                    ],
                    "scattergeo": [
                      {
                        "type": "scattergeo",
                        "marker": {
                          "colorbar": {
                            "outlinewidth": 0,
                            "ticks": ""
                          }
                        }
                      }
                    ],
                    "scatterpolar": [
                      {
                        "type": "scatterpolar",
                        "marker": {
                          "colorbar": {
                            "outlinewidth": 0,
                            "ticks": ""
                          }
                        }
                      }
                    ],
                    "histogram": [
                      {
                        "marker": {
                          "pattern": {
                            "fillmode": "overlay",
                            "size": 10,
                            "solidity": 0.2
                          }
                        },
                        "type": "histogram"
                      }
                    ],
                    "scattergl": [
                      {
                        "type": "scattergl",
                        "marker": {
                          "colorbar": {
                            "outlinewidth": 0,
                            "ticks": ""
                          }
                        }
                      }
                    ],
                    "scatter3d": [
                      {
                        "type": "scatter3d",
                        "line": {
                          "colorbar": {
                            "outlinewidth": 0,
                            "ticks": ""
                          }
                        },
                        "marker": {
                          "colorbar": {
                            "outlinewidth": 0,
                            "ticks": ""
                          }
                        }
                      }
                    ],
                    "scattermapbox": [
                      {
                        "type": "scattermapbox",
                        "marker": {
                          "colorbar": {
                            "outlinewidth": 0,
                            "ticks": ""
                          }
                        }
                      }
                    ],
                    "scatterternary": [
                      {
                        "type": "scatterternary",
                        "marker": {
                          "colorbar": {
                            "outlinewidth": 0,
                            "ticks": ""
                          }
                        }
                      }
                    ],
                    "scattercarpet": [
                      {
                        "type": "scattercarpet",
                        "marker": {
                          "colorbar": {
                            "outlinewidth": 0,
                            "ticks": ""
                          }
                        }
                      }
                    ],
                    "carpet": [
                      {
                        "aaxis": {
                          "endlinecolor": "#2a3f5f",
                          "gridcolor": "white",
                          "linecolor": "white",
                          "minorgridcolor": "white",
                          "startlinecolor": "#2a3f5f"
                        },
                        "baxis": {
                          "endlinecolor": "#2a3f5f",
                          "gridcolor": "white",
                          "linecolor": "white",
                          "minorgridcolor": "white",
                          "startlinecolor": "#2a3f5f"
                        },
                        "type": "carpet"
                      }
                    ],
                    "table": [
                      {
                        "cells": {
                          "fill": {
                            "color": "#EBF0F8"
                          },
                          "line": {
                            "color": "white"
                          }
                        },
                        "header": {
                          "fill": {
                            "color": "#C8D4E3"
                          },
                          "line": {
                            "color": "white"
                          }
                        },
                        "type": "table"
                      }
                    ],
                    "barpolar": [
                      {
                        "marker": {
                          "line": {
                            "color": "#E5ECF6",
                            "width": 0.5
                          },
                          "pattern": {
                            "fillmode": "overlay",
                            "size": 10,
                            "solidity": 0.2
                          }
                        },
                        "type": "barpolar"
                      }
                    ],
                    "pie": [
                      {
                        "automargin": true,
                        "type": "pie"
                      }
                    ]
                  },
                  "layout": {
                    "autotypenumbers": "strict",
                    "colorway": [
                      "#636efa",
                      "#EF553B",
                      "#00cc96",
                      "#ab63fa",
                      "#FFA15A",
                      "#19d3f3",
                      "#FF6692",
                      "#B6E880",
                      "#FF97FF",
                      "#FECB52"
                    ],
                    "font": {
                      "color": "#2a3f5f"
                    },
                    "hovermode": "closest",
                    "hoverlabel": {
                      "align": "left"
                    },
                    "paper_bgcolor": "white",
                    "plot_bgcolor": "#E5ECF6",
                    "polar": {
                      "bgcolor": "#E5ECF6",
                      "angularaxis": {
                        "gridcolor": "white",
                        "linecolor": "white",
                        "ticks": ""
                      },
                      "radialaxis": {
                        "gridcolor": "white",
                        "linecolor": "white",
                        "ticks": ""
                      }
                    },
                    "ternary": {
                      "bgcolor": "#E5ECF6",
                      "aaxis": {
                        "gridcolor": "white",
                        "linecolor": "white",
                        "ticks": ""
                      },
                      "baxis": {
                        "gridcolor": "white",
                        "linecolor": "white",
                        "ticks": ""
                      },
                      "caxis": {
                        "gridcolor": "white",
                        "linecolor": "white",
                        "ticks": ""
                      }
                    },
                    "coloraxis": {
                      "colorbar": {
                        "outlinewidth": 0,
                        "ticks": ""
                      }
                    },
                    "colorscale": {
                      "sequential": [
                        [
                          0,
                          "#0d0887"
                        ],
                        [
                          0.1111111111111111,
                          "#46039f"
                        ],
                        [
                          0.2222222222222222,
                          "#7201a8"
                        ],
                        [
                          0.3333333333333333,
                          "#9c179e"
                        ],
                        [
                          0.4444444444444444,
                          "#bd3786"
                        ],
                        [
                          0.5555555555555556,
                          "#d8576b"
                        ],
                        [
                          0.6666666666666666,
                          "#ed7953"
                        ],
                        [
                          0.7777777777777778,
                          "#fb9f3a"
                        ],
                        [
                          0.8888888888888888,
                          "#fdca26"
                        ],
                        [
                          1,
                          "#f0f921"
                        ]
                      ],
                      "sequentialminus": [
                        [
                          0,
                          "#0d0887"
                        ],
                        [
                          0.1111111111111111,
                          "#46039f"
                        ],
                        [
                          0.2222222222222222,
                          "#7201a8"
                        ],
                        [
                          0.3333333333333333,
                          "#9c179e"
                        ],
                        [
                          0.4444444444444444,
                          "#bd3786"
                        ],
                        [
                          0.5555555555555556,
                          "#d8576b"
                        ],
                        [
                          0.6666666666666666,
                          "#ed7953"
                        ],
                        [
                          0.7777777777777778,
                          "#fb9f3a"
                        ],
                        [
                          0.8888888888888888,
                          "#fdca26"
                        ],
                        [
                          1,
                          "#f0f921"
                        ]
                      ],
                      "diverging": [
                        [
                          0,
                          "#8e0152"
                        ],
                        [
                          0.1,
                          "#c51b7d"
                        ],
                        [
                          0.2,
                          "#de77ae"
                        ],
                        [
                          0.3,
                          "#f1b6da"
                        ],
                        [
                          0.4,
                          "#fde0ef"
                        ],
                        [
                          0.5,
                          "#f7f7f7"
                        ],
                        [
                          0.6,
                          "#e6f5d0"
                        ],
                        [
                          0.7,
                          "#b8e186"
                        ],
                        [
                          0.8,
                          "#7fbc41"
                        ],
                        [
                          0.9,
                          "#4d9221"
                        ],
                        [
                          1,
                          "#276419"
                        ]
                      ]
                    },
                    "xaxis": {
                      "gridcolor": "white",
                      "linecolor": "white",
                      "ticks": "",
                      "title": {
                        "standoff": 15
                      },
                      "zerolinecolor": "white",
                      "automargin": true,
                      "zerolinewidth": 2
                    },
                    "yaxis": {
                      "gridcolor": "white",
                      "linecolor": "white",
                      "ticks": "",
                      "title": {
                        "standoff": 15
                      },
                      "zerolinecolor": "white",
                      "automargin": true,
                      "zerolinewidth": 2
                    },
                    "scene": {
                      "xaxis": {
                        "backgroundcolor": "#E5ECF6",
                        "gridcolor": "white",
                        "linecolor": "white",
                        "showbackground": true,
                        "ticks": "",
                        "zerolinecolor": "white",
                        "gridwidth": 2
                      },
                      "yaxis": {
                        "backgroundcolor": "#E5ECF6",
                        "gridcolor": "white",
                        "linecolor": "white",
                        "showbackground": true,
                        "ticks": "",
                        "zerolinecolor": "white",
                        "gridwidth": 2
                      },
                      "zaxis": {
                        "backgroundcolor": "#E5ECF6",
                        "gridcolor": "white",
                        "linecolor": "white",
                        "showbackground": true,
                        "ticks": "",
                        "zerolinecolor": "white",
                        "gridwidth": 2
                      }
                    },
                    "shapedefaults": {
                      "line": {
                        "color": "#2a3f5f"
                      }
                    },
                    "annotationdefaults": {
                      "arrowcolor": "#2a3f5f",
                      "arrowhead": 0,
                      "arrowwidth": 1
                    },
                    "geo": {
                      "bgcolor": "white",
                      "landcolor": "#E5ECF6",
                      "subunitcolor": "white",
                      "showland": true,
                      "showlakes": true,
                      "lakecolor": "white"
                    },
                    "title": {
                      "x": 0.05
                    },
                    "mapbox": {
                      "style": "light"
                    }
                  }
                }
              },
              "config": {
                "plotlyServerURL": "https://plot.ly"
              }
            },
            "text/html": "<div>                            <div id=\"9dd493e9-ca71-485c-8878-3e0a72413208\" class=\"plotly-graph-div\" style=\"height:525px; width:100%;\"></div>            <script type=\"text/javascript\">                require([\"plotly\"], function(Plotly) {                    window.PLOTLYENV=window.PLOTLYENV || {};                                    if (document.getElementById(\"9dd493e9-ca71-485c-8878-3e0a72413208\")) {                    Plotly.newPlot(                        \"9dd493e9-ca71-485c-8878-3e0a72413208\",                        [{\"hoverinfo\":\"text\",\"marker\":{\"autocolorscale\":true,\"cmin\":0,\"color\":[0,0,0,0,0,0,0,0,0,0,0,0,0,0,0,0,0,0,0,0,0,0,0,0,0,0,0,0,0,0,0,0,0,0,0,0,0,0,0,0,0,0,0,0,0,0,0,0,0,0,0,0,0,0,0,0,0,0,0,0,0,0,0,0,0,0,0,0,0,0,0,0,0,0,0,0,0,0,0,0],\"colorbar\":{\"title\":{\"text\":\"Score variance\"}},\"reversescale\":true,\"size\":20,\"symbol\":\"circle\"},\"mode\":\"markers\",\"showlegend\":false,\"text\":[\"Kamran Akmal  Peshawar Zalmi\",\"Babar Azam  Karachi Kings\",\"DR Smith  Islamabad United\",\"RR Rossouw  Quetta Gladiators\",\"KP Pietersen  Quetta Gladiators\",\"Ahmed Shehzad  Quetta Gladiators\",\"KC Sangakkara  Karachi Kings\",\"Shoaib Malik  Karachi Kings\",\"KA Pollard  Karachi Kings\",\"Sarfraz Ahmed  Quetta Gladiators\",\"Fakhar Zaman  Lahore Qalandars\",\"Shahid Afridi  Peshawar Zalmi\",\"DJ Malan  Peshawar Zalmi\",\"JJ Roy  Lahore Qalandars\",\"SR Watson  Islamabad United\",\"Umar Akmal  Lahore Qalandars\",\"CH Gayle  Karachi Kings\",\"Misbah-ul-Haq  Islamabad United\",\"Mohammad Hafeez  Peshawar Zalmi\",\"Asad Shafiq  Quetta Gladiators\",\"BJ Haddin  Islamabad United\",\"EJG Morgan  Peshawar Zalmi\",\"SW Billings  Islamabad United\",\"Mohammad Rizwan  Lahore Qalandars\",\"DJG Sammy  Peshawar Zalmi\",\"RS Bopara  Karachi Kings\",\"SP Narine  Lahore Qalandars\",\"Tamim Iqbal  Peshawar Zalmi\",\"BB McCullum  Lahore Qalandars\",\"Imad Wasim  Karachi Kings\",\"CS Delport  Lahore Qalandars\",\"MN Samuels  Peshawar Zalmi\",\"GD Elliott  Lahore Qalandars\",\"Sohail Tanvir  Lahore Qalandars\",\"Hussain Talat  Islamabad United\",\"Shadab Khan  Islamabad United\",\"Anwar Ali  Quetta Gladiators\",\"Shakib Al Hasan  Peshawar Zalmi\",\"Asif Ali  Islamabad United\",\"Rafatullah Mohmand  Islamabad United\",\"NLTC Perera  Quetta Gladiators\",\"Mahmudullah  Quetta Gladiators\",\"Sohaib Maqsood  Peshawar Zalmi\",\"Haris Sohail  Peshawar Zalmi\",\"Wahab Riaz  Peshawar Zalmi\",\"BM Duckett  Islamabad United\",\"Hasan Khan  Quetta Gladiators\",\"CJ Jordan  Peshawar Zalmi\",\"Aamer Yamin  Lahore Qalandars\",\"Amad Butt  Islamabad United\",\"SM Ervine  Quetta Gladiators\",\"Mohammad Amir  Karachi Kings\",\"Hasan Ali  Peshawar Zalmi\",\"Yasir Shah  Lahore Qalandars\",\"Mohammad Nawaz (3)  Quetta Gladiators\",\"Shahzaib Hasan  Karachi Kings\",\"Saad Nasim  Quetta Gladiators\",\"Sohail Khan  Karachi Kings\",\"Iftikhar Ahmed  Peshawar Zalmi\",\"LJ Wright  Quetta Gladiators\",\"DPMD Jayawardene  Karachi Kings\",\"RR Emrit  Quetta Gladiators\",\"Usama Mir  Karachi Kings\",\"Mohammad Irfan (4)  Lahore Qalandars\",\"Anamul Haque  Quetta Gladiators\",\"Umar Gul  Quetta Gladiators\",\"Bilawal Bhatti  Lahore Qalandars\",\"Mohammad Sami  Islamabad United\",\"TS Mills  Quetta Gladiators\",\"N Pooran  Islamabad United\",\"Ghulam Mudassar  Lahore Qalandars\",\"Sharjeel Khan  Islamabad United\",\"Imran Khalid  Islamabad United\",\"Junaid Khan  Peshawar Zalmi\",\"Khushdil Shah  Peshawar Zalmi\",\"MN van Wyk  Quetta Gladiators\",\"Zulfiqar Babar  Quetta Gladiators\",\"Usman Khan  Karachi Kings\",\"Rumman Raees  Islamabad United\",\"Mohammad Irfan  Islamabad United\"],\"x\":[32.09090909090909,29.1,30.444444444444443,31.875,34.42857142857143,26.444444444444443,21.5,20.2,22.333333333333332,20.333333333333332,22.125,22.125,29.166666666666668,34.6,19.0,20.5,17.77777777777778,19.75,17.0,24.5,15.444444444444445,22.666666666666668,26.6,18.571428571428573,13.333333333333334,11.9,16.571428571428573,18.8,13.285714285714286,10.375,20.5,16.2,10.571428571428571,11.333333333333334,33.5,11.0,11.4,13.5,11.5,15.333333333333334,13.333333333333334,12.333333333333334,7.0,10.333333333333334,6.2,15.0,6.5,6.5,12.5,8.333333333333334,24.0,6.0,4.6,11.5,5.0,9.5,6.0,4.0,5.0,12.0,10.0,6.0,2.5,1.0,3.0,2.0,1.0,0.5,0.5,1.0,1.0,1.0,1.0,1.0,1.0,1.0,0.5,0.0,0.0,0.0],\"y\":[128.83211678832117,109.81132075471699,110.93117408906883,121.42857142857143,148.76543209876544,127.95698924731182,114.36170212765957,120.23809523809524,162.09677419354838,128.8732394366197,136.15384615384616,163.88888888888889,129.62962962962962,149.13793103448276,132.5581395348837,124.24242424242425,108.84353741496598,108.21917808219177,96.83544303797468,106.52173913043478,118.80341880341881,101.49253731343283,134.34343434343435,120.37037037037037,127.65957446808511,94.44444444444444,170.58823529411765,106.81818181818181,116.25,129.6875,146.42857142857142,120.8955223880597,92.5,103.03030303030303,131.37254901960785,157.14285714285714,129.54545454545453,110.20408163265306,102.22222222222223,124.32432432432432,111.11111111111111,137.03703703703704,92.10526315789474,67.3913043478261,79.48717948717949,88.23529411764706,96.29629629629629,86.66666666666667,96.15384615384616,96.15384615384616,126.3157894736842,114.28571428571429,153.33333333333334,100.0,105.26315789473684,111.76470588235294,105.88235294117646,114.28571428571429,57.69230769230769,171.42857142857142,125.0,66.66666666666667,125.0,66.66666666666667,33.333333333333336,66.66666666666667,28.571428571428573,50.0,50.0,33.333333333333336,100.0,25.0,100.0,50.0,16.666666666666668,14.285714285714286,33.333333333333336,0.0,0.0,0.0],\"type\":\"scatter\"}],                        {\"paper_bgcolor\":\"white\",\"plot_bgcolor\":\"white\",\"title\":{\"text\":\"All batsman's performance - Average runs, Strike rate, Score variance\"},\"xaxis\":{\"showgrid\":false,\"title\":{\"text\":\"Average runs\"},\"zeroline\":false},\"yaxis\":{\"color\":\"black\",\"showgrid\":true,\"title\":{\"font\":{\"color\":\"black\"},\"text\":\"Strike rate\"},\"zeroline\":false},\"template\":{\"data\":{\"histogram2dcontour\":[{\"type\":\"histogram2dcontour\",\"colorbar\":{\"outlinewidth\":0,\"ticks\":\"\"},\"colorscale\":[[0.0,\"#0d0887\"],[0.1111111111111111,\"#46039f\"],[0.2222222222222222,\"#7201a8\"],[0.3333333333333333,\"#9c179e\"],[0.4444444444444444,\"#bd3786\"],[0.5555555555555556,\"#d8576b\"],[0.6666666666666666,\"#ed7953\"],[0.7777777777777778,\"#fb9f3a\"],[0.8888888888888888,\"#fdca26\"],[1.0,\"#f0f921\"]]}],\"choropleth\":[{\"type\":\"choropleth\",\"colorbar\":{\"outlinewidth\":0,\"ticks\":\"\"}}],\"histogram2d\":[{\"type\":\"histogram2d\",\"colorbar\":{\"outlinewidth\":0,\"ticks\":\"\"},\"colorscale\":[[0.0,\"#0d0887\"],[0.1111111111111111,\"#46039f\"],[0.2222222222222222,\"#7201a8\"],[0.3333333333333333,\"#9c179e\"],[0.4444444444444444,\"#bd3786\"],[0.5555555555555556,\"#d8576b\"],[0.6666666666666666,\"#ed7953\"],[0.7777777777777778,\"#fb9f3a\"],[0.8888888888888888,\"#fdca26\"],[1.0,\"#f0f921\"]]}],\"heatmap\":[{\"type\":\"heatmap\",\"colorbar\":{\"outlinewidth\":0,\"ticks\":\"\"},\"colorscale\":[[0.0,\"#0d0887\"],[0.1111111111111111,\"#46039f\"],[0.2222222222222222,\"#7201a8\"],[0.3333333333333333,\"#9c179e\"],[0.4444444444444444,\"#bd3786\"],[0.5555555555555556,\"#d8576b\"],[0.6666666666666666,\"#ed7953\"],[0.7777777777777778,\"#fb9f3a\"],[0.8888888888888888,\"#fdca26\"],[1.0,\"#f0f921\"]]}],\"heatmapgl\":[{\"type\":\"heatmapgl\",\"colorbar\":{\"outlinewidth\":0,\"ticks\":\"\"},\"colorscale\":[[0.0,\"#0d0887\"],[0.1111111111111111,\"#46039f\"],[0.2222222222222222,\"#7201a8\"],[0.3333333333333333,\"#9c179e\"],[0.4444444444444444,\"#bd3786\"],[0.5555555555555556,\"#d8576b\"],[0.6666666666666666,\"#ed7953\"],[0.7777777777777778,\"#fb9f3a\"],[0.8888888888888888,\"#fdca26\"],[1.0,\"#f0f921\"]]}],\"contourcarpet\":[{\"type\":\"contourcarpet\",\"colorbar\":{\"outlinewidth\":0,\"ticks\":\"\"}}],\"contour\":[{\"type\":\"contour\",\"colorbar\":{\"outlinewidth\":0,\"ticks\":\"\"},\"colorscale\":[[0.0,\"#0d0887\"],[0.1111111111111111,\"#46039f\"],[0.2222222222222222,\"#7201a8\"],[0.3333333333333333,\"#9c179e\"],[0.4444444444444444,\"#bd3786\"],[0.5555555555555556,\"#d8576b\"],[0.6666666666666666,\"#ed7953\"],[0.7777777777777778,\"#fb9f3a\"],[0.8888888888888888,\"#fdca26\"],[1.0,\"#f0f921\"]]}],\"surface\":[{\"type\":\"surface\",\"colorbar\":{\"outlinewidth\":0,\"ticks\":\"\"},\"colorscale\":[[0.0,\"#0d0887\"],[0.1111111111111111,\"#46039f\"],[0.2222222222222222,\"#7201a8\"],[0.3333333333333333,\"#9c179e\"],[0.4444444444444444,\"#bd3786\"],[0.5555555555555556,\"#d8576b\"],[0.6666666666666666,\"#ed7953\"],[0.7777777777777778,\"#fb9f3a\"],[0.8888888888888888,\"#fdca26\"],[1.0,\"#f0f921\"]]}],\"mesh3d\":[{\"type\":\"mesh3d\",\"colorbar\":{\"outlinewidth\":0,\"ticks\":\"\"}}],\"scatter\":[{\"fillpattern\":{\"fillmode\":\"overlay\",\"size\":10,\"solidity\":0.2},\"type\":\"scatter\"}],\"parcoords\":[{\"type\":\"parcoords\",\"line\":{\"colorbar\":{\"outlinewidth\":0,\"ticks\":\"\"}}}],\"scatterpolargl\":[{\"type\":\"scatterpolargl\",\"marker\":{\"colorbar\":{\"outlinewidth\":0,\"ticks\":\"\"}}}],\"bar\":[{\"error_x\":{\"color\":\"#2a3f5f\"},\"error_y\":{\"color\":\"#2a3f5f\"},\"marker\":{\"line\":{\"color\":\"#E5ECF6\",\"width\":0.5},\"pattern\":{\"fillmode\":\"overlay\",\"size\":10,\"solidity\":0.2}},\"type\":\"bar\"}],\"scattergeo\":[{\"type\":\"scattergeo\",\"marker\":{\"colorbar\":{\"outlinewidth\":0,\"ticks\":\"\"}}}],\"scatterpolar\":[{\"type\":\"scatterpolar\",\"marker\":{\"colorbar\":{\"outlinewidth\":0,\"ticks\":\"\"}}}],\"histogram\":[{\"marker\":{\"pattern\":{\"fillmode\":\"overlay\",\"size\":10,\"solidity\":0.2}},\"type\":\"histogram\"}],\"scattergl\":[{\"type\":\"scattergl\",\"marker\":{\"colorbar\":{\"outlinewidth\":0,\"ticks\":\"\"}}}],\"scatter3d\":[{\"type\":\"scatter3d\",\"line\":{\"colorbar\":{\"outlinewidth\":0,\"ticks\":\"\"}},\"marker\":{\"colorbar\":{\"outlinewidth\":0,\"ticks\":\"\"}}}],\"scattermapbox\":[{\"type\":\"scattermapbox\",\"marker\":{\"colorbar\":{\"outlinewidth\":0,\"ticks\":\"\"}}}],\"scatterternary\":[{\"type\":\"scatterternary\",\"marker\":{\"colorbar\":{\"outlinewidth\":0,\"ticks\":\"\"}}}],\"scattercarpet\":[{\"type\":\"scattercarpet\",\"marker\":{\"colorbar\":{\"outlinewidth\":0,\"ticks\":\"\"}}}],\"carpet\":[{\"aaxis\":{\"endlinecolor\":\"#2a3f5f\",\"gridcolor\":\"white\",\"linecolor\":\"white\",\"minorgridcolor\":\"white\",\"startlinecolor\":\"#2a3f5f\"},\"baxis\":{\"endlinecolor\":\"#2a3f5f\",\"gridcolor\":\"white\",\"linecolor\":\"white\",\"minorgridcolor\":\"white\",\"startlinecolor\":\"#2a3f5f\"},\"type\":\"carpet\"}],\"table\":[{\"cells\":{\"fill\":{\"color\":\"#EBF0F8\"},\"line\":{\"color\":\"white\"}},\"header\":{\"fill\":{\"color\":\"#C8D4E3\"},\"line\":{\"color\":\"white\"}},\"type\":\"table\"}],\"barpolar\":[{\"marker\":{\"line\":{\"color\":\"#E5ECF6\",\"width\":0.5},\"pattern\":{\"fillmode\":\"overlay\",\"size\":10,\"solidity\":0.2}},\"type\":\"barpolar\"}],\"pie\":[{\"automargin\":true,\"type\":\"pie\"}]},\"layout\":{\"autotypenumbers\":\"strict\",\"colorway\":[\"#636efa\",\"#EF553B\",\"#00cc96\",\"#ab63fa\",\"#FFA15A\",\"#19d3f3\",\"#FF6692\",\"#B6E880\",\"#FF97FF\",\"#FECB52\"],\"font\":{\"color\":\"#2a3f5f\"},\"hovermode\":\"closest\",\"hoverlabel\":{\"align\":\"left\"},\"paper_bgcolor\":\"white\",\"plot_bgcolor\":\"#E5ECF6\",\"polar\":{\"bgcolor\":\"#E5ECF6\",\"angularaxis\":{\"gridcolor\":\"white\",\"linecolor\":\"white\",\"ticks\":\"\"},\"radialaxis\":{\"gridcolor\":\"white\",\"linecolor\":\"white\",\"ticks\":\"\"}},\"ternary\":{\"bgcolor\":\"#E5ECF6\",\"aaxis\":{\"gridcolor\":\"white\",\"linecolor\":\"white\",\"ticks\":\"\"},\"baxis\":{\"gridcolor\":\"white\",\"linecolor\":\"white\",\"ticks\":\"\"},\"caxis\":{\"gridcolor\":\"white\",\"linecolor\":\"white\",\"ticks\":\"\"}},\"coloraxis\":{\"colorbar\":{\"outlinewidth\":0,\"ticks\":\"\"}},\"colorscale\":{\"sequential\":[[0.0,\"#0d0887\"],[0.1111111111111111,\"#46039f\"],[0.2222222222222222,\"#7201a8\"],[0.3333333333333333,\"#9c179e\"],[0.4444444444444444,\"#bd3786\"],[0.5555555555555556,\"#d8576b\"],[0.6666666666666666,\"#ed7953\"],[0.7777777777777778,\"#fb9f3a\"],[0.8888888888888888,\"#fdca26\"],[1.0,\"#f0f921\"]],\"sequentialminus\":[[0.0,\"#0d0887\"],[0.1111111111111111,\"#46039f\"],[0.2222222222222222,\"#7201a8\"],[0.3333333333333333,\"#9c179e\"],[0.4444444444444444,\"#bd3786\"],[0.5555555555555556,\"#d8576b\"],[0.6666666666666666,\"#ed7953\"],[0.7777777777777778,\"#fb9f3a\"],[0.8888888888888888,\"#fdca26\"],[1.0,\"#f0f921\"]],\"diverging\":[[0,\"#8e0152\"],[0.1,\"#c51b7d\"],[0.2,\"#de77ae\"],[0.3,\"#f1b6da\"],[0.4,\"#fde0ef\"],[0.5,\"#f7f7f7\"],[0.6,\"#e6f5d0\"],[0.7,\"#b8e186\"],[0.8,\"#7fbc41\"],[0.9,\"#4d9221\"],[1,\"#276419\"]]},\"xaxis\":{\"gridcolor\":\"white\",\"linecolor\":\"white\",\"ticks\":\"\",\"title\":{\"standoff\":15},\"zerolinecolor\":\"white\",\"automargin\":true,\"zerolinewidth\":2},\"yaxis\":{\"gridcolor\":\"white\",\"linecolor\":\"white\",\"ticks\":\"\",\"title\":{\"standoff\":15},\"zerolinecolor\":\"white\",\"automargin\":true,\"zerolinewidth\":2},\"scene\":{\"xaxis\":{\"backgroundcolor\":\"#E5ECF6\",\"gridcolor\":\"white\",\"linecolor\":\"white\",\"showbackground\":true,\"ticks\":\"\",\"zerolinecolor\":\"white\",\"gridwidth\":2},\"yaxis\":{\"backgroundcolor\":\"#E5ECF6\",\"gridcolor\":\"white\",\"linecolor\":\"white\",\"showbackground\":true,\"ticks\":\"\",\"zerolinecolor\":\"white\",\"gridwidth\":2},\"zaxis\":{\"backgroundcolor\":\"#E5ECF6\",\"gridcolor\":\"white\",\"linecolor\":\"white\",\"showbackground\":true,\"ticks\":\"\",\"zerolinecolor\":\"white\",\"gridwidth\":2}},\"shapedefaults\":{\"line\":{\"color\":\"#2a3f5f\"}},\"annotationdefaults\":{\"arrowcolor\":\"#2a3f5f\",\"arrowhead\":0,\"arrowwidth\":1},\"geo\":{\"bgcolor\":\"white\",\"landcolor\":\"#E5ECF6\",\"subunitcolor\":\"white\",\"showland\":true,\"showlakes\":true,\"lakecolor\":\"white\"},\"title\":{\"x\":0.05},\"mapbox\":{\"style\":\"light\"}}}},                        {\"responsive\": true}                    ).then(function(){\n                            \nvar gd = document.getElementById('9dd493e9-ca71-485c-8878-3e0a72413208');\nvar x = new MutationObserver(function (mutations, observer) {{\n        var display = window.getComputedStyle(gd).display;\n        if (!display || display === 'none') {{\n            console.log([gd, 'removed!']);\n            Plotly.purge(gd);\n            observer.disconnect();\n        }}\n}});\n\n// Listen for the removal of the full notebook cells\nvar notebookContainer = gd.closest('#notebook-container');\nif (notebookContainer) {{\n    x.observe(notebookContainer, {childList: true});\n}}\n\n// Listen for the clearing of the current output cell\nvar outputEl = gd.closest('.output');\nif (outputEl) {{\n    x.observe(outputEl, {childList: true});\n}}\n\n                        })                };                });            </script>        </div>"
          },
          "metadata": {}
        }
      ],
      "source": [
        "import plotly.express as px\n",
        "\n",
        "def wick(x):\n",
        "    if x != \"No dismisal\":\n",
        "        return 1\n",
        "    else:\n",
        "        return 0\n",
        "df['wicket'] = df['Dismisal_kind'].apply(lambda x: wick(x))\n",
        "\n",
        "\n",
        "def isSix(x):\n",
        "    if x == 6:\n",
        "        return 1\n",
        "    else:\n",
        "        return 0\n",
        "    \n",
        "def isFour(x):\n",
        "    if x == 4:\n",
        "        return 1\n",
        "    else:\n",
        "        return 0\n",
        "df['Six'] = df['Batsman_runs'].map(lambda x: isSix(x))\n",
        "df['Four'] = df['Batsman_runs'].map(lambda x: isFour(x))\n",
        "\n",
        "\n",
        "\n",
        "#Ball-by-ball detail for each batsman\n",
        "\n",
        "df_bat = pd.merge(df.groupby(['Batsman_strike','Match_id']).sum().reset_index()[['Batsman_strike','Match_id','Batsman_runs']], df.groupby(['Batsman_strike', 'Match_id']).count().reset_index()[['Batsman_strike','Match_id', 'Ball']].rename(columns = {'Ball': 'Balls_played'}), on = ['Batsman_strike', 'Match_id'])\n",
        "\n",
        "\n",
        "\n",
        "##Batting datafrane\n",
        "df_batAvg = pd.merge(pd.merge(df_bat.groupby('Batsman_strike').mean().reset_index()[['Batsman_strike','Batsman_runs', 'Balls_played']].rename(columns = {'Batsman_runs' : 'AvgRuns_match' , 'Balls_played': 'AvgBalls_match'}), df[['Batsman_strike', 'Batting_team']].drop_duplicates(keep = 'first'), on = 'Batsman_strike') , pd.merge(df.groupby(['Batsman_strike']).sum().reset_index()[['Batsman_strike', 'Batsman_runs', 'Six', 'Four']].rename(columns = {'Batsman_runs': 'TotalRuns', 'Six':'TotalSixes', 'Four':'TotalFours'}), df.groupby(['Batsman_strike']).count().reset_index()[['Batsman_strike' , 'Ball']].rename(columns = {'Ball': 'Balls_played'}), on ='Batsman_strike'), on = 'Batsman_strike')                         \n",
        "\n",
        "df_batAvg['Runs_sq'] = 0\n",
        "df_batAvg['Matches_played'] = 0\n",
        "\n",
        "\n",
        "#To calculate variance\n",
        "for i in range(len(df_batAvg)):\n",
        "    for j in range(len(df_bat)):\n",
        "        if df_batAvg.iloc[i]['Batsman_strike'] == df_bat.iloc[j]['Batsman_strike']:\n",
        "            df_batAvg['Runs_sq'].iloc[i] += df_bat.iloc[j]['Batsman_runs'] **2\n",
        "            df_batAvg['Matches_played'].iloc[i] += 1\n",
        "\n",
        "\n",
        "#Strke rate, % boundary and Variance\n",
        "df_batAvg['Strike_rate'] = df_batAvg['TotalRuns'] * 100 /df_batAvg['Balls_played']\n",
        "df_batAvg['PercentageRuns_boundary'] = (df_batAvg['TotalSixes']* 6 + df_batAvg['TotalFours'] * 4) * 100/df_batAvg['TotalRuns']\n",
        "\n",
        "NumberMatches = df_batAvg['Matches_played']\n",
        "AvgRuns = df_batAvg['AvgRuns_match']\n",
        "df_batAvg[\"Var\"] = 0\n",
        "\n",
        "\n",
        "\n",
        "\n",
        "\n",
        "\n",
        "df_batAvg = df_batAvg.sort_values(by = 'TotalRuns', ascending = False)\n",
        "\n",
        "\n",
        "##Batsman Scatter\n",
        "\n",
        "z = df_batAvg['Batsman_strike']\n",
        "trace = go.Scatter(y = df_batAvg['Strike_rate'], x= df_batAvg['AvgRuns_match'], mode = 'markers', showlegend = False , text = df_batAvg['Batsman_strike'] + \"  \" + df_batAvg['Batting_team'], hoverinfo =  \"text\", marker = dict(size = 20, symbol = 'circle' , cmin = 0, autocolorscale = True, reversescale = True, colorbar = {'title' : {'text': 'Score variance'}}, color = df_batAvg['Var']))\n",
        "data = [trace]\n",
        "\n",
        "layout = go.Layout(\n",
        "    paper_bgcolor = 'white',plot_bgcolor = 'white' , yaxis = \n",
        "    dict(title = dict(text = \"Strike rate\" , font = dict(color ='black')) ,showgrid = True, zeroline = False, color = 'black'), \n",
        "    xaxis = dict( title= dict( text = 'Average runs'), showgrid = False, zeroline= False), title = dict(text = \"All batsman's performance - Average runs, Strike rate, Score variance\")\n",
        "    )\n",
        "fig = go.Figure(data = data, layout = layout)\n",
        "plotly.offline.init_notebook_mode(connected=True)\n",
        "plotly.offline.plot(fig, include_plotlyjs = False, output_type = 'div')\n",
        "\n",
        "# px.scatter(y = df_batAvg['Strike_rate'], x= df_batAvg['AvgRuns_match'], color=df_batAvg[\"Var\"])\n",
        "fig.show()\n",
        "\n",
        "##\n",
        "##Queetta has 6, pesh, lahore has 4, khi, Isl has 3 in top quadrant\n",
        "##prints\n"
      ]
    },
    {
      "cell_type": "code",
      "execution_count": 532,
      "metadata": {},
      "outputs": [],
      "source": [
        "def quadrant_chart(x, y, team,var=None, xtick_labels=None, ytick_labels=None, highlight_quadrants=None):\n",
        "    \"\"\"\n",
        "    Create the classic four-quadrant chart.\n",
        "    Args:\n",
        "        x -- array-like, the x-coordinates to plot\n",
        "        y -- array-like, the y-coordinates to plot\n",
        "        xtick_labels -- list, default: None, a two-value list xtick labels\n",
        "        ytick_labels -- list, default: None, a two-value list of ytick labels\n",
        "        data_labels -- array-like, default: None, data point annotations\n",
        "        highlight_quadrants -- list, default: None, list of quadrants to\n",
        "            emphasize (quadrants are numbered 1-4)\n",
        "        ax -- matplotlib.axes object, default: None, the user can pass their own\n",
        "            axes object if desired\n",
        "    \"\"\"\n",
        "    # allow user to specify their own axes\n",
        "    # ax = ax if ax else plt.axes()\n",
        "\n",
        "    data = pd.DataFrame({'x': x, 'y': y, 'team':team, 'var':var})\n",
        "\n",
        "    # calculate averages up front to avoid repeated calculations\n",
        "    y_avg = data['y'].mean()\n",
        "    x_avg = data['x'].mean()\n",
        "\n",
        "    # determine which points to highlight\n",
        "    # if highlight_quadrants:\n",
        "    #     quadrants = []\n",
        "    #     for x_val, y_val in zip(x, y):\n",
        "    #         q = []\n",
        "    #         if (x_val >= x_avg) and (y_val >= y_avg):\n",
        "    #             q.append(1)\n",
        "    #         if (x_val <= x_avg) and (y_val >= y_avg):\n",
        "    #             q.append(2)\n",
        "    #         if (x_val <= x_avg) and (y_val <= y_avg):\n",
        "    #             q.append(3)\n",
        "    #         if (x_val >= x_avg) and (y_val <= y_avg):\n",
        "    #             q.append(4)\n",
        "    #         quadrants.append(q)\n",
        "    #     data['quadrant'] = quadrants\n",
        "\n",
        "    #     # boolean mask - True = highlight, False = don't highlight\n",
        "    #     highlight = data['quadrant'].apply(lambda q: len(set(\n",
        "    #     highlight_quadrants) & set(q)) > 0)\n",
        "\n",
        "    #     # plot the non-highlighted points within the conditional block\n",
        "    #     fig= px.scatter(data['x'][~highlight], data['y'][~highlight], color=data['bat_team'][~highlight])\n",
        "    #     data = data[highlight]\n",
        "\n",
        "    # plot remaining points and quadrant lines\n",
        "    # fig = px.scatter(x=data['x'], y=data['y'], color= data['var'])\n",
        "    # fig.add_hline(y= y_avg, line_color='red', line_width=1)\n",
        "    # fig.add_vline(x = x_avg, line_color='green', line_width=1)\n",
        "    \n",
        "    fig1= px.scatter(x=data['x'], y=data['y'], color= data['team'])\n",
        "    fig1.add_hline(y= y_avg, line_color='red', line_width=1)\n",
        "    fig1.add_vline(x = x_avg, line_color='green', line_width=1)\n",
        "    fig.show()\n",
        "    fig1.show()\n",
        "\n",
        "    # # add data labels\n",
        "    # for ix, row in data.iterrows():\n",
        "    #     px.annotate(row['data_labels'], (row['x'], row['y']), xytext=(2, 5),\n",
        "    #     textcoords='offset pixels')"
      ]
    },
    {
      "cell_type": "code",
      "execution_count": 528,
      "metadata": {},
      "outputs": [
        {
          "output_type": "display_data",
          "data": {
            "application/vnd.plotly.v1+json": {
              "data": [
                {
                  "hoverinfo": "text",
                  "marker": {
                    "autocolorscale": true,
                    "cmin": 0,
                    "color": [
                      0,
                      0,
                      0,
                      0,
                      0,
                      0,
                      0,
                      0,
                      0,
                      0,
                      0,
                      0,
                      0,
                      0,
                      0,
                      0,
                      0,
                      0,
                      0,
                      0,
                      0,
                      0,
                      0,
                      0,
                      0,
                      0,
                      0,
                      0,
                      0,
                      0,
                      0,
                      0,
                      0,
                      0,
                      0,
                      0,
                      0,
                      0,
                      0,
                      0,
                      0,
                      0,
                      0,
                      0,
                      0,
                      0,
                      0,
                      0,
                      0,
                      0,
                      0,
                      0,
                      0,
                      0,
                      0,
                      0,
                      0,
                      0,
                      0,
                      0,
                      0,
                      0,
                      0,
                      0,
                      0,
                      0,
                      0,
                      0,
                      0,
                      0,
                      0,
                      0,
                      0,
                      0,
                      0,
                      0,
                      0,
                      0,
                      0,
                      0
                    ],
                    "colorbar": {
                      "title": {
                        "text": "Score variance"
                      }
                    },
                    "reversescale": true,
                    "size": 20,
                    "symbol": "circle"
                  },
                  "mode": "markers",
                  "showlegend": false,
                  "text": [
                    "Kamran Akmal  Peshawar Zalmi",
                    "Babar Azam  Karachi Kings",
                    "DR Smith  Islamabad United",
                    "RR Rossouw  Quetta Gladiators",
                    "KP Pietersen  Quetta Gladiators",
                    "Ahmed Shehzad  Quetta Gladiators",
                    "KC Sangakkara  Karachi Kings",
                    "Shoaib Malik  Karachi Kings",
                    "KA Pollard  Karachi Kings",
                    "Sarfraz Ahmed  Quetta Gladiators",
                    "Fakhar Zaman  Lahore Qalandars",
                    "Shahid Afridi  Peshawar Zalmi",
                    "DJ Malan  Peshawar Zalmi",
                    "JJ Roy  Lahore Qalandars",
                    "SR Watson  Islamabad United",
                    "Umar Akmal  Lahore Qalandars",
                    "CH Gayle  Karachi Kings",
                    "Misbah-ul-Haq  Islamabad United",
                    "Mohammad Hafeez  Peshawar Zalmi",
                    "Asad Shafiq  Quetta Gladiators",
                    "BJ Haddin  Islamabad United",
                    "EJG Morgan  Peshawar Zalmi",
                    "SW Billings  Islamabad United",
                    "Mohammad Rizwan  Lahore Qalandars",
                    "DJG Sammy  Peshawar Zalmi",
                    "RS Bopara  Karachi Kings",
                    "SP Narine  Lahore Qalandars",
                    "Tamim Iqbal  Peshawar Zalmi",
                    "BB McCullum  Lahore Qalandars",
                    "Imad Wasim  Karachi Kings",
                    "CS Delport  Lahore Qalandars",
                    "MN Samuels  Peshawar Zalmi",
                    "GD Elliott  Lahore Qalandars",
                    "Sohail Tanvir  Lahore Qalandars",
                    "Hussain Talat  Islamabad United",
                    "Shadab Khan  Islamabad United",
                    "Anwar Ali  Quetta Gladiators",
                    "Shakib Al Hasan  Peshawar Zalmi",
                    "Asif Ali  Islamabad United",
                    "Rafatullah Mohmand  Islamabad United",
                    "NLTC Perera  Quetta Gladiators",
                    "Mahmudullah  Quetta Gladiators",
                    "Sohaib Maqsood  Peshawar Zalmi",
                    "Haris Sohail  Peshawar Zalmi",
                    "Wahab Riaz  Peshawar Zalmi",
                    "BM Duckett  Islamabad United",
                    "Hasan Khan  Quetta Gladiators",
                    "CJ Jordan  Peshawar Zalmi",
                    "Aamer Yamin  Lahore Qalandars",
                    "Amad Butt  Islamabad United",
                    "SM Ervine  Quetta Gladiators",
                    "Mohammad Amir  Karachi Kings",
                    "Hasan Ali  Peshawar Zalmi",
                    "Yasir Shah  Lahore Qalandars",
                    "Mohammad Nawaz (3)  Quetta Gladiators",
                    "Shahzaib Hasan  Karachi Kings",
                    "Saad Nasim  Quetta Gladiators",
                    "Sohail Khan  Karachi Kings",
                    "Iftikhar Ahmed  Peshawar Zalmi",
                    "LJ Wright  Quetta Gladiators",
                    "DPMD Jayawardene  Karachi Kings",
                    "RR Emrit  Quetta Gladiators",
                    "Usama Mir  Karachi Kings",
                    "Mohammad Irfan (4)  Lahore Qalandars",
                    "Anamul Haque  Quetta Gladiators",
                    "Umar Gul  Quetta Gladiators",
                    "Bilawal Bhatti  Lahore Qalandars",
                    "Mohammad Sami  Islamabad United",
                    "TS Mills  Quetta Gladiators",
                    "N Pooran  Islamabad United",
                    "Ghulam Mudassar  Lahore Qalandars",
                    "Sharjeel Khan  Islamabad United",
                    "Imran Khalid  Islamabad United",
                    "Junaid Khan  Peshawar Zalmi",
                    "Khushdil Shah  Peshawar Zalmi",
                    "MN van Wyk  Quetta Gladiators",
                    "Zulfiqar Babar  Quetta Gladiators",
                    "Usman Khan  Karachi Kings",
                    "Rumman Raees  Islamabad United",
                    "Mohammad Irfan  Islamabad United"
                  ],
                  "x": [
                    32.09090909090909,
                    29.1,
                    30.444444444444443,
                    31.875,
                    34.42857142857143,
                    26.444444444444443,
                    21.5,
                    20.2,
                    22.333333333333332,
                    20.333333333333332,
                    22.125,
                    22.125,
                    29.166666666666668,
                    34.6,
                    19,
                    20.5,
                    17.77777777777778,
                    19.75,
                    17,
                    24.5,
                    15.444444444444445,
                    22.666666666666668,
                    26.6,
                    18.571428571428573,
                    13.333333333333334,
                    11.9,
                    16.571428571428573,
                    18.8,
                    13.285714285714286,
                    10.375,
                    20.5,
                    16.2,
                    10.571428571428571,
                    11.333333333333334,
                    33.5,
                    11,
                    11.4,
                    13.5,
                    11.5,
                    15.333333333333334,
                    13.333333333333334,
                    12.333333333333334,
                    7,
                    10.333333333333334,
                    6.2,
                    15,
                    6.5,
                    6.5,
                    12.5,
                    8.333333333333334,
                    24,
                    6,
                    4.6,
                    11.5,
                    5,
                    9.5,
                    6,
                    4,
                    5,
                    12,
                    10,
                    6,
                    2.5,
                    1,
                    3,
                    2,
                    1,
                    0.5,
                    0.5,
                    1,
                    1,
                    1,
                    1,
                    1,
                    1,
                    1,
                    0.5,
                    0,
                    0,
                    0
                  ],
                  "y": [
                    128.83211678832117,
                    109.81132075471699,
                    110.93117408906883,
                    121.42857142857143,
                    148.76543209876544,
                    127.95698924731182,
                    114.36170212765957,
                    120.23809523809524,
                    162.09677419354838,
                    128.8732394366197,
                    136.15384615384616,
                    163.88888888888889,
                    129.62962962962962,
                    149.13793103448276,
                    132.5581395348837,
                    124.24242424242425,
                    108.84353741496598,
                    108.21917808219177,
                    96.83544303797468,
                    106.52173913043478,
                    118.80341880341881,
                    101.49253731343283,
                    134.34343434343435,
                    120.37037037037037,
                    127.65957446808511,
                    94.44444444444444,
                    170.58823529411765,
                    106.81818181818181,
                    116.25,
                    129.6875,
                    146.42857142857142,
                    120.8955223880597,
                    92.5,
                    103.03030303030303,
                    131.37254901960785,
                    157.14285714285714,
                    129.54545454545453,
                    110.20408163265306,
                    102.22222222222223,
                    124.32432432432432,
                    111.11111111111111,
                    137.03703703703704,
                    92.10526315789474,
                    67.3913043478261,
                    79.48717948717949,
                    88.23529411764706,
                    96.29629629629629,
                    86.66666666666667,
                    96.15384615384616,
                    96.15384615384616,
                    126.3157894736842,
                    114.28571428571429,
                    153.33333333333334,
                    100,
                    105.26315789473684,
                    111.76470588235294,
                    105.88235294117646,
                    114.28571428571429,
                    57.69230769230769,
                    171.42857142857142,
                    125,
                    66.66666666666667,
                    125,
                    66.66666666666667,
                    33.333333333333336,
                    66.66666666666667,
                    28.571428571428573,
                    50,
                    50,
                    33.333333333333336,
                    100,
                    25,
                    100,
                    50,
                    16.666666666666668,
                    14.285714285714286,
                    33.333333333333336,
                    0,
                    0,
                    0
                  ],
                  "type": "scatter"
                }
              ],
              "layout": {
                "paper_bgcolor": "white",
                "plot_bgcolor": "white",
                "title": {
                  "text": "All batsman's performance - Average runs, Strike rate, Score variance"
                },
                "xaxis": {
                  "showgrid": false,
                  "title": {
                    "text": "Average runs"
                  },
                  "zeroline": false
                },
                "yaxis": {
                  "color": "black",
                  "showgrid": true,
                  "title": {
                    "font": {
                      "color": "black"
                    },
                    "text": "Strike rate"
                  },
                  "zeroline": false
                },
                "template": {
                  "data": {
                    "histogram2dcontour": [
                      {
                        "type": "histogram2dcontour",
                        "colorbar": {
                          "outlinewidth": 0,
                          "ticks": ""
                        },
                        "colorscale": [
                          [
                            0,
                            "#0d0887"
                          ],
                          [
                            0.1111111111111111,
                            "#46039f"
                          ],
                          [
                            0.2222222222222222,
                            "#7201a8"
                          ],
                          [
                            0.3333333333333333,
                            "#9c179e"
                          ],
                          [
                            0.4444444444444444,
                            "#bd3786"
                          ],
                          [
                            0.5555555555555556,
                            "#d8576b"
                          ],
                          [
                            0.6666666666666666,
                            "#ed7953"
                          ],
                          [
                            0.7777777777777778,
                            "#fb9f3a"
                          ],
                          [
                            0.8888888888888888,
                            "#fdca26"
                          ],
                          [
                            1,
                            "#f0f921"
                          ]
                        ]
                      }
                    ],
                    "choropleth": [
                      {
                        "type": "choropleth",
                        "colorbar": {
                          "outlinewidth": 0,
                          "ticks": ""
                        }
                      }
                    ],
                    "histogram2d": [
                      {
                        "type": "histogram2d",
                        "colorbar": {
                          "outlinewidth": 0,
                          "ticks": ""
                        },
                        "colorscale": [
                          [
                            0,
                            "#0d0887"
                          ],
                          [
                            0.1111111111111111,
                            "#46039f"
                          ],
                          [
                            0.2222222222222222,
                            "#7201a8"
                          ],
                          [
                            0.3333333333333333,
                            "#9c179e"
                          ],
                          [
                            0.4444444444444444,
                            "#bd3786"
                          ],
                          [
                            0.5555555555555556,
                            "#d8576b"
                          ],
                          [
                            0.6666666666666666,
                            "#ed7953"
                          ],
                          [
                            0.7777777777777778,
                            "#fb9f3a"
                          ],
                          [
                            0.8888888888888888,
                            "#fdca26"
                          ],
                          [
                            1,
                            "#f0f921"
                          ]
                        ]
                      }
                    ],
                    "heatmap": [
                      {
                        "type": "heatmap",
                        "colorbar": {
                          "outlinewidth": 0,
                          "ticks": ""
                        },
                        "colorscale": [
                          [
                            0,
                            "#0d0887"
                          ],
                          [
                            0.1111111111111111,
                            "#46039f"
                          ],
                          [
                            0.2222222222222222,
                            "#7201a8"
                          ],
                          [
                            0.3333333333333333,
                            "#9c179e"
                          ],
                          [
                            0.4444444444444444,
                            "#bd3786"
                          ],
                          [
                            0.5555555555555556,
                            "#d8576b"
                          ],
                          [
                            0.6666666666666666,
                            "#ed7953"
                          ],
                          [
                            0.7777777777777778,
                            "#fb9f3a"
                          ],
                          [
                            0.8888888888888888,
                            "#fdca26"
                          ],
                          [
                            1,
                            "#f0f921"
                          ]
                        ]
                      }
                    ],
                    "heatmapgl": [
                      {
                        "type": "heatmapgl",
                        "colorbar": {
                          "outlinewidth": 0,
                          "ticks": ""
                        },
                        "colorscale": [
                          [
                            0,
                            "#0d0887"
                          ],
                          [
                            0.1111111111111111,
                            "#46039f"
                          ],
                          [
                            0.2222222222222222,
                            "#7201a8"
                          ],
                          [
                            0.3333333333333333,
                            "#9c179e"
                          ],
                          [
                            0.4444444444444444,
                            "#bd3786"
                          ],
                          [
                            0.5555555555555556,
                            "#d8576b"
                          ],
                          [
                            0.6666666666666666,
                            "#ed7953"
                          ],
                          [
                            0.7777777777777778,
                            "#fb9f3a"
                          ],
                          [
                            0.8888888888888888,
                            "#fdca26"
                          ],
                          [
                            1,
                            "#f0f921"
                          ]
                        ]
                      }
                    ],
                    "contourcarpet": [
                      {
                        "type": "contourcarpet",
                        "colorbar": {
                          "outlinewidth": 0,
                          "ticks": ""
                        }
                      }
                    ],
                    "contour": [
                      {
                        "type": "contour",
                        "colorbar": {
                          "outlinewidth": 0,
                          "ticks": ""
                        },
                        "colorscale": [
                          [
                            0,
                            "#0d0887"
                          ],
                          [
                            0.1111111111111111,
                            "#46039f"
                          ],
                          [
                            0.2222222222222222,
                            "#7201a8"
                          ],
                          [
                            0.3333333333333333,
                            "#9c179e"
                          ],
                          [
                            0.4444444444444444,
                            "#bd3786"
                          ],
                          [
                            0.5555555555555556,
                            "#d8576b"
                          ],
                          [
                            0.6666666666666666,
                            "#ed7953"
                          ],
                          [
                            0.7777777777777778,
                            "#fb9f3a"
                          ],
                          [
                            0.8888888888888888,
                            "#fdca26"
                          ],
                          [
                            1,
                            "#f0f921"
                          ]
                        ]
                      }
                    ],
                    "surface": [
                      {
                        "type": "surface",
                        "colorbar": {
                          "outlinewidth": 0,
                          "ticks": ""
                        },
                        "colorscale": [
                          [
                            0,
                            "#0d0887"
                          ],
                          [
                            0.1111111111111111,
                            "#46039f"
                          ],
                          [
                            0.2222222222222222,
                            "#7201a8"
                          ],
                          [
                            0.3333333333333333,
                            "#9c179e"
                          ],
                          [
                            0.4444444444444444,
                            "#bd3786"
                          ],
                          [
                            0.5555555555555556,
                            "#d8576b"
                          ],
                          [
                            0.6666666666666666,
                            "#ed7953"
                          ],
                          [
                            0.7777777777777778,
                            "#fb9f3a"
                          ],
                          [
                            0.8888888888888888,
                            "#fdca26"
                          ],
                          [
                            1,
                            "#f0f921"
                          ]
                        ]
                      }
                    ],
                    "mesh3d": [
                      {
                        "type": "mesh3d",
                        "colorbar": {
                          "outlinewidth": 0,
                          "ticks": ""
                        }
                      }
                    ],
                    "scatter": [
                      {
                        "fillpattern": {
                          "fillmode": "overlay",
                          "size": 10,
                          "solidity": 0.2
                        },
                        "type": "scatter"
                      }
                    ],
                    "parcoords": [
                      {
                        "type": "parcoords",
                        "line": {
                          "colorbar": {
                            "outlinewidth": 0,
                            "ticks": ""
                          }
                        }
                      }
                    ],
                    "scatterpolargl": [
                      {
                        "type": "scatterpolargl",
                        "marker": {
                          "colorbar": {
                            "outlinewidth": 0,
                            "ticks": ""
                          }
                        }
                      }
                    ],
                    "bar": [
                      {
                        "error_x": {
                          "color": "#2a3f5f"
                        },
                        "error_y": {
                          "color": "#2a3f5f"
                        },
                        "marker": {
                          "line": {
                            "color": "#E5ECF6",
                            "width": 0.5
                          },
                          "pattern": {
                            "fillmode": "overlay",
                            "size": 10,
                            "solidity": 0.2
                          }
                        },
                        "type": "bar"
                      }
                    ],
                    "scattergeo": [
                      {
                        "type": "scattergeo",
                        "marker": {
                          "colorbar": {
                            "outlinewidth": 0,
                            "ticks": ""
                          }
                        }
                      }
                    ],
                    "scatterpolar": [
                      {
                        "type": "scatterpolar",
                        "marker": {
                          "colorbar": {
                            "outlinewidth": 0,
                            "ticks": ""
                          }
                        }
                      }
                    ],
                    "histogram": [
                      {
                        "marker": {
                          "pattern": {
                            "fillmode": "overlay",
                            "size": 10,
                            "solidity": 0.2
                          }
                        },
                        "type": "histogram"
                      }
                    ],
                    "scattergl": [
                      {
                        "type": "scattergl",
                        "marker": {
                          "colorbar": {
                            "outlinewidth": 0,
                            "ticks": ""
                          }
                        }
                      }
                    ],
                    "scatter3d": [
                      {
                        "type": "scatter3d",
                        "line": {
                          "colorbar": {
                            "outlinewidth": 0,
                            "ticks": ""
                          }
                        },
                        "marker": {
                          "colorbar": {
                            "outlinewidth": 0,
                            "ticks": ""
                          }
                        }
                      }
                    ],
                    "scattermapbox": [
                      {
                        "type": "scattermapbox",
                        "marker": {
                          "colorbar": {
                            "outlinewidth": 0,
                            "ticks": ""
                          }
                        }
                      }
                    ],
                    "scatterternary": [
                      {
                        "type": "scatterternary",
                        "marker": {
                          "colorbar": {
                            "outlinewidth": 0,
                            "ticks": ""
                          }
                        }
                      }
                    ],
                    "scattercarpet": [
                      {
                        "type": "scattercarpet",
                        "marker": {
                          "colorbar": {
                            "outlinewidth": 0,
                            "ticks": ""
                          }
                        }
                      }
                    ],
                    "carpet": [
                      {
                        "aaxis": {
                          "endlinecolor": "#2a3f5f",
                          "gridcolor": "white",
                          "linecolor": "white",
                          "minorgridcolor": "white",
                          "startlinecolor": "#2a3f5f"
                        },
                        "baxis": {
                          "endlinecolor": "#2a3f5f",
                          "gridcolor": "white",
                          "linecolor": "white",
                          "minorgridcolor": "white",
                          "startlinecolor": "#2a3f5f"
                        },
                        "type": "carpet"
                      }
                    ],
                    "table": [
                      {
                        "cells": {
                          "fill": {
                            "color": "#EBF0F8"
                          },
                          "line": {
                            "color": "white"
                          }
                        },
                        "header": {
                          "fill": {
                            "color": "#C8D4E3"
                          },
                          "line": {
                            "color": "white"
                          }
                        },
                        "type": "table"
                      }
                    ],
                    "barpolar": [
                      {
                        "marker": {
                          "line": {
                            "color": "#E5ECF6",
                            "width": 0.5
                          },
                          "pattern": {
                            "fillmode": "overlay",
                            "size": 10,
                            "solidity": 0.2
                          }
                        },
                        "type": "barpolar"
                      }
                    ],
                    "pie": [
                      {
                        "automargin": true,
                        "type": "pie"
                      }
                    ]
                  },
                  "layout": {
                    "autotypenumbers": "strict",
                    "colorway": [
                      "#636efa",
                      "#EF553B",
                      "#00cc96",
                      "#ab63fa",
                      "#FFA15A",
                      "#19d3f3",
                      "#FF6692",
                      "#B6E880",
                      "#FF97FF",
                      "#FECB52"
                    ],
                    "font": {
                      "color": "#2a3f5f"
                    },
                    "hovermode": "closest",
                    "hoverlabel": {
                      "align": "left"
                    },
                    "paper_bgcolor": "white",
                    "plot_bgcolor": "#E5ECF6",
                    "polar": {
                      "bgcolor": "#E5ECF6",
                      "angularaxis": {
                        "gridcolor": "white",
                        "linecolor": "white",
                        "ticks": ""
                      },
                      "radialaxis": {
                        "gridcolor": "white",
                        "linecolor": "white",
                        "ticks": ""
                      }
                    },
                    "ternary": {
                      "bgcolor": "#E5ECF6",
                      "aaxis": {
                        "gridcolor": "white",
                        "linecolor": "white",
                        "ticks": ""
                      },
                      "baxis": {
                        "gridcolor": "white",
                        "linecolor": "white",
                        "ticks": ""
                      },
                      "caxis": {
                        "gridcolor": "white",
                        "linecolor": "white",
                        "ticks": ""
                      }
                    },
                    "coloraxis": {
                      "colorbar": {
                        "outlinewidth": 0,
                        "ticks": ""
                      }
                    },
                    "colorscale": {
                      "sequential": [
                        [
                          0,
                          "#0d0887"
                        ],
                        [
                          0.1111111111111111,
                          "#46039f"
                        ],
                        [
                          0.2222222222222222,
                          "#7201a8"
                        ],
                        [
                          0.3333333333333333,
                          "#9c179e"
                        ],
                        [
                          0.4444444444444444,
                          "#bd3786"
                        ],
                        [
                          0.5555555555555556,
                          "#d8576b"
                        ],
                        [
                          0.6666666666666666,
                          "#ed7953"
                        ],
                        [
                          0.7777777777777778,
                          "#fb9f3a"
                        ],
                        [
                          0.8888888888888888,
                          "#fdca26"
                        ],
                        [
                          1,
                          "#f0f921"
                        ]
                      ],
                      "sequentialminus": [
                        [
                          0,
                          "#0d0887"
                        ],
                        [
                          0.1111111111111111,
                          "#46039f"
                        ],
                        [
                          0.2222222222222222,
                          "#7201a8"
                        ],
                        [
                          0.3333333333333333,
                          "#9c179e"
                        ],
                        [
                          0.4444444444444444,
                          "#bd3786"
                        ],
                        [
                          0.5555555555555556,
                          "#d8576b"
                        ],
                        [
                          0.6666666666666666,
                          "#ed7953"
                        ],
                        [
                          0.7777777777777778,
                          "#fb9f3a"
                        ],
                        [
                          0.8888888888888888,
                          "#fdca26"
                        ],
                        [
                          1,
                          "#f0f921"
                        ]
                      ],
                      "diverging": [
                        [
                          0,
                          "#8e0152"
                        ],
                        [
                          0.1,
                          "#c51b7d"
                        ],
                        [
                          0.2,
                          "#de77ae"
                        ],
                        [
                          0.3,
                          "#f1b6da"
                        ],
                        [
                          0.4,
                          "#fde0ef"
                        ],
                        [
                          0.5,
                          "#f7f7f7"
                        ],
                        [
                          0.6,
                          "#e6f5d0"
                        ],
                        [
                          0.7,
                          "#b8e186"
                        ],
                        [
                          0.8,
                          "#7fbc41"
                        ],
                        [
                          0.9,
                          "#4d9221"
                        ],
                        [
                          1,
                          "#276419"
                        ]
                      ]
                    },
                    "xaxis": {
                      "gridcolor": "white",
                      "linecolor": "white",
                      "ticks": "",
                      "title": {
                        "standoff": 15
                      },
                      "zerolinecolor": "white",
                      "automargin": true,
                      "zerolinewidth": 2
                    },
                    "yaxis": {
                      "gridcolor": "white",
                      "linecolor": "white",
                      "ticks": "",
                      "title": {
                        "standoff": 15
                      },
                      "zerolinecolor": "white",
                      "automargin": true,
                      "zerolinewidth": 2
                    },
                    "scene": {
                      "xaxis": {
                        "backgroundcolor": "#E5ECF6",
                        "gridcolor": "white",
                        "linecolor": "white",
                        "showbackground": true,
                        "ticks": "",
                        "zerolinecolor": "white",
                        "gridwidth": 2
                      },
                      "yaxis": {
                        "backgroundcolor": "#E5ECF6",
                        "gridcolor": "white",
                        "linecolor": "white",
                        "showbackground": true,
                        "ticks": "",
                        "zerolinecolor": "white",
                        "gridwidth": 2
                      },
                      "zaxis": {
                        "backgroundcolor": "#E5ECF6",
                        "gridcolor": "white",
                        "linecolor": "white",
                        "showbackground": true,
                        "ticks": "",
                        "zerolinecolor": "white",
                        "gridwidth": 2
                      }
                    },
                    "shapedefaults": {
                      "line": {
                        "color": "#2a3f5f"
                      }
                    },
                    "annotationdefaults": {
                      "arrowcolor": "#2a3f5f",
                      "arrowhead": 0,
                      "arrowwidth": 1
                    },
                    "geo": {
                      "bgcolor": "white",
                      "landcolor": "#E5ECF6",
                      "subunitcolor": "white",
                      "showland": true,
                      "showlakes": true,
                      "lakecolor": "white"
                    },
                    "title": {
                      "x": 0.05
                    },
                    "mapbox": {
                      "style": "light"
                    }
                  }
                }
              },
              "config": {
                "plotlyServerURL": "https://plot.ly"
              }
            },
            "text/html": "<div>                            <div id=\"4851d4cc-2d7c-4073-8f4a-a5528fdb470c\" class=\"plotly-graph-div\" style=\"height:525px; width:100%;\"></div>            <script type=\"text/javascript\">                require([\"plotly\"], function(Plotly) {                    window.PLOTLYENV=window.PLOTLYENV || {};                                    if (document.getElementById(\"4851d4cc-2d7c-4073-8f4a-a5528fdb470c\")) {                    Plotly.newPlot(                        \"4851d4cc-2d7c-4073-8f4a-a5528fdb470c\",                        [{\"hoverinfo\":\"text\",\"marker\":{\"autocolorscale\":true,\"cmin\":0,\"color\":[0,0,0,0,0,0,0,0,0,0,0,0,0,0,0,0,0,0,0,0,0,0,0,0,0,0,0,0,0,0,0,0,0,0,0,0,0,0,0,0,0,0,0,0,0,0,0,0,0,0,0,0,0,0,0,0,0,0,0,0,0,0,0,0,0,0,0,0,0,0,0,0,0,0,0,0,0,0,0,0],\"colorbar\":{\"title\":{\"text\":\"Score variance\"}},\"reversescale\":true,\"size\":20,\"symbol\":\"circle\"},\"mode\":\"markers\",\"showlegend\":false,\"text\":[\"Kamran Akmal  Peshawar Zalmi\",\"Babar Azam  Karachi Kings\",\"DR Smith  Islamabad United\",\"RR Rossouw  Quetta Gladiators\",\"KP Pietersen  Quetta Gladiators\",\"Ahmed Shehzad  Quetta Gladiators\",\"KC Sangakkara  Karachi Kings\",\"Shoaib Malik  Karachi Kings\",\"KA Pollard  Karachi Kings\",\"Sarfraz Ahmed  Quetta Gladiators\",\"Fakhar Zaman  Lahore Qalandars\",\"Shahid Afridi  Peshawar Zalmi\",\"DJ Malan  Peshawar Zalmi\",\"JJ Roy  Lahore Qalandars\",\"SR Watson  Islamabad United\",\"Umar Akmal  Lahore Qalandars\",\"CH Gayle  Karachi Kings\",\"Misbah-ul-Haq  Islamabad United\",\"Mohammad Hafeez  Peshawar Zalmi\",\"Asad Shafiq  Quetta Gladiators\",\"BJ Haddin  Islamabad United\",\"EJG Morgan  Peshawar Zalmi\",\"SW Billings  Islamabad United\",\"Mohammad Rizwan  Lahore Qalandars\",\"DJG Sammy  Peshawar Zalmi\",\"RS Bopara  Karachi Kings\",\"SP Narine  Lahore Qalandars\",\"Tamim Iqbal  Peshawar Zalmi\",\"BB McCullum  Lahore Qalandars\",\"Imad Wasim  Karachi Kings\",\"CS Delport  Lahore Qalandars\",\"MN Samuels  Peshawar Zalmi\",\"GD Elliott  Lahore Qalandars\",\"Sohail Tanvir  Lahore Qalandars\",\"Hussain Talat  Islamabad United\",\"Shadab Khan  Islamabad United\",\"Anwar Ali  Quetta Gladiators\",\"Shakib Al Hasan  Peshawar Zalmi\",\"Asif Ali  Islamabad United\",\"Rafatullah Mohmand  Islamabad United\",\"NLTC Perera  Quetta Gladiators\",\"Mahmudullah  Quetta Gladiators\",\"Sohaib Maqsood  Peshawar Zalmi\",\"Haris Sohail  Peshawar Zalmi\",\"Wahab Riaz  Peshawar Zalmi\",\"BM Duckett  Islamabad United\",\"Hasan Khan  Quetta Gladiators\",\"CJ Jordan  Peshawar Zalmi\",\"Aamer Yamin  Lahore Qalandars\",\"Amad Butt  Islamabad United\",\"SM Ervine  Quetta Gladiators\",\"Mohammad Amir  Karachi Kings\",\"Hasan Ali  Peshawar Zalmi\",\"Yasir Shah  Lahore Qalandars\",\"Mohammad Nawaz (3)  Quetta Gladiators\",\"Shahzaib Hasan  Karachi Kings\",\"Saad Nasim  Quetta Gladiators\",\"Sohail Khan  Karachi Kings\",\"Iftikhar Ahmed  Peshawar Zalmi\",\"LJ Wright  Quetta Gladiators\",\"DPMD Jayawardene  Karachi Kings\",\"RR Emrit  Quetta Gladiators\",\"Usama Mir  Karachi Kings\",\"Mohammad Irfan (4)  Lahore Qalandars\",\"Anamul Haque  Quetta Gladiators\",\"Umar Gul  Quetta Gladiators\",\"Bilawal Bhatti  Lahore Qalandars\",\"Mohammad Sami  Islamabad United\",\"TS Mills  Quetta Gladiators\",\"N Pooran  Islamabad United\",\"Ghulam Mudassar  Lahore Qalandars\",\"Sharjeel Khan  Islamabad United\",\"Imran Khalid  Islamabad United\",\"Junaid Khan  Peshawar Zalmi\",\"Khushdil Shah  Peshawar Zalmi\",\"MN van Wyk  Quetta Gladiators\",\"Zulfiqar Babar  Quetta Gladiators\",\"Usman Khan  Karachi Kings\",\"Rumman Raees  Islamabad United\",\"Mohammad Irfan  Islamabad United\"],\"x\":[32.09090909090909,29.1,30.444444444444443,31.875,34.42857142857143,26.444444444444443,21.5,20.2,22.333333333333332,20.333333333333332,22.125,22.125,29.166666666666668,34.6,19.0,20.5,17.77777777777778,19.75,17.0,24.5,15.444444444444445,22.666666666666668,26.6,18.571428571428573,13.333333333333334,11.9,16.571428571428573,18.8,13.285714285714286,10.375,20.5,16.2,10.571428571428571,11.333333333333334,33.5,11.0,11.4,13.5,11.5,15.333333333333334,13.333333333333334,12.333333333333334,7.0,10.333333333333334,6.2,15.0,6.5,6.5,12.5,8.333333333333334,24.0,6.0,4.6,11.5,5.0,9.5,6.0,4.0,5.0,12.0,10.0,6.0,2.5,1.0,3.0,2.0,1.0,0.5,0.5,1.0,1.0,1.0,1.0,1.0,1.0,1.0,0.5,0.0,0.0,0.0],\"y\":[128.83211678832117,109.81132075471699,110.93117408906883,121.42857142857143,148.76543209876544,127.95698924731182,114.36170212765957,120.23809523809524,162.09677419354838,128.8732394366197,136.15384615384616,163.88888888888889,129.62962962962962,149.13793103448276,132.5581395348837,124.24242424242425,108.84353741496598,108.21917808219177,96.83544303797468,106.52173913043478,118.80341880341881,101.49253731343283,134.34343434343435,120.37037037037037,127.65957446808511,94.44444444444444,170.58823529411765,106.81818181818181,116.25,129.6875,146.42857142857142,120.8955223880597,92.5,103.03030303030303,131.37254901960785,157.14285714285714,129.54545454545453,110.20408163265306,102.22222222222223,124.32432432432432,111.11111111111111,137.03703703703704,92.10526315789474,67.3913043478261,79.48717948717949,88.23529411764706,96.29629629629629,86.66666666666667,96.15384615384616,96.15384615384616,126.3157894736842,114.28571428571429,153.33333333333334,100.0,105.26315789473684,111.76470588235294,105.88235294117646,114.28571428571429,57.69230769230769,171.42857142857142,125.0,66.66666666666667,125.0,66.66666666666667,33.333333333333336,66.66666666666667,28.571428571428573,50.0,50.0,33.333333333333336,100.0,25.0,100.0,50.0,16.666666666666668,14.285714285714286,33.333333333333336,0.0,0.0,0.0],\"type\":\"scatter\"}],                        {\"paper_bgcolor\":\"white\",\"plot_bgcolor\":\"white\",\"title\":{\"text\":\"All batsman's performance - Average runs, Strike rate, Score variance\"},\"xaxis\":{\"showgrid\":false,\"title\":{\"text\":\"Average runs\"},\"zeroline\":false},\"yaxis\":{\"color\":\"black\",\"showgrid\":true,\"title\":{\"font\":{\"color\":\"black\"},\"text\":\"Strike rate\"},\"zeroline\":false},\"template\":{\"data\":{\"histogram2dcontour\":[{\"type\":\"histogram2dcontour\",\"colorbar\":{\"outlinewidth\":0,\"ticks\":\"\"},\"colorscale\":[[0.0,\"#0d0887\"],[0.1111111111111111,\"#46039f\"],[0.2222222222222222,\"#7201a8\"],[0.3333333333333333,\"#9c179e\"],[0.4444444444444444,\"#bd3786\"],[0.5555555555555556,\"#d8576b\"],[0.6666666666666666,\"#ed7953\"],[0.7777777777777778,\"#fb9f3a\"],[0.8888888888888888,\"#fdca26\"],[1.0,\"#f0f921\"]]}],\"choropleth\":[{\"type\":\"choropleth\",\"colorbar\":{\"outlinewidth\":0,\"ticks\":\"\"}}],\"histogram2d\":[{\"type\":\"histogram2d\",\"colorbar\":{\"outlinewidth\":0,\"ticks\":\"\"},\"colorscale\":[[0.0,\"#0d0887\"],[0.1111111111111111,\"#46039f\"],[0.2222222222222222,\"#7201a8\"],[0.3333333333333333,\"#9c179e\"],[0.4444444444444444,\"#bd3786\"],[0.5555555555555556,\"#d8576b\"],[0.6666666666666666,\"#ed7953\"],[0.7777777777777778,\"#fb9f3a\"],[0.8888888888888888,\"#fdca26\"],[1.0,\"#f0f921\"]]}],\"heatmap\":[{\"type\":\"heatmap\",\"colorbar\":{\"outlinewidth\":0,\"ticks\":\"\"},\"colorscale\":[[0.0,\"#0d0887\"],[0.1111111111111111,\"#46039f\"],[0.2222222222222222,\"#7201a8\"],[0.3333333333333333,\"#9c179e\"],[0.4444444444444444,\"#bd3786\"],[0.5555555555555556,\"#d8576b\"],[0.6666666666666666,\"#ed7953\"],[0.7777777777777778,\"#fb9f3a\"],[0.8888888888888888,\"#fdca26\"],[1.0,\"#f0f921\"]]}],\"heatmapgl\":[{\"type\":\"heatmapgl\",\"colorbar\":{\"outlinewidth\":0,\"ticks\":\"\"},\"colorscale\":[[0.0,\"#0d0887\"],[0.1111111111111111,\"#46039f\"],[0.2222222222222222,\"#7201a8\"],[0.3333333333333333,\"#9c179e\"],[0.4444444444444444,\"#bd3786\"],[0.5555555555555556,\"#d8576b\"],[0.6666666666666666,\"#ed7953\"],[0.7777777777777778,\"#fb9f3a\"],[0.8888888888888888,\"#fdca26\"],[1.0,\"#f0f921\"]]}],\"contourcarpet\":[{\"type\":\"contourcarpet\",\"colorbar\":{\"outlinewidth\":0,\"ticks\":\"\"}}],\"contour\":[{\"type\":\"contour\",\"colorbar\":{\"outlinewidth\":0,\"ticks\":\"\"},\"colorscale\":[[0.0,\"#0d0887\"],[0.1111111111111111,\"#46039f\"],[0.2222222222222222,\"#7201a8\"],[0.3333333333333333,\"#9c179e\"],[0.4444444444444444,\"#bd3786\"],[0.5555555555555556,\"#d8576b\"],[0.6666666666666666,\"#ed7953\"],[0.7777777777777778,\"#fb9f3a\"],[0.8888888888888888,\"#fdca26\"],[1.0,\"#f0f921\"]]}],\"surface\":[{\"type\":\"surface\",\"colorbar\":{\"outlinewidth\":0,\"ticks\":\"\"},\"colorscale\":[[0.0,\"#0d0887\"],[0.1111111111111111,\"#46039f\"],[0.2222222222222222,\"#7201a8\"],[0.3333333333333333,\"#9c179e\"],[0.4444444444444444,\"#bd3786\"],[0.5555555555555556,\"#d8576b\"],[0.6666666666666666,\"#ed7953\"],[0.7777777777777778,\"#fb9f3a\"],[0.8888888888888888,\"#fdca26\"],[1.0,\"#f0f921\"]]}],\"mesh3d\":[{\"type\":\"mesh3d\",\"colorbar\":{\"outlinewidth\":0,\"ticks\":\"\"}}],\"scatter\":[{\"fillpattern\":{\"fillmode\":\"overlay\",\"size\":10,\"solidity\":0.2},\"type\":\"scatter\"}],\"parcoords\":[{\"type\":\"parcoords\",\"line\":{\"colorbar\":{\"outlinewidth\":0,\"ticks\":\"\"}}}],\"scatterpolargl\":[{\"type\":\"scatterpolargl\",\"marker\":{\"colorbar\":{\"outlinewidth\":0,\"ticks\":\"\"}}}],\"bar\":[{\"error_x\":{\"color\":\"#2a3f5f\"},\"error_y\":{\"color\":\"#2a3f5f\"},\"marker\":{\"line\":{\"color\":\"#E5ECF6\",\"width\":0.5},\"pattern\":{\"fillmode\":\"overlay\",\"size\":10,\"solidity\":0.2}},\"type\":\"bar\"}],\"scattergeo\":[{\"type\":\"scattergeo\",\"marker\":{\"colorbar\":{\"outlinewidth\":0,\"ticks\":\"\"}}}],\"scatterpolar\":[{\"type\":\"scatterpolar\",\"marker\":{\"colorbar\":{\"outlinewidth\":0,\"ticks\":\"\"}}}],\"histogram\":[{\"marker\":{\"pattern\":{\"fillmode\":\"overlay\",\"size\":10,\"solidity\":0.2}},\"type\":\"histogram\"}],\"scattergl\":[{\"type\":\"scattergl\",\"marker\":{\"colorbar\":{\"outlinewidth\":0,\"ticks\":\"\"}}}],\"scatter3d\":[{\"type\":\"scatter3d\",\"line\":{\"colorbar\":{\"outlinewidth\":0,\"ticks\":\"\"}},\"marker\":{\"colorbar\":{\"outlinewidth\":0,\"ticks\":\"\"}}}],\"scattermapbox\":[{\"type\":\"scattermapbox\",\"marker\":{\"colorbar\":{\"outlinewidth\":0,\"ticks\":\"\"}}}],\"scatterternary\":[{\"type\":\"scatterternary\",\"marker\":{\"colorbar\":{\"outlinewidth\":0,\"ticks\":\"\"}}}],\"scattercarpet\":[{\"type\":\"scattercarpet\",\"marker\":{\"colorbar\":{\"outlinewidth\":0,\"ticks\":\"\"}}}],\"carpet\":[{\"aaxis\":{\"endlinecolor\":\"#2a3f5f\",\"gridcolor\":\"white\",\"linecolor\":\"white\",\"minorgridcolor\":\"white\",\"startlinecolor\":\"#2a3f5f\"},\"baxis\":{\"endlinecolor\":\"#2a3f5f\",\"gridcolor\":\"white\",\"linecolor\":\"white\",\"minorgridcolor\":\"white\",\"startlinecolor\":\"#2a3f5f\"},\"type\":\"carpet\"}],\"table\":[{\"cells\":{\"fill\":{\"color\":\"#EBF0F8\"},\"line\":{\"color\":\"white\"}},\"header\":{\"fill\":{\"color\":\"#C8D4E3\"},\"line\":{\"color\":\"white\"}},\"type\":\"table\"}],\"barpolar\":[{\"marker\":{\"line\":{\"color\":\"#E5ECF6\",\"width\":0.5},\"pattern\":{\"fillmode\":\"overlay\",\"size\":10,\"solidity\":0.2}},\"type\":\"barpolar\"}],\"pie\":[{\"automargin\":true,\"type\":\"pie\"}]},\"layout\":{\"autotypenumbers\":\"strict\",\"colorway\":[\"#636efa\",\"#EF553B\",\"#00cc96\",\"#ab63fa\",\"#FFA15A\",\"#19d3f3\",\"#FF6692\",\"#B6E880\",\"#FF97FF\",\"#FECB52\"],\"font\":{\"color\":\"#2a3f5f\"},\"hovermode\":\"closest\",\"hoverlabel\":{\"align\":\"left\"},\"paper_bgcolor\":\"white\",\"plot_bgcolor\":\"#E5ECF6\",\"polar\":{\"bgcolor\":\"#E5ECF6\",\"angularaxis\":{\"gridcolor\":\"white\",\"linecolor\":\"white\",\"ticks\":\"\"},\"radialaxis\":{\"gridcolor\":\"white\",\"linecolor\":\"white\",\"ticks\":\"\"}},\"ternary\":{\"bgcolor\":\"#E5ECF6\",\"aaxis\":{\"gridcolor\":\"white\",\"linecolor\":\"white\",\"ticks\":\"\"},\"baxis\":{\"gridcolor\":\"white\",\"linecolor\":\"white\",\"ticks\":\"\"},\"caxis\":{\"gridcolor\":\"white\",\"linecolor\":\"white\",\"ticks\":\"\"}},\"coloraxis\":{\"colorbar\":{\"outlinewidth\":0,\"ticks\":\"\"}},\"colorscale\":{\"sequential\":[[0.0,\"#0d0887\"],[0.1111111111111111,\"#46039f\"],[0.2222222222222222,\"#7201a8\"],[0.3333333333333333,\"#9c179e\"],[0.4444444444444444,\"#bd3786\"],[0.5555555555555556,\"#d8576b\"],[0.6666666666666666,\"#ed7953\"],[0.7777777777777778,\"#fb9f3a\"],[0.8888888888888888,\"#fdca26\"],[1.0,\"#f0f921\"]],\"sequentialminus\":[[0.0,\"#0d0887\"],[0.1111111111111111,\"#46039f\"],[0.2222222222222222,\"#7201a8\"],[0.3333333333333333,\"#9c179e\"],[0.4444444444444444,\"#bd3786\"],[0.5555555555555556,\"#d8576b\"],[0.6666666666666666,\"#ed7953\"],[0.7777777777777778,\"#fb9f3a\"],[0.8888888888888888,\"#fdca26\"],[1.0,\"#f0f921\"]],\"diverging\":[[0,\"#8e0152\"],[0.1,\"#c51b7d\"],[0.2,\"#de77ae\"],[0.3,\"#f1b6da\"],[0.4,\"#fde0ef\"],[0.5,\"#f7f7f7\"],[0.6,\"#e6f5d0\"],[0.7,\"#b8e186\"],[0.8,\"#7fbc41\"],[0.9,\"#4d9221\"],[1,\"#276419\"]]},\"xaxis\":{\"gridcolor\":\"white\",\"linecolor\":\"white\",\"ticks\":\"\",\"title\":{\"standoff\":15},\"zerolinecolor\":\"white\",\"automargin\":true,\"zerolinewidth\":2},\"yaxis\":{\"gridcolor\":\"white\",\"linecolor\":\"white\",\"ticks\":\"\",\"title\":{\"standoff\":15},\"zerolinecolor\":\"white\",\"automargin\":true,\"zerolinewidth\":2},\"scene\":{\"xaxis\":{\"backgroundcolor\":\"#E5ECF6\",\"gridcolor\":\"white\",\"linecolor\":\"white\",\"showbackground\":true,\"ticks\":\"\",\"zerolinecolor\":\"white\",\"gridwidth\":2},\"yaxis\":{\"backgroundcolor\":\"#E5ECF6\",\"gridcolor\":\"white\",\"linecolor\":\"white\",\"showbackground\":true,\"ticks\":\"\",\"zerolinecolor\":\"white\",\"gridwidth\":2},\"zaxis\":{\"backgroundcolor\":\"#E5ECF6\",\"gridcolor\":\"white\",\"linecolor\":\"white\",\"showbackground\":true,\"ticks\":\"\",\"zerolinecolor\":\"white\",\"gridwidth\":2}},\"shapedefaults\":{\"line\":{\"color\":\"#2a3f5f\"}},\"annotationdefaults\":{\"arrowcolor\":\"#2a3f5f\",\"arrowhead\":0,\"arrowwidth\":1},\"geo\":{\"bgcolor\":\"white\",\"landcolor\":\"#E5ECF6\",\"subunitcolor\":\"white\",\"showland\":true,\"showlakes\":true,\"lakecolor\":\"white\"},\"title\":{\"x\":0.05},\"mapbox\":{\"style\":\"light\"}}}},                        {\"responsive\": true}                    ).then(function(){\n                            \nvar gd = document.getElementById('4851d4cc-2d7c-4073-8f4a-a5528fdb470c');\nvar x = new MutationObserver(function (mutations, observer) {{\n        var display = window.getComputedStyle(gd).display;\n        if (!display || display === 'none') {{\n            console.log([gd, 'removed!']);\n            Plotly.purge(gd);\n            observer.disconnect();\n        }}\n}});\n\n// Listen for the removal of the full notebook cells\nvar notebookContainer = gd.closest('#notebook-container');\nif (notebookContainer) {{\n    x.observe(notebookContainer, {childList: true});\n}}\n\n// Listen for the clearing of the current output cell\nvar outputEl = gd.closest('.output');\nif (outputEl) {{\n    x.observe(outputEl, {childList: true});\n}}\n\n                        })                };                });            </script>        </div>"
          },
          "metadata": {}
        },
        {
          "output_type": "display_data",
          "data": {
            "application/vnd.plotly.v1+json": {
              "data": [
                {
                  "hovertemplate": "color=Peshawar Zalmi<br>x=%{x}<br>y=%{y}<extra></extra>",
                  "legendgroup": "Peshawar Zalmi",
                  "marker": {
                    "color": "#636efa",
                    "symbol": "circle"
                  },
                  "mode": "markers",
                  "name": "Peshawar Zalmi",
                  "orientation": "v",
                  "showlegend": true,
                  "x": [
                    32.09090909090909,
                    22.125,
                    29.166666666666668,
                    17,
                    22.666666666666668,
                    13.333333333333334,
                    18.8,
                    16.2,
                    13.5,
                    7,
                    10.333333333333334,
                    6.2,
                    6.5,
                    4.6,
                    5,
                    1,
                    1
                  ],
                  "xaxis": "x",
                  "y": [
                    128.83211678832117,
                    163.88888888888889,
                    129.62962962962962,
                    96.83544303797468,
                    101.49253731343283,
                    127.65957446808511,
                    106.81818181818181,
                    120.8955223880597,
                    110.20408163265306,
                    92.10526315789474,
                    67.3913043478261,
                    79.48717948717949,
                    86.66666666666667,
                    153.33333333333334,
                    57.69230769230769,
                    50,
                    16.666666666666668
                  ],
                  "yaxis": "y",
                  "type": "scatter"
                },
                {
                  "hovertemplate": "color=Karachi Kings<br>x=%{x}<br>y=%{y}<extra></extra>",
                  "legendgroup": "Karachi Kings",
                  "marker": {
                    "color": "#EF553B",
                    "symbol": "circle"
                  },
                  "mode": "markers",
                  "name": "Karachi Kings",
                  "orientation": "v",
                  "showlegend": true,
                  "x": [
                    29.1,
                    21.5,
                    20.2,
                    22.333333333333332,
                    17.77777777777778,
                    11.9,
                    10.375,
                    6,
                    9.5,
                    4,
                    10,
                    2.5,
                    0
                  ],
                  "xaxis": "x",
                  "y": [
                    109.81132075471699,
                    114.36170212765957,
                    120.23809523809524,
                    162.09677419354838,
                    108.84353741496598,
                    94.44444444444444,
                    129.6875,
                    114.28571428571429,
                    111.76470588235294,
                    114.28571428571429,
                    125,
                    125,
                    0
                  ],
                  "yaxis": "y",
                  "type": "scatter"
                },
                {
                  "hovertemplate": "color=Islamabad United<br>x=%{x}<br>y=%{y}<extra></extra>",
                  "legendgroup": "Islamabad United",
                  "marker": {
                    "color": "#00cc96",
                    "symbol": "circle"
                  },
                  "mode": "markers",
                  "name": "Islamabad United",
                  "orientation": "v",
                  "showlegend": true,
                  "x": [
                    30.444444444444443,
                    19,
                    19.75,
                    15.444444444444445,
                    26.6,
                    33.5,
                    11,
                    11.5,
                    15.333333333333334,
                    15,
                    8.333333333333334,
                    0.5,
                    1,
                    1,
                    1,
                    0,
                    0
                  ],
                  "xaxis": "x",
                  "y": [
                    110.93117408906883,
                    132.5581395348837,
                    108.21917808219177,
                    118.80341880341881,
                    134.34343434343435,
                    131.37254901960785,
                    157.14285714285714,
                    102.22222222222223,
                    124.32432432432432,
                    88.23529411764706,
                    96.15384615384616,
                    50,
                    33.333333333333336,
                    25,
                    100,
                    0,
                    0
                  ],
                  "yaxis": "y",
                  "type": "scatter"
                },
                {
                  "hovertemplate": "color=Quetta Gladiators<br>x=%{x}<br>y=%{y}<extra></extra>",
                  "legendgroup": "Quetta Gladiators",
                  "marker": {
                    "color": "#ab63fa",
                    "symbol": "circle"
                  },
                  "mode": "markers",
                  "name": "Quetta Gladiators",
                  "orientation": "v",
                  "showlegend": true,
                  "x": [
                    31.875,
                    34.42857142857143,
                    26.444444444444443,
                    20.333333333333332,
                    24.5,
                    11.4,
                    13.333333333333334,
                    12.333333333333334,
                    6.5,
                    24,
                    5,
                    6,
                    12,
                    6,
                    3,
                    2,
                    0.5,
                    1,
                    0.5
                  ],
                  "xaxis": "x",
                  "y": [
                    121.42857142857143,
                    148.76543209876544,
                    127.95698924731182,
                    128.8732394366197,
                    106.52173913043478,
                    129.54545454545453,
                    111.11111111111111,
                    137.03703703703704,
                    96.29629629629629,
                    126.3157894736842,
                    105.26315789473684,
                    105.88235294117646,
                    171.42857142857142,
                    66.66666666666667,
                    33.333333333333336,
                    66.66666666666667,
                    50,
                    14.285714285714286,
                    33.333333333333336
                  ],
                  "yaxis": "y",
                  "type": "scatter"
                },
                {
                  "hovertemplate": "color=Lahore Qalandars<br>x=%{x}<br>y=%{y}<extra></extra>",
                  "legendgroup": "Lahore Qalandars",
                  "marker": {
                    "color": "#FFA15A",
                    "symbol": "circle"
                  },
                  "mode": "markers",
                  "name": "Lahore Qalandars",
                  "orientation": "v",
                  "showlegend": true,
                  "x": [
                    22.125,
                    34.6,
                    20.5,
                    18.571428571428573,
                    16.571428571428573,
                    13.285714285714286,
                    20.5,
                    10.571428571428571,
                    11.333333333333334,
                    12.5,
                    11.5,
                    1,
                    1,
                    1
                  ],
                  "xaxis": "x",
                  "y": [
                    136.15384615384616,
                    149.13793103448276,
                    124.24242424242425,
                    120.37037037037037,
                    170.58823529411765,
                    116.25,
                    146.42857142857142,
                    92.5,
                    103.03030303030303,
                    96.15384615384616,
                    100,
                    66.66666666666667,
                    28.571428571428573,
                    100
                  ],
                  "yaxis": "y",
                  "type": "scatter"
                }
              ],
              "layout": {
                "template": {
                  "data": {
                    "histogram2dcontour": [
                      {
                        "type": "histogram2dcontour",
                        "colorbar": {
                          "outlinewidth": 0,
                          "ticks": ""
                        },
                        "colorscale": [
                          [
                            0,
                            "#0d0887"
                          ],
                          [
                            0.1111111111111111,
                            "#46039f"
                          ],
                          [
                            0.2222222222222222,
                            "#7201a8"
                          ],
                          [
                            0.3333333333333333,
                            "#9c179e"
                          ],
                          [
                            0.4444444444444444,
                            "#bd3786"
                          ],
                          [
                            0.5555555555555556,
                            "#d8576b"
                          ],
                          [
                            0.6666666666666666,
                            "#ed7953"
                          ],
                          [
                            0.7777777777777778,
                            "#fb9f3a"
                          ],
                          [
                            0.8888888888888888,
                            "#fdca26"
                          ],
                          [
                            1,
                            "#f0f921"
                          ]
                        ]
                      }
                    ],
                    "choropleth": [
                      {
                        "type": "choropleth",
                        "colorbar": {
                          "outlinewidth": 0,
                          "ticks": ""
                        }
                      }
                    ],
                    "histogram2d": [
                      {
                        "type": "histogram2d",
                        "colorbar": {
                          "outlinewidth": 0,
                          "ticks": ""
                        },
                        "colorscale": [
                          [
                            0,
                            "#0d0887"
                          ],
                          [
                            0.1111111111111111,
                            "#46039f"
                          ],
                          [
                            0.2222222222222222,
                            "#7201a8"
                          ],
                          [
                            0.3333333333333333,
                            "#9c179e"
                          ],
                          [
                            0.4444444444444444,
                            "#bd3786"
                          ],
                          [
                            0.5555555555555556,
                            "#d8576b"
                          ],
                          [
                            0.6666666666666666,
                            "#ed7953"
                          ],
                          [
                            0.7777777777777778,
                            "#fb9f3a"
                          ],
                          [
                            0.8888888888888888,
                            "#fdca26"
                          ],
                          [
                            1,
                            "#f0f921"
                          ]
                        ]
                      }
                    ],
                    "heatmap": [
                      {
                        "type": "heatmap",
                        "colorbar": {
                          "outlinewidth": 0,
                          "ticks": ""
                        },
                        "colorscale": [
                          [
                            0,
                            "#0d0887"
                          ],
                          [
                            0.1111111111111111,
                            "#46039f"
                          ],
                          [
                            0.2222222222222222,
                            "#7201a8"
                          ],
                          [
                            0.3333333333333333,
                            "#9c179e"
                          ],
                          [
                            0.4444444444444444,
                            "#bd3786"
                          ],
                          [
                            0.5555555555555556,
                            "#d8576b"
                          ],
                          [
                            0.6666666666666666,
                            "#ed7953"
                          ],
                          [
                            0.7777777777777778,
                            "#fb9f3a"
                          ],
                          [
                            0.8888888888888888,
                            "#fdca26"
                          ],
                          [
                            1,
                            "#f0f921"
                          ]
                        ]
                      }
                    ],
                    "heatmapgl": [
                      {
                        "type": "heatmapgl",
                        "colorbar": {
                          "outlinewidth": 0,
                          "ticks": ""
                        },
                        "colorscale": [
                          [
                            0,
                            "#0d0887"
                          ],
                          [
                            0.1111111111111111,
                            "#46039f"
                          ],
                          [
                            0.2222222222222222,
                            "#7201a8"
                          ],
                          [
                            0.3333333333333333,
                            "#9c179e"
                          ],
                          [
                            0.4444444444444444,
                            "#bd3786"
                          ],
                          [
                            0.5555555555555556,
                            "#d8576b"
                          ],
                          [
                            0.6666666666666666,
                            "#ed7953"
                          ],
                          [
                            0.7777777777777778,
                            "#fb9f3a"
                          ],
                          [
                            0.8888888888888888,
                            "#fdca26"
                          ],
                          [
                            1,
                            "#f0f921"
                          ]
                        ]
                      }
                    ],
                    "contourcarpet": [
                      {
                        "type": "contourcarpet",
                        "colorbar": {
                          "outlinewidth": 0,
                          "ticks": ""
                        }
                      }
                    ],
                    "contour": [
                      {
                        "type": "contour",
                        "colorbar": {
                          "outlinewidth": 0,
                          "ticks": ""
                        },
                        "colorscale": [
                          [
                            0,
                            "#0d0887"
                          ],
                          [
                            0.1111111111111111,
                            "#46039f"
                          ],
                          [
                            0.2222222222222222,
                            "#7201a8"
                          ],
                          [
                            0.3333333333333333,
                            "#9c179e"
                          ],
                          [
                            0.4444444444444444,
                            "#bd3786"
                          ],
                          [
                            0.5555555555555556,
                            "#d8576b"
                          ],
                          [
                            0.6666666666666666,
                            "#ed7953"
                          ],
                          [
                            0.7777777777777778,
                            "#fb9f3a"
                          ],
                          [
                            0.8888888888888888,
                            "#fdca26"
                          ],
                          [
                            1,
                            "#f0f921"
                          ]
                        ]
                      }
                    ],
                    "surface": [
                      {
                        "type": "surface",
                        "colorbar": {
                          "outlinewidth": 0,
                          "ticks": ""
                        },
                        "colorscale": [
                          [
                            0,
                            "#0d0887"
                          ],
                          [
                            0.1111111111111111,
                            "#46039f"
                          ],
                          [
                            0.2222222222222222,
                            "#7201a8"
                          ],
                          [
                            0.3333333333333333,
                            "#9c179e"
                          ],
                          [
                            0.4444444444444444,
                            "#bd3786"
                          ],
                          [
                            0.5555555555555556,
                            "#d8576b"
                          ],
                          [
                            0.6666666666666666,
                            "#ed7953"
                          ],
                          [
                            0.7777777777777778,
                            "#fb9f3a"
                          ],
                          [
                            0.8888888888888888,
                            "#fdca26"
                          ],
                          [
                            1,
                            "#f0f921"
                          ]
                        ]
                      }
                    ],
                    "mesh3d": [
                      {
                        "type": "mesh3d",
                        "colorbar": {
                          "outlinewidth": 0,
                          "ticks": ""
                        }
                      }
                    ],
                    "scatter": [
                      {
                        "fillpattern": {
                          "fillmode": "overlay",
                          "size": 10,
                          "solidity": 0.2
                        },
                        "type": "scatter"
                      }
                    ],
                    "parcoords": [
                      {
                        "type": "parcoords",
                        "line": {
                          "colorbar": {
                            "outlinewidth": 0,
                            "ticks": ""
                          }
                        }
                      }
                    ],
                    "scatterpolargl": [
                      {
                        "type": "scatterpolargl",
                        "marker": {
                          "colorbar": {
                            "outlinewidth": 0,
                            "ticks": ""
                          }
                        }
                      }
                    ],
                    "bar": [
                      {
                        "error_x": {
                          "color": "#2a3f5f"
                        },
                        "error_y": {
                          "color": "#2a3f5f"
                        },
                        "marker": {
                          "line": {
                            "color": "#E5ECF6",
                            "width": 0.5
                          },
                          "pattern": {
                            "fillmode": "overlay",
                            "size": 10,
                            "solidity": 0.2
                          }
                        },
                        "type": "bar"
                      }
                    ],
                    "scattergeo": [
                      {
                        "type": "scattergeo",
                        "marker": {
                          "colorbar": {
                            "outlinewidth": 0,
                            "ticks": ""
                          }
                        }
                      }
                    ],
                    "scatterpolar": [
                      {
                        "type": "scatterpolar",
                        "marker": {
                          "colorbar": {
                            "outlinewidth": 0,
                            "ticks": ""
                          }
                        }
                      }
                    ],
                    "histogram": [
                      {
                        "marker": {
                          "pattern": {
                            "fillmode": "overlay",
                            "size": 10,
                            "solidity": 0.2
                          }
                        },
                        "type": "histogram"
                      }
                    ],
                    "scattergl": [
                      {
                        "type": "scattergl",
                        "marker": {
                          "colorbar": {
                            "outlinewidth": 0,
                            "ticks": ""
                          }
                        }
                      }
                    ],
                    "scatter3d": [
                      {
                        "type": "scatter3d",
                        "line": {
                          "colorbar": {
                            "outlinewidth": 0,
                            "ticks": ""
                          }
                        },
                        "marker": {
                          "colorbar": {
                            "outlinewidth": 0,
                            "ticks": ""
                          }
                        }
                      }
                    ],
                    "scattermapbox": [
                      {
                        "type": "scattermapbox",
                        "marker": {
                          "colorbar": {
                            "outlinewidth": 0,
                            "ticks": ""
                          }
                        }
                      }
                    ],
                    "scatterternary": [
                      {
                        "type": "scatterternary",
                        "marker": {
                          "colorbar": {
                            "outlinewidth": 0,
                            "ticks": ""
                          }
                        }
                      }
                    ],
                    "scattercarpet": [
                      {
                        "type": "scattercarpet",
                        "marker": {
                          "colorbar": {
                            "outlinewidth": 0,
                            "ticks": ""
                          }
                        }
                      }
                    ],
                    "carpet": [
                      {
                        "aaxis": {
                          "endlinecolor": "#2a3f5f",
                          "gridcolor": "white",
                          "linecolor": "white",
                          "minorgridcolor": "white",
                          "startlinecolor": "#2a3f5f"
                        },
                        "baxis": {
                          "endlinecolor": "#2a3f5f",
                          "gridcolor": "white",
                          "linecolor": "white",
                          "minorgridcolor": "white",
                          "startlinecolor": "#2a3f5f"
                        },
                        "type": "carpet"
                      }
                    ],
                    "table": [
                      {
                        "cells": {
                          "fill": {
                            "color": "#EBF0F8"
                          },
                          "line": {
                            "color": "white"
                          }
                        },
                        "header": {
                          "fill": {
                            "color": "#C8D4E3"
                          },
                          "line": {
                            "color": "white"
                          }
                        },
                        "type": "table"
                      }
                    ],
                    "barpolar": [
                      {
                        "marker": {
                          "line": {
                            "color": "#E5ECF6",
                            "width": 0.5
                          },
                          "pattern": {
                            "fillmode": "overlay",
                            "size": 10,
                            "solidity": 0.2
                          }
                        },
                        "type": "barpolar"
                      }
                    ],
                    "pie": [
                      {
                        "automargin": true,
                        "type": "pie"
                      }
                    ]
                  },
                  "layout": {
                    "autotypenumbers": "strict",
                    "colorway": [
                      "#636efa",
                      "#EF553B",
                      "#00cc96",
                      "#ab63fa",
                      "#FFA15A",
                      "#19d3f3",
                      "#FF6692",
                      "#B6E880",
                      "#FF97FF",
                      "#FECB52"
                    ],
                    "font": {
                      "color": "#2a3f5f"
                    },
                    "hovermode": "closest",
                    "hoverlabel": {
                      "align": "left"
                    },
                    "paper_bgcolor": "white",
                    "plot_bgcolor": "#E5ECF6",
                    "polar": {
                      "bgcolor": "#E5ECF6",
                      "angularaxis": {
                        "gridcolor": "white",
                        "linecolor": "white",
                        "ticks": ""
                      },
                      "radialaxis": {
                        "gridcolor": "white",
                        "linecolor": "white",
                        "ticks": ""
                      }
                    },
                    "ternary": {
                      "bgcolor": "#E5ECF6",
                      "aaxis": {
                        "gridcolor": "white",
                        "linecolor": "white",
                        "ticks": ""
                      },
                      "baxis": {
                        "gridcolor": "white",
                        "linecolor": "white",
                        "ticks": ""
                      },
                      "caxis": {
                        "gridcolor": "white",
                        "linecolor": "white",
                        "ticks": ""
                      }
                    },
                    "coloraxis": {
                      "colorbar": {
                        "outlinewidth": 0,
                        "ticks": ""
                      }
                    },
                    "colorscale": {
                      "sequential": [
                        [
                          0,
                          "#0d0887"
                        ],
                        [
                          0.1111111111111111,
                          "#46039f"
                        ],
                        [
                          0.2222222222222222,
                          "#7201a8"
                        ],
                        [
                          0.3333333333333333,
                          "#9c179e"
                        ],
                        [
                          0.4444444444444444,
                          "#bd3786"
                        ],
                        [
                          0.5555555555555556,
                          "#d8576b"
                        ],
                        [
                          0.6666666666666666,
                          "#ed7953"
                        ],
                        [
                          0.7777777777777778,
                          "#fb9f3a"
                        ],
                        [
                          0.8888888888888888,
                          "#fdca26"
                        ],
                        [
                          1,
                          "#f0f921"
                        ]
                      ],
                      "sequentialminus": [
                        [
                          0,
                          "#0d0887"
                        ],
                        [
                          0.1111111111111111,
                          "#46039f"
                        ],
                        [
                          0.2222222222222222,
                          "#7201a8"
                        ],
                        [
                          0.3333333333333333,
                          "#9c179e"
                        ],
                        [
                          0.4444444444444444,
                          "#bd3786"
                        ],
                        [
                          0.5555555555555556,
                          "#d8576b"
                        ],
                        [
                          0.6666666666666666,
                          "#ed7953"
                        ],
                        [
                          0.7777777777777778,
                          "#fb9f3a"
                        ],
                        [
                          0.8888888888888888,
                          "#fdca26"
                        ],
                        [
                          1,
                          "#f0f921"
                        ]
                      ],
                      "diverging": [
                        [
                          0,
                          "#8e0152"
                        ],
                        [
                          0.1,
                          "#c51b7d"
                        ],
                        [
                          0.2,
                          "#de77ae"
                        ],
                        [
                          0.3,
                          "#f1b6da"
                        ],
                        [
                          0.4,
                          "#fde0ef"
                        ],
                        [
                          0.5,
                          "#f7f7f7"
                        ],
                        [
                          0.6,
                          "#e6f5d0"
                        ],
                        [
                          0.7,
                          "#b8e186"
                        ],
                        [
                          0.8,
                          "#7fbc41"
                        ],
                        [
                          0.9,
                          "#4d9221"
                        ],
                        [
                          1,
                          "#276419"
                        ]
                      ]
                    },
                    "xaxis": {
                      "gridcolor": "white",
                      "linecolor": "white",
                      "ticks": "",
                      "title": {
                        "standoff": 15
                      },
                      "zerolinecolor": "white",
                      "automargin": true,
                      "zerolinewidth": 2
                    },
                    "yaxis": {
                      "gridcolor": "white",
                      "linecolor": "white",
                      "ticks": "",
                      "title": {
                        "standoff": 15
                      },
                      "zerolinecolor": "white",
                      "automargin": true,
                      "zerolinewidth": 2
                    },
                    "scene": {
                      "xaxis": {
                        "backgroundcolor": "#E5ECF6",
                        "gridcolor": "white",
                        "linecolor": "white",
                        "showbackground": true,
                        "ticks": "",
                        "zerolinecolor": "white",
                        "gridwidth": 2
                      },
                      "yaxis": {
                        "backgroundcolor": "#E5ECF6",
                        "gridcolor": "white",
                        "linecolor": "white",
                        "showbackground": true,
                        "ticks": "",
                        "zerolinecolor": "white",
                        "gridwidth": 2
                      },
                      "zaxis": {
                        "backgroundcolor": "#E5ECF6",
                        "gridcolor": "white",
                        "linecolor": "white",
                        "showbackground": true,
                        "ticks": "",
                        "zerolinecolor": "white",
                        "gridwidth": 2
                      }
                    },
                    "shapedefaults": {
                      "line": {
                        "color": "#2a3f5f"
                      }
                    },
                    "annotationdefaults": {
                      "arrowcolor": "#2a3f5f",
                      "arrowhead": 0,
                      "arrowwidth": 1
                    },
                    "geo": {
                      "bgcolor": "white",
                      "landcolor": "#E5ECF6",
                      "subunitcolor": "white",
                      "showland": true,
                      "showlakes": true,
                      "lakecolor": "white"
                    },
                    "title": {
                      "x": 0.05
                    },
                    "mapbox": {
                      "style": "light"
                    }
                  }
                },
                "xaxis": {
                  "anchor": "y",
                  "domain": [
                    0,
                    1
                  ],
                  "title": {
                    "text": "x"
                  }
                },
                "yaxis": {
                  "anchor": "x",
                  "domain": [
                    0,
                    1
                  ],
                  "title": {
                    "text": "y"
                  }
                },
                "legend": {
                  "title": {
                    "text": "color"
                  },
                  "tracegroupgap": 0
                },
                "margin": {
                  "t": 60
                },
                "shapes": [
                  {
                    "line": {
                      "color": "red",
                      "width": 1
                    },
                    "type": "line",
                    "x0": 0,
                    "x1": 1,
                    "xref": "x domain",
                    "y0": 100.78578820515864,
                    "y1": 100.78578820515864,
                    "yref": "y"
                  },
                  {
                    "line": {
                      "color": "green",
                      "width": 1
                    },
                    "type": "line",
                    "x0": 12.966424062049061,
                    "x1": 12.966424062049061,
                    "xref": "x",
                    "y0": 0,
                    "y1": 1,
                    "yref": "y domain"
                  }
                ]
              },
              "config": {
                "plotlyServerURL": "https://plot.ly"
              }
            },
            "text/html": "<div>                            <div id=\"d77dcffc-af55-4957-8fa7-453c221711c1\" class=\"plotly-graph-div\" style=\"height:525px; width:100%;\"></div>            <script type=\"text/javascript\">                require([\"plotly\"], function(Plotly) {                    window.PLOTLYENV=window.PLOTLYENV || {};                                    if (document.getElementById(\"d77dcffc-af55-4957-8fa7-453c221711c1\")) {                    Plotly.newPlot(                        \"d77dcffc-af55-4957-8fa7-453c221711c1\",                        [{\"hovertemplate\":\"color=Peshawar Zalmi<br>x=%{x}<br>y=%{y}<extra></extra>\",\"legendgroup\":\"Peshawar Zalmi\",\"marker\":{\"color\":\"#636efa\",\"symbol\":\"circle\"},\"mode\":\"markers\",\"name\":\"Peshawar Zalmi\",\"orientation\":\"v\",\"showlegend\":true,\"x\":[32.09090909090909,22.125,29.166666666666668,17.0,22.666666666666668,13.333333333333334,18.8,16.2,13.5,7.0,10.333333333333334,6.2,6.5,4.6,5.0,1.0,1.0],\"xaxis\":\"x\",\"y\":[128.83211678832117,163.88888888888889,129.62962962962962,96.83544303797468,101.49253731343283,127.65957446808511,106.81818181818181,120.8955223880597,110.20408163265306,92.10526315789474,67.3913043478261,79.48717948717949,86.66666666666667,153.33333333333334,57.69230769230769,50.0,16.666666666666668],\"yaxis\":\"y\",\"type\":\"scatter\"},{\"hovertemplate\":\"color=Karachi Kings<br>x=%{x}<br>y=%{y}<extra></extra>\",\"legendgroup\":\"Karachi Kings\",\"marker\":{\"color\":\"#EF553B\",\"symbol\":\"circle\"},\"mode\":\"markers\",\"name\":\"Karachi Kings\",\"orientation\":\"v\",\"showlegend\":true,\"x\":[29.1,21.5,20.2,22.333333333333332,17.77777777777778,11.9,10.375,6.0,9.5,4.0,10.0,2.5,0.0],\"xaxis\":\"x\",\"y\":[109.81132075471699,114.36170212765957,120.23809523809524,162.09677419354838,108.84353741496598,94.44444444444444,129.6875,114.28571428571429,111.76470588235294,114.28571428571429,125.0,125.0,0.0],\"yaxis\":\"y\",\"type\":\"scatter\"},{\"hovertemplate\":\"color=Islamabad United<br>x=%{x}<br>y=%{y}<extra></extra>\",\"legendgroup\":\"Islamabad United\",\"marker\":{\"color\":\"#00cc96\",\"symbol\":\"circle\"},\"mode\":\"markers\",\"name\":\"Islamabad United\",\"orientation\":\"v\",\"showlegend\":true,\"x\":[30.444444444444443,19.0,19.75,15.444444444444445,26.6,33.5,11.0,11.5,15.333333333333334,15.0,8.333333333333334,0.5,1.0,1.0,1.0,0.0,0.0],\"xaxis\":\"x\",\"y\":[110.93117408906883,132.5581395348837,108.21917808219177,118.80341880341881,134.34343434343435,131.37254901960785,157.14285714285714,102.22222222222223,124.32432432432432,88.23529411764706,96.15384615384616,50.0,33.333333333333336,25.0,100.0,0.0,0.0],\"yaxis\":\"y\",\"type\":\"scatter\"},{\"hovertemplate\":\"color=Quetta Gladiators<br>x=%{x}<br>y=%{y}<extra></extra>\",\"legendgroup\":\"Quetta Gladiators\",\"marker\":{\"color\":\"#ab63fa\",\"symbol\":\"circle\"},\"mode\":\"markers\",\"name\":\"Quetta Gladiators\",\"orientation\":\"v\",\"showlegend\":true,\"x\":[31.875,34.42857142857143,26.444444444444443,20.333333333333332,24.5,11.4,13.333333333333334,12.333333333333334,6.5,24.0,5.0,6.0,12.0,6.0,3.0,2.0,0.5,1.0,0.5],\"xaxis\":\"x\",\"y\":[121.42857142857143,148.76543209876544,127.95698924731182,128.8732394366197,106.52173913043478,129.54545454545453,111.11111111111111,137.03703703703704,96.29629629629629,126.3157894736842,105.26315789473684,105.88235294117646,171.42857142857142,66.66666666666667,33.333333333333336,66.66666666666667,50.0,14.285714285714286,33.333333333333336],\"yaxis\":\"y\",\"type\":\"scatter\"},{\"hovertemplate\":\"color=Lahore Qalandars<br>x=%{x}<br>y=%{y}<extra></extra>\",\"legendgroup\":\"Lahore Qalandars\",\"marker\":{\"color\":\"#FFA15A\",\"symbol\":\"circle\"},\"mode\":\"markers\",\"name\":\"Lahore Qalandars\",\"orientation\":\"v\",\"showlegend\":true,\"x\":[22.125,34.6,20.5,18.571428571428573,16.571428571428573,13.285714285714286,20.5,10.571428571428571,11.333333333333334,12.5,11.5,1.0,1.0,1.0],\"xaxis\":\"x\",\"y\":[136.15384615384616,149.13793103448276,124.24242424242425,120.37037037037037,170.58823529411765,116.25,146.42857142857142,92.5,103.03030303030303,96.15384615384616,100.0,66.66666666666667,28.571428571428573,100.0],\"yaxis\":\"y\",\"type\":\"scatter\"}],                        {\"template\":{\"data\":{\"histogram2dcontour\":[{\"type\":\"histogram2dcontour\",\"colorbar\":{\"outlinewidth\":0,\"ticks\":\"\"},\"colorscale\":[[0.0,\"#0d0887\"],[0.1111111111111111,\"#46039f\"],[0.2222222222222222,\"#7201a8\"],[0.3333333333333333,\"#9c179e\"],[0.4444444444444444,\"#bd3786\"],[0.5555555555555556,\"#d8576b\"],[0.6666666666666666,\"#ed7953\"],[0.7777777777777778,\"#fb9f3a\"],[0.8888888888888888,\"#fdca26\"],[1.0,\"#f0f921\"]]}],\"choropleth\":[{\"type\":\"choropleth\",\"colorbar\":{\"outlinewidth\":0,\"ticks\":\"\"}}],\"histogram2d\":[{\"type\":\"histogram2d\",\"colorbar\":{\"outlinewidth\":0,\"ticks\":\"\"},\"colorscale\":[[0.0,\"#0d0887\"],[0.1111111111111111,\"#46039f\"],[0.2222222222222222,\"#7201a8\"],[0.3333333333333333,\"#9c179e\"],[0.4444444444444444,\"#bd3786\"],[0.5555555555555556,\"#d8576b\"],[0.6666666666666666,\"#ed7953\"],[0.7777777777777778,\"#fb9f3a\"],[0.8888888888888888,\"#fdca26\"],[1.0,\"#f0f921\"]]}],\"heatmap\":[{\"type\":\"heatmap\",\"colorbar\":{\"outlinewidth\":0,\"ticks\":\"\"},\"colorscale\":[[0.0,\"#0d0887\"],[0.1111111111111111,\"#46039f\"],[0.2222222222222222,\"#7201a8\"],[0.3333333333333333,\"#9c179e\"],[0.4444444444444444,\"#bd3786\"],[0.5555555555555556,\"#d8576b\"],[0.6666666666666666,\"#ed7953\"],[0.7777777777777778,\"#fb9f3a\"],[0.8888888888888888,\"#fdca26\"],[1.0,\"#f0f921\"]]}],\"heatmapgl\":[{\"type\":\"heatmapgl\",\"colorbar\":{\"outlinewidth\":0,\"ticks\":\"\"},\"colorscale\":[[0.0,\"#0d0887\"],[0.1111111111111111,\"#46039f\"],[0.2222222222222222,\"#7201a8\"],[0.3333333333333333,\"#9c179e\"],[0.4444444444444444,\"#bd3786\"],[0.5555555555555556,\"#d8576b\"],[0.6666666666666666,\"#ed7953\"],[0.7777777777777778,\"#fb9f3a\"],[0.8888888888888888,\"#fdca26\"],[1.0,\"#f0f921\"]]}],\"contourcarpet\":[{\"type\":\"contourcarpet\",\"colorbar\":{\"outlinewidth\":0,\"ticks\":\"\"}}],\"contour\":[{\"type\":\"contour\",\"colorbar\":{\"outlinewidth\":0,\"ticks\":\"\"},\"colorscale\":[[0.0,\"#0d0887\"],[0.1111111111111111,\"#46039f\"],[0.2222222222222222,\"#7201a8\"],[0.3333333333333333,\"#9c179e\"],[0.4444444444444444,\"#bd3786\"],[0.5555555555555556,\"#d8576b\"],[0.6666666666666666,\"#ed7953\"],[0.7777777777777778,\"#fb9f3a\"],[0.8888888888888888,\"#fdca26\"],[1.0,\"#f0f921\"]]}],\"surface\":[{\"type\":\"surface\",\"colorbar\":{\"outlinewidth\":0,\"ticks\":\"\"},\"colorscale\":[[0.0,\"#0d0887\"],[0.1111111111111111,\"#46039f\"],[0.2222222222222222,\"#7201a8\"],[0.3333333333333333,\"#9c179e\"],[0.4444444444444444,\"#bd3786\"],[0.5555555555555556,\"#d8576b\"],[0.6666666666666666,\"#ed7953\"],[0.7777777777777778,\"#fb9f3a\"],[0.8888888888888888,\"#fdca26\"],[1.0,\"#f0f921\"]]}],\"mesh3d\":[{\"type\":\"mesh3d\",\"colorbar\":{\"outlinewidth\":0,\"ticks\":\"\"}}],\"scatter\":[{\"fillpattern\":{\"fillmode\":\"overlay\",\"size\":10,\"solidity\":0.2},\"type\":\"scatter\"}],\"parcoords\":[{\"type\":\"parcoords\",\"line\":{\"colorbar\":{\"outlinewidth\":0,\"ticks\":\"\"}}}],\"scatterpolargl\":[{\"type\":\"scatterpolargl\",\"marker\":{\"colorbar\":{\"outlinewidth\":0,\"ticks\":\"\"}}}],\"bar\":[{\"error_x\":{\"color\":\"#2a3f5f\"},\"error_y\":{\"color\":\"#2a3f5f\"},\"marker\":{\"line\":{\"color\":\"#E5ECF6\",\"width\":0.5},\"pattern\":{\"fillmode\":\"overlay\",\"size\":10,\"solidity\":0.2}},\"type\":\"bar\"}],\"scattergeo\":[{\"type\":\"scattergeo\",\"marker\":{\"colorbar\":{\"outlinewidth\":0,\"ticks\":\"\"}}}],\"scatterpolar\":[{\"type\":\"scatterpolar\",\"marker\":{\"colorbar\":{\"outlinewidth\":0,\"ticks\":\"\"}}}],\"histogram\":[{\"marker\":{\"pattern\":{\"fillmode\":\"overlay\",\"size\":10,\"solidity\":0.2}},\"type\":\"histogram\"}],\"scattergl\":[{\"type\":\"scattergl\",\"marker\":{\"colorbar\":{\"outlinewidth\":0,\"ticks\":\"\"}}}],\"scatter3d\":[{\"type\":\"scatter3d\",\"line\":{\"colorbar\":{\"outlinewidth\":0,\"ticks\":\"\"}},\"marker\":{\"colorbar\":{\"outlinewidth\":0,\"ticks\":\"\"}}}],\"scattermapbox\":[{\"type\":\"scattermapbox\",\"marker\":{\"colorbar\":{\"outlinewidth\":0,\"ticks\":\"\"}}}],\"scatterternary\":[{\"type\":\"scatterternary\",\"marker\":{\"colorbar\":{\"outlinewidth\":0,\"ticks\":\"\"}}}],\"scattercarpet\":[{\"type\":\"scattercarpet\",\"marker\":{\"colorbar\":{\"outlinewidth\":0,\"ticks\":\"\"}}}],\"carpet\":[{\"aaxis\":{\"endlinecolor\":\"#2a3f5f\",\"gridcolor\":\"white\",\"linecolor\":\"white\",\"minorgridcolor\":\"white\",\"startlinecolor\":\"#2a3f5f\"},\"baxis\":{\"endlinecolor\":\"#2a3f5f\",\"gridcolor\":\"white\",\"linecolor\":\"white\",\"minorgridcolor\":\"white\",\"startlinecolor\":\"#2a3f5f\"},\"type\":\"carpet\"}],\"table\":[{\"cells\":{\"fill\":{\"color\":\"#EBF0F8\"},\"line\":{\"color\":\"white\"}},\"header\":{\"fill\":{\"color\":\"#C8D4E3\"},\"line\":{\"color\":\"white\"}},\"type\":\"table\"}],\"barpolar\":[{\"marker\":{\"line\":{\"color\":\"#E5ECF6\",\"width\":0.5},\"pattern\":{\"fillmode\":\"overlay\",\"size\":10,\"solidity\":0.2}},\"type\":\"barpolar\"}],\"pie\":[{\"automargin\":true,\"type\":\"pie\"}]},\"layout\":{\"autotypenumbers\":\"strict\",\"colorway\":[\"#636efa\",\"#EF553B\",\"#00cc96\",\"#ab63fa\",\"#FFA15A\",\"#19d3f3\",\"#FF6692\",\"#B6E880\",\"#FF97FF\",\"#FECB52\"],\"font\":{\"color\":\"#2a3f5f\"},\"hovermode\":\"closest\",\"hoverlabel\":{\"align\":\"left\"},\"paper_bgcolor\":\"white\",\"plot_bgcolor\":\"#E5ECF6\",\"polar\":{\"bgcolor\":\"#E5ECF6\",\"angularaxis\":{\"gridcolor\":\"white\",\"linecolor\":\"white\",\"ticks\":\"\"},\"radialaxis\":{\"gridcolor\":\"white\",\"linecolor\":\"white\",\"ticks\":\"\"}},\"ternary\":{\"bgcolor\":\"#E5ECF6\",\"aaxis\":{\"gridcolor\":\"white\",\"linecolor\":\"white\",\"ticks\":\"\"},\"baxis\":{\"gridcolor\":\"white\",\"linecolor\":\"white\",\"ticks\":\"\"},\"caxis\":{\"gridcolor\":\"white\",\"linecolor\":\"white\",\"ticks\":\"\"}},\"coloraxis\":{\"colorbar\":{\"outlinewidth\":0,\"ticks\":\"\"}},\"colorscale\":{\"sequential\":[[0.0,\"#0d0887\"],[0.1111111111111111,\"#46039f\"],[0.2222222222222222,\"#7201a8\"],[0.3333333333333333,\"#9c179e\"],[0.4444444444444444,\"#bd3786\"],[0.5555555555555556,\"#d8576b\"],[0.6666666666666666,\"#ed7953\"],[0.7777777777777778,\"#fb9f3a\"],[0.8888888888888888,\"#fdca26\"],[1.0,\"#f0f921\"]],\"sequentialminus\":[[0.0,\"#0d0887\"],[0.1111111111111111,\"#46039f\"],[0.2222222222222222,\"#7201a8\"],[0.3333333333333333,\"#9c179e\"],[0.4444444444444444,\"#bd3786\"],[0.5555555555555556,\"#d8576b\"],[0.6666666666666666,\"#ed7953\"],[0.7777777777777778,\"#fb9f3a\"],[0.8888888888888888,\"#fdca26\"],[1.0,\"#f0f921\"]],\"diverging\":[[0,\"#8e0152\"],[0.1,\"#c51b7d\"],[0.2,\"#de77ae\"],[0.3,\"#f1b6da\"],[0.4,\"#fde0ef\"],[0.5,\"#f7f7f7\"],[0.6,\"#e6f5d0\"],[0.7,\"#b8e186\"],[0.8,\"#7fbc41\"],[0.9,\"#4d9221\"],[1,\"#276419\"]]},\"xaxis\":{\"gridcolor\":\"white\",\"linecolor\":\"white\",\"ticks\":\"\",\"title\":{\"standoff\":15},\"zerolinecolor\":\"white\",\"automargin\":true,\"zerolinewidth\":2},\"yaxis\":{\"gridcolor\":\"white\",\"linecolor\":\"white\",\"ticks\":\"\",\"title\":{\"standoff\":15},\"zerolinecolor\":\"white\",\"automargin\":true,\"zerolinewidth\":2},\"scene\":{\"xaxis\":{\"backgroundcolor\":\"#E5ECF6\",\"gridcolor\":\"white\",\"linecolor\":\"white\",\"showbackground\":true,\"ticks\":\"\",\"zerolinecolor\":\"white\",\"gridwidth\":2},\"yaxis\":{\"backgroundcolor\":\"#E5ECF6\",\"gridcolor\":\"white\",\"linecolor\":\"white\",\"showbackground\":true,\"ticks\":\"\",\"zerolinecolor\":\"white\",\"gridwidth\":2},\"zaxis\":{\"backgroundcolor\":\"#E5ECF6\",\"gridcolor\":\"white\",\"linecolor\":\"white\",\"showbackground\":true,\"ticks\":\"\",\"zerolinecolor\":\"white\",\"gridwidth\":2}},\"shapedefaults\":{\"line\":{\"color\":\"#2a3f5f\"}},\"annotationdefaults\":{\"arrowcolor\":\"#2a3f5f\",\"arrowhead\":0,\"arrowwidth\":1},\"geo\":{\"bgcolor\":\"white\",\"landcolor\":\"#E5ECF6\",\"subunitcolor\":\"white\",\"showland\":true,\"showlakes\":true,\"lakecolor\":\"white\"},\"title\":{\"x\":0.05},\"mapbox\":{\"style\":\"light\"}}},\"xaxis\":{\"anchor\":\"y\",\"domain\":[0.0,1.0],\"title\":{\"text\":\"x\"}},\"yaxis\":{\"anchor\":\"x\",\"domain\":[0.0,1.0],\"title\":{\"text\":\"y\"}},\"legend\":{\"title\":{\"text\":\"color\"},\"tracegroupgap\":0},\"margin\":{\"t\":60},\"shapes\":[{\"line\":{\"color\":\"red\",\"width\":1},\"type\":\"line\",\"x0\":0,\"x1\":1,\"xref\":\"x domain\",\"y0\":100.78578820515864,\"y1\":100.78578820515864,\"yref\":\"y\"},{\"line\":{\"color\":\"green\",\"width\":1},\"type\":\"line\",\"x0\":12.966424062049061,\"x1\":12.966424062049061,\"xref\":\"x\",\"y0\":0,\"y1\":1,\"yref\":\"y domain\"}]},                        {\"responsive\": true}                    ).then(function(){\n                            \nvar gd = document.getElementById('d77dcffc-af55-4957-8fa7-453c221711c1');\nvar x = new MutationObserver(function (mutations, observer) {{\n        var display = window.getComputedStyle(gd).display;\n        if (!display || display === 'none') {{\n            console.log([gd, 'removed!']);\n            Plotly.purge(gd);\n            observer.disconnect();\n        }}\n}});\n\n// Listen for the removal of the full notebook cells\nvar notebookContainer = gd.closest('#notebook-container');\nif (notebookContainer) {{\n    x.observe(notebookContainer, {childList: true});\n}}\n\n// Listen for the clearing of the current output cell\nvar outputEl = gd.closest('.output');\nif (outputEl) {{\n    x.observe(outputEl, {childList: true});\n}}\n\n                        })                };                });            </script>        </div>"
          },
          "metadata": {}
        }
      ],
      "source": [
        "\n",
        "quadrant_chart(\n",
        "    x=df_batAvg['AvgRuns_match'],\n",
        "    y=df_batAvg['Strike_rate'],\n",
        "    team=df_batAvg['Batting_team'],\n",
        "    var=df_batAvg[\"Var\"],\n",
        "    xtick_labels=['Low', 'High'],\n",
        "    ytick_labels=['Low', 'High'],\n",
        "    highlight_quadrants=[1]\n",
        ")\n",
        "# plt.title('Strike vs Runs', fontsize=16)\n",
        "# plt.ylabel('Strike', fontsize=14)\n",
        "# plt.xlabel('Avg Runs', fontsize=14)"
      ]
    },
    {
      "cell_type": "code",
      "execution_count": 533,
      "metadata": {},
      "outputs": [
        {
          "output_type": "display_data",
          "data": {
            "application/vnd.plotly.v1+json": {
              "data": [
                {
                  "boxmean": "sd",
                  "boxpoints": "all",
                  "name": "Peshawar Zalmi",
                  "y": [
                    32.09090909090909,
                    22.125,
                    29.166666666666668,
                    17,
                    22.666666666666668,
                    13.333333333333334,
                    18.8,
                    16.2,
                    13.5,
                    7,
                    10.333333333333334,
                    6.2,
                    6.5,
                    4.6,
                    5,
                    1,
                    1
                  ],
                  "type": "box"
                },
                {
                  "boxmean": "sd",
                  "boxpoints": "all",
                  "name": "Islamabad United",
                  "y": [
                    30.444444444444443,
                    19,
                    19.75,
                    15.444444444444445,
                    26.6,
                    33.5,
                    11,
                    11.5,
                    15.333333333333334,
                    15,
                    8.333333333333334,
                    0.5,
                    1,
                    1,
                    1,
                    0,
                    0
                  ],
                  "type": "box"
                },
                {
                  "boxmean": "sd",
                  "boxpoints": "all",
                  "name": "Quetta Gladiators",
                  "y": [
                    31.875,
                    34.42857142857143,
                    26.444444444444443,
                    20.333333333333332,
                    24.5,
                    11.4,
                    13.333333333333334,
                    12.333333333333334,
                    6.5,
                    24,
                    5,
                    6,
                    12,
                    6,
                    3,
                    2,
                    0.5,
                    1,
                    0.5
                  ],
                  "type": "box"
                },
                {
                  "boxmean": "sd",
                  "boxpoints": "all",
                  "name": "Karachi Kings",
                  "y": [
                    29.1,
                    21.5,
                    20.2,
                    22.333333333333332,
                    17.77777777777778,
                    11.9,
                    10.375,
                    6,
                    9.5,
                    4,
                    10,
                    2.5,
                    0
                  ],
                  "type": "box"
                },
                {
                  "boxmean": "sd",
                  "boxpoints": "all",
                  "name": "Lahore Qalandars",
                  "y": [
                    22.125,
                    34.6,
                    20.5,
                    18.571428571428573,
                    16.571428571428573,
                    13.285714285714286,
                    20.5,
                    10.571428571428571,
                    11.333333333333334,
                    12.5,
                    11.5,
                    1,
                    1,
                    1
                  ],
                  "type": "box"
                }
              ],
              "layout": {
                "template": {
                  "data": {
                    "histogram2dcontour": [
                      {
                        "type": "histogram2dcontour",
                        "colorbar": {
                          "outlinewidth": 0,
                          "ticks": ""
                        },
                        "colorscale": [
                          [
                            0,
                            "#0d0887"
                          ],
                          [
                            0.1111111111111111,
                            "#46039f"
                          ],
                          [
                            0.2222222222222222,
                            "#7201a8"
                          ],
                          [
                            0.3333333333333333,
                            "#9c179e"
                          ],
                          [
                            0.4444444444444444,
                            "#bd3786"
                          ],
                          [
                            0.5555555555555556,
                            "#d8576b"
                          ],
                          [
                            0.6666666666666666,
                            "#ed7953"
                          ],
                          [
                            0.7777777777777778,
                            "#fb9f3a"
                          ],
                          [
                            0.8888888888888888,
                            "#fdca26"
                          ],
                          [
                            1,
                            "#f0f921"
                          ]
                        ]
                      }
                    ],
                    "choropleth": [
                      {
                        "type": "choropleth",
                        "colorbar": {
                          "outlinewidth": 0,
                          "ticks": ""
                        }
                      }
                    ],
                    "histogram2d": [
                      {
                        "type": "histogram2d",
                        "colorbar": {
                          "outlinewidth": 0,
                          "ticks": ""
                        },
                        "colorscale": [
                          [
                            0,
                            "#0d0887"
                          ],
                          [
                            0.1111111111111111,
                            "#46039f"
                          ],
                          [
                            0.2222222222222222,
                            "#7201a8"
                          ],
                          [
                            0.3333333333333333,
                            "#9c179e"
                          ],
                          [
                            0.4444444444444444,
                            "#bd3786"
                          ],
                          [
                            0.5555555555555556,
                            "#d8576b"
                          ],
                          [
                            0.6666666666666666,
                            "#ed7953"
                          ],
                          [
                            0.7777777777777778,
                            "#fb9f3a"
                          ],
                          [
                            0.8888888888888888,
                            "#fdca26"
                          ],
                          [
                            1,
                            "#f0f921"
                          ]
                        ]
                      }
                    ],
                    "heatmap": [
                      {
                        "type": "heatmap",
                        "colorbar": {
                          "outlinewidth": 0,
                          "ticks": ""
                        },
                        "colorscale": [
                          [
                            0,
                            "#0d0887"
                          ],
                          [
                            0.1111111111111111,
                            "#46039f"
                          ],
                          [
                            0.2222222222222222,
                            "#7201a8"
                          ],
                          [
                            0.3333333333333333,
                            "#9c179e"
                          ],
                          [
                            0.4444444444444444,
                            "#bd3786"
                          ],
                          [
                            0.5555555555555556,
                            "#d8576b"
                          ],
                          [
                            0.6666666666666666,
                            "#ed7953"
                          ],
                          [
                            0.7777777777777778,
                            "#fb9f3a"
                          ],
                          [
                            0.8888888888888888,
                            "#fdca26"
                          ],
                          [
                            1,
                            "#f0f921"
                          ]
                        ]
                      }
                    ],
                    "heatmapgl": [
                      {
                        "type": "heatmapgl",
                        "colorbar": {
                          "outlinewidth": 0,
                          "ticks": ""
                        },
                        "colorscale": [
                          [
                            0,
                            "#0d0887"
                          ],
                          [
                            0.1111111111111111,
                            "#46039f"
                          ],
                          [
                            0.2222222222222222,
                            "#7201a8"
                          ],
                          [
                            0.3333333333333333,
                            "#9c179e"
                          ],
                          [
                            0.4444444444444444,
                            "#bd3786"
                          ],
                          [
                            0.5555555555555556,
                            "#d8576b"
                          ],
                          [
                            0.6666666666666666,
                            "#ed7953"
                          ],
                          [
                            0.7777777777777778,
                            "#fb9f3a"
                          ],
                          [
                            0.8888888888888888,
                            "#fdca26"
                          ],
                          [
                            1,
                            "#f0f921"
                          ]
                        ]
                      }
                    ],
                    "contourcarpet": [
                      {
                        "type": "contourcarpet",
                        "colorbar": {
                          "outlinewidth": 0,
                          "ticks": ""
                        }
                      }
                    ],
                    "contour": [
                      {
                        "type": "contour",
                        "colorbar": {
                          "outlinewidth": 0,
                          "ticks": ""
                        },
                        "colorscale": [
                          [
                            0,
                            "#0d0887"
                          ],
                          [
                            0.1111111111111111,
                            "#46039f"
                          ],
                          [
                            0.2222222222222222,
                            "#7201a8"
                          ],
                          [
                            0.3333333333333333,
                            "#9c179e"
                          ],
                          [
                            0.4444444444444444,
                            "#bd3786"
                          ],
                          [
                            0.5555555555555556,
                            "#d8576b"
                          ],
                          [
                            0.6666666666666666,
                            "#ed7953"
                          ],
                          [
                            0.7777777777777778,
                            "#fb9f3a"
                          ],
                          [
                            0.8888888888888888,
                            "#fdca26"
                          ],
                          [
                            1,
                            "#f0f921"
                          ]
                        ]
                      }
                    ],
                    "surface": [
                      {
                        "type": "surface",
                        "colorbar": {
                          "outlinewidth": 0,
                          "ticks": ""
                        },
                        "colorscale": [
                          [
                            0,
                            "#0d0887"
                          ],
                          [
                            0.1111111111111111,
                            "#46039f"
                          ],
                          [
                            0.2222222222222222,
                            "#7201a8"
                          ],
                          [
                            0.3333333333333333,
                            "#9c179e"
                          ],
                          [
                            0.4444444444444444,
                            "#bd3786"
                          ],
                          [
                            0.5555555555555556,
                            "#d8576b"
                          ],
                          [
                            0.6666666666666666,
                            "#ed7953"
                          ],
                          [
                            0.7777777777777778,
                            "#fb9f3a"
                          ],
                          [
                            0.8888888888888888,
                            "#fdca26"
                          ],
                          [
                            1,
                            "#f0f921"
                          ]
                        ]
                      }
                    ],
                    "mesh3d": [
                      {
                        "type": "mesh3d",
                        "colorbar": {
                          "outlinewidth": 0,
                          "ticks": ""
                        }
                      }
                    ],
                    "scatter": [
                      {
                        "fillpattern": {
                          "fillmode": "overlay",
                          "size": 10,
                          "solidity": 0.2
                        },
                        "type": "scatter"
                      }
                    ],
                    "parcoords": [
                      {
                        "type": "parcoords",
                        "line": {
                          "colorbar": {
                            "outlinewidth": 0,
                            "ticks": ""
                          }
                        }
                      }
                    ],
                    "scatterpolargl": [
                      {
                        "type": "scatterpolargl",
                        "marker": {
                          "colorbar": {
                            "outlinewidth": 0,
                            "ticks": ""
                          }
                        }
                      }
                    ],
                    "bar": [
                      {
                        "error_x": {
                          "color": "#2a3f5f"
                        },
                        "error_y": {
                          "color": "#2a3f5f"
                        },
                        "marker": {
                          "line": {
                            "color": "#E5ECF6",
                            "width": 0.5
                          },
                          "pattern": {
                            "fillmode": "overlay",
                            "size": 10,
                            "solidity": 0.2
                          }
                        },
                        "type": "bar"
                      }
                    ],
                    "scattergeo": [
                      {
                        "type": "scattergeo",
                        "marker": {
                          "colorbar": {
                            "outlinewidth": 0,
                            "ticks": ""
                          }
                        }
                      }
                    ],
                    "scatterpolar": [
                      {
                        "type": "scatterpolar",
                        "marker": {
                          "colorbar": {
                            "outlinewidth": 0,
                            "ticks": ""
                          }
                        }
                      }
                    ],
                    "histogram": [
                      {
                        "marker": {
                          "pattern": {
                            "fillmode": "overlay",
                            "size": 10,
                            "solidity": 0.2
                          }
                        },
                        "type": "histogram"
                      }
                    ],
                    "scattergl": [
                      {
                        "type": "scattergl",
                        "marker": {
                          "colorbar": {
                            "outlinewidth": 0,
                            "ticks": ""
                          }
                        }
                      }
                    ],
                    "scatter3d": [
                      {
                        "type": "scatter3d",
                        "line": {
                          "colorbar": {
                            "outlinewidth": 0,
                            "ticks": ""
                          }
                        },
                        "marker": {
                          "colorbar": {
                            "outlinewidth": 0,
                            "ticks": ""
                          }
                        }
                      }
                    ],
                    "scattermapbox": [
                      {
                        "type": "scattermapbox",
                        "marker": {
                          "colorbar": {
                            "outlinewidth": 0,
                            "ticks": ""
                          }
                        }
                      }
                    ],
                    "scatterternary": [
                      {
                        "type": "scatterternary",
                        "marker": {
                          "colorbar": {
                            "outlinewidth": 0,
                            "ticks": ""
                          }
                        }
                      }
                    ],
                    "scattercarpet": [
                      {
                        "type": "scattercarpet",
                        "marker": {
                          "colorbar": {
                            "outlinewidth": 0,
                            "ticks": ""
                          }
                        }
                      }
                    ],
                    "carpet": [
                      {
                        "aaxis": {
                          "endlinecolor": "#2a3f5f",
                          "gridcolor": "white",
                          "linecolor": "white",
                          "minorgridcolor": "white",
                          "startlinecolor": "#2a3f5f"
                        },
                        "baxis": {
                          "endlinecolor": "#2a3f5f",
                          "gridcolor": "white",
                          "linecolor": "white",
                          "minorgridcolor": "white",
                          "startlinecolor": "#2a3f5f"
                        },
                        "type": "carpet"
                      }
                    ],
                    "table": [
                      {
                        "cells": {
                          "fill": {
                            "color": "#EBF0F8"
                          },
                          "line": {
                            "color": "white"
                          }
                        },
                        "header": {
                          "fill": {
                            "color": "#C8D4E3"
                          },
                          "line": {
                            "color": "white"
                          }
                        },
                        "type": "table"
                      }
                    ],
                    "barpolar": [
                      {
                        "marker": {
                          "line": {
                            "color": "#E5ECF6",
                            "width": 0.5
                          },
                          "pattern": {
                            "fillmode": "overlay",
                            "size": 10,
                            "solidity": 0.2
                          }
                        },
                        "type": "barpolar"
                      }
                    ],
                    "pie": [
                      {
                        "automargin": true,
                        "type": "pie"
                      }
                    ]
                  },
                  "layout": {
                    "autotypenumbers": "strict",
                    "colorway": [
                      "#636efa",
                      "#EF553B",
                      "#00cc96",
                      "#ab63fa",
                      "#FFA15A",
                      "#19d3f3",
                      "#FF6692",
                      "#B6E880",
                      "#FF97FF",
                      "#FECB52"
                    ],
                    "font": {
                      "color": "#2a3f5f"
                    },
                    "hovermode": "closest",
                    "hoverlabel": {
                      "align": "left"
                    },
                    "paper_bgcolor": "white",
                    "plot_bgcolor": "#E5ECF6",
                    "polar": {
                      "bgcolor": "#E5ECF6",
                      "angularaxis": {
                        "gridcolor": "white",
                        "linecolor": "white",
                        "ticks": ""
                      },
                      "radialaxis": {
                        "gridcolor": "white",
                        "linecolor": "white",
                        "ticks": ""
                      }
                    },
                    "ternary": {
                      "bgcolor": "#E5ECF6",
                      "aaxis": {
                        "gridcolor": "white",
                        "linecolor": "white",
                        "ticks": ""
                      },
                      "baxis": {
                        "gridcolor": "white",
                        "linecolor": "white",
                        "ticks": ""
                      },
                      "caxis": {
                        "gridcolor": "white",
                        "linecolor": "white",
                        "ticks": ""
                      }
                    },
                    "coloraxis": {
                      "colorbar": {
                        "outlinewidth": 0,
                        "ticks": ""
                      }
                    },
                    "colorscale": {
                      "sequential": [
                        [
                          0,
                          "#0d0887"
                        ],
                        [
                          0.1111111111111111,
                          "#46039f"
                        ],
                        [
                          0.2222222222222222,
                          "#7201a8"
                        ],
                        [
                          0.3333333333333333,
                          "#9c179e"
                        ],
                        [
                          0.4444444444444444,
                          "#bd3786"
                        ],
                        [
                          0.5555555555555556,
                          "#d8576b"
                        ],
                        [
                          0.6666666666666666,
                          "#ed7953"
                        ],
                        [
                          0.7777777777777778,
                          "#fb9f3a"
                        ],
                        [
                          0.8888888888888888,
                          "#fdca26"
                        ],
                        [
                          1,
                          "#f0f921"
                        ]
                      ],
                      "sequentialminus": [
                        [
                          0,
                          "#0d0887"
                        ],
                        [
                          0.1111111111111111,
                          "#46039f"
                        ],
                        [
                          0.2222222222222222,
                          "#7201a8"
                        ],
                        [
                          0.3333333333333333,
                          "#9c179e"
                        ],
                        [
                          0.4444444444444444,
                          "#bd3786"
                        ],
                        [
                          0.5555555555555556,
                          "#d8576b"
                        ],
                        [
                          0.6666666666666666,
                          "#ed7953"
                        ],
                        [
                          0.7777777777777778,
                          "#fb9f3a"
                        ],
                        [
                          0.8888888888888888,
                          "#fdca26"
                        ],
                        [
                          1,
                          "#f0f921"
                        ]
                      ],
                      "diverging": [
                        [
                          0,
                          "#8e0152"
                        ],
                        [
                          0.1,
                          "#c51b7d"
                        ],
                        [
                          0.2,
                          "#de77ae"
                        ],
                        [
                          0.3,
                          "#f1b6da"
                        ],
                        [
                          0.4,
                          "#fde0ef"
                        ],
                        [
                          0.5,
                          "#f7f7f7"
                        ],
                        [
                          0.6,
                          "#e6f5d0"
                        ],
                        [
                          0.7,
                          "#b8e186"
                        ],
                        [
                          0.8,
                          "#7fbc41"
                        ],
                        [
                          0.9,
                          "#4d9221"
                        ],
                        [
                          1,
                          "#276419"
                        ]
                      ]
                    },
                    "xaxis": {
                      "gridcolor": "white",
                      "linecolor": "white",
                      "ticks": "",
                      "title": {
                        "standoff": 15
                      },
                      "zerolinecolor": "white",
                      "automargin": true,
                      "zerolinewidth": 2
                    },
                    "yaxis": {
                      "gridcolor": "white",
                      "linecolor": "white",
                      "ticks": "",
                      "title": {
                        "standoff": 15
                      },
                      "zerolinecolor": "white",
                      "automargin": true,
                      "zerolinewidth": 2
                    },
                    "scene": {
                      "xaxis": {
                        "backgroundcolor": "#E5ECF6",
                        "gridcolor": "white",
                        "linecolor": "white",
                        "showbackground": true,
                        "ticks": "",
                        "zerolinecolor": "white",
                        "gridwidth": 2
                      },
                      "yaxis": {
                        "backgroundcolor": "#E5ECF6",
                        "gridcolor": "white",
                        "linecolor": "white",
                        "showbackground": true,
                        "ticks": "",
                        "zerolinecolor": "white",
                        "gridwidth": 2
                      },
                      "zaxis": {
                        "backgroundcolor": "#E5ECF6",
                        "gridcolor": "white",
                        "linecolor": "white",
                        "showbackground": true,
                        "ticks": "",
                        "zerolinecolor": "white",
                        "gridwidth": 2
                      }
                    },
                    "shapedefaults": {
                      "line": {
                        "color": "#2a3f5f"
                      }
                    },
                    "annotationdefaults": {
                      "arrowcolor": "#2a3f5f",
                      "arrowhead": 0,
                      "arrowwidth": 1
                    },
                    "geo": {
                      "bgcolor": "white",
                      "landcolor": "#E5ECF6",
                      "subunitcolor": "white",
                      "showland": true,
                      "showlakes": true,
                      "lakecolor": "white"
                    },
                    "title": {
                      "x": 0.05
                    },
                    "mapbox": {
                      "style": "light"
                    }
                  }
                },
                "title": {
                  "text": "Batting Avg distribution for each team"
                }
              },
              "config": {
                "plotlyServerURL": "https://plot.ly"
              }
            },
            "text/html": "<div>                            <div id=\"0552dabd-5303-4862-ae9a-77e2a78241af\" class=\"plotly-graph-div\" style=\"height:525px; width:100%;\"></div>            <script type=\"text/javascript\">                require([\"plotly\"], function(Plotly) {                    window.PLOTLYENV=window.PLOTLYENV || {};                                    if (document.getElementById(\"0552dabd-5303-4862-ae9a-77e2a78241af\")) {                    Plotly.newPlot(                        \"0552dabd-5303-4862-ae9a-77e2a78241af\",                        [{\"boxmean\":\"sd\",\"boxpoints\":\"all\",\"name\":\"Peshawar Zalmi\",\"y\":[32.09090909090909,22.125,29.166666666666668,17.0,22.666666666666668,13.333333333333334,18.8,16.2,13.5,7.0,10.333333333333334,6.2,6.5,4.6,5.0,1.0,1.0],\"type\":\"box\"},{\"boxmean\":\"sd\",\"boxpoints\":\"all\",\"name\":\"Islamabad United\",\"y\":[30.444444444444443,19.0,19.75,15.444444444444445,26.6,33.5,11.0,11.5,15.333333333333334,15.0,8.333333333333334,0.5,1.0,1.0,1.0,0.0,0.0],\"type\":\"box\"},{\"boxmean\":\"sd\",\"boxpoints\":\"all\",\"name\":\"Quetta Gladiators\",\"y\":[31.875,34.42857142857143,26.444444444444443,20.333333333333332,24.5,11.4,13.333333333333334,12.333333333333334,6.5,24.0,5.0,6.0,12.0,6.0,3.0,2.0,0.5,1.0,0.5],\"type\":\"box\"},{\"boxmean\":\"sd\",\"boxpoints\":\"all\",\"name\":\"Karachi Kings\",\"y\":[29.1,21.5,20.2,22.333333333333332,17.77777777777778,11.9,10.375,6.0,9.5,4.0,10.0,2.5,0.0],\"type\":\"box\"},{\"boxmean\":\"sd\",\"boxpoints\":\"all\",\"name\":\"Lahore Qalandars\",\"y\":[22.125,34.6,20.5,18.571428571428573,16.571428571428573,13.285714285714286,20.5,10.571428571428571,11.333333333333334,12.5,11.5,1.0,1.0,1.0],\"type\":\"box\"}],                        {\"template\":{\"data\":{\"histogram2dcontour\":[{\"type\":\"histogram2dcontour\",\"colorbar\":{\"outlinewidth\":0,\"ticks\":\"\"},\"colorscale\":[[0.0,\"#0d0887\"],[0.1111111111111111,\"#46039f\"],[0.2222222222222222,\"#7201a8\"],[0.3333333333333333,\"#9c179e\"],[0.4444444444444444,\"#bd3786\"],[0.5555555555555556,\"#d8576b\"],[0.6666666666666666,\"#ed7953\"],[0.7777777777777778,\"#fb9f3a\"],[0.8888888888888888,\"#fdca26\"],[1.0,\"#f0f921\"]]}],\"choropleth\":[{\"type\":\"choropleth\",\"colorbar\":{\"outlinewidth\":0,\"ticks\":\"\"}}],\"histogram2d\":[{\"type\":\"histogram2d\",\"colorbar\":{\"outlinewidth\":0,\"ticks\":\"\"},\"colorscale\":[[0.0,\"#0d0887\"],[0.1111111111111111,\"#46039f\"],[0.2222222222222222,\"#7201a8\"],[0.3333333333333333,\"#9c179e\"],[0.4444444444444444,\"#bd3786\"],[0.5555555555555556,\"#d8576b\"],[0.6666666666666666,\"#ed7953\"],[0.7777777777777778,\"#fb9f3a\"],[0.8888888888888888,\"#fdca26\"],[1.0,\"#f0f921\"]]}],\"heatmap\":[{\"type\":\"heatmap\",\"colorbar\":{\"outlinewidth\":0,\"ticks\":\"\"},\"colorscale\":[[0.0,\"#0d0887\"],[0.1111111111111111,\"#46039f\"],[0.2222222222222222,\"#7201a8\"],[0.3333333333333333,\"#9c179e\"],[0.4444444444444444,\"#bd3786\"],[0.5555555555555556,\"#d8576b\"],[0.6666666666666666,\"#ed7953\"],[0.7777777777777778,\"#fb9f3a\"],[0.8888888888888888,\"#fdca26\"],[1.0,\"#f0f921\"]]}],\"heatmapgl\":[{\"type\":\"heatmapgl\",\"colorbar\":{\"outlinewidth\":0,\"ticks\":\"\"},\"colorscale\":[[0.0,\"#0d0887\"],[0.1111111111111111,\"#46039f\"],[0.2222222222222222,\"#7201a8\"],[0.3333333333333333,\"#9c179e\"],[0.4444444444444444,\"#bd3786\"],[0.5555555555555556,\"#d8576b\"],[0.6666666666666666,\"#ed7953\"],[0.7777777777777778,\"#fb9f3a\"],[0.8888888888888888,\"#fdca26\"],[1.0,\"#f0f921\"]]}],\"contourcarpet\":[{\"type\":\"contourcarpet\",\"colorbar\":{\"outlinewidth\":0,\"ticks\":\"\"}}],\"contour\":[{\"type\":\"contour\",\"colorbar\":{\"outlinewidth\":0,\"ticks\":\"\"},\"colorscale\":[[0.0,\"#0d0887\"],[0.1111111111111111,\"#46039f\"],[0.2222222222222222,\"#7201a8\"],[0.3333333333333333,\"#9c179e\"],[0.4444444444444444,\"#bd3786\"],[0.5555555555555556,\"#d8576b\"],[0.6666666666666666,\"#ed7953\"],[0.7777777777777778,\"#fb9f3a\"],[0.8888888888888888,\"#fdca26\"],[1.0,\"#f0f921\"]]}],\"surface\":[{\"type\":\"surface\",\"colorbar\":{\"outlinewidth\":0,\"ticks\":\"\"},\"colorscale\":[[0.0,\"#0d0887\"],[0.1111111111111111,\"#46039f\"],[0.2222222222222222,\"#7201a8\"],[0.3333333333333333,\"#9c179e\"],[0.4444444444444444,\"#bd3786\"],[0.5555555555555556,\"#d8576b\"],[0.6666666666666666,\"#ed7953\"],[0.7777777777777778,\"#fb9f3a\"],[0.8888888888888888,\"#fdca26\"],[1.0,\"#f0f921\"]]}],\"mesh3d\":[{\"type\":\"mesh3d\",\"colorbar\":{\"outlinewidth\":0,\"ticks\":\"\"}}],\"scatter\":[{\"fillpattern\":{\"fillmode\":\"overlay\",\"size\":10,\"solidity\":0.2},\"type\":\"scatter\"}],\"parcoords\":[{\"type\":\"parcoords\",\"line\":{\"colorbar\":{\"outlinewidth\":0,\"ticks\":\"\"}}}],\"scatterpolargl\":[{\"type\":\"scatterpolargl\",\"marker\":{\"colorbar\":{\"outlinewidth\":0,\"ticks\":\"\"}}}],\"bar\":[{\"error_x\":{\"color\":\"#2a3f5f\"},\"error_y\":{\"color\":\"#2a3f5f\"},\"marker\":{\"line\":{\"color\":\"#E5ECF6\",\"width\":0.5},\"pattern\":{\"fillmode\":\"overlay\",\"size\":10,\"solidity\":0.2}},\"type\":\"bar\"}],\"scattergeo\":[{\"type\":\"scattergeo\",\"marker\":{\"colorbar\":{\"outlinewidth\":0,\"ticks\":\"\"}}}],\"scatterpolar\":[{\"type\":\"scatterpolar\",\"marker\":{\"colorbar\":{\"outlinewidth\":0,\"ticks\":\"\"}}}],\"histogram\":[{\"marker\":{\"pattern\":{\"fillmode\":\"overlay\",\"size\":10,\"solidity\":0.2}},\"type\":\"histogram\"}],\"scattergl\":[{\"type\":\"scattergl\",\"marker\":{\"colorbar\":{\"outlinewidth\":0,\"ticks\":\"\"}}}],\"scatter3d\":[{\"type\":\"scatter3d\",\"line\":{\"colorbar\":{\"outlinewidth\":0,\"ticks\":\"\"}},\"marker\":{\"colorbar\":{\"outlinewidth\":0,\"ticks\":\"\"}}}],\"scattermapbox\":[{\"type\":\"scattermapbox\",\"marker\":{\"colorbar\":{\"outlinewidth\":0,\"ticks\":\"\"}}}],\"scatterternary\":[{\"type\":\"scatterternary\",\"marker\":{\"colorbar\":{\"outlinewidth\":0,\"ticks\":\"\"}}}],\"scattercarpet\":[{\"type\":\"scattercarpet\",\"marker\":{\"colorbar\":{\"outlinewidth\":0,\"ticks\":\"\"}}}],\"carpet\":[{\"aaxis\":{\"endlinecolor\":\"#2a3f5f\",\"gridcolor\":\"white\",\"linecolor\":\"white\",\"minorgridcolor\":\"white\",\"startlinecolor\":\"#2a3f5f\"},\"baxis\":{\"endlinecolor\":\"#2a3f5f\",\"gridcolor\":\"white\",\"linecolor\":\"white\",\"minorgridcolor\":\"white\",\"startlinecolor\":\"#2a3f5f\"},\"type\":\"carpet\"}],\"table\":[{\"cells\":{\"fill\":{\"color\":\"#EBF0F8\"},\"line\":{\"color\":\"white\"}},\"header\":{\"fill\":{\"color\":\"#C8D4E3\"},\"line\":{\"color\":\"white\"}},\"type\":\"table\"}],\"barpolar\":[{\"marker\":{\"line\":{\"color\":\"#E5ECF6\",\"width\":0.5},\"pattern\":{\"fillmode\":\"overlay\",\"size\":10,\"solidity\":0.2}},\"type\":\"barpolar\"}],\"pie\":[{\"automargin\":true,\"type\":\"pie\"}]},\"layout\":{\"autotypenumbers\":\"strict\",\"colorway\":[\"#636efa\",\"#EF553B\",\"#00cc96\",\"#ab63fa\",\"#FFA15A\",\"#19d3f3\",\"#FF6692\",\"#B6E880\",\"#FF97FF\",\"#FECB52\"],\"font\":{\"color\":\"#2a3f5f\"},\"hovermode\":\"closest\",\"hoverlabel\":{\"align\":\"left\"},\"paper_bgcolor\":\"white\",\"plot_bgcolor\":\"#E5ECF6\",\"polar\":{\"bgcolor\":\"#E5ECF6\",\"angularaxis\":{\"gridcolor\":\"white\",\"linecolor\":\"white\",\"ticks\":\"\"},\"radialaxis\":{\"gridcolor\":\"white\",\"linecolor\":\"white\",\"ticks\":\"\"}},\"ternary\":{\"bgcolor\":\"#E5ECF6\",\"aaxis\":{\"gridcolor\":\"white\",\"linecolor\":\"white\",\"ticks\":\"\"},\"baxis\":{\"gridcolor\":\"white\",\"linecolor\":\"white\",\"ticks\":\"\"},\"caxis\":{\"gridcolor\":\"white\",\"linecolor\":\"white\",\"ticks\":\"\"}},\"coloraxis\":{\"colorbar\":{\"outlinewidth\":0,\"ticks\":\"\"}},\"colorscale\":{\"sequential\":[[0.0,\"#0d0887\"],[0.1111111111111111,\"#46039f\"],[0.2222222222222222,\"#7201a8\"],[0.3333333333333333,\"#9c179e\"],[0.4444444444444444,\"#bd3786\"],[0.5555555555555556,\"#d8576b\"],[0.6666666666666666,\"#ed7953\"],[0.7777777777777778,\"#fb9f3a\"],[0.8888888888888888,\"#fdca26\"],[1.0,\"#f0f921\"]],\"sequentialminus\":[[0.0,\"#0d0887\"],[0.1111111111111111,\"#46039f\"],[0.2222222222222222,\"#7201a8\"],[0.3333333333333333,\"#9c179e\"],[0.4444444444444444,\"#bd3786\"],[0.5555555555555556,\"#d8576b\"],[0.6666666666666666,\"#ed7953\"],[0.7777777777777778,\"#fb9f3a\"],[0.8888888888888888,\"#fdca26\"],[1.0,\"#f0f921\"]],\"diverging\":[[0,\"#8e0152\"],[0.1,\"#c51b7d\"],[0.2,\"#de77ae\"],[0.3,\"#f1b6da\"],[0.4,\"#fde0ef\"],[0.5,\"#f7f7f7\"],[0.6,\"#e6f5d0\"],[0.7,\"#b8e186\"],[0.8,\"#7fbc41\"],[0.9,\"#4d9221\"],[1,\"#276419\"]]},\"xaxis\":{\"gridcolor\":\"white\",\"linecolor\":\"white\",\"ticks\":\"\",\"title\":{\"standoff\":15},\"zerolinecolor\":\"white\",\"automargin\":true,\"zerolinewidth\":2},\"yaxis\":{\"gridcolor\":\"white\",\"linecolor\":\"white\",\"ticks\":\"\",\"title\":{\"standoff\":15},\"zerolinecolor\":\"white\",\"automargin\":true,\"zerolinewidth\":2},\"scene\":{\"xaxis\":{\"backgroundcolor\":\"#E5ECF6\",\"gridcolor\":\"white\",\"linecolor\":\"white\",\"showbackground\":true,\"ticks\":\"\",\"zerolinecolor\":\"white\",\"gridwidth\":2},\"yaxis\":{\"backgroundcolor\":\"#E5ECF6\",\"gridcolor\":\"white\",\"linecolor\":\"white\",\"showbackground\":true,\"ticks\":\"\",\"zerolinecolor\":\"white\",\"gridwidth\":2},\"zaxis\":{\"backgroundcolor\":\"#E5ECF6\",\"gridcolor\":\"white\",\"linecolor\":\"white\",\"showbackground\":true,\"ticks\":\"\",\"zerolinecolor\":\"white\",\"gridwidth\":2}},\"shapedefaults\":{\"line\":{\"color\":\"#2a3f5f\"}},\"annotationdefaults\":{\"arrowcolor\":\"#2a3f5f\",\"arrowhead\":0,\"arrowwidth\":1},\"geo\":{\"bgcolor\":\"white\",\"landcolor\":\"#E5ECF6\",\"subunitcolor\":\"white\",\"showland\":true,\"showlakes\":true,\"lakecolor\":\"white\"},\"title\":{\"x\":0.05},\"mapbox\":{\"style\":\"light\"}}},\"title\":{\"text\":\"Batting Avg distribution for each team\"}},                        {\"responsive\": true}                    ).then(function(){\n                            \nvar gd = document.getElementById('0552dabd-5303-4862-ae9a-77e2a78241af');\nvar x = new MutationObserver(function (mutations, observer) {{\n        var display = window.getComputedStyle(gd).display;\n        if (!display || display === 'none') {{\n            console.log([gd, 'removed!']);\n            Plotly.purge(gd);\n            observer.disconnect();\n        }}\n}});\n\n// Listen for the removal of the full notebook cells\nvar notebookContainer = gd.closest('#notebook-container');\nif (notebookContainer) {{\n    x.observe(notebookContainer, {childList: true});\n}}\n\n// Listen for the clearing of the current output cell\nvar outputEl = gd.closest('.output');\nif (outputEl) {{\n    x.observe(outputEl, {childList: true});\n}}\n\n                        })                };                });            </script>        </div>"
          },
          "metadata": {}
        }
      ],
      "source": [
        "trace0 = go.Box(y = df_batAvg.loc[df_batAvg['Batting_team'] == 'Peshawar Zalmi', 'AvgRuns_match'], name = 'Peshawar Zalmi', boxmean = 'sd', boxpoints = 'all')\n",
        "trace1 = go.Box(y = df_batAvg.loc[df_batAvg['Batting_team'] == 'Islamabad United', 'AvgRuns_match'], name = 'Islamabad United', boxmean = 'sd', boxpoints = 'all')\n",
        "trace2 = go.Box(y = df_batAvg.loc[df_batAvg['Batting_team'] == 'Quetta Gladiators', 'AvgRuns_match'], name = 'Quetta Gladiators', boxmean = 'sd', boxpoints = 'all')\n",
        "trace3 = go.Box(y = df_batAvg.loc[df_batAvg['Batting_team'] == 'Karachi Kings', 'AvgRuns_match'], name = 'Karachi Kings' , boxmean = 'sd', boxpoints = 'all')\n",
        "trace4 = go.Box(y = df_batAvg.loc[df_batAvg['Batting_team'] == 'Lahore Qalandars', 'AvgRuns_match'], name = 'Lahore Qalandars' , boxmean = 'sd', boxpoints = 'all')\n",
        "\n",
        "data = [trace0, trace1, trace2, trace3, trace4]\n",
        "\n",
        "fig111 = go.Figure(data = data)\n",
        "fig111.layout.title = dict(text = \"Batting Avg distribution for each team\" )\n",
        "fig111.show()\n",
        "\n",
        "##Quetta, Lahore, Pesh similar\n",
        "##Comparable mean, median"
      ]
    },
    {
      "cell_type": "code",
      "execution_count": null,
      "metadata": {},
      "outputs": [],
      "source": [
        "# import plotly.graph_objects as go\n",
        "# from plotly.subplots import make_subplots\n",
        "\n",
        "# ##Batsman Histogram\n",
        "\n",
        "\n",
        "# team_list = list(df_batAvg['Batting_team'].unique())\n",
        "\n",
        "# trace0 = go.Histogram(x= df_batAvg.loc[df_batAvg['Batting_team'] == team_list[0], 'AvgRuns_match'], opacity = 0.75, name = team_list[0])\n",
        "# trace1 = go.Histogram(x= df_batAvg.loc[df_batAvg['Batting_team'] == team_list[1], 'AvgRuns_match'], opacity = 0.75, name = team_list[1])\n",
        "# trace2 = go.Histogram(x= df_batAvg.loc[df_batAvg['Batting_team'] == team_list[2], 'AvgRuns_match'], opacity = 0.75, name = team_list[2])\n",
        "# trace3 = go.Histogram(x= df_batAvg.loc[df_batAvg['Batting_team'] == team_list[3], 'AvgRuns_match'], opacity = 0.75, name = team_list[3])\n",
        "# trace4 = go.Histogram(x= df_batAvg.loc[df_batAvg['Batting_team'] == team_list[4], 'AvgRuns_match'], opacity = 0.75, name = team_list[4])\n",
        "\n",
        "# fig4 = make_subplots(rows =3, cols = 2)\n",
        "# fig4.append_trace(trace0,1,1)\n",
        "# fig4.append_trace(trace1,2,1)\n",
        "# fig4.append_trace(trace2,2,2)\n",
        "# fig4.append_trace(trace3,3,1)\n",
        "# fig4.append_trace(trace4,3,2)\n",
        "\n",
        "# fig4.layout.title = dict(text = 'Distribution of average batsman scores')\n",
        "# fig4.layout.xaxis = dict(tickmode = 'linear', dtick = 10)\n",
        "\n",
        "# fig4.show()\n",
        "# plotly.offline.plot(fig4, include_plotlyjs = False, output_type = 'div')"
      ]
    },
    {
      "cell_type": "code",
      "execution_count": 534,
      "metadata": {},
      "outputs": [],
      "source": [
        "#Bowling\n",
        "## Defining bowler metrics\n",
        "def caught(x):\n",
        "    if x == 'caught':\n",
        "        return 1\n",
        "    else:\n",
        "        return 0\n",
        "def bowled(x):\n",
        "    if x == bowled:\n",
        "        return 1\n",
        "    else:\n",
        "        return 0\n",
        "def runout(x):\n",
        "    if x == 'runout':\n",
        "        return 1\n",
        "    else:\n",
        "        return 0\n",
        "def lbw(x):\n",
        "    if x == 'lbw':\n",
        "        return 1\n",
        "    else:\n",
        "        return 0\n",
        "def stump(x):\n",
        "    if x == 'stump':\n",
        "        return 1\n",
        "    else:\n",
        "        return 0\n",
        "def candb(x):\n",
        "    if x == 'caught and bowled':\n",
        "        return 1\n",
        "    else:\n",
        "        return 0\n",
        "\n",
        "\n",
        "df['Caught'] = df['Dismisal_kind'].apply(lambda x: caught(x))\n",
        "df['Bowled'] = df['Dismisal_kind'].apply(lambda x: bowled(x))\n",
        "df['Lbw'] = df['Dismisal_kind'].apply(lambda x: lbw(x))\n",
        "df['Runout'] = df['Dismisal_kind'].apply(lambda x: runout(x))\n",
        "df['Stump'] = df['Dismisal_kind'].apply(lambda x: stump(x))\n",
        "df['Caught_bowled'] = df['Dismisal_kind'].apply(lambda x: candb(x))\n",
        "\n",
        "\n",
        "## Creating a bowler dataframe\n",
        "#By each match\n",
        "df_bowl_match = pd.merge(\n",
        "    df.groupby(['Bowler', 'Match_id']).sum().reset_index().filter(regex = \"[Innings,Over,Ball]\"), \n",
        "    df.groupby(['Bowler', 'Match_id']).count().reset_index()[['Bowler','Match_id', 'Ball']].rename(columns =        {'Ball': 'TotalDeliveries'}\n",
        "    ), on = ['Bowler', 'Match_id'])\n",
        "\n",
        "#Avg deliveries bye ach match\n",
        "df_bowl_matchAvg = pd.merge(\n",
        "    df.groupby(['Bowler', 'Match_id']).sum().reset_index().filter(regex = \"[^Match_id,Innings,Over,Ball]\") ,       df.groupby(['Bowler', 'Match_id']).count().reset_index()[['Bowler', 'Ball']].rename(columns = {'Ball': 'Delieveries_bowled'}), on = 'Bowler').groupby('Bowler').mean().reset_index()\n",
        "\n",
        "#Avg tot runs by each match\n",
        "df_bowl_Avg_Tot = pd.merge(\n",
        "    df_bowl_match.groupby('Bowler').sum().reset_index().filter(regex = '[^Match_id,Innings,Over,Ball]'),           df_bowlAvg.filter(regex = \"[^Caught,Bowled,Stump,Caught_bowled, Lbw, Runout]\").rename(columns =      {'Delieveries_bowled':'AvgDeliveries_bowled','Batsman_runs': 'AvgBatsman_runs', 'Extra_runs': 'AvgExtra_runs' , 'Six': 'AvgSix', 'Four': 'AvgFour', 'wicket' : 'AvgWicket'}),\n",
        " on = 'Bowler')\n",
        "\n",
        "#Bowler Economy\n",
        "dfecon = df.groupby(['Bowler','Match_id', 'Over']).sum().reset_index().groupby('Bowler').mean().reset_index()[['Bowler','Batsman_runs', 'Extra_runs']]\n",
        "dfecon['Economy'] = dfecon['Batsman_runs'] + dfecon['Extra_runs']\n",
        "\n",
        "#Bowler final dataframe\n",
        "df_bowler_summ = pd.merge(df_bowl_Avg_Tot.loc[df_bowl_Avg_Tot['TotalDeliveries'] > 50], dfecon[['Bowler','Economy']], on = 'Bowler')\n",
        "\n",
        "\n",
        "## Bowler variance\n",
        "df_bowler_summ['Runs_sq'] = 0\n",
        "df_bowler_summ['Matches_played'] = 0\n",
        "for i in range(len(df_bowler_summ)):\n",
        "    for j in range(len(df_bowl_match)):\n",
        "        if df_bowler_summ.iloc[i]['Bowler'] == df_bowl_match.iloc[j]['Bowler']:\n",
        "            df_bowler_summ['Runs_sq'].iloc[i] += (df_bowl_match.iloc[j]['Batsman_runs'] +  df_bowl_match.iloc[j]['Extra_runs'])**2\n",
        "            df_bowler_summ['Matches_played'].iloc[i] += 1\n",
        "\n",
        "AvgRuns = df_bowler_summ['AvgBatsman_runs']+df_bowler_summ['AvgExtra_runs']\n",
        "NumberMatches = df_bowler_summ['Matches_played']\n",
        "\n",
        "df_bowler_summ['Var'] = 0\n",
        "\n",
        "for i in range(len(df_bowler_summ)):\n",
        "    if NumberMatches.loc[i] > 0:\n",
        "        df_bowler_summ[\"Var\"].loc[i] = (df_bowler_summ['Runs_sq'].loc[i] - NumberMatches.loc[i]*(AvgRuns.loc[i]**2))/(NumberMatches.loc[i] - 1)\n",
        "\n",
        " \n",
        "\n",
        "df_bowler = pd.merge(df_bowler_summ, df[['Bowler', 'Bowling_team']].drop_duplicates(keep = 'first'), on = 'Bowler')\n",
        "df_bowler.dropna(inplace=True)\n"
      ]
    },
    {
      "cell_type": "code",
      "execution_count": 535,
      "metadata": {},
      "outputs": [
        {
          "output_type": "display_data",
          "data": {
            "application/vnd.plotly.v1+json": {
              "data": [
                {
                  "hoverinfo": "text",
                  "marker": {
                    "autocolorscale": true,
                    "cmin": 0,
                    "color": [
                      0,
                      0,
                      0,
                      0,
                      0,
                      0,
                      0,
                      0,
                      0,
                      0,
                      0,
                      0,
                      0,
                      0,
                      0,
                      0,
                      0,
                      0,
                      0,
                      0,
                      0,
                      0,
                      0,
                      0,
                      0,
                      0,
                      0,
                      0,
                      0,
                      0,
                      0,
                      0,
                      0,
                      0,
                      0,
                      0,
                      0,
                      0,
                      0,
                      0,
                      0,
                      0,
                      0,
                      0,
                      0,
                      0,
                      0,
                      0,
                      0,
                      0,
                      0,
                      0,
                      0,
                      0,
                      0,
                      0,
                      0,
                      0,
                      0,
                      0,
                      0,
                      0,
                      0,
                      0,
                      0,
                      0,
                      0,
                      0,
                      0,
                      0,
                      0,
                      0,
                      0,
                      0,
                      0,
                      0,
                      0,
                      0,
                      0,
                      0
                    ],
                    "colorbar": {
                      "title": {
                        "text": "Score variance"
                      }
                    },
                    "reversescale": true,
                    "size": 20,
                    "symbol": "circle"
                  },
                  "mode": "markers",
                  "showlegend": false,
                  "text": [
                    "Kamran Akmal  Peshawar Zalmi",
                    "Babar Azam  Karachi Kings",
                    "DR Smith  Islamabad United",
                    "RR Rossouw  Quetta Gladiators",
                    "KP Pietersen  Quetta Gladiators",
                    "Ahmed Shehzad  Quetta Gladiators",
                    "KC Sangakkara  Karachi Kings",
                    "Shoaib Malik  Karachi Kings",
                    "KA Pollard  Karachi Kings",
                    "Sarfraz Ahmed  Quetta Gladiators",
                    "Fakhar Zaman  Lahore Qalandars",
                    "Shahid Afridi  Peshawar Zalmi",
                    "DJ Malan  Peshawar Zalmi",
                    "JJ Roy  Lahore Qalandars",
                    "SR Watson  Islamabad United",
                    "Umar Akmal  Lahore Qalandars",
                    "CH Gayle  Karachi Kings",
                    "Misbah-ul-Haq  Islamabad United",
                    "Mohammad Hafeez  Peshawar Zalmi",
                    "Asad Shafiq  Quetta Gladiators",
                    "BJ Haddin  Islamabad United",
                    "EJG Morgan  Peshawar Zalmi",
                    "SW Billings  Islamabad United",
                    "Mohammad Rizwan  Lahore Qalandars",
                    "DJG Sammy  Peshawar Zalmi",
                    "RS Bopara  Karachi Kings",
                    "SP Narine  Lahore Qalandars",
                    "Tamim Iqbal  Peshawar Zalmi",
                    "BB McCullum  Lahore Qalandars",
                    "Imad Wasim  Karachi Kings",
                    "CS Delport  Lahore Qalandars",
                    "MN Samuels  Peshawar Zalmi",
                    "GD Elliott  Lahore Qalandars",
                    "Sohail Tanvir  Lahore Qalandars",
                    "Hussain Talat  Islamabad United",
                    "Shadab Khan  Islamabad United",
                    "Anwar Ali  Quetta Gladiators",
                    "Shakib Al Hasan  Peshawar Zalmi",
                    "Asif Ali  Islamabad United",
                    "Rafatullah Mohmand  Islamabad United",
                    "NLTC Perera  Quetta Gladiators",
                    "Mahmudullah  Quetta Gladiators",
                    "Sohaib Maqsood  Peshawar Zalmi",
                    "Haris Sohail  Peshawar Zalmi",
                    "Wahab Riaz  Peshawar Zalmi",
                    "BM Duckett  Islamabad United",
                    "Hasan Khan  Quetta Gladiators",
                    "CJ Jordan  Peshawar Zalmi",
                    "Aamer Yamin  Lahore Qalandars",
                    "Amad Butt  Islamabad United",
                    "SM Ervine  Quetta Gladiators",
                    "Mohammad Amir  Karachi Kings",
                    "Hasan Ali  Peshawar Zalmi",
                    "Yasir Shah  Lahore Qalandars",
                    "Mohammad Nawaz (3)  Quetta Gladiators",
                    "Shahzaib Hasan  Karachi Kings",
                    "Saad Nasim  Quetta Gladiators",
                    "Sohail Khan  Karachi Kings",
                    "Iftikhar Ahmed  Peshawar Zalmi",
                    "LJ Wright  Quetta Gladiators",
                    "DPMD Jayawardene  Karachi Kings",
                    "RR Emrit  Quetta Gladiators",
                    "Usama Mir  Karachi Kings",
                    "Mohammad Irfan (4)  Lahore Qalandars",
                    "Anamul Haque  Quetta Gladiators",
                    "Umar Gul  Quetta Gladiators",
                    "Bilawal Bhatti  Lahore Qalandars",
                    "Mohammad Sami  Islamabad United",
                    "TS Mills  Quetta Gladiators",
                    "N Pooran  Islamabad United",
                    "Ghulam Mudassar  Lahore Qalandars",
                    "Sharjeel Khan  Islamabad United",
                    "Imran Khalid  Islamabad United",
                    "Junaid Khan  Peshawar Zalmi",
                    "Khushdil Shah  Peshawar Zalmi",
                    "MN van Wyk  Quetta Gladiators",
                    "Zulfiqar Babar  Quetta Gladiators",
                    "Usman Khan  Karachi Kings",
                    "Rumman Raees  Islamabad United",
                    "Mohammad Irfan  Islamabad United"
                  ],
                  "x": [
                    32.09090909090909,
                    29.1,
                    30.444444444444443,
                    31.875,
                    34.42857142857143,
                    26.444444444444443,
                    21.5,
                    20.2,
                    22.333333333333332,
                    20.333333333333332,
                    22.125,
                    22.125,
                    29.166666666666668,
                    34.6,
                    19,
                    20.5,
                    17.77777777777778,
                    19.75,
                    17,
                    24.5,
                    15.444444444444445,
                    22.666666666666668,
                    26.6,
                    18.571428571428573,
                    13.333333333333334,
                    11.9,
                    16.571428571428573,
                    18.8,
                    13.285714285714286,
                    10.375,
                    20.5,
                    16.2,
                    10.571428571428571,
                    11.333333333333334,
                    33.5,
                    11,
                    11.4,
                    13.5,
                    11.5,
                    15.333333333333334,
                    13.333333333333334,
                    12.333333333333334,
                    7,
                    10.333333333333334,
                    6.2,
                    15,
                    6.5,
                    6.5,
                    12.5,
                    8.333333333333334,
                    24,
                    6,
                    4.6,
                    11.5,
                    5,
                    9.5,
                    6,
                    4,
                    5,
                    12,
                    10,
                    6,
                    2.5,
                    1,
                    3,
                    2,
                    1,
                    0.5,
                    0.5,
                    1,
                    1,
                    1,
                    1,
                    1,
                    1,
                    1,
                    0.5,
                    0,
                    0,
                    0
                  ],
                  "y": [
                    128.83211678832117,
                    109.81132075471699,
                    110.93117408906883,
                    121.42857142857143,
                    148.76543209876544,
                    127.95698924731182,
                    114.36170212765957,
                    120.23809523809524,
                    162.09677419354838,
                    128.8732394366197,
                    136.15384615384616,
                    163.88888888888889,
                    129.62962962962962,
                    149.13793103448276,
                    132.5581395348837,
                    124.24242424242425,
                    108.84353741496598,
                    108.21917808219177,
                    96.83544303797468,
                    106.52173913043478,
                    118.80341880341881,
                    101.49253731343283,
                    134.34343434343435,
                    120.37037037037037,
                    127.65957446808511,
                    94.44444444444444,
                    170.58823529411765,
                    106.81818181818181,
                    116.25,
                    129.6875,
                    146.42857142857142,
                    120.8955223880597,
                    92.5,
                    103.03030303030303,
                    131.37254901960785,
                    157.14285714285714,
                    129.54545454545453,
                    110.20408163265306,
                    102.22222222222223,
                    124.32432432432432,
                    111.11111111111111,
                    137.03703703703704,
                    92.10526315789474,
                    67.3913043478261,
                    79.48717948717949,
                    88.23529411764706,
                    96.29629629629629,
                    86.66666666666667,
                    96.15384615384616,
                    96.15384615384616,
                    126.3157894736842,
                    114.28571428571429,
                    153.33333333333334,
                    100,
                    105.26315789473684,
                    111.76470588235294,
                    105.88235294117646,
                    114.28571428571429,
                    57.69230769230769,
                    171.42857142857142,
                    125,
                    66.66666666666667,
                    125,
                    66.66666666666667,
                    33.333333333333336,
                    66.66666666666667,
                    28.571428571428573,
                    50,
                    50,
                    33.333333333333336,
                    100,
                    25,
                    100,
                    50,
                    16.666666666666668,
                    14.285714285714286,
                    33.333333333333336,
                    0,
                    0,
                    0
                  ],
                  "type": "scatter"
                }
              ],
              "layout": {
                "paper_bgcolor": "white",
                "plot_bgcolor": "white",
                "title": {
                  "text": "All batsman's performance - Average runs, Strike rate, Score variance"
                },
                "xaxis": {
                  "showgrid": false,
                  "title": {
                    "text": "Average runs"
                  },
                  "zeroline": false
                },
                "yaxis": {
                  "color": "black",
                  "showgrid": true,
                  "title": {
                    "font": {
                      "color": "black"
                    },
                    "text": "Strike rate"
                  },
                  "zeroline": false
                },
                "template": {
                  "data": {
                    "histogram2dcontour": [
                      {
                        "type": "histogram2dcontour",
                        "colorbar": {
                          "outlinewidth": 0,
                          "ticks": ""
                        },
                        "colorscale": [
                          [
                            0,
                            "#0d0887"
                          ],
                          [
                            0.1111111111111111,
                            "#46039f"
                          ],
                          [
                            0.2222222222222222,
                            "#7201a8"
                          ],
                          [
                            0.3333333333333333,
                            "#9c179e"
                          ],
                          [
                            0.4444444444444444,
                            "#bd3786"
                          ],
                          [
                            0.5555555555555556,
                            "#d8576b"
                          ],
                          [
                            0.6666666666666666,
                            "#ed7953"
                          ],
                          [
                            0.7777777777777778,
                            "#fb9f3a"
                          ],
                          [
                            0.8888888888888888,
                            "#fdca26"
                          ],
                          [
                            1,
                            "#f0f921"
                          ]
                        ]
                      }
                    ],
                    "choropleth": [
                      {
                        "type": "choropleth",
                        "colorbar": {
                          "outlinewidth": 0,
                          "ticks": ""
                        }
                      }
                    ],
                    "histogram2d": [
                      {
                        "type": "histogram2d",
                        "colorbar": {
                          "outlinewidth": 0,
                          "ticks": ""
                        },
                        "colorscale": [
                          [
                            0,
                            "#0d0887"
                          ],
                          [
                            0.1111111111111111,
                            "#46039f"
                          ],
                          [
                            0.2222222222222222,
                            "#7201a8"
                          ],
                          [
                            0.3333333333333333,
                            "#9c179e"
                          ],
                          [
                            0.4444444444444444,
                            "#bd3786"
                          ],
                          [
                            0.5555555555555556,
                            "#d8576b"
                          ],
                          [
                            0.6666666666666666,
                            "#ed7953"
                          ],
                          [
                            0.7777777777777778,
                            "#fb9f3a"
                          ],
                          [
                            0.8888888888888888,
                            "#fdca26"
                          ],
                          [
                            1,
                            "#f0f921"
                          ]
                        ]
                      }
                    ],
                    "heatmap": [
                      {
                        "type": "heatmap",
                        "colorbar": {
                          "outlinewidth": 0,
                          "ticks": ""
                        },
                        "colorscale": [
                          [
                            0,
                            "#0d0887"
                          ],
                          [
                            0.1111111111111111,
                            "#46039f"
                          ],
                          [
                            0.2222222222222222,
                            "#7201a8"
                          ],
                          [
                            0.3333333333333333,
                            "#9c179e"
                          ],
                          [
                            0.4444444444444444,
                            "#bd3786"
                          ],
                          [
                            0.5555555555555556,
                            "#d8576b"
                          ],
                          [
                            0.6666666666666666,
                            "#ed7953"
                          ],
                          [
                            0.7777777777777778,
                            "#fb9f3a"
                          ],
                          [
                            0.8888888888888888,
                            "#fdca26"
                          ],
                          [
                            1,
                            "#f0f921"
                          ]
                        ]
                      }
                    ],
                    "heatmapgl": [
                      {
                        "type": "heatmapgl",
                        "colorbar": {
                          "outlinewidth": 0,
                          "ticks": ""
                        },
                        "colorscale": [
                          [
                            0,
                            "#0d0887"
                          ],
                          [
                            0.1111111111111111,
                            "#46039f"
                          ],
                          [
                            0.2222222222222222,
                            "#7201a8"
                          ],
                          [
                            0.3333333333333333,
                            "#9c179e"
                          ],
                          [
                            0.4444444444444444,
                            "#bd3786"
                          ],
                          [
                            0.5555555555555556,
                            "#d8576b"
                          ],
                          [
                            0.6666666666666666,
                            "#ed7953"
                          ],
                          [
                            0.7777777777777778,
                            "#fb9f3a"
                          ],
                          [
                            0.8888888888888888,
                            "#fdca26"
                          ],
                          [
                            1,
                            "#f0f921"
                          ]
                        ]
                      }
                    ],
                    "contourcarpet": [
                      {
                        "type": "contourcarpet",
                        "colorbar": {
                          "outlinewidth": 0,
                          "ticks": ""
                        }
                      }
                    ],
                    "contour": [
                      {
                        "type": "contour",
                        "colorbar": {
                          "outlinewidth": 0,
                          "ticks": ""
                        },
                        "colorscale": [
                          [
                            0,
                            "#0d0887"
                          ],
                          [
                            0.1111111111111111,
                            "#46039f"
                          ],
                          [
                            0.2222222222222222,
                            "#7201a8"
                          ],
                          [
                            0.3333333333333333,
                            "#9c179e"
                          ],
                          [
                            0.4444444444444444,
                            "#bd3786"
                          ],
                          [
                            0.5555555555555556,
                            "#d8576b"
                          ],
                          [
                            0.6666666666666666,
                            "#ed7953"
                          ],
                          [
                            0.7777777777777778,
                            "#fb9f3a"
                          ],
                          [
                            0.8888888888888888,
                            "#fdca26"
                          ],
                          [
                            1,
                            "#f0f921"
                          ]
                        ]
                      }
                    ],
                    "surface": [
                      {
                        "type": "surface",
                        "colorbar": {
                          "outlinewidth": 0,
                          "ticks": ""
                        },
                        "colorscale": [
                          [
                            0,
                            "#0d0887"
                          ],
                          [
                            0.1111111111111111,
                            "#46039f"
                          ],
                          [
                            0.2222222222222222,
                            "#7201a8"
                          ],
                          [
                            0.3333333333333333,
                            "#9c179e"
                          ],
                          [
                            0.4444444444444444,
                            "#bd3786"
                          ],
                          [
                            0.5555555555555556,
                            "#d8576b"
                          ],
                          [
                            0.6666666666666666,
                            "#ed7953"
                          ],
                          [
                            0.7777777777777778,
                            "#fb9f3a"
                          ],
                          [
                            0.8888888888888888,
                            "#fdca26"
                          ],
                          [
                            1,
                            "#f0f921"
                          ]
                        ]
                      }
                    ],
                    "mesh3d": [
                      {
                        "type": "mesh3d",
                        "colorbar": {
                          "outlinewidth": 0,
                          "ticks": ""
                        }
                      }
                    ],
                    "scatter": [
                      {
                        "fillpattern": {
                          "fillmode": "overlay",
                          "size": 10,
                          "solidity": 0.2
                        },
                        "type": "scatter"
                      }
                    ],
                    "parcoords": [
                      {
                        "type": "parcoords",
                        "line": {
                          "colorbar": {
                            "outlinewidth": 0,
                            "ticks": ""
                          }
                        }
                      }
                    ],
                    "scatterpolargl": [
                      {
                        "type": "scatterpolargl",
                        "marker": {
                          "colorbar": {
                            "outlinewidth": 0,
                            "ticks": ""
                          }
                        }
                      }
                    ],
                    "bar": [
                      {
                        "error_x": {
                          "color": "#2a3f5f"
                        },
                        "error_y": {
                          "color": "#2a3f5f"
                        },
                        "marker": {
                          "line": {
                            "color": "#E5ECF6",
                            "width": 0.5
                          },
                          "pattern": {
                            "fillmode": "overlay",
                            "size": 10,
                            "solidity": 0.2
                          }
                        },
                        "type": "bar"
                      }
                    ],
                    "scattergeo": [
                      {
                        "type": "scattergeo",
                        "marker": {
                          "colorbar": {
                            "outlinewidth": 0,
                            "ticks": ""
                          }
                        }
                      }
                    ],
                    "scatterpolar": [
                      {
                        "type": "scatterpolar",
                        "marker": {
                          "colorbar": {
                            "outlinewidth": 0,
                            "ticks": ""
                          }
                        }
                      }
                    ],
                    "histogram": [
                      {
                        "marker": {
                          "pattern": {
                            "fillmode": "overlay",
                            "size": 10,
                            "solidity": 0.2
                          }
                        },
                        "type": "histogram"
                      }
                    ],
                    "scattergl": [
                      {
                        "type": "scattergl",
                        "marker": {
                          "colorbar": {
                            "outlinewidth": 0,
                            "ticks": ""
                          }
                        }
                      }
                    ],
                    "scatter3d": [
                      {
                        "type": "scatter3d",
                        "line": {
                          "colorbar": {
                            "outlinewidth": 0,
                            "ticks": ""
                          }
                        },
                        "marker": {
                          "colorbar": {
                            "outlinewidth": 0,
                            "ticks": ""
                          }
                        }
                      }
                    ],
                    "scattermapbox": [
                      {
                        "type": "scattermapbox",
                        "marker": {
                          "colorbar": {
                            "outlinewidth": 0,
                            "ticks": ""
                          }
                        }
                      }
                    ],
                    "scatterternary": [
                      {
                        "type": "scatterternary",
                        "marker": {
                          "colorbar": {
                            "outlinewidth": 0,
                            "ticks": ""
                          }
                        }
                      }
                    ],
                    "scattercarpet": [
                      {
                        "type": "scattercarpet",
                        "marker": {
                          "colorbar": {
                            "outlinewidth": 0,
                            "ticks": ""
                          }
                        }
                      }
                    ],
                    "carpet": [
                      {
                        "aaxis": {
                          "endlinecolor": "#2a3f5f",
                          "gridcolor": "white",
                          "linecolor": "white",
                          "minorgridcolor": "white",
                          "startlinecolor": "#2a3f5f"
                        },
                        "baxis": {
                          "endlinecolor": "#2a3f5f",
                          "gridcolor": "white",
                          "linecolor": "white",
                          "minorgridcolor": "white",
                          "startlinecolor": "#2a3f5f"
                        },
                        "type": "carpet"
                      }
                    ],
                    "table": [
                      {
                        "cells": {
                          "fill": {
                            "color": "#EBF0F8"
                          },
                          "line": {
                            "color": "white"
                          }
                        },
                        "header": {
                          "fill": {
                            "color": "#C8D4E3"
                          },
                          "line": {
                            "color": "white"
                          }
                        },
                        "type": "table"
                      }
                    ],
                    "barpolar": [
                      {
                        "marker": {
                          "line": {
                            "color": "#E5ECF6",
                            "width": 0.5
                          },
                          "pattern": {
                            "fillmode": "overlay",
                            "size": 10,
                            "solidity": 0.2
                          }
                        },
                        "type": "barpolar"
                      }
                    ],
                    "pie": [
                      {
                        "automargin": true,
                        "type": "pie"
                      }
                    ]
                  },
                  "layout": {
                    "autotypenumbers": "strict",
                    "colorway": [
                      "#636efa",
                      "#EF553B",
                      "#00cc96",
                      "#ab63fa",
                      "#FFA15A",
                      "#19d3f3",
                      "#FF6692",
                      "#B6E880",
                      "#FF97FF",
                      "#FECB52"
                    ],
                    "font": {
                      "color": "#2a3f5f"
                    },
                    "hovermode": "closest",
                    "hoverlabel": {
                      "align": "left"
                    },
                    "paper_bgcolor": "white",
                    "plot_bgcolor": "#E5ECF6",
                    "polar": {
                      "bgcolor": "#E5ECF6",
                      "angularaxis": {
                        "gridcolor": "white",
                        "linecolor": "white",
                        "ticks": ""
                      },
                      "radialaxis": {
                        "gridcolor": "white",
                        "linecolor": "white",
                        "ticks": ""
                      }
                    },
                    "ternary": {
                      "bgcolor": "#E5ECF6",
                      "aaxis": {
                        "gridcolor": "white",
                        "linecolor": "white",
                        "ticks": ""
                      },
                      "baxis": {
                        "gridcolor": "white",
                        "linecolor": "white",
                        "ticks": ""
                      },
                      "caxis": {
                        "gridcolor": "white",
                        "linecolor": "white",
                        "ticks": ""
                      }
                    },
                    "coloraxis": {
                      "colorbar": {
                        "outlinewidth": 0,
                        "ticks": ""
                      }
                    },
                    "colorscale": {
                      "sequential": [
                        [
                          0,
                          "#0d0887"
                        ],
                        [
                          0.1111111111111111,
                          "#46039f"
                        ],
                        [
                          0.2222222222222222,
                          "#7201a8"
                        ],
                        [
                          0.3333333333333333,
                          "#9c179e"
                        ],
                        [
                          0.4444444444444444,
                          "#bd3786"
                        ],
                        [
                          0.5555555555555556,
                          "#d8576b"
                        ],
                        [
                          0.6666666666666666,
                          "#ed7953"
                        ],
                        [
                          0.7777777777777778,
                          "#fb9f3a"
                        ],
                        [
                          0.8888888888888888,
                          "#fdca26"
                        ],
                        [
                          1,
                          "#f0f921"
                        ]
                      ],
                      "sequentialminus": [
                        [
                          0,
                          "#0d0887"
                        ],
                        [
                          0.1111111111111111,
                          "#46039f"
                        ],
                        [
                          0.2222222222222222,
                          "#7201a8"
                        ],
                        [
                          0.3333333333333333,
                          "#9c179e"
                        ],
                        [
                          0.4444444444444444,
                          "#bd3786"
                        ],
                        [
                          0.5555555555555556,
                          "#d8576b"
                        ],
                        [
                          0.6666666666666666,
                          "#ed7953"
                        ],
                        [
                          0.7777777777777778,
                          "#fb9f3a"
                        ],
                        [
                          0.8888888888888888,
                          "#fdca26"
                        ],
                        [
                          1,
                          "#f0f921"
                        ]
                      ],
                      "diverging": [
                        [
                          0,
                          "#8e0152"
                        ],
                        [
                          0.1,
                          "#c51b7d"
                        ],
                        [
                          0.2,
                          "#de77ae"
                        ],
                        [
                          0.3,
                          "#f1b6da"
                        ],
                        [
                          0.4,
                          "#fde0ef"
                        ],
                        [
                          0.5,
                          "#f7f7f7"
                        ],
                        [
                          0.6,
                          "#e6f5d0"
                        ],
                        [
                          0.7,
                          "#b8e186"
                        ],
                        [
                          0.8,
                          "#7fbc41"
                        ],
                        [
                          0.9,
                          "#4d9221"
                        ],
                        [
                          1,
                          "#276419"
                        ]
                      ]
                    },
                    "xaxis": {
                      "gridcolor": "white",
                      "linecolor": "white",
                      "ticks": "",
                      "title": {
                        "standoff": 15
                      },
                      "zerolinecolor": "white",
                      "automargin": true,
                      "zerolinewidth": 2
                    },
                    "yaxis": {
                      "gridcolor": "white",
                      "linecolor": "white",
                      "ticks": "",
                      "title": {
                        "standoff": 15
                      },
                      "zerolinecolor": "white",
                      "automargin": true,
                      "zerolinewidth": 2
                    },
                    "scene": {
                      "xaxis": {
                        "backgroundcolor": "#E5ECF6",
                        "gridcolor": "white",
                        "linecolor": "white",
                        "showbackground": true,
                        "ticks": "",
                        "zerolinecolor": "white",
                        "gridwidth": 2
                      },
                      "yaxis": {
                        "backgroundcolor": "#E5ECF6",
                        "gridcolor": "white",
                        "linecolor": "white",
                        "showbackground": true,
                        "ticks": "",
                        "zerolinecolor": "white",
                        "gridwidth": 2
                      },
                      "zaxis": {
                        "backgroundcolor": "#E5ECF6",
                        "gridcolor": "white",
                        "linecolor": "white",
                        "showbackground": true,
                        "ticks": "",
                        "zerolinecolor": "white",
                        "gridwidth": 2
                      }
                    },
                    "shapedefaults": {
                      "line": {
                        "color": "#2a3f5f"
                      }
                    },
                    "annotationdefaults": {
                      "arrowcolor": "#2a3f5f",
                      "arrowhead": 0,
                      "arrowwidth": 1
                    },
                    "geo": {
                      "bgcolor": "white",
                      "landcolor": "#E5ECF6",
                      "subunitcolor": "white",
                      "showland": true,
                      "showlakes": true,
                      "lakecolor": "white"
                    },
                    "title": {
                      "x": 0.05
                    },
                    "mapbox": {
                      "style": "light"
                    }
                  }
                }
              },
              "config": {
                "plotlyServerURL": "https://plot.ly"
              }
            },
            "text/html": "<div>                            <div id=\"cf28b545-7a5c-4043-98f0-cf00b538ca70\" class=\"plotly-graph-div\" style=\"height:525px; width:100%;\"></div>            <script type=\"text/javascript\">                require([\"plotly\"], function(Plotly) {                    window.PLOTLYENV=window.PLOTLYENV || {};                                    if (document.getElementById(\"cf28b545-7a5c-4043-98f0-cf00b538ca70\")) {                    Plotly.newPlot(                        \"cf28b545-7a5c-4043-98f0-cf00b538ca70\",                        [{\"hoverinfo\":\"text\",\"marker\":{\"autocolorscale\":true,\"cmin\":0,\"color\":[0,0,0,0,0,0,0,0,0,0,0,0,0,0,0,0,0,0,0,0,0,0,0,0,0,0,0,0,0,0,0,0,0,0,0,0,0,0,0,0,0,0,0,0,0,0,0,0,0,0,0,0,0,0,0,0,0,0,0,0,0,0,0,0,0,0,0,0,0,0,0,0,0,0,0,0,0,0,0,0],\"colorbar\":{\"title\":{\"text\":\"Score variance\"}},\"reversescale\":true,\"size\":20,\"symbol\":\"circle\"},\"mode\":\"markers\",\"showlegend\":false,\"text\":[\"Kamran Akmal  Peshawar Zalmi\",\"Babar Azam  Karachi Kings\",\"DR Smith  Islamabad United\",\"RR Rossouw  Quetta Gladiators\",\"KP Pietersen  Quetta Gladiators\",\"Ahmed Shehzad  Quetta Gladiators\",\"KC Sangakkara  Karachi Kings\",\"Shoaib Malik  Karachi Kings\",\"KA Pollard  Karachi Kings\",\"Sarfraz Ahmed  Quetta Gladiators\",\"Fakhar Zaman  Lahore Qalandars\",\"Shahid Afridi  Peshawar Zalmi\",\"DJ Malan  Peshawar Zalmi\",\"JJ Roy  Lahore Qalandars\",\"SR Watson  Islamabad United\",\"Umar Akmal  Lahore Qalandars\",\"CH Gayle  Karachi Kings\",\"Misbah-ul-Haq  Islamabad United\",\"Mohammad Hafeez  Peshawar Zalmi\",\"Asad Shafiq  Quetta Gladiators\",\"BJ Haddin  Islamabad United\",\"EJG Morgan  Peshawar Zalmi\",\"SW Billings  Islamabad United\",\"Mohammad Rizwan  Lahore Qalandars\",\"DJG Sammy  Peshawar Zalmi\",\"RS Bopara  Karachi Kings\",\"SP Narine  Lahore Qalandars\",\"Tamim Iqbal  Peshawar Zalmi\",\"BB McCullum  Lahore Qalandars\",\"Imad Wasim  Karachi Kings\",\"CS Delport  Lahore Qalandars\",\"MN Samuels  Peshawar Zalmi\",\"GD Elliott  Lahore Qalandars\",\"Sohail Tanvir  Lahore Qalandars\",\"Hussain Talat  Islamabad United\",\"Shadab Khan  Islamabad United\",\"Anwar Ali  Quetta Gladiators\",\"Shakib Al Hasan  Peshawar Zalmi\",\"Asif Ali  Islamabad United\",\"Rafatullah Mohmand  Islamabad United\",\"NLTC Perera  Quetta Gladiators\",\"Mahmudullah  Quetta Gladiators\",\"Sohaib Maqsood  Peshawar Zalmi\",\"Haris Sohail  Peshawar Zalmi\",\"Wahab Riaz  Peshawar Zalmi\",\"BM Duckett  Islamabad United\",\"Hasan Khan  Quetta Gladiators\",\"CJ Jordan  Peshawar Zalmi\",\"Aamer Yamin  Lahore Qalandars\",\"Amad Butt  Islamabad United\",\"SM Ervine  Quetta Gladiators\",\"Mohammad Amir  Karachi Kings\",\"Hasan Ali  Peshawar Zalmi\",\"Yasir Shah  Lahore Qalandars\",\"Mohammad Nawaz (3)  Quetta Gladiators\",\"Shahzaib Hasan  Karachi Kings\",\"Saad Nasim  Quetta Gladiators\",\"Sohail Khan  Karachi Kings\",\"Iftikhar Ahmed  Peshawar Zalmi\",\"LJ Wright  Quetta Gladiators\",\"DPMD Jayawardene  Karachi Kings\",\"RR Emrit  Quetta Gladiators\",\"Usama Mir  Karachi Kings\",\"Mohammad Irfan (4)  Lahore Qalandars\",\"Anamul Haque  Quetta Gladiators\",\"Umar Gul  Quetta Gladiators\",\"Bilawal Bhatti  Lahore Qalandars\",\"Mohammad Sami  Islamabad United\",\"TS Mills  Quetta Gladiators\",\"N Pooran  Islamabad United\",\"Ghulam Mudassar  Lahore Qalandars\",\"Sharjeel Khan  Islamabad United\",\"Imran Khalid  Islamabad United\",\"Junaid Khan  Peshawar Zalmi\",\"Khushdil Shah  Peshawar Zalmi\",\"MN van Wyk  Quetta Gladiators\",\"Zulfiqar Babar  Quetta Gladiators\",\"Usman Khan  Karachi Kings\",\"Rumman Raees  Islamabad United\",\"Mohammad Irfan  Islamabad United\"],\"x\":[32.09090909090909,29.1,30.444444444444443,31.875,34.42857142857143,26.444444444444443,21.5,20.2,22.333333333333332,20.333333333333332,22.125,22.125,29.166666666666668,34.6,19.0,20.5,17.77777777777778,19.75,17.0,24.5,15.444444444444445,22.666666666666668,26.6,18.571428571428573,13.333333333333334,11.9,16.571428571428573,18.8,13.285714285714286,10.375,20.5,16.2,10.571428571428571,11.333333333333334,33.5,11.0,11.4,13.5,11.5,15.333333333333334,13.333333333333334,12.333333333333334,7.0,10.333333333333334,6.2,15.0,6.5,6.5,12.5,8.333333333333334,24.0,6.0,4.6,11.5,5.0,9.5,6.0,4.0,5.0,12.0,10.0,6.0,2.5,1.0,3.0,2.0,1.0,0.5,0.5,1.0,1.0,1.0,1.0,1.0,1.0,1.0,0.5,0.0,0.0,0.0],\"y\":[128.83211678832117,109.81132075471699,110.93117408906883,121.42857142857143,148.76543209876544,127.95698924731182,114.36170212765957,120.23809523809524,162.09677419354838,128.8732394366197,136.15384615384616,163.88888888888889,129.62962962962962,149.13793103448276,132.5581395348837,124.24242424242425,108.84353741496598,108.21917808219177,96.83544303797468,106.52173913043478,118.80341880341881,101.49253731343283,134.34343434343435,120.37037037037037,127.65957446808511,94.44444444444444,170.58823529411765,106.81818181818181,116.25,129.6875,146.42857142857142,120.8955223880597,92.5,103.03030303030303,131.37254901960785,157.14285714285714,129.54545454545453,110.20408163265306,102.22222222222223,124.32432432432432,111.11111111111111,137.03703703703704,92.10526315789474,67.3913043478261,79.48717948717949,88.23529411764706,96.29629629629629,86.66666666666667,96.15384615384616,96.15384615384616,126.3157894736842,114.28571428571429,153.33333333333334,100.0,105.26315789473684,111.76470588235294,105.88235294117646,114.28571428571429,57.69230769230769,171.42857142857142,125.0,66.66666666666667,125.0,66.66666666666667,33.333333333333336,66.66666666666667,28.571428571428573,50.0,50.0,33.333333333333336,100.0,25.0,100.0,50.0,16.666666666666668,14.285714285714286,33.333333333333336,0.0,0.0,0.0],\"type\":\"scatter\"}],                        {\"paper_bgcolor\":\"white\",\"plot_bgcolor\":\"white\",\"title\":{\"text\":\"All batsman's performance - Average runs, Strike rate, Score variance\"},\"xaxis\":{\"showgrid\":false,\"title\":{\"text\":\"Average runs\"},\"zeroline\":false},\"yaxis\":{\"color\":\"black\",\"showgrid\":true,\"title\":{\"font\":{\"color\":\"black\"},\"text\":\"Strike rate\"},\"zeroline\":false},\"template\":{\"data\":{\"histogram2dcontour\":[{\"type\":\"histogram2dcontour\",\"colorbar\":{\"outlinewidth\":0,\"ticks\":\"\"},\"colorscale\":[[0.0,\"#0d0887\"],[0.1111111111111111,\"#46039f\"],[0.2222222222222222,\"#7201a8\"],[0.3333333333333333,\"#9c179e\"],[0.4444444444444444,\"#bd3786\"],[0.5555555555555556,\"#d8576b\"],[0.6666666666666666,\"#ed7953\"],[0.7777777777777778,\"#fb9f3a\"],[0.8888888888888888,\"#fdca26\"],[1.0,\"#f0f921\"]]}],\"choropleth\":[{\"type\":\"choropleth\",\"colorbar\":{\"outlinewidth\":0,\"ticks\":\"\"}}],\"histogram2d\":[{\"type\":\"histogram2d\",\"colorbar\":{\"outlinewidth\":0,\"ticks\":\"\"},\"colorscale\":[[0.0,\"#0d0887\"],[0.1111111111111111,\"#46039f\"],[0.2222222222222222,\"#7201a8\"],[0.3333333333333333,\"#9c179e\"],[0.4444444444444444,\"#bd3786\"],[0.5555555555555556,\"#d8576b\"],[0.6666666666666666,\"#ed7953\"],[0.7777777777777778,\"#fb9f3a\"],[0.8888888888888888,\"#fdca26\"],[1.0,\"#f0f921\"]]}],\"heatmap\":[{\"type\":\"heatmap\",\"colorbar\":{\"outlinewidth\":0,\"ticks\":\"\"},\"colorscale\":[[0.0,\"#0d0887\"],[0.1111111111111111,\"#46039f\"],[0.2222222222222222,\"#7201a8\"],[0.3333333333333333,\"#9c179e\"],[0.4444444444444444,\"#bd3786\"],[0.5555555555555556,\"#d8576b\"],[0.6666666666666666,\"#ed7953\"],[0.7777777777777778,\"#fb9f3a\"],[0.8888888888888888,\"#fdca26\"],[1.0,\"#f0f921\"]]}],\"heatmapgl\":[{\"type\":\"heatmapgl\",\"colorbar\":{\"outlinewidth\":0,\"ticks\":\"\"},\"colorscale\":[[0.0,\"#0d0887\"],[0.1111111111111111,\"#46039f\"],[0.2222222222222222,\"#7201a8\"],[0.3333333333333333,\"#9c179e\"],[0.4444444444444444,\"#bd3786\"],[0.5555555555555556,\"#d8576b\"],[0.6666666666666666,\"#ed7953\"],[0.7777777777777778,\"#fb9f3a\"],[0.8888888888888888,\"#fdca26\"],[1.0,\"#f0f921\"]]}],\"contourcarpet\":[{\"type\":\"contourcarpet\",\"colorbar\":{\"outlinewidth\":0,\"ticks\":\"\"}}],\"contour\":[{\"type\":\"contour\",\"colorbar\":{\"outlinewidth\":0,\"ticks\":\"\"},\"colorscale\":[[0.0,\"#0d0887\"],[0.1111111111111111,\"#46039f\"],[0.2222222222222222,\"#7201a8\"],[0.3333333333333333,\"#9c179e\"],[0.4444444444444444,\"#bd3786\"],[0.5555555555555556,\"#d8576b\"],[0.6666666666666666,\"#ed7953\"],[0.7777777777777778,\"#fb9f3a\"],[0.8888888888888888,\"#fdca26\"],[1.0,\"#f0f921\"]]}],\"surface\":[{\"type\":\"surface\",\"colorbar\":{\"outlinewidth\":0,\"ticks\":\"\"},\"colorscale\":[[0.0,\"#0d0887\"],[0.1111111111111111,\"#46039f\"],[0.2222222222222222,\"#7201a8\"],[0.3333333333333333,\"#9c179e\"],[0.4444444444444444,\"#bd3786\"],[0.5555555555555556,\"#d8576b\"],[0.6666666666666666,\"#ed7953\"],[0.7777777777777778,\"#fb9f3a\"],[0.8888888888888888,\"#fdca26\"],[1.0,\"#f0f921\"]]}],\"mesh3d\":[{\"type\":\"mesh3d\",\"colorbar\":{\"outlinewidth\":0,\"ticks\":\"\"}}],\"scatter\":[{\"fillpattern\":{\"fillmode\":\"overlay\",\"size\":10,\"solidity\":0.2},\"type\":\"scatter\"}],\"parcoords\":[{\"type\":\"parcoords\",\"line\":{\"colorbar\":{\"outlinewidth\":0,\"ticks\":\"\"}}}],\"scatterpolargl\":[{\"type\":\"scatterpolargl\",\"marker\":{\"colorbar\":{\"outlinewidth\":0,\"ticks\":\"\"}}}],\"bar\":[{\"error_x\":{\"color\":\"#2a3f5f\"},\"error_y\":{\"color\":\"#2a3f5f\"},\"marker\":{\"line\":{\"color\":\"#E5ECF6\",\"width\":0.5},\"pattern\":{\"fillmode\":\"overlay\",\"size\":10,\"solidity\":0.2}},\"type\":\"bar\"}],\"scattergeo\":[{\"type\":\"scattergeo\",\"marker\":{\"colorbar\":{\"outlinewidth\":0,\"ticks\":\"\"}}}],\"scatterpolar\":[{\"type\":\"scatterpolar\",\"marker\":{\"colorbar\":{\"outlinewidth\":0,\"ticks\":\"\"}}}],\"histogram\":[{\"marker\":{\"pattern\":{\"fillmode\":\"overlay\",\"size\":10,\"solidity\":0.2}},\"type\":\"histogram\"}],\"scattergl\":[{\"type\":\"scattergl\",\"marker\":{\"colorbar\":{\"outlinewidth\":0,\"ticks\":\"\"}}}],\"scatter3d\":[{\"type\":\"scatter3d\",\"line\":{\"colorbar\":{\"outlinewidth\":0,\"ticks\":\"\"}},\"marker\":{\"colorbar\":{\"outlinewidth\":0,\"ticks\":\"\"}}}],\"scattermapbox\":[{\"type\":\"scattermapbox\",\"marker\":{\"colorbar\":{\"outlinewidth\":0,\"ticks\":\"\"}}}],\"scatterternary\":[{\"type\":\"scatterternary\",\"marker\":{\"colorbar\":{\"outlinewidth\":0,\"ticks\":\"\"}}}],\"scattercarpet\":[{\"type\":\"scattercarpet\",\"marker\":{\"colorbar\":{\"outlinewidth\":0,\"ticks\":\"\"}}}],\"carpet\":[{\"aaxis\":{\"endlinecolor\":\"#2a3f5f\",\"gridcolor\":\"white\",\"linecolor\":\"white\",\"minorgridcolor\":\"white\",\"startlinecolor\":\"#2a3f5f\"},\"baxis\":{\"endlinecolor\":\"#2a3f5f\",\"gridcolor\":\"white\",\"linecolor\":\"white\",\"minorgridcolor\":\"white\",\"startlinecolor\":\"#2a3f5f\"},\"type\":\"carpet\"}],\"table\":[{\"cells\":{\"fill\":{\"color\":\"#EBF0F8\"},\"line\":{\"color\":\"white\"}},\"header\":{\"fill\":{\"color\":\"#C8D4E3\"},\"line\":{\"color\":\"white\"}},\"type\":\"table\"}],\"barpolar\":[{\"marker\":{\"line\":{\"color\":\"#E5ECF6\",\"width\":0.5},\"pattern\":{\"fillmode\":\"overlay\",\"size\":10,\"solidity\":0.2}},\"type\":\"barpolar\"}],\"pie\":[{\"automargin\":true,\"type\":\"pie\"}]},\"layout\":{\"autotypenumbers\":\"strict\",\"colorway\":[\"#636efa\",\"#EF553B\",\"#00cc96\",\"#ab63fa\",\"#FFA15A\",\"#19d3f3\",\"#FF6692\",\"#B6E880\",\"#FF97FF\",\"#FECB52\"],\"font\":{\"color\":\"#2a3f5f\"},\"hovermode\":\"closest\",\"hoverlabel\":{\"align\":\"left\"},\"paper_bgcolor\":\"white\",\"plot_bgcolor\":\"#E5ECF6\",\"polar\":{\"bgcolor\":\"#E5ECF6\",\"angularaxis\":{\"gridcolor\":\"white\",\"linecolor\":\"white\",\"ticks\":\"\"},\"radialaxis\":{\"gridcolor\":\"white\",\"linecolor\":\"white\",\"ticks\":\"\"}},\"ternary\":{\"bgcolor\":\"#E5ECF6\",\"aaxis\":{\"gridcolor\":\"white\",\"linecolor\":\"white\",\"ticks\":\"\"},\"baxis\":{\"gridcolor\":\"white\",\"linecolor\":\"white\",\"ticks\":\"\"},\"caxis\":{\"gridcolor\":\"white\",\"linecolor\":\"white\",\"ticks\":\"\"}},\"coloraxis\":{\"colorbar\":{\"outlinewidth\":0,\"ticks\":\"\"}},\"colorscale\":{\"sequential\":[[0.0,\"#0d0887\"],[0.1111111111111111,\"#46039f\"],[0.2222222222222222,\"#7201a8\"],[0.3333333333333333,\"#9c179e\"],[0.4444444444444444,\"#bd3786\"],[0.5555555555555556,\"#d8576b\"],[0.6666666666666666,\"#ed7953\"],[0.7777777777777778,\"#fb9f3a\"],[0.8888888888888888,\"#fdca26\"],[1.0,\"#f0f921\"]],\"sequentialminus\":[[0.0,\"#0d0887\"],[0.1111111111111111,\"#46039f\"],[0.2222222222222222,\"#7201a8\"],[0.3333333333333333,\"#9c179e\"],[0.4444444444444444,\"#bd3786\"],[0.5555555555555556,\"#d8576b\"],[0.6666666666666666,\"#ed7953\"],[0.7777777777777778,\"#fb9f3a\"],[0.8888888888888888,\"#fdca26\"],[1.0,\"#f0f921\"]],\"diverging\":[[0,\"#8e0152\"],[0.1,\"#c51b7d\"],[0.2,\"#de77ae\"],[0.3,\"#f1b6da\"],[0.4,\"#fde0ef\"],[0.5,\"#f7f7f7\"],[0.6,\"#e6f5d0\"],[0.7,\"#b8e186\"],[0.8,\"#7fbc41\"],[0.9,\"#4d9221\"],[1,\"#276419\"]]},\"xaxis\":{\"gridcolor\":\"white\",\"linecolor\":\"white\",\"ticks\":\"\",\"title\":{\"standoff\":15},\"zerolinecolor\":\"white\",\"automargin\":true,\"zerolinewidth\":2},\"yaxis\":{\"gridcolor\":\"white\",\"linecolor\":\"white\",\"ticks\":\"\",\"title\":{\"standoff\":15},\"zerolinecolor\":\"white\",\"automargin\":true,\"zerolinewidth\":2},\"scene\":{\"xaxis\":{\"backgroundcolor\":\"#E5ECF6\",\"gridcolor\":\"white\",\"linecolor\":\"white\",\"showbackground\":true,\"ticks\":\"\",\"zerolinecolor\":\"white\",\"gridwidth\":2},\"yaxis\":{\"backgroundcolor\":\"#E5ECF6\",\"gridcolor\":\"white\",\"linecolor\":\"white\",\"showbackground\":true,\"ticks\":\"\",\"zerolinecolor\":\"white\",\"gridwidth\":2},\"zaxis\":{\"backgroundcolor\":\"#E5ECF6\",\"gridcolor\":\"white\",\"linecolor\":\"white\",\"showbackground\":true,\"ticks\":\"\",\"zerolinecolor\":\"white\",\"gridwidth\":2}},\"shapedefaults\":{\"line\":{\"color\":\"#2a3f5f\"}},\"annotationdefaults\":{\"arrowcolor\":\"#2a3f5f\",\"arrowhead\":0,\"arrowwidth\":1},\"geo\":{\"bgcolor\":\"white\",\"landcolor\":\"#E5ECF6\",\"subunitcolor\":\"white\",\"showland\":true,\"showlakes\":true,\"lakecolor\":\"white\"},\"title\":{\"x\":0.05},\"mapbox\":{\"style\":\"light\"}}}},                        {\"responsive\": true}                    ).then(function(){\n                            \nvar gd = document.getElementById('cf28b545-7a5c-4043-98f0-cf00b538ca70');\nvar x = new MutationObserver(function (mutations, observer) {{\n        var display = window.getComputedStyle(gd).display;\n        if (!display || display === 'none') {{\n            console.log([gd, 'removed!']);\n            Plotly.purge(gd);\n            observer.disconnect();\n        }}\n}});\n\n// Listen for the removal of the full notebook cells\nvar notebookContainer = gd.closest('#notebook-container');\nif (notebookContainer) {{\n    x.observe(notebookContainer, {childList: true});\n}}\n\n// Listen for the clearing of the current output cell\nvar outputEl = gd.closest('.output');\nif (outputEl) {{\n    x.observe(outputEl, {childList: true});\n}}\n\n                        })                };                });            </script>        </div>"
          },
          "metadata": {}
        },
        {
          "output_type": "display_data",
          "data": {
            "application/vnd.plotly.v1+json": {
              "data": [
                {
                  "hovertemplate": "color=Lahore Qalandars<br>x=%{x}<br>y=%{y}<extra></extra>",
                  "legendgroup": "Lahore Qalandars",
                  "marker": {
                    "color": "#636efa",
                    "symbol": "circle"
                  },
                  "mode": "markers",
                  "name": "Lahore Qalandars",
                  "orientation": "v",
                  "showlegend": true,
                  "x": [
                    7.166666666666666,
                    6.625,
                    9.583333333333334,
                    9.4,
                    6.5,
                    8.666666666666666,
                    6.25
                  ],
                  "xaxis": "x",
                  "y": [
                    5,
                    1,
                    5,
                    7,
                    11,
                    14,
                    10
                  ],
                  "yaxis": "y",
                  "type": "scatter"
                },
                {
                  "hovertemplate": "color=Quetta Gladiators<br>x=%{x}<br>y=%{y}<extra></extra>",
                  "legendgroup": "Quetta Gladiators",
                  "marker": {
                    "color": "#EF553B",
                    "symbol": "circle"
                  },
                  "mode": "markers",
                  "name": "Quetta Gladiators",
                  "orientation": "v",
                  "showlegend": true,
                  "x": [
                    9.4,
                    7.03030303030303,
                    7.466666666666667,
                    8.090909090909092,
                    8.722222222222221,
                    7.35,
                    6.625
                  ],
                  "xaxis": "x",
                  "y": [
                    6,
                    9,
                    7,
                    13,
                    6,
                    9,
                    8
                  ],
                  "yaxis": "y",
                  "type": "scatter"
                },
                {
                  "hovertemplate": "color=Peshawar Zalmi<br>x=%{x}<br>y=%{y}<extra></extra>",
                  "legendgroup": "Peshawar Zalmi",
                  "marker": {
                    "color": "#00cc96",
                    "symbol": "circle"
                  },
                  "mode": "markers",
                  "name": "Peshawar Zalmi",
                  "orientation": "v",
                  "showlegend": true,
                  "x": [
                    6.8,
                    10.5,
                    6.972972972972973,
                    12.625,
                    8.764705882352942,
                    6.6000000000000005,
                    7,
                    6.583333333333333,
                    6.363636363636363
                  ],
                  "xaxis": "x",
                  "y": [
                    7,
                    2,
                    13,
                    3,
                    8,
                    6,
                    2,
                    5,
                    16
                  ],
                  "yaxis": "y",
                  "type": "scatter"
                },
                {
                  "hovertemplate": "color=Karachi Kings<br>x=%{x}<br>y=%{y}<extra></extra>",
                  "legendgroup": "Karachi Kings",
                  "marker": {
                    "color": "#ab63fa",
                    "symbol": "circle"
                  },
                  "mode": "markers",
                  "name": "Karachi Kings",
                  "orientation": "v",
                  "showlegend": true,
                  "x": [
                    6.689655172413794,
                    7.648648648648649,
                    10.11111111111111,
                    7.454545454545455,
                    7.65625,
                    8.214285714285715,
                    7.653846153846154
                  ],
                  "xaxis": "x",
                  "y": [
                    8,
                    11,
                    0,
                    3,
                    16,
                    12,
                    9
                  ],
                  "yaxis": "y",
                  "type": "scatter"
                },
                {
                  "hovertemplate": "color=Islamabad United<br>x=%{x}<br>y=%{y}<extra></extra>",
                  "legendgroup": "Islamabad United",
                  "marker": {
                    "color": "#FFA15A",
                    "symbol": "circle"
                  },
                  "mode": "markers",
                  "name": "Islamabad United",
                  "orientation": "v",
                  "showlegend": true,
                  "x": [
                    7.533333333333333,
                    6.757575757575758,
                    5.857142857142858,
                    9.130434782608697,
                    9.666666666666668,
                    6.923076923076923
                  ],
                  "xaxis": "x",
                  "y": [
                    8,
                    13,
                    13,
                    12,
                    3,
                    9
                  ],
                  "yaxis": "y",
                  "type": "scatter"
                }
              ],
              "layout": {
                "template": {
                  "data": {
                    "histogram2dcontour": [
                      {
                        "type": "histogram2dcontour",
                        "colorbar": {
                          "outlinewidth": 0,
                          "ticks": ""
                        },
                        "colorscale": [
                          [
                            0,
                            "#0d0887"
                          ],
                          [
                            0.1111111111111111,
                            "#46039f"
                          ],
                          [
                            0.2222222222222222,
                            "#7201a8"
                          ],
                          [
                            0.3333333333333333,
                            "#9c179e"
                          ],
                          [
                            0.4444444444444444,
                            "#bd3786"
                          ],
                          [
                            0.5555555555555556,
                            "#d8576b"
                          ],
                          [
                            0.6666666666666666,
                            "#ed7953"
                          ],
                          [
                            0.7777777777777778,
                            "#fb9f3a"
                          ],
                          [
                            0.8888888888888888,
                            "#fdca26"
                          ],
                          [
                            1,
                            "#f0f921"
                          ]
                        ]
                      }
                    ],
                    "choropleth": [
                      {
                        "type": "choropleth",
                        "colorbar": {
                          "outlinewidth": 0,
                          "ticks": ""
                        }
                      }
                    ],
                    "histogram2d": [
                      {
                        "type": "histogram2d",
                        "colorbar": {
                          "outlinewidth": 0,
                          "ticks": ""
                        },
                        "colorscale": [
                          [
                            0,
                            "#0d0887"
                          ],
                          [
                            0.1111111111111111,
                            "#46039f"
                          ],
                          [
                            0.2222222222222222,
                            "#7201a8"
                          ],
                          [
                            0.3333333333333333,
                            "#9c179e"
                          ],
                          [
                            0.4444444444444444,
                            "#bd3786"
                          ],
                          [
                            0.5555555555555556,
                            "#d8576b"
                          ],
                          [
                            0.6666666666666666,
                            "#ed7953"
                          ],
                          [
                            0.7777777777777778,
                            "#fb9f3a"
                          ],
                          [
                            0.8888888888888888,
                            "#fdca26"
                          ],
                          [
                            1,
                            "#f0f921"
                          ]
                        ]
                      }
                    ],
                    "heatmap": [
                      {
                        "type": "heatmap",
                        "colorbar": {
                          "outlinewidth": 0,
                          "ticks": ""
                        },
                        "colorscale": [
                          [
                            0,
                            "#0d0887"
                          ],
                          [
                            0.1111111111111111,
                            "#46039f"
                          ],
                          [
                            0.2222222222222222,
                            "#7201a8"
                          ],
                          [
                            0.3333333333333333,
                            "#9c179e"
                          ],
                          [
                            0.4444444444444444,
                            "#bd3786"
                          ],
                          [
                            0.5555555555555556,
                            "#d8576b"
                          ],
                          [
                            0.6666666666666666,
                            "#ed7953"
                          ],
                          [
                            0.7777777777777778,
                            "#fb9f3a"
                          ],
                          [
                            0.8888888888888888,
                            "#fdca26"
                          ],
                          [
                            1,
                            "#f0f921"
                          ]
                        ]
                      }
                    ],
                    "heatmapgl": [
                      {
                        "type": "heatmapgl",
                        "colorbar": {
                          "outlinewidth": 0,
                          "ticks": ""
                        },
                        "colorscale": [
                          [
                            0,
                            "#0d0887"
                          ],
                          [
                            0.1111111111111111,
                            "#46039f"
                          ],
                          [
                            0.2222222222222222,
                            "#7201a8"
                          ],
                          [
                            0.3333333333333333,
                            "#9c179e"
                          ],
                          [
                            0.4444444444444444,
                            "#bd3786"
                          ],
                          [
                            0.5555555555555556,
                            "#d8576b"
                          ],
                          [
                            0.6666666666666666,
                            "#ed7953"
                          ],
                          [
                            0.7777777777777778,
                            "#fb9f3a"
                          ],
                          [
                            0.8888888888888888,
                            "#fdca26"
                          ],
                          [
                            1,
                            "#f0f921"
                          ]
                        ]
                      }
                    ],
                    "contourcarpet": [
                      {
                        "type": "contourcarpet",
                        "colorbar": {
                          "outlinewidth": 0,
                          "ticks": ""
                        }
                      }
                    ],
                    "contour": [
                      {
                        "type": "contour",
                        "colorbar": {
                          "outlinewidth": 0,
                          "ticks": ""
                        },
                        "colorscale": [
                          [
                            0,
                            "#0d0887"
                          ],
                          [
                            0.1111111111111111,
                            "#46039f"
                          ],
                          [
                            0.2222222222222222,
                            "#7201a8"
                          ],
                          [
                            0.3333333333333333,
                            "#9c179e"
                          ],
                          [
                            0.4444444444444444,
                            "#bd3786"
                          ],
                          [
                            0.5555555555555556,
                            "#d8576b"
                          ],
                          [
                            0.6666666666666666,
                            "#ed7953"
                          ],
                          [
                            0.7777777777777778,
                            "#fb9f3a"
                          ],
                          [
                            0.8888888888888888,
                            "#fdca26"
                          ],
                          [
                            1,
                            "#f0f921"
                          ]
                        ]
                      }
                    ],
                    "surface": [
                      {
                        "type": "surface",
                        "colorbar": {
                          "outlinewidth": 0,
                          "ticks": ""
                        },
                        "colorscale": [
                          [
                            0,
                            "#0d0887"
                          ],
                          [
                            0.1111111111111111,
                            "#46039f"
                          ],
                          [
                            0.2222222222222222,
                            "#7201a8"
                          ],
                          [
                            0.3333333333333333,
                            "#9c179e"
                          ],
                          [
                            0.4444444444444444,
                            "#bd3786"
                          ],
                          [
                            0.5555555555555556,
                            "#d8576b"
                          ],
                          [
                            0.6666666666666666,
                            "#ed7953"
                          ],
                          [
                            0.7777777777777778,
                            "#fb9f3a"
                          ],
                          [
                            0.8888888888888888,
                            "#fdca26"
                          ],
                          [
                            1,
                            "#f0f921"
                          ]
                        ]
                      }
                    ],
                    "mesh3d": [
                      {
                        "type": "mesh3d",
                        "colorbar": {
                          "outlinewidth": 0,
                          "ticks": ""
                        }
                      }
                    ],
                    "scatter": [
                      {
                        "fillpattern": {
                          "fillmode": "overlay",
                          "size": 10,
                          "solidity": 0.2
                        },
                        "type": "scatter"
                      }
                    ],
                    "parcoords": [
                      {
                        "type": "parcoords",
                        "line": {
                          "colorbar": {
                            "outlinewidth": 0,
                            "ticks": ""
                          }
                        }
                      }
                    ],
                    "scatterpolargl": [
                      {
                        "type": "scatterpolargl",
                        "marker": {
                          "colorbar": {
                            "outlinewidth": 0,
                            "ticks": ""
                          }
                        }
                      }
                    ],
                    "bar": [
                      {
                        "error_x": {
                          "color": "#2a3f5f"
                        },
                        "error_y": {
                          "color": "#2a3f5f"
                        },
                        "marker": {
                          "line": {
                            "color": "#E5ECF6",
                            "width": 0.5
                          },
                          "pattern": {
                            "fillmode": "overlay",
                            "size": 10,
                            "solidity": 0.2
                          }
                        },
                        "type": "bar"
                      }
                    ],
                    "scattergeo": [
                      {
                        "type": "scattergeo",
                        "marker": {
                          "colorbar": {
                            "outlinewidth": 0,
                            "ticks": ""
                          }
                        }
                      }
                    ],
                    "scatterpolar": [
                      {
                        "type": "scatterpolar",
                        "marker": {
                          "colorbar": {
                            "outlinewidth": 0,
                            "ticks": ""
                          }
                        }
                      }
                    ],
                    "histogram": [
                      {
                        "marker": {
                          "pattern": {
                            "fillmode": "overlay",
                            "size": 10,
                            "solidity": 0.2
                          }
                        },
                        "type": "histogram"
                      }
                    ],
                    "scattergl": [
                      {
                        "type": "scattergl",
                        "marker": {
                          "colorbar": {
                            "outlinewidth": 0,
                            "ticks": ""
                          }
                        }
                      }
                    ],
                    "scatter3d": [
                      {
                        "type": "scatter3d",
                        "line": {
                          "colorbar": {
                            "outlinewidth": 0,
                            "ticks": ""
                          }
                        },
                        "marker": {
                          "colorbar": {
                            "outlinewidth": 0,
                            "ticks": ""
                          }
                        }
                      }
                    ],
                    "scattermapbox": [
                      {
                        "type": "scattermapbox",
                        "marker": {
                          "colorbar": {
                            "outlinewidth": 0,
                            "ticks": ""
                          }
                        }
                      }
                    ],
                    "scatterternary": [
                      {
                        "type": "scatterternary",
                        "marker": {
                          "colorbar": {
                            "outlinewidth": 0,
                            "ticks": ""
                          }
                        }
                      }
                    ],
                    "scattercarpet": [
                      {
                        "type": "scattercarpet",
                        "marker": {
                          "colorbar": {
                            "outlinewidth": 0,
                            "ticks": ""
                          }
                        }
                      }
                    ],
                    "carpet": [
                      {
                        "aaxis": {
                          "endlinecolor": "#2a3f5f",
                          "gridcolor": "white",
                          "linecolor": "white",
                          "minorgridcolor": "white",
                          "startlinecolor": "#2a3f5f"
                        },
                        "baxis": {
                          "endlinecolor": "#2a3f5f",
                          "gridcolor": "white",
                          "linecolor": "white",
                          "minorgridcolor": "white",
                          "startlinecolor": "#2a3f5f"
                        },
                        "type": "carpet"
                      }
                    ],
                    "table": [
                      {
                        "cells": {
                          "fill": {
                            "color": "#EBF0F8"
                          },
                          "line": {
                            "color": "white"
                          }
                        },
                        "header": {
                          "fill": {
                            "color": "#C8D4E3"
                          },
                          "line": {
                            "color": "white"
                          }
                        },
                        "type": "table"
                      }
                    ],
                    "barpolar": [
                      {
                        "marker": {
                          "line": {
                            "color": "#E5ECF6",
                            "width": 0.5
                          },
                          "pattern": {
                            "fillmode": "overlay",
                            "size": 10,
                            "solidity": 0.2
                          }
                        },
                        "type": "barpolar"
                      }
                    ],
                    "pie": [
                      {
                        "automargin": true,
                        "type": "pie"
                      }
                    ]
                  },
                  "layout": {
                    "autotypenumbers": "strict",
                    "colorway": [
                      "#636efa",
                      "#EF553B",
                      "#00cc96",
                      "#ab63fa",
                      "#FFA15A",
                      "#19d3f3",
                      "#FF6692",
                      "#B6E880",
                      "#FF97FF",
                      "#FECB52"
                    ],
                    "font": {
                      "color": "#2a3f5f"
                    },
                    "hovermode": "closest",
                    "hoverlabel": {
                      "align": "left"
                    },
                    "paper_bgcolor": "white",
                    "plot_bgcolor": "#E5ECF6",
                    "polar": {
                      "bgcolor": "#E5ECF6",
                      "angularaxis": {
                        "gridcolor": "white",
                        "linecolor": "white",
                        "ticks": ""
                      },
                      "radialaxis": {
                        "gridcolor": "white",
                        "linecolor": "white",
                        "ticks": ""
                      }
                    },
                    "ternary": {
                      "bgcolor": "#E5ECF6",
                      "aaxis": {
                        "gridcolor": "white",
                        "linecolor": "white",
                        "ticks": ""
                      },
                      "baxis": {
                        "gridcolor": "white",
                        "linecolor": "white",
                        "ticks": ""
                      },
                      "caxis": {
                        "gridcolor": "white",
                        "linecolor": "white",
                        "ticks": ""
                      }
                    },
                    "coloraxis": {
                      "colorbar": {
                        "outlinewidth": 0,
                        "ticks": ""
                      }
                    },
                    "colorscale": {
                      "sequential": [
                        [
                          0,
                          "#0d0887"
                        ],
                        [
                          0.1111111111111111,
                          "#46039f"
                        ],
                        [
                          0.2222222222222222,
                          "#7201a8"
                        ],
                        [
                          0.3333333333333333,
                          "#9c179e"
                        ],
                        [
                          0.4444444444444444,
                          "#bd3786"
                        ],
                        [
                          0.5555555555555556,
                          "#d8576b"
                        ],
                        [
                          0.6666666666666666,
                          "#ed7953"
                        ],
                        [
                          0.7777777777777778,
                          "#fb9f3a"
                        ],
                        [
                          0.8888888888888888,
                          "#fdca26"
                        ],
                        [
                          1,
                          "#f0f921"
                        ]
                      ],
                      "sequentialminus": [
                        [
                          0,
                          "#0d0887"
                        ],
                        [
                          0.1111111111111111,
                          "#46039f"
                        ],
                        [
                          0.2222222222222222,
                          "#7201a8"
                        ],
                        [
                          0.3333333333333333,
                          "#9c179e"
                        ],
                        [
                          0.4444444444444444,
                          "#bd3786"
                        ],
                        [
                          0.5555555555555556,
                          "#d8576b"
                        ],
                        [
                          0.6666666666666666,
                          "#ed7953"
                        ],
                        [
                          0.7777777777777778,
                          "#fb9f3a"
                        ],
                        [
                          0.8888888888888888,
                          "#fdca26"
                        ],
                        [
                          1,
                          "#f0f921"
                        ]
                      ],
                      "diverging": [
                        [
                          0,
                          "#8e0152"
                        ],
                        [
                          0.1,
                          "#c51b7d"
                        ],
                        [
                          0.2,
                          "#de77ae"
                        ],
                        [
                          0.3,
                          "#f1b6da"
                        ],
                        [
                          0.4,
                          "#fde0ef"
                        ],
                        [
                          0.5,
                          "#f7f7f7"
                        ],
                        [
                          0.6,
                          "#e6f5d0"
                        ],
                        [
                          0.7,
                          "#b8e186"
                        ],
                        [
                          0.8,
                          "#7fbc41"
                        ],
                        [
                          0.9,
                          "#4d9221"
                        ],
                        [
                          1,
                          "#276419"
                        ]
                      ]
                    },
                    "xaxis": {
                      "gridcolor": "white",
                      "linecolor": "white",
                      "ticks": "",
                      "title": {
                        "standoff": 15
                      },
                      "zerolinecolor": "white",
                      "automargin": true,
                      "zerolinewidth": 2
                    },
                    "yaxis": {
                      "gridcolor": "white",
                      "linecolor": "white",
                      "ticks": "",
                      "title": {
                        "standoff": 15
                      },
                      "zerolinecolor": "white",
                      "automargin": true,
                      "zerolinewidth": 2
                    },
                    "scene": {
                      "xaxis": {
                        "backgroundcolor": "#E5ECF6",
                        "gridcolor": "white",
                        "linecolor": "white",
                        "showbackground": true,
                        "ticks": "",
                        "zerolinecolor": "white",
                        "gridwidth": 2
                      },
                      "yaxis": {
                        "backgroundcolor": "#E5ECF6",
                        "gridcolor": "white",
                        "linecolor": "white",
                        "showbackground": true,
                        "ticks": "",
                        "zerolinecolor": "white",
                        "gridwidth": 2
                      },
                      "zaxis": {
                        "backgroundcolor": "#E5ECF6",
                        "gridcolor": "white",
                        "linecolor": "white",
                        "showbackground": true,
                        "ticks": "",
                        "zerolinecolor": "white",
                        "gridwidth": 2
                      }
                    },
                    "shapedefaults": {
                      "line": {
                        "color": "#2a3f5f"
                      }
                    },
                    "annotationdefaults": {
                      "arrowcolor": "#2a3f5f",
                      "arrowhead": 0,
                      "arrowwidth": 1
                    },
                    "geo": {
                      "bgcolor": "white",
                      "landcolor": "#E5ECF6",
                      "subunitcolor": "white",
                      "showland": true,
                      "showlakes": true,
                      "lakecolor": "white"
                    },
                    "title": {
                      "x": 0.05
                    },
                    "mapbox": {
                      "style": "light"
                    }
                  }
                },
                "xaxis": {
                  "anchor": "y",
                  "domain": [
                    0,
                    1
                  ],
                  "title": {
                    "text": "x"
                  }
                },
                "yaxis": {
                  "anchor": "x",
                  "domain": [
                    0,
                    1
                  ],
                  "title": {
                    "text": "y"
                  }
                },
                "legend": {
                  "title": {
                    "text": "color"
                  },
                  "tracegroupgap": 0
                },
                "margin": {
                  "t": 60
                },
                "shapes": [
                  {
                    "line": {
                      "color": "red",
                      "width": 1
                    },
                    "type": "line",
                    "x0": 0,
                    "x1": 1,
                    "xref": "x domain",
                    "y0": 8.055555555555555,
                    "y1": 8.055555555555555,
                    "yref": "y"
                  },
                  {
                    "line": {
                      "color": "green",
                      "width": 1
                    },
                    "type": "line",
                    "x0": 7.843971911231067,
                    "x1": 7.843971911231067,
                    "xref": "x",
                    "y0": 0,
                    "y1": 1,
                    "yref": "y domain"
                  }
                ]
              },
              "config": {
                "plotlyServerURL": "https://plot.ly"
              }
            },
            "text/html": "<div>                            <div id=\"6afe6950-45fb-4de4-81ed-ccdd208157de\" class=\"plotly-graph-div\" style=\"height:525px; width:100%;\"></div>            <script type=\"text/javascript\">                require([\"plotly\"], function(Plotly) {                    window.PLOTLYENV=window.PLOTLYENV || {};                                    if (document.getElementById(\"6afe6950-45fb-4de4-81ed-ccdd208157de\")) {                    Plotly.newPlot(                        \"6afe6950-45fb-4de4-81ed-ccdd208157de\",                        [{\"hovertemplate\":\"color=Lahore Qalandars<br>x=%{x}<br>y=%{y}<extra></extra>\",\"legendgroup\":\"Lahore Qalandars\",\"marker\":{\"color\":\"#636efa\",\"symbol\":\"circle\"},\"mode\":\"markers\",\"name\":\"Lahore Qalandars\",\"orientation\":\"v\",\"showlegend\":true,\"x\":[7.166666666666666,6.625,9.583333333333334,9.4,6.5,8.666666666666666,6.25],\"xaxis\":\"x\",\"y\":[5,1,5,7,11,14,10],\"yaxis\":\"y\",\"type\":\"scatter\"},{\"hovertemplate\":\"color=Quetta Gladiators<br>x=%{x}<br>y=%{y}<extra></extra>\",\"legendgroup\":\"Quetta Gladiators\",\"marker\":{\"color\":\"#EF553B\",\"symbol\":\"circle\"},\"mode\":\"markers\",\"name\":\"Quetta Gladiators\",\"orientation\":\"v\",\"showlegend\":true,\"x\":[9.4,7.03030303030303,7.466666666666667,8.090909090909092,8.722222222222221,7.35,6.625],\"xaxis\":\"x\",\"y\":[6,9,7,13,6,9,8],\"yaxis\":\"y\",\"type\":\"scatter\"},{\"hovertemplate\":\"color=Peshawar Zalmi<br>x=%{x}<br>y=%{y}<extra></extra>\",\"legendgroup\":\"Peshawar Zalmi\",\"marker\":{\"color\":\"#00cc96\",\"symbol\":\"circle\"},\"mode\":\"markers\",\"name\":\"Peshawar Zalmi\",\"orientation\":\"v\",\"showlegend\":true,\"x\":[6.8,10.5,6.972972972972973,12.625,8.764705882352942,6.6000000000000005,7.0,6.583333333333333,6.363636363636363],\"xaxis\":\"x\",\"y\":[7,2,13,3,8,6,2,5,16],\"yaxis\":\"y\",\"type\":\"scatter\"},{\"hovertemplate\":\"color=Karachi Kings<br>x=%{x}<br>y=%{y}<extra></extra>\",\"legendgroup\":\"Karachi Kings\",\"marker\":{\"color\":\"#ab63fa\",\"symbol\":\"circle\"},\"mode\":\"markers\",\"name\":\"Karachi Kings\",\"orientation\":\"v\",\"showlegend\":true,\"x\":[6.689655172413794,7.648648648648649,10.11111111111111,7.454545454545455,7.65625,8.214285714285715,7.653846153846154],\"xaxis\":\"x\",\"y\":[8,11,0,3,16,12,9],\"yaxis\":\"y\",\"type\":\"scatter\"},{\"hovertemplate\":\"color=Islamabad United<br>x=%{x}<br>y=%{y}<extra></extra>\",\"legendgroup\":\"Islamabad United\",\"marker\":{\"color\":\"#FFA15A\",\"symbol\":\"circle\"},\"mode\":\"markers\",\"name\":\"Islamabad United\",\"orientation\":\"v\",\"showlegend\":true,\"x\":[7.533333333333333,6.757575757575758,5.857142857142858,9.130434782608697,9.666666666666668,6.923076923076923],\"xaxis\":\"x\",\"y\":[8,13,13,12,3,9],\"yaxis\":\"y\",\"type\":\"scatter\"}],                        {\"template\":{\"data\":{\"histogram2dcontour\":[{\"type\":\"histogram2dcontour\",\"colorbar\":{\"outlinewidth\":0,\"ticks\":\"\"},\"colorscale\":[[0.0,\"#0d0887\"],[0.1111111111111111,\"#46039f\"],[0.2222222222222222,\"#7201a8\"],[0.3333333333333333,\"#9c179e\"],[0.4444444444444444,\"#bd3786\"],[0.5555555555555556,\"#d8576b\"],[0.6666666666666666,\"#ed7953\"],[0.7777777777777778,\"#fb9f3a\"],[0.8888888888888888,\"#fdca26\"],[1.0,\"#f0f921\"]]}],\"choropleth\":[{\"type\":\"choropleth\",\"colorbar\":{\"outlinewidth\":0,\"ticks\":\"\"}}],\"histogram2d\":[{\"type\":\"histogram2d\",\"colorbar\":{\"outlinewidth\":0,\"ticks\":\"\"},\"colorscale\":[[0.0,\"#0d0887\"],[0.1111111111111111,\"#46039f\"],[0.2222222222222222,\"#7201a8\"],[0.3333333333333333,\"#9c179e\"],[0.4444444444444444,\"#bd3786\"],[0.5555555555555556,\"#d8576b\"],[0.6666666666666666,\"#ed7953\"],[0.7777777777777778,\"#fb9f3a\"],[0.8888888888888888,\"#fdca26\"],[1.0,\"#f0f921\"]]}],\"heatmap\":[{\"type\":\"heatmap\",\"colorbar\":{\"outlinewidth\":0,\"ticks\":\"\"},\"colorscale\":[[0.0,\"#0d0887\"],[0.1111111111111111,\"#46039f\"],[0.2222222222222222,\"#7201a8\"],[0.3333333333333333,\"#9c179e\"],[0.4444444444444444,\"#bd3786\"],[0.5555555555555556,\"#d8576b\"],[0.6666666666666666,\"#ed7953\"],[0.7777777777777778,\"#fb9f3a\"],[0.8888888888888888,\"#fdca26\"],[1.0,\"#f0f921\"]]}],\"heatmapgl\":[{\"type\":\"heatmapgl\",\"colorbar\":{\"outlinewidth\":0,\"ticks\":\"\"},\"colorscale\":[[0.0,\"#0d0887\"],[0.1111111111111111,\"#46039f\"],[0.2222222222222222,\"#7201a8\"],[0.3333333333333333,\"#9c179e\"],[0.4444444444444444,\"#bd3786\"],[0.5555555555555556,\"#d8576b\"],[0.6666666666666666,\"#ed7953\"],[0.7777777777777778,\"#fb9f3a\"],[0.8888888888888888,\"#fdca26\"],[1.0,\"#f0f921\"]]}],\"contourcarpet\":[{\"type\":\"contourcarpet\",\"colorbar\":{\"outlinewidth\":0,\"ticks\":\"\"}}],\"contour\":[{\"type\":\"contour\",\"colorbar\":{\"outlinewidth\":0,\"ticks\":\"\"},\"colorscale\":[[0.0,\"#0d0887\"],[0.1111111111111111,\"#46039f\"],[0.2222222222222222,\"#7201a8\"],[0.3333333333333333,\"#9c179e\"],[0.4444444444444444,\"#bd3786\"],[0.5555555555555556,\"#d8576b\"],[0.6666666666666666,\"#ed7953\"],[0.7777777777777778,\"#fb9f3a\"],[0.8888888888888888,\"#fdca26\"],[1.0,\"#f0f921\"]]}],\"surface\":[{\"type\":\"surface\",\"colorbar\":{\"outlinewidth\":0,\"ticks\":\"\"},\"colorscale\":[[0.0,\"#0d0887\"],[0.1111111111111111,\"#46039f\"],[0.2222222222222222,\"#7201a8\"],[0.3333333333333333,\"#9c179e\"],[0.4444444444444444,\"#bd3786\"],[0.5555555555555556,\"#d8576b\"],[0.6666666666666666,\"#ed7953\"],[0.7777777777777778,\"#fb9f3a\"],[0.8888888888888888,\"#fdca26\"],[1.0,\"#f0f921\"]]}],\"mesh3d\":[{\"type\":\"mesh3d\",\"colorbar\":{\"outlinewidth\":0,\"ticks\":\"\"}}],\"scatter\":[{\"fillpattern\":{\"fillmode\":\"overlay\",\"size\":10,\"solidity\":0.2},\"type\":\"scatter\"}],\"parcoords\":[{\"type\":\"parcoords\",\"line\":{\"colorbar\":{\"outlinewidth\":0,\"ticks\":\"\"}}}],\"scatterpolargl\":[{\"type\":\"scatterpolargl\",\"marker\":{\"colorbar\":{\"outlinewidth\":0,\"ticks\":\"\"}}}],\"bar\":[{\"error_x\":{\"color\":\"#2a3f5f\"},\"error_y\":{\"color\":\"#2a3f5f\"},\"marker\":{\"line\":{\"color\":\"#E5ECF6\",\"width\":0.5},\"pattern\":{\"fillmode\":\"overlay\",\"size\":10,\"solidity\":0.2}},\"type\":\"bar\"}],\"scattergeo\":[{\"type\":\"scattergeo\",\"marker\":{\"colorbar\":{\"outlinewidth\":0,\"ticks\":\"\"}}}],\"scatterpolar\":[{\"type\":\"scatterpolar\",\"marker\":{\"colorbar\":{\"outlinewidth\":0,\"ticks\":\"\"}}}],\"histogram\":[{\"marker\":{\"pattern\":{\"fillmode\":\"overlay\",\"size\":10,\"solidity\":0.2}},\"type\":\"histogram\"}],\"scattergl\":[{\"type\":\"scattergl\",\"marker\":{\"colorbar\":{\"outlinewidth\":0,\"ticks\":\"\"}}}],\"scatter3d\":[{\"type\":\"scatter3d\",\"line\":{\"colorbar\":{\"outlinewidth\":0,\"ticks\":\"\"}},\"marker\":{\"colorbar\":{\"outlinewidth\":0,\"ticks\":\"\"}}}],\"scattermapbox\":[{\"type\":\"scattermapbox\",\"marker\":{\"colorbar\":{\"outlinewidth\":0,\"ticks\":\"\"}}}],\"scatterternary\":[{\"type\":\"scatterternary\",\"marker\":{\"colorbar\":{\"outlinewidth\":0,\"ticks\":\"\"}}}],\"scattercarpet\":[{\"type\":\"scattercarpet\",\"marker\":{\"colorbar\":{\"outlinewidth\":0,\"ticks\":\"\"}}}],\"carpet\":[{\"aaxis\":{\"endlinecolor\":\"#2a3f5f\",\"gridcolor\":\"white\",\"linecolor\":\"white\",\"minorgridcolor\":\"white\",\"startlinecolor\":\"#2a3f5f\"},\"baxis\":{\"endlinecolor\":\"#2a3f5f\",\"gridcolor\":\"white\",\"linecolor\":\"white\",\"minorgridcolor\":\"white\",\"startlinecolor\":\"#2a3f5f\"},\"type\":\"carpet\"}],\"table\":[{\"cells\":{\"fill\":{\"color\":\"#EBF0F8\"},\"line\":{\"color\":\"white\"}},\"header\":{\"fill\":{\"color\":\"#C8D4E3\"},\"line\":{\"color\":\"white\"}},\"type\":\"table\"}],\"barpolar\":[{\"marker\":{\"line\":{\"color\":\"#E5ECF6\",\"width\":0.5},\"pattern\":{\"fillmode\":\"overlay\",\"size\":10,\"solidity\":0.2}},\"type\":\"barpolar\"}],\"pie\":[{\"automargin\":true,\"type\":\"pie\"}]},\"layout\":{\"autotypenumbers\":\"strict\",\"colorway\":[\"#636efa\",\"#EF553B\",\"#00cc96\",\"#ab63fa\",\"#FFA15A\",\"#19d3f3\",\"#FF6692\",\"#B6E880\",\"#FF97FF\",\"#FECB52\"],\"font\":{\"color\":\"#2a3f5f\"},\"hovermode\":\"closest\",\"hoverlabel\":{\"align\":\"left\"},\"paper_bgcolor\":\"white\",\"plot_bgcolor\":\"#E5ECF6\",\"polar\":{\"bgcolor\":\"#E5ECF6\",\"angularaxis\":{\"gridcolor\":\"white\",\"linecolor\":\"white\",\"ticks\":\"\"},\"radialaxis\":{\"gridcolor\":\"white\",\"linecolor\":\"white\",\"ticks\":\"\"}},\"ternary\":{\"bgcolor\":\"#E5ECF6\",\"aaxis\":{\"gridcolor\":\"white\",\"linecolor\":\"white\",\"ticks\":\"\"},\"baxis\":{\"gridcolor\":\"white\",\"linecolor\":\"white\",\"ticks\":\"\"},\"caxis\":{\"gridcolor\":\"white\",\"linecolor\":\"white\",\"ticks\":\"\"}},\"coloraxis\":{\"colorbar\":{\"outlinewidth\":0,\"ticks\":\"\"}},\"colorscale\":{\"sequential\":[[0.0,\"#0d0887\"],[0.1111111111111111,\"#46039f\"],[0.2222222222222222,\"#7201a8\"],[0.3333333333333333,\"#9c179e\"],[0.4444444444444444,\"#bd3786\"],[0.5555555555555556,\"#d8576b\"],[0.6666666666666666,\"#ed7953\"],[0.7777777777777778,\"#fb9f3a\"],[0.8888888888888888,\"#fdca26\"],[1.0,\"#f0f921\"]],\"sequentialminus\":[[0.0,\"#0d0887\"],[0.1111111111111111,\"#46039f\"],[0.2222222222222222,\"#7201a8\"],[0.3333333333333333,\"#9c179e\"],[0.4444444444444444,\"#bd3786\"],[0.5555555555555556,\"#d8576b\"],[0.6666666666666666,\"#ed7953\"],[0.7777777777777778,\"#fb9f3a\"],[0.8888888888888888,\"#fdca26\"],[1.0,\"#f0f921\"]],\"diverging\":[[0,\"#8e0152\"],[0.1,\"#c51b7d\"],[0.2,\"#de77ae\"],[0.3,\"#f1b6da\"],[0.4,\"#fde0ef\"],[0.5,\"#f7f7f7\"],[0.6,\"#e6f5d0\"],[0.7,\"#b8e186\"],[0.8,\"#7fbc41\"],[0.9,\"#4d9221\"],[1,\"#276419\"]]},\"xaxis\":{\"gridcolor\":\"white\",\"linecolor\":\"white\",\"ticks\":\"\",\"title\":{\"standoff\":15},\"zerolinecolor\":\"white\",\"automargin\":true,\"zerolinewidth\":2},\"yaxis\":{\"gridcolor\":\"white\",\"linecolor\":\"white\",\"ticks\":\"\",\"title\":{\"standoff\":15},\"zerolinecolor\":\"white\",\"automargin\":true,\"zerolinewidth\":2},\"scene\":{\"xaxis\":{\"backgroundcolor\":\"#E5ECF6\",\"gridcolor\":\"white\",\"linecolor\":\"white\",\"showbackground\":true,\"ticks\":\"\",\"zerolinecolor\":\"white\",\"gridwidth\":2},\"yaxis\":{\"backgroundcolor\":\"#E5ECF6\",\"gridcolor\":\"white\",\"linecolor\":\"white\",\"showbackground\":true,\"ticks\":\"\",\"zerolinecolor\":\"white\",\"gridwidth\":2},\"zaxis\":{\"backgroundcolor\":\"#E5ECF6\",\"gridcolor\":\"white\",\"linecolor\":\"white\",\"showbackground\":true,\"ticks\":\"\",\"zerolinecolor\":\"white\",\"gridwidth\":2}},\"shapedefaults\":{\"line\":{\"color\":\"#2a3f5f\"}},\"annotationdefaults\":{\"arrowcolor\":\"#2a3f5f\",\"arrowhead\":0,\"arrowwidth\":1},\"geo\":{\"bgcolor\":\"white\",\"landcolor\":\"#E5ECF6\",\"subunitcolor\":\"white\",\"showland\":true,\"showlakes\":true,\"lakecolor\":\"white\"},\"title\":{\"x\":0.05},\"mapbox\":{\"style\":\"light\"}}},\"xaxis\":{\"anchor\":\"y\",\"domain\":[0.0,1.0],\"title\":{\"text\":\"x\"}},\"yaxis\":{\"anchor\":\"x\",\"domain\":[0.0,1.0],\"title\":{\"text\":\"y\"}},\"legend\":{\"title\":{\"text\":\"color\"},\"tracegroupgap\":0},\"margin\":{\"t\":60},\"shapes\":[{\"line\":{\"color\":\"red\",\"width\":1},\"type\":\"line\",\"x0\":0,\"x1\":1,\"xref\":\"x domain\",\"y0\":8.055555555555555,\"y1\":8.055555555555555,\"yref\":\"y\"},{\"line\":{\"color\":\"green\",\"width\":1},\"type\":\"line\",\"x0\":7.843971911231067,\"x1\":7.843971911231067,\"xref\":\"x\",\"y0\":0,\"y1\":1,\"yref\":\"y domain\"}]},                        {\"responsive\": true}                    ).then(function(){\n                            \nvar gd = document.getElementById('6afe6950-45fb-4de4-81ed-ccdd208157de');\nvar x = new MutationObserver(function (mutations, observer) {{\n        var display = window.getComputedStyle(gd).display;\n        if (!display || display === 'none') {{\n            console.log([gd, 'removed!']);\n            Plotly.purge(gd);\n            observer.disconnect();\n        }}\n}});\n\n// Listen for the removal of the full notebook cells\nvar notebookContainer = gd.closest('#notebook-container');\nif (notebookContainer) {{\n    x.observe(notebookContainer, {childList: true});\n}}\n\n// Listen for the clearing of the current output cell\nvar outputEl = gd.closest('.output');\nif (outputEl) {{\n    x.observe(outputEl, {childList: true});\n}}\n\n                        })                };                });            </script>        </div>"
          },
          "metadata": {}
        }
      ],
      "source": [
        "quadrant_chart(\n",
        "    x=df_bowler['Economy'],\n",
        "    y=df_bowler['wicket'],\n",
        "    team=df_bowler['Bowling_team'],\n",
        "    xtick_labels=['Low', 'High'],\n",
        "    ytick_labels=['Low', 'High'],\n",
        "    highlight_quadrants=[1]\n",
        ")"
      ]
    },
    {
      "cell_type": "code",
      "execution_count": 536,
      "metadata": {},
      "outputs": [
        {
          "output_type": "display_data",
          "data": {
            "application/vnd.plotly.v1+json": {
              "data": [
                {
                  "boxmean": "sd",
                  "boxpoints": "all",
                  "name": "Peshawar Zalmi",
                  "y": [
                    6.8,
                    10.5,
                    6.972972972972973,
                    12.625,
                    8.764705882352942,
                    6.6000000000000005,
                    7,
                    6.583333333333333,
                    6.363636363636363
                  ],
                  "type": "box"
                },
                {
                  "boxmean": "sd",
                  "boxpoints": "all",
                  "name": "Islamabad United",
                  "y": [
                    7.533333333333333,
                    6.757575757575758,
                    5.857142857142858,
                    9.130434782608697,
                    9.666666666666668,
                    6.923076923076923
                  ],
                  "type": "box"
                },
                {
                  "boxmean": "sd",
                  "boxpoints": "all",
                  "name": "Quetta Gladiators",
                  "y": [
                    9.4,
                    7.03030303030303,
                    7.466666666666667,
                    8.090909090909092,
                    8.722222222222221,
                    7.35,
                    6.625
                  ],
                  "type": "box"
                },
                {
                  "boxmean": "sd",
                  "boxpoints": "all",
                  "name": "Karachi Kings",
                  "y": [
                    6.689655172413794,
                    7.648648648648649,
                    10.11111111111111,
                    7.454545454545455,
                    7.65625,
                    8.214285714285715,
                    7.653846153846154
                  ],
                  "type": "box"
                },
                {
                  "boxmean": "sd",
                  "boxpoints": "all",
                  "name": "Lahore Qalandars",
                  "y": [
                    7.166666666666666,
                    6.625,
                    9.583333333333334,
                    9.4,
                    6.5,
                    8.666666666666666,
                    6.25
                  ],
                  "type": "box"
                }
              ],
              "layout": {
                "template": {
                  "data": {
                    "histogram2dcontour": [
                      {
                        "type": "histogram2dcontour",
                        "colorbar": {
                          "outlinewidth": 0,
                          "ticks": ""
                        },
                        "colorscale": [
                          [
                            0,
                            "#0d0887"
                          ],
                          [
                            0.1111111111111111,
                            "#46039f"
                          ],
                          [
                            0.2222222222222222,
                            "#7201a8"
                          ],
                          [
                            0.3333333333333333,
                            "#9c179e"
                          ],
                          [
                            0.4444444444444444,
                            "#bd3786"
                          ],
                          [
                            0.5555555555555556,
                            "#d8576b"
                          ],
                          [
                            0.6666666666666666,
                            "#ed7953"
                          ],
                          [
                            0.7777777777777778,
                            "#fb9f3a"
                          ],
                          [
                            0.8888888888888888,
                            "#fdca26"
                          ],
                          [
                            1,
                            "#f0f921"
                          ]
                        ]
                      }
                    ],
                    "choropleth": [
                      {
                        "type": "choropleth",
                        "colorbar": {
                          "outlinewidth": 0,
                          "ticks": ""
                        }
                      }
                    ],
                    "histogram2d": [
                      {
                        "type": "histogram2d",
                        "colorbar": {
                          "outlinewidth": 0,
                          "ticks": ""
                        },
                        "colorscale": [
                          [
                            0,
                            "#0d0887"
                          ],
                          [
                            0.1111111111111111,
                            "#46039f"
                          ],
                          [
                            0.2222222222222222,
                            "#7201a8"
                          ],
                          [
                            0.3333333333333333,
                            "#9c179e"
                          ],
                          [
                            0.4444444444444444,
                            "#bd3786"
                          ],
                          [
                            0.5555555555555556,
                            "#d8576b"
                          ],
                          [
                            0.6666666666666666,
                            "#ed7953"
                          ],
                          [
                            0.7777777777777778,
                            "#fb9f3a"
                          ],
                          [
                            0.8888888888888888,
                            "#fdca26"
                          ],
                          [
                            1,
                            "#f0f921"
                          ]
                        ]
                      }
                    ],
                    "heatmap": [
                      {
                        "type": "heatmap",
                        "colorbar": {
                          "outlinewidth": 0,
                          "ticks": ""
                        },
                        "colorscale": [
                          [
                            0,
                            "#0d0887"
                          ],
                          [
                            0.1111111111111111,
                            "#46039f"
                          ],
                          [
                            0.2222222222222222,
                            "#7201a8"
                          ],
                          [
                            0.3333333333333333,
                            "#9c179e"
                          ],
                          [
                            0.4444444444444444,
                            "#bd3786"
                          ],
                          [
                            0.5555555555555556,
                            "#d8576b"
                          ],
                          [
                            0.6666666666666666,
                            "#ed7953"
                          ],
                          [
                            0.7777777777777778,
                            "#fb9f3a"
                          ],
                          [
                            0.8888888888888888,
                            "#fdca26"
                          ],
                          [
                            1,
                            "#f0f921"
                          ]
                        ]
                      }
                    ],
                    "heatmapgl": [
                      {
                        "type": "heatmapgl",
                        "colorbar": {
                          "outlinewidth": 0,
                          "ticks": ""
                        },
                        "colorscale": [
                          [
                            0,
                            "#0d0887"
                          ],
                          [
                            0.1111111111111111,
                            "#46039f"
                          ],
                          [
                            0.2222222222222222,
                            "#7201a8"
                          ],
                          [
                            0.3333333333333333,
                            "#9c179e"
                          ],
                          [
                            0.4444444444444444,
                            "#bd3786"
                          ],
                          [
                            0.5555555555555556,
                            "#d8576b"
                          ],
                          [
                            0.6666666666666666,
                            "#ed7953"
                          ],
                          [
                            0.7777777777777778,
                            "#fb9f3a"
                          ],
                          [
                            0.8888888888888888,
                            "#fdca26"
                          ],
                          [
                            1,
                            "#f0f921"
                          ]
                        ]
                      }
                    ],
                    "contourcarpet": [
                      {
                        "type": "contourcarpet",
                        "colorbar": {
                          "outlinewidth": 0,
                          "ticks": ""
                        }
                      }
                    ],
                    "contour": [
                      {
                        "type": "contour",
                        "colorbar": {
                          "outlinewidth": 0,
                          "ticks": ""
                        },
                        "colorscale": [
                          [
                            0,
                            "#0d0887"
                          ],
                          [
                            0.1111111111111111,
                            "#46039f"
                          ],
                          [
                            0.2222222222222222,
                            "#7201a8"
                          ],
                          [
                            0.3333333333333333,
                            "#9c179e"
                          ],
                          [
                            0.4444444444444444,
                            "#bd3786"
                          ],
                          [
                            0.5555555555555556,
                            "#d8576b"
                          ],
                          [
                            0.6666666666666666,
                            "#ed7953"
                          ],
                          [
                            0.7777777777777778,
                            "#fb9f3a"
                          ],
                          [
                            0.8888888888888888,
                            "#fdca26"
                          ],
                          [
                            1,
                            "#f0f921"
                          ]
                        ]
                      }
                    ],
                    "surface": [
                      {
                        "type": "surface",
                        "colorbar": {
                          "outlinewidth": 0,
                          "ticks": ""
                        },
                        "colorscale": [
                          [
                            0,
                            "#0d0887"
                          ],
                          [
                            0.1111111111111111,
                            "#46039f"
                          ],
                          [
                            0.2222222222222222,
                            "#7201a8"
                          ],
                          [
                            0.3333333333333333,
                            "#9c179e"
                          ],
                          [
                            0.4444444444444444,
                            "#bd3786"
                          ],
                          [
                            0.5555555555555556,
                            "#d8576b"
                          ],
                          [
                            0.6666666666666666,
                            "#ed7953"
                          ],
                          [
                            0.7777777777777778,
                            "#fb9f3a"
                          ],
                          [
                            0.8888888888888888,
                            "#fdca26"
                          ],
                          [
                            1,
                            "#f0f921"
                          ]
                        ]
                      }
                    ],
                    "mesh3d": [
                      {
                        "type": "mesh3d",
                        "colorbar": {
                          "outlinewidth": 0,
                          "ticks": ""
                        }
                      }
                    ],
                    "scatter": [
                      {
                        "fillpattern": {
                          "fillmode": "overlay",
                          "size": 10,
                          "solidity": 0.2
                        },
                        "type": "scatter"
                      }
                    ],
                    "parcoords": [
                      {
                        "type": "parcoords",
                        "line": {
                          "colorbar": {
                            "outlinewidth": 0,
                            "ticks": ""
                          }
                        }
                      }
                    ],
                    "scatterpolargl": [
                      {
                        "type": "scatterpolargl",
                        "marker": {
                          "colorbar": {
                            "outlinewidth": 0,
                            "ticks": ""
                          }
                        }
                      }
                    ],
                    "bar": [
                      {
                        "error_x": {
                          "color": "#2a3f5f"
                        },
                        "error_y": {
                          "color": "#2a3f5f"
                        },
                        "marker": {
                          "line": {
                            "color": "#E5ECF6",
                            "width": 0.5
                          },
                          "pattern": {
                            "fillmode": "overlay",
                            "size": 10,
                            "solidity": 0.2
                          }
                        },
                        "type": "bar"
                      }
                    ],
                    "scattergeo": [
                      {
                        "type": "scattergeo",
                        "marker": {
                          "colorbar": {
                            "outlinewidth": 0,
                            "ticks": ""
                          }
                        }
                      }
                    ],
                    "scatterpolar": [
                      {
                        "type": "scatterpolar",
                        "marker": {
                          "colorbar": {
                            "outlinewidth": 0,
                            "ticks": ""
                          }
                        }
                      }
                    ],
                    "histogram": [
                      {
                        "marker": {
                          "pattern": {
                            "fillmode": "overlay",
                            "size": 10,
                            "solidity": 0.2
                          }
                        },
                        "type": "histogram"
                      }
                    ],
                    "scattergl": [
                      {
                        "type": "scattergl",
                        "marker": {
                          "colorbar": {
                            "outlinewidth": 0,
                            "ticks": ""
                          }
                        }
                      }
                    ],
                    "scatter3d": [
                      {
                        "type": "scatter3d",
                        "line": {
                          "colorbar": {
                            "outlinewidth": 0,
                            "ticks": ""
                          }
                        },
                        "marker": {
                          "colorbar": {
                            "outlinewidth": 0,
                            "ticks": ""
                          }
                        }
                      }
                    ],
                    "scattermapbox": [
                      {
                        "type": "scattermapbox",
                        "marker": {
                          "colorbar": {
                            "outlinewidth": 0,
                            "ticks": ""
                          }
                        }
                      }
                    ],
                    "scatterternary": [
                      {
                        "type": "scatterternary",
                        "marker": {
                          "colorbar": {
                            "outlinewidth": 0,
                            "ticks": ""
                          }
                        }
                      }
                    ],
                    "scattercarpet": [
                      {
                        "type": "scattercarpet",
                        "marker": {
                          "colorbar": {
                            "outlinewidth": 0,
                            "ticks": ""
                          }
                        }
                      }
                    ],
                    "carpet": [
                      {
                        "aaxis": {
                          "endlinecolor": "#2a3f5f",
                          "gridcolor": "white",
                          "linecolor": "white",
                          "minorgridcolor": "white",
                          "startlinecolor": "#2a3f5f"
                        },
                        "baxis": {
                          "endlinecolor": "#2a3f5f",
                          "gridcolor": "white",
                          "linecolor": "white",
                          "minorgridcolor": "white",
                          "startlinecolor": "#2a3f5f"
                        },
                        "type": "carpet"
                      }
                    ],
                    "table": [
                      {
                        "cells": {
                          "fill": {
                            "color": "#EBF0F8"
                          },
                          "line": {
                            "color": "white"
                          }
                        },
                        "header": {
                          "fill": {
                            "color": "#C8D4E3"
                          },
                          "line": {
                            "color": "white"
                          }
                        },
                        "type": "table"
                      }
                    ],
                    "barpolar": [
                      {
                        "marker": {
                          "line": {
                            "color": "#E5ECF6",
                            "width": 0.5
                          },
                          "pattern": {
                            "fillmode": "overlay",
                            "size": 10,
                            "solidity": 0.2
                          }
                        },
                        "type": "barpolar"
                      }
                    ],
                    "pie": [
                      {
                        "automargin": true,
                        "type": "pie"
                      }
                    ]
                  },
                  "layout": {
                    "autotypenumbers": "strict",
                    "colorway": [
                      "#636efa",
                      "#EF553B",
                      "#00cc96",
                      "#ab63fa",
                      "#FFA15A",
                      "#19d3f3",
                      "#FF6692",
                      "#B6E880",
                      "#FF97FF",
                      "#FECB52"
                    ],
                    "font": {
                      "color": "#2a3f5f"
                    },
                    "hovermode": "closest",
                    "hoverlabel": {
                      "align": "left"
                    },
                    "paper_bgcolor": "white",
                    "plot_bgcolor": "#E5ECF6",
                    "polar": {
                      "bgcolor": "#E5ECF6",
                      "angularaxis": {
                        "gridcolor": "white",
                        "linecolor": "white",
                        "ticks": ""
                      },
                      "radialaxis": {
                        "gridcolor": "white",
                        "linecolor": "white",
                        "ticks": ""
                      }
                    },
                    "ternary": {
                      "bgcolor": "#E5ECF6",
                      "aaxis": {
                        "gridcolor": "white",
                        "linecolor": "white",
                        "ticks": ""
                      },
                      "baxis": {
                        "gridcolor": "white",
                        "linecolor": "white",
                        "ticks": ""
                      },
                      "caxis": {
                        "gridcolor": "white",
                        "linecolor": "white",
                        "ticks": ""
                      }
                    },
                    "coloraxis": {
                      "colorbar": {
                        "outlinewidth": 0,
                        "ticks": ""
                      }
                    },
                    "colorscale": {
                      "sequential": [
                        [
                          0,
                          "#0d0887"
                        ],
                        [
                          0.1111111111111111,
                          "#46039f"
                        ],
                        [
                          0.2222222222222222,
                          "#7201a8"
                        ],
                        [
                          0.3333333333333333,
                          "#9c179e"
                        ],
                        [
                          0.4444444444444444,
                          "#bd3786"
                        ],
                        [
                          0.5555555555555556,
                          "#d8576b"
                        ],
                        [
                          0.6666666666666666,
                          "#ed7953"
                        ],
                        [
                          0.7777777777777778,
                          "#fb9f3a"
                        ],
                        [
                          0.8888888888888888,
                          "#fdca26"
                        ],
                        [
                          1,
                          "#f0f921"
                        ]
                      ],
                      "sequentialminus": [
                        [
                          0,
                          "#0d0887"
                        ],
                        [
                          0.1111111111111111,
                          "#46039f"
                        ],
                        [
                          0.2222222222222222,
                          "#7201a8"
                        ],
                        [
                          0.3333333333333333,
                          "#9c179e"
                        ],
                        [
                          0.4444444444444444,
                          "#bd3786"
                        ],
                        [
                          0.5555555555555556,
                          "#d8576b"
                        ],
                        [
                          0.6666666666666666,
                          "#ed7953"
                        ],
                        [
                          0.7777777777777778,
                          "#fb9f3a"
                        ],
                        [
                          0.8888888888888888,
                          "#fdca26"
                        ],
                        [
                          1,
                          "#f0f921"
                        ]
                      ],
                      "diverging": [
                        [
                          0,
                          "#8e0152"
                        ],
                        [
                          0.1,
                          "#c51b7d"
                        ],
                        [
                          0.2,
                          "#de77ae"
                        ],
                        [
                          0.3,
                          "#f1b6da"
                        ],
                        [
                          0.4,
                          "#fde0ef"
                        ],
                        [
                          0.5,
                          "#f7f7f7"
                        ],
                        [
                          0.6,
                          "#e6f5d0"
                        ],
                        [
                          0.7,
                          "#b8e186"
                        ],
                        [
                          0.8,
                          "#7fbc41"
                        ],
                        [
                          0.9,
                          "#4d9221"
                        ],
                        [
                          1,
                          "#276419"
                        ]
                      ]
                    },
                    "xaxis": {
                      "gridcolor": "white",
                      "linecolor": "white",
                      "ticks": "",
                      "title": {
                        "standoff": 15
                      },
                      "zerolinecolor": "white",
                      "automargin": true,
                      "zerolinewidth": 2
                    },
                    "yaxis": {
                      "gridcolor": "white",
                      "linecolor": "white",
                      "ticks": "",
                      "title": {
                        "standoff": 15
                      },
                      "zerolinecolor": "white",
                      "automargin": true,
                      "zerolinewidth": 2
                    },
                    "scene": {
                      "xaxis": {
                        "backgroundcolor": "#E5ECF6",
                        "gridcolor": "white",
                        "linecolor": "white",
                        "showbackground": true,
                        "ticks": "",
                        "zerolinecolor": "white",
                        "gridwidth": 2
                      },
                      "yaxis": {
                        "backgroundcolor": "#E5ECF6",
                        "gridcolor": "white",
                        "linecolor": "white",
                        "showbackground": true,
                        "ticks": "",
                        "zerolinecolor": "white",
                        "gridwidth": 2
                      },
                      "zaxis": {
                        "backgroundcolor": "#E5ECF6",
                        "gridcolor": "white",
                        "linecolor": "white",
                        "showbackground": true,
                        "ticks": "",
                        "zerolinecolor": "white",
                        "gridwidth": 2
                      }
                    },
                    "shapedefaults": {
                      "line": {
                        "color": "#2a3f5f"
                      }
                    },
                    "annotationdefaults": {
                      "arrowcolor": "#2a3f5f",
                      "arrowhead": 0,
                      "arrowwidth": 1
                    },
                    "geo": {
                      "bgcolor": "white",
                      "landcolor": "#E5ECF6",
                      "subunitcolor": "white",
                      "showland": true,
                      "showlakes": true,
                      "lakecolor": "white"
                    },
                    "title": {
                      "x": 0.05
                    },
                    "mapbox": {
                      "style": "light"
                    }
                  }
                },
                "title": {
                  "text": "Bowler Economy distribution for each team"
                }
              },
              "config": {
                "plotlyServerURL": "https://plot.ly"
              }
            },
            "text/html": "<div>                            <div id=\"6306c0a0-4996-44da-8fab-5ea504f34bd2\" class=\"plotly-graph-div\" style=\"height:525px; width:100%;\"></div>            <script type=\"text/javascript\">                require([\"plotly\"], function(Plotly) {                    window.PLOTLYENV=window.PLOTLYENV || {};                                    if (document.getElementById(\"6306c0a0-4996-44da-8fab-5ea504f34bd2\")) {                    Plotly.newPlot(                        \"6306c0a0-4996-44da-8fab-5ea504f34bd2\",                        [{\"boxmean\":\"sd\",\"boxpoints\":\"all\",\"name\":\"Peshawar Zalmi\",\"y\":[6.8,10.5,6.972972972972973,12.625,8.764705882352942,6.6000000000000005,7.0,6.583333333333333,6.363636363636363],\"type\":\"box\"},{\"boxmean\":\"sd\",\"boxpoints\":\"all\",\"name\":\"Islamabad United\",\"y\":[7.533333333333333,6.757575757575758,5.857142857142858,9.130434782608697,9.666666666666668,6.923076923076923],\"type\":\"box\"},{\"boxmean\":\"sd\",\"boxpoints\":\"all\",\"name\":\"Quetta Gladiators\",\"y\":[9.4,7.03030303030303,7.466666666666667,8.090909090909092,8.722222222222221,7.35,6.625],\"type\":\"box\"},{\"boxmean\":\"sd\",\"boxpoints\":\"all\",\"name\":\"Karachi Kings\",\"y\":[6.689655172413794,7.648648648648649,10.11111111111111,7.454545454545455,7.65625,8.214285714285715,7.653846153846154],\"type\":\"box\"},{\"boxmean\":\"sd\",\"boxpoints\":\"all\",\"name\":\"Lahore Qalandars\",\"y\":[7.166666666666666,6.625,9.583333333333334,9.4,6.5,8.666666666666666,6.25],\"type\":\"box\"}],                        {\"template\":{\"data\":{\"histogram2dcontour\":[{\"type\":\"histogram2dcontour\",\"colorbar\":{\"outlinewidth\":0,\"ticks\":\"\"},\"colorscale\":[[0.0,\"#0d0887\"],[0.1111111111111111,\"#46039f\"],[0.2222222222222222,\"#7201a8\"],[0.3333333333333333,\"#9c179e\"],[0.4444444444444444,\"#bd3786\"],[0.5555555555555556,\"#d8576b\"],[0.6666666666666666,\"#ed7953\"],[0.7777777777777778,\"#fb9f3a\"],[0.8888888888888888,\"#fdca26\"],[1.0,\"#f0f921\"]]}],\"choropleth\":[{\"type\":\"choropleth\",\"colorbar\":{\"outlinewidth\":0,\"ticks\":\"\"}}],\"histogram2d\":[{\"type\":\"histogram2d\",\"colorbar\":{\"outlinewidth\":0,\"ticks\":\"\"},\"colorscale\":[[0.0,\"#0d0887\"],[0.1111111111111111,\"#46039f\"],[0.2222222222222222,\"#7201a8\"],[0.3333333333333333,\"#9c179e\"],[0.4444444444444444,\"#bd3786\"],[0.5555555555555556,\"#d8576b\"],[0.6666666666666666,\"#ed7953\"],[0.7777777777777778,\"#fb9f3a\"],[0.8888888888888888,\"#fdca26\"],[1.0,\"#f0f921\"]]}],\"heatmap\":[{\"type\":\"heatmap\",\"colorbar\":{\"outlinewidth\":0,\"ticks\":\"\"},\"colorscale\":[[0.0,\"#0d0887\"],[0.1111111111111111,\"#46039f\"],[0.2222222222222222,\"#7201a8\"],[0.3333333333333333,\"#9c179e\"],[0.4444444444444444,\"#bd3786\"],[0.5555555555555556,\"#d8576b\"],[0.6666666666666666,\"#ed7953\"],[0.7777777777777778,\"#fb9f3a\"],[0.8888888888888888,\"#fdca26\"],[1.0,\"#f0f921\"]]}],\"heatmapgl\":[{\"type\":\"heatmapgl\",\"colorbar\":{\"outlinewidth\":0,\"ticks\":\"\"},\"colorscale\":[[0.0,\"#0d0887\"],[0.1111111111111111,\"#46039f\"],[0.2222222222222222,\"#7201a8\"],[0.3333333333333333,\"#9c179e\"],[0.4444444444444444,\"#bd3786\"],[0.5555555555555556,\"#d8576b\"],[0.6666666666666666,\"#ed7953\"],[0.7777777777777778,\"#fb9f3a\"],[0.8888888888888888,\"#fdca26\"],[1.0,\"#f0f921\"]]}],\"contourcarpet\":[{\"type\":\"contourcarpet\",\"colorbar\":{\"outlinewidth\":0,\"ticks\":\"\"}}],\"contour\":[{\"type\":\"contour\",\"colorbar\":{\"outlinewidth\":0,\"ticks\":\"\"},\"colorscale\":[[0.0,\"#0d0887\"],[0.1111111111111111,\"#46039f\"],[0.2222222222222222,\"#7201a8\"],[0.3333333333333333,\"#9c179e\"],[0.4444444444444444,\"#bd3786\"],[0.5555555555555556,\"#d8576b\"],[0.6666666666666666,\"#ed7953\"],[0.7777777777777778,\"#fb9f3a\"],[0.8888888888888888,\"#fdca26\"],[1.0,\"#f0f921\"]]}],\"surface\":[{\"type\":\"surface\",\"colorbar\":{\"outlinewidth\":0,\"ticks\":\"\"},\"colorscale\":[[0.0,\"#0d0887\"],[0.1111111111111111,\"#46039f\"],[0.2222222222222222,\"#7201a8\"],[0.3333333333333333,\"#9c179e\"],[0.4444444444444444,\"#bd3786\"],[0.5555555555555556,\"#d8576b\"],[0.6666666666666666,\"#ed7953\"],[0.7777777777777778,\"#fb9f3a\"],[0.8888888888888888,\"#fdca26\"],[1.0,\"#f0f921\"]]}],\"mesh3d\":[{\"type\":\"mesh3d\",\"colorbar\":{\"outlinewidth\":0,\"ticks\":\"\"}}],\"scatter\":[{\"fillpattern\":{\"fillmode\":\"overlay\",\"size\":10,\"solidity\":0.2},\"type\":\"scatter\"}],\"parcoords\":[{\"type\":\"parcoords\",\"line\":{\"colorbar\":{\"outlinewidth\":0,\"ticks\":\"\"}}}],\"scatterpolargl\":[{\"type\":\"scatterpolargl\",\"marker\":{\"colorbar\":{\"outlinewidth\":0,\"ticks\":\"\"}}}],\"bar\":[{\"error_x\":{\"color\":\"#2a3f5f\"},\"error_y\":{\"color\":\"#2a3f5f\"},\"marker\":{\"line\":{\"color\":\"#E5ECF6\",\"width\":0.5},\"pattern\":{\"fillmode\":\"overlay\",\"size\":10,\"solidity\":0.2}},\"type\":\"bar\"}],\"scattergeo\":[{\"type\":\"scattergeo\",\"marker\":{\"colorbar\":{\"outlinewidth\":0,\"ticks\":\"\"}}}],\"scatterpolar\":[{\"type\":\"scatterpolar\",\"marker\":{\"colorbar\":{\"outlinewidth\":0,\"ticks\":\"\"}}}],\"histogram\":[{\"marker\":{\"pattern\":{\"fillmode\":\"overlay\",\"size\":10,\"solidity\":0.2}},\"type\":\"histogram\"}],\"scattergl\":[{\"type\":\"scattergl\",\"marker\":{\"colorbar\":{\"outlinewidth\":0,\"ticks\":\"\"}}}],\"scatter3d\":[{\"type\":\"scatter3d\",\"line\":{\"colorbar\":{\"outlinewidth\":0,\"ticks\":\"\"}},\"marker\":{\"colorbar\":{\"outlinewidth\":0,\"ticks\":\"\"}}}],\"scattermapbox\":[{\"type\":\"scattermapbox\",\"marker\":{\"colorbar\":{\"outlinewidth\":0,\"ticks\":\"\"}}}],\"scatterternary\":[{\"type\":\"scatterternary\",\"marker\":{\"colorbar\":{\"outlinewidth\":0,\"ticks\":\"\"}}}],\"scattercarpet\":[{\"type\":\"scattercarpet\",\"marker\":{\"colorbar\":{\"outlinewidth\":0,\"ticks\":\"\"}}}],\"carpet\":[{\"aaxis\":{\"endlinecolor\":\"#2a3f5f\",\"gridcolor\":\"white\",\"linecolor\":\"white\",\"minorgridcolor\":\"white\",\"startlinecolor\":\"#2a3f5f\"},\"baxis\":{\"endlinecolor\":\"#2a3f5f\",\"gridcolor\":\"white\",\"linecolor\":\"white\",\"minorgridcolor\":\"white\",\"startlinecolor\":\"#2a3f5f\"},\"type\":\"carpet\"}],\"table\":[{\"cells\":{\"fill\":{\"color\":\"#EBF0F8\"},\"line\":{\"color\":\"white\"}},\"header\":{\"fill\":{\"color\":\"#C8D4E3\"},\"line\":{\"color\":\"white\"}},\"type\":\"table\"}],\"barpolar\":[{\"marker\":{\"line\":{\"color\":\"#E5ECF6\",\"width\":0.5},\"pattern\":{\"fillmode\":\"overlay\",\"size\":10,\"solidity\":0.2}},\"type\":\"barpolar\"}],\"pie\":[{\"automargin\":true,\"type\":\"pie\"}]},\"layout\":{\"autotypenumbers\":\"strict\",\"colorway\":[\"#636efa\",\"#EF553B\",\"#00cc96\",\"#ab63fa\",\"#FFA15A\",\"#19d3f3\",\"#FF6692\",\"#B6E880\",\"#FF97FF\",\"#FECB52\"],\"font\":{\"color\":\"#2a3f5f\"},\"hovermode\":\"closest\",\"hoverlabel\":{\"align\":\"left\"},\"paper_bgcolor\":\"white\",\"plot_bgcolor\":\"#E5ECF6\",\"polar\":{\"bgcolor\":\"#E5ECF6\",\"angularaxis\":{\"gridcolor\":\"white\",\"linecolor\":\"white\",\"ticks\":\"\"},\"radialaxis\":{\"gridcolor\":\"white\",\"linecolor\":\"white\",\"ticks\":\"\"}},\"ternary\":{\"bgcolor\":\"#E5ECF6\",\"aaxis\":{\"gridcolor\":\"white\",\"linecolor\":\"white\",\"ticks\":\"\"},\"baxis\":{\"gridcolor\":\"white\",\"linecolor\":\"white\",\"ticks\":\"\"},\"caxis\":{\"gridcolor\":\"white\",\"linecolor\":\"white\",\"ticks\":\"\"}},\"coloraxis\":{\"colorbar\":{\"outlinewidth\":0,\"ticks\":\"\"}},\"colorscale\":{\"sequential\":[[0.0,\"#0d0887\"],[0.1111111111111111,\"#46039f\"],[0.2222222222222222,\"#7201a8\"],[0.3333333333333333,\"#9c179e\"],[0.4444444444444444,\"#bd3786\"],[0.5555555555555556,\"#d8576b\"],[0.6666666666666666,\"#ed7953\"],[0.7777777777777778,\"#fb9f3a\"],[0.8888888888888888,\"#fdca26\"],[1.0,\"#f0f921\"]],\"sequentialminus\":[[0.0,\"#0d0887\"],[0.1111111111111111,\"#46039f\"],[0.2222222222222222,\"#7201a8\"],[0.3333333333333333,\"#9c179e\"],[0.4444444444444444,\"#bd3786\"],[0.5555555555555556,\"#d8576b\"],[0.6666666666666666,\"#ed7953\"],[0.7777777777777778,\"#fb9f3a\"],[0.8888888888888888,\"#fdca26\"],[1.0,\"#f0f921\"]],\"diverging\":[[0,\"#8e0152\"],[0.1,\"#c51b7d\"],[0.2,\"#de77ae\"],[0.3,\"#f1b6da\"],[0.4,\"#fde0ef\"],[0.5,\"#f7f7f7\"],[0.6,\"#e6f5d0\"],[0.7,\"#b8e186\"],[0.8,\"#7fbc41\"],[0.9,\"#4d9221\"],[1,\"#276419\"]]},\"xaxis\":{\"gridcolor\":\"white\",\"linecolor\":\"white\",\"ticks\":\"\",\"title\":{\"standoff\":15},\"zerolinecolor\":\"white\",\"automargin\":true,\"zerolinewidth\":2},\"yaxis\":{\"gridcolor\":\"white\",\"linecolor\":\"white\",\"ticks\":\"\",\"title\":{\"standoff\":15},\"zerolinecolor\":\"white\",\"automargin\":true,\"zerolinewidth\":2},\"scene\":{\"xaxis\":{\"backgroundcolor\":\"#E5ECF6\",\"gridcolor\":\"white\",\"linecolor\":\"white\",\"showbackground\":true,\"ticks\":\"\",\"zerolinecolor\":\"white\",\"gridwidth\":2},\"yaxis\":{\"backgroundcolor\":\"#E5ECF6\",\"gridcolor\":\"white\",\"linecolor\":\"white\",\"showbackground\":true,\"ticks\":\"\",\"zerolinecolor\":\"white\",\"gridwidth\":2},\"zaxis\":{\"backgroundcolor\":\"#E5ECF6\",\"gridcolor\":\"white\",\"linecolor\":\"white\",\"showbackground\":true,\"ticks\":\"\",\"zerolinecolor\":\"white\",\"gridwidth\":2}},\"shapedefaults\":{\"line\":{\"color\":\"#2a3f5f\"}},\"annotationdefaults\":{\"arrowcolor\":\"#2a3f5f\",\"arrowhead\":0,\"arrowwidth\":1},\"geo\":{\"bgcolor\":\"white\",\"landcolor\":\"#E5ECF6\",\"subunitcolor\":\"white\",\"showland\":true,\"showlakes\":true,\"lakecolor\":\"white\"},\"title\":{\"x\":0.05},\"mapbox\":{\"style\":\"light\"}}},\"title\":{\"text\":\"Bowler Economy distribution for each team\"}},                        {\"responsive\": true}                    ).then(function(){\n                            \nvar gd = document.getElementById('6306c0a0-4996-44da-8fab-5ea504f34bd2');\nvar x = new MutationObserver(function (mutations, observer) {{\n        var display = window.getComputedStyle(gd).display;\n        if (!display || display === 'none') {{\n            console.log([gd, 'removed!']);\n            Plotly.purge(gd);\n            observer.disconnect();\n        }}\n}});\n\n// Listen for the removal of the full notebook cells\nvar notebookContainer = gd.closest('#notebook-container');\nif (notebookContainer) {{\n    x.observe(notebookContainer, {childList: true});\n}}\n\n// Listen for the clearing of the current output cell\nvar outputEl = gd.closest('.output');\nif (outputEl) {{\n    x.observe(outputEl, {childList: true});\n}}\n\n                        })                };                });            </script>        </div>"
          },
          "metadata": {}
        }
      ],
      "source": [
        "#bowler box\n",
        "\n",
        "trace0 = go.Box(y = df_bowler.loc[df_bowler['Bowling_team'] == 'Peshawar Zalmi', 'Economy'], name = 'Peshawar Zalmi', boxmean = 'sd', boxpoints = 'all')\n",
        "trace1 = go.Box(y = df_bowler.loc[df_bowler['Bowling_team'] == 'Islamabad United', 'Economy'], name = 'Islamabad United', boxmean = 'sd', boxpoints = 'all')\n",
        "trace2 = go.Box(y = df_bowler.loc[df_bowler['Bowling_team'] == 'Quetta Gladiators', 'Economy'], name = 'Quetta Gladiators', boxmean = 'sd', boxpoints = 'all')\n",
        "trace3 = go.Box(y = df_bowler.loc[df_bowler['Bowling_team'] == 'Karachi Kings', 'Economy'], name = 'Karachi Kings' , boxmean = 'sd', boxpoints = 'all')\n",
        "trace4 = go.Box(y = df_bowler.loc[df_bowler['Bowling_team'] == 'Lahore Qalandars', 'Economy'], name = 'Lahore Qalandars' , boxmean = 'sd', boxpoints = 'all')\n",
        "\n",
        "data = [trace0, trace1, trace2, trace3, trace4]\n",
        "\n",
        "fig111 = go.Figure(data = data)\n",
        "fig111.layout.title = dict(text = \"Bowler Economy distribution for each team\" )\n",
        "fig111.show()\n",
        "\n",
        "##PESHAWAR ZALMI standout - 9 regular bowlwers, smallest median, 6 bowlers qith economy bteeer tahn 7\n",
        "##Lahore comes close with 3 bowlers alomst less than 7"
      ]
    },
    {
      "cell_type": "code",
      "execution_count": null,
      "metadata": {},
      "outputs": [],
      "source": [
        "# ##Setting up a ranking datafrane\n",
        "\n",
        "# dfscore = df_batAvg[['Batsman_strike', 'Batting_team','AvgRuns_match', 'Strike_rate', 'Var']].rename(columns = {'Batsman_strike': 'Player', 'Batting_team':'Team','Var': 'Bat_var'}).merge(df_bowler[['Bowler', 'Economy', 'AvgWicket','AvgDeliveries_bowled', 'Var', 'Bowling_team']].rename(columns = {'Bowler':'Player','Var':'Bowl_var','Bowling_team':'Team'}), on = ['Player','Team'], how = 'outer').fillna(value = 0)                                                                                                          \n",
        "\n",
        "\n",
        "##Player Ranking Metrics\n",
        "\n",
        "# f = 'Strike_rate'\n",
        "# g = 'AvgRuns_match'\n",
        "# h = 'AvgWicket'\n",
        "\n",
        "\n",
        "# Batsman = np.quantile(dfscore['AvgRuns_match'], 0.5)\n",
        "# Batvarmean = dfscore.loc[dfscore['AvgRuns_match'] >= Batsman, \"Bat_var\"].mean()\n",
        "\n",
        "\n",
        "# Bowlvarmean = dfscore.loc[dfscore['AvgDeliveries_bowled'] >= 0, \"Bowl_var\"].mean()\n",
        "\n",
        "# dfscore['BatVarRank'] = np.zeros(len(dfscore))\n",
        "\n",
        "# dfscore['BowlVarRank'] = np.zeros(len(dfscore))\n",
        "\n",
        "\n",
        "## foour quarters 0,1,2,3\n",
        "## should be based on np quartiles\n",
        "## lets make it if score is 0 then 0, less than 0.25:1 less than 0.5:2, 0.75:3 greater than 0.75:4\n",
        "\n",
        "##Awarding Average Runs\n",
        "# def greaterf(x):\n",
        "#         if x == 0:\n",
        "#             return 0\n",
        "#         if x >= 1.25 * dfscore[f].mean():\n",
        "#             return 3\n",
        "#         if x<= 0.75 *dfscore[f].mean():\n",
        "#             return  1\n",
        "#         else:\n",
        "#             return 2\n",
        "\n",
        "\n",
        "# def greaterg(x):\n",
        "#         if x == 0:\n",
        "#             return 0\n",
        "#         if x >= 1.25 * dfscore[g].mean():\n",
        "#             return 3\n",
        "#         if x<= 0.75 *dfscore[g].mean():\n",
        "#             return  1\n",
        "#         else:\n",
        "#             return 2\n",
        "\n",
        "# def greaterh(x):\n",
        "#         if x == 0:\n",
        "#             return 0\n",
        "#         if x >= 1.25 * dfscore[h].mean():\n",
        "#             return 3\n",
        "#         if x<= 0.75 *dfscore[h].mean():\n",
        "#             return  1\n",
        "#         else:\n",
        "#             return 2\n",
        "\n",
        "\n",
        "# dfscore[f + str('Rank')] = dfscore[f].map(lambda x: greaterf(x))    \n",
        "# dfscore[g + str('Rank')] = dfscore[g].map(lambda x: greaterg(x))\n",
        "# dfscore[h + str('Rank')] = dfscore[h].map(lambda x: greaterh(x))\n",
        "\n",
        "# def ecorank(x):\n",
        "#     if x == 0:\n",
        "#         return 0\n",
        "#     elif x >= 1.25 * dfscore.loc[dfscore['AvgDeliveries_bowled'] >= 0, \"Economy\"].mean():\n",
        "#         return 1\n",
        "#     elif x <= 0.75 * dfscore.loc[dfscore['AvgDeliveries_bowled'] >= 0, \"Economy\"].mean():\n",
        "#         return 3\n",
        "#     else:\n",
        "#         return 2\n",
        "    \n",
        "# dfscore['EconomyRank'] = dfscore['Economy'].map(lambda x: ecorank(x))\n",
        "\n",
        "\n",
        "# for i in range(len(dfscore)):\n",
        "#     if dfscore.iloc[i]['AvgRuns_match'] <= Batsman:\n",
        "#         dfscore['BatVarRank'].iloc[i] = 0\n",
        "#     elif dfscore['Bat_var'].iloc[i] >= (1.25 * Batvarmean):  \n",
        "#         dfscore['BatVarRank'].iloc[i] = 1\n",
        "#     elif dfscore.iloc[i]['Bat_var'] <= 0.75 * Bowlvarmean:\n",
        "#         dfscore['BatVarRank'].iloc[i] = 3\n",
        "#     else:\n",
        "#         dfscore['BatVarRank'].iloc[i] = 2\n",
        "        \n",
        "        \n",
        "        \n",
        "# for i in range(len(dfscore)):\n",
        "#     if dfscore.iloc[i]['AvgDeliveries_bowled'] == 0:\n",
        "#         dfscore['BowlVarRank'].iloc[i] = 0\n",
        "#     elif dfscore['Bowl_var'].iloc[i] >= (1.25 * Bowlvarmean):  \n",
        "#         dfscore['BowlVarRank'].iloc[i] = 1\n",
        "#     elif dfscore.iloc[i]['Bowl_var'] <= 0.75 * Bowlvarmean:\n",
        "#         dfscore['BowlVarRank'].iloc[i] = 3\n",
        "#     else:\n",
        "#         dfscore['BowlVarRank'].iloc[i] = 2\n",
        "\n",
        "\n",
        "\n",
        "# ##Creating PlayerScore column as the sum of all metrics\n",
        "\n",
        "# dfscore['PlayerScore'] = dfscore['AvgRuns_matchRank'] + dfscore['Strike_rateRank'] + dfscore['AvgWicketRank'] + dfscore['BatVarRank'] + dfscore['BowlVarRank'] + dfscore['EconomyRank']\n",
        "\n",
        "\n",
        "# ##Ranking levels\n",
        "\n",
        "# def mvprank(x):\n",
        "#     if x >= np.quantile(dfscore['PlayerScore'], 0.90):\n",
        "#         return 4\n",
        "#     elif x >= np.quantile(dfscore['PlayerScore'], 0.75):\n",
        "#             return 3\n",
        "#     elif x <= np.quantile(dfscore['PlayerScore'], 0.50):\n",
        "#             return 1\n",
        "#     else:\n",
        "#         return 2\n",
        "    \n",
        "# dfscore['PlayerRank'] = dfscore['PlayerScore'].map(lambda x: mvprank(x))\n",
        "# dfscore['MVP'] = np.zeros(len(dfscore))\n",
        "# dfscore.loc[dfscore['PlayerRank']==4,'MVP'] = 'MVP'\n",
        "# dfscore.loc[dfscore['PlayerRank']==3, 'MVP'] = 'VP'\n",
        "# dfscore.loc[dfscore['PlayerRank'] <3, 'MVP'] = 'Below Average'\n",
        "\n",
        "\n",
        "# ## Top 10 Players\n",
        "# dfscore.sort_values(by = 'PlayerScore', ascending = False).head(10)\n",
        "\n",
        "\n",
        "# #Boxplot\n",
        "\n",
        "\n",
        "# trace0 = go.Box(y = dfscore.loc[dfscore['Team'] == 'Peshawar Zalmi', 'PlayerScore'], name = 'Peshawar Zalmi', boxmean = 'sd', boxpoints = 'all')\n",
        "# trace1 = go.Box(y = dfscore.loc[dfscore['Team'] == 'Islamabad United', 'PlayerScore'], name = 'Islamabad United', boxmean = 'sd', boxpoints = 'all')\n",
        "# trace2 = go.Box(y = dfscore.loc[dfscore['Team'] == 'Quetta Gladiators', 'PlayerScore'], name = 'Quetta Gladiators', boxmean = 'sd', boxpoints = 'all')\n",
        "# trace3 = go.Box(y = dfscore.loc[dfscore['Team'] == 'Karachi Kings', 'PlayerScore'], name = 'Karachi Kings' , boxmean = 'sd', boxpoints = 'all')\n",
        "# trace4 = go.Box(y = dfscore.loc[dfscore['Team'] == 'Lahore Qalandars', 'PlayerScore'], name = 'Lahore Qalandars' , boxmean = 'sd', boxpoints = 'all')\n",
        "\n",
        "# data = [trace0, trace1, trace2, trace3, trace4]\n",
        "\n",
        "# fig111 = go.Figure(data = data)\n",
        "# fig111.layout.title = dict(text = \"Player Score distribution for each team\" )\n",
        "\n",
        "# plotly.offline.plot(fig111, include_plotlyjs = False, output_type = 'div')\n",
        "\n",
        "#histogram\n"
      ]
    },
    {
      "cell_type": "code",
      "execution_count": 537,
      "metadata": {
        "tags": []
      },
      "outputs": [],
      "source": [
        "dfscore = df_batAvg[['Batsman_strike', 'Batting_team','TotalRuns','AvgRuns_match', 'Strike_rate', 'Var']].rename(columns = {'Batsman_strike': 'Player', 'Batting_team':'Team','Var': 'Bat_var'}).merge(df_bowler[['Bowler', 'Economy','wicket' ,'AvgWicket','AvgDeliveries_bowled', 'TotalDeliveries', 'Var', 'Bowling_team']].rename(columns = {'Bowler':'Player','Var':'Bowl_var','Bowling_team':'Team'}), on = ['Player','Team'], how = 'outer').fillna(value = 0)     \n",
        "\n",
        "# h = 'AvgWicket'\n",
        "metricsPostiveIncrement = ['Strike_rate','TotalRuns', 'wicket']\n",
        "metricsNegativeIncrement = ['Economy', 'Bat_var', 'Bowl_var']\n",
        "\n",
        "\n",
        "for positiveMetric in metricsPostiveIncrement:\n",
        "            dfscore[positiveMetric+'Rank'] = np.zeros(len(dfscore))\n",
        "for negativeMetric in metricsNegativeIncrement:\n",
        "            dfscore[negativeMetric+'Rank'] = np.zeros(len(dfscore))\n",
        "\n",
        "def awardingPositiveIncrement(metric, index):\n",
        "    #To only compare against bowlers\n",
        "    x = dfscore[metric].iloc[index]\n",
        "    not_bat_bowl = False\n",
        "    if metric == 'wicket':\n",
        "        quantile = dfscore.loc[dfscore['TotalDeliveries'] > 50, metric] \n",
        "        not_bat_bowl = dfscore['TotalDeliveries'].iloc[index] < 50\n",
        "    else:\n",
        "        quantile = dfscore.loc[dfscore['TotalRuns'] > 50, metric]\n",
        "        not_bat_bowl  = dfscore['TotalRuns'].iloc[index] < 50\n",
        "    if (x == 0) | (not_bat_bowl):\n",
        "        return 0\n",
        "    if x <= np.quantile(quantile,0.25):\n",
        "        return 1\n",
        "    if x<=  np.quantile(quantile,0.5):\n",
        "        return  2\n",
        "    if x<=  np.quantile(quantile,0.75):\n",
        "        return  3\n",
        "    else:\n",
        "        return 4\n",
        "\n",
        "def awardingNegativeIncrement(metric, index):\n",
        "    x = dfscore[metric].iloc[index]\n",
        "    not_bat_bowl = False\n",
        "   \n",
        "    if metric == 'Bat_var':\n",
        "        mean = dfscore.loc[dfscore['TotalRuns'] > 50, metric].mean()\n",
        "        not_bat_bowl = dfscore['TotalRuns'].iloc[index] < 50\n",
        "    elif metric == \"Bowl_var\":\n",
        "        mean = dfscore.loc[dfscore['TotalDeliveries'] > 50, metric].mean()\n",
        "        not_bat_bowl = dfscore['TotalDeliveries'].iloc[index] < 50\n",
        "    else:\n",
        "        mean = dfscore.loc[dfscore['TotalDeliveries'] > 50, metric].mean()\n",
        "\n",
        "    if (x == 0) | (not_bat_bowl):\n",
        "        return 0\n",
        "    elif x >=  1.5*mean:\n",
        "        return 1\n",
        "    elif ((x >=  mean) & (x < 1.5*mean)):\n",
        "        return 2\n",
        "    elif x <= 0.25*mean:\n",
        "        return 4\n",
        "    else:\n",
        "        return 3  \n",
        "\n",
        "def awardingMetric(index):\n",
        "    for positiveMetric in metricsPostiveIncrement:\n",
        "            dfscore[positiveMetric+'Rank'].iloc[index] = awardingPositiveIncrement(positiveMetric, index) \n",
        "    for negativeMetric in metricsNegativeIncrement:\n",
        "            dfscore[negativeMetric+'Rank'].iloc[index] = awardingNegativeIncrement(negativeMetric , index) \n",
        "    return dfscore \n",
        "\n",
        "for index in range(len(dfscore)):\n",
        "    awardingMetric(index)\n",
        "\n",
        "\n",
        "##Awarding Average Runs\n",
        "# def greaterg(x):\n",
        "#         if x == 0:\n",
        "#             return 0\n",
        "#         if x =< 1.25 * dfscore[g].mean():\n",
        "#             return 3\n",
        "#         if x<= 0.75 *dfscore[g].mean():\n",
        "#             return  1\n",
        "#         else:\n",
        "#             return 2\n",
        "\n",
        "##Awarding Wickets\n",
        "# def greaterh(x):\n",
        "#       for i in Metric:\n",
        "#         if x == 0:\n",
        "#             return 0\n",
        "#         if x >= 1.25 * dfscore[h].mean():\n",
        "#             return 3\n",
        "#         if x<= 0.75 *dfscore[h].mean():\n",
        "#             return  1\n",
        "#         else:\n",
        "#             return 2\n",
        "\n",
        "\n",
        "#\n",
        "##awarding players\n",
        "# dfscore[Strike_rate + str('Rank')] = dfscore[Strike_rate].map(lambda x: awardingMetric(x))    \n",
        "# dfscore[TotalRuns + str('Rank')] = dfscore[TotalRuns].map(lambda x: awardingMetric(x))\n",
        "# dfscore[h + str('Rank')] = dfscore[h].map(lambda x: greaterh(x))\n",
        "\n",
        "\n",
        "\n",
        "##Creating PlayerScore column as the sum of all metrics\n",
        "dfscore['PlayerScore'] = dfscore['TotalRunsRank'] + dfscore['Strike_rateRank'] + dfscore['wicketRank'] + dfscore['EconomyRank'] + dfscore['Bat_varRank'] + dfscore['Bowl_varRank']"
      ]
    },
    {
      "cell_type": "code",
      "execution_count": 538,
      "metadata": {},
      "outputs": [
        {
          "output_type": "display_data",
          "data": {
            "application/vnd.plotly.v1+json": {
              "data": [
                {
                  "name": "Peshawar Zalmi",
                  "opacity": 0.75,
                  "x": [
                    7,
                    14,
                    6,
                    12,
                    3,
                    11,
                    3,
                    3,
                    10,
                    0,
                    0,
                    9,
                    8,
                    10,
                    0,
                    6,
                    0,
                    7
                  ],
                  "type": "histogram",
                  "xaxis": "x",
                  "yaxis": "y"
                },
                {
                  "name": "Karachi Kings",
                  "opacity": 0.75,
                  "x": [
                    5,
                    6,
                    11,
                    8,
                    4,
                    7,
                    12,
                    8,
                    0,
                    10,
                    0,
                    9,
                    9
                  ],
                  "type": "histogram",
                  "xaxis": "x3",
                  "yaxis": "y3"
                },
                {
                  "name": "Islamabad United",
                  "opacity": 0.75,
                  "x": [
                    6,
                    14,
                    4,
                    4,
                    6,
                    4,
                    14,
                    0,
                    0,
                    0,
                    0,
                    10,
                    0,
                    0,
                    0,
                    11,
                    8,
                    4
                  ],
                  "type": "histogram",
                  "xaxis": "x4",
                  "yaxis": "y4"
                },
                {
                  "name": "Quetta Gladiators",
                  "opacity": 0.75,
                  "x": [
                    6,
                    8,
                    7,
                    7,
                    3,
                    9,
                    5,
                    8,
                    8,
                    0,
                    7,
                    0,
                    0,
                    0,
                    0,
                    0,
                    8,
                    0,
                    8
                  ],
                  "type": "histogram",
                  "xaxis": "x5",
                  "yaxis": "y5"
                },
                {
                  "name": "Lahore Qalandars",
                  "opacity": 0.75,
                  "x": [
                    7,
                    7,
                    6,
                    4,
                    15,
                    3,
                    5,
                    8,
                    9,
                    6,
                    9,
                    5,
                    7,
                    0
                  ],
                  "type": "histogram",
                  "xaxis": "x6",
                  "yaxis": "y6"
                }
              ],
              "layout": {
                "template": {
                  "data": {
                    "histogram2dcontour": [
                      {
                        "type": "histogram2dcontour",
                        "colorbar": {
                          "outlinewidth": 0,
                          "ticks": ""
                        },
                        "colorscale": [
                          [
                            0,
                            "#0d0887"
                          ],
                          [
                            0.1111111111111111,
                            "#46039f"
                          ],
                          [
                            0.2222222222222222,
                            "#7201a8"
                          ],
                          [
                            0.3333333333333333,
                            "#9c179e"
                          ],
                          [
                            0.4444444444444444,
                            "#bd3786"
                          ],
                          [
                            0.5555555555555556,
                            "#d8576b"
                          ],
                          [
                            0.6666666666666666,
                            "#ed7953"
                          ],
                          [
                            0.7777777777777778,
                            "#fb9f3a"
                          ],
                          [
                            0.8888888888888888,
                            "#fdca26"
                          ],
                          [
                            1,
                            "#f0f921"
                          ]
                        ]
                      }
                    ],
                    "choropleth": [
                      {
                        "type": "choropleth",
                        "colorbar": {
                          "outlinewidth": 0,
                          "ticks": ""
                        }
                      }
                    ],
                    "histogram2d": [
                      {
                        "type": "histogram2d",
                        "colorbar": {
                          "outlinewidth": 0,
                          "ticks": ""
                        },
                        "colorscale": [
                          [
                            0,
                            "#0d0887"
                          ],
                          [
                            0.1111111111111111,
                            "#46039f"
                          ],
                          [
                            0.2222222222222222,
                            "#7201a8"
                          ],
                          [
                            0.3333333333333333,
                            "#9c179e"
                          ],
                          [
                            0.4444444444444444,
                            "#bd3786"
                          ],
                          [
                            0.5555555555555556,
                            "#d8576b"
                          ],
                          [
                            0.6666666666666666,
                            "#ed7953"
                          ],
                          [
                            0.7777777777777778,
                            "#fb9f3a"
                          ],
                          [
                            0.8888888888888888,
                            "#fdca26"
                          ],
                          [
                            1,
                            "#f0f921"
                          ]
                        ]
                      }
                    ],
                    "heatmap": [
                      {
                        "type": "heatmap",
                        "colorbar": {
                          "outlinewidth": 0,
                          "ticks": ""
                        },
                        "colorscale": [
                          [
                            0,
                            "#0d0887"
                          ],
                          [
                            0.1111111111111111,
                            "#46039f"
                          ],
                          [
                            0.2222222222222222,
                            "#7201a8"
                          ],
                          [
                            0.3333333333333333,
                            "#9c179e"
                          ],
                          [
                            0.4444444444444444,
                            "#bd3786"
                          ],
                          [
                            0.5555555555555556,
                            "#d8576b"
                          ],
                          [
                            0.6666666666666666,
                            "#ed7953"
                          ],
                          [
                            0.7777777777777778,
                            "#fb9f3a"
                          ],
                          [
                            0.8888888888888888,
                            "#fdca26"
                          ],
                          [
                            1,
                            "#f0f921"
                          ]
                        ]
                      }
                    ],
                    "heatmapgl": [
                      {
                        "type": "heatmapgl",
                        "colorbar": {
                          "outlinewidth": 0,
                          "ticks": ""
                        },
                        "colorscale": [
                          [
                            0,
                            "#0d0887"
                          ],
                          [
                            0.1111111111111111,
                            "#46039f"
                          ],
                          [
                            0.2222222222222222,
                            "#7201a8"
                          ],
                          [
                            0.3333333333333333,
                            "#9c179e"
                          ],
                          [
                            0.4444444444444444,
                            "#bd3786"
                          ],
                          [
                            0.5555555555555556,
                            "#d8576b"
                          ],
                          [
                            0.6666666666666666,
                            "#ed7953"
                          ],
                          [
                            0.7777777777777778,
                            "#fb9f3a"
                          ],
                          [
                            0.8888888888888888,
                            "#fdca26"
                          ],
                          [
                            1,
                            "#f0f921"
                          ]
                        ]
                      }
                    ],
                    "contourcarpet": [
                      {
                        "type": "contourcarpet",
                        "colorbar": {
                          "outlinewidth": 0,
                          "ticks": ""
                        }
                      }
                    ],
                    "contour": [
                      {
                        "type": "contour",
                        "colorbar": {
                          "outlinewidth": 0,
                          "ticks": ""
                        },
                        "colorscale": [
                          [
                            0,
                            "#0d0887"
                          ],
                          [
                            0.1111111111111111,
                            "#46039f"
                          ],
                          [
                            0.2222222222222222,
                            "#7201a8"
                          ],
                          [
                            0.3333333333333333,
                            "#9c179e"
                          ],
                          [
                            0.4444444444444444,
                            "#bd3786"
                          ],
                          [
                            0.5555555555555556,
                            "#d8576b"
                          ],
                          [
                            0.6666666666666666,
                            "#ed7953"
                          ],
                          [
                            0.7777777777777778,
                            "#fb9f3a"
                          ],
                          [
                            0.8888888888888888,
                            "#fdca26"
                          ],
                          [
                            1,
                            "#f0f921"
                          ]
                        ]
                      }
                    ],
                    "surface": [
                      {
                        "type": "surface",
                        "colorbar": {
                          "outlinewidth": 0,
                          "ticks": ""
                        },
                        "colorscale": [
                          [
                            0,
                            "#0d0887"
                          ],
                          [
                            0.1111111111111111,
                            "#46039f"
                          ],
                          [
                            0.2222222222222222,
                            "#7201a8"
                          ],
                          [
                            0.3333333333333333,
                            "#9c179e"
                          ],
                          [
                            0.4444444444444444,
                            "#bd3786"
                          ],
                          [
                            0.5555555555555556,
                            "#d8576b"
                          ],
                          [
                            0.6666666666666666,
                            "#ed7953"
                          ],
                          [
                            0.7777777777777778,
                            "#fb9f3a"
                          ],
                          [
                            0.8888888888888888,
                            "#fdca26"
                          ],
                          [
                            1,
                            "#f0f921"
                          ]
                        ]
                      }
                    ],
                    "mesh3d": [
                      {
                        "type": "mesh3d",
                        "colorbar": {
                          "outlinewidth": 0,
                          "ticks": ""
                        }
                      }
                    ],
                    "scatter": [
                      {
                        "fillpattern": {
                          "fillmode": "overlay",
                          "size": 10,
                          "solidity": 0.2
                        },
                        "type": "scatter"
                      }
                    ],
                    "parcoords": [
                      {
                        "type": "parcoords",
                        "line": {
                          "colorbar": {
                            "outlinewidth": 0,
                            "ticks": ""
                          }
                        }
                      }
                    ],
                    "scatterpolargl": [
                      {
                        "type": "scatterpolargl",
                        "marker": {
                          "colorbar": {
                            "outlinewidth": 0,
                            "ticks": ""
                          }
                        }
                      }
                    ],
                    "bar": [
                      {
                        "error_x": {
                          "color": "#2a3f5f"
                        },
                        "error_y": {
                          "color": "#2a3f5f"
                        },
                        "marker": {
                          "line": {
                            "color": "#E5ECF6",
                            "width": 0.5
                          },
                          "pattern": {
                            "fillmode": "overlay",
                            "size": 10,
                            "solidity": 0.2
                          }
                        },
                        "type": "bar"
                      }
                    ],
                    "scattergeo": [
                      {
                        "type": "scattergeo",
                        "marker": {
                          "colorbar": {
                            "outlinewidth": 0,
                            "ticks": ""
                          }
                        }
                      }
                    ],
                    "scatterpolar": [
                      {
                        "type": "scatterpolar",
                        "marker": {
                          "colorbar": {
                            "outlinewidth": 0,
                            "ticks": ""
                          }
                        }
                      }
                    ],
                    "histogram": [
                      {
                        "marker": {
                          "pattern": {
                            "fillmode": "overlay",
                            "size": 10,
                            "solidity": 0.2
                          }
                        },
                        "type": "histogram"
                      }
                    ],
                    "scattergl": [
                      {
                        "type": "scattergl",
                        "marker": {
                          "colorbar": {
                            "outlinewidth": 0,
                            "ticks": ""
                          }
                        }
                      }
                    ],
                    "scatter3d": [
                      {
                        "type": "scatter3d",
                        "line": {
                          "colorbar": {
                            "outlinewidth": 0,
                            "ticks": ""
                          }
                        },
                        "marker": {
                          "colorbar": {
                            "outlinewidth": 0,
                            "ticks": ""
                          }
                        }
                      }
                    ],
                    "scattermapbox": [
                      {
                        "type": "scattermapbox",
                        "marker": {
                          "colorbar": {
                            "outlinewidth": 0,
                            "ticks": ""
                          }
                        }
                      }
                    ],
                    "scatterternary": [
                      {
                        "type": "scatterternary",
                        "marker": {
                          "colorbar": {
                            "outlinewidth": 0,
                            "ticks": ""
                          }
                        }
                      }
                    ],
                    "scattercarpet": [
                      {
                        "type": "scattercarpet",
                        "marker": {
                          "colorbar": {
                            "outlinewidth": 0,
                            "ticks": ""
                          }
                        }
                      }
                    ],
                    "carpet": [
                      {
                        "aaxis": {
                          "endlinecolor": "#2a3f5f",
                          "gridcolor": "white",
                          "linecolor": "white",
                          "minorgridcolor": "white",
                          "startlinecolor": "#2a3f5f"
                        },
                        "baxis": {
                          "endlinecolor": "#2a3f5f",
                          "gridcolor": "white",
                          "linecolor": "white",
                          "minorgridcolor": "white",
                          "startlinecolor": "#2a3f5f"
                        },
                        "type": "carpet"
                      }
                    ],
                    "table": [
                      {
                        "cells": {
                          "fill": {
                            "color": "#EBF0F8"
                          },
                          "line": {
                            "color": "white"
                          }
                        },
                        "header": {
                          "fill": {
                            "color": "#C8D4E3"
                          },
                          "line": {
                            "color": "white"
                          }
                        },
                        "type": "table"
                      }
                    ],
                    "barpolar": [
                      {
                        "marker": {
                          "line": {
                            "color": "#E5ECF6",
                            "width": 0.5
                          },
                          "pattern": {
                            "fillmode": "overlay",
                            "size": 10,
                            "solidity": 0.2
                          }
                        },
                        "type": "barpolar"
                      }
                    ],
                    "pie": [
                      {
                        "automargin": true,
                        "type": "pie"
                      }
                    ]
                  },
                  "layout": {
                    "autotypenumbers": "strict",
                    "colorway": [
                      "#636efa",
                      "#EF553B",
                      "#00cc96",
                      "#ab63fa",
                      "#FFA15A",
                      "#19d3f3",
                      "#FF6692",
                      "#B6E880",
                      "#FF97FF",
                      "#FECB52"
                    ],
                    "font": {
                      "color": "#2a3f5f"
                    },
                    "hovermode": "closest",
                    "hoverlabel": {
                      "align": "left"
                    },
                    "paper_bgcolor": "white",
                    "plot_bgcolor": "#E5ECF6",
                    "polar": {
                      "bgcolor": "#E5ECF6",
                      "angularaxis": {
                        "gridcolor": "white",
                        "linecolor": "white",
                        "ticks": ""
                      },
                      "radialaxis": {
                        "gridcolor": "white",
                        "linecolor": "white",
                        "ticks": ""
                      }
                    },
                    "ternary": {
                      "bgcolor": "#E5ECF6",
                      "aaxis": {
                        "gridcolor": "white",
                        "linecolor": "white",
                        "ticks": ""
                      },
                      "baxis": {
                        "gridcolor": "white",
                        "linecolor": "white",
                        "ticks": ""
                      },
                      "caxis": {
                        "gridcolor": "white",
                        "linecolor": "white",
                        "ticks": ""
                      }
                    },
                    "coloraxis": {
                      "colorbar": {
                        "outlinewidth": 0,
                        "ticks": ""
                      }
                    },
                    "colorscale": {
                      "sequential": [
                        [
                          0,
                          "#0d0887"
                        ],
                        [
                          0.1111111111111111,
                          "#46039f"
                        ],
                        [
                          0.2222222222222222,
                          "#7201a8"
                        ],
                        [
                          0.3333333333333333,
                          "#9c179e"
                        ],
                        [
                          0.4444444444444444,
                          "#bd3786"
                        ],
                        [
                          0.5555555555555556,
                          "#d8576b"
                        ],
                        [
                          0.6666666666666666,
                          "#ed7953"
                        ],
                        [
                          0.7777777777777778,
                          "#fb9f3a"
                        ],
                        [
                          0.8888888888888888,
                          "#fdca26"
                        ],
                        [
                          1,
                          "#f0f921"
                        ]
                      ],
                      "sequentialminus": [
                        [
                          0,
                          "#0d0887"
                        ],
                        [
                          0.1111111111111111,
                          "#46039f"
                        ],
                        [
                          0.2222222222222222,
                          "#7201a8"
                        ],
                        [
                          0.3333333333333333,
                          "#9c179e"
                        ],
                        [
                          0.4444444444444444,
                          "#bd3786"
                        ],
                        [
                          0.5555555555555556,
                          "#d8576b"
                        ],
                        [
                          0.6666666666666666,
                          "#ed7953"
                        ],
                        [
                          0.7777777777777778,
                          "#fb9f3a"
                        ],
                        [
                          0.8888888888888888,
                          "#fdca26"
                        ],
                        [
                          1,
                          "#f0f921"
                        ]
                      ],
                      "diverging": [
                        [
                          0,
                          "#8e0152"
                        ],
                        [
                          0.1,
                          "#c51b7d"
                        ],
                        [
                          0.2,
                          "#de77ae"
                        ],
                        [
                          0.3,
                          "#f1b6da"
                        ],
                        [
                          0.4,
                          "#fde0ef"
                        ],
                        [
                          0.5,
                          "#f7f7f7"
                        ],
                        [
                          0.6,
                          "#e6f5d0"
                        ],
                        [
                          0.7,
                          "#b8e186"
                        ],
                        [
                          0.8,
                          "#7fbc41"
                        ],
                        [
                          0.9,
                          "#4d9221"
                        ],
                        [
                          1,
                          "#276419"
                        ]
                      ]
                    },
                    "xaxis": {
                      "gridcolor": "white",
                      "linecolor": "white",
                      "ticks": "",
                      "title": {
                        "standoff": 15
                      },
                      "zerolinecolor": "white",
                      "automargin": true,
                      "zerolinewidth": 2
                    },
                    "yaxis": {
                      "gridcolor": "white",
                      "linecolor": "white",
                      "ticks": "",
                      "title": {
                        "standoff": 15
                      },
                      "zerolinecolor": "white",
                      "automargin": true,
                      "zerolinewidth": 2
                    },
                    "scene": {
                      "xaxis": {
                        "backgroundcolor": "#E5ECF6",
                        "gridcolor": "white",
                        "linecolor": "white",
                        "showbackground": true,
                        "ticks": "",
                        "zerolinecolor": "white",
                        "gridwidth": 2
                      },
                      "yaxis": {
                        "backgroundcolor": "#E5ECF6",
                        "gridcolor": "white",
                        "linecolor": "white",
                        "showbackground": true,
                        "ticks": "",
                        "zerolinecolor": "white",
                        "gridwidth": 2
                      },
                      "zaxis": {
                        "backgroundcolor": "#E5ECF6",
                        "gridcolor": "white",
                        "linecolor": "white",
                        "showbackground": true,
                        "ticks": "",
                        "zerolinecolor": "white",
                        "gridwidth": 2
                      }
                    },
                    "shapedefaults": {
                      "line": {
                        "color": "#2a3f5f"
                      }
                    },
                    "annotationdefaults": {
                      "arrowcolor": "#2a3f5f",
                      "arrowhead": 0,
                      "arrowwidth": 1
                    },
                    "geo": {
                      "bgcolor": "white",
                      "landcolor": "#E5ECF6",
                      "subunitcolor": "white",
                      "showland": true,
                      "showlakes": true,
                      "lakecolor": "white"
                    },
                    "title": {
                      "x": 0.05
                    },
                    "mapbox": {
                      "style": "light"
                    }
                  }
                },
                "xaxis": {
                  "dtick": 10,
                  "tickmode": "linear"
                },
                "yaxis": {
                  "anchor": "x",
                  "domain": [
                    0.7333333333333333,
                    1
                  ]
                },
                "xaxis2": {
                  "anchor": "y2",
                  "domain": [
                    0.55,
                    1
                  ]
                },
                "yaxis2": {
                  "anchor": "x2",
                  "domain": [
                    0.7333333333333333,
                    1
                  ]
                },
                "xaxis3": {
                  "anchor": "y3",
                  "domain": [
                    0,
                    0.45
                  ]
                },
                "yaxis3": {
                  "anchor": "x3",
                  "domain": [
                    0.36666666666666664,
                    0.6333333333333333
                  ]
                },
                "xaxis4": {
                  "anchor": "y4",
                  "domain": [
                    0.55,
                    1
                  ]
                },
                "yaxis4": {
                  "anchor": "x4",
                  "domain": [
                    0.36666666666666664,
                    0.6333333333333333
                  ]
                },
                "xaxis5": {
                  "anchor": "y5",
                  "domain": [
                    0,
                    0.45
                  ]
                },
                "yaxis5": {
                  "anchor": "x5",
                  "domain": [
                    0,
                    0.26666666666666666
                  ]
                },
                "xaxis6": {
                  "anchor": "y6",
                  "domain": [
                    0.55,
                    1
                  ]
                },
                "yaxis6": {
                  "anchor": "x6",
                  "domain": [
                    0,
                    0.26666666666666666
                  ]
                },
                "title": {
                  "text": "Distribution of Player Scores"
                }
              },
              "config": {
                "plotlyServerURL": "https://plot.ly"
              }
            },
            "text/html": "<div>                            <div id=\"36ece823-43ed-4aea-884a-2938787bcba8\" class=\"plotly-graph-div\" style=\"height:525px; width:100%;\"></div>            <script type=\"text/javascript\">                require([\"plotly\"], function(Plotly) {                    window.PLOTLYENV=window.PLOTLYENV || {};                                    if (document.getElementById(\"36ece823-43ed-4aea-884a-2938787bcba8\")) {                    Plotly.newPlot(                        \"36ece823-43ed-4aea-884a-2938787bcba8\",                        [{\"name\":\"Peshawar Zalmi\",\"opacity\":0.75,\"x\":[7.0,14.0,6.0,12.0,3.0,11.0,3.0,3.0,10.0,0.0,0.0,9.0,8.0,10.0,0.0,6.0,0.0,7.0],\"type\":\"histogram\",\"xaxis\":\"x\",\"yaxis\":\"y\"},{\"name\":\"Karachi Kings\",\"opacity\":0.75,\"x\":[5.0,6.0,11.0,8.0,4.0,7.0,12.0,8.0,0.0,10.0,0.0,9.0,9.0],\"type\":\"histogram\",\"xaxis\":\"x3\",\"yaxis\":\"y3\"},{\"name\":\"Islamabad United\",\"opacity\":0.75,\"x\":[6.0,14.0,4.0,4.0,6.0,4.0,14.0,0.0,0.0,0.0,0.0,10.0,0.0,0.0,0.0,11.0,8.0,4.0],\"type\":\"histogram\",\"xaxis\":\"x4\",\"yaxis\":\"y4\"},{\"name\":\"Quetta Gladiators\",\"opacity\":0.75,\"x\":[6.0,8.0,7.0,7.0,3.0,9.0,5.0,8.0,8.0,0.0,7.0,0.0,0.0,0.0,0.0,0.0,8.0,0.0,8.0],\"type\":\"histogram\",\"xaxis\":\"x5\",\"yaxis\":\"y5\"},{\"name\":\"Lahore Qalandars\",\"opacity\":0.75,\"x\":[7.0,7.0,6.0,4.0,15.0,3.0,5.0,8.0,9.0,6.0,9.0,5.0,7.0,0.0],\"type\":\"histogram\",\"xaxis\":\"x6\",\"yaxis\":\"y6\"}],                        {\"template\":{\"data\":{\"histogram2dcontour\":[{\"type\":\"histogram2dcontour\",\"colorbar\":{\"outlinewidth\":0,\"ticks\":\"\"},\"colorscale\":[[0.0,\"#0d0887\"],[0.1111111111111111,\"#46039f\"],[0.2222222222222222,\"#7201a8\"],[0.3333333333333333,\"#9c179e\"],[0.4444444444444444,\"#bd3786\"],[0.5555555555555556,\"#d8576b\"],[0.6666666666666666,\"#ed7953\"],[0.7777777777777778,\"#fb9f3a\"],[0.8888888888888888,\"#fdca26\"],[1.0,\"#f0f921\"]]}],\"choropleth\":[{\"type\":\"choropleth\",\"colorbar\":{\"outlinewidth\":0,\"ticks\":\"\"}}],\"histogram2d\":[{\"type\":\"histogram2d\",\"colorbar\":{\"outlinewidth\":0,\"ticks\":\"\"},\"colorscale\":[[0.0,\"#0d0887\"],[0.1111111111111111,\"#46039f\"],[0.2222222222222222,\"#7201a8\"],[0.3333333333333333,\"#9c179e\"],[0.4444444444444444,\"#bd3786\"],[0.5555555555555556,\"#d8576b\"],[0.6666666666666666,\"#ed7953\"],[0.7777777777777778,\"#fb9f3a\"],[0.8888888888888888,\"#fdca26\"],[1.0,\"#f0f921\"]]}],\"heatmap\":[{\"type\":\"heatmap\",\"colorbar\":{\"outlinewidth\":0,\"ticks\":\"\"},\"colorscale\":[[0.0,\"#0d0887\"],[0.1111111111111111,\"#46039f\"],[0.2222222222222222,\"#7201a8\"],[0.3333333333333333,\"#9c179e\"],[0.4444444444444444,\"#bd3786\"],[0.5555555555555556,\"#d8576b\"],[0.6666666666666666,\"#ed7953\"],[0.7777777777777778,\"#fb9f3a\"],[0.8888888888888888,\"#fdca26\"],[1.0,\"#f0f921\"]]}],\"heatmapgl\":[{\"type\":\"heatmapgl\",\"colorbar\":{\"outlinewidth\":0,\"ticks\":\"\"},\"colorscale\":[[0.0,\"#0d0887\"],[0.1111111111111111,\"#46039f\"],[0.2222222222222222,\"#7201a8\"],[0.3333333333333333,\"#9c179e\"],[0.4444444444444444,\"#bd3786\"],[0.5555555555555556,\"#d8576b\"],[0.6666666666666666,\"#ed7953\"],[0.7777777777777778,\"#fb9f3a\"],[0.8888888888888888,\"#fdca26\"],[1.0,\"#f0f921\"]]}],\"contourcarpet\":[{\"type\":\"contourcarpet\",\"colorbar\":{\"outlinewidth\":0,\"ticks\":\"\"}}],\"contour\":[{\"type\":\"contour\",\"colorbar\":{\"outlinewidth\":0,\"ticks\":\"\"},\"colorscale\":[[0.0,\"#0d0887\"],[0.1111111111111111,\"#46039f\"],[0.2222222222222222,\"#7201a8\"],[0.3333333333333333,\"#9c179e\"],[0.4444444444444444,\"#bd3786\"],[0.5555555555555556,\"#d8576b\"],[0.6666666666666666,\"#ed7953\"],[0.7777777777777778,\"#fb9f3a\"],[0.8888888888888888,\"#fdca26\"],[1.0,\"#f0f921\"]]}],\"surface\":[{\"type\":\"surface\",\"colorbar\":{\"outlinewidth\":0,\"ticks\":\"\"},\"colorscale\":[[0.0,\"#0d0887\"],[0.1111111111111111,\"#46039f\"],[0.2222222222222222,\"#7201a8\"],[0.3333333333333333,\"#9c179e\"],[0.4444444444444444,\"#bd3786\"],[0.5555555555555556,\"#d8576b\"],[0.6666666666666666,\"#ed7953\"],[0.7777777777777778,\"#fb9f3a\"],[0.8888888888888888,\"#fdca26\"],[1.0,\"#f0f921\"]]}],\"mesh3d\":[{\"type\":\"mesh3d\",\"colorbar\":{\"outlinewidth\":0,\"ticks\":\"\"}}],\"scatter\":[{\"fillpattern\":{\"fillmode\":\"overlay\",\"size\":10,\"solidity\":0.2},\"type\":\"scatter\"}],\"parcoords\":[{\"type\":\"parcoords\",\"line\":{\"colorbar\":{\"outlinewidth\":0,\"ticks\":\"\"}}}],\"scatterpolargl\":[{\"type\":\"scatterpolargl\",\"marker\":{\"colorbar\":{\"outlinewidth\":0,\"ticks\":\"\"}}}],\"bar\":[{\"error_x\":{\"color\":\"#2a3f5f\"},\"error_y\":{\"color\":\"#2a3f5f\"},\"marker\":{\"line\":{\"color\":\"#E5ECF6\",\"width\":0.5},\"pattern\":{\"fillmode\":\"overlay\",\"size\":10,\"solidity\":0.2}},\"type\":\"bar\"}],\"scattergeo\":[{\"type\":\"scattergeo\",\"marker\":{\"colorbar\":{\"outlinewidth\":0,\"ticks\":\"\"}}}],\"scatterpolar\":[{\"type\":\"scatterpolar\",\"marker\":{\"colorbar\":{\"outlinewidth\":0,\"ticks\":\"\"}}}],\"histogram\":[{\"marker\":{\"pattern\":{\"fillmode\":\"overlay\",\"size\":10,\"solidity\":0.2}},\"type\":\"histogram\"}],\"scattergl\":[{\"type\":\"scattergl\",\"marker\":{\"colorbar\":{\"outlinewidth\":0,\"ticks\":\"\"}}}],\"scatter3d\":[{\"type\":\"scatter3d\",\"line\":{\"colorbar\":{\"outlinewidth\":0,\"ticks\":\"\"}},\"marker\":{\"colorbar\":{\"outlinewidth\":0,\"ticks\":\"\"}}}],\"scattermapbox\":[{\"type\":\"scattermapbox\",\"marker\":{\"colorbar\":{\"outlinewidth\":0,\"ticks\":\"\"}}}],\"scatterternary\":[{\"type\":\"scatterternary\",\"marker\":{\"colorbar\":{\"outlinewidth\":0,\"ticks\":\"\"}}}],\"scattercarpet\":[{\"type\":\"scattercarpet\",\"marker\":{\"colorbar\":{\"outlinewidth\":0,\"ticks\":\"\"}}}],\"carpet\":[{\"aaxis\":{\"endlinecolor\":\"#2a3f5f\",\"gridcolor\":\"white\",\"linecolor\":\"white\",\"minorgridcolor\":\"white\",\"startlinecolor\":\"#2a3f5f\"},\"baxis\":{\"endlinecolor\":\"#2a3f5f\",\"gridcolor\":\"white\",\"linecolor\":\"white\",\"minorgridcolor\":\"white\",\"startlinecolor\":\"#2a3f5f\"},\"type\":\"carpet\"}],\"table\":[{\"cells\":{\"fill\":{\"color\":\"#EBF0F8\"},\"line\":{\"color\":\"white\"}},\"header\":{\"fill\":{\"color\":\"#C8D4E3\"},\"line\":{\"color\":\"white\"}},\"type\":\"table\"}],\"barpolar\":[{\"marker\":{\"line\":{\"color\":\"#E5ECF6\",\"width\":0.5},\"pattern\":{\"fillmode\":\"overlay\",\"size\":10,\"solidity\":0.2}},\"type\":\"barpolar\"}],\"pie\":[{\"automargin\":true,\"type\":\"pie\"}]},\"layout\":{\"autotypenumbers\":\"strict\",\"colorway\":[\"#636efa\",\"#EF553B\",\"#00cc96\",\"#ab63fa\",\"#FFA15A\",\"#19d3f3\",\"#FF6692\",\"#B6E880\",\"#FF97FF\",\"#FECB52\"],\"font\":{\"color\":\"#2a3f5f\"},\"hovermode\":\"closest\",\"hoverlabel\":{\"align\":\"left\"},\"paper_bgcolor\":\"white\",\"plot_bgcolor\":\"#E5ECF6\",\"polar\":{\"bgcolor\":\"#E5ECF6\",\"angularaxis\":{\"gridcolor\":\"white\",\"linecolor\":\"white\",\"ticks\":\"\"},\"radialaxis\":{\"gridcolor\":\"white\",\"linecolor\":\"white\",\"ticks\":\"\"}},\"ternary\":{\"bgcolor\":\"#E5ECF6\",\"aaxis\":{\"gridcolor\":\"white\",\"linecolor\":\"white\",\"ticks\":\"\"},\"baxis\":{\"gridcolor\":\"white\",\"linecolor\":\"white\",\"ticks\":\"\"},\"caxis\":{\"gridcolor\":\"white\",\"linecolor\":\"white\",\"ticks\":\"\"}},\"coloraxis\":{\"colorbar\":{\"outlinewidth\":0,\"ticks\":\"\"}},\"colorscale\":{\"sequential\":[[0.0,\"#0d0887\"],[0.1111111111111111,\"#46039f\"],[0.2222222222222222,\"#7201a8\"],[0.3333333333333333,\"#9c179e\"],[0.4444444444444444,\"#bd3786\"],[0.5555555555555556,\"#d8576b\"],[0.6666666666666666,\"#ed7953\"],[0.7777777777777778,\"#fb9f3a\"],[0.8888888888888888,\"#fdca26\"],[1.0,\"#f0f921\"]],\"sequentialminus\":[[0.0,\"#0d0887\"],[0.1111111111111111,\"#46039f\"],[0.2222222222222222,\"#7201a8\"],[0.3333333333333333,\"#9c179e\"],[0.4444444444444444,\"#bd3786\"],[0.5555555555555556,\"#d8576b\"],[0.6666666666666666,\"#ed7953\"],[0.7777777777777778,\"#fb9f3a\"],[0.8888888888888888,\"#fdca26\"],[1.0,\"#f0f921\"]],\"diverging\":[[0,\"#8e0152\"],[0.1,\"#c51b7d\"],[0.2,\"#de77ae\"],[0.3,\"#f1b6da\"],[0.4,\"#fde0ef\"],[0.5,\"#f7f7f7\"],[0.6,\"#e6f5d0\"],[0.7,\"#b8e186\"],[0.8,\"#7fbc41\"],[0.9,\"#4d9221\"],[1,\"#276419\"]]},\"xaxis\":{\"gridcolor\":\"white\",\"linecolor\":\"white\",\"ticks\":\"\",\"title\":{\"standoff\":15},\"zerolinecolor\":\"white\",\"automargin\":true,\"zerolinewidth\":2},\"yaxis\":{\"gridcolor\":\"white\",\"linecolor\":\"white\",\"ticks\":\"\",\"title\":{\"standoff\":15},\"zerolinecolor\":\"white\",\"automargin\":true,\"zerolinewidth\":2},\"scene\":{\"xaxis\":{\"backgroundcolor\":\"#E5ECF6\",\"gridcolor\":\"white\",\"linecolor\":\"white\",\"showbackground\":true,\"ticks\":\"\",\"zerolinecolor\":\"white\",\"gridwidth\":2},\"yaxis\":{\"backgroundcolor\":\"#E5ECF6\",\"gridcolor\":\"white\",\"linecolor\":\"white\",\"showbackground\":true,\"ticks\":\"\",\"zerolinecolor\":\"white\",\"gridwidth\":2},\"zaxis\":{\"backgroundcolor\":\"#E5ECF6\",\"gridcolor\":\"white\",\"linecolor\":\"white\",\"showbackground\":true,\"ticks\":\"\",\"zerolinecolor\":\"white\",\"gridwidth\":2}},\"shapedefaults\":{\"line\":{\"color\":\"#2a3f5f\"}},\"annotationdefaults\":{\"arrowcolor\":\"#2a3f5f\",\"arrowhead\":0,\"arrowwidth\":1},\"geo\":{\"bgcolor\":\"white\",\"landcolor\":\"#E5ECF6\",\"subunitcolor\":\"white\",\"showland\":true,\"showlakes\":true,\"lakecolor\":\"white\"},\"title\":{\"x\":0.05},\"mapbox\":{\"style\":\"light\"}}},\"xaxis\":{\"dtick\":10,\"tickmode\":\"linear\"},\"yaxis\":{\"anchor\":\"x\",\"domain\":[0.7333333333333333,1.0]},\"xaxis2\":{\"anchor\":\"y2\",\"domain\":[0.55,1.0]},\"yaxis2\":{\"anchor\":\"x2\",\"domain\":[0.7333333333333333,1.0]},\"xaxis3\":{\"anchor\":\"y3\",\"domain\":[0.0,0.45]},\"yaxis3\":{\"anchor\":\"x3\",\"domain\":[0.36666666666666664,0.6333333333333333]},\"xaxis4\":{\"anchor\":\"y4\",\"domain\":[0.55,1.0]},\"yaxis4\":{\"anchor\":\"x4\",\"domain\":[0.36666666666666664,0.6333333333333333]},\"xaxis5\":{\"anchor\":\"y5\",\"domain\":[0.0,0.45]},\"yaxis5\":{\"anchor\":\"x5\",\"domain\":[0.0,0.26666666666666666]},\"xaxis6\":{\"anchor\":\"y6\",\"domain\":[0.55,1.0]},\"yaxis6\":{\"anchor\":\"x6\",\"domain\":[0.0,0.26666666666666666]},\"title\":{\"text\":\"Distribution of Player Scores\"}},                        {\"responsive\": true}                    ).then(function(){\n                            \nvar gd = document.getElementById('36ece823-43ed-4aea-884a-2938787bcba8');\nvar x = new MutationObserver(function (mutations, observer) {{\n        var display = window.getComputedStyle(gd).display;\n        if (!display || display === 'none') {{\n            console.log([gd, 'removed!']);\n            Plotly.purge(gd);\n            observer.disconnect();\n        }}\n}});\n\n// Listen for the removal of the full notebook cells\nvar notebookContainer = gd.closest('#notebook-container');\nif (notebookContainer) {{\n    x.observe(notebookContainer, {childList: true});\n}}\n\n// Listen for the clearing of the current output cell\nvar outputEl = gd.closest('.output');\nif (outputEl) {{\n    x.observe(outputEl, {childList: true});\n}}\n\n                        })                };                });            </script>        </div>"
          },
          "metadata": {}
        }
      ],
      "source": [
        "##Histogram with distribution\n",
        "\n",
        "team_list = list(dfscore['Team'].unique())\n",
        "\n",
        "trace0 = go.Histogram(x= dfscore.loc[dfscore['Team'] == team_list[0], 'PlayerScore'], opacity = 0.75, name = team_list[0])\n",
        "trace1 = go.Histogram(x= dfscore.loc[dfscore['Team'] == team_list[1], 'PlayerScore'], opacity = 0.75, name = team_list[1])\n",
        "trace2 = go.Histogram(x= dfscore.loc[dfscore['Team'] == team_list[2], 'PlayerScore'], opacity = 0.75, name = team_list[2])\n",
        "trace3 = go.Histogram(x= dfscore.loc[dfscore['Team'] == team_list[3], 'PlayerScore'], opacity = 0.75, name = team_list[3])\n",
        "trace4 = go.Histogram(x= dfscore.loc[dfscore['Team'] == team_list[4], 'PlayerScore'], opacity = 0.75, name = team_list[4])\n",
        "\n",
        "fig4 = make_subplots(rows =3, cols = 2)\n",
        "fig4.append_trace(trace0,1,1)\n",
        "fig4.append_trace(trace1,2,1)\n",
        "fig4.append_trace(trace2,2,2)\n",
        "fig4.append_trace(trace3,3,1)\n",
        "fig4.append_trace(trace4,3,2)\n",
        "\n",
        "fig4.layout.title = dict(text = 'Distribution of Player Scores')\n",
        "fig4.layout.xaxis = dict(tickmode = 'linear', dtick = 10)\n",
        "\n",
        "fig4.show()\n",
        "\n",
        "##Peshawar the clear standout players"
      ]
    },
    {
      "cell_type": "code",
      "execution_count": 539,
      "metadata": {},
      "outputs": [
        {
          "output_type": "execute_result",
          "data": {
            "text/plain": [
              "             Player              Team  TotalRuns  AvgRuns_match  Strike_rate  \\\n",
              "26        SP Narine  Lahore Qalandars      116.0      16.571429   170.588235   \n",
              "35      Shadab Khan  Islamabad United       66.0      11.000000   157.142857   \n",
              "11    Shahid Afridi    Peshawar Zalmi      177.0      22.125000   163.888889   \n",
              "14        SR Watson  Islamabad United      171.0      19.000000   132.558140   \n",
              "18  Mohammad Hafeez    Peshawar Zalmi      153.0      17.000000    96.835443   \n",
              "29       Imad Wasim     Karachi Kings       83.0      10.375000   129.687500   \n",
              "78     Rumman Raees  Islamabad United        0.0       0.000000     0.000000   \n",
              "7      Shoaib Malik     Karachi Kings      202.0      20.200000   120.238095   \n",
              "24        DJG Sammy    Peshawar Zalmi      120.0      13.333333   127.659574   \n",
              "57      Sohail Khan     Karachi Kings       16.0       4.000000   114.285714   \n",
              "\n",
              "    Bat_var    Economy  wicket  AvgWicket  AvgDeliveries_bowled  \\\n",
              "26      0.0   6.500000    11.0   1.375000             24.750000   \n",
              "35      0.0   6.923077     9.0   1.125000             19.875000   \n",
              "11      0.0   7.000000     2.0   0.222222             18.888889   \n",
              "14      0.0   9.130435    12.0   1.333333             16.222222   \n",
              "18      0.0   6.600000     6.0   1.000000             15.000000   \n",
              "29      0.0   6.689655     8.0   0.800000             17.600000   \n",
              "78      0.0   5.857143    13.0   1.857143             23.000000   \n",
              "7       0.0   7.454545     3.0   0.600000             13.800000   \n",
              "24      0.0  10.500000     2.0   0.333333             10.500000   \n",
              "57      0.0   7.656250    16.0   1.777778             21.777778   \n",
              "\n",
              "    TotalDeliveries    Bowl_var  Strike_rateRank  TotalRunsRank  wicketRank  \\\n",
              "26            198.0   88.000000              4.0            2.0         3.0   \n",
              "35            159.0   57.428571              4.0            1.0         3.0   \n",
              "11            170.0   72.444444              4.0            3.0         1.0   \n",
              "14            146.0  184.500000              4.0            3.0         4.0   \n",
              "18             90.0   40.700000              1.0            3.0         2.0   \n",
              "29            176.0   25.155556              3.0            1.0         2.0   \n",
              "78            161.0   16.285714              0.0            0.0         4.0   \n",
              "7              69.0  229.800000              2.0            4.0         1.0   \n",
              "24             63.0   65.900000              3.0            2.0         1.0   \n",
              "57            196.0   30.194444              0.0            0.0         4.0   \n",
              "\n",
              "    EconomyRank  Bat_varRank  Bowl_varRank  PlayerScore  \n",
              "26          3.0          0.0           3.0         15.0  \n",
              "35          3.0          0.0           3.0         14.0  \n",
              "11          3.0          0.0           3.0         14.0  \n",
              "14          2.0          0.0           1.0         14.0  \n",
              "18          3.0          0.0           3.0         12.0  \n",
              "29          3.0          0.0           3.0         12.0  \n",
              "78          3.0          0.0           4.0         11.0  \n",
              "7           3.0          0.0           1.0         11.0  \n",
              "24          2.0          0.0           3.0         11.0  \n",
              "57          3.0          0.0           3.0         10.0  "
            ],
            "text/html": "<div>\n<style scoped>\n    .dataframe tbody tr th:only-of-type {\n        vertical-align: middle;\n    }\n\n    .dataframe tbody tr th {\n        vertical-align: top;\n    }\n\n    .dataframe thead th {\n        text-align: right;\n    }\n</style>\n<table border=\"1\" class=\"dataframe\">\n  <thead>\n    <tr style=\"text-align: right;\">\n      <th></th>\n      <th>Player</th>\n      <th>Team</th>\n      <th>TotalRuns</th>\n      <th>AvgRuns_match</th>\n      <th>Strike_rate</th>\n      <th>Bat_var</th>\n      <th>Economy</th>\n      <th>wicket</th>\n      <th>AvgWicket</th>\n      <th>AvgDeliveries_bowled</th>\n      <th>TotalDeliveries</th>\n      <th>Bowl_var</th>\n      <th>Strike_rateRank</th>\n      <th>TotalRunsRank</th>\n      <th>wicketRank</th>\n      <th>EconomyRank</th>\n      <th>Bat_varRank</th>\n      <th>Bowl_varRank</th>\n      <th>PlayerScore</th>\n    </tr>\n  </thead>\n  <tbody>\n    <tr>\n      <th>26</th>\n      <td>SP Narine</td>\n      <td>Lahore Qalandars</td>\n      <td>116.0</td>\n      <td>16.571429</td>\n      <td>170.588235</td>\n      <td>0.0</td>\n      <td>6.500000</td>\n      <td>11.0</td>\n      <td>1.375000</td>\n      <td>24.750000</td>\n      <td>198.0</td>\n      <td>88.000000</td>\n      <td>4.0</td>\n      <td>2.0</td>\n      <td>3.0</td>\n      <td>3.0</td>\n      <td>0.0</td>\n      <td>3.0</td>\n      <td>15.0</td>\n    </tr>\n    <tr>\n      <th>35</th>\n      <td>Shadab Khan</td>\n      <td>Islamabad United</td>\n      <td>66.0</td>\n      <td>11.000000</td>\n      <td>157.142857</td>\n      <td>0.0</td>\n      <td>6.923077</td>\n      <td>9.0</td>\n      <td>1.125000</td>\n      <td>19.875000</td>\n      <td>159.0</td>\n      <td>57.428571</td>\n      <td>4.0</td>\n      <td>1.0</td>\n      <td>3.0</td>\n      <td>3.0</td>\n      <td>0.0</td>\n      <td>3.0</td>\n      <td>14.0</td>\n    </tr>\n    <tr>\n      <th>11</th>\n      <td>Shahid Afridi</td>\n      <td>Peshawar Zalmi</td>\n      <td>177.0</td>\n      <td>22.125000</td>\n      <td>163.888889</td>\n      <td>0.0</td>\n      <td>7.000000</td>\n      <td>2.0</td>\n      <td>0.222222</td>\n      <td>18.888889</td>\n      <td>170.0</td>\n      <td>72.444444</td>\n      <td>4.0</td>\n      <td>3.0</td>\n      <td>1.0</td>\n      <td>3.0</td>\n      <td>0.0</td>\n      <td>3.0</td>\n      <td>14.0</td>\n    </tr>\n    <tr>\n      <th>14</th>\n      <td>SR Watson</td>\n      <td>Islamabad United</td>\n      <td>171.0</td>\n      <td>19.000000</td>\n      <td>132.558140</td>\n      <td>0.0</td>\n      <td>9.130435</td>\n      <td>12.0</td>\n      <td>1.333333</td>\n      <td>16.222222</td>\n      <td>146.0</td>\n      <td>184.500000</td>\n      <td>4.0</td>\n      <td>3.0</td>\n      <td>4.0</td>\n      <td>2.0</td>\n      <td>0.0</td>\n      <td>1.0</td>\n      <td>14.0</td>\n    </tr>\n    <tr>\n      <th>18</th>\n      <td>Mohammad Hafeez</td>\n      <td>Peshawar Zalmi</td>\n      <td>153.0</td>\n      <td>17.000000</td>\n      <td>96.835443</td>\n      <td>0.0</td>\n      <td>6.600000</td>\n      <td>6.0</td>\n      <td>1.000000</td>\n      <td>15.000000</td>\n      <td>90.0</td>\n      <td>40.700000</td>\n      <td>1.0</td>\n      <td>3.0</td>\n      <td>2.0</td>\n      <td>3.0</td>\n      <td>0.0</td>\n      <td>3.0</td>\n      <td>12.0</td>\n    </tr>\n    <tr>\n      <th>29</th>\n      <td>Imad Wasim</td>\n      <td>Karachi Kings</td>\n      <td>83.0</td>\n      <td>10.375000</td>\n      <td>129.687500</td>\n      <td>0.0</td>\n      <td>6.689655</td>\n      <td>8.0</td>\n      <td>0.800000</td>\n      <td>17.600000</td>\n      <td>176.0</td>\n      <td>25.155556</td>\n      <td>3.0</td>\n      <td>1.0</td>\n      <td>2.0</td>\n      <td>3.0</td>\n      <td>0.0</td>\n      <td>3.0</td>\n      <td>12.0</td>\n    </tr>\n    <tr>\n      <th>78</th>\n      <td>Rumman Raees</td>\n      <td>Islamabad United</td>\n      <td>0.0</td>\n      <td>0.000000</td>\n      <td>0.000000</td>\n      <td>0.0</td>\n      <td>5.857143</td>\n      <td>13.0</td>\n      <td>1.857143</td>\n      <td>23.000000</td>\n      <td>161.0</td>\n      <td>16.285714</td>\n      <td>0.0</td>\n      <td>0.0</td>\n      <td>4.0</td>\n      <td>3.0</td>\n      <td>0.0</td>\n      <td>4.0</td>\n      <td>11.0</td>\n    </tr>\n    <tr>\n      <th>7</th>\n      <td>Shoaib Malik</td>\n      <td>Karachi Kings</td>\n      <td>202.0</td>\n      <td>20.200000</td>\n      <td>120.238095</td>\n      <td>0.0</td>\n      <td>7.454545</td>\n      <td>3.0</td>\n      <td>0.600000</td>\n      <td>13.800000</td>\n      <td>69.0</td>\n      <td>229.800000</td>\n      <td>2.0</td>\n      <td>4.0</td>\n      <td>1.0</td>\n      <td>3.0</td>\n      <td>0.0</td>\n      <td>1.0</td>\n      <td>11.0</td>\n    </tr>\n    <tr>\n      <th>24</th>\n      <td>DJG Sammy</td>\n      <td>Peshawar Zalmi</td>\n      <td>120.0</td>\n      <td>13.333333</td>\n      <td>127.659574</td>\n      <td>0.0</td>\n      <td>10.500000</td>\n      <td>2.0</td>\n      <td>0.333333</td>\n      <td>10.500000</td>\n      <td>63.0</td>\n      <td>65.900000</td>\n      <td>3.0</td>\n      <td>2.0</td>\n      <td>1.0</td>\n      <td>2.0</td>\n      <td>0.0</td>\n      <td>3.0</td>\n      <td>11.0</td>\n    </tr>\n    <tr>\n      <th>57</th>\n      <td>Sohail Khan</td>\n      <td>Karachi Kings</td>\n      <td>16.0</td>\n      <td>4.000000</td>\n      <td>114.285714</td>\n      <td>0.0</td>\n      <td>7.656250</td>\n      <td>16.0</td>\n      <td>1.777778</td>\n      <td>21.777778</td>\n      <td>196.0</td>\n      <td>30.194444</td>\n      <td>0.0</td>\n      <td>0.0</td>\n      <td>4.0</td>\n      <td>3.0</td>\n      <td>0.0</td>\n      <td>3.0</td>\n      <td>10.0</td>\n    </tr>\n  </tbody>\n</table>\n</div>"
          },
          "metadata": {},
          "execution_count": 539
        }
      ],
      "source": [
        "dfscore.sort_values(by = 'PlayerScore', ascending = False).head(10)"
      ]
    },
    {
      "cell_type": "code",
      "execution_count": null,
      "metadata": {},
      "outputs": [],
      "source": []
    }
  ]
}