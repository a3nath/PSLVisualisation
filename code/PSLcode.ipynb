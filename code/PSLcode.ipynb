{
  "metadata": {
    "language_info": {
      "codemirror_mode": {
        "name": "python",
        "version": 3
      },
      "file_extension": ".py",
      "mimetype": "text/x-python",
      "name": "python",
      "nbconvert_exporter": "python",
      "pygments_lexer": "ipython3",
      "version": "3.10.0-final"
    },
    "kernelspec": {
      "name": "python3",
      "display_name": "Python 3.10.0 64-bit",
      "metadata": {
        "interpreter": {
          "hash": "aee8b7b246df8f9039afb4144a1f6fd8d2ca17a180786b69acc140d282b71a49"
        }
      }
    }
  },
  "nbformat_minor": 4,
  "nbformat": 4,
  "cells": [
    {
      "cell_type": "code",
      "execution_count": 670,
      "metadata": {},
      "outputs": [
        {
          "output_type": "error",
          "ename": "NameError",
          "evalue": "name 'var' is not defined",
          "traceback": [
            "\u001b[0;31m---------------------------------------------------------------------------\u001b[0m",
            "\u001b[0;31mNameError\u001b[0m                                 Traceback (most recent call last)",
            "Input \u001b[0;32mIn [670]\u001b[0m, in \u001b[0;36m<cell line: 79>\u001b[0;34m()\u001b[0m\n\u001b[1;32m     72\u001b[0m     figQuad\u001b[38;5;241m.\u001b[39mupdate_layout(\n\u001b[1;32m     73\u001b[0m     title\u001b[38;5;241m=\u001b[39mtitle,\n\u001b[1;32m     74\u001b[0m     yaxis\u001b[38;5;241m=\u001b[39myaxis,\n\u001b[1;32m     75\u001b[0m     xaxis\u001b[38;5;241m=\u001b[39mxaxis,\n\u001b[1;32m     76\u001b[0m     legend_title\u001b[38;5;241m=\u001b[39m\u001b[38;5;124m\"\u001b[39m\u001b[38;5;124mTeams\u001b[39m\u001b[38;5;124m\"\u001b[39m)\n\u001b[1;32m     77\u001b[0m     figQuad\u001b[38;5;241m.\u001b[39mshow()\n\u001b[0;32m---> 79\u001b[0m \u001b[43mquadrant_chart\u001b[49m\u001b[43m(\u001b[49m\n\u001b[1;32m     80\u001b[0m \u001b[43m    \u001b[49m\u001b[43mx\u001b[49m\u001b[38;5;241;43m=\u001b[39;49m\u001b[43mdf_bat\u001b[49m\u001b[43m[\u001b[49m\u001b[38;5;124;43m'\u001b[39;49m\u001b[38;5;124;43mAvgRuns_match\u001b[39;49m\u001b[38;5;124;43m'\u001b[39;49m\u001b[43m]\u001b[49m\u001b[43m,\u001b[49m\n\u001b[1;32m     81\u001b[0m \u001b[43m    \u001b[49m\u001b[43my\u001b[49m\u001b[38;5;241;43m=\u001b[39;49m\u001b[43mdf_bat\u001b[49m\u001b[43m[\u001b[49m\u001b[38;5;124;43m'\u001b[39;49m\u001b[38;5;124;43mStrike_rate\u001b[39;49m\u001b[38;5;124;43m'\u001b[39;49m\u001b[43m]\u001b[49m\u001b[43m,\u001b[49m\n\u001b[1;32m     82\u001b[0m \u001b[43m    \u001b[49m\u001b[43mteam\u001b[49m\u001b[38;5;241;43m=\u001b[39;49m\u001b[43mdf_bat\u001b[49m\u001b[43m[\u001b[49m\u001b[38;5;124;43m'\u001b[39;49m\u001b[38;5;124;43mBatting_team\u001b[39;49m\u001b[38;5;124;43m'\u001b[39;49m\u001b[43m]\u001b[49m\u001b[43m,\u001b[49m\n\u001b[1;32m     83\u001b[0m \u001b[43m    \u001b[49m\u001b[43mxaxis\u001b[49m\u001b[38;5;241;43m=\u001b[39;49m\u001b[38;5;28;43mdict\u001b[39;49m\u001b[43m(\u001b[49m\u001b[43mtitle\u001b[49m\u001b[38;5;241;43m=\u001b[39;49m\u001b[38;5;124;43m\"\u001b[39;49m\u001b[38;5;124;43mAverage Batting Runs\u001b[39;49m\u001b[38;5;124;43m\"\u001b[39;49m\u001b[43m)\u001b[49m\u001b[43m,\u001b[49m\n\u001b[1;32m     84\u001b[0m \u001b[43m    \u001b[49m\u001b[43myaxis\u001b[49m\u001b[38;5;241;43m=\u001b[39;49m\u001b[38;5;28;43mdict\u001b[39;49m\u001b[43m(\u001b[49m\u001b[43mtitle\u001b[49m\u001b[38;5;241;43m=\u001b[39;49m\u001b[38;5;124;43m\"\u001b[39;49m\u001b[38;5;124;43mStrike Rate\u001b[39;49m\u001b[38;5;124;43m\"\u001b[39;49m\u001b[43m)\u001b[49m\u001b[43m,\u001b[49m\n\u001b[1;32m     85\u001b[0m \u001b[43m    \u001b[49m\u001b[43mtitle\u001b[49m\u001b[38;5;241;43m=\u001b[39;49m\u001b[38;5;124;43m\"\u001b[39;49m\u001b[38;5;124;43mBatting runs vs strike rate for each team\u001b[39;49m\u001b[38;5;124;43m\"\u001b[39;49m\u001b[43m)\u001b[49m\n\u001b[1;32m     87\u001b[0m \u001b[38;5;66;03m##Queetta has 6, pesh, lahore has 4, khi, Isl has 3 in top quadrant\u001b[39;00m\n\u001b[1;32m     88\u001b[0m \n\u001b[1;32m     89\u001b[0m \u001b[38;5;66;03m##Batting boxplot\u001b[39;00m\n\u001b[1;32m     91\u001b[0m trace0 \u001b[38;5;241m=\u001b[39m go\u001b[38;5;241m.\u001b[39mBox(y \u001b[38;5;241m=\u001b[39m df_bat\u001b[38;5;241m.\u001b[39mloc[df_bat[\u001b[38;5;124m'\u001b[39m\u001b[38;5;124mBatting_team\u001b[39m\u001b[38;5;124m'\u001b[39m] \u001b[38;5;241m==\u001b[39m \u001b[38;5;124m'\u001b[39m\u001b[38;5;124mPeshawar Zalmi\u001b[39m\u001b[38;5;124m'\u001b[39m, \u001b[38;5;124m'\u001b[39m\u001b[38;5;124mAvgRuns_match\u001b[39m\u001b[38;5;124m'\u001b[39m], name \u001b[38;5;241m=\u001b[39m \u001b[38;5;124m'\u001b[39m\u001b[38;5;124mPeshawar Zalmi\u001b[39m\u001b[38;5;124m'\u001b[39m, boxmean \u001b[38;5;241m=\u001b[39m \u001b[38;5;124m'\u001b[39m\u001b[38;5;124msd\u001b[39m\u001b[38;5;124m'\u001b[39m, boxpoints \u001b[38;5;241m=\u001b[39m \u001b[38;5;124m'\u001b[39m\u001b[38;5;124mall\u001b[39m\u001b[38;5;124m'\u001b[39m)\n",
            "Input \u001b[0;32mIn [670]\u001b[0m, in \u001b[0;36mquadrant_chart\u001b[0;34m(x, y, team, xaxis, yaxis, title)\u001b[0m\n\u001b[1;32m     64\u001b[0m \u001b[38;5;28;01mdef\u001b[39;00m \u001b[38;5;21mquadrant_chart\u001b[39m(x, y, team,xaxis,yaxis, title):\n\u001b[0;32m---> 65\u001b[0m     data \u001b[38;5;241m=\u001b[39m pd\u001b[38;5;241m.\u001b[39mDataFrame({\u001b[38;5;124m'\u001b[39m\u001b[38;5;124mx\u001b[39m\u001b[38;5;124m'\u001b[39m: x, \u001b[38;5;124m'\u001b[39m\u001b[38;5;124my\u001b[39m\u001b[38;5;124m'\u001b[39m: y, \u001b[38;5;124m'\u001b[39m\u001b[38;5;124mteam\u001b[39m\u001b[38;5;124m'\u001b[39m:team, \u001b[38;5;124m'\u001b[39m\u001b[38;5;124mvar\u001b[39m\u001b[38;5;124m'\u001b[39m:\u001b[43mvar\u001b[49m})\n\u001b[1;32m     66\u001b[0m     \u001b[38;5;66;03m# calculate averages up front to avoid repeated calculations\u001b[39;00m\n\u001b[1;32m     67\u001b[0m     y_avg \u001b[38;5;241m=\u001b[39m data[\u001b[38;5;124m'\u001b[39m\u001b[38;5;124my\u001b[39m\u001b[38;5;124m'\u001b[39m]\u001b[38;5;241m.\u001b[39mmean()\n",
            "\u001b[0;31mNameError\u001b[0m: name 'var' is not defined"
          ]
        }
      ],
      "source": [
        "#importing libraries\n",
        "\n",
        "import os\n",
        "import numpy as np\n",
        "import pandas as pd\n",
        "import plotly\n",
        "import chart_studio.plotly as py\n",
        "import plotly.graph_objs as go\n",
        "import ipywidgets as wg\n",
        "from scipy import stats\n",
        "from IPython.display import display\n",
        "from urllib.request import urlopen\n",
        "from plotly.subplots import make_subplots\n",
        "import plotly.express as px\n",
        "\n",
        "#importing data file\n",
        "psldata = pd.ExcelFile(r'/Users/Amar/Documents/WD/projects/PSLVisualisation/data/All deliveries.xlsx')\n",
        "df = pd.read_excel(psldata)\n",
        "\n",
        "\n",
        "##cleaning data\n",
        "#Replaced Nas\n",
        "df.iloc[:,-2:] = df.iloc[:,-2:].fillna('No dismisal')\n",
        "\n",
        "\n",
        "\n",
        "df['wicket'] = df['Dismisal_kind'].apply(lambda x: 1 if x != \"No dismissal\" else 0)\n",
        "df['Six'] = df['Batsman_runs'].map(lambda x: 1 if x == 6 else 0)\n",
        "df['Four'] = df['Batsman_runs'].map(lambda x: 1 if x == 4 else 0)\n",
        "\n",
        "#Batsman dataframe\n",
        "\n",
        "#Ball-by-ball detail for each batsman\n",
        "\n",
        "df_bat_byball = pd.merge(df.groupby(['Batsman_strike','Match_id']).sum().reset_index()[['Batsman_strike','Match_id','Batsman_runs']], df.groupby(['Batsman_strike', 'Match_id']).count().reset_index()[['Batsman_strike','Match_id', 'Ball']].rename(columns = {'Ball': 'Balls_played'}), on = ['Batsman_strike', 'Match_id'])\n",
        "\n",
        "\n",
        "\n",
        "##Batting datafrane\n",
        "df_bat = pd.merge(pd.merge(df_bat_byball.groupby('Batsman_strike').mean().reset_index()[['Batsman_strike','Batsman_runs', 'Balls_played']].rename(columns = {'Batsman_runs' : 'AvgRuns_match' , 'Balls_played': 'AvgBalls_match'}), df[['Batsman_strike', 'Batting_team']].drop_duplicates(keep = 'first'), on = 'Batsman_strike') , pd.merge(df.groupby(['Batsman_strike']).sum().reset_index()[['Batsman_strike', 'Batsman_runs', 'Six', 'Four']].rename(columns = {'Batsman_runs': 'TotalRuns', 'Six':'TotalSixes', 'Four':'TotalFours'}), df.groupby(['Batsman_strike']).count().reset_index()[['Batsman_strike' , 'Ball']].rename(columns = {'Ball': 'Balls_played'}), on ='Batsman_strike'), on = 'Batsman_strike')                         \n",
        "\n",
        "df_bat['Runs_sq'] = 0\n",
        "df_bat['Matches_played'] = 0\n",
        "\n",
        "\n",
        "#To calculate variance\n",
        "for i in range(len(df_bat)):\n",
        "    for j in range(len(df_bat_byball)):\n",
        "        if df_bat.iloc[i]['Batsman_strike'] == df_bat_byball.iloc[j]['Batsman_strike']:\n",
        "            df_bat['Runs_sq'].iloc[i] += df_bat_byball.iloc[j]['Batsman_runs'] **2\n",
        "            df_bat['Matches_played'].iloc[i] += 1\n",
        "\n",
        "\n",
        "#Strke rate, % boundary and Variance\n",
        "df_bat['Strike_rate'] = df_bat['TotalRuns'] * 100 /df_bat['Balls_played']\n",
        "df_bat['PercentageRuns_boundary'] = (df_bat['TotalSixes']* 6 + df_bat['TotalFours'] * 4) * 100/df_bat['TotalRuns']\n",
        "\n",
        "NumberMatches = df_bat['Matches_played']\n",
        "AvgRuns = df_bat['AvgRuns_match']\n",
        "df_bat[\"Var\"] = 0\n",
        "\n",
        "##Batsman Scatter\n",
        "\n",
        "def quadrant_chart(x, y, team,xaxis,yaxis, title):\n",
        "    data = pd.DataFrame({'x': x, 'y': y, 'team':team})\n",
        "    # calculate averages up front to avoid repeated calculations\n",
        "    y_avg = data['y'].mean()\n",
        "    x_avg = data['x'].mean()\n",
        "    figQuad = px.scatter(x=data['x'], y=data['y'], color= data['team'])\n",
        "    figQuad.add_hline(y= y_avg, line_color='red', line_width=1)\n",
        "    figQuad.add_vline(x = x_avg, line_color='green', line_width=1)\n",
        "    figQuad.update_layout(\n",
        "    title=title,\n",
        "    yaxis=yaxis,\n",
        "    xaxis=xaxis,\n",
        "    legend_title=\"Teams\")\n",
        "    figQuad.show()\n",
        "\n",
        "quadrant_chart(\n",
        "    x=df_bat['AvgRuns_match'],\n",
        "    y=df_bat['Strike_rate'],\n",
        "    team=df_bat['Batting_team'],\n",
        "    xaxis=dict(title=\"Average Batting Runs\"),\n",
        "    yaxis=dict(title=\"Strike Rate\"),\n",
        "    title=\"Batting runs vs strike rate for each team\")\n",
        "\n",
        "##Queetta has 6, pesh, lahore has 4, khi, Isl has 3 in top quadrant\n",
        "\n",
        "##Batting boxplot\n",
        "\n",
        "trace0 = go.Box(y = df_bat.loc[df_bat['Batting_team'] == 'Peshawar Zalmi', 'AvgRuns_match'], name = 'Peshawar Zalmi', boxmean = 'sd', boxpoints = 'all')\n",
        "trace1 = go.Box(y = df_bat.loc[df_bat['Batting_team'] == 'Islamabad United', 'AvgRuns_match'], name = 'Islamabad United', boxmean = 'sd', boxpoints = 'all')\n",
        "trace2 = go.Box(y = df_bat.loc[df_bat['Batting_team'] == 'Quetta Gladiators', 'AvgRuns_match'], name = 'Quetta Gladiators', boxmean = 'sd', boxpoints = 'all')\n",
        "trace3 = go.Box(y = df_bat.loc[df_bat['Batting_team'] == 'Karachi Kings', 'AvgRuns_match'], name = 'Karachi Kings' , boxmean = 'sd', boxpoints = 'all')\n",
        "trace4 = go.Box(y = df_bat.loc[df_bat['Batting_team'] == 'Lahore Qalandars', 'AvgRuns_match'], name = 'Lahore Qalandars' , boxmean = 'sd', boxpoints = 'all')\n",
        "\n",
        "data = [trace0, trace1, trace2, trace3, trace4]\n",
        "\n",
        "figBatBox = go.Figure(data = data)\n",
        "\n",
        "figBatBox.update_layout(\n",
        "    title=dict(text = \"Average Batting Runs distribution for each team\" ),\n",
        "    xaxis=dict(title=\"Teams\"),\n",
        "    yaxis_title=\"Average runs scored\",\n",
        "    legend_title=\"Teams\")\n",
        "\n",
        "figBatBox.show()\n",
        "\n",
        "\n",
        "\n",
        "##Quetta, Lahore, Pesh similar\n",
        "##Comparable mean, median\n",
        "\n",
        "#Bowling\n",
        "## Defining bowler metrics\n",
        "\n",
        "df['Caught'] = df['Dismisal_kind'].apply(lambda x: 1 if x == \"caught\" else 0)\n",
        "df['Bowled'] = df['Dismisal_kind'].apply(lambda x: 1 if x == \"bowled\" else 0)\n",
        "df['Lbw'] = df['Dismisal_kind'].apply(lambda x: 1 if x == \"lbw\" else 0)\n",
        "df['Runout'] = df['Dismisal_kind'].apply(lambda x: 1 if x == \"runout\" else 0)\n",
        "df['Stump'] = df['Dismisal_kind'].apply(lambda x: 1 if x == \"stump\" else 0)\n",
        "df['Caught_bowled'] = df['Dismisal_kind'].apply(lambda x: 1 if x == \"caught and bowled\" else 0)\n",
        "\n",
        "\n",
        "## Creating a bowler dataframe\n",
        "#By each match\n",
        "df_bowl_match = pd.merge(\n",
        "    df.groupby(['Bowler', 'Match_id']).sum().reset_index().filter(regex = \"[Innings,Over,Ball]\"), \n",
        "    df.groupby(['Bowler', 'Match_id']).count().reset_index()[['Bowler','Match_id', 'Ball']].rename(columns =        {'Ball': 'TotalDeliveries'}\n",
        "    ), on = ['Bowler', 'Match_id'])\n",
        "\n",
        "#Avg deliveries bye ach match\n",
        "df_bowl_matchAvg = pd.merge(\n",
        "    df.groupby(['Bowler', 'Match_id']).sum().reset_index().filter(regex = \"[^Match_id,Innings,Over,Ball]\") ,       df.groupby(['Bowler', 'Match_id']).count().reset_index()[['Bowler', 'Ball']].rename(columns = {'Ball': 'Delieveries_bowled'}), on = 'Bowler').groupby('Bowler').mean().reset_index()\n",
        "\n",
        "#Avg tot runs by each match\n",
        "df_bowl_Avg_Tot = pd.merge(\n",
        "    df_bowl_match.groupby('Bowler').sum().reset_index().filter(regex = '[^Match_id,Innings,Over,Ball]'),           df_bowlAvg.filter(regex = \"[^Caught,Bowled,Stump,Caught_bowled, Lbw, Runout]\").rename(columns =      {'Delieveries_bowled':'AvgDeliveries_bowled','Batsman_runs': 'AvgBatsman_runs', 'Extra_runs': 'AvgExtra_runs' , 'Six': 'AvgSix', 'Four': 'AvgFour', 'wicket' : 'AvgWicket'}),\n",
        " on = 'Bowler')\n",
        "\n",
        "#Bowler Economy\n",
        "dfecon = df.groupby(['Bowler','Match_id', 'Over']).sum().reset_index().groupby('Bowler').mean().reset_index()[['Bowler','Batsman_runs', 'Extra_runs']]\n",
        "dfecon['Economy'] = dfecon['Batsman_runs'] + dfecon['Extra_runs']\n",
        "\n",
        "#Bowler final dataframe\n",
        "df_bowler_summ = pd.merge(df_bowl_Avg_Tot.loc[df_bowl_Avg_Tot['TotalDeliveries'] > 50], dfecon[['Bowler','Economy']], on = 'Bowler')\n",
        "\n",
        "\n",
        "## Bowler variance\n",
        "df_bowler_summ['Runs_sq'] = 0\n",
        "df_bowler_summ['Matches_played'] = 0\n",
        "for i in range(len(df_bowler_summ)):\n",
        "    for j in range(len(df_bowl_match)):\n",
        "        if df_bowler_summ.iloc[i]['Bowler'] == df_bowl_match.iloc[j]['Bowler']:\n",
        "            df_bowler_summ['Runs_sq'].iloc[i] += (df_bowl_match.iloc[j]['Batsman_runs'] +  df_bowl_match.iloc[j]['Extra_runs'])**2\n",
        "            df_bowler_summ['Matches_played'].iloc[i] += 1\n",
        "\n",
        "AvgRuns = df_bowler_summ['AvgBatsman_runs']+df_bowler_summ['AvgExtra_runs']\n",
        "NumberMatches = df_bowler_summ['Matches_played']\n",
        "\n",
        "df_bowler_summ['Var'] = 0\n",
        "\n",
        "for i in range(len(df_bowler_summ)):\n",
        "    if NumberMatches.loc[i] > 0:\n",
        "        df_bowler_summ[\"Var\"].loc[i] = (df_bowler_summ['Runs_sq'].loc[i] - NumberMatches.loc[i]*(AvgRuns.loc[i]**2))/(NumberMatches.loc[i] - 1)\n",
        "\n",
        "df_bowler = pd.merge(df_bowler_summ, df[['Bowler', 'Bowling_team']].drop_duplicates(keep = 'first'), on = 'Bowler')\n",
        "df_bowler.dropna(inplace=True)\n",
        "\n",
        "#bowler scatter\n",
        "\n",
        "quadrant_chart(\n",
        "    x=df_bowler['Economy'],\n",
        "    y=df_bowler['wicket'],\n",
        "    team=df_bowler['Bowling_team'],\n",
        "    xaxis=dict(title=\"Average number of wickets\"),\n",
        "    yaxis=dict(title=\"Economy\"),\n",
        "    title=dict(text = \"Bowler wicket vs Economy distribution for each team\")\n",
        ")\n",
        "\n",
        "#bowler box\n",
        "\n",
        "trace0 = go.Box(y = df_bowler.loc[df_bowler['Bowling_team'] == 'Peshawar Zalmi', 'Economy'], name = 'Peshawar Zalmi', boxmean = 'sd', boxpoints = 'all')\n",
        "trace1 = go.Box(y = df_bowler.loc[df_bowler['Bowling_team'] == 'Islamabad United', 'Economy'], name = 'Islamabad United', boxmean = 'sd', boxpoints = 'all')\n",
        "trace2 = go.Box(y = df_bowler.loc[df_bowler['Bowling_team'] == 'Quetta Gladiators', 'Economy'], name = 'Quetta Gladiators', boxmean = 'sd', boxpoints = 'all')\n",
        "trace3 = go.Box(y = df_bowler.loc[df_bowler['Bowling_team'] == 'Karachi Kings', 'Economy'], name = 'Karachi Kings' , boxmean = 'sd', boxpoints = 'all')\n",
        "trace4 = go.Box(y = df_bowler.loc[df_bowler['Bowling_team'] == 'Lahore Qalandars', 'Economy'], name = 'Lahore Qalandars' , boxmean = 'sd', boxpoints = 'all')\n",
        "\n",
        "data = [trace0, trace1, trace2, trace3, trace4]\n",
        "\n",
        "figBowlerBox = go.Figure(data = data)\n",
        "\n",
        "figHBowlerBox.update_layout(\n",
        "    title=dict(text = \"Average Bowler Economy distribution for each team\" ),\n",
        "    xaxis=dict(title=\"Teams\"),\n",
        "    yaxis_title=\"Economy\",\n",
        "    legend_title=\"Teams\")\n",
        "\n",
        "figHBowlerBox.show()\n",
        "\n",
        "##PESHAWAR ZALMI standout - 9 regular bowlwers, smallest median, 6 bowlers qith economy bteeer tahn 7\n",
        "##Lahore comes close with 3 bowlers alomst less than 7\n",
        "\n",
        "#Creating player score dataframe\n",
        "\n",
        "dfscore = df_bat[['Batsman_strike', 'Batting_team','TotalRuns','AvgRuns_match', 'Strike_rate', 'Var']].rename(columns = {'Batsman_strike': 'Player', 'Batting_team':'Team','Var': 'Bat_var'}).merge(df_bowler[['Bowler', 'Economy','wicket' ,'AvgWicket','AvgDeliveries_bowled', 'TotalDeliveries', 'Var', 'Bowling_team']].rename(columns = {'Bowler':'Player','Var':'Bowl_var','Bowling_team':'Team'}), on = ['Player','Team'], how = 'outer').fillna(value = 0)     \n",
        "\n",
        "metricsPostiveIncrement = ['Strike_rate','TotalRuns', 'wicket']\n",
        "metricsNegativeIncrement = ['Economy', 'Bat_var', 'Bowl_var']\n",
        "\n",
        "\n",
        "for positiveMetric in metricsPostiveIncrement:\n",
        "            dfscore[positiveMetric+'Rank'] = np.zeros(len(dfscore))\n",
        "for negativeMetric in metricsNegativeIncrement:\n",
        "            dfscore[negativeMetric+'Rank'] = np.zeros(len(dfscore))\n",
        "\n",
        "def awardingPositiveIncrement(metric, index):\n",
        "    #Comparing against only bowlers\n",
        "    x = dfscore[metric].iloc[index]\n",
        "    not_bat_bowl = False\n",
        "    if metric == 'wicket':\n",
        "        quantile = dfscore.loc[dfscore['TotalDeliveries'] > 50, metric] \n",
        "        not_bat_bowl = dfscore['TotalDeliveries'].iloc[index] < 50\n",
        "    else:\n",
        "        #Comparing against only batsman\n",
        "        quantile = dfscore.loc[dfscore['TotalRuns'] > 50, metric]\n",
        "        not_bat_bowl  = dfscore['TotalRuns'].iloc[index] < 50\n",
        "    if (x == 0) | (not_bat_bowl):\n",
        "        return 0\n",
        "    if x <= np.quantile(quantile,0.25):\n",
        "        return 1\n",
        "    if x<=  np.quantile(quantile,0.5):\n",
        "        return  2\n",
        "    if x<=  np.quantile(quantile,0.75):\n",
        "        return  3\n",
        "    else:\n",
        "        return 4\n",
        "\n",
        "def awardingNegativeIncrement(metric, index):\n",
        "    x = dfscore[metric].iloc[index]\n",
        "    not_bat_bowl = False\n",
        "    #Comparing against only batsman\n",
        "    if metric == 'Bat_var':\n",
        "        mean = dfscore.loc[dfscore['TotalRuns'] > 50, metric].mean()\n",
        "        not_bat_bowl = dfscore['TotalRuns'].iloc[index] < 50\n",
        "    #Comparing against only bowler\n",
        "    elif metric == \"Bowl_var\":\n",
        "        mean = dfscore.loc[dfscore['TotalDeliveries'] > 50, metric].mean()\n",
        "        not_bat_bowl = dfscore['TotalDeliveries'].iloc[index] < 50\n",
        "    else:\n",
        "        mean = dfscore.loc[dfscore['TotalDeliveries'] > 50, metric].mean()\n",
        "    if (x == 0) | (not_bat_bowl):\n",
        "        return 0\n",
        "    elif x >=  1.5*mean:\n",
        "        return 1\n",
        "    elif ((x >=  mean) & (x < 1.5*mean)):\n",
        "        return 2\n",
        "    elif x <= 0.25*mean:\n",
        "        return 4\n",
        "    else:\n",
        "        return 3  \n",
        "\n",
        "def awardingMetric(index):\n",
        "    for positiveMetric in metricsPostiveIncrement:\n",
        "            dfscore[positiveMetric+'Rank'].iloc[index] = awardingPositiveIncrement(positiveMetric, index) \n",
        "    for negativeMetric in metricsNegativeIncrement:\n",
        "            dfscore[negativeMetric+'Rank'].iloc[index] = awardingNegativeIncrement(negativeMetric , index) \n",
        "    return dfscore \n",
        "\n",
        "for index in range(len(dfscore)):\n",
        "    awardingMetric(index)\n",
        "\n",
        "##Creating PlayerScore column as the sum of all metrics\n",
        "dfscore['PlayerScore'] = dfscore['TotalRunsRank'] + dfscore['Strike_rateRank'] + dfscore['wicketRank'] + dfscore['EconomyRank'] + dfscore['Bat_varRank'] + dfscore['Bowl_varRank']\n",
        "\n",
        "dfscore= dfscore.sort_values(by='PlayerScore', ascending=True)\n",
        "\n",
        "##Histogram with distribution\n",
        "\n",
        "team_list = list(dfscore['Team'].unique())\n",
        "\n",
        "trace0 = go.Histogram(x= dfscore.loc[dfscore['Team'] == team_list[0], 'PlayerScore'], opacity = 0.75, name = team_list[0])\n",
        "trace1 = go.Histogram(x= dfscore.loc[dfscore['Team'] == team_list[1], 'PlayerScore'], opacity = 0.75, name = team_list[1])\n",
        "trace2 = go.Histogram(x= dfscore.loc[dfscore['Team'] == team_list[2], 'PlayerScore'], opacity = 0.75, name = team_list[2])\n",
        "trace3 = go.Histogram(x= dfscore.loc[dfscore['Team'] == team_list[3], 'PlayerScore'], opacity = 0.75, name = team_list[3])\n",
        "trace4 = go.Histogram(x= dfscore.loc[dfscore['Team'] == team_list[4], 'PlayerScore'], opacity = 0.75, name = team_list[4])\n",
        "\n",
        "figHistogram = make_subplots(rows =3, cols = 2)\n",
        "figHistogram.append_trace(trace0,1,1)\n",
        "figHistogram.append_trace(trace1,2,1)\n",
        "figHistogram.append_trace(trace2,2,2)\n",
        "figHistogram.append_trace(trace3,3,1)\n",
        "figHistogram.append_trace(trace4,3,2)\n",
        "\n",
        "figHistogram.update_layout(\n",
        "    title='Distibution of Player Scores for each teams',\n",
        "    xaxis=dict(title=\"Player Score\",tickmode = 'linear', dtick = 10),\n",
        "    yaxis_title=\"Number of Players\",\n",
        "    legend_title=\"Player Score\"\n",
        ")\n",
        " \n",
        "\n",
        "\n",
        "figHistogram.show()\n",
        "\n",
        "##Peshawar the clear standout players\n",
        "\n",
        "#Heatmap\n",
        "\n",
        "team_list = list(dfscore['Team'].unique())\n",
        "\n",
        "scoreList = []\n",
        "\n",
        "\n",
        "for team in team_list:\n",
        "    scoreTeamList = []\n",
        "    for index in range(len(dfscore)):\n",
        "        if dfscore['Team'].iloc[index] == team:\n",
        "            scoreTeamList.append(dfscore['PlayerScore'].iloc[index])\n",
        "    scoreList.append(scoreTeamList)\n",
        "\n",
        "    figHeatmap = go.Figure(data=go.Heatmap(\n",
        "                   z=scoreList,\n",
        "                   y=team_list,\n",
        "                   colorbar_title_text= \"Player Score\",\n",
        "                   hoverinfo=\"y+z\",\n",
        "                   hoverongaps = True, ))\n",
        "\n",
        "\n",
        "figHeatmap.update_layout(\n",
        "    title='Heatmap of Player Score across teams',\n",
        "    xaxis_title=\"Number of Players\",\n",
        "    yaxis_title=\"Teams\",\n",
        "    legend_title=\"Player Score\",\n",
        "    xaxis_nticks=18)\n",
        "\n",
        "figHeatmap.show()\n"
      ]
    },
    {
      "cell_type": "code",
      "execution_count": null,
      "metadata": {},
      "outputs": [],
      "source": []
    },
    {
      "cell_type": "code",
      "execution_count": 549,
      "metadata": {},
      "outputs": [
        {
          "output_type": "display_data",
          "data": {
            "application/vnd.plotly.v1+json": {
              "data": [
                {
                  "colorscale": [
                    [
                      0,
                      "#440154"
                    ],
                    [
                      0.1111111111111111,
                      "#482878"
                    ],
                    [
                      0.2222222222222222,
                      "#3e4989"
                    ],
                    [
                      0.3333333333333333,
                      "#31688e"
                    ],
                    [
                      0.4444444444444444,
                      "#26828e"
                    ],
                    [
                      0.5555555555555556,
                      "#1f9e89"
                    ],
                    [
                      0.6666666666666666,
                      "#35b779"
                    ],
                    [
                      0.7777777777777778,
                      "#6ece58"
                    ],
                    [
                      0.8888888888888888,
                      "#b5de2b"
                    ],
                    [
                      1,
                      "#fde725"
                    ]
                  ],
                  "y": [
                    "Peshawar Zalmi",
                    "Karachi Kings",
                    "Islamabad United",
                    "Quetta Gladiators",
                    "Quetta Gladiators",
                    "Quetta Gladiators",
                    "Karachi Kings",
                    "Karachi Kings",
                    "Karachi Kings",
                    "Quetta Gladiators",
                    "Lahore Qalandars",
                    "Peshawar Zalmi",
                    "Peshawar Zalmi",
                    "Lahore Qalandars",
                    "Islamabad United",
                    "Lahore Qalandars",
                    "Karachi Kings",
                    "Islamabad United",
                    "Peshawar Zalmi",
                    "Quetta Gladiators",
                    "Islamabad United",
                    "Peshawar Zalmi",
                    "Islamabad United",
                    "Lahore Qalandars",
                    "Peshawar Zalmi",
                    "Karachi Kings",
                    "Lahore Qalandars",
                    "Peshawar Zalmi",
                    "Lahore Qalandars",
                    "Karachi Kings",
                    "Lahore Qalandars",
                    "Peshawar Zalmi",
                    "Lahore Qalandars",
                    "Lahore Qalandars",
                    "Islamabad United",
                    "Islamabad United",
                    "Quetta Gladiators",
                    "Peshawar Zalmi",
                    "Islamabad United",
                    "Islamabad United",
                    "Quetta Gladiators",
                    "Quetta Gladiators",
                    "Peshawar Zalmi",
                    "Peshawar Zalmi",
                    "Peshawar Zalmi",
                    "Islamabad United",
                    "Quetta Gladiators",
                    "Peshawar Zalmi",
                    "Lahore Qalandars",
                    "Islamabad United",
                    "Quetta Gladiators",
                    "Karachi Kings",
                    "Peshawar Zalmi",
                    "Lahore Qalandars",
                    "Quetta Gladiators",
                    "Karachi Kings",
                    "Quetta Gladiators",
                    "Karachi Kings",
                    "Peshawar Zalmi",
                    "Quetta Gladiators",
                    "Karachi Kings",
                    "Quetta Gladiators",
                    "Karachi Kings",
                    "Lahore Qalandars",
                    "Quetta Gladiators",
                    "Quetta Gladiators",
                    "Lahore Qalandars",
                    "Islamabad United",
                    "Quetta Gladiators",
                    "Islamabad United",
                    "Lahore Qalandars",
                    "Islamabad United",
                    "Islamabad United",
                    "Peshawar Zalmi",
                    "Peshawar Zalmi",
                    "Quetta Gladiators",
                    "Quetta Gladiators",
                    "Karachi Kings",
                    "Islamabad United",
                    "Islamabad United",
                    "Peshawar Zalmi",
                    "Islamabad United"
                  ],
                  "z": [
                    [
                      7,
                      5,
                      6,
                      6,
                      8,
                      7,
                      6,
                      11,
                      8,
                      7,
                      7,
                      14,
                      6,
                      7,
                      14,
                      6,
                      4,
                      4,
                      12,
                      3,
                      4,
                      3,
                      6,
                      4,
                      11,
                      7,
                      15,
                      3,
                      3,
                      12,
                      5,
                      3,
                      8,
                      9,
                      4,
                      14,
                      9,
                      10,
                      0,
                      0,
                      5,
                      8,
                      0,
                      0,
                      9,
                      0,
                      8,
                      8,
                      6,
                      0,
                      0,
                      8,
                      10,
                      9,
                      7,
                      0,
                      0,
                      10,
                      0,
                      0,
                      0,
                      0,
                      9,
                      5,
                      0,
                      0,
                      7,
                      10,
                      8,
                      0,
                      0,
                      0,
                      0,
                      6,
                      0,
                      0,
                      8,
                      9,
                      11,
                      8,
                      7,
                      4
                    ]
                  ],
                  "type": "heatmap"
                }
              ],
              "layout": {
                "template": {
                  "data": {
                    "histogram2dcontour": [
                      {
                        "type": "histogram2dcontour",
                        "colorbar": {
                          "outlinewidth": 0,
                          "ticks": ""
                        },
                        "colorscale": [
                          [
                            0,
                            "#0d0887"
                          ],
                          [
                            0.1111111111111111,
                            "#46039f"
                          ],
                          [
                            0.2222222222222222,
                            "#7201a8"
                          ],
                          [
                            0.3333333333333333,
                            "#9c179e"
                          ],
                          [
                            0.4444444444444444,
                            "#bd3786"
                          ],
                          [
                            0.5555555555555556,
                            "#d8576b"
                          ],
                          [
                            0.6666666666666666,
                            "#ed7953"
                          ],
                          [
                            0.7777777777777778,
                            "#fb9f3a"
                          ],
                          [
                            0.8888888888888888,
                            "#fdca26"
                          ],
                          [
                            1,
                            "#f0f921"
                          ]
                        ]
                      }
                    ],
                    "choropleth": [
                      {
                        "type": "choropleth",
                        "colorbar": {
                          "outlinewidth": 0,
                          "ticks": ""
                        }
                      }
                    ],
                    "histogram2d": [
                      {
                        "type": "histogram2d",
                        "colorbar": {
                          "outlinewidth": 0,
                          "ticks": ""
                        },
                        "colorscale": [
                          [
                            0,
                            "#0d0887"
                          ],
                          [
                            0.1111111111111111,
                            "#46039f"
                          ],
                          [
                            0.2222222222222222,
                            "#7201a8"
                          ],
                          [
                            0.3333333333333333,
                            "#9c179e"
                          ],
                          [
                            0.4444444444444444,
                            "#bd3786"
                          ],
                          [
                            0.5555555555555556,
                            "#d8576b"
                          ],
                          [
                            0.6666666666666666,
                            "#ed7953"
                          ],
                          [
                            0.7777777777777778,
                            "#fb9f3a"
                          ],
                          [
                            0.8888888888888888,
                            "#fdca26"
                          ],
                          [
                            1,
                            "#f0f921"
                          ]
                        ]
                      }
                    ],
                    "heatmap": [
                      {
                        "type": "heatmap",
                        "colorbar": {
                          "outlinewidth": 0,
                          "ticks": ""
                        },
                        "colorscale": [
                          [
                            0,
                            "#0d0887"
                          ],
                          [
                            0.1111111111111111,
                            "#46039f"
                          ],
                          [
                            0.2222222222222222,
                            "#7201a8"
                          ],
                          [
                            0.3333333333333333,
                            "#9c179e"
                          ],
                          [
                            0.4444444444444444,
                            "#bd3786"
                          ],
                          [
                            0.5555555555555556,
                            "#d8576b"
                          ],
                          [
                            0.6666666666666666,
                            "#ed7953"
                          ],
                          [
                            0.7777777777777778,
                            "#fb9f3a"
                          ],
                          [
                            0.8888888888888888,
                            "#fdca26"
                          ],
                          [
                            1,
                            "#f0f921"
                          ]
                        ]
                      }
                    ],
                    "heatmapgl": [
                      {
                        "type": "heatmapgl",
                        "colorbar": {
                          "outlinewidth": 0,
                          "ticks": ""
                        },
                        "colorscale": [
                          [
                            0,
                            "#0d0887"
                          ],
                          [
                            0.1111111111111111,
                            "#46039f"
                          ],
                          [
                            0.2222222222222222,
                            "#7201a8"
                          ],
                          [
                            0.3333333333333333,
                            "#9c179e"
                          ],
                          [
                            0.4444444444444444,
                            "#bd3786"
                          ],
                          [
                            0.5555555555555556,
                            "#d8576b"
                          ],
                          [
                            0.6666666666666666,
                            "#ed7953"
                          ],
                          [
                            0.7777777777777778,
                            "#fb9f3a"
                          ],
                          [
                            0.8888888888888888,
                            "#fdca26"
                          ],
                          [
                            1,
                            "#f0f921"
                          ]
                        ]
                      }
                    ],
                    "contourcarpet": [
                      {
                        "type": "contourcarpet",
                        "colorbar": {
                          "outlinewidth": 0,
                          "ticks": ""
                        }
                      }
                    ],
                    "contour": [
                      {
                        "type": "contour",
                        "colorbar": {
                          "outlinewidth": 0,
                          "ticks": ""
                        },
                        "colorscale": [
                          [
                            0,
                            "#0d0887"
                          ],
                          [
                            0.1111111111111111,
                            "#46039f"
                          ],
                          [
                            0.2222222222222222,
                            "#7201a8"
                          ],
                          [
                            0.3333333333333333,
                            "#9c179e"
                          ],
                          [
                            0.4444444444444444,
                            "#bd3786"
                          ],
                          [
                            0.5555555555555556,
                            "#d8576b"
                          ],
                          [
                            0.6666666666666666,
                            "#ed7953"
                          ],
                          [
                            0.7777777777777778,
                            "#fb9f3a"
                          ],
                          [
                            0.8888888888888888,
                            "#fdca26"
                          ],
                          [
                            1,
                            "#f0f921"
                          ]
                        ]
                      }
                    ],
                    "surface": [
                      {
                        "type": "surface",
                        "colorbar": {
                          "outlinewidth": 0,
                          "ticks": ""
                        },
                        "colorscale": [
                          [
                            0,
                            "#0d0887"
                          ],
                          [
                            0.1111111111111111,
                            "#46039f"
                          ],
                          [
                            0.2222222222222222,
                            "#7201a8"
                          ],
                          [
                            0.3333333333333333,
                            "#9c179e"
                          ],
                          [
                            0.4444444444444444,
                            "#bd3786"
                          ],
                          [
                            0.5555555555555556,
                            "#d8576b"
                          ],
                          [
                            0.6666666666666666,
                            "#ed7953"
                          ],
                          [
                            0.7777777777777778,
                            "#fb9f3a"
                          ],
                          [
                            0.8888888888888888,
                            "#fdca26"
                          ],
                          [
                            1,
                            "#f0f921"
                          ]
                        ]
                      }
                    ],
                    "mesh3d": [
                      {
                        "type": "mesh3d",
                        "colorbar": {
                          "outlinewidth": 0,
                          "ticks": ""
                        }
                      }
                    ],
                    "scatter": [
                      {
                        "fillpattern": {
                          "fillmode": "overlay",
                          "size": 10,
                          "solidity": 0.2
                        },
                        "type": "scatter"
                      }
                    ],
                    "parcoords": [
                      {
                        "type": "parcoords",
                        "line": {
                          "colorbar": {
                            "outlinewidth": 0,
                            "ticks": ""
                          }
                        }
                      }
                    ],
                    "scatterpolargl": [
                      {
                        "type": "scatterpolargl",
                        "marker": {
                          "colorbar": {
                            "outlinewidth": 0,
                            "ticks": ""
                          }
                        }
                      }
                    ],
                    "bar": [
                      {
                        "error_x": {
                          "color": "#2a3f5f"
                        },
                        "error_y": {
                          "color": "#2a3f5f"
                        },
                        "marker": {
                          "line": {
                            "color": "#E5ECF6",
                            "width": 0.5
                          },
                          "pattern": {
                            "fillmode": "overlay",
                            "size": 10,
                            "solidity": 0.2
                          }
                        },
                        "type": "bar"
                      }
                    ],
                    "scattergeo": [
                      {
                        "type": "scattergeo",
                        "marker": {
                          "colorbar": {
                            "outlinewidth": 0,
                            "ticks": ""
                          }
                        }
                      }
                    ],
                    "scatterpolar": [
                      {
                        "type": "scatterpolar",
                        "marker": {
                          "colorbar": {
                            "outlinewidth": 0,
                            "ticks": ""
                          }
                        }
                      }
                    ],
                    "histogram": [
                      {
                        "marker": {
                          "pattern": {
                            "fillmode": "overlay",
                            "size": 10,
                            "solidity": 0.2
                          }
                        },
                        "type": "histogram"
                      }
                    ],
                    "scattergl": [
                      {
                        "type": "scattergl",
                        "marker": {
                          "colorbar": {
                            "outlinewidth": 0,
                            "ticks": ""
                          }
                        }
                      }
                    ],
                    "scatter3d": [
                      {
                        "type": "scatter3d",
                        "line": {
                          "colorbar": {
                            "outlinewidth": 0,
                            "ticks": ""
                          }
                        },
                        "marker": {
                          "colorbar": {
                            "outlinewidth": 0,
                            "ticks": ""
                          }
                        }
                      }
                    ],
                    "scattermapbox": [
                      {
                        "type": "scattermapbox",
                        "marker": {
                          "colorbar": {
                            "outlinewidth": 0,
                            "ticks": ""
                          }
                        }
                      }
                    ],
                    "scatterternary": [
                      {
                        "type": "scatterternary",
                        "marker": {
                          "colorbar": {
                            "outlinewidth": 0,
                            "ticks": ""
                          }
                        }
                      }
                    ],
                    "scattercarpet": [
                      {
                        "type": "scattercarpet",
                        "marker": {
                          "colorbar": {
                            "outlinewidth": 0,
                            "ticks": ""
                          }
                        }
                      }
                    ],
                    "carpet": [
                      {
                        "aaxis": {
                          "endlinecolor": "#2a3f5f",
                          "gridcolor": "white",
                          "linecolor": "white",
                          "minorgridcolor": "white",
                          "startlinecolor": "#2a3f5f"
                        },
                        "baxis": {
                          "endlinecolor": "#2a3f5f",
                          "gridcolor": "white",
                          "linecolor": "white",
                          "minorgridcolor": "white",
                          "startlinecolor": "#2a3f5f"
                        },
                        "type": "carpet"
                      }
                    ],
                    "table": [
                      {
                        "cells": {
                          "fill": {
                            "color": "#EBF0F8"
                          },
                          "line": {
                            "color": "white"
                          }
                        },
                        "header": {
                          "fill": {
                            "color": "#C8D4E3"
                          },
                          "line": {
                            "color": "white"
                          }
                        },
                        "type": "table"
                      }
                    ],
                    "barpolar": [
                      {
                        "marker": {
                          "line": {
                            "color": "#E5ECF6",
                            "width": 0.5
                          },
                          "pattern": {
                            "fillmode": "overlay",
                            "size": 10,
                            "solidity": 0.2
                          }
                        },
                        "type": "barpolar"
                      }
                    ],
                    "pie": [
                      {
                        "automargin": true,
                        "type": "pie"
                      }
                    ]
                  },
                  "layout": {
                    "autotypenumbers": "strict",
                    "colorway": [
                      "#636efa",
                      "#EF553B",
                      "#00cc96",
                      "#ab63fa",
                      "#FFA15A",
                      "#19d3f3",
                      "#FF6692",
                      "#B6E880",
                      "#FF97FF",
                      "#FECB52"
                    ],
                    "font": {
                      "color": "#2a3f5f"
                    },
                    "hovermode": "closest",
                    "hoverlabel": {
                      "align": "left"
                    },
                    "paper_bgcolor": "white",
                    "plot_bgcolor": "#E5ECF6",
                    "polar": {
                      "bgcolor": "#E5ECF6",
                      "angularaxis": {
                        "gridcolor": "white",
                        "linecolor": "white",
                        "ticks": ""
                      },
                      "radialaxis": {
                        "gridcolor": "white",
                        "linecolor": "white",
                        "ticks": ""
                      }
                    },
                    "ternary": {
                      "bgcolor": "#E5ECF6",
                      "aaxis": {
                        "gridcolor": "white",
                        "linecolor": "white",
                        "ticks": ""
                      },
                      "baxis": {
                        "gridcolor": "white",
                        "linecolor": "white",
                        "ticks": ""
                      },
                      "caxis": {
                        "gridcolor": "white",
                        "linecolor": "white",
                        "ticks": ""
                      }
                    },
                    "coloraxis": {
                      "colorbar": {
                        "outlinewidth": 0,
                        "ticks": ""
                      }
                    },
                    "colorscale": {
                      "sequential": [
                        [
                          0,
                          "#0d0887"
                        ],
                        [
                          0.1111111111111111,
                          "#46039f"
                        ],
                        [
                          0.2222222222222222,
                          "#7201a8"
                        ],
                        [
                          0.3333333333333333,
                          "#9c179e"
                        ],
                        [
                          0.4444444444444444,
                          "#bd3786"
                        ],
                        [
                          0.5555555555555556,
                          "#d8576b"
                        ],
                        [
                          0.6666666666666666,
                          "#ed7953"
                        ],
                        [
                          0.7777777777777778,
                          "#fb9f3a"
                        ],
                        [
                          0.8888888888888888,
                          "#fdca26"
                        ],
                        [
                          1,
                          "#f0f921"
                        ]
                      ],
                      "sequentialminus": [
                        [
                          0,
                          "#0d0887"
                        ],
                        [
                          0.1111111111111111,
                          "#46039f"
                        ],
                        [
                          0.2222222222222222,
                          "#7201a8"
                        ],
                        [
                          0.3333333333333333,
                          "#9c179e"
                        ],
                        [
                          0.4444444444444444,
                          "#bd3786"
                        ],
                        [
                          0.5555555555555556,
                          "#d8576b"
                        ],
                        [
                          0.6666666666666666,
                          "#ed7953"
                        ],
                        [
                          0.7777777777777778,
                          "#fb9f3a"
                        ],
                        [
                          0.8888888888888888,
                          "#fdca26"
                        ],
                        [
                          1,
                          "#f0f921"
                        ]
                      ],
                      "diverging": [
                        [
                          0,
                          "#8e0152"
                        ],
                        [
                          0.1,
                          "#c51b7d"
                        ],
                        [
                          0.2,
                          "#de77ae"
                        ],
                        [
                          0.3,
                          "#f1b6da"
                        ],
                        [
                          0.4,
                          "#fde0ef"
                        ],
                        [
                          0.5,
                          "#f7f7f7"
                        ],
                        [
                          0.6,
                          "#e6f5d0"
                        ],
                        [
                          0.7,
                          "#b8e186"
                        ],
                        [
                          0.8,
                          "#7fbc41"
                        ],
                        [
                          0.9,
                          "#4d9221"
                        ],
                        [
                          1,
                          "#276419"
                        ]
                      ]
                    },
                    "xaxis": {
                      "gridcolor": "white",
                      "linecolor": "white",
                      "ticks": "",
                      "title": {
                        "standoff": 15
                      },
                      "zerolinecolor": "white",
                      "automargin": true,
                      "zerolinewidth": 2
                    },
                    "yaxis": {
                      "gridcolor": "white",
                      "linecolor": "white",
                      "ticks": "",
                      "title": {
                        "standoff": 15
                      },
                      "zerolinecolor": "white",
                      "automargin": true,
                      "zerolinewidth": 2
                    },
                    "scene": {
                      "xaxis": {
                        "backgroundcolor": "#E5ECF6",
                        "gridcolor": "white",
                        "linecolor": "white",
                        "showbackground": true,
                        "ticks": "",
                        "zerolinecolor": "white",
                        "gridwidth": 2
                      },
                      "yaxis": {
                        "backgroundcolor": "#E5ECF6",
                        "gridcolor": "white",
                        "linecolor": "white",
                        "showbackground": true,
                        "ticks": "",
                        "zerolinecolor": "white",
                        "gridwidth": 2
                      },
                      "zaxis": {
                        "backgroundcolor": "#E5ECF6",
                        "gridcolor": "white",
                        "linecolor": "white",
                        "showbackground": true,
                        "ticks": "",
                        "zerolinecolor": "white",
                        "gridwidth": 2
                      }
                    },
                    "shapedefaults": {
                      "line": {
                        "color": "#2a3f5f"
                      }
                    },
                    "annotationdefaults": {
                      "arrowcolor": "#2a3f5f",
                      "arrowhead": 0,
                      "arrowwidth": 1
                    },
                    "geo": {
                      "bgcolor": "white",
                      "landcolor": "#E5ECF6",
                      "subunitcolor": "white",
                      "showland": true,
                      "showlakes": true,
                      "lakecolor": "white"
                    },
                    "title": {
                      "x": 0.05
                    },
                    "mapbox": {
                      "style": "light"
                    }
                  }
                }
              },
              "config": {
                "plotlyServerURL": "https://plot.ly"
              }
            },
            "text/html": "<div>                            <div id=\"55a8e279-ef5a-45c7-bff9-a57498378a88\" class=\"plotly-graph-div\" style=\"height:525px; width:100%;\"></div>            <script type=\"text/javascript\">                require([\"plotly\"], function(Plotly) {                    window.PLOTLYENV=window.PLOTLYENV || {};                                    if (document.getElementById(\"55a8e279-ef5a-45c7-bff9-a57498378a88\")) {                    Plotly.newPlot(                        \"55a8e279-ef5a-45c7-bff9-a57498378a88\",                        [{\"colorscale\":[[0.0,\"#440154\"],[0.1111111111111111,\"#482878\"],[0.2222222222222222,\"#3e4989\"],[0.3333333333333333,\"#31688e\"],[0.4444444444444444,\"#26828e\"],[0.5555555555555556,\"#1f9e89\"],[0.6666666666666666,\"#35b779\"],[0.7777777777777778,\"#6ece58\"],[0.8888888888888888,\"#b5de2b\"],[1.0,\"#fde725\"]],\"y\":[\"Peshawar Zalmi\",\"Karachi Kings\",\"Islamabad United\",\"Quetta Gladiators\",\"Quetta Gladiators\",\"Quetta Gladiators\",\"Karachi Kings\",\"Karachi Kings\",\"Karachi Kings\",\"Quetta Gladiators\",\"Lahore Qalandars\",\"Peshawar Zalmi\",\"Peshawar Zalmi\",\"Lahore Qalandars\",\"Islamabad United\",\"Lahore Qalandars\",\"Karachi Kings\",\"Islamabad United\",\"Peshawar Zalmi\",\"Quetta Gladiators\",\"Islamabad United\",\"Peshawar Zalmi\",\"Islamabad United\",\"Lahore Qalandars\",\"Peshawar Zalmi\",\"Karachi Kings\",\"Lahore Qalandars\",\"Peshawar Zalmi\",\"Lahore Qalandars\",\"Karachi Kings\",\"Lahore Qalandars\",\"Peshawar Zalmi\",\"Lahore Qalandars\",\"Lahore Qalandars\",\"Islamabad United\",\"Islamabad United\",\"Quetta Gladiators\",\"Peshawar Zalmi\",\"Islamabad United\",\"Islamabad United\",\"Quetta Gladiators\",\"Quetta Gladiators\",\"Peshawar Zalmi\",\"Peshawar Zalmi\",\"Peshawar Zalmi\",\"Islamabad United\",\"Quetta Gladiators\",\"Peshawar Zalmi\",\"Lahore Qalandars\",\"Islamabad United\",\"Quetta Gladiators\",\"Karachi Kings\",\"Peshawar Zalmi\",\"Lahore Qalandars\",\"Quetta Gladiators\",\"Karachi Kings\",\"Quetta Gladiators\",\"Karachi Kings\",\"Peshawar Zalmi\",\"Quetta Gladiators\",\"Karachi Kings\",\"Quetta Gladiators\",\"Karachi Kings\",\"Lahore Qalandars\",\"Quetta Gladiators\",\"Quetta Gladiators\",\"Lahore Qalandars\",\"Islamabad United\",\"Quetta Gladiators\",\"Islamabad United\",\"Lahore Qalandars\",\"Islamabad United\",\"Islamabad United\",\"Peshawar Zalmi\",\"Peshawar Zalmi\",\"Quetta Gladiators\",\"Quetta Gladiators\",\"Karachi Kings\",\"Islamabad United\",\"Islamabad United\",\"Peshawar Zalmi\",\"Islamabad United\"],\"z\":[[7.0,5.0,6.0,6.0,8.0,7.0,6.0,11.0,8.0,7.0,7.0,14.0,6.0,7.0,14.0,6.0,4.0,4.0,12.0,3.0,4.0,3.0,6.0,4.0,11.0,7.0,15.0,3.0,3.0,12.0,5.0,3.0,8.0,9.0,4.0,14.0,9.0,10.0,0.0,0.0,5.0,8.0,0.0,0.0,9.0,0.0,8.0,8.0,6.0,0.0,0.0,8.0,10.0,9.0,7.0,0.0,0.0,10.0,0.0,0.0,0.0,0.0,9.0,5.0,0.0,0.0,7.0,10.0,8.0,0.0,0.0,0.0,0.0,6.0,0.0,0.0,8.0,9.0,11.0,8.0,7.0,4.0]],\"type\":\"heatmap\"}],                        {\"template\":{\"data\":{\"histogram2dcontour\":[{\"type\":\"histogram2dcontour\",\"colorbar\":{\"outlinewidth\":0,\"ticks\":\"\"},\"colorscale\":[[0.0,\"#0d0887\"],[0.1111111111111111,\"#46039f\"],[0.2222222222222222,\"#7201a8\"],[0.3333333333333333,\"#9c179e\"],[0.4444444444444444,\"#bd3786\"],[0.5555555555555556,\"#d8576b\"],[0.6666666666666666,\"#ed7953\"],[0.7777777777777778,\"#fb9f3a\"],[0.8888888888888888,\"#fdca26\"],[1.0,\"#f0f921\"]]}],\"choropleth\":[{\"type\":\"choropleth\",\"colorbar\":{\"outlinewidth\":0,\"ticks\":\"\"}}],\"histogram2d\":[{\"type\":\"histogram2d\",\"colorbar\":{\"outlinewidth\":0,\"ticks\":\"\"},\"colorscale\":[[0.0,\"#0d0887\"],[0.1111111111111111,\"#46039f\"],[0.2222222222222222,\"#7201a8\"],[0.3333333333333333,\"#9c179e\"],[0.4444444444444444,\"#bd3786\"],[0.5555555555555556,\"#d8576b\"],[0.6666666666666666,\"#ed7953\"],[0.7777777777777778,\"#fb9f3a\"],[0.8888888888888888,\"#fdca26\"],[1.0,\"#f0f921\"]]}],\"heatmap\":[{\"type\":\"heatmap\",\"colorbar\":{\"outlinewidth\":0,\"ticks\":\"\"},\"colorscale\":[[0.0,\"#0d0887\"],[0.1111111111111111,\"#46039f\"],[0.2222222222222222,\"#7201a8\"],[0.3333333333333333,\"#9c179e\"],[0.4444444444444444,\"#bd3786\"],[0.5555555555555556,\"#d8576b\"],[0.6666666666666666,\"#ed7953\"],[0.7777777777777778,\"#fb9f3a\"],[0.8888888888888888,\"#fdca26\"],[1.0,\"#f0f921\"]]}],\"heatmapgl\":[{\"type\":\"heatmapgl\",\"colorbar\":{\"outlinewidth\":0,\"ticks\":\"\"},\"colorscale\":[[0.0,\"#0d0887\"],[0.1111111111111111,\"#46039f\"],[0.2222222222222222,\"#7201a8\"],[0.3333333333333333,\"#9c179e\"],[0.4444444444444444,\"#bd3786\"],[0.5555555555555556,\"#d8576b\"],[0.6666666666666666,\"#ed7953\"],[0.7777777777777778,\"#fb9f3a\"],[0.8888888888888888,\"#fdca26\"],[1.0,\"#f0f921\"]]}],\"contourcarpet\":[{\"type\":\"contourcarpet\",\"colorbar\":{\"outlinewidth\":0,\"ticks\":\"\"}}],\"contour\":[{\"type\":\"contour\",\"colorbar\":{\"outlinewidth\":0,\"ticks\":\"\"},\"colorscale\":[[0.0,\"#0d0887\"],[0.1111111111111111,\"#46039f\"],[0.2222222222222222,\"#7201a8\"],[0.3333333333333333,\"#9c179e\"],[0.4444444444444444,\"#bd3786\"],[0.5555555555555556,\"#d8576b\"],[0.6666666666666666,\"#ed7953\"],[0.7777777777777778,\"#fb9f3a\"],[0.8888888888888888,\"#fdca26\"],[1.0,\"#f0f921\"]]}],\"surface\":[{\"type\":\"surface\",\"colorbar\":{\"outlinewidth\":0,\"ticks\":\"\"},\"colorscale\":[[0.0,\"#0d0887\"],[0.1111111111111111,\"#46039f\"],[0.2222222222222222,\"#7201a8\"],[0.3333333333333333,\"#9c179e\"],[0.4444444444444444,\"#bd3786\"],[0.5555555555555556,\"#d8576b\"],[0.6666666666666666,\"#ed7953\"],[0.7777777777777778,\"#fb9f3a\"],[0.8888888888888888,\"#fdca26\"],[1.0,\"#f0f921\"]]}],\"mesh3d\":[{\"type\":\"mesh3d\",\"colorbar\":{\"outlinewidth\":0,\"ticks\":\"\"}}],\"scatter\":[{\"fillpattern\":{\"fillmode\":\"overlay\",\"size\":10,\"solidity\":0.2},\"type\":\"scatter\"}],\"parcoords\":[{\"type\":\"parcoords\",\"line\":{\"colorbar\":{\"outlinewidth\":0,\"ticks\":\"\"}}}],\"scatterpolargl\":[{\"type\":\"scatterpolargl\",\"marker\":{\"colorbar\":{\"outlinewidth\":0,\"ticks\":\"\"}}}],\"bar\":[{\"error_x\":{\"color\":\"#2a3f5f\"},\"error_y\":{\"color\":\"#2a3f5f\"},\"marker\":{\"line\":{\"color\":\"#E5ECF6\",\"width\":0.5},\"pattern\":{\"fillmode\":\"overlay\",\"size\":10,\"solidity\":0.2}},\"type\":\"bar\"}],\"scattergeo\":[{\"type\":\"scattergeo\",\"marker\":{\"colorbar\":{\"outlinewidth\":0,\"ticks\":\"\"}}}],\"scatterpolar\":[{\"type\":\"scatterpolar\",\"marker\":{\"colorbar\":{\"outlinewidth\":0,\"ticks\":\"\"}}}],\"histogram\":[{\"marker\":{\"pattern\":{\"fillmode\":\"overlay\",\"size\":10,\"solidity\":0.2}},\"type\":\"histogram\"}],\"scattergl\":[{\"type\":\"scattergl\",\"marker\":{\"colorbar\":{\"outlinewidth\":0,\"ticks\":\"\"}}}],\"scatter3d\":[{\"type\":\"scatter3d\",\"line\":{\"colorbar\":{\"outlinewidth\":0,\"ticks\":\"\"}},\"marker\":{\"colorbar\":{\"outlinewidth\":0,\"ticks\":\"\"}}}],\"scattermapbox\":[{\"type\":\"scattermapbox\",\"marker\":{\"colorbar\":{\"outlinewidth\":0,\"ticks\":\"\"}}}],\"scatterternary\":[{\"type\":\"scatterternary\",\"marker\":{\"colorbar\":{\"outlinewidth\":0,\"ticks\":\"\"}}}],\"scattercarpet\":[{\"type\":\"scattercarpet\",\"marker\":{\"colorbar\":{\"outlinewidth\":0,\"ticks\":\"\"}}}],\"carpet\":[{\"aaxis\":{\"endlinecolor\":\"#2a3f5f\",\"gridcolor\":\"white\",\"linecolor\":\"white\",\"minorgridcolor\":\"white\",\"startlinecolor\":\"#2a3f5f\"},\"baxis\":{\"endlinecolor\":\"#2a3f5f\",\"gridcolor\":\"white\",\"linecolor\":\"white\",\"minorgridcolor\":\"white\",\"startlinecolor\":\"#2a3f5f\"},\"type\":\"carpet\"}],\"table\":[{\"cells\":{\"fill\":{\"color\":\"#EBF0F8\"},\"line\":{\"color\":\"white\"}},\"header\":{\"fill\":{\"color\":\"#C8D4E3\"},\"line\":{\"color\":\"white\"}},\"type\":\"table\"}],\"barpolar\":[{\"marker\":{\"line\":{\"color\":\"#E5ECF6\",\"width\":0.5},\"pattern\":{\"fillmode\":\"overlay\",\"size\":10,\"solidity\":0.2}},\"type\":\"barpolar\"}],\"pie\":[{\"automargin\":true,\"type\":\"pie\"}]},\"layout\":{\"autotypenumbers\":\"strict\",\"colorway\":[\"#636efa\",\"#EF553B\",\"#00cc96\",\"#ab63fa\",\"#FFA15A\",\"#19d3f3\",\"#FF6692\",\"#B6E880\",\"#FF97FF\",\"#FECB52\"],\"font\":{\"color\":\"#2a3f5f\"},\"hovermode\":\"closest\",\"hoverlabel\":{\"align\":\"left\"},\"paper_bgcolor\":\"white\",\"plot_bgcolor\":\"#E5ECF6\",\"polar\":{\"bgcolor\":\"#E5ECF6\",\"angularaxis\":{\"gridcolor\":\"white\",\"linecolor\":\"white\",\"ticks\":\"\"},\"radialaxis\":{\"gridcolor\":\"white\",\"linecolor\":\"white\",\"ticks\":\"\"}},\"ternary\":{\"bgcolor\":\"#E5ECF6\",\"aaxis\":{\"gridcolor\":\"white\",\"linecolor\":\"white\",\"ticks\":\"\"},\"baxis\":{\"gridcolor\":\"white\",\"linecolor\":\"white\",\"ticks\":\"\"},\"caxis\":{\"gridcolor\":\"white\",\"linecolor\":\"white\",\"ticks\":\"\"}},\"coloraxis\":{\"colorbar\":{\"outlinewidth\":0,\"ticks\":\"\"}},\"colorscale\":{\"sequential\":[[0.0,\"#0d0887\"],[0.1111111111111111,\"#46039f\"],[0.2222222222222222,\"#7201a8\"],[0.3333333333333333,\"#9c179e\"],[0.4444444444444444,\"#bd3786\"],[0.5555555555555556,\"#d8576b\"],[0.6666666666666666,\"#ed7953\"],[0.7777777777777778,\"#fb9f3a\"],[0.8888888888888888,\"#fdca26\"],[1.0,\"#f0f921\"]],\"sequentialminus\":[[0.0,\"#0d0887\"],[0.1111111111111111,\"#46039f\"],[0.2222222222222222,\"#7201a8\"],[0.3333333333333333,\"#9c179e\"],[0.4444444444444444,\"#bd3786\"],[0.5555555555555556,\"#d8576b\"],[0.6666666666666666,\"#ed7953\"],[0.7777777777777778,\"#fb9f3a\"],[0.8888888888888888,\"#fdca26\"],[1.0,\"#f0f921\"]],\"diverging\":[[0,\"#8e0152\"],[0.1,\"#c51b7d\"],[0.2,\"#de77ae\"],[0.3,\"#f1b6da\"],[0.4,\"#fde0ef\"],[0.5,\"#f7f7f7\"],[0.6,\"#e6f5d0\"],[0.7,\"#b8e186\"],[0.8,\"#7fbc41\"],[0.9,\"#4d9221\"],[1,\"#276419\"]]},\"xaxis\":{\"gridcolor\":\"white\",\"linecolor\":\"white\",\"ticks\":\"\",\"title\":{\"standoff\":15},\"zerolinecolor\":\"white\",\"automargin\":true,\"zerolinewidth\":2},\"yaxis\":{\"gridcolor\":\"white\",\"linecolor\":\"white\",\"ticks\":\"\",\"title\":{\"standoff\":15},\"zerolinecolor\":\"white\",\"automargin\":true,\"zerolinewidth\":2},\"scene\":{\"xaxis\":{\"backgroundcolor\":\"#E5ECF6\",\"gridcolor\":\"white\",\"linecolor\":\"white\",\"showbackground\":true,\"ticks\":\"\",\"zerolinecolor\":\"white\",\"gridwidth\":2},\"yaxis\":{\"backgroundcolor\":\"#E5ECF6\",\"gridcolor\":\"white\",\"linecolor\":\"white\",\"showbackground\":true,\"ticks\":\"\",\"zerolinecolor\":\"white\",\"gridwidth\":2},\"zaxis\":{\"backgroundcolor\":\"#E5ECF6\",\"gridcolor\":\"white\",\"linecolor\":\"white\",\"showbackground\":true,\"ticks\":\"\",\"zerolinecolor\":\"white\",\"gridwidth\":2}},\"shapedefaults\":{\"line\":{\"color\":\"#2a3f5f\"}},\"annotationdefaults\":{\"arrowcolor\":\"#2a3f5f\",\"arrowhead\":0,\"arrowwidth\":1},\"geo\":{\"bgcolor\":\"white\",\"landcolor\":\"#E5ECF6\",\"subunitcolor\":\"white\",\"showland\":true,\"showlakes\":true,\"lakecolor\":\"white\"},\"title\":{\"x\":0.05},\"mapbox\":{\"style\":\"light\"}}}},                        {\"responsive\": true}                    ).then(function(){\n                            \nvar gd = document.getElementById('55a8e279-ef5a-45c7-bff9-a57498378a88');\nvar x = new MutationObserver(function (mutations, observer) {{\n        var display = window.getComputedStyle(gd).display;\n        if (!display || display === 'none') {{\n            console.log([gd, 'removed!']);\n            Plotly.purge(gd);\n            observer.disconnect();\n        }}\n}});\n\n// Listen for the removal of the full notebook cells\nvar notebookContainer = gd.closest('#notebook-container');\nif (notebookContainer) {{\n    x.observe(notebookContainer, {childList: true});\n}}\n\n// Listen for the clearing of the current output cell\nvar outputEl = gd.closest('.output');\nif (outputEl) {{\n    x.observe(outputEl, {childList: true});\n}}\n\n                        })                };                });            </script>        </div>"
          },
          "metadata": {}
        }
      ],
      "source": [
        "import plotly.express as px\n",
        "\n",
        "z = [dfscore['PlayerScore']]\n",
        "y = dfscore['Team']\n",
        "\n",
        "\n",
        "fig = go.Figure(data=go.Heatmap(\n",
        "          y = y,\n",
        "          z = z,\n",
        "          type = 'heatmap',\n",
        "          colorscale = 'Viridis'))\n",
        "\n",
        "fig.show()"
      ]
    }
  ]
}