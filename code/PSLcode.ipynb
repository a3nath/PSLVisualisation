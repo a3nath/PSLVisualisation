{
  "metadata": {
    "language_info": {
      "codemirror_mode": {
        "name": "python",
        "version": 3
      },
      "file_extension": ".py",
      "mimetype": "text/x-python",
      "name": "python",
      "nbconvert_exporter": "python",
      "pygments_lexer": "ipython3",
      "version": "3.10.0-final"
    },
    "kernelspec": {
      "name": "python3",
      "display_name": "Python 3.10.0 64-bit",
      "metadata": {
        "interpreter": {
          "hash": "aee8b7b246df8f9039afb4144a1f6fd8d2ca17a180786b69acc140d282b71a49"
        }
      }
    }
  },
  "nbformat_minor": 4,
  "nbformat": 4,
  "cells": [
    {
      "cell_type": "code",
      "source": [],
      "metadata": {},
      "execution_count": null,
      "outputs": []
    },
    {
      "cell_type": "code",
      "execution_count": 6,
      "metadata": {},
      "outputs": [
        {
          "output_type": "stream",
          "name": "stdout",
          "text": [
            "      Match_id  Innings  Over  Ball       Batting_team      Bowling_team  \\\n0            1        1     0     1     Peshawar Zalmi  Islamabad United   \n1            1        1     0     2     Peshawar Zalmi  Islamabad United   \n2            1        1     0     3     Peshawar Zalmi  Islamabad United   \n3            1        1     0     4     Peshawar Zalmi  Islamabad United   \n4            1        1     0     5     Peshawar Zalmi  Islamabad United   \n...        ...      ...   ...   ...                ...               ...   \n5409        24        2    15     6  Quetta Gladiators    Peshawar Zalmi   \n5410        24        2    15     7  Quetta Gladiators    Peshawar Zalmi   \n5411        24        2    16     1  Quetta Gladiators    Peshawar Zalmi   \n5412        24        2    16     2  Quetta Gladiators    Peshawar Zalmi   \n5413        24        2    16     3  Quetta Gladiators    Peshawar Zalmi   \n\n       Batsman_strike     Non_striker          Bowler  Batsman_runs  \\\n0     Mohammad Hafeez        DJ Malan  Mohammad Irfan             0   \n1        Kamran Akmal        DJ Malan  Mohammad Irfan             1   \n2            DJ Malan    Kamran Akmal  Mohammad Irfan             0   \n3            DJ Malan    Kamran Akmal  Mohammad Irfan             0   \n4            DJ Malan    Kamran Akmal  Mohammad Irfan             0   \n...               ...             ...             ...           ...   \n5409       Hasan Khan        RR Emrit      Wahab Riaz             0   \n5410       Hasan Khan        RR Emrit      Wahab Riaz             0   \n5411   Zulfiqar Babar        RR Emrit       Hasan Ali             1   \n5412         RR Emrit  Zulfiqar Babar       Hasan Ali             1   \n5413   Zulfiqar Babar        RR Emrit       Hasan Ali             0   \n\n      Extra_runs Dismisal_kind Player_dismissed  \n0              0        caught  Mohammad Hafeez  \n1              0   No dismisal      No dismisal  \n2              0   No dismisal      No dismisal  \n3              0   No dismisal      No dismisal  \n4              0   No dismisal      No dismisal  \n...          ...           ...              ...  \n5409           1   No dismisal      No dismisal  \n5410           0        caught       Hasan Khan  \n5411           0   No dismisal      No dismisal  \n5412           0   No dismisal      No dismisal  \n5413           0        bowled   Zulfiqar Babar  \n\n[5414 rows x 13 columns]\n"
          ]
        }
      ],
      "source": [
        "import os\n",
        "import numpy as np\n",
        "import pandas as pd\n",
        "import plotly\n",
        "import chart_studio.plotly as py\n",
        "import plotly.graph_objs as go\n",
        "import ipywidgets as wg\n",
        "from scipy import stats\n",
        "from IPython.display import display\n",
        "from urllib.request import urlopen\n",
        "from plotly.subplots import make_subplots\n",
        "\n",
        "psldata = pd.ExcelFile(r'/Users/Amar/Documents/WD/projects/PSLVisualisation/data/All deliveries.xlsx')\n",
        "df = pd.read_excel(psldata)\n",
        "\n",
        "df.iloc[:,-2:] = df.iloc[:,-2:].fillna('No dismisal')\n",
        "\n",
        "print(df)\n",
        "\n"
      ]
    },
    {
      "cell_type": "code",
      "source": [
        "\n",
        "##importing libraries\n",
        "\n",
        "import os\n",
        "import numpy as np\n",
        "import pandas as pd\n",
        "import plotly\n",
        "import chart_studio.plotly as py\n",
        "import plotly.graph_objs as go\n",
        "import ipywidgets as wg\n",
        "from scipy import stats\n",
        "from IPython.display import display\n",
        "from urllib.request import urlopen\n",
        "from plotly.subplots import make_subplots\n",
        "\n",
        "\n",
        "#importing data file\n",
        "psldata = pd.ExcelFile(r'/Users/Amar/Documents/WD/projects/PSLVisualisation/data/All deliveries.xlsx')\n",
        "df = pd.read_excel(psldata)\n",
        "\n",
        "\n",
        "##cleaning data\n",
        "#Replaced Nas\n",
        "df.iloc[:,-2:] = df.iloc[:,-2:].fillna('No dismisal')\n",
        "\n",
        "\n",
        "# In[324]:\n",
        "\n",
        "\n",
        "def wick(x):\n",
        "    if x != \"No dismisal\":\n",
        "        return 1\n",
        "    else:\n",
        "        return 0\n",
        "df['wicket'] = df['Dismisal_kind'].apply(lambda x: wick(x))\n",
        "\n",
        "\n",
        "\n",
        "\n",
        "def isSix(x):\n",
        "    if x == 6:\n",
        "        return 1\n",
        "    else:\n",
        "        return 0\n",
        "    \n",
        "def isFour(x):\n",
        "    if x == 4:\n",
        "        return 1\n",
        "    else:\n",
        "        return 0\n",
        "df['Six'] = df['Batsman_runs'].map(lambda x: isSix(x))\n",
        "df['Four'] = df['Batsman_runs'].map(lambda x: isFour(x))\n",
        "\n",
        "\n",
        "\n",
        "#Ball-by-ball detail for each batsman\n",
        "\n",
        "df_bat = pd.merge(df.groupby(['Batsman_strike','Match_id']).sum().reset_index()[['Batsman_strike','Match_id','Batsman_runs']], df.groupby(['Batsman_strike', 'Match_id']).count().reset_index()[['Batsman_strike','Match_id', 'Ball']].rename(columns = {'Ball': 'Balls_played'}), on = ['Batsman_strike', 'Match_id'])\n",
        "\n",
        "\n",
        "\n",
        "##Batting datafrane\n",
        "df_batAvg = pd.merge(pd.merge(df_bat.groupby('Batsman_strike').mean().reset_index()[['Batsman_strike','Batsman_runs', 'Balls_played']].rename(columns = {'Batsman_runs' : 'AvgRuns_match' , 'Balls_played': 'AvgBalls_match'}), df[['Batsman_strike', 'Batting_team']].drop_duplicates(keep = 'first'), on = 'Batsman_strike') , pd.merge(df.groupby(['Batsman_strike']).sum().reset_index()[['Batsman_strike', 'Batsman_runs', 'Six', 'Four']].rename(columns = {'Batsman_runs': 'TotalRuns', 'Six':'TotalSixes', 'Four':'TotalFours'}), df.groupby(['Batsman_strike']).count().reset_index()[['Batsman_strike' , 'Ball']].rename(columns = {'Ball': 'Balls_played'}), on ='Batsman_strike'), on = 'Batsman_strike')\n",
        "                                                                                                                                     \n",
        "                                                                                                                                     \n",
        "\n",
        "df_batAvg['Runs_sq'] = 0\n",
        "df_batAvg['Matches_played'] = 0\n",
        "\n",
        "\n",
        "#To calculate variance\n",
        "for i in range(len(df_batAvg)):\n",
        "    for j in range(len(df_bat)):\n",
        "        if df_batAvg.iloc[i]['Batsman_strike'] == df_bat.iloc[j]['Batsman_strike']:\n",
        "            df_batAvg['Runs_sq'].iloc[i] += df_bat.iloc[j]['Batsman_runs'] **2\n",
        "            df_batAvg['Matches_played'].iloc[i] += 1\n",
        "\n",
        "\n",
        "#Strke rate, % boundary and Variance\n",
        "df_batAvg['Strike_rate'] = df_batAvg['TotalRuns'] * 100 /df_batAvg['Balls_played']\n",
        "df_batAvg['PercentageRuns_boundary'] = (df_batAvg['TotalSixes']* 6 + df_batAvg['TotalFours'] * 4) * 100/df_batAvg['TotalRuns']\n",
        "df_batAvg[\"Var\"] = (df_batAvg['Runs_sq'] - df_batAvg['Matches_played']*(df_batAvg['AvgRuns_match']**2))/(df_batAvg['Matches_played'] - 1)\n",
        "df_batAvg = df_batAvg.sort_values(by = 'TotalRuns', ascending = False)\n",
        "\n",
        "\n",
        "##Batsman Scatter\n",
        "\n",
        "z = df_batAvg['Batsman_strike']\n",
        "trace = go.Scatter(y = df_batAvg['Strike_rate'], x= df_batAvg['AvgRuns_match'], mode = 'markers', showlegend = False , text = df_batAvg['Batsman_strike'] + \"  \" + df_batAvg['Batting_team'], hoverinfo =  \"text\", marker = dict(size = 20, symbol = 'circle' , cmin = 0, autocolorscale = True, reversescale = True, colorbar = {'title' : {'text': 'Score variance'}}, color = df_batAvg['Var']))\n",
        "data = [trace]\n",
        "\n",
        "layout = go.Layout(paper_bgcolor = 'white',plot_bgcolor = 'white' , yaxis = dict(title = dict(text = \"Strike rate\" , font = dict(color ='black')) ,showgrid = True, zeroline = False, color = 'black'), xaxis = dict( title= dict( text = 'Average runs'), showgrid = False, zeroline= False), title = dict(text = \"All batsman's performance - Average runs, Strike rate, Score variance\"))\n",
        "fig = go.Figure(data = data, layout = layout)\n",
        "plotly.offline.init_notebook_mode(connected=True)\n",
        "plotly.offline.plot(fig, include_plotlyjs = False, output_type = 'div')\n",
        "\n",
        "plotly.plot(fig)\n",
        "\n",
        "\n",
        "#Batsman Histogram\n",
        "\n",
        "\n",
        "# team_list = list(df_batAvg['Batting_team'].unique())\n",
        "\n",
        "# trace0 = go.Histogram(x= df_batAvg.loc[df_batAvg['Batting_team'] == team_list[0], 'AvgRuns_match'], opacity = 0.75, name = team_list[0])\n",
        "# trace1 = go.Histogram(x= df_batAvg.loc[df_batAvg['Batting_team'] == team_list[1], 'AvgRuns_match'], opacity = 0.75, name = team_list[1])\n",
        "# trace2 = go.Histogram(x= df_batAvg.loc[df_batAvg['Batting_team'] == team_list[2], 'AvgRuns_match'], opacity = 0.75, name = team_list[2])\n",
        "# trace3 = go.Histogram(x= df_batAvg.loc[df_batAvg['Batting_team'] == team_list[3], 'AvgRuns_match'], opacity = 0.75, name = team_list[3])\n",
        "# trace4 = go.Histogram(x= df_batAvg.loc[df_batAvg['Batting_team'] == team_list[4], 'AvgRuns_match'], opacity = 0.75, name = team_list[4])\n",
        "\n",
        "# fig4 = make_subplots(rows =3, cols = 2)\n",
        "# fig4.append_trace(trace0,1,1)\n",
        "# fig4.append_trace(trace1,2,1)\n",
        "# fig4.append_trace(trace2,2,2)\n",
        "# fig4.append_trace(trace3,3,1)\n",
        "# fig4.append_trace(trace4,3,2)\n",
        "\n",
        "# fig4.layout.title = dict(text = 'Distribution of average batsman scores')\n",
        "# fig4.layout.xaxis = dict(tickmode = 'linear', dtick = 10)\n",
        "\n",
        "\n",
        "# plotly.offline.plot(fig4, include_plotlyjs = False, output_type = 'div')\n",
        "\n",
        "\n",
        "\n",
        "def runlevel(x):\n",
        "    if x >= 1.25*df_batAvg['AvgRuns_match'].mean():\n",
        "        return 'High'\n",
        "    elif x <= 0.75 * df_batAvg['AvgRuns_match'].mean():\n",
        "        return 'Low'\n",
        "    else:\n",
        "        return 'Average'\n",
        "    \n",
        "def strikelevel(x):\n",
        "    if x >= 1.25*df_batAvg['Strike_rate'].mean():\n",
        "        return 'High'\n",
        "    elif x <= 0.75 * df_batAvg['Strike_rate'].mean():\n",
        "        return 'Low'\n",
        "    else:\n",
        "        return 'Average'\n",
        "    \n",
        "def varlevel(x):\n",
        "    if x <= 0.75*df_batAvg['Var'].mean():\n",
        "        return 'High Consistency'\n",
        "    elif x >= 1.25 * df_batAvg['Var'].mean():\n",
        "        return 'Inconsistent'\n",
        "    else:\n",
        "        return 'Average'\n",
        "    \n",
        "\n",
        "df_batAvg['Runs_level'] = df_batAvg['AvgRuns_match'].map(lambda x: runlevel(x))\n",
        "df_batAvg['Strike_level'] = df_batAvg['Strike_rate'].map(lambda x: strikelevel(x))\n",
        "df_batAvg['Var_level'] = df_batAvg['Var'].map(lambda x: varlevel(x))\n",
        "\n",
        "\n",
        "dfteam = df.groupby(['Batting_team','Bowling_team', 'Match_id', 'Innings', 'Over']).sum().reset_index()\n",
        "over = 0\n",
        "total = 0\n",
        "Total_runs = []\n",
        "\n",
        "for i in range(len(dfteam)):\n",
        "    if dfteam.iloc[i]['Over'] >= over:\n",
        "        total =+ total + dfteam.iloc[i]['Batsman_runs'] + dfteam.iloc[i]['Extra_runs']\n",
        "        over =+ 1\n",
        "        Total_runs.append(total)\n",
        "    else:\n",
        "        total = dfteam.iloc[i]['Batsman_runs'] + dfteam.iloc[i]['Extra_runs']\n",
        "        Total_runs.append(total)\n",
        "        over = 1\n",
        "\n",
        "\n",
        "dfteam['Total_runs'] = pd.Series(Total_runs)\n",
        "\n",
        "\n",
        "\n",
        "# ## Defining bowler metrics\n",
        "# def caught(x):\n",
        "#     if x == 'caught':\n",
        "#         return 1\n",
        "#     else:\n",
        "#         return 0\n",
        "# def bowled(x):\n",
        "#     if x == bowled:\n",
        "#         return 1\n",
        "#     else:\n",
        "#         return 0\n",
        "# def runout(x):\n",
        "#     if x == 'runout':\n",
        "#         return 1\n",
        "#     else:\n",
        "#         return 0\n",
        "# def lbw(x):\n",
        "#     if x == 'lbw':\n",
        "#         return 1\n",
        "#     else:\n",
        "#         return 0\n",
        "# def stump(x):\n",
        "#     if x == 'stump':\n",
        "#         return 1\n",
        "#     else:\n",
        "#         return 0\n",
        "# def candb(x):\n",
        "#     if x == 'caught and bowled':\n",
        "#         return 1\n",
        "#     else:\n",
        "#         return 0\n",
        "\n",
        "\n",
        "# df['Caught'] = df['Dismisal_kind'].apply(lambda x: caught(x))\n",
        "# df['Bowled'] = df['Dismisal_kind'].apply(lambda x: bowled(x))\n",
        "# df['Lbw'] = df['Dismisal_kind'].apply(lambda x: lbw(x))\n",
        "# df['Runout'] = df['Dismisal_kind'].apply(lambda x: runout(x))\n",
        "# df['Stump'] = df['Dismisal_kind'].apply(lambda x: stump(x))\n",
        "# df['Caught_bowled'] = df['Dismisal_kind'].apply(lambda x: candb(x))\n",
        "\n",
        "\n",
        "# ## Creating a bowler dataframe\n",
        "# df_bowl = pd.merge(df.groupby(['Bowler', 'Match_id']).sum().reset_index().filter(regex = \"[Innings,Over,Ball]\"), df.groupby(['Bowler', 'Match_id']).count().reset_index()[['Bowler','Match_id', 'Ball']].rename(columns = {'Ball': 'TotalDeliveries'}), on = ['Bowler', 'Match_id'])\n",
        "\n",
        "# df_bowlAvg = pd.merge(df.groupby(['Bowler', 'Match_id']).sum().reset_index().filter(regex = \"[^Match_id,Innings,Over,Ball]\") ,  df.groupby(['Bowler', 'Match_id']).count().reset_index()[['Bowler', 'Ball']].rename(columns = {'Ball': 'Delieveries_bowled'}), on = 'Bowler').groupby('Bowler').mean().reset_index()\n",
        "\n",
        "\n",
        "# df_bowl_Avg_merge = pd.merge(df_bowl.groupby('Bowler').sum().reset_index().filter(regex = '[^Match_id,Innings,Over,Ball]'), df_bowlAvg.filter(regex = \"[^Caught,Bowled,Stump,Caught_bowled, Lbw, Runout]\").rename(columns = {'Delieveries_bowled':'AvgDeliveries_bowled','Batsman_runs': 'AvgBatsman_runs', 'Extra_runs': 'AvgExtra_runs' , 'Six': 'AvgSix', 'Four': 'AvgFour', 'wicket' : 'AvgWicket'}),\n",
        "#  on = 'Bowler')\n",
        "\n",
        "# dfecon = df.groupby(['Bowler','Match_id', 'Over']).sum().reset_index().groupby('Bowler').mean().reset_index()[['Bowler','Batsman_runs', 'Extra_runs']]\n",
        "# dfecon['Economy'] = dfecon['Batsman_runs'] + dfecon['Extra_runs']\n",
        "\n",
        "\n",
        "\n",
        "# df_bowler = pd.merge(df_bowl_Avg_merge, dfecon[['Bowler','Economy']], on = 'Bowler')\n",
        "\n",
        "\n",
        "# ## Bowler variance\n",
        "# df_bowler['Runs_sq'] = 0\n",
        "# df_bowler['Matches_played'] = 0\n",
        "# for i in range(len(df_bowler)):\n",
        "#     for j in range(len(df_bowl)):\n",
        "#         if df_bowler.iloc[i]['Bowler'] == df_bowl.iloc[j]['Bowler']:\n",
        "#             df_bowler['Runs_sq'].iloc[i] += (df_bowl.iloc[j]['Batsman_runs'] +  df_bowl.iloc[j]['Extra_runs'])**2\n",
        "#             df_bowler['Matches_played'].iloc[i] += 1\n",
        "\n",
        "\n",
        "# df_bowler['Var'] = (df_bowler['Runs_sq'] - (df_bowler['Matches_played']*((df_bowler['AvgBatsman_runs']+df_bowler['AvgExtra_runs'])**2)))/(df_bowler['Matches_played'] -1)\n",
        "\n",
        " \n",
        "\n",
        "# df_bowler = pd.merge(df_bowler, df[['Bowler', 'Bowling_team']].drop_duplicates(keep = 'first'), on = 'Bowler')\n",
        "# df_bowler.dropna(inplace = True)\n",
        "\n",
        "\n",
        "# ##Bowler Scatter chart\n",
        "\n",
        "# trace1 = go.Scatter(x = df_bowler['wicket'], y = df_bowler['Economy'], mode = 'markers', hoverinfo = 'text' , text = df_bowler['Bowler'] + \"   \" + df_bowler['Bowling_team'] , marker = dict(size = 25, symbol = 'circle' , cmin = 0, autocolorscale = True, reversescale = True, colorbar = {'title' : {'text': 'Bowler Variance'}}, color = df_bowler['Var']))\n",
        "\n",
        "# layout = go.Layout(paper_bgcolor = 'white',plot_bgcolor = 'white' , hovermode = 'closest',  yaxis = dict(title = dict(text = \"Economy\" , font = dict(color ='black')) ,showgrid = True, zeroline = False, color = 'black'), xaxis = dict(title = dict( text = 'Total wickets'), showgrid = False, zeroline = False), title = dict(text = \"All Bowler's Performance - Economy, Total Wickets, Variance\"))\n",
        "\n",
        "\n",
        "# data = [trace1]\n",
        "\n",
        "# fig22 = go.Figure(data = data, layout = layout)\n",
        "\n",
        "# plotly.offline.init_notebook_mode(connected=True)\n",
        "# plotly.offline.plot(fig22, include_plotlyjs = False, output_type = 'div')\n",
        "\n",
        "\n",
        "# ##Bowler histogram\n",
        "\n",
        "\n",
        "# team_list = ['Peshawar Zalmi', 'Karachi Kings', 'Islamabad United', 'Quetta Gladiators', 'Lahore Qalandars']\n",
        "\n",
        "# trace0 = go.Histogram(x= df_bowler.loc[df_bowler['Bowling_team'] == team_list[0], 'Economy'], opacity = 0.75, name = team_list[0])\n",
        "# trace1 = go.Histogram(x= df_bowler.loc[df_bowler['Bowling_team'] == team_list[1], 'Economy'], opacity = 0.75, name = team_list[1])\n",
        "# trace2 = go.Histogram(x= df_bowler.loc[df_bowler['Bowling_team'] == team_list[2], 'Economy'], opacity = 0.75, name = team_list[2])\n",
        "# trace3 = go.Histogram(x= df_bowler.loc[df_bowler['Bowling_team'] == team_list[3], 'Economy'], opacity = 0.75, name = team_list[3])\n",
        "# trace4 = go.Histogram(x= df_bowler.loc[df_bowler['Bowling_team'] == team_list[4], 'Economy'], opacity = 0.75, name = team_list[4])\n",
        "\n",
        "# fig4 = plotly.tools.make_subplots(rows = 3, cols = 2)\n",
        "# fig4.append_trace(trace0,1,1)\n",
        "# fig4.append_trace(trace1,1,2)\n",
        "# fig4.append_trace(trace2,2,1)\n",
        "# fig4.append_trace(trace3,2,2)\n",
        "# fig4.append_trace(trace4,3,1)\n",
        "\n",
        "# fig4.layout.title = dict(text = \"Distribution of average bowler economy for each team\")\n",
        "\n",
        "# plotly.offline.plot(fig4, include_plotlyjs = False, output_type = 'div')\n",
        "\n",
        "\n",
        "# ##Setting up a ranking datafrane\n",
        "\n",
        "# dfscore = df_batAvg[['Batsman_strike', 'Batting_team','AvgRuns_match', 'Strike_rate', 'Var']].rename(columns = {'Batsman_strike': 'Player', 'Batting_team':'Team','Var': 'Bat_var'}).merge(df_bowler[['Bowler', 'Economy', 'AvgWicket','AvgDeliveries_bowled', 'Var', 'Bowling_team']].rename(columns = {'Bowler':'Player','Var':'Bowl_var','Bowling_team':'Team'}), on = ['Player','Team'], how = 'outer').fillna(value = 0)                                                                                                          \n",
        "\n",
        "\n",
        "# ##Player Ranking Metrics\n",
        "\n",
        "# f = 'Strike_rate'\n",
        "# g = 'AvgRuns_match'\n",
        "# h = 'AvgWicket'\n",
        "\n",
        "\n",
        "# Batsman = np.quantile(dfscore['AvgRuns_match'], 0.5)\n",
        "# Batvarmean = dfscore.loc[dfscore['AvgRuns_match'] >= Batsman, \"Bat_var\"].mean()\n",
        "\n",
        "\n",
        "# Bowlvarmean = dfscore.loc[dfscore['AvgDeliveries_bowled'] >= 0, \"Bowl_var\"].mean()\n",
        "\n",
        "# dfscore['BatVarRank'] = np.zeros(len(dfscore))\n",
        "\n",
        "# dfscore['BowlVarRank'] = np.zeros(len(dfscore))\n",
        "\n",
        "\n",
        "# def greaterf(x):\n",
        "#         if x == 0:\n",
        "#             return 0\n",
        "#         if x >= 1.25 * dfscore[f].mean():\n",
        "#             return 3\n",
        "#         if x<= 0.75 *dfscore[f].mean():\n",
        "#             return  1\n",
        "#         else:\n",
        "#             return 2\n",
        "\n",
        "# def greaterg(x):\n",
        "#         if x == 0:\n",
        "#             return 0\n",
        "#         if x >= 1.25 * dfscore[g].mean():\n",
        "#             return 3\n",
        "#         if x<= 0.75 *dfscore[g].mean():\n",
        "#             return  1\n",
        "#         else:\n",
        "#             return 2\n",
        "\n",
        "# def greaterh(x):\n",
        "#         if x == 0:\n",
        "#             return 0\n",
        "#         if x >= 1.25 * dfscore[h].mean():\n",
        "#             return 3\n",
        "#         if x<= 0.75 *dfscore[h].mean():\n",
        "#             return  1\n",
        "#         else:\n",
        "#             return 2\n",
        "\n",
        "\n",
        "# dfscore[f + str('Rank')] = dfscore[f].map(lambda x: greaterf(x))    \n",
        "# dfscore[g + str('Rank')] = dfscore[g].map(lambda x: greaterg(x))\n",
        "# dfscore[h + str('Rank')] = dfscore[h].map(lambda x: greaterh(x))\n",
        "\n",
        "# def ecorank(x):\n",
        "#     if x == 0:\n",
        "#         return 0\n",
        "#     elif x >= 1.25 * dfscore.loc[dfscore['AvgDeliveries_bowled'] >= 0, \"Economy\"].mean():\n",
        "#         return 1\n",
        "#     elif x <= 0.75 * dfscore.loc[dfscore['AvgDeliveries_bowled'] >= 0, \"Economy\"].mean():\n",
        "#         return 3\n",
        "#     else:\n",
        "#         return 2\n",
        "    \n",
        "# dfscore['EconomyRank'] = dfscore['Economy'].map(lambda x: ecorank(x))\n",
        "\n",
        "\n",
        "# for i in range(len(dfscore)):\n",
        "#     if dfscore.iloc[i]['AvgRuns_match'] <= Batsman:\n",
        "#         dfscore['BatVarRank'].iloc[i] = 0\n",
        "#     elif dfscore['Bat_var'].iloc[i] >= (1.25 * Batvarmean):  \n",
        "#         dfscore['BatVarRank'].iloc[i] = 1\n",
        "#     elif dfscore.iloc[i]['Bat_var'] <= 0.75 * Bowlvarmean:\n",
        "#         dfscore['BatVarRank'].iloc[i] = 3\n",
        "#     else:\n",
        "#         dfscore['BatVarRank'].iloc[i] = 2\n",
        "        \n",
        "        \n",
        "        \n",
        "# for i in range(len(dfscore)):\n",
        "#     if dfscore.iloc[i]['AvgDeliveries_bowled'] == 0:\n",
        "#         dfscore['BowlVarRank'].iloc[i] = 0\n",
        "#     elif dfscore['Bowl_var'].iloc[i] >= (1.25 * Bowlvarmean):  \n",
        "#         dfscore['BowlVarRank'].iloc[i] = 1\n",
        "#     elif dfscore.iloc[i]['Bowl_var'] <= 0.75 * Bowlvarmean:\n",
        "#         dfscore['BowlVarRank'].iloc[i] = 3\n",
        "#     else:\n",
        "#         dfscore['BowlVarRank'].iloc[i] = 2\n",
        "\n",
        "\n",
        "\n",
        "# ##Creating PlayerScore column as the sum of all metrics\n",
        "\n",
        "# dfscore['PlayerScore'] = dfscore['AvgRuns_matchRank'] + dfscore['Strike_rateRank'] + dfscore['AvgWicketRank'] + dfscore['BatVarRank'] + dfscore['BowlVarRank'] + dfscore['EconomyRank']\n",
        "\n",
        "\n",
        "# ##Ranking levels\n",
        "\n",
        "# def mvprank(x):\n",
        "#     if x >= np.quantile(dfscore['PlayerScore'], 0.90):\n",
        "#         return 4\n",
        "#     elif x >= np.quantile(dfscore['PlayerScore'], 0.75):\n",
        "#             return 3\n",
        "#     elif x <= np.quantile(dfscore['PlayerScore'], 0.50):\n",
        "#             return 1\n",
        "#     else:\n",
        "#         return 2\n",
        "    \n",
        "# dfscore['PlayerRank'] = dfscore['PlayerScore'].map(lambda x: mvprank(x))\n",
        "# dfscore['MVP'] = np.zeros(len(dfscore))\n",
        "# dfscore.loc[dfscore['PlayerRank']==4,'MVP'] = 'MVP'\n",
        "# dfscore.loc[dfscore['PlayerRank']==3, 'MVP'] = 'VP'\n",
        "# dfscore.loc[dfscore['PlayerRank'] <3, 'MVP'] = 'Below Average'\n",
        "\n",
        "\n",
        "# ## Top 10 Players\n",
        "# dfscore.sort_values(by = 'PlayerScore', ascending = False).head(10)\n",
        "\n",
        "\n",
        "# #Boxplot\n",
        "\n",
        "# trace0 = go.Box(y = dfscore.loc[dfscore['Team'] == 'Peshawar Zalmi', 'PlayerScore'], name = 'Peshawar Zalmi', boxmean = 'sd', boxpoints = 'all')\n",
        "# trace1 = go.Box(y = dfscore.loc[dfscore['Team'] == 'Islamabad United', 'PlayerScore'], name = 'Islamabad United', boxmean = 'sd', boxpoints = 'all')\n",
        "# trace2 = go.Box(y = dfscore.loc[dfscore['Team'] == 'Quetta Gladiators', 'PlayerScore'], name = 'Quetta Gladiators', boxmean = 'sd', boxpoints = 'all')\n",
        "# trace3 = go.Box(y = dfscore.loc[dfscore['Team'] == 'Karachi Kings', 'PlayerScore'], name = 'Karachi Kings' , boxmean = 'sd', boxpoints = 'all')\n",
        "# trace4 = go.Box(y = dfscore.loc[dfscore['Team'] == 'Lahore Qalandars', 'PlayerScore'], name = 'Lahore Qalandars' , boxmean = 'sd', boxpoints = 'all')\n",
        "\n",
        "# data = [trace0, trace1, trace2, trace3, trace4]\n",
        "\n",
        "# fig111 = go.Figure(data = data)\n",
        "# fig111.layout.title = dict(text = \"Player Score distribution for each team\" )\n",
        "\n",
        "# import bs4\n",
        "# from bs4 import BeautifulSoup\n",
        "\n",
        "# plotly.offline.plot(fig111, include_plotlyjs = False, output_type = 'div')\n"
      ],
      "metadata": {
        "trusted": true
      },
      "execution_count": 11,
      "outputs": [
        {
          "output_type": "display_data",
          "data": {
            "text/html": "        <script type=\"text/javascript\">\n        window.PlotlyConfig = {MathJaxConfig: 'local'};\n        if (window.MathJax && window.MathJax.Hub && window.MathJax.Hub.Config) {window.MathJax.Hub.Config({SVG: {font: \"STIX-Web\"}});}\n        if (typeof require !== 'undefined') {\n        require.undef(\"plotly\");\n        requirejs.config({\n            paths: {\n                'plotly': ['https://cdn.plot.ly/plotly-2.12.1.min']\n            }\n        });\n        require(['plotly'], function(Plotly) {\n            window._Plotly = Plotly;\n        });\n        }\n        </script>\n        "
          },
          "metadata": {}
        },
        {
          "output_type": "error",
          "ename": "TypeError",
          "evalue": "plot() missing 1 required positional argument: 'kind'",
          "traceback": [
            "\u001b[0;31m---------------------------------------------------------------------------\u001b[0m",
            "\u001b[0;31mTypeError\u001b[0m                                 Traceback (most recent call last)",
            "Input \u001b[0;32mIn [11]\u001b[0m, in \u001b[0;36m<cell line: 97>\u001b[0;34m()\u001b[0m\n\u001b[1;32m     94\u001b[0m plotly\u001b[38;5;241m.\u001b[39moffline\u001b[38;5;241m.\u001b[39minit_notebook_mode(connected\u001b[38;5;241m=\u001b[39m\u001b[38;5;28;01mTrue\u001b[39;00m)\n\u001b[1;32m     95\u001b[0m plotly\u001b[38;5;241m.\u001b[39moffline\u001b[38;5;241m.\u001b[39mplot(fig, include_plotlyjs \u001b[38;5;241m=\u001b[39m \u001b[38;5;28;01mFalse\u001b[39;00m, output_type \u001b[38;5;241m=\u001b[39m \u001b[38;5;124m'\u001b[39m\u001b[38;5;124mdiv\u001b[39m\u001b[38;5;124m'\u001b[39m)\n\u001b[0;32m---> 97\u001b[0m \u001b[43mplotly\u001b[49m\u001b[38;5;241;43m.\u001b[39;49m\u001b[43mplot\u001b[49m\u001b[43m(\u001b[49m\u001b[43mfig\u001b[49m\u001b[43m)\u001b[49m\n\u001b[1;32m    100\u001b[0m \u001b[38;5;66;03m#Batsman Histogram\u001b[39;00m\n\u001b[1;32m    101\u001b[0m \n\u001b[1;32m    102\u001b[0m \n\u001b[0;32m   (...)\u001b[0m\n\u001b[1;32m    121\u001b[0m \n\u001b[1;32m    122\u001b[0m \u001b[38;5;66;03m# plotly.offline.plot(fig4, include_plotlyjs = False, output_type = 'div')\u001b[39;00m\n\u001b[1;32m    126\u001b[0m \u001b[38;5;28;01mdef\u001b[39;00m \u001b[38;5;21mrunlevel\u001b[39m(x):\n",
            "\u001b[0;31mTypeError\u001b[0m: plot() missing 1 required positional argument: 'kind'"
          ]
        }
      ]
    },
    {
      "cell_type": "code",
      "execution_count": 21,
      "metadata": {},
      "outputs": [
        {
          "output_type": "display_data",
          "data": {
            "text/html": "        <script type=\"text/javascript\">\n        window.PlotlyConfig = {MathJaxConfig: 'local'};\n        if (window.MathJax && window.MathJax.Hub && window.MathJax.Hub.Config) {window.MathJax.Hub.Config({SVG: {font: \"STIX-Web\"}});}\n        if (typeof require !== 'undefined') {\n        require.undef(\"plotly\");\n        requirejs.config({\n            paths: {\n                'plotly': ['https://cdn.plot.ly/plotly-2.12.1.min']\n            }\n        });\n        require(['plotly'], function(Plotly) {\n            window._Plotly = Plotly;\n        });\n        }\n        </script>\n        "
          },
          "metadata": {}
        },
        {
          "output_type": "display_data",
          "data": {
            "application/vnd.plotly.v1+json": {
              "data": [
                {
                  "hovertemplate": "x=%{x}<br>y=%{y}<extra></extra>",
                  "legendgroup": "",
                  "marker": {
                    "color": "#636efa",
                    "symbol": "circle"
                  },
                  "mode": "markers",
                  "name": "",
                  "orientation": "v",
                  "showlegend": false,
                  "x": [
                    32.09090909090909,
                    29.1,
                    30.444444444444443,
                    31.875,
                    34.42857142857143,
                    26.444444444444443,
                    21.5,
                    20.2,
                    22.333333333333332,
                    20.333333333333332,
                    22.125,
                    22.125,
                    29.166666666666668,
                    34.6,
                    19,
                    20.5,
                    17.77777777777778,
                    19.75,
                    17,
                    24.5,
                    15.444444444444445,
                    22.666666666666668,
                    26.6,
                    18.571428571428573,
                    13.333333333333334,
                    11.9,
                    16.571428571428573,
                    18.8,
                    13.285714285714286,
                    10.375,
                    20.5,
                    16.2,
                    10.571428571428571,
                    11.333333333333334,
                    33.5,
                    11,
                    11.4,
                    13.5,
                    11.5,
                    15.333333333333334,
                    13.333333333333334,
                    12.333333333333334,
                    7,
                    10.333333333333334,
                    6.2,
                    15,
                    6.5,
                    6.5,
                    12.5,
                    8.333333333333334,
                    24,
                    6,
                    4.6,
                    11.5,
                    5,
                    9.5,
                    6,
                    4,
                    5,
                    12,
                    10,
                    6,
                    2.5,
                    1,
                    3,
                    2,
                    1,
                    0.5,
                    0.5,
                    1,
                    1,
                    1,
                    1,
                    1,
                    1,
                    1,
                    0.5,
                    0,
                    0,
                    0
                  ],
                  "xaxis": "x",
                  "y": [
                    128.83211678832117,
                    109.81132075471699,
                    110.93117408906883,
                    121.42857142857143,
                    148.76543209876544,
                    127.95698924731182,
                    114.36170212765957,
                    120.23809523809524,
                    162.09677419354838,
                    128.8732394366197,
                    136.15384615384616,
                    163.88888888888889,
                    129.62962962962962,
                    149.13793103448276,
                    132.5581395348837,
                    124.24242424242425,
                    108.84353741496598,
                    108.21917808219177,
                    96.83544303797468,
                    106.52173913043478,
                    118.80341880341881,
                    101.49253731343283,
                    134.34343434343435,
                    120.37037037037037,
                    127.65957446808511,
                    94.44444444444444,
                    170.58823529411765,
                    106.81818181818181,
                    116.25,
                    129.6875,
                    146.42857142857142,
                    120.8955223880597,
                    92.5,
                    103.03030303030303,
                    131.37254901960785,
                    157.14285714285714,
                    129.54545454545453,
                    110.20408163265306,
                    102.22222222222223,
                    124.32432432432432,
                    111.11111111111111,
                    137.03703703703704,
                    92.10526315789474,
                    67.3913043478261,
                    79.48717948717949,
                    88.23529411764706,
                    96.29629629629629,
                    86.66666666666667,
                    96.15384615384616,
                    96.15384615384616,
                    126.3157894736842,
                    114.28571428571429,
                    153.33333333333334,
                    100,
                    105.26315789473684,
                    111.76470588235294,
                    105.88235294117646,
                    114.28571428571429,
                    57.69230769230769,
                    171.42857142857142,
                    125,
                    66.66666666666667,
                    125,
                    66.66666666666667,
                    33.333333333333336,
                    66.66666666666667,
                    28.571428571428573,
                    50,
                    50,
                    33.333333333333336,
                    100,
                    25,
                    100,
                    50,
                    16.666666666666668,
                    14.285714285714286,
                    33.333333333333336,
                    0,
                    0,
                    0
                  ],
                  "yaxis": "y",
                  "type": "scatter"
                }
              ],
              "layout": {
                "template": {
                  "data": {
                    "histogram2dcontour": [
                      {
                        "type": "histogram2dcontour",
                        "colorbar": {
                          "outlinewidth": 0,
                          "ticks": ""
                        },
                        "colorscale": [
                          [
                            0,
                            "#0d0887"
                          ],
                          [
                            0.1111111111111111,
                            "#46039f"
                          ],
                          [
                            0.2222222222222222,
                            "#7201a8"
                          ],
                          [
                            0.3333333333333333,
                            "#9c179e"
                          ],
                          [
                            0.4444444444444444,
                            "#bd3786"
                          ],
                          [
                            0.5555555555555556,
                            "#d8576b"
                          ],
                          [
                            0.6666666666666666,
                            "#ed7953"
                          ],
                          [
                            0.7777777777777778,
                            "#fb9f3a"
                          ],
                          [
                            0.8888888888888888,
                            "#fdca26"
                          ],
                          [
                            1,
                            "#f0f921"
                          ]
                        ]
                      }
                    ],
                    "choropleth": [
                      {
                        "type": "choropleth",
                        "colorbar": {
                          "outlinewidth": 0,
                          "ticks": ""
                        }
                      }
                    ],
                    "histogram2d": [
                      {
                        "type": "histogram2d",
                        "colorbar": {
                          "outlinewidth": 0,
                          "ticks": ""
                        },
                        "colorscale": [
                          [
                            0,
                            "#0d0887"
                          ],
                          [
                            0.1111111111111111,
                            "#46039f"
                          ],
                          [
                            0.2222222222222222,
                            "#7201a8"
                          ],
                          [
                            0.3333333333333333,
                            "#9c179e"
                          ],
                          [
                            0.4444444444444444,
                            "#bd3786"
                          ],
                          [
                            0.5555555555555556,
                            "#d8576b"
                          ],
                          [
                            0.6666666666666666,
                            "#ed7953"
                          ],
                          [
                            0.7777777777777778,
                            "#fb9f3a"
                          ],
                          [
                            0.8888888888888888,
                            "#fdca26"
                          ],
                          [
                            1,
                            "#f0f921"
                          ]
                        ]
                      }
                    ],
                    "heatmap": [
                      {
                        "type": "heatmap",
                        "colorbar": {
                          "outlinewidth": 0,
                          "ticks": ""
                        },
                        "colorscale": [
                          [
                            0,
                            "#0d0887"
                          ],
                          [
                            0.1111111111111111,
                            "#46039f"
                          ],
                          [
                            0.2222222222222222,
                            "#7201a8"
                          ],
                          [
                            0.3333333333333333,
                            "#9c179e"
                          ],
                          [
                            0.4444444444444444,
                            "#bd3786"
                          ],
                          [
                            0.5555555555555556,
                            "#d8576b"
                          ],
                          [
                            0.6666666666666666,
                            "#ed7953"
                          ],
                          [
                            0.7777777777777778,
                            "#fb9f3a"
                          ],
                          [
                            0.8888888888888888,
                            "#fdca26"
                          ],
                          [
                            1,
                            "#f0f921"
                          ]
                        ]
                      }
                    ],
                    "heatmapgl": [
                      {
                        "type": "heatmapgl",
                        "colorbar": {
                          "outlinewidth": 0,
                          "ticks": ""
                        },
                        "colorscale": [
                          [
                            0,
                            "#0d0887"
                          ],
                          [
                            0.1111111111111111,
                            "#46039f"
                          ],
                          [
                            0.2222222222222222,
                            "#7201a8"
                          ],
                          [
                            0.3333333333333333,
                            "#9c179e"
                          ],
                          [
                            0.4444444444444444,
                            "#bd3786"
                          ],
                          [
                            0.5555555555555556,
                            "#d8576b"
                          ],
                          [
                            0.6666666666666666,
                            "#ed7953"
                          ],
                          [
                            0.7777777777777778,
                            "#fb9f3a"
                          ],
                          [
                            0.8888888888888888,
                            "#fdca26"
                          ],
                          [
                            1,
                            "#f0f921"
                          ]
                        ]
                      }
                    ],
                    "contourcarpet": [
                      {
                        "type": "contourcarpet",
                        "colorbar": {
                          "outlinewidth": 0,
                          "ticks": ""
                        }
                      }
                    ],
                    "contour": [
                      {
                        "type": "contour",
                        "colorbar": {
                          "outlinewidth": 0,
                          "ticks": ""
                        },
                        "colorscale": [
                          [
                            0,
                            "#0d0887"
                          ],
                          [
                            0.1111111111111111,
                            "#46039f"
                          ],
                          [
                            0.2222222222222222,
                            "#7201a8"
                          ],
                          [
                            0.3333333333333333,
                            "#9c179e"
                          ],
                          [
                            0.4444444444444444,
                            "#bd3786"
                          ],
                          [
                            0.5555555555555556,
                            "#d8576b"
                          ],
                          [
                            0.6666666666666666,
                            "#ed7953"
                          ],
                          [
                            0.7777777777777778,
                            "#fb9f3a"
                          ],
                          [
                            0.8888888888888888,
                            "#fdca26"
                          ],
                          [
                            1,
                            "#f0f921"
                          ]
                        ]
                      }
                    ],
                    "surface": [
                      {
                        "type": "surface",
                        "colorbar": {
                          "outlinewidth": 0,
                          "ticks": ""
                        },
                        "colorscale": [
                          [
                            0,
                            "#0d0887"
                          ],
                          [
                            0.1111111111111111,
                            "#46039f"
                          ],
                          [
                            0.2222222222222222,
                            "#7201a8"
                          ],
                          [
                            0.3333333333333333,
                            "#9c179e"
                          ],
                          [
                            0.4444444444444444,
                            "#bd3786"
                          ],
                          [
                            0.5555555555555556,
                            "#d8576b"
                          ],
                          [
                            0.6666666666666666,
                            "#ed7953"
                          ],
                          [
                            0.7777777777777778,
                            "#fb9f3a"
                          ],
                          [
                            0.8888888888888888,
                            "#fdca26"
                          ],
                          [
                            1,
                            "#f0f921"
                          ]
                        ]
                      }
                    ],
                    "mesh3d": [
                      {
                        "type": "mesh3d",
                        "colorbar": {
                          "outlinewidth": 0,
                          "ticks": ""
                        }
                      }
                    ],
                    "scatter": [
                      {
                        "fillpattern": {
                          "fillmode": "overlay",
                          "size": 10,
                          "solidity": 0.2
                        },
                        "type": "scatter"
                      }
                    ],
                    "parcoords": [
                      {
                        "type": "parcoords",
                        "line": {
                          "colorbar": {
                            "outlinewidth": 0,
                            "ticks": ""
                          }
                        }
                      }
                    ],
                    "scatterpolargl": [
                      {
                        "type": "scatterpolargl",
                        "marker": {
                          "colorbar": {
                            "outlinewidth": 0,
                            "ticks": ""
                          }
                        }
                      }
                    ],
                    "bar": [
                      {
                        "error_x": {
                          "color": "#2a3f5f"
                        },
                        "error_y": {
                          "color": "#2a3f5f"
                        },
                        "marker": {
                          "line": {
                            "color": "#E5ECF6",
                            "width": 0.5
                          },
                          "pattern": {
                            "fillmode": "overlay",
                            "size": 10,
                            "solidity": 0.2
                          }
                        },
                        "type": "bar"
                      }
                    ],
                    "scattergeo": [
                      {
                        "type": "scattergeo",
                        "marker": {
                          "colorbar": {
                            "outlinewidth": 0,
                            "ticks": ""
                          }
                        }
                      }
                    ],
                    "scatterpolar": [
                      {
                        "type": "scatterpolar",
                        "marker": {
                          "colorbar": {
                            "outlinewidth": 0,
                            "ticks": ""
                          }
                        }
                      }
                    ],
                    "histogram": [
                      {
                        "marker": {
                          "pattern": {
                            "fillmode": "overlay",
                            "size": 10,
                            "solidity": 0.2
                          }
                        },
                        "type": "histogram"
                      }
                    ],
                    "scattergl": [
                      {
                        "type": "scattergl",
                        "marker": {
                          "colorbar": {
                            "outlinewidth": 0,
                            "ticks": ""
                          }
                        }
                      }
                    ],
                    "scatter3d": [
                      {
                        "type": "scatter3d",
                        "line": {
                          "colorbar": {
                            "outlinewidth": 0,
                            "ticks": ""
                          }
                        },
                        "marker": {
                          "colorbar": {
                            "outlinewidth": 0,
                            "ticks": ""
                          }
                        }
                      }
                    ],
                    "scattermapbox": [
                      {
                        "type": "scattermapbox",
                        "marker": {
                          "colorbar": {
                            "outlinewidth": 0,
                            "ticks": ""
                          }
                        }
                      }
                    ],
                    "scatterternary": [
                      {
                        "type": "scatterternary",
                        "marker": {
                          "colorbar": {
                            "outlinewidth": 0,
                            "ticks": ""
                          }
                        }
                      }
                    ],
                    "scattercarpet": [
                      {
                        "type": "scattercarpet",
                        "marker": {
                          "colorbar": {
                            "outlinewidth": 0,
                            "ticks": ""
                          }
                        }
                      }
                    ],
                    "carpet": [
                      {
                        "aaxis": {
                          "endlinecolor": "#2a3f5f",
                          "gridcolor": "white",
                          "linecolor": "white",
                          "minorgridcolor": "white",
                          "startlinecolor": "#2a3f5f"
                        },
                        "baxis": {
                          "endlinecolor": "#2a3f5f",
                          "gridcolor": "white",
                          "linecolor": "white",
                          "minorgridcolor": "white",
                          "startlinecolor": "#2a3f5f"
                        },
                        "type": "carpet"
                      }
                    ],
                    "table": [
                      {
                        "cells": {
                          "fill": {
                            "color": "#EBF0F8"
                          },
                          "line": {
                            "color": "white"
                          }
                        },
                        "header": {
                          "fill": {
                            "color": "#C8D4E3"
                          },
                          "line": {
                            "color": "white"
                          }
                        },
                        "type": "table"
                      }
                    ],
                    "barpolar": [
                      {
                        "marker": {
                          "line": {
                            "color": "#E5ECF6",
                            "width": 0.5
                          },
                          "pattern": {
                            "fillmode": "overlay",
                            "size": 10,
                            "solidity": 0.2
                          }
                        },
                        "type": "barpolar"
                      }
                    ],
                    "pie": [
                      {
                        "automargin": true,
                        "type": "pie"
                      }
                    ]
                  },
                  "layout": {
                    "autotypenumbers": "strict",
                    "colorway": [
                      "#636efa",
                      "#EF553B",
                      "#00cc96",
                      "#ab63fa",
                      "#FFA15A",
                      "#19d3f3",
                      "#FF6692",
                      "#B6E880",
                      "#FF97FF",
                      "#FECB52"
                    ],
                    "font": {
                      "color": "#2a3f5f"
                    },
                    "hovermode": "closest",
                    "hoverlabel": {
                      "align": "left"
                    },
                    "paper_bgcolor": "white",
                    "plot_bgcolor": "#E5ECF6",
                    "polar": {
                      "bgcolor": "#E5ECF6",
                      "angularaxis": {
                        "gridcolor": "white",
                        "linecolor": "white",
                        "ticks": ""
                      },
                      "radialaxis": {
                        "gridcolor": "white",
                        "linecolor": "white",
                        "ticks": ""
                      }
                    },
                    "ternary": {
                      "bgcolor": "#E5ECF6",
                      "aaxis": {
                        "gridcolor": "white",
                        "linecolor": "white",
                        "ticks": ""
                      },
                      "baxis": {
                        "gridcolor": "white",
                        "linecolor": "white",
                        "ticks": ""
                      },
                      "caxis": {
                        "gridcolor": "white",
                        "linecolor": "white",
                        "ticks": ""
                      }
                    },
                    "coloraxis": {
                      "colorbar": {
                        "outlinewidth": 0,
                        "ticks": ""
                      }
                    },
                    "colorscale": {
                      "sequential": [
                        [
                          0,
                          "#0d0887"
                        ],
                        [
                          0.1111111111111111,
                          "#46039f"
                        ],
                        [
                          0.2222222222222222,
                          "#7201a8"
                        ],
                        [
                          0.3333333333333333,
                          "#9c179e"
                        ],
                        [
                          0.4444444444444444,
                          "#bd3786"
                        ],
                        [
                          0.5555555555555556,
                          "#d8576b"
                        ],
                        [
                          0.6666666666666666,
                          "#ed7953"
                        ],
                        [
                          0.7777777777777778,
                          "#fb9f3a"
                        ],
                        [
                          0.8888888888888888,
                          "#fdca26"
                        ],
                        [
                          1,
                          "#f0f921"
                        ]
                      ],
                      "sequentialminus": [
                        [
                          0,
                          "#0d0887"
                        ],
                        [
                          0.1111111111111111,
                          "#46039f"
                        ],
                        [
                          0.2222222222222222,
                          "#7201a8"
                        ],
                        [
                          0.3333333333333333,
                          "#9c179e"
                        ],
                        [
                          0.4444444444444444,
                          "#bd3786"
                        ],
                        [
                          0.5555555555555556,
                          "#d8576b"
                        ],
                        [
                          0.6666666666666666,
                          "#ed7953"
                        ],
                        [
                          0.7777777777777778,
                          "#fb9f3a"
                        ],
                        [
                          0.8888888888888888,
                          "#fdca26"
                        ],
                        [
                          1,
                          "#f0f921"
                        ]
                      ],
                      "diverging": [
                        [
                          0,
                          "#8e0152"
                        ],
                        [
                          0.1,
                          "#c51b7d"
                        ],
                        [
                          0.2,
                          "#de77ae"
                        ],
                        [
                          0.3,
                          "#f1b6da"
                        ],
                        [
                          0.4,
                          "#fde0ef"
                        ],
                        [
                          0.5,
                          "#f7f7f7"
                        ],
                        [
                          0.6,
                          "#e6f5d0"
                        ],
                        [
                          0.7,
                          "#b8e186"
                        ],
                        [
                          0.8,
                          "#7fbc41"
                        ],
                        [
                          0.9,
                          "#4d9221"
                        ],
                        [
                          1,
                          "#276419"
                        ]
                      ]
                    },
                    "xaxis": {
                      "gridcolor": "white",
                      "linecolor": "white",
                      "ticks": "",
                      "title": {
                        "standoff": 15
                      },
                      "zerolinecolor": "white",
                      "automargin": true,
                      "zerolinewidth": 2
                    },
                    "yaxis": {
                      "gridcolor": "white",
                      "linecolor": "white",
                      "ticks": "",
                      "title": {
                        "standoff": 15
                      },
                      "zerolinecolor": "white",
                      "automargin": true,
                      "zerolinewidth": 2
                    },
                    "scene": {
                      "xaxis": {
                        "backgroundcolor": "#E5ECF6",
                        "gridcolor": "white",
                        "linecolor": "white",
                        "showbackground": true,
                        "ticks": "",
                        "zerolinecolor": "white",
                        "gridwidth": 2
                      },
                      "yaxis": {
                        "backgroundcolor": "#E5ECF6",
                        "gridcolor": "white",
                        "linecolor": "white",
                        "showbackground": true,
                        "ticks": "",
                        "zerolinecolor": "white",
                        "gridwidth": 2
                      },
                      "zaxis": {
                        "backgroundcolor": "#E5ECF6",
                        "gridcolor": "white",
                        "linecolor": "white",
                        "showbackground": true,
                        "ticks": "",
                        "zerolinecolor": "white",
                        "gridwidth": 2
                      }
                    },
                    "shapedefaults": {
                      "line": {
                        "color": "#2a3f5f"
                      }
                    },
                    "annotationdefaults": {
                      "arrowcolor": "#2a3f5f",
                      "arrowhead": 0,
                      "arrowwidth": 1
                    },
                    "geo": {
                      "bgcolor": "white",
                      "landcolor": "#E5ECF6",
                      "subunitcolor": "white",
                      "showland": true,
                      "showlakes": true,
                      "lakecolor": "white"
                    },
                    "title": {
                      "x": 0.05
                    },
                    "mapbox": {
                      "style": "light"
                    }
                  }
                },
                "xaxis": {
                  "anchor": "y",
                  "domain": [
                    0,
                    1
                  ],
                  "title": {
                    "text": "x"
                  }
                },
                "yaxis": {
                  "anchor": "x",
                  "domain": [
                    0,
                    1
                  ],
                  "title": {
                    "text": "y"
                  }
                },
                "legend": {
                  "tracegroupgap": 0
                },
                "margin": {
                  "t": 60
                }
              },
              "config": {
                "plotlyServerURL": "https://plot.ly"
              }
            },
            "text/html": "<div>                            <div id=\"a64249cf-46a3-41b0-af8b-d6cf33ca75ce\" class=\"plotly-graph-div\" style=\"height:525px; width:100%;\"></div>            <script type=\"text/javascript\">                require([\"plotly\"], function(Plotly) {                    window.PLOTLYENV=window.PLOTLYENV || {};                                    if (document.getElementById(\"a64249cf-46a3-41b0-af8b-d6cf33ca75ce\")) {                    Plotly.newPlot(                        \"a64249cf-46a3-41b0-af8b-d6cf33ca75ce\",                        [{\"hovertemplate\":\"x=%{x}<br>y=%{y}<extra></extra>\",\"legendgroup\":\"\",\"marker\":{\"color\":\"#636efa\",\"symbol\":\"circle\"},\"mode\":\"markers\",\"name\":\"\",\"orientation\":\"v\",\"showlegend\":false,\"x\":[32.09090909090909,29.1,30.444444444444443,31.875,34.42857142857143,26.444444444444443,21.5,20.2,22.333333333333332,20.333333333333332,22.125,22.125,29.166666666666668,34.6,19.0,20.5,17.77777777777778,19.75,17.0,24.5,15.444444444444445,22.666666666666668,26.6,18.571428571428573,13.333333333333334,11.9,16.571428571428573,18.8,13.285714285714286,10.375,20.5,16.2,10.571428571428571,11.333333333333334,33.5,11.0,11.4,13.5,11.5,15.333333333333334,13.333333333333334,12.333333333333334,7.0,10.333333333333334,6.2,15.0,6.5,6.5,12.5,8.333333333333334,24.0,6.0,4.6,11.5,5.0,9.5,6.0,4.0,5.0,12.0,10.0,6.0,2.5,1.0,3.0,2.0,1.0,0.5,0.5,1.0,1.0,1.0,1.0,1.0,1.0,1.0,0.5,0.0,0.0,0.0],\"xaxis\":\"x\",\"y\":[128.83211678832117,109.81132075471699,110.93117408906883,121.42857142857143,148.76543209876544,127.95698924731182,114.36170212765957,120.23809523809524,162.09677419354838,128.8732394366197,136.15384615384616,163.88888888888889,129.62962962962962,149.13793103448276,132.5581395348837,124.24242424242425,108.84353741496598,108.21917808219177,96.83544303797468,106.52173913043478,118.80341880341881,101.49253731343283,134.34343434343435,120.37037037037037,127.65957446808511,94.44444444444444,170.58823529411765,106.81818181818181,116.25,129.6875,146.42857142857142,120.8955223880597,92.5,103.03030303030303,131.37254901960785,157.14285714285714,129.54545454545453,110.20408163265306,102.22222222222223,124.32432432432432,111.11111111111111,137.03703703703704,92.10526315789474,67.3913043478261,79.48717948717949,88.23529411764706,96.29629629629629,86.66666666666667,96.15384615384616,96.15384615384616,126.3157894736842,114.28571428571429,153.33333333333334,100.0,105.26315789473684,111.76470588235294,105.88235294117646,114.28571428571429,57.69230769230769,171.42857142857142,125.0,66.66666666666667,125.0,66.66666666666667,33.333333333333336,66.66666666666667,28.571428571428573,50.0,50.0,33.333333333333336,100.0,25.0,100.0,50.0,16.666666666666668,14.285714285714286,33.333333333333336,0.0,0.0,0.0],\"yaxis\":\"y\",\"type\":\"scatter\"}],                        {\"template\":{\"data\":{\"histogram2dcontour\":[{\"type\":\"histogram2dcontour\",\"colorbar\":{\"outlinewidth\":0,\"ticks\":\"\"},\"colorscale\":[[0.0,\"#0d0887\"],[0.1111111111111111,\"#46039f\"],[0.2222222222222222,\"#7201a8\"],[0.3333333333333333,\"#9c179e\"],[0.4444444444444444,\"#bd3786\"],[0.5555555555555556,\"#d8576b\"],[0.6666666666666666,\"#ed7953\"],[0.7777777777777778,\"#fb9f3a\"],[0.8888888888888888,\"#fdca26\"],[1.0,\"#f0f921\"]]}],\"choropleth\":[{\"type\":\"choropleth\",\"colorbar\":{\"outlinewidth\":0,\"ticks\":\"\"}}],\"histogram2d\":[{\"type\":\"histogram2d\",\"colorbar\":{\"outlinewidth\":0,\"ticks\":\"\"},\"colorscale\":[[0.0,\"#0d0887\"],[0.1111111111111111,\"#46039f\"],[0.2222222222222222,\"#7201a8\"],[0.3333333333333333,\"#9c179e\"],[0.4444444444444444,\"#bd3786\"],[0.5555555555555556,\"#d8576b\"],[0.6666666666666666,\"#ed7953\"],[0.7777777777777778,\"#fb9f3a\"],[0.8888888888888888,\"#fdca26\"],[1.0,\"#f0f921\"]]}],\"heatmap\":[{\"type\":\"heatmap\",\"colorbar\":{\"outlinewidth\":0,\"ticks\":\"\"},\"colorscale\":[[0.0,\"#0d0887\"],[0.1111111111111111,\"#46039f\"],[0.2222222222222222,\"#7201a8\"],[0.3333333333333333,\"#9c179e\"],[0.4444444444444444,\"#bd3786\"],[0.5555555555555556,\"#d8576b\"],[0.6666666666666666,\"#ed7953\"],[0.7777777777777778,\"#fb9f3a\"],[0.8888888888888888,\"#fdca26\"],[1.0,\"#f0f921\"]]}],\"heatmapgl\":[{\"type\":\"heatmapgl\",\"colorbar\":{\"outlinewidth\":0,\"ticks\":\"\"},\"colorscale\":[[0.0,\"#0d0887\"],[0.1111111111111111,\"#46039f\"],[0.2222222222222222,\"#7201a8\"],[0.3333333333333333,\"#9c179e\"],[0.4444444444444444,\"#bd3786\"],[0.5555555555555556,\"#d8576b\"],[0.6666666666666666,\"#ed7953\"],[0.7777777777777778,\"#fb9f3a\"],[0.8888888888888888,\"#fdca26\"],[1.0,\"#f0f921\"]]}],\"contourcarpet\":[{\"type\":\"contourcarpet\",\"colorbar\":{\"outlinewidth\":0,\"ticks\":\"\"}}],\"contour\":[{\"type\":\"contour\",\"colorbar\":{\"outlinewidth\":0,\"ticks\":\"\"},\"colorscale\":[[0.0,\"#0d0887\"],[0.1111111111111111,\"#46039f\"],[0.2222222222222222,\"#7201a8\"],[0.3333333333333333,\"#9c179e\"],[0.4444444444444444,\"#bd3786\"],[0.5555555555555556,\"#d8576b\"],[0.6666666666666666,\"#ed7953\"],[0.7777777777777778,\"#fb9f3a\"],[0.8888888888888888,\"#fdca26\"],[1.0,\"#f0f921\"]]}],\"surface\":[{\"type\":\"surface\",\"colorbar\":{\"outlinewidth\":0,\"ticks\":\"\"},\"colorscale\":[[0.0,\"#0d0887\"],[0.1111111111111111,\"#46039f\"],[0.2222222222222222,\"#7201a8\"],[0.3333333333333333,\"#9c179e\"],[0.4444444444444444,\"#bd3786\"],[0.5555555555555556,\"#d8576b\"],[0.6666666666666666,\"#ed7953\"],[0.7777777777777778,\"#fb9f3a\"],[0.8888888888888888,\"#fdca26\"],[1.0,\"#f0f921\"]]}],\"mesh3d\":[{\"type\":\"mesh3d\",\"colorbar\":{\"outlinewidth\":0,\"ticks\":\"\"}}],\"scatter\":[{\"fillpattern\":{\"fillmode\":\"overlay\",\"size\":10,\"solidity\":0.2},\"type\":\"scatter\"}],\"parcoords\":[{\"type\":\"parcoords\",\"line\":{\"colorbar\":{\"outlinewidth\":0,\"ticks\":\"\"}}}],\"scatterpolargl\":[{\"type\":\"scatterpolargl\",\"marker\":{\"colorbar\":{\"outlinewidth\":0,\"ticks\":\"\"}}}],\"bar\":[{\"error_x\":{\"color\":\"#2a3f5f\"},\"error_y\":{\"color\":\"#2a3f5f\"},\"marker\":{\"line\":{\"color\":\"#E5ECF6\",\"width\":0.5},\"pattern\":{\"fillmode\":\"overlay\",\"size\":10,\"solidity\":0.2}},\"type\":\"bar\"}],\"scattergeo\":[{\"type\":\"scattergeo\",\"marker\":{\"colorbar\":{\"outlinewidth\":0,\"ticks\":\"\"}}}],\"scatterpolar\":[{\"type\":\"scatterpolar\",\"marker\":{\"colorbar\":{\"outlinewidth\":0,\"ticks\":\"\"}}}],\"histogram\":[{\"marker\":{\"pattern\":{\"fillmode\":\"overlay\",\"size\":10,\"solidity\":0.2}},\"type\":\"histogram\"}],\"scattergl\":[{\"type\":\"scattergl\",\"marker\":{\"colorbar\":{\"outlinewidth\":0,\"ticks\":\"\"}}}],\"scatter3d\":[{\"type\":\"scatter3d\",\"line\":{\"colorbar\":{\"outlinewidth\":0,\"ticks\":\"\"}},\"marker\":{\"colorbar\":{\"outlinewidth\":0,\"ticks\":\"\"}}}],\"scattermapbox\":[{\"type\":\"scattermapbox\",\"marker\":{\"colorbar\":{\"outlinewidth\":0,\"ticks\":\"\"}}}],\"scatterternary\":[{\"type\":\"scatterternary\",\"marker\":{\"colorbar\":{\"outlinewidth\":0,\"ticks\":\"\"}}}],\"scattercarpet\":[{\"type\":\"scattercarpet\",\"marker\":{\"colorbar\":{\"outlinewidth\":0,\"ticks\":\"\"}}}],\"carpet\":[{\"aaxis\":{\"endlinecolor\":\"#2a3f5f\",\"gridcolor\":\"white\",\"linecolor\":\"white\",\"minorgridcolor\":\"white\",\"startlinecolor\":\"#2a3f5f\"},\"baxis\":{\"endlinecolor\":\"#2a3f5f\",\"gridcolor\":\"white\",\"linecolor\":\"white\",\"minorgridcolor\":\"white\",\"startlinecolor\":\"#2a3f5f\"},\"type\":\"carpet\"}],\"table\":[{\"cells\":{\"fill\":{\"color\":\"#EBF0F8\"},\"line\":{\"color\":\"white\"}},\"header\":{\"fill\":{\"color\":\"#C8D4E3\"},\"line\":{\"color\":\"white\"}},\"type\":\"table\"}],\"barpolar\":[{\"marker\":{\"line\":{\"color\":\"#E5ECF6\",\"width\":0.5},\"pattern\":{\"fillmode\":\"overlay\",\"size\":10,\"solidity\":0.2}},\"type\":\"barpolar\"}],\"pie\":[{\"automargin\":true,\"type\":\"pie\"}]},\"layout\":{\"autotypenumbers\":\"strict\",\"colorway\":[\"#636efa\",\"#EF553B\",\"#00cc96\",\"#ab63fa\",\"#FFA15A\",\"#19d3f3\",\"#FF6692\",\"#B6E880\",\"#FF97FF\",\"#FECB52\"],\"font\":{\"color\":\"#2a3f5f\"},\"hovermode\":\"closest\",\"hoverlabel\":{\"align\":\"left\"},\"paper_bgcolor\":\"white\",\"plot_bgcolor\":\"#E5ECF6\",\"polar\":{\"bgcolor\":\"#E5ECF6\",\"angularaxis\":{\"gridcolor\":\"white\",\"linecolor\":\"white\",\"ticks\":\"\"},\"radialaxis\":{\"gridcolor\":\"white\",\"linecolor\":\"white\",\"ticks\":\"\"}},\"ternary\":{\"bgcolor\":\"#E5ECF6\",\"aaxis\":{\"gridcolor\":\"white\",\"linecolor\":\"white\",\"ticks\":\"\"},\"baxis\":{\"gridcolor\":\"white\",\"linecolor\":\"white\",\"ticks\":\"\"},\"caxis\":{\"gridcolor\":\"white\",\"linecolor\":\"white\",\"ticks\":\"\"}},\"coloraxis\":{\"colorbar\":{\"outlinewidth\":0,\"ticks\":\"\"}},\"colorscale\":{\"sequential\":[[0.0,\"#0d0887\"],[0.1111111111111111,\"#46039f\"],[0.2222222222222222,\"#7201a8\"],[0.3333333333333333,\"#9c179e\"],[0.4444444444444444,\"#bd3786\"],[0.5555555555555556,\"#d8576b\"],[0.6666666666666666,\"#ed7953\"],[0.7777777777777778,\"#fb9f3a\"],[0.8888888888888888,\"#fdca26\"],[1.0,\"#f0f921\"]],\"sequentialminus\":[[0.0,\"#0d0887\"],[0.1111111111111111,\"#46039f\"],[0.2222222222222222,\"#7201a8\"],[0.3333333333333333,\"#9c179e\"],[0.4444444444444444,\"#bd3786\"],[0.5555555555555556,\"#d8576b\"],[0.6666666666666666,\"#ed7953\"],[0.7777777777777778,\"#fb9f3a\"],[0.8888888888888888,\"#fdca26\"],[1.0,\"#f0f921\"]],\"diverging\":[[0,\"#8e0152\"],[0.1,\"#c51b7d\"],[0.2,\"#de77ae\"],[0.3,\"#f1b6da\"],[0.4,\"#fde0ef\"],[0.5,\"#f7f7f7\"],[0.6,\"#e6f5d0\"],[0.7,\"#b8e186\"],[0.8,\"#7fbc41\"],[0.9,\"#4d9221\"],[1,\"#276419\"]]},\"xaxis\":{\"gridcolor\":\"white\",\"linecolor\":\"white\",\"ticks\":\"\",\"title\":{\"standoff\":15},\"zerolinecolor\":\"white\",\"automargin\":true,\"zerolinewidth\":2},\"yaxis\":{\"gridcolor\":\"white\",\"linecolor\":\"white\",\"ticks\":\"\",\"title\":{\"standoff\":15},\"zerolinecolor\":\"white\",\"automargin\":true,\"zerolinewidth\":2},\"scene\":{\"xaxis\":{\"backgroundcolor\":\"#E5ECF6\",\"gridcolor\":\"white\",\"linecolor\":\"white\",\"showbackground\":true,\"ticks\":\"\",\"zerolinecolor\":\"white\",\"gridwidth\":2},\"yaxis\":{\"backgroundcolor\":\"#E5ECF6\",\"gridcolor\":\"white\",\"linecolor\":\"white\",\"showbackground\":true,\"ticks\":\"\",\"zerolinecolor\":\"white\",\"gridwidth\":2},\"zaxis\":{\"backgroundcolor\":\"#E5ECF6\",\"gridcolor\":\"white\",\"linecolor\":\"white\",\"showbackground\":true,\"ticks\":\"\",\"zerolinecolor\":\"white\",\"gridwidth\":2}},\"shapedefaults\":{\"line\":{\"color\":\"#2a3f5f\"}},\"annotationdefaults\":{\"arrowcolor\":\"#2a3f5f\",\"arrowhead\":0,\"arrowwidth\":1},\"geo\":{\"bgcolor\":\"white\",\"landcolor\":\"#E5ECF6\",\"subunitcolor\":\"white\",\"showland\":true,\"showlakes\":true,\"lakecolor\":\"white\"},\"title\":{\"x\":0.05},\"mapbox\":{\"style\":\"light\"}}},\"xaxis\":{\"anchor\":\"y\",\"domain\":[0.0,1.0],\"title\":{\"text\":\"x\"}},\"yaxis\":{\"anchor\":\"x\",\"domain\":[0.0,1.0],\"title\":{\"text\":\"y\"}},\"legend\":{\"tracegroupgap\":0},\"margin\":{\"t\":60}},                        {\"responsive\": true}                    ).then(function(){\n                            \nvar gd = document.getElementById('a64249cf-46a3-41b0-af8b-d6cf33ca75ce');\nvar x = new MutationObserver(function (mutations, observer) {{\n        var display = window.getComputedStyle(gd).display;\n        if (!display || display === 'none') {{\n            console.log([gd, 'removed!']);\n            Plotly.purge(gd);\n            observer.disconnect();\n        }}\n}});\n\n// Listen for the removal of the full notebook cells\nvar notebookContainer = gd.closest('#notebook-container');\nif (notebookContainer) {{\n    x.observe(notebookContainer, {childList: true});\n}}\n\n// Listen for the clearing of the current output cell\nvar outputEl = gd.closest('.output');\nif (outputEl) {{\n    x.observe(outputEl, {childList: true});\n}}\n\n                        })                };                });            </script>        </div>"
          },
          "metadata": {}
        }
      ],
      "source": [
        "import plotly.express as px\n",
        "\n",
        "def wick(x):\n",
        "    if x != \"No dismisal\":\n",
        "        return 1\n",
        "    else:\n",
        "        return 0\n",
        "df['wicket'] = df['Dismisal_kind'].apply(lambda x: wick(x))\n",
        "\n",
        "\n",
        "def isSix(x):\n",
        "    if x == 6:\n",
        "        return 1\n",
        "    else:\n",
        "        return 0\n",
        "    \n",
        "def isFour(x):\n",
        "    if x == 4:\n",
        "        return 1\n",
        "    else:\n",
        "        return 0\n",
        "df['Six'] = df['Batsman_runs'].map(lambda x: isSix(x))\n",
        "df['Four'] = df['Batsman_runs'].map(lambda x: isFour(x))\n",
        "\n",
        "\n",
        "\n",
        "#Ball-by-ball detail for each batsman\n",
        "\n",
        "df_bat = pd.merge(df.groupby(['Batsman_strike','Match_id']).sum().reset_index()[['Batsman_strike','Match_id','Batsman_runs']], df.groupby(['Batsman_strike', 'Match_id']).count().reset_index()[['Batsman_strike','Match_id', 'Ball']].rename(columns = {'Ball': 'Balls_played'}), on = ['Batsman_strike', 'Match_id'])\n",
        "\n",
        "\n",
        "\n",
        "##Batting datafrane\n",
        "df_batAvg = pd.merge(pd.merge(df_bat.groupby('Batsman_strike').mean().reset_index()[['Batsman_strike','Batsman_runs', 'Balls_played']].rename(columns = {'Batsman_runs' : 'AvgRuns_match' , 'Balls_played': 'AvgBalls_match'}), df[['Batsman_strike', 'Batting_team']].drop_duplicates(keep = 'first'), on = 'Batsman_strike') , pd.merge(df.groupby(['Batsman_strike']).sum().reset_index()[['Batsman_strike', 'Batsman_runs', 'Six', 'Four']].rename(columns = {'Batsman_runs': 'TotalRuns', 'Six':'TotalSixes', 'Four':'TotalFours'}), df.groupby(['Batsman_strike']).count().reset_index()[['Batsman_strike' , 'Ball']].rename(columns = {'Ball': 'Balls_played'}), on ='Batsman_strike'), on = 'Batsman_strike')\n",
        "                                                                                                                                     \n",
        "                                                                                                                                     \n",
        "\n",
        "df_batAvg['Runs_sq'] = 0\n",
        "df_batAvg['Matches_played'] = 0\n",
        "\n",
        "\n",
        "#To calculate variance\n",
        "for i in range(len(df_batAvg)):\n",
        "    for j in range(len(df_bat)):\n",
        "        if df_batAvg.iloc[i]['Batsman_strike'] == df_bat.iloc[j]['Batsman_strike']:\n",
        "            df_batAvg['Runs_sq'].iloc[i] += df_bat.iloc[j]['Batsman_runs'] **2\n",
        "            df_batAvg['Matches_played'].iloc[i] += 1\n",
        "\n",
        "\n",
        "#Strke rate, % boundary and Variance\n",
        "df_batAvg['Strike_rate'] = df_batAvg['TotalRuns'] * 100 /df_batAvg['Balls_played']\n",
        "df_batAvg['PercentageRuns_boundary'] = (df_batAvg['TotalSixes']* 6 + df_batAvg['TotalFours'] * 4) * 100/df_batAvg['TotalRuns']\n",
        "df_batAvg[\"Var\"] = (df_batAvg['Runs_sq'] - df_batAvg['Matches_played']*(df_batAvg['AvgRuns_match']**2))/(df_batAvg['Matches_played'] - 1)\n",
        "df_batAvg = df_batAvg.sort_values(by = 'TotalRuns', ascending = False)\n",
        "\n",
        "\n",
        "##Batsman Scatter\n",
        "\n",
        "z = df_batAvg['Batsman_strike']\n",
        "trace = go.Scatter(y = df_batAvg['Strike_rate'], x= df_batAvg['AvgRuns_match'], mode = 'markers', showlegend = False , text = df_batAvg['Batsman_strike'] + \"  \" + df_batAvg['Batting_team'], hoverinfo =  \"text\", marker = dict(size = 20, symbol = 'circle' , cmin = 0, autocolorscale = True, reversescale = True, colorbar = {'title' : {'text': 'Score variance'}}, color = df_batAvg['Var']))\n",
        "data = [trace]\n",
        "\n",
        "layout = go.Layout(paper_bgcolor = 'white',plot_bgcolor = 'white' , yaxis = dict(title = dict(text = \"Strike rate\" , font = dict(color ='black')) ,showgrid = True, zeroline = False, color = 'black'), xaxis = dict( title= dict( text = 'Average runs'), showgrid = False, zeroline= False), title = dict(text = \"All batsman's performance - Average runs, Strike rate, Score variance\"))\n",
        "fig = go.Figure(data = data, layout = layout)\n",
        "plotly.offline.init_notebook_mode(connected=True)\n",
        "plotly.offline.plot(fig, include_plotlyjs = False, output_type = 'div')\n",
        "\n",
        "px.scatter(data, y = df_batAvg['Strike_rate'], x= df_batAvg['AvgRuns_match'])\n",
        "\n",
        "\n",
        "\n",
        "##prints\n"
      ]
    },
    {
      "cell_type": "code",
      "execution_count": 22,
      "metadata": {},
      "outputs": [
        {
          "output_type": "execute_result",
          "data": {
            "text/plain": [
              "'<div>                            <div id=\"29adecb3-81da-43b3-8174-fe1289e1fb34\" class=\"plotly-graph-div\" style=\"height:100%; width:100%;\"></div>            <script type=\"text/javascript\">                                    window.PLOTLYENV=window.PLOTLYENV || {};                                    if (document.getElementById(\"29adecb3-81da-43b3-8174-fe1289e1fb34\")) {                    Plotly.newPlot(                        \"29adecb3-81da-43b3-8174-fe1289e1fb34\",                        [{\"name\":\"Peshawar Zalmi\",\"opacity\":0.75,\"x\":[32.09090909090909,22.125,29.166666666666668,17.0,22.666666666666668,13.333333333333334,18.8,16.2,13.5,7.0,10.333333333333334,6.2,6.5,4.6,5.0,1.0,1.0],\"xaxis\":\"x\",\"yaxis\":\"y\",\"type\":\"histogram\"},{\"name\":\"Karachi Kings\",\"opacity\":0.75,\"x\":[29.1,21.5,20.2,22.333333333333332,17.77777777777778,11.9,10.375,6.0,9.5,4.0,10.0,2.5,0.0],\"xaxis\":\"x3\",\"yaxis\":\"y3\",\"type\":\"histogram\"},{\"name\":\"Islamabad United\",\"opacity\":0.75,\"x\":[30.444444444444443,19.0,19.75,15.444444444444445,26.6,33.5,11.0,11.5,15.333333333333334,15.0,8.333333333333334,0.5,1.0,1.0,1.0,0.0,0.0],\"xaxis\":\"x4\",\"yaxis\":\"y4\",\"type\":\"histogram\"},{\"name\":\"Quetta Gladiators\",\"opacity\":0.75,\"x\":[31.875,34.42857142857143,26.444444444444443,20.333333333333332,24.5,11.4,13.333333333333334,12.333333333333334,6.5,24.0,5.0,6.0,12.0,6.0,3.0,2.0,0.5,1.0,0.5],\"xaxis\":\"x5\",\"yaxis\":\"y5\",\"type\":\"histogram\"},{\"name\":\"Lahore Qalandars\",\"opacity\":0.75,\"x\":[22.125,34.6,20.5,18.571428571428573,16.571428571428573,13.285714285714286,20.5,10.571428571428571,11.333333333333334,12.5,11.5,1.0,1.0,1.0],\"xaxis\":\"x6\",\"yaxis\":\"y6\",\"type\":\"histogram\"}],                        {\"template\":{\"data\":{\"barpolar\":[{\"marker\":{\"line\":{\"color\":\"#E5ECF6\",\"width\":0.5},\"pattern\":{\"fillmode\":\"overlay\",\"size\":10,\"solidity\":0.2}},\"type\":\"barpolar\"}],\"bar\":[{\"error_x\":{\"color\":\"#2a3f5f\"},\"error_y\":{\"color\":\"#2a3f5f\"},\"marker\":{\"line\":{\"color\":\"#E5ECF6\",\"width\":0.5},\"pattern\":{\"fillmode\":\"overlay\",\"size\":10,\"solidity\":0.2}},\"type\":\"bar\"}],\"carpet\":[{\"aaxis\":{\"endlinecolor\":\"#2a3f5f\",\"gridcolor\":\"white\",\"linecolor\":\"white\",\"minorgridcolor\":\"white\",\"startlinecolor\":\"#2a3f5f\"},\"baxis\":{\"endlinecolor\":\"#2a3f5f\",\"gridcolor\":\"white\",\"linecolor\":\"white\",\"minorgridcolor\":\"white\",\"startlinecolor\":\"#2a3f5f\"},\"type\":\"carpet\"}],\"choropleth\":[{\"colorbar\":{\"outlinewidth\":0,\"ticks\":\"\"},\"type\":\"choropleth\"}],\"contourcarpet\":[{\"colorbar\":{\"outlinewidth\":0,\"ticks\":\"\"},\"type\":\"contourcarpet\"}],\"contour\":[{\"colorbar\":{\"outlinewidth\":0,\"ticks\":\"\"},\"colorscale\":[[0.0,\"#0d0887\"],[0.1111111111111111,\"#46039f\"],[0.2222222222222222,\"#7201a8\"],[0.3333333333333333,\"#9c179e\"],[0.4444444444444444,\"#bd3786\"],[0.5555555555555556,\"#d8576b\"],[0.6666666666666666,\"#ed7953\"],[0.7777777777777778,\"#fb9f3a\"],[0.8888888888888888,\"#fdca26\"],[1.0,\"#f0f921\"]],\"type\":\"contour\"}],\"heatmapgl\":[{\"colorbar\":{\"outlinewidth\":0,\"ticks\":\"\"},\"colorscale\":[[0.0,\"#0d0887\"],[0.1111111111111111,\"#46039f\"],[0.2222222222222222,\"#7201a8\"],[0.3333333333333333,\"#9c179e\"],[0.4444444444444444,\"#bd3786\"],[0.5555555555555556,\"#d8576b\"],[0.6666666666666666,\"#ed7953\"],[0.7777777777777778,\"#fb9f3a\"],[0.8888888888888888,\"#fdca26\"],[1.0,\"#f0f921\"]],\"type\":\"heatmapgl\"}],\"heatmap\":[{\"colorbar\":{\"outlinewidth\":0,\"ticks\":\"\"},\"colorscale\":[[0.0,\"#0d0887\"],[0.1111111111111111,\"#46039f\"],[0.2222222222222222,\"#7201a8\"],[0.3333333333333333,\"#9c179e\"],[0.4444444444444444,\"#bd3786\"],[0.5555555555555556,\"#d8576b\"],[0.6666666666666666,\"#ed7953\"],[0.7777777777777778,\"#fb9f3a\"],[0.8888888888888888,\"#fdca26\"],[1.0,\"#f0f921\"]],\"type\":\"heatmap\"}],\"histogram2dcontour\":[{\"colorbar\":{\"outlinewidth\":0,\"ticks\":\"\"},\"colorscale\":[[0.0,\"#0d0887\"],[0.1111111111111111,\"#46039f\"],[0.2222222222222222,\"#7201a8\"],[0.3333333333333333,\"#9c179e\"],[0.4444444444444444,\"#bd3786\"],[0.5555555555555556,\"#d8576b\"],[0.6666666666666666,\"#ed7953\"],[0.7777777777777778,\"#fb9f3a\"],[0.8888888888888888,\"#fdca26\"],[1.0,\"#f0f921\"]],\"type\":\"histogram2dcontour\"}],\"histogram2d\":[{\"colorbar\":{\"outlinewidth\":0,\"ticks\":\"\"},\"colorscale\":[[0.0,\"#0d0887\"],[0.1111111111111111,\"#46039f\"],[0.2222222222222222,\"#7201a8\"],[0.3333333333333333,\"#9c179e\"],[0.4444444444444444,\"#bd3786\"],[0.5555555555555556,\"#d8576b\"],[0.6666666666666666,\"#ed7953\"],[0.7777777777777778,\"#fb9f3a\"],[0.8888888888888888,\"#fdca26\"],[1.0,\"#f0f921\"]],\"type\":\"histogram2d\"}],\"histogram\":[{\"marker\":{\"pattern\":{\"fillmode\":\"overlay\",\"size\":10,\"solidity\":0.2}},\"type\":\"histogram\"}],\"mesh3d\":[{\"colorbar\":{\"outlinewidth\":0,\"ticks\":\"\"},\"type\":\"mesh3d\"}],\"parcoords\":[{\"line\":{\"colorbar\":{\"outlinewidth\":0,\"ticks\":\"\"}},\"type\":\"parcoords\"}],\"pie\":[{\"automargin\":true,\"type\":\"pie\"}],\"scatter3d\":[{\"line\":{\"colorbar\":{\"outlinewidth\":0,\"ticks\":\"\"}},\"marker\":{\"colorbar\":{\"outlinewidth\":0,\"ticks\":\"\"}},\"type\":\"scatter3d\"}],\"scattercarpet\":[{\"marker\":{\"colorbar\":{\"outlinewidth\":0,\"ticks\":\"\"}},\"type\":\"scattercarpet\"}],\"scattergeo\":[{\"marker\":{\"colorbar\":{\"outlinewidth\":0,\"ticks\":\"\"}},\"type\":\"scattergeo\"}],\"scattergl\":[{\"marker\":{\"colorbar\":{\"outlinewidth\":0,\"ticks\":\"\"}},\"type\":\"scattergl\"}],\"scattermapbox\":[{\"marker\":{\"colorbar\":{\"outlinewidth\":0,\"ticks\":\"\"}},\"type\":\"scattermapbox\"}],\"scatterpolargl\":[{\"marker\":{\"colorbar\":{\"outlinewidth\":0,\"ticks\":\"\"}},\"type\":\"scatterpolargl\"}],\"scatterpolar\":[{\"marker\":{\"colorbar\":{\"outlinewidth\":0,\"ticks\":\"\"}},\"type\":\"scatterpolar\"}],\"scatter\":[{\"fillpattern\":{\"fillmode\":\"overlay\",\"size\":10,\"solidity\":0.2},\"type\":\"scatter\"}],\"scatterternary\":[{\"marker\":{\"colorbar\":{\"outlinewidth\":0,\"ticks\":\"\"}},\"type\":\"scatterternary\"}],\"surface\":[{\"colorbar\":{\"outlinewidth\":0,\"ticks\":\"\"},\"colorscale\":[[0.0,\"#0d0887\"],[0.1111111111111111,\"#46039f\"],[0.2222222222222222,\"#7201a8\"],[0.3333333333333333,\"#9c179e\"],[0.4444444444444444,\"#bd3786\"],[0.5555555555555556,\"#d8576b\"],[0.6666666666666666,\"#ed7953\"],[0.7777777777777778,\"#fb9f3a\"],[0.8888888888888888,\"#fdca26\"],[1.0,\"#f0f921\"]],\"type\":\"surface\"}],\"table\":[{\"cells\":{\"fill\":{\"color\":\"#EBF0F8\"},\"line\":{\"color\":\"white\"}},\"header\":{\"fill\":{\"color\":\"#C8D4E3\"},\"line\":{\"color\":\"white\"}},\"type\":\"table\"}]},\"layout\":{\"annotationdefaults\":{\"arrowcolor\":\"#2a3f5f\",\"arrowhead\":0,\"arrowwidth\":1},\"autotypenumbers\":\"strict\",\"coloraxis\":{\"colorbar\":{\"outlinewidth\":0,\"ticks\":\"\"}},\"colorscale\":{\"diverging\":[[0,\"#8e0152\"],[0.1,\"#c51b7d\"],[0.2,\"#de77ae\"],[0.3,\"#f1b6da\"],[0.4,\"#fde0ef\"],[0.5,\"#f7f7f7\"],[0.6,\"#e6f5d0\"],[0.7,\"#b8e186\"],[0.8,\"#7fbc41\"],[0.9,\"#4d9221\"],[1,\"#276419\"]],\"sequential\":[[0.0,\"#0d0887\"],[0.1111111111111111,\"#46039f\"],[0.2222222222222222,\"#7201a8\"],[0.3333333333333333,\"#9c179e\"],[0.4444444444444444,\"#bd3786\"],[0.5555555555555556,\"#d8576b\"],[0.6666666666666666,\"#ed7953\"],[0.7777777777777778,\"#fb9f3a\"],[0.8888888888888888,\"#fdca26\"],[1.0,\"#f0f921\"]],\"sequentialminus\":[[0.0,\"#0d0887\"],[0.1111111111111111,\"#46039f\"],[0.2222222222222222,\"#7201a8\"],[0.3333333333333333,\"#9c179e\"],[0.4444444444444444,\"#bd3786\"],[0.5555555555555556,\"#d8576b\"],[0.6666666666666666,\"#ed7953\"],[0.7777777777777778,\"#fb9f3a\"],[0.8888888888888888,\"#fdca26\"],[1.0,\"#f0f921\"]]},\"colorway\":[\"#636efa\",\"#EF553B\",\"#00cc96\",\"#ab63fa\",\"#FFA15A\",\"#19d3f3\",\"#FF6692\",\"#B6E880\",\"#FF97FF\",\"#FECB52\"],\"font\":{\"color\":\"#2a3f5f\"},\"geo\":{\"bgcolor\":\"white\",\"lakecolor\":\"white\",\"landcolor\":\"#E5ECF6\",\"showlakes\":true,\"showland\":true,\"subunitcolor\":\"white\"},\"hoverlabel\":{\"align\":\"left\"},\"hovermode\":\"closest\",\"mapbox\":{\"style\":\"light\"},\"paper_bgcolor\":\"white\",\"plot_bgcolor\":\"#E5ECF6\",\"polar\":{\"angularaxis\":{\"gridcolor\":\"white\",\"linecolor\":\"white\",\"ticks\":\"\"},\"bgcolor\":\"#E5ECF6\",\"radialaxis\":{\"gridcolor\":\"white\",\"linecolor\":\"white\",\"ticks\":\"\"}},\"scene\":{\"xaxis\":{\"backgroundcolor\":\"#E5ECF6\",\"gridcolor\":\"white\",\"gridwidth\":2,\"linecolor\":\"white\",\"showbackground\":true,\"ticks\":\"\",\"zerolinecolor\":\"white\"},\"yaxis\":{\"backgroundcolor\":\"#E5ECF6\",\"gridcolor\":\"white\",\"gridwidth\":2,\"linecolor\":\"white\",\"showbackground\":true,\"ticks\":\"\",\"zerolinecolor\":\"white\"},\"zaxis\":{\"backgroundcolor\":\"#E5ECF6\",\"gridcolor\":\"white\",\"gridwidth\":2,\"linecolor\":\"white\",\"showbackground\":true,\"ticks\":\"\",\"zerolinecolor\":\"white\"}},\"shapedefaults\":{\"line\":{\"color\":\"#2a3f5f\"}},\"ternary\":{\"aaxis\":{\"gridcolor\":\"white\",\"linecolor\":\"white\",\"ticks\":\"\"},\"baxis\":{\"gridcolor\":\"white\",\"linecolor\":\"white\",\"ticks\":\"\"},\"bgcolor\":\"#E5ECF6\",\"caxis\":{\"gridcolor\":\"white\",\"linecolor\":\"white\",\"ticks\":\"\"}},\"title\":{\"x\":0.05},\"xaxis\":{\"automargin\":true,\"gridcolor\":\"white\",\"linecolor\":\"white\",\"ticks\":\"\",\"title\":{\"standoff\":15},\"zerolinecolor\":\"white\",\"zerolinewidth\":2},\"yaxis\":{\"automargin\":true,\"gridcolor\":\"white\",\"linecolor\":\"white\",\"ticks\":\"\",\"title\":{\"standoff\":15},\"zerolinecolor\":\"white\",\"zerolinewidth\":2}}},\"title\":{\"text\":\"Distribution of average batsman scores\"},\"xaxis\":{\"dtick\":10,\"tickmode\":\"linear\"},\"yaxis\":{\"anchor\":\"x\",\"domain\":[0.7333333333333333,1.0]},\"xaxis2\":{\"anchor\":\"y2\",\"domain\":[0.55,1.0]},\"yaxis2\":{\"anchor\":\"x2\",\"domain\":[0.7333333333333333,1.0]},\"xaxis3\":{\"anchor\":\"y3\",\"domain\":[0.0,0.45]},\"yaxis3\":{\"anchor\":\"x3\",\"domain\":[0.36666666666666664,0.6333333333333333]},\"xaxis4\":{\"anchor\":\"y4\",\"domain\":[0.55,1.0]},\"yaxis4\":{\"anchor\":\"x4\",\"domain\":[0.36666666666666664,0.6333333333333333]},\"xaxis5\":{\"anchor\":\"y5\",\"domain\":[0.0,0.45]},\"yaxis5\":{\"anchor\":\"x5\",\"domain\":[0.0,0.26666666666666666]},\"xaxis6\":{\"anchor\":\"y6\",\"domain\":[0.55,1.0]},\"yaxis6\":{\"anchor\":\"x6\",\"domain\":[0.0,0.26666666666666666]}},                        {\"responsive\": true}                    )                };                            </script>        </div>'"
            ]
          },
          "metadata": {},
          "execution_count": 22
        }
      ],
      "source": [
        "import plotly.graph_objects as go\n",
        "from plotly.subplots import make_subplots\n",
        "\n",
        "##Batsman Histogram\n",
        "\n",
        "\n",
        "team_list = list(df_batAvg['Batting_team'].unique())\n",
        "\n",
        "trace0 = go.Histogram(x= df_batAvg.loc[df_batAvg['Batting_team'] == team_list[0], 'AvgRuns_match'], opacity = 0.75, name = team_list[0])\n",
        "trace1 = go.Histogram(x= df_batAvg.loc[df_batAvg['Batting_team'] == team_list[1], 'AvgRuns_match'], opacity = 0.75, name = team_list[1])\n",
        "trace2 = go.Histogram(x= df_batAvg.loc[df_batAvg['Batting_team'] == team_list[2], 'AvgRuns_match'], opacity = 0.75, name = team_list[2])\n",
        "trace3 = go.Histogram(x= df_batAvg.loc[df_batAvg['Batting_team'] == team_list[3], 'AvgRuns_match'], opacity = 0.75, name = team_list[3])\n",
        "trace4 = go.Histogram(x= df_batAvg.loc[df_batAvg['Batting_team'] == team_list[4], 'AvgRuns_match'], opacity = 0.75, name = team_list[4])\n",
        "\n",
        "fig4 = make_subplots(rows =3, cols = 2)\n",
        "fig4.append_trace(trace0,1,1)\n",
        "fig4.append_trace(trace1,2,1)\n",
        "fig4.append_trace(trace2,2,2)\n",
        "fig4.append_trace(trace3,3,1)\n",
        "fig4.append_trace(trace4,3,2)\n",
        "\n",
        "fig4.layout.title = dict(text = 'Distribution of average batsman scores')\n",
        "fig4.layout.xaxis = dict(tickmode = 'linear', dtick = 10)\n",
        "\n",
        "\n",
        "plotly.offline.plot(fig4, include_plotlyjs = False, output_type = 'div')"
      ]
    },
    {
      "cell_type": "code",
      "execution_count": 110,
      "metadata": {},
      "outputs": [
        {
          "output_type": "stream",
          "name": "stdout",
          "text": [
            "df bowler\n                Bowler  Batsman_runs  Extra_runs  wicket  Six  Four  Caught  \\\n0          Aamer Yamin            82           4       5    3     6       2   \n1            Anwar Ali           272          10       6   15    21       5   \n3       Bilawal Bhatti            93          13       1    2     9       1   \n4            CJ Jordan           124          12       7    2    11       7   \n5            DJG Sammy            96           9       2    4    10       2   \n6           GD Elliott           112           3       5    5     9       2   \n7            Hasan Ali           253           5      13    6    26       5   \n8           Hasan Khan           213          19       9    9    14       3   \n10          Imad Wasim           189           5       8    9    13       1   \n11         Junaid Khan            96           5       3    7     9       2   \n13         Mahmudullah           111           1       7    4    11       5   \n14       Mohammad Amir           261          22      11    6    28       8   \n15     Mohammad Asghar           144           5       8    7    13       4   \n16     Mohammad Hafeez            97           2       6    4     8       3   \n17      Mohammad Irfan           206          20       8    4    25       5   \n18  Mohammad Irfan (4)           180           8       7    8    17       3   \n19  Mohammad Nawaz (3)           261           6      13   17    18       4   \n21       Mohammad Sami           204          19      13    5    24       7   \n22         NLTC Perera           155           2       6    8    10       4   \n24           RS Bopara            89           2       0    3     7       0   \n25        Rumman Raees           158           6      13    6    11       9   \n26           SP Narine           197          11      11    6    14       4   \n27           SR Watson           201           9      12    8    17       8   \n28         Saeed Ajmal           115           1       3    9     6       2   \n29         Shadab Khan           164          16       9    5    12       3   \n30       Shahid Afridi           187           9       2   10    10       0   \n31     Shakib Al Hasan            75           4       5    3     5       3   \n32        Shoaib Malik            74           8       3    1     7       3   \n33         Sohail Khan           233          12      16   10    24      12   \n34       Sohail Tanvir           244          16      14   11    18       8   \n35            TS Mills           130          17       9    2    17       4   \n36           Usama Mir           225           5      12   14    13      11   \n37          Usman Khan           188          11       9    4    16       5   \n38          Wahab Riaz           193          17      16    4    22       7   \n39          Yasir Shah           166           9      10    5     9       4   \n40      Zulfiqar Babar           198          14       8    6    17       5   \n\n    Bowled  Runout  Caught_bowled  TotalDeliveries  AvgBatsman_runs  \\\n0        0       0              1               74        27.333333   \n1        0       0              0              188        30.222222   \n3        0       0              0               98        18.600000   \n4        0       0              0              120        20.666667   \n5        0       0              0               63        16.000000   \n6        0       0              0               74        16.000000   \n7        0       0              2              221        25.300000   \n8        0       0              1              203        21.300000   \n10       0       0              1              176        18.900000   \n11       0       0              0               53        48.000000   \n13       0       0              0               86        22.200000   \n14       0       0              0              225        26.100000   \n15       0       0              0              103        20.571429   \n16       0       0              0               90        16.166667   \n17       0       0              0              183        25.750000   \n18       0       0              0              125        25.714286   \n19       0       0              0              201        26.100000   \n21       0       0              2              194        22.666667   \n22       0       0              1              103        25.833333   \n24       0       0              0               55        29.666667   \n25       0       0              0              161        22.571429   \n26       0       0              0              198        24.625000   \n27       0       0              0              146        22.333333   \n28       0       0              0               71        28.750000   \n29       0       0              0              159        20.500000   \n30       0       0              0              170        20.777778   \n31       0       0              0               74        18.750000   \n32       0       0              0               69        14.800000   \n33       0       0              0              196        25.888889   \n34       0       0              0              186        30.500000   \n35       0       0              2              135        26.000000   \n36       0       0              0              170        28.125000   \n37       0       0              0              162        23.500000   \n38       0       0              1              208        21.444444   \n39       0       0              0              171        20.750000   \n40       0       0              0              196        24.750000   \n\n    AvgExtra_runs  AvgWicket    AvgSix   AvgFour  AvgDeliveries_bowled  \\\n0        1.333333   1.666667  1.000000  2.000000             24.666667   \n1        1.111111   0.666667  1.666667  2.333333             20.888889   \n3        2.600000   0.200000  0.400000  1.800000             19.600000   \n4        2.000000   1.166667  0.333333  1.833333             20.000000   \n5        1.500000   0.333333  0.666667  1.666667             10.500000   \n6        0.428571   0.714286  0.714286  1.285714             10.571429   \n7        0.500000   1.300000  0.600000  2.600000             22.100000   \n8        1.900000   0.900000  0.900000  1.400000             20.300000   \n10       0.500000   0.800000  0.900000  1.300000             17.600000   \n11       2.500000   1.500000  3.500000  4.500000             26.500000   \n13       0.200000   1.400000  0.800000  2.200000             17.200000   \n14       2.200000   1.100000  0.600000  2.800000             22.500000   \n15       0.714286   1.142857  1.000000  1.857143             14.714286   \n16       0.333333   1.000000  0.666667  1.333333             15.000000   \n17       2.500000   1.000000  0.500000  3.125000             22.875000   \n18       1.142857   1.000000  1.142857  2.428571             17.857143   \n19       0.600000   1.300000  1.700000  1.800000             20.100000   \n21       2.111111   1.444444  0.555556  2.666667             21.555556   \n22       0.333333   1.000000  1.333333  1.666667             17.166667   \n24       0.666667   0.000000  1.000000  2.333333             18.333333   \n25       0.857143   1.857143  0.857143  1.571429             23.000000   \n26       1.375000   1.375000  0.750000  1.750000             24.750000   \n27       1.000000   1.333333  0.888889  1.888889             16.222222   \n28       0.250000   0.750000  2.250000  1.500000             17.750000   \n29       2.000000   1.125000  0.625000  1.500000             19.875000   \n30       1.000000   0.222222  1.111111  1.111111             18.888889   \n31       1.000000   1.250000  0.750000  1.250000             18.500000   \n32       1.600000   0.600000  0.200000  1.400000             13.800000   \n33       1.333333   1.777778  1.111111  2.666667             21.777778   \n34       2.000000   1.750000  1.375000  2.250000             23.250000   \n35       3.400000   1.800000  0.400000  3.400000             27.000000   \n36       0.625000   1.500000  1.750000  1.625000             21.250000   \n37       1.375000   1.125000  0.500000  2.000000             20.250000   \n38       1.888889   1.777778  0.444444  2.444444             23.111111   \n39       1.125000   1.250000  0.625000  1.125000             21.375000   \n40       1.750000   1.000000  0.750000  2.125000             24.500000   \n\n      Economy       Bowling_team  \n0    7.166667   Lahore Qalandars  \n1    9.400000  Quetta Gladiators  \n3    6.625000   Lahore Qalandars  \n4    6.800000     Peshawar Zalmi  \n5   10.500000     Peshawar Zalmi  \n6    9.583333   Lahore Qalandars  \n7    6.972973     Peshawar Zalmi  \n8    7.030303  Quetta Gladiators  \n10   6.689655      Karachi Kings  \n11  12.625000     Peshawar Zalmi  \n13   7.466667  Quetta Gladiators  \n14   7.648649      Karachi Kings  \n15   8.764706     Peshawar Zalmi  \n16   6.600000     Peshawar Zalmi  \n17   7.533333   Islamabad United  \n18   9.400000   Lahore Qalandars  \n19   8.090909  Quetta Gladiators  \n21   6.757576   Islamabad United  \n22   8.722222  Quetta Gladiators  \n24  10.111111      Karachi Kings  \n25   5.857143   Islamabad United  \n26   6.500000   Lahore Qalandars  \n27   9.130435   Islamabad United  \n28   9.666667   Islamabad United  \n29   6.923077   Islamabad United  \n30   7.000000     Peshawar Zalmi  \n31   6.583333     Peshawar Zalmi  \n32   7.454545      Karachi Kings  \n33   7.656250      Karachi Kings  \n34   8.666667   Lahore Qalandars  \n35   7.350000  Quetta Gladiators  \n36   8.214286      Karachi Kings  \n37   7.653846      Karachi Kings  \n38   6.363636     Peshawar Zalmi  \n39   6.250000   Lahore Qalandars  \n40   6.625000  Quetta Gladiators  \n"
          ]
        }
      ],
      "source": [
        "#Bowling\n",
        "## Defining bowler metrics\n",
        "def caught(x):\n",
        "    if x == 'caught':\n",
        "        return 1\n",
        "    else:\n",
        "        return 0\n",
        "def bowled(x):\n",
        "    if x == bowled:\n",
        "        return 1\n",
        "    else:\n",
        "        return 0\n",
        "def runout(x):\n",
        "    if x == 'runout':\n",
        "        return 1\n",
        "    else:\n",
        "        return 0\n",
        "def lbw(x):\n",
        "    if x == 'lbw':\n",
        "        return 1\n",
        "    else:\n",
        "        return 0\n",
        "def stump(x):\n",
        "    if x == 'stump':\n",
        "        return 1\n",
        "    else:\n",
        "        return 0\n",
        "def candb(x):\n",
        "    if x == 'caught and bowled':\n",
        "        return 1\n",
        "    else:\n",
        "        return 0\n",
        "\n",
        "\n",
        "df['Caught'] = df['Dismisal_kind'].apply(lambda x: caught(x))\n",
        "df['Bowled'] = df['Dismisal_kind'].apply(lambda x: bowled(x))\n",
        "df['Lbw'] = df['Dismisal_kind'].apply(lambda x: lbw(x))\n",
        "df['Runout'] = df['Dismisal_kind'].apply(lambda x: runout(x))\n",
        "df['Stump'] = df['Dismisal_kind'].apply(lambda x: stump(x))\n",
        "df['Caught_bowled'] = df['Dismisal_kind'].apply(lambda x: candb(x))\n",
        "\n",
        "\n",
        "## Creating a bowler dataframe\n",
        "#By each match\n",
        "df_bowl_match = pd.merge(\n",
        "    df.groupby(['Bowler', 'Match_id']).sum().reset_index().filter(regex = \"[Innings,Over,Ball]\"), \n",
        "    df.groupby(['Bowler', 'Match_id']).count().reset_index()[['Bowler','Match_id', 'Ball']].rename(columns =        {'Ball': 'TotalDeliveries'}\n",
        "    ), on = ['Bowler', 'Match_id'])\n",
        "\n",
        "#Avg deliveries bye ach match\n",
        "df_bowl_matchAvg = pd.merge(\n",
        "    df.groupby(['Bowler', 'Match_id']).sum().reset_index().filter(regex = \"[^Match_id,Innings,Over,Ball]\") ,       df.groupby(['Bowler', 'Match_id']).count().reset_index()[['Bowler', 'Ball']].rename(columns = {'Ball': 'Delieveries_bowled'}), on = 'Bowler').groupby('Bowler').mean().reset_index()\n",
        "\n",
        "#Avg tot runs by each match\n",
        "df_bowl_Avg_Tot = pd.merge(\n",
        "    df_bowl_match.groupby('Bowler').sum().reset_index().filter(regex = '[^Match_id,Innings,Over,Ball]'),           df_bowlAvg.filter(regex = \"[^Caught,Bowled,Stump,Caught_bowled, Lbw, Runout]\").rename(columns =      {'Delieveries_bowled':'AvgDeliveries_bowled','Batsman_runs': 'AvgBatsman_runs', 'Extra_runs': 'AvgExtra_runs' , 'Six': 'AvgSix', 'Four': 'AvgFour', 'wicket' : 'AvgWicket'}),\n",
        " on = 'Bowler')\n",
        "\n",
        "#Bowler Economy\n",
        "dfecon = df.groupby(['Bowler','Match_id', 'Over']).sum().reset_index().groupby('Bowler').mean().reset_index()[['Bowler','Batsman_runs', 'Extra_runs']]\n",
        "dfecon['Economy'] = dfecon['Batsman_runs'] + dfecon['Extra_runs']\n",
        "\n",
        "#Bowler final dataframe\n",
        "df_bowler_summ = pd.merge(df_bowl_Avg_Tot.loc[df_bowl_Avg_Tot['TotalDeliveries'] > 50], dfecon[['Bowler','Economy']], on = 'Bowler')\n",
        "\n",
        "\n",
        "## Bowler variance\n",
        "df_bowler['Runs_sq'] = 0\n",
        "df_bowler['Matches_played'] = 0\n",
        "for i in range(len(df_bowler)):\n",
        "    for j in range(len(df_bowl)):\n",
        "        if df_bowler.iloc[i]['Bowler'] == df_bowl.iloc[j]['Bowler']:\n",
        "            df_bowler['Runs_sq'].iloc[i] += (df_bowl.iloc[j]['Batsman_runs'] +  df_bowl.iloc[j]['Extra_runs'])**2\n",
        "            df_bowler['Matches_played'].iloc[i] += 1\n",
        "\n",
        "\n",
        "df_bowler['Var'] = (df_bowler['Runs_sq'] - (df_bowler['Matches_played']*((df_bowler['AvgBatsman_runs']+df_bowler['AvgExtra_runs'])**2)))/(df_bowler['Matches_played'] -1)\n",
        "\n",
        " \n",
        "\n",
        "df_bowler = pd.merge(df_bowler_summ, df[['Bowler', 'Bowling_team']].drop_duplicates(keep = 'first'), on = 'Bowler')\n",
        "df_bowler.dropna(inplace=True)\n",
        "print('df bowler')\n",
        "print(df_bowler)"
      ]
    },
    {
      "cell_type": "code",
      "execution_count": 112,
      "metadata": {},
      "outputs": [
        {
          "output_type": "display_data",
          "data": {
            "application/vnd.plotly.v1+json": {
              "data": [
                {
                  "name": "Peshawar Zalmi",
                  "opacity": 0.75,
                  "x": [
                    6.8,
                    10.5,
                    6.972972972972973,
                    12.625,
                    8.764705882352942,
                    6.6000000000000005,
                    7,
                    6.583333333333333,
                    6.363636363636363
                  ],
                  "type": "histogram",
                  "xaxis": "x",
                  "yaxis": "y"
                },
                {
                  "name": "Karachi Kings",
                  "opacity": 0.75,
                  "x": [
                    6.689655172413794,
                    7.648648648648649,
                    10.11111111111111,
                    7.454545454545455,
                    7.65625,
                    8.214285714285715,
                    7.653846153846154
                  ],
                  "type": "histogram",
                  "xaxis": "x2",
                  "yaxis": "y2"
                },
                {
                  "name": "Islamabad United",
                  "opacity": 0.75,
                  "x": [
                    7.533333333333333,
                    6.757575757575758,
                    5.857142857142858,
                    9.130434782608697,
                    9.666666666666668,
                    6.923076923076923
                  ],
                  "type": "histogram",
                  "xaxis": "x3",
                  "yaxis": "y3"
                },
                {
                  "name": "Quetta Gladiators",
                  "opacity": 0.75,
                  "x": [
                    9.4,
                    7.03030303030303,
                    7.466666666666667,
                    8.090909090909092,
                    8.722222222222221,
                    7.35,
                    6.625
                  ],
                  "type": "histogram",
                  "xaxis": "x4",
                  "yaxis": "y4"
                },
                {
                  "name": "Lahore Qalandars",
                  "opacity": 0.75,
                  "x": [
                    7.166666666666666,
                    6.625,
                    9.583333333333334,
                    9.4,
                    6.5,
                    8.666666666666666,
                    6.25
                  ],
                  "type": "histogram",
                  "xaxis": "x5",
                  "yaxis": "y5"
                }
              ],
              "layout": {
                "template": {
                  "data": {
                    "histogram2dcontour": [
                      {
                        "type": "histogram2dcontour",
                        "colorbar": {
                          "outlinewidth": 0,
                          "ticks": ""
                        },
                        "colorscale": [
                          [
                            0,
                            "#0d0887"
                          ],
                          [
                            0.1111111111111111,
                            "#46039f"
                          ],
                          [
                            0.2222222222222222,
                            "#7201a8"
                          ],
                          [
                            0.3333333333333333,
                            "#9c179e"
                          ],
                          [
                            0.4444444444444444,
                            "#bd3786"
                          ],
                          [
                            0.5555555555555556,
                            "#d8576b"
                          ],
                          [
                            0.6666666666666666,
                            "#ed7953"
                          ],
                          [
                            0.7777777777777778,
                            "#fb9f3a"
                          ],
                          [
                            0.8888888888888888,
                            "#fdca26"
                          ],
                          [
                            1,
                            "#f0f921"
                          ]
                        ]
                      }
                    ],
                    "choropleth": [
                      {
                        "type": "choropleth",
                        "colorbar": {
                          "outlinewidth": 0,
                          "ticks": ""
                        }
                      }
                    ],
                    "histogram2d": [
                      {
                        "type": "histogram2d",
                        "colorbar": {
                          "outlinewidth": 0,
                          "ticks": ""
                        },
                        "colorscale": [
                          [
                            0,
                            "#0d0887"
                          ],
                          [
                            0.1111111111111111,
                            "#46039f"
                          ],
                          [
                            0.2222222222222222,
                            "#7201a8"
                          ],
                          [
                            0.3333333333333333,
                            "#9c179e"
                          ],
                          [
                            0.4444444444444444,
                            "#bd3786"
                          ],
                          [
                            0.5555555555555556,
                            "#d8576b"
                          ],
                          [
                            0.6666666666666666,
                            "#ed7953"
                          ],
                          [
                            0.7777777777777778,
                            "#fb9f3a"
                          ],
                          [
                            0.8888888888888888,
                            "#fdca26"
                          ],
                          [
                            1,
                            "#f0f921"
                          ]
                        ]
                      }
                    ],
                    "heatmap": [
                      {
                        "type": "heatmap",
                        "colorbar": {
                          "outlinewidth": 0,
                          "ticks": ""
                        },
                        "colorscale": [
                          [
                            0,
                            "#0d0887"
                          ],
                          [
                            0.1111111111111111,
                            "#46039f"
                          ],
                          [
                            0.2222222222222222,
                            "#7201a8"
                          ],
                          [
                            0.3333333333333333,
                            "#9c179e"
                          ],
                          [
                            0.4444444444444444,
                            "#bd3786"
                          ],
                          [
                            0.5555555555555556,
                            "#d8576b"
                          ],
                          [
                            0.6666666666666666,
                            "#ed7953"
                          ],
                          [
                            0.7777777777777778,
                            "#fb9f3a"
                          ],
                          [
                            0.8888888888888888,
                            "#fdca26"
                          ],
                          [
                            1,
                            "#f0f921"
                          ]
                        ]
                      }
                    ],
                    "heatmapgl": [
                      {
                        "type": "heatmapgl",
                        "colorbar": {
                          "outlinewidth": 0,
                          "ticks": ""
                        },
                        "colorscale": [
                          [
                            0,
                            "#0d0887"
                          ],
                          [
                            0.1111111111111111,
                            "#46039f"
                          ],
                          [
                            0.2222222222222222,
                            "#7201a8"
                          ],
                          [
                            0.3333333333333333,
                            "#9c179e"
                          ],
                          [
                            0.4444444444444444,
                            "#bd3786"
                          ],
                          [
                            0.5555555555555556,
                            "#d8576b"
                          ],
                          [
                            0.6666666666666666,
                            "#ed7953"
                          ],
                          [
                            0.7777777777777778,
                            "#fb9f3a"
                          ],
                          [
                            0.8888888888888888,
                            "#fdca26"
                          ],
                          [
                            1,
                            "#f0f921"
                          ]
                        ]
                      }
                    ],
                    "contourcarpet": [
                      {
                        "type": "contourcarpet",
                        "colorbar": {
                          "outlinewidth": 0,
                          "ticks": ""
                        }
                      }
                    ],
                    "contour": [
                      {
                        "type": "contour",
                        "colorbar": {
                          "outlinewidth": 0,
                          "ticks": ""
                        },
                        "colorscale": [
                          [
                            0,
                            "#0d0887"
                          ],
                          [
                            0.1111111111111111,
                            "#46039f"
                          ],
                          [
                            0.2222222222222222,
                            "#7201a8"
                          ],
                          [
                            0.3333333333333333,
                            "#9c179e"
                          ],
                          [
                            0.4444444444444444,
                            "#bd3786"
                          ],
                          [
                            0.5555555555555556,
                            "#d8576b"
                          ],
                          [
                            0.6666666666666666,
                            "#ed7953"
                          ],
                          [
                            0.7777777777777778,
                            "#fb9f3a"
                          ],
                          [
                            0.8888888888888888,
                            "#fdca26"
                          ],
                          [
                            1,
                            "#f0f921"
                          ]
                        ]
                      }
                    ],
                    "surface": [
                      {
                        "type": "surface",
                        "colorbar": {
                          "outlinewidth": 0,
                          "ticks": ""
                        },
                        "colorscale": [
                          [
                            0,
                            "#0d0887"
                          ],
                          [
                            0.1111111111111111,
                            "#46039f"
                          ],
                          [
                            0.2222222222222222,
                            "#7201a8"
                          ],
                          [
                            0.3333333333333333,
                            "#9c179e"
                          ],
                          [
                            0.4444444444444444,
                            "#bd3786"
                          ],
                          [
                            0.5555555555555556,
                            "#d8576b"
                          ],
                          [
                            0.6666666666666666,
                            "#ed7953"
                          ],
                          [
                            0.7777777777777778,
                            "#fb9f3a"
                          ],
                          [
                            0.8888888888888888,
                            "#fdca26"
                          ],
                          [
                            1,
                            "#f0f921"
                          ]
                        ]
                      }
                    ],
                    "mesh3d": [
                      {
                        "type": "mesh3d",
                        "colorbar": {
                          "outlinewidth": 0,
                          "ticks": ""
                        }
                      }
                    ],
                    "scatter": [
                      {
                        "fillpattern": {
                          "fillmode": "overlay",
                          "size": 10,
                          "solidity": 0.2
                        },
                        "type": "scatter"
                      }
                    ],
                    "parcoords": [
                      {
                        "type": "parcoords",
                        "line": {
                          "colorbar": {
                            "outlinewidth": 0,
                            "ticks": ""
                          }
                        }
                      }
                    ],
                    "scatterpolargl": [
                      {
                        "type": "scatterpolargl",
                        "marker": {
                          "colorbar": {
                            "outlinewidth": 0,
                            "ticks": ""
                          }
                        }
                      }
                    ],
                    "bar": [
                      {
                        "error_x": {
                          "color": "#2a3f5f"
                        },
                        "error_y": {
                          "color": "#2a3f5f"
                        },
                        "marker": {
                          "line": {
                            "color": "#E5ECF6",
                            "width": 0.5
                          },
                          "pattern": {
                            "fillmode": "overlay",
                            "size": 10,
                            "solidity": 0.2
                          }
                        },
                        "type": "bar"
                      }
                    ],
                    "scattergeo": [
                      {
                        "type": "scattergeo",
                        "marker": {
                          "colorbar": {
                            "outlinewidth": 0,
                            "ticks": ""
                          }
                        }
                      }
                    ],
                    "scatterpolar": [
                      {
                        "type": "scatterpolar",
                        "marker": {
                          "colorbar": {
                            "outlinewidth": 0,
                            "ticks": ""
                          }
                        }
                      }
                    ],
                    "histogram": [
                      {
                        "marker": {
                          "pattern": {
                            "fillmode": "overlay",
                            "size": 10,
                            "solidity": 0.2
                          }
                        },
                        "type": "histogram"
                      }
                    ],
                    "scattergl": [
                      {
                        "type": "scattergl",
                        "marker": {
                          "colorbar": {
                            "outlinewidth": 0,
                            "ticks": ""
                          }
                        }
                      }
                    ],
                    "scatter3d": [
                      {
                        "type": "scatter3d",
                        "line": {
                          "colorbar": {
                            "outlinewidth": 0,
                            "ticks": ""
                          }
                        },
                        "marker": {
                          "colorbar": {
                            "outlinewidth": 0,
                            "ticks": ""
                          }
                        }
                      }
                    ],
                    "scattermapbox": [
                      {
                        "type": "scattermapbox",
                        "marker": {
                          "colorbar": {
                            "outlinewidth": 0,
                            "ticks": ""
                          }
                        }
                      }
                    ],
                    "scatterternary": [
                      {
                        "type": "scatterternary",
                        "marker": {
                          "colorbar": {
                            "outlinewidth": 0,
                            "ticks": ""
                          }
                        }
                      }
                    ],
                    "scattercarpet": [
                      {
                        "type": "scattercarpet",
                        "marker": {
                          "colorbar": {
                            "outlinewidth": 0,
                            "ticks": ""
                          }
                        }
                      }
                    ],
                    "carpet": [
                      {
                        "aaxis": {
                          "endlinecolor": "#2a3f5f",
                          "gridcolor": "white",
                          "linecolor": "white",
                          "minorgridcolor": "white",
                          "startlinecolor": "#2a3f5f"
                        },
                        "baxis": {
                          "endlinecolor": "#2a3f5f",
                          "gridcolor": "white",
                          "linecolor": "white",
                          "minorgridcolor": "white",
                          "startlinecolor": "#2a3f5f"
                        },
                        "type": "carpet"
                      }
                    ],
                    "table": [
                      {
                        "cells": {
                          "fill": {
                            "color": "#EBF0F8"
                          },
                          "line": {
                            "color": "white"
                          }
                        },
                        "header": {
                          "fill": {
                            "color": "#C8D4E3"
                          },
                          "line": {
                            "color": "white"
                          }
                        },
                        "type": "table"
                      }
                    ],
                    "barpolar": [
                      {
                        "marker": {
                          "line": {
                            "color": "#E5ECF6",
                            "width": 0.5
                          },
                          "pattern": {
                            "fillmode": "overlay",
                            "size": 10,
                            "solidity": 0.2
                          }
                        },
                        "type": "barpolar"
                      }
                    ],
                    "pie": [
                      {
                        "automargin": true,
                        "type": "pie"
                      }
                    ]
                  },
                  "layout": {
                    "autotypenumbers": "strict",
                    "colorway": [
                      "#636efa",
                      "#EF553B",
                      "#00cc96",
                      "#ab63fa",
                      "#FFA15A",
                      "#19d3f3",
                      "#FF6692",
                      "#B6E880",
                      "#FF97FF",
                      "#FECB52"
                    ],
                    "font": {
                      "color": "#2a3f5f"
                    },
                    "hovermode": "closest",
                    "hoverlabel": {
                      "align": "left"
                    },
                    "paper_bgcolor": "white",
                    "plot_bgcolor": "#E5ECF6",
                    "polar": {
                      "bgcolor": "#E5ECF6",
                      "angularaxis": {
                        "gridcolor": "white",
                        "linecolor": "white",
                        "ticks": ""
                      },
                      "radialaxis": {
                        "gridcolor": "white",
                        "linecolor": "white",
                        "ticks": ""
                      }
                    },
                    "ternary": {
                      "bgcolor": "#E5ECF6",
                      "aaxis": {
                        "gridcolor": "white",
                        "linecolor": "white",
                        "ticks": ""
                      },
                      "baxis": {
                        "gridcolor": "white",
                        "linecolor": "white",
                        "ticks": ""
                      },
                      "caxis": {
                        "gridcolor": "white",
                        "linecolor": "white",
                        "ticks": ""
                      }
                    },
                    "coloraxis": {
                      "colorbar": {
                        "outlinewidth": 0,
                        "ticks": ""
                      }
                    },
                    "colorscale": {
                      "sequential": [
                        [
                          0,
                          "#0d0887"
                        ],
                        [
                          0.1111111111111111,
                          "#46039f"
                        ],
                        [
                          0.2222222222222222,
                          "#7201a8"
                        ],
                        [
                          0.3333333333333333,
                          "#9c179e"
                        ],
                        [
                          0.4444444444444444,
                          "#bd3786"
                        ],
                        [
                          0.5555555555555556,
                          "#d8576b"
                        ],
                        [
                          0.6666666666666666,
                          "#ed7953"
                        ],
                        [
                          0.7777777777777778,
                          "#fb9f3a"
                        ],
                        [
                          0.8888888888888888,
                          "#fdca26"
                        ],
                        [
                          1,
                          "#f0f921"
                        ]
                      ],
                      "sequentialminus": [
                        [
                          0,
                          "#0d0887"
                        ],
                        [
                          0.1111111111111111,
                          "#46039f"
                        ],
                        [
                          0.2222222222222222,
                          "#7201a8"
                        ],
                        [
                          0.3333333333333333,
                          "#9c179e"
                        ],
                        [
                          0.4444444444444444,
                          "#bd3786"
                        ],
                        [
                          0.5555555555555556,
                          "#d8576b"
                        ],
                        [
                          0.6666666666666666,
                          "#ed7953"
                        ],
                        [
                          0.7777777777777778,
                          "#fb9f3a"
                        ],
                        [
                          0.8888888888888888,
                          "#fdca26"
                        ],
                        [
                          1,
                          "#f0f921"
                        ]
                      ],
                      "diverging": [
                        [
                          0,
                          "#8e0152"
                        ],
                        [
                          0.1,
                          "#c51b7d"
                        ],
                        [
                          0.2,
                          "#de77ae"
                        ],
                        [
                          0.3,
                          "#f1b6da"
                        ],
                        [
                          0.4,
                          "#fde0ef"
                        ],
                        [
                          0.5,
                          "#f7f7f7"
                        ],
                        [
                          0.6,
                          "#e6f5d0"
                        ],
                        [
                          0.7,
                          "#b8e186"
                        ],
                        [
                          0.8,
                          "#7fbc41"
                        ],
                        [
                          0.9,
                          "#4d9221"
                        ],
                        [
                          1,
                          "#276419"
                        ]
                      ]
                    },
                    "xaxis": {
                      "gridcolor": "white",
                      "linecolor": "white",
                      "ticks": "",
                      "title": {
                        "standoff": 15
                      },
                      "zerolinecolor": "white",
                      "automargin": true,
                      "zerolinewidth": 2
                    },
                    "yaxis": {
                      "gridcolor": "white",
                      "linecolor": "white",
                      "ticks": "",
                      "title": {
                        "standoff": 15
                      },
                      "zerolinecolor": "white",
                      "automargin": true,
                      "zerolinewidth": 2
                    },
                    "scene": {
                      "xaxis": {
                        "backgroundcolor": "#E5ECF6",
                        "gridcolor": "white",
                        "linecolor": "white",
                        "showbackground": true,
                        "ticks": "",
                        "zerolinecolor": "white",
                        "gridwidth": 2
                      },
                      "yaxis": {
                        "backgroundcolor": "#E5ECF6",
                        "gridcolor": "white",
                        "linecolor": "white",
                        "showbackground": true,
                        "ticks": "",
                        "zerolinecolor": "white",
                        "gridwidth": 2
                      },
                      "zaxis": {
                        "backgroundcolor": "#E5ECF6",
                        "gridcolor": "white",
                        "linecolor": "white",
                        "showbackground": true,
                        "ticks": "",
                        "zerolinecolor": "white",
                        "gridwidth": 2
                      }
                    },
                    "shapedefaults": {
                      "line": {
                        "color": "#2a3f5f"
                      }
                    },
                    "annotationdefaults": {
                      "arrowcolor": "#2a3f5f",
                      "arrowhead": 0,
                      "arrowwidth": 1
                    },
                    "geo": {
                      "bgcolor": "white",
                      "landcolor": "#E5ECF6",
                      "subunitcolor": "white",
                      "showland": true,
                      "showlakes": true,
                      "lakecolor": "white"
                    },
                    "title": {
                      "x": 0.05
                    },
                    "mapbox": {
                      "style": "light"
                    }
                  }
                },
                "xaxis": {
                  "anchor": "y",
                  "domain": [
                    0,
                    0.45
                  ]
                },
                "yaxis": {
                  "anchor": "x",
                  "domain": [
                    0.7333333333333333,
                    1
                  ]
                },
                "xaxis2": {
                  "anchor": "y2",
                  "domain": [
                    0.55,
                    1
                  ]
                },
                "yaxis2": {
                  "anchor": "x2",
                  "domain": [
                    0.7333333333333333,
                    1
                  ]
                },
                "xaxis3": {
                  "anchor": "y3",
                  "domain": [
                    0,
                    0.45
                  ]
                },
                "yaxis3": {
                  "anchor": "x3",
                  "domain": [
                    0.36666666666666664,
                    0.6333333333333333
                  ]
                },
                "xaxis4": {
                  "anchor": "y4",
                  "domain": [
                    0.55,
                    1
                  ]
                },
                "yaxis4": {
                  "anchor": "x4",
                  "domain": [
                    0.36666666666666664,
                    0.6333333333333333
                  ]
                },
                "xaxis5": {
                  "anchor": "y5",
                  "domain": [
                    0,
                    0.45
                  ]
                },
                "yaxis5": {
                  "anchor": "x5",
                  "domain": [
                    0,
                    0.26666666666666666
                  ]
                },
                "xaxis6": {
                  "anchor": "y6",
                  "domain": [
                    0.55,
                    1
                  ]
                },
                "yaxis6": {
                  "anchor": "x6",
                  "domain": [
                    0,
                    0.26666666666666666
                  ]
                },
                "title": {
                  "text": "Distribution of average bowler economy for each team"
                }
              },
              "config": {
                "plotlyServerURL": "https://plot.ly"
              }
            },
            "text/html": "<div>                            <div id=\"db8c21cd-615f-4779-9fc6-1e5f6aef27ca\" class=\"plotly-graph-div\" style=\"height:525px; width:100%;\"></div>            <script type=\"text/javascript\">                require([\"plotly\"], function(Plotly) {                    window.PLOTLYENV=window.PLOTLYENV || {};                                    if (document.getElementById(\"db8c21cd-615f-4779-9fc6-1e5f6aef27ca\")) {                    Plotly.newPlot(                        \"db8c21cd-615f-4779-9fc6-1e5f6aef27ca\",                        [{\"name\":\"Peshawar Zalmi\",\"opacity\":0.75,\"x\":[6.8,10.5,6.972972972972973,12.625,8.764705882352942,6.6000000000000005,7.0,6.583333333333333,6.363636363636363],\"type\":\"histogram\",\"xaxis\":\"x\",\"yaxis\":\"y\"},{\"name\":\"Karachi Kings\",\"opacity\":0.75,\"x\":[6.689655172413794,7.648648648648649,10.11111111111111,7.454545454545455,7.65625,8.214285714285715,7.653846153846154],\"type\":\"histogram\",\"xaxis\":\"x2\",\"yaxis\":\"y2\"},{\"name\":\"Islamabad United\",\"opacity\":0.75,\"x\":[7.533333333333333,6.757575757575758,5.857142857142858,9.130434782608697,9.666666666666668,6.923076923076923],\"type\":\"histogram\",\"xaxis\":\"x3\",\"yaxis\":\"y3\"},{\"name\":\"Quetta Gladiators\",\"opacity\":0.75,\"x\":[9.4,7.03030303030303,7.466666666666667,8.090909090909092,8.722222222222221,7.35,6.625],\"type\":\"histogram\",\"xaxis\":\"x4\",\"yaxis\":\"y4\"},{\"name\":\"Lahore Qalandars\",\"opacity\":0.75,\"x\":[7.166666666666666,6.625,9.583333333333334,9.4,6.5,8.666666666666666,6.25],\"type\":\"histogram\",\"xaxis\":\"x5\",\"yaxis\":\"y5\"}],                        {\"template\":{\"data\":{\"histogram2dcontour\":[{\"type\":\"histogram2dcontour\",\"colorbar\":{\"outlinewidth\":0,\"ticks\":\"\"},\"colorscale\":[[0.0,\"#0d0887\"],[0.1111111111111111,\"#46039f\"],[0.2222222222222222,\"#7201a8\"],[0.3333333333333333,\"#9c179e\"],[0.4444444444444444,\"#bd3786\"],[0.5555555555555556,\"#d8576b\"],[0.6666666666666666,\"#ed7953\"],[0.7777777777777778,\"#fb9f3a\"],[0.8888888888888888,\"#fdca26\"],[1.0,\"#f0f921\"]]}],\"choropleth\":[{\"type\":\"choropleth\",\"colorbar\":{\"outlinewidth\":0,\"ticks\":\"\"}}],\"histogram2d\":[{\"type\":\"histogram2d\",\"colorbar\":{\"outlinewidth\":0,\"ticks\":\"\"},\"colorscale\":[[0.0,\"#0d0887\"],[0.1111111111111111,\"#46039f\"],[0.2222222222222222,\"#7201a8\"],[0.3333333333333333,\"#9c179e\"],[0.4444444444444444,\"#bd3786\"],[0.5555555555555556,\"#d8576b\"],[0.6666666666666666,\"#ed7953\"],[0.7777777777777778,\"#fb9f3a\"],[0.8888888888888888,\"#fdca26\"],[1.0,\"#f0f921\"]]}],\"heatmap\":[{\"type\":\"heatmap\",\"colorbar\":{\"outlinewidth\":0,\"ticks\":\"\"},\"colorscale\":[[0.0,\"#0d0887\"],[0.1111111111111111,\"#46039f\"],[0.2222222222222222,\"#7201a8\"],[0.3333333333333333,\"#9c179e\"],[0.4444444444444444,\"#bd3786\"],[0.5555555555555556,\"#d8576b\"],[0.6666666666666666,\"#ed7953\"],[0.7777777777777778,\"#fb9f3a\"],[0.8888888888888888,\"#fdca26\"],[1.0,\"#f0f921\"]]}],\"heatmapgl\":[{\"type\":\"heatmapgl\",\"colorbar\":{\"outlinewidth\":0,\"ticks\":\"\"},\"colorscale\":[[0.0,\"#0d0887\"],[0.1111111111111111,\"#46039f\"],[0.2222222222222222,\"#7201a8\"],[0.3333333333333333,\"#9c179e\"],[0.4444444444444444,\"#bd3786\"],[0.5555555555555556,\"#d8576b\"],[0.6666666666666666,\"#ed7953\"],[0.7777777777777778,\"#fb9f3a\"],[0.8888888888888888,\"#fdca26\"],[1.0,\"#f0f921\"]]}],\"contourcarpet\":[{\"type\":\"contourcarpet\",\"colorbar\":{\"outlinewidth\":0,\"ticks\":\"\"}}],\"contour\":[{\"type\":\"contour\",\"colorbar\":{\"outlinewidth\":0,\"ticks\":\"\"},\"colorscale\":[[0.0,\"#0d0887\"],[0.1111111111111111,\"#46039f\"],[0.2222222222222222,\"#7201a8\"],[0.3333333333333333,\"#9c179e\"],[0.4444444444444444,\"#bd3786\"],[0.5555555555555556,\"#d8576b\"],[0.6666666666666666,\"#ed7953\"],[0.7777777777777778,\"#fb9f3a\"],[0.8888888888888888,\"#fdca26\"],[1.0,\"#f0f921\"]]}],\"surface\":[{\"type\":\"surface\",\"colorbar\":{\"outlinewidth\":0,\"ticks\":\"\"},\"colorscale\":[[0.0,\"#0d0887\"],[0.1111111111111111,\"#46039f\"],[0.2222222222222222,\"#7201a8\"],[0.3333333333333333,\"#9c179e\"],[0.4444444444444444,\"#bd3786\"],[0.5555555555555556,\"#d8576b\"],[0.6666666666666666,\"#ed7953\"],[0.7777777777777778,\"#fb9f3a\"],[0.8888888888888888,\"#fdca26\"],[1.0,\"#f0f921\"]]}],\"mesh3d\":[{\"type\":\"mesh3d\",\"colorbar\":{\"outlinewidth\":0,\"ticks\":\"\"}}],\"scatter\":[{\"fillpattern\":{\"fillmode\":\"overlay\",\"size\":10,\"solidity\":0.2},\"type\":\"scatter\"}],\"parcoords\":[{\"type\":\"parcoords\",\"line\":{\"colorbar\":{\"outlinewidth\":0,\"ticks\":\"\"}}}],\"scatterpolargl\":[{\"type\":\"scatterpolargl\",\"marker\":{\"colorbar\":{\"outlinewidth\":0,\"ticks\":\"\"}}}],\"bar\":[{\"error_x\":{\"color\":\"#2a3f5f\"},\"error_y\":{\"color\":\"#2a3f5f\"},\"marker\":{\"line\":{\"color\":\"#E5ECF6\",\"width\":0.5},\"pattern\":{\"fillmode\":\"overlay\",\"size\":10,\"solidity\":0.2}},\"type\":\"bar\"}],\"scattergeo\":[{\"type\":\"scattergeo\",\"marker\":{\"colorbar\":{\"outlinewidth\":0,\"ticks\":\"\"}}}],\"scatterpolar\":[{\"type\":\"scatterpolar\",\"marker\":{\"colorbar\":{\"outlinewidth\":0,\"ticks\":\"\"}}}],\"histogram\":[{\"marker\":{\"pattern\":{\"fillmode\":\"overlay\",\"size\":10,\"solidity\":0.2}},\"type\":\"histogram\"}],\"scattergl\":[{\"type\":\"scattergl\",\"marker\":{\"colorbar\":{\"outlinewidth\":0,\"ticks\":\"\"}}}],\"scatter3d\":[{\"type\":\"scatter3d\",\"line\":{\"colorbar\":{\"outlinewidth\":0,\"ticks\":\"\"}},\"marker\":{\"colorbar\":{\"outlinewidth\":0,\"ticks\":\"\"}}}],\"scattermapbox\":[{\"type\":\"scattermapbox\",\"marker\":{\"colorbar\":{\"outlinewidth\":0,\"ticks\":\"\"}}}],\"scatterternary\":[{\"type\":\"scatterternary\",\"marker\":{\"colorbar\":{\"outlinewidth\":0,\"ticks\":\"\"}}}],\"scattercarpet\":[{\"type\":\"scattercarpet\",\"marker\":{\"colorbar\":{\"outlinewidth\":0,\"ticks\":\"\"}}}],\"carpet\":[{\"aaxis\":{\"endlinecolor\":\"#2a3f5f\",\"gridcolor\":\"white\",\"linecolor\":\"white\",\"minorgridcolor\":\"white\",\"startlinecolor\":\"#2a3f5f\"},\"baxis\":{\"endlinecolor\":\"#2a3f5f\",\"gridcolor\":\"white\",\"linecolor\":\"white\",\"minorgridcolor\":\"white\",\"startlinecolor\":\"#2a3f5f\"},\"type\":\"carpet\"}],\"table\":[{\"cells\":{\"fill\":{\"color\":\"#EBF0F8\"},\"line\":{\"color\":\"white\"}},\"header\":{\"fill\":{\"color\":\"#C8D4E3\"},\"line\":{\"color\":\"white\"}},\"type\":\"table\"}],\"barpolar\":[{\"marker\":{\"line\":{\"color\":\"#E5ECF6\",\"width\":0.5},\"pattern\":{\"fillmode\":\"overlay\",\"size\":10,\"solidity\":0.2}},\"type\":\"barpolar\"}],\"pie\":[{\"automargin\":true,\"type\":\"pie\"}]},\"layout\":{\"autotypenumbers\":\"strict\",\"colorway\":[\"#636efa\",\"#EF553B\",\"#00cc96\",\"#ab63fa\",\"#FFA15A\",\"#19d3f3\",\"#FF6692\",\"#B6E880\",\"#FF97FF\",\"#FECB52\"],\"font\":{\"color\":\"#2a3f5f\"},\"hovermode\":\"closest\",\"hoverlabel\":{\"align\":\"left\"},\"paper_bgcolor\":\"white\",\"plot_bgcolor\":\"#E5ECF6\",\"polar\":{\"bgcolor\":\"#E5ECF6\",\"angularaxis\":{\"gridcolor\":\"white\",\"linecolor\":\"white\",\"ticks\":\"\"},\"radialaxis\":{\"gridcolor\":\"white\",\"linecolor\":\"white\",\"ticks\":\"\"}},\"ternary\":{\"bgcolor\":\"#E5ECF6\",\"aaxis\":{\"gridcolor\":\"white\",\"linecolor\":\"white\",\"ticks\":\"\"},\"baxis\":{\"gridcolor\":\"white\",\"linecolor\":\"white\",\"ticks\":\"\"},\"caxis\":{\"gridcolor\":\"white\",\"linecolor\":\"white\",\"ticks\":\"\"}},\"coloraxis\":{\"colorbar\":{\"outlinewidth\":0,\"ticks\":\"\"}},\"colorscale\":{\"sequential\":[[0.0,\"#0d0887\"],[0.1111111111111111,\"#46039f\"],[0.2222222222222222,\"#7201a8\"],[0.3333333333333333,\"#9c179e\"],[0.4444444444444444,\"#bd3786\"],[0.5555555555555556,\"#d8576b\"],[0.6666666666666666,\"#ed7953\"],[0.7777777777777778,\"#fb9f3a\"],[0.8888888888888888,\"#fdca26\"],[1.0,\"#f0f921\"]],\"sequentialminus\":[[0.0,\"#0d0887\"],[0.1111111111111111,\"#46039f\"],[0.2222222222222222,\"#7201a8\"],[0.3333333333333333,\"#9c179e\"],[0.4444444444444444,\"#bd3786\"],[0.5555555555555556,\"#d8576b\"],[0.6666666666666666,\"#ed7953\"],[0.7777777777777778,\"#fb9f3a\"],[0.8888888888888888,\"#fdca26\"],[1.0,\"#f0f921\"]],\"diverging\":[[0,\"#8e0152\"],[0.1,\"#c51b7d\"],[0.2,\"#de77ae\"],[0.3,\"#f1b6da\"],[0.4,\"#fde0ef\"],[0.5,\"#f7f7f7\"],[0.6,\"#e6f5d0\"],[0.7,\"#b8e186\"],[0.8,\"#7fbc41\"],[0.9,\"#4d9221\"],[1,\"#276419\"]]},\"xaxis\":{\"gridcolor\":\"white\",\"linecolor\":\"white\",\"ticks\":\"\",\"title\":{\"standoff\":15},\"zerolinecolor\":\"white\",\"automargin\":true,\"zerolinewidth\":2},\"yaxis\":{\"gridcolor\":\"white\",\"linecolor\":\"white\",\"ticks\":\"\",\"title\":{\"standoff\":15},\"zerolinecolor\":\"white\",\"automargin\":true,\"zerolinewidth\":2},\"scene\":{\"xaxis\":{\"backgroundcolor\":\"#E5ECF6\",\"gridcolor\":\"white\",\"linecolor\":\"white\",\"showbackground\":true,\"ticks\":\"\",\"zerolinecolor\":\"white\",\"gridwidth\":2},\"yaxis\":{\"backgroundcolor\":\"#E5ECF6\",\"gridcolor\":\"white\",\"linecolor\":\"white\",\"showbackground\":true,\"ticks\":\"\",\"zerolinecolor\":\"white\",\"gridwidth\":2},\"zaxis\":{\"backgroundcolor\":\"#E5ECF6\",\"gridcolor\":\"white\",\"linecolor\":\"white\",\"showbackground\":true,\"ticks\":\"\",\"zerolinecolor\":\"white\",\"gridwidth\":2}},\"shapedefaults\":{\"line\":{\"color\":\"#2a3f5f\"}},\"annotationdefaults\":{\"arrowcolor\":\"#2a3f5f\",\"arrowhead\":0,\"arrowwidth\":1},\"geo\":{\"bgcolor\":\"white\",\"landcolor\":\"#E5ECF6\",\"subunitcolor\":\"white\",\"showland\":true,\"showlakes\":true,\"lakecolor\":\"white\"},\"title\":{\"x\":0.05},\"mapbox\":{\"style\":\"light\"}}},\"xaxis\":{\"anchor\":\"y\",\"domain\":[0.0,0.45]},\"yaxis\":{\"anchor\":\"x\",\"domain\":[0.7333333333333333,1.0]},\"xaxis2\":{\"anchor\":\"y2\",\"domain\":[0.55,1.0]},\"yaxis2\":{\"anchor\":\"x2\",\"domain\":[0.7333333333333333,1.0]},\"xaxis3\":{\"anchor\":\"y3\",\"domain\":[0.0,0.45]},\"yaxis3\":{\"anchor\":\"x3\",\"domain\":[0.36666666666666664,0.6333333333333333]},\"xaxis4\":{\"anchor\":\"y4\",\"domain\":[0.55,1.0]},\"yaxis4\":{\"anchor\":\"x4\",\"domain\":[0.36666666666666664,0.6333333333333333]},\"xaxis5\":{\"anchor\":\"y5\",\"domain\":[0.0,0.45]},\"yaxis5\":{\"anchor\":\"x5\",\"domain\":[0.0,0.26666666666666666]},\"xaxis6\":{\"anchor\":\"y6\",\"domain\":[0.55,1.0]},\"yaxis6\":{\"anchor\":\"x6\",\"domain\":[0.0,0.26666666666666666]},\"title\":{\"text\":\"Distribution of average bowler economy for each team\"}},                        {\"responsive\": true}                    ).then(function(){\n                            \nvar gd = document.getElementById('db8c21cd-615f-4779-9fc6-1e5f6aef27ca');\nvar x = new MutationObserver(function (mutations, observer) {{\n        var display = window.getComputedStyle(gd).display;\n        if (!display || display === 'none') {{\n            console.log([gd, 'removed!']);\n            Plotly.purge(gd);\n            observer.disconnect();\n        }}\n}});\n\n// Listen for the removal of the full notebook cells\nvar notebookContainer = gd.closest('#notebook-container');\nif (notebookContainer) {{\n    x.observe(notebookContainer, {childList: true});\n}}\n\n// Listen for the clearing of the current output cell\nvar outputEl = gd.closest('.output');\nif (outputEl) {{\n    x.observe(outputEl, {childList: true});\n}}\n\n                        })                };                });            </script>        </div>"
          },
          "metadata": {}
        }
      ],
      "source": [
        "# ##Bowler histogram\n",
        "\n",
        "\n",
        "team_list = ['Peshawar Zalmi', 'Karachi Kings', 'Islamabad United', 'Quetta Gladiators', 'Lahore Qalandars']\n",
        "\n",
        "trace0 = go.Histogram(x= df_bowler.loc[df_bowler['Bowling_team'] == team_list[0], 'Economy'], opacity = 0.75, name = team_list[0])\n",
        "trace1 = go.Histogram(x= df_bowler.loc[df_bowler['Bowling_team'] == team_list[1], 'Economy'], opacity = 0.75, name = team_list[1])\n",
        "trace2 = go.Histogram(x= df_bowler.loc[df_bowler['Bowling_team'] == team_list[2], 'Economy'], opacity = 0.75, name = team_list[2])\n",
        "trace3 = go.Histogram(x= df_bowler.loc[df_bowler['Bowling_team'] == team_list[3], 'Economy'], opacity = 0.75, name = team_list[3])\n",
        "trace4 = go.Histogram(x= df_bowler.loc[df_bowler['Bowling_team'] == team_list[4], 'Economy'], opacity = 0.75, name = team_list[4])\n",
        "\n",
        "fig4 = make_subplots(rows =3, cols = 2)\n",
        "fig4.append_trace(trace0,1,1)\n",
        "fig4.append_trace(trace1,1,2)\n",
        "fig4.append_trace(trace2,2,1)\n",
        "fig4.append_trace(trace3,2,2)\n",
        "fig4.append_trace(trace4,3,1)\n",
        "\n",
        "fig4.layout.title = dict(text = \"Distribution of average bowler economy for each team\")\n",
        "\n",
        "fig4.show()\n",
        "\n",
        "# plotly.offline.plot(fig4, include_plotlyjs = False, output_type = 'div')\n"
      ]
    },
    {
      "cell_type": "code",
      "execution_count": 93,
      "metadata": {},
      "outputs": [
        {
          "output_type": "execute_result",
          "data": {
            "text/plain": [
              "                    Match_id  Innings  Over  Ball  Batting_team  Bowling_team  \\\n",
              "Bowler                                                                          \n",
              "Aamer Yamin               74       74    74    74            74            74   \n",
              "Abrar Ahmed               36       36    36    36            36            36   \n",
              "Amad Butt                 31       31    31    31            31            31   \n",
              "Anwar Ali                188      188   188   188           188           176   \n",
              "BB McCullum                7        7     7     7             7             7   \n",
              "Bilawal Bhatti            98       98    98    98            98            98   \n",
              "CJ Jordan                120      120   120   120           120           120   \n",
              "CS Delport                11       11    11    11            11            11   \n",
              "DJG Sammy                 63       63    63    63            63            63   \n",
              "Fakhar Zaman              12       12    12    12            12            12   \n",
              "GD Elliott                74       74    74    74            74            74   \n",
              "Ghulam Mudassar           12       12    12    12            12            12   \n",
              "Hasan Ali                221      221   221   221           221           221   \n",
              "Hasan Khan               203      203   203   203           203           190   \n",
              "Iftikhar Ahmed            12       12    12    12            12            12   \n",
              "Imad Wasim               176      176   176   176           176           176   \n",
              "Imran Khalid              32       32    32    32            32            32   \n",
              "Imran Khan (1)            24       24    24    24            24            24   \n",
              "Junaid Khan               53       53    53    53            53            53   \n",
              "KA Pollard                 8        8     8     8             8             8   \n",
              "Kashif Bhatti             12       12    12    12            12            12   \n",
              "Mahmudullah               86       86    86    86            86            68   \n",
              "Mir Hamza                 26       26    26    26            26            26   \n",
              "Mohammad Amir            225      225   225   225           225           225   \n",
              "Mohammad Asghar          103      103   103   103           103           103   \n",
              "Mohammad Hafeez           90       90    90    90            90            90   \n",
              "Mohammad Irfan           183      183   183   183           183           183   \n",
              "Mohammad Irfan (4)       125      125   125   125           125           125   \n",
              "Mohammad Nawaz (3)       201      201   201   201           201           183   \n",
              "Mohammad Sami            194      194   194   194           194           194   \n",
              "NLTC Perera              103      103   103   103           103            97   \n",
              "RR Emrit                  24       24    24    24            24            24   \n",
              "RR Rossouw                 6        6     6     6             6             0   \n",
              "RS Bopara                 55       55    55    55            55            55   \n",
              "Rumman Raees             161      161   161   161           161           161   \n",
              "S Badree                  18       18    18    18            18            18   \n",
              "SP Narine                198      198   198   198           198           198   \n",
              "SR Watson                146      146   146   146           146           146   \n",
              "Saad Nasim                 6        6     6     6             6             6   \n",
              "Saeed Ajmal               71       71    71    71            71            71   \n",
              "Shadab Khan              159      159   159   159           159           159   \n",
              "Shahid Afridi            170      170   170   170           170           170   \n",
              "Shakib Al Hasan           74       74    74    74            74            74   \n",
              "Shoaib Malik              69       69    69    69            69            69   \n",
              "Sohail Khan              196      196   196   196           196           196   \n",
              "Sohail Tanvir            186      186   186   186           186           186   \n",
              "TS Mills                 135      135   135   135           135           135   \n",
              "Umar Gul                  24       24    24    24            24            24   \n",
              "Usama Mir                170      170   170   170           170           170   \n",
              "Usman Khan               162      162   162   162           162           162   \n",
              "Wahab Riaz               208      208   208   208           208           208   \n",
              "Yasir Shah               171      171   171   171           171           171   \n",
              "Zohaib Khan                6        6     6     6             6             6   \n",
              "Zulfiqar Babar           196      196   196   196           196           173   \n",
              "\n",
              "                    Batsman_strike  Non_striker  Batsman_runs  Extra_runs  \\\n",
              "Bowler                                                                      \n",
              "Aamer Yamin                     74           74            74          74   \n",
              "Abrar Ahmed                     36           36            36          36   \n",
              "Amad Butt                       31           31            31          31   \n",
              "Anwar Ali                      188          188           188         188   \n",
              "BB McCullum                      7            7             7           7   \n",
              "Bilawal Bhatti                  98           98            98          98   \n",
              "CJ Jordan                      120          120           120         120   \n",
              "CS Delport                      11           11            11          11   \n",
              "DJG Sammy                       63           63            63          63   \n",
              "Fakhar Zaman                    12           12            12          12   \n",
              "GD Elliott                      74           74            74          74   \n",
              "Ghulam Mudassar                 12           12            12          12   \n",
              "Hasan Ali                      221          221           221         221   \n",
              "Hasan Khan                     203          203           203         203   \n",
              "Iftikhar Ahmed                  12           12            12          12   \n",
              "Imad Wasim                     176          176           176         176   \n",
              "Imran Khalid                    32           32            32          32   \n",
              "Imran Khan (1)                  24           24            24          24   \n",
              "Junaid Khan                     53           53            53          53   \n",
              "KA Pollard                       8            8             8           8   \n",
              "Kashif Bhatti                   12           12            12          12   \n",
              "Mahmudullah                     86           86            86          86   \n",
              "Mir Hamza                       26           26            26          26   \n",
              "Mohammad Amir                  225          225           225         225   \n",
              "Mohammad Asghar                103          103           103         103   \n",
              "Mohammad Hafeez                 90           90            90          90   \n",
              "Mohammad Irfan                 183          183           183         183   \n",
              "Mohammad Irfan (4)             125          125           125         125   \n",
              "Mohammad Nawaz (3)             201          201           201         201   \n",
              "Mohammad Sami                  194          194           194         194   \n",
              "NLTC Perera                    103          103           103         103   \n",
              "RR Emrit                        24           24            24          24   \n",
              "RR Rossouw                       6            6             6           6   \n",
              "RS Bopara                       55           55            55          55   \n",
              "Rumman Raees                   161          161           161         161   \n",
              "S Badree                        18           18            18          18   \n",
              "SP Narine                      198          198           198         198   \n",
              "SR Watson                      146          146           146         146   \n",
              "Saad Nasim                       6            6             6           6   \n",
              "Saeed Ajmal                     71           71            71          71   \n",
              "Shadab Khan                    159          159           159         159   \n",
              "Shahid Afridi                  170          170           170         170   \n",
              "Shakib Al Hasan                 74           74            74          74   \n",
              "Shoaib Malik                    69           69            69          69   \n",
              "Sohail Khan                    196          196           196         196   \n",
              "Sohail Tanvir                  186          186           186         186   \n",
              "TS Mills                       135          135           135         135   \n",
              "Umar Gul                        24           24            24          24   \n",
              "Usama Mir                      170          170           170         170   \n",
              "Usman Khan                     162          162           162         162   \n",
              "Wahab Riaz                     208          208           208         208   \n",
              "Yasir Shah                     171          171           171         171   \n",
              "Zohaib Khan                      6            6             6           6   \n",
              "Zulfiqar Babar                 196          196           196         196   \n",
              "\n",
              "                    ...  Player_dismissed  wicket  Six  Four  Caught  Bowled  \\\n",
              "Bowler              ...                                                        \n",
              "Aamer Yamin         ...                74      74   74    74      74      74   \n",
              "Abrar Ahmed         ...                36      36   36    36      36      36   \n",
              "Amad Butt           ...                31      31   31    31      31      31   \n",
              "Anwar Ali           ...               188     188  188   188     188     188   \n",
              "BB McCullum         ...                 7       7    7     7       7       7   \n",
              "Bilawal Bhatti      ...                98      98   98    98      98      98   \n",
              "CJ Jordan           ...               120     120  120   120     120     120   \n",
              "CS Delport          ...                11      11   11    11      11      11   \n",
              "DJG Sammy           ...                63      63   63    63      63      63   \n",
              "Fakhar Zaman        ...                12      12   12    12      12      12   \n",
              "GD Elliott          ...                74      74   74    74      74      74   \n",
              "Ghulam Mudassar     ...                12      12   12    12      12      12   \n",
              "Hasan Ali           ...               221     221  221   221     221     221   \n",
              "Hasan Khan          ...               203     203  203   203     203     203   \n",
              "Iftikhar Ahmed      ...                12      12   12    12      12      12   \n",
              "Imad Wasim          ...               176     176  176   176     176     176   \n",
              "Imran Khalid        ...                32      32   32    32      32      32   \n",
              "Imran Khan (1)      ...                24      24   24    24      24      24   \n",
              "Junaid Khan         ...                53      53   53    53      53      53   \n",
              "KA Pollard          ...                 8       8    8     8       8       8   \n",
              "Kashif Bhatti       ...                12      12   12    12      12      12   \n",
              "Mahmudullah         ...                86      86   86    86      86      86   \n",
              "Mir Hamza           ...                26      26   26    26      26      26   \n",
              "Mohammad Amir       ...               225     225  225   225     225     225   \n",
              "Mohammad Asghar     ...               103     103  103   103     103     103   \n",
              "Mohammad Hafeez     ...                90      90   90    90      90      90   \n",
              "Mohammad Irfan      ...               183     183  183   183     183     183   \n",
              "Mohammad Irfan (4)  ...               125     125  125   125     125     125   \n",
              "Mohammad Nawaz (3)  ...               201     201  201   201     201     201   \n",
              "Mohammad Sami       ...               194     194  194   194     194     194   \n",
              "NLTC Perera         ...               103     103  103   103     103     103   \n",
              "RR Emrit            ...                24      24   24    24      24      24   \n",
              "RR Rossouw          ...                 6       6    6     6       6       6   \n",
              "RS Bopara           ...                55      55   55    55      55      55   \n",
              "Rumman Raees        ...               161     161  161   161     161     161   \n",
              "S Badree            ...                18      18   18    18      18      18   \n",
              "SP Narine           ...               198     198  198   198     198     198   \n",
              "SR Watson           ...               146     146  146   146     146     146   \n",
              "Saad Nasim          ...                 6       6    6     6       6       6   \n",
              "Saeed Ajmal         ...                71      71   71    71      71      71   \n",
              "Shadab Khan         ...               159     159  159   159     159     159   \n",
              "Shahid Afridi       ...               170     170  170   170     170     170   \n",
              "Shakib Al Hasan     ...                74      74   74    74      74      74   \n",
              "Shoaib Malik        ...                69      69   69    69      69      69   \n",
              "Sohail Khan         ...               196     196  196   196     196     196   \n",
              "Sohail Tanvir       ...               186     186  186   186     186     186   \n",
              "TS Mills            ...               135     135  135   135     135     135   \n",
              "Umar Gul            ...                24      24   24    24      24      24   \n",
              "Usama Mir           ...               170     170  170   170     170     170   \n",
              "Usman Khan          ...               162     162  162   162     162     162   \n",
              "Wahab Riaz          ...               208     208  208   208     208     208   \n",
              "Yasir Shah          ...               171     171  171   171     171     171   \n",
              "Zohaib Khan         ...                 6       6    6     6       6       6   \n",
              "Zulfiqar Babar      ...               196     196  196   196     196     196   \n",
              "\n",
              "                    Lbw  Runout  Stump  Caught_bowled  \n",
              "Bowler                                                 \n",
              "Aamer Yamin          74      74     74             74  \n",
              "Abrar Ahmed          36      36     36             36  \n",
              "Amad Butt            31      31     31             31  \n",
              "Anwar Ali           188     188    188            188  \n",
              "BB McCullum           7       7      7              7  \n",
              "Bilawal Bhatti       98      98     98             98  \n",
              "CJ Jordan           120     120    120            120  \n",
              "CS Delport           11      11     11             11  \n",
              "DJG Sammy            63      63     63             63  \n",
              "Fakhar Zaman         12      12     12             12  \n",
              "GD Elliott           74      74     74             74  \n",
              "Ghulam Mudassar      12      12     12             12  \n",
              "Hasan Ali           221     221    221            221  \n",
              "Hasan Khan          203     203    203            203  \n",
              "Iftikhar Ahmed       12      12     12             12  \n",
              "Imad Wasim          176     176    176            176  \n",
              "Imran Khalid         32      32     32             32  \n",
              "Imran Khan (1)       24      24     24             24  \n",
              "Junaid Khan          53      53     53             53  \n",
              "KA Pollard            8       8      8              8  \n",
              "Kashif Bhatti        12      12     12             12  \n",
              "Mahmudullah          86      86     86             86  \n",
              "Mir Hamza            26      26     26             26  \n",
              "Mohammad Amir       225     225    225            225  \n",
              "Mohammad Asghar     103     103    103            103  \n",
              "Mohammad Hafeez      90      90     90             90  \n",
              "Mohammad Irfan      183     183    183            183  \n",
              "Mohammad Irfan (4)  125     125    125            125  \n",
              "Mohammad Nawaz (3)  201     201    201            201  \n",
              "Mohammad Sami       194     194    194            194  \n",
              "NLTC Perera         103     103    103            103  \n",
              "RR Emrit             24      24     24             24  \n",
              "RR Rossouw            6       6      6              6  \n",
              "RS Bopara            55      55     55             55  \n",
              "Rumman Raees        161     161    161            161  \n",
              "S Badree             18      18     18             18  \n",
              "SP Narine           198     198    198            198  \n",
              "SR Watson           146     146    146            146  \n",
              "Saad Nasim            6       6      6              6  \n",
              "Saeed Ajmal          71      71     71             71  \n",
              "Shadab Khan         159     159    159            159  \n",
              "Shahid Afridi       170     170    170            170  \n",
              "Shakib Al Hasan      74      74     74             74  \n",
              "Shoaib Malik         69      69     69             69  \n",
              "Sohail Khan         196     196    196            196  \n",
              "Sohail Tanvir       186     186    186            186  \n",
              "TS Mills            135     135    135            135  \n",
              "Umar Gul             24      24     24             24  \n",
              "Usama Mir           170     170    170            170  \n",
              "Usman Khan          162     162    162            162  \n",
              "Wahab Riaz          208     208    208            208  \n",
              "Yasir Shah          171     171    171            171  \n",
              "Zohaib Khan           6       6      6              6  \n",
              "Zulfiqar Babar      196     196    196            196  \n",
              "\n",
              "[54 rows x 21 columns]"
            ],
            "text/html": "<div>\n<style scoped>\n    .dataframe tbody tr th:only-of-type {\n        vertical-align: middle;\n    }\n\n    .dataframe tbody tr th {\n        vertical-align: top;\n    }\n\n    .dataframe thead th {\n        text-align: right;\n    }\n</style>\n<table border=\"1\" class=\"dataframe\">\n  <thead>\n    <tr style=\"text-align: right;\">\n      <th></th>\n      <th>Match_id</th>\n      <th>Innings</th>\n      <th>Over</th>\n      <th>Ball</th>\n      <th>Batting_team</th>\n      <th>Bowling_team</th>\n      <th>Batsman_strike</th>\n      <th>Non_striker</th>\n      <th>Batsman_runs</th>\n      <th>Extra_runs</th>\n      <th>...</th>\n      <th>Player_dismissed</th>\n      <th>wicket</th>\n      <th>Six</th>\n      <th>Four</th>\n      <th>Caught</th>\n      <th>Bowled</th>\n      <th>Lbw</th>\n      <th>Runout</th>\n      <th>Stump</th>\n      <th>Caught_bowled</th>\n    </tr>\n    <tr>\n      <th>Bowler</th>\n      <th></th>\n      <th></th>\n      <th></th>\n      <th></th>\n      <th></th>\n      <th></th>\n      <th></th>\n      <th></th>\n      <th></th>\n      <th></th>\n      <th></th>\n      <th></th>\n      <th></th>\n      <th></th>\n      <th></th>\n      <th></th>\n      <th></th>\n      <th></th>\n      <th></th>\n      <th></th>\n      <th></th>\n    </tr>\n  </thead>\n  <tbody>\n    <tr>\n      <th>Aamer Yamin</th>\n      <td>74</td>\n      <td>74</td>\n      <td>74</td>\n      <td>74</td>\n      <td>74</td>\n      <td>74</td>\n      <td>74</td>\n      <td>74</td>\n      <td>74</td>\n      <td>74</td>\n      <td>...</td>\n      <td>74</td>\n      <td>74</td>\n      <td>74</td>\n      <td>74</td>\n      <td>74</td>\n      <td>74</td>\n      <td>74</td>\n      <td>74</td>\n      <td>74</td>\n      <td>74</td>\n    </tr>\n    <tr>\n      <th>Abrar Ahmed</th>\n      <td>36</td>\n      <td>36</td>\n      <td>36</td>\n      <td>36</td>\n      <td>36</td>\n      <td>36</td>\n      <td>36</td>\n      <td>36</td>\n      <td>36</td>\n      <td>36</td>\n      <td>...</td>\n      <td>36</td>\n      <td>36</td>\n      <td>36</td>\n      <td>36</td>\n      <td>36</td>\n      <td>36</td>\n      <td>36</td>\n      <td>36</td>\n      <td>36</td>\n      <td>36</td>\n    </tr>\n    <tr>\n      <th>Amad Butt</th>\n      <td>31</td>\n      <td>31</td>\n      <td>31</td>\n      <td>31</td>\n      <td>31</td>\n      <td>31</td>\n      <td>31</td>\n      <td>31</td>\n      <td>31</td>\n      <td>31</td>\n      <td>...</td>\n      <td>31</td>\n      <td>31</td>\n      <td>31</td>\n      <td>31</td>\n      <td>31</td>\n      <td>31</td>\n      <td>31</td>\n      <td>31</td>\n      <td>31</td>\n      <td>31</td>\n    </tr>\n    <tr>\n      <th>Anwar Ali</th>\n      <td>188</td>\n      <td>188</td>\n      <td>188</td>\n      <td>188</td>\n      <td>188</td>\n      <td>176</td>\n      <td>188</td>\n      <td>188</td>\n      <td>188</td>\n      <td>188</td>\n      <td>...</td>\n      <td>188</td>\n      <td>188</td>\n      <td>188</td>\n      <td>188</td>\n      <td>188</td>\n      <td>188</td>\n      <td>188</td>\n      <td>188</td>\n      <td>188</td>\n      <td>188</td>\n    </tr>\n    <tr>\n      <th>BB McCullum</th>\n      <td>7</td>\n      <td>7</td>\n      <td>7</td>\n      <td>7</td>\n      <td>7</td>\n      <td>7</td>\n      <td>7</td>\n      <td>7</td>\n      <td>7</td>\n      <td>7</td>\n      <td>...</td>\n      <td>7</td>\n      <td>7</td>\n      <td>7</td>\n      <td>7</td>\n      <td>7</td>\n      <td>7</td>\n      <td>7</td>\n      <td>7</td>\n      <td>7</td>\n      <td>7</td>\n    </tr>\n    <tr>\n      <th>Bilawal Bhatti</th>\n      <td>98</td>\n      <td>98</td>\n      <td>98</td>\n      <td>98</td>\n      <td>98</td>\n      <td>98</td>\n      <td>98</td>\n      <td>98</td>\n      <td>98</td>\n      <td>98</td>\n      <td>...</td>\n      <td>98</td>\n      <td>98</td>\n      <td>98</td>\n      <td>98</td>\n      <td>98</td>\n      <td>98</td>\n      <td>98</td>\n      <td>98</td>\n      <td>98</td>\n      <td>98</td>\n    </tr>\n    <tr>\n      <th>CJ Jordan</th>\n      <td>120</td>\n      <td>120</td>\n      <td>120</td>\n      <td>120</td>\n      <td>120</td>\n      <td>120</td>\n      <td>120</td>\n      <td>120</td>\n      <td>120</td>\n      <td>120</td>\n      <td>...</td>\n      <td>120</td>\n      <td>120</td>\n      <td>120</td>\n      <td>120</td>\n      <td>120</td>\n      <td>120</td>\n      <td>120</td>\n      <td>120</td>\n      <td>120</td>\n      <td>120</td>\n    </tr>\n    <tr>\n      <th>CS Delport</th>\n      <td>11</td>\n      <td>11</td>\n      <td>11</td>\n      <td>11</td>\n      <td>11</td>\n      <td>11</td>\n      <td>11</td>\n      <td>11</td>\n      <td>11</td>\n      <td>11</td>\n      <td>...</td>\n      <td>11</td>\n      <td>11</td>\n      <td>11</td>\n      <td>11</td>\n      <td>11</td>\n      <td>11</td>\n      <td>11</td>\n      <td>11</td>\n      <td>11</td>\n      <td>11</td>\n    </tr>\n    <tr>\n      <th>DJG Sammy</th>\n      <td>63</td>\n      <td>63</td>\n      <td>63</td>\n      <td>63</td>\n      <td>63</td>\n      <td>63</td>\n      <td>63</td>\n      <td>63</td>\n      <td>63</td>\n      <td>63</td>\n      <td>...</td>\n      <td>63</td>\n      <td>63</td>\n      <td>63</td>\n      <td>63</td>\n      <td>63</td>\n      <td>63</td>\n      <td>63</td>\n      <td>63</td>\n      <td>63</td>\n      <td>63</td>\n    </tr>\n    <tr>\n      <th>Fakhar Zaman</th>\n      <td>12</td>\n      <td>12</td>\n      <td>12</td>\n      <td>12</td>\n      <td>12</td>\n      <td>12</td>\n      <td>12</td>\n      <td>12</td>\n      <td>12</td>\n      <td>12</td>\n      <td>...</td>\n      <td>12</td>\n      <td>12</td>\n      <td>12</td>\n      <td>12</td>\n      <td>12</td>\n      <td>12</td>\n      <td>12</td>\n      <td>12</td>\n      <td>12</td>\n      <td>12</td>\n    </tr>\n    <tr>\n      <th>GD Elliott</th>\n      <td>74</td>\n      <td>74</td>\n      <td>74</td>\n      <td>74</td>\n      <td>74</td>\n      <td>74</td>\n      <td>74</td>\n      <td>74</td>\n      <td>74</td>\n      <td>74</td>\n      <td>...</td>\n      <td>74</td>\n      <td>74</td>\n      <td>74</td>\n      <td>74</td>\n      <td>74</td>\n      <td>74</td>\n      <td>74</td>\n      <td>74</td>\n      <td>74</td>\n      <td>74</td>\n    </tr>\n    <tr>\n      <th>Ghulam Mudassar</th>\n      <td>12</td>\n      <td>12</td>\n      <td>12</td>\n      <td>12</td>\n      <td>12</td>\n      <td>12</td>\n      <td>12</td>\n      <td>12</td>\n      <td>12</td>\n      <td>12</td>\n      <td>...</td>\n      <td>12</td>\n      <td>12</td>\n      <td>12</td>\n      <td>12</td>\n      <td>12</td>\n      <td>12</td>\n      <td>12</td>\n      <td>12</td>\n      <td>12</td>\n      <td>12</td>\n    </tr>\n    <tr>\n      <th>Hasan Ali</th>\n      <td>221</td>\n      <td>221</td>\n      <td>221</td>\n      <td>221</td>\n      <td>221</td>\n      <td>221</td>\n      <td>221</td>\n      <td>221</td>\n      <td>221</td>\n      <td>221</td>\n      <td>...</td>\n      <td>221</td>\n      <td>221</td>\n      <td>221</td>\n      <td>221</td>\n      <td>221</td>\n      <td>221</td>\n      <td>221</td>\n      <td>221</td>\n      <td>221</td>\n      <td>221</td>\n    </tr>\n    <tr>\n      <th>Hasan Khan</th>\n      <td>203</td>\n      <td>203</td>\n      <td>203</td>\n      <td>203</td>\n      <td>203</td>\n      <td>190</td>\n      <td>203</td>\n      <td>203</td>\n      <td>203</td>\n      <td>203</td>\n      <td>...</td>\n      <td>203</td>\n      <td>203</td>\n      <td>203</td>\n      <td>203</td>\n      <td>203</td>\n      <td>203</td>\n      <td>203</td>\n      <td>203</td>\n      <td>203</td>\n      <td>203</td>\n    </tr>\n    <tr>\n      <th>Iftikhar Ahmed</th>\n      <td>12</td>\n      <td>12</td>\n      <td>12</td>\n      <td>12</td>\n      <td>12</td>\n      <td>12</td>\n      <td>12</td>\n      <td>12</td>\n      <td>12</td>\n      <td>12</td>\n      <td>...</td>\n      <td>12</td>\n      <td>12</td>\n      <td>12</td>\n      <td>12</td>\n      <td>12</td>\n      <td>12</td>\n      <td>12</td>\n      <td>12</td>\n      <td>12</td>\n      <td>12</td>\n    </tr>\n    <tr>\n      <th>Imad Wasim</th>\n      <td>176</td>\n      <td>176</td>\n      <td>176</td>\n      <td>176</td>\n      <td>176</td>\n      <td>176</td>\n      <td>176</td>\n      <td>176</td>\n      <td>176</td>\n      <td>176</td>\n      <td>...</td>\n      <td>176</td>\n      <td>176</td>\n      <td>176</td>\n      <td>176</td>\n      <td>176</td>\n      <td>176</td>\n      <td>176</td>\n      <td>176</td>\n      <td>176</td>\n      <td>176</td>\n    </tr>\n    <tr>\n      <th>Imran Khalid</th>\n      <td>32</td>\n      <td>32</td>\n      <td>32</td>\n      <td>32</td>\n      <td>32</td>\n      <td>32</td>\n      <td>32</td>\n      <td>32</td>\n      <td>32</td>\n      <td>32</td>\n      <td>...</td>\n      <td>32</td>\n      <td>32</td>\n      <td>32</td>\n      <td>32</td>\n      <td>32</td>\n      <td>32</td>\n      <td>32</td>\n      <td>32</td>\n      <td>32</td>\n      <td>32</td>\n    </tr>\n    <tr>\n      <th>Imran Khan (1)</th>\n      <td>24</td>\n      <td>24</td>\n      <td>24</td>\n      <td>24</td>\n      <td>24</td>\n      <td>24</td>\n      <td>24</td>\n      <td>24</td>\n      <td>24</td>\n      <td>24</td>\n      <td>...</td>\n      <td>24</td>\n      <td>24</td>\n      <td>24</td>\n      <td>24</td>\n      <td>24</td>\n      <td>24</td>\n      <td>24</td>\n      <td>24</td>\n      <td>24</td>\n      <td>24</td>\n    </tr>\n    <tr>\n      <th>Junaid Khan</th>\n      <td>53</td>\n      <td>53</td>\n      <td>53</td>\n      <td>53</td>\n      <td>53</td>\n      <td>53</td>\n      <td>53</td>\n      <td>53</td>\n      <td>53</td>\n      <td>53</td>\n      <td>...</td>\n      <td>53</td>\n      <td>53</td>\n      <td>53</td>\n      <td>53</td>\n      <td>53</td>\n      <td>53</td>\n      <td>53</td>\n      <td>53</td>\n      <td>53</td>\n      <td>53</td>\n    </tr>\n    <tr>\n      <th>KA Pollard</th>\n      <td>8</td>\n      <td>8</td>\n      <td>8</td>\n      <td>8</td>\n      <td>8</td>\n      <td>8</td>\n      <td>8</td>\n      <td>8</td>\n      <td>8</td>\n      <td>8</td>\n      <td>...</td>\n      <td>8</td>\n      <td>8</td>\n      <td>8</td>\n      <td>8</td>\n      <td>8</td>\n      <td>8</td>\n      <td>8</td>\n      <td>8</td>\n      <td>8</td>\n      <td>8</td>\n    </tr>\n    <tr>\n      <th>Kashif Bhatti</th>\n      <td>12</td>\n      <td>12</td>\n      <td>12</td>\n      <td>12</td>\n      <td>12</td>\n      <td>12</td>\n      <td>12</td>\n      <td>12</td>\n      <td>12</td>\n      <td>12</td>\n      <td>...</td>\n      <td>12</td>\n      <td>12</td>\n      <td>12</td>\n      <td>12</td>\n      <td>12</td>\n      <td>12</td>\n      <td>12</td>\n      <td>12</td>\n      <td>12</td>\n      <td>12</td>\n    </tr>\n    <tr>\n      <th>Mahmudullah</th>\n      <td>86</td>\n      <td>86</td>\n      <td>86</td>\n      <td>86</td>\n      <td>86</td>\n      <td>68</td>\n      <td>86</td>\n      <td>86</td>\n      <td>86</td>\n      <td>86</td>\n      <td>...</td>\n      <td>86</td>\n      <td>86</td>\n      <td>86</td>\n      <td>86</td>\n      <td>86</td>\n      <td>86</td>\n      <td>86</td>\n      <td>86</td>\n      <td>86</td>\n      <td>86</td>\n    </tr>\n    <tr>\n      <th>Mir Hamza</th>\n      <td>26</td>\n      <td>26</td>\n      <td>26</td>\n      <td>26</td>\n      <td>26</td>\n      <td>26</td>\n      <td>26</td>\n      <td>26</td>\n      <td>26</td>\n      <td>26</td>\n      <td>...</td>\n      <td>26</td>\n      <td>26</td>\n      <td>26</td>\n      <td>26</td>\n      <td>26</td>\n      <td>26</td>\n      <td>26</td>\n      <td>26</td>\n      <td>26</td>\n      <td>26</td>\n    </tr>\n    <tr>\n      <th>Mohammad Amir</th>\n      <td>225</td>\n      <td>225</td>\n      <td>225</td>\n      <td>225</td>\n      <td>225</td>\n      <td>225</td>\n      <td>225</td>\n      <td>225</td>\n      <td>225</td>\n      <td>225</td>\n      <td>...</td>\n      <td>225</td>\n      <td>225</td>\n      <td>225</td>\n      <td>225</td>\n      <td>225</td>\n      <td>225</td>\n      <td>225</td>\n      <td>225</td>\n      <td>225</td>\n      <td>225</td>\n    </tr>\n    <tr>\n      <th>Mohammad Asghar</th>\n      <td>103</td>\n      <td>103</td>\n      <td>103</td>\n      <td>103</td>\n      <td>103</td>\n      <td>103</td>\n      <td>103</td>\n      <td>103</td>\n      <td>103</td>\n      <td>103</td>\n      <td>...</td>\n      <td>103</td>\n      <td>103</td>\n      <td>103</td>\n      <td>103</td>\n      <td>103</td>\n      <td>103</td>\n      <td>103</td>\n      <td>103</td>\n      <td>103</td>\n      <td>103</td>\n    </tr>\n    <tr>\n      <th>Mohammad Hafeez</th>\n      <td>90</td>\n      <td>90</td>\n      <td>90</td>\n      <td>90</td>\n      <td>90</td>\n      <td>90</td>\n      <td>90</td>\n      <td>90</td>\n      <td>90</td>\n      <td>90</td>\n      <td>...</td>\n      <td>90</td>\n      <td>90</td>\n      <td>90</td>\n      <td>90</td>\n      <td>90</td>\n      <td>90</td>\n      <td>90</td>\n      <td>90</td>\n      <td>90</td>\n      <td>90</td>\n    </tr>\n    <tr>\n      <th>Mohammad Irfan</th>\n      <td>183</td>\n      <td>183</td>\n      <td>183</td>\n      <td>183</td>\n      <td>183</td>\n      <td>183</td>\n      <td>183</td>\n      <td>183</td>\n      <td>183</td>\n      <td>183</td>\n      <td>...</td>\n      <td>183</td>\n      <td>183</td>\n      <td>183</td>\n      <td>183</td>\n      <td>183</td>\n      <td>183</td>\n      <td>183</td>\n      <td>183</td>\n      <td>183</td>\n      <td>183</td>\n    </tr>\n    <tr>\n      <th>Mohammad Irfan (4)</th>\n      <td>125</td>\n      <td>125</td>\n      <td>125</td>\n      <td>125</td>\n      <td>125</td>\n      <td>125</td>\n      <td>125</td>\n      <td>125</td>\n      <td>125</td>\n      <td>125</td>\n      <td>...</td>\n      <td>125</td>\n      <td>125</td>\n      <td>125</td>\n      <td>125</td>\n      <td>125</td>\n      <td>125</td>\n      <td>125</td>\n      <td>125</td>\n      <td>125</td>\n      <td>125</td>\n    </tr>\n    <tr>\n      <th>Mohammad Nawaz (3)</th>\n      <td>201</td>\n      <td>201</td>\n      <td>201</td>\n      <td>201</td>\n      <td>201</td>\n      <td>183</td>\n      <td>201</td>\n      <td>201</td>\n      <td>201</td>\n      <td>201</td>\n      <td>...</td>\n      <td>201</td>\n      <td>201</td>\n      <td>201</td>\n      <td>201</td>\n      <td>201</td>\n      <td>201</td>\n      <td>201</td>\n      <td>201</td>\n      <td>201</td>\n      <td>201</td>\n    </tr>\n    <tr>\n      <th>Mohammad Sami</th>\n      <td>194</td>\n      <td>194</td>\n      <td>194</td>\n      <td>194</td>\n      <td>194</td>\n      <td>194</td>\n      <td>194</td>\n      <td>194</td>\n      <td>194</td>\n      <td>194</td>\n      <td>...</td>\n      <td>194</td>\n      <td>194</td>\n      <td>194</td>\n      <td>194</td>\n      <td>194</td>\n      <td>194</td>\n      <td>194</td>\n      <td>194</td>\n      <td>194</td>\n      <td>194</td>\n    </tr>\n    <tr>\n      <th>NLTC Perera</th>\n      <td>103</td>\n      <td>103</td>\n      <td>103</td>\n      <td>103</td>\n      <td>103</td>\n      <td>97</td>\n      <td>103</td>\n      <td>103</td>\n      <td>103</td>\n      <td>103</td>\n      <td>...</td>\n      <td>103</td>\n      <td>103</td>\n      <td>103</td>\n      <td>103</td>\n      <td>103</td>\n      <td>103</td>\n      <td>103</td>\n      <td>103</td>\n      <td>103</td>\n      <td>103</td>\n    </tr>\n    <tr>\n      <th>RR Emrit</th>\n      <td>24</td>\n      <td>24</td>\n      <td>24</td>\n      <td>24</td>\n      <td>24</td>\n      <td>24</td>\n      <td>24</td>\n      <td>24</td>\n      <td>24</td>\n      <td>24</td>\n      <td>...</td>\n      <td>24</td>\n      <td>24</td>\n      <td>24</td>\n      <td>24</td>\n      <td>24</td>\n      <td>24</td>\n      <td>24</td>\n      <td>24</td>\n      <td>24</td>\n      <td>24</td>\n    </tr>\n    <tr>\n      <th>RR Rossouw</th>\n      <td>6</td>\n      <td>6</td>\n      <td>6</td>\n      <td>6</td>\n      <td>6</td>\n      <td>0</td>\n      <td>6</td>\n      <td>6</td>\n      <td>6</td>\n      <td>6</td>\n      <td>...</td>\n      <td>6</td>\n      <td>6</td>\n      <td>6</td>\n      <td>6</td>\n      <td>6</td>\n      <td>6</td>\n      <td>6</td>\n      <td>6</td>\n      <td>6</td>\n      <td>6</td>\n    </tr>\n    <tr>\n      <th>RS Bopara</th>\n      <td>55</td>\n      <td>55</td>\n      <td>55</td>\n      <td>55</td>\n      <td>55</td>\n      <td>55</td>\n      <td>55</td>\n      <td>55</td>\n      <td>55</td>\n      <td>55</td>\n      <td>...</td>\n      <td>55</td>\n      <td>55</td>\n      <td>55</td>\n      <td>55</td>\n      <td>55</td>\n      <td>55</td>\n      <td>55</td>\n      <td>55</td>\n      <td>55</td>\n      <td>55</td>\n    </tr>\n    <tr>\n      <th>Rumman Raees</th>\n      <td>161</td>\n      <td>161</td>\n      <td>161</td>\n      <td>161</td>\n      <td>161</td>\n      <td>161</td>\n      <td>161</td>\n      <td>161</td>\n      <td>161</td>\n      <td>161</td>\n      <td>...</td>\n      <td>161</td>\n      <td>161</td>\n      <td>161</td>\n      <td>161</td>\n      <td>161</td>\n      <td>161</td>\n      <td>161</td>\n      <td>161</td>\n      <td>161</td>\n      <td>161</td>\n    </tr>\n    <tr>\n      <th>S Badree</th>\n      <td>18</td>\n      <td>18</td>\n      <td>18</td>\n      <td>18</td>\n      <td>18</td>\n      <td>18</td>\n      <td>18</td>\n      <td>18</td>\n      <td>18</td>\n      <td>18</td>\n      <td>...</td>\n      <td>18</td>\n      <td>18</td>\n      <td>18</td>\n      <td>18</td>\n      <td>18</td>\n      <td>18</td>\n      <td>18</td>\n      <td>18</td>\n      <td>18</td>\n      <td>18</td>\n    </tr>\n    <tr>\n      <th>SP Narine</th>\n      <td>198</td>\n      <td>198</td>\n      <td>198</td>\n      <td>198</td>\n      <td>198</td>\n      <td>198</td>\n      <td>198</td>\n      <td>198</td>\n      <td>198</td>\n      <td>198</td>\n      <td>...</td>\n      <td>198</td>\n      <td>198</td>\n      <td>198</td>\n      <td>198</td>\n      <td>198</td>\n      <td>198</td>\n      <td>198</td>\n      <td>198</td>\n      <td>198</td>\n      <td>198</td>\n    </tr>\n    <tr>\n      <th>SR Watson</th>\n      <td>146</td>\n      <td>146</td>\n      <td>146</td>\n      <td>146</td>\n      <td>146</td>\n      <td>146</td>\n      <td>146</td>\n      <td>146</td>\n      <td>146</td>\n      <td>146</td>\n      <td>...</td>\n      <td>146</td>\n      <td>146</td>\n      <td>146</td>\n      <td>146</td>\n      <td>146</td>\n      <td>146</td>\n      <td>146</td>\n      <td>146</td>\n      <td>146</td>\n      <td>146</td>\n    </tr>\n    <tr>\n      <th>Saad Nasim</th>\n      <td>6</td>\n      <td>6</td>\n      <td>6</td>\n      <td>6</td>\n      <td>6</td>\n      <td>6</td>\n      <td>6</td>\n      <td>6</td>\n      <td>6</td>\n      <td>6</td>\n      <td>...</td>\n      <td>6</td>\n      <td>6</td>\n      <td>6</td>\n      <td>6</td>\n      <td>6</td>\n      <td>6</td>\n      <td>6</td>\n      <td>6</td>\n      <td>6</td>\n      <td>6</td>\n    </tr>\n    <tr>\n      <th>Saeed Ajmal</th>\n      <td>71</td>\n      <td>71</td>\n      <td>71</td>\n      <td>71</td>\n      <td>71</td>\n      <td>71</td>\n      <td>71</td>\n      <td>71</td>\n      <td>71</td>\n      <td>71</td>\n      <td>...</td>\n      <td>71</td>\n      <td>71</td>\n      <td>71</td>\n      <td>71</td>\n      <td>71</td>\n      <td>71</td>\n      <td>71</td>\n      <td>71</td>\n      <td>71</td>\n      <td>71</td>\n    </tr>\n    <tr>\n      <th>Shadab Khan</th>\n      <td>159</td>\n      <td>159</td>\n      <td>159</td>\n      <td>159</td>\n      <td>159</td>\n      <td>159</td>\n      <td>159</td>\n      <td>159</td>\n      <td>159</td>\n      <td>159</td>\n      <td>...</td>\n      <td>159</td>\n      <td>159</td>\n      <td>159</td>\n      <td>159</td>\n      <td>159</td>\n      <td>159</td>\n      <td>159</td>\n      <td>159</td>\n      <td>159</td>\n      <td>159</td>\n    </tr>\n    <tr>\n      <th>Shahid Afridi</th>\n      <td>170</td>\n      <td>170</td>\n      <td>170</td>\n      <td>170</td>\n      <td>170</td>\n      <td>170</td>\n      <td>170</td>\n      <td>170</td>\n      <td>170</td>\n      <td>170</td>\n      <td>...</td>\n      <td>170</td>\n      <td>170</td>\n      <td>170</td>\n      <td>170</td>\n      <td>170</td>\n      <td>170</td>\n      <td>170</td>\n      <td>170</td>\n      <td>170</td>\n      <td>170</td>\n    </tr>\n    <tr>\n      <th>Shakib Al Hasan</th>\n      <td>74</td>\n      <td>74</td>\n      <td>74</td>\n      <td>74</td>\n      <td>74</td>\n      <td>74</td>\n      <td>74</td>\n      <td>74</td>\n      <td>74</td>\n      <td>74</td>\n      <td>...</td>\n      <td>74</td>\n      <td>74</td>\n      <td>74</td>\n      <td>74</td>\n      <td>74</td>\n      <td>74</td>\n      <td>74</td>\n      <td>74</td>\n      <td>74</td>\n      <td>74</td>\n    </tr>\n    <tr>\n      <th>Shoaib Malik</th>\n      <td>69</td>\n      <td>69</td>\n      <td>69</td>\n      <td>69</td>\n      <td>69</td>\n      <td>69</td>\n      <td>69</td>\n      <td>69</td>\n      <td>69</td>\n      <td>69</td>\n      <td>...</td>\n      <td>69</td>\n      <td>69</td>\n      <td>69</td>\n      <td>69</td>\n      <td>69</td>\n      <td>69</td>\n      <td>69</td>\n      <td>69</td>\n      <td>69</td>\n      <td>69</td>\n    </tr>\n    <tr>\n      <th>Sohail Khan</th>\n      <td>196</td>\n      <td>196</td>\n      <td>196</td>\n      <td>196</td>\n      <td>196</td>\n      <td>196</td>\n      <td>196</td>\n      <td>196</td>\n      <td>196</td>\n      <td>196</td>\n      <td>...</td>\n      <td>196</td>\n      <td>196</td>\n      <td>196</td>\n      <td>196</td>\n      <td>196</td>\n      <td>196</td>\n      <td>196</td>\n      <td>196</td>\n      <td>196</td>\n      <td>196</td>\n    </tr>\n    <tr>\n      <th>Sohail Tanvir</th>\n      <td>186</td>\n      <td>186</td>\n      <td>186</td>\n      <td>186</td>\n      <td>186</td>\n      <td>186</td>\n      <td>186</td>\n      <td>186</td>\n      <td>186</td>\n      <td>186</td>\n      <td>...</td>\n      <td>186</td>\n      <td>186</td>\n      <td>186</td>\n      <td>186</td>\n      <td>186</td>\n      <td>186</td>\n      <td>186</td>\n      <td>186</td>\n      <td>186</td>\n      <td>186</td>\n    </tr>\n    <tr>\n      <th>TS Mills</th>\n      <td>135</td>\n      <td>135</td>\n      <td>135</td>\n      <td>135</td>\n      <td>135</td>\n      <td>135</td>\n      <td>135</td>\n      <td>135</td>\n      <td>135</td>\n      <td>135</td>\n      <td>...</td>\n      <td>135</td>\n      <td>135</td>\n      <td>135</td>\n      <td>135</td>\n      <td>135</td>\n      <td>135</td>\n      <td>135</td>\n      <td>135</td>\n      <td>135</td>\n      <td>135</td>\n    </tr>\n    <tr>\n      <th>Umar Gul</th>\n      <td>24</td>\n      <td>24</td>\n      <td>24</td>\n      <td>24</td>\n      <td>24</td>\n      <td>24</td>\n      <td>24</td>\n      <td>24</td>\n      <td>24</td>\n      <td>24</td>\n      <td>...</td>\n      <td>24</td>\n      <td>24</td>\n      <td>24</td>\n      <td>24</td>\n      <td>24</td>\n      <td>24</td>\n      <td>24</td>\n      <td>24</td>\n      <td>24</td>\n      <td>24</td>\n    </tr>\n    <tr>\n      <th>Usama Mir</th>\n      <td>170</td>\n      <td>170</td>\n      <td>170</td>\n      <td>170</td>\n      <td>170</td>\n      <td>170</td>\n      <td>170</td>\n      <td>170</td>\n      <td>170</td>\n      <td>170</td>\n      <td>...</td>\n      <td>170</td>\n      <td>170</td>\n      <td>170</td>\n      <td>170</td>\n      <td>170</td>\n      <td>170</td>\n      <td>170</td>\n      <td>170</td>\n      <td>170</td>\n      <td>170</td>\n    </tr>\n    <tr>\n      <th>Usman Khan</th>\n      <td>162</td>\n      <td>162</td>\n      <td>162</td>\n      <td>162</td>\n      <td>162</td>\n      <td>162</td>\n      <td>162</td>\n      <td>162</td>\n      <td>162</td>\n      <td>162</td>\n      <td>...</td>\n      <td>162</td>\n      <td>162</td>\n      <td>162</td>\n      <td>162</td>\n      <td>162</td>\n      <td>162</td>\n      <td>162</td>\n      <td>162</td>\n      <td>162</td>\n      <td>162</td>\n    </tr>\n    <tr>\n      <th>Wahab Riaz</th>\n      <td>208</td>\n      <td>208</td>\n      <td>208</td>\n      <td>208</td>\n      <td>208</td>\n      <td>208</td>\n      <td>208</td>\n      <td>208</td>\n      <td>208</td>\n      <td>208</td>\n      <td>...</td>\n      <td>208</td>\n      <td>208</td>\n      <td>208</td>\n      <td>208</td>\n      <td>208</td>\n      <td>208</td>\n      <td>208</td>\n      <td>208</td>\n      <td>208</td>\n      <td>208</td>\n    </tr>\n    <tr>\n      <th>Yasir Shah</th>\n      <td>171</td>\n      <td>171</td>\n      <td>171</td>\n      <td>171</td>\n      <td>171</td>\n      <td>171</td>\n      <td>171</td>\n      <td>171</td>\n      <td>171</td>\n      <td>171</td>\n      <td>...</td>\n      <td>171</td>\n      <td>171</td>\n      <td>171</td>\n      <td>171</td>\n      <td>171</td>\n      <td>171</td>\n      <td>171</td>\n      <td>171</td>\n      <td>171</td>\n      <td>171</td>\n    </tr>\n    <tr>\n      <th>Zohaib Khan</th>\n      <td>6</td>\n      <td>6</td>\n      <td>6</td>\n      <td>6</td>\n      <td>6</td>\n      <td>6</td>\n      <td>6</td>\n      <td>6</td>\n      <td>6</td>\n      <td>6</td>\n      <td>...</td>\n      <td>6</td>\n      <td>6</td>\n      <td>6</td>\n      <td>6</td>\n      <td>6</td>\n      <td>6</td>\n      <td>6</td>\n      <td>6</td>\n      <td>6</td>\n      <td>6</td>\n    </tr>\n    <tr>\n      <th>Zulfiqar Babar</th>\n      <td>196</td>\n      <td>196</td>\n      <td>196</td>\n      <td>196</td>\n      <td>196</td>\n      <td>173</td>\n      <td>196</td>\n      <td>196</td>\n      <td>196</td>\n      <td>196</td>\n      <td>...</td>\n      <td>196</td>\n      <td>196</td>\n      <td>196</td>\n      <td>196</td>\n      <td>196</td>\n      <td>196</td>\n      <td>196</td>\n      <td>196</td>\n      <td>196</td>\n      <td>196</td>\n    </tr>\n  </tbody>\n</table>\n<p>54 rows × 21 columns</p>\n</div>"
          },
          "metadata": {},
          "execution_count": 93
        }
      ],
      "source": []
    },
    {
      "cell_type": "code",
      "execution_count": null,
      "metadata": {},
      "outputs": [],
      "source": []
    }
  ]
}